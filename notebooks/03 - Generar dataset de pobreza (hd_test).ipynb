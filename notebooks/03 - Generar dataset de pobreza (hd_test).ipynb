{
 "cells": [
  {
   "cell_type": "code",
   "execution_count": 1,
   "metadata": {},
   "outputs": [
    {
     "data": {
      "text/html": [
       "<style>.container { width:100% !important; }</style>"
      ],
      "text/plain": [
       "<IPython.core.display.HTML object>"
      ]
     },
     "metadata": {},
     "output_type": "display_data"
    }
   ],
   "source": [
    "import pandas as pd\n",
    "import matplotlib.pyplot as plt\n",
    "import seaborn as sns\n",
    "\n",
    "pd.options.display.max_columns = 60\n",
    "pd.options.display.max_rows = 500\n",
    "import warnings\n",
    "warnings.filterwarnings('ignore')\n",
    "\n",
    "import dask.dataframe as dd\n",
    "from dask.diagnostics import ProgressBar\n",
    "\n",
    "import os\n",
    "\n",
    "import numpy as np\n",
    "\n",
    "from IPython.core.display import display, HTML\n",
    "display(HTML(\"<style>.container { width:100% !important; }</style>\"))"
   ]
  },
  {
   "cell_type": "code",
   "execution_count": 2,
   "metadata": {},
   "outputs": [],
   "source": [
    "frac = '1.0'"
   ]
  },
  {
   "cell_type": "code",
   "execution_count": 3,
   "metadata": {},
   "outputs": [],
   "source": [
    "# Adulto equivalente. Cuanto cuesta la manutencion de las personas segun sexo y edad.\n",
    "ad_eq = pd.read_csv('./../data/info/adulto_eq.csv')\n",
    "\n",
    "#Importar canasta basica regional deflac\n",
    "CB_ipc = pd.read_csv('./../data/info/CB_Reg_defl.csv')\n",
    "\n",
    "ppp_defl = pd.read_csv('./../data/info/ppp_defl.csv')\n",
    "\n",
    "# Load radio ref. Merge regiones.\n",
    "# Anything that is AGLOMERADO 33 should be region Gran Buenos Aires\n",
    "\n",
    "radio_ref = pd.read_csv('./../data/info/radio_ref.csv').merge(pd.read_csv('./../data/info/prov_regs.csv'), how = 'left')\n",
    "\n",
    "radio_ref = pd.read_csv('./../data/info/radio_ref.csv')#.merge(aglo_labels)\n",
    "dpto_region = pd.read_csv('./../data/info/DPTO_PROV_Region.csv')\n",
    "radio_ref = radio_ref.merge(dpto_region)\n",
    "\n",
    "# DPTO_Region = radio_ref[['DPTO', 'Region']].drop_duplicates()"
   ]
  },
  {
   "cell_type": "code",
   "execution_count": 4,
   "metadata": {},
   "outputs": [],
   "source": [
    "dpto_region = pd.read_csv('./../data/info/DPTO_PROV_Region.csv')\n",
    "DPTO_Region = radio_ref[['DPTO', 'Region']].drop_duplicates()\n",
    "\n",
    "DPTO_Region.Region = DPTO_Region.Region.map({'Gran Buenos Aires': 'gran_buenos_aires',\n",
    "                                            'Pampeana': 'pampeana',\n",
    "                                             'Noroeste': 'noroeste',\n",
    "                                             'Noreste': 'noreste',\n",
    "                                             'Patagónica': 'patagonia',\n",
    "                                             'Cuyo': 'cuyo'})"
   ]
  },
  {
   "cell_type": "markdown",
   "metadata": {},
   "source": [
    "## 1.  Resultados estaticos (se toma 1 año)"
   ]
  },
  {
   "cell_type": "code",
   "execution_count": 5,
   "metadata": {},
   "outputs": [
    {
     "data": {
      "text/plain": [
       "['/media/miglesia/Elements/suite/yr_samples/RFReg_1.0_2021-08-15_hd_test.csv',\n",
       " '/media/miglesia/Elements/suite/yr_samples/RFReg_1.0_2021-11-15_hd_test.csv']"
      ]
     },
     "execution_count": 5,
     "metadata": {},
     "output_type": "execute_result"
    }
   ],
   "source": [
    "import glob\n",
    "# path ='./data/RFReg_' # use your path\n",
    "# path ='./../../encuestador-de-hogares/data/yr_samples/RFReg_' # use your path\n",
    "path ='/media/miglesia/Elements/suite/yr_samples/RFReg_'\n",
    "experiment_tag = 'hd_test'\n",
    "\n",
    "allFiles = []\n",
    "for year in [str(s) for s in range(2019, 2022)]:\n",
    "    allFiles += glob.glob(path +str(frac)+ '*'+str(year)+'*_'+experiment_tag+'.csv')\n",
    "    # Estos son los archivos que se usan para tener una figura estatica, corte donde no importa evol. temporal.\n",
    "\n",
    "allFiles = sorted(allFiles)[-2:] # ultimo anio\n",
    "allFiles"
   ]
  },
  {
   "cell_type": "code",
   "execution_count": 6,
   "metadata": {},
   "outputs": [
    {
     "data": {
      "text/plain": [
       "'2021'"
      ]
     },
     "execution_count": 6,
     "metadata": {},
     "output_type": "execute_result"
    }
   ],
   "source": [
    "# years = np.unique([int(f[-14:-10]) for f in  allFiles])\n",
    "years = np.unique([int(f[-22:-18]) for f in  allFiles[-4:]]) # ultimo anio \n",
    "years = np.unique([int(f[-22:-18]) for f in  allFiles[-8:]]) # ultimos 2 anios\n",
    "# f[-18:-14] # Depende de la convencion para nombrar el archivo\n",
    "\n",
    "if len(years) == 1:\n",
    "    yr_label = str(years[0])\n",
    "else:\n",
    "    yr_label = '-'.join([str(years.min()), str(years.max())])\n",
    "    \n",
    "yr_label"
   ]
  },
  {
   "cell_type": "code",
   "execution_count": 7,
   "metadata": {},
   "outputs": [
    {
     "name": "stdout",
     "output_type": "stream",
     "text": [
      "2021-08-15\n",
      "2021-11-15\n"
     ]
    }
   ],
   "source": [
    "\n",
    "df_parts = []\n",
    "for quarter_Xy_file in sorted(allFiles)[-8:]:# ultimo anio\n",
    "    df_Q = pd.read_csv(quarter_Xy_file, \n",
    "                           usecols = ['PERSONA_REF_ID', 'HOGAR_REF_ID','RADIO_REF_ID', 'CONDACT', 'CAT_INAC', 'CAT_OCUP',\n",
    "                                      'IX_TOT', 'H16', 'H15','P47T', 'P03','P02', 'P09','P10', 'DPTO', 'PP07K'])\n",
    "    df_Q['ANO4'] = int(quarter_Xy_file[-22:-18])\n",
    "    q = quarter_Xy_file[-22:-12]; print(q)\n",
    "    df_Q['Q'] = q\n",
    "    df_parts += [df_Q]\n",
    "\n",
    "df = pd.concat(df_parts)\n",
    "del df_Q\n"
   ]
  },
  {
   "cell_type": "code",
   "execution_count": 8,
   "metadata": {},
   "outputs": [
    {
     "data": {
      "text/plain": [
       "[('df', 95357246),\n",
       " ('radio_ref', 17219219),\n",
       " ('dpto_region', 120394),\n",
       " ('CB_ipc', 71584),\n",
       " ('DPTO_Region', 42613),\n",
       " ('ppp_defl', 8769),\n",
       " ('ad_eq', 5472)]"
      ]
     },
     "execution_count": 8,
     "metadata": {},
     "output_type": "execute_result"
    }
   ],
   "source": [
    "import sys\n",
    "\n",
    "# These are the usual ipython objects, including this one you are creating\n",
    "ipython_vars = ['In', 'Out', 'exit', 'quit', 'get_ipython', 'ipython_vars']\n",
    "\n",
    "# # Get a sorted list of the objects and their sizes\n",
    "sorted([(x, sys.getsizeof(globals().get(x))) for x in dir() if not x.startswith('_') and x not in sys.modules and x not in ipython_vars], key=lambda x: x[1], reverse=True)[:7]"
   ]
  },
  {
   "cell_type": "code",
   "execution_count": 9,
   "metadata": {},
   "outputs": [],
   "source": [
    "\n",
    "columnas_pesos = ['P47T']\n",
    "df[columnas_pesos] = np.power(10, df[columnas_pesos]) - 1\n",
    "\n",
    "# # df.PERSONA_REF_ID.nunique()\n",
    "# 1756665 - 891932 - 884035 = -19302\n",
    "\n",
    "# use means:\n",
    "# ddf = dd.from_pandas(df, npartitions=50);\n",
    "# with ProgressBar():\n",
    "#     df = ddf.groupby(['PERSONA_REF_ID','Q']).mean().compute() \n",
    "## Hay una pequena cantidad de duplicados, gente que fue sampleada mas de una vez, y a las que el modelo les dio el mismo resultado en repetidas veces.\n",
    "# El unico problemita que dan es que los hogares donde estan se agruparian en uno solo. \n",
    "# Quizas se corrige sacando el sampleo con replacement.\n",
    "# Por ahora ignoro el detalle\n",
    "\n",
    "# Editar columnas\n",
    "df['P10'] = 2 - df['P10']\n",
    "df['P09'] = df.P09.replace(5, 4) #Polimodal tomado como secundario \n",
    "\n",
    "# df = df.astype(int)\n",
    "df['P0910'] = df.P09.astype(str) + df.P10.astype(str)\n",
    "# df['Grupo_Etario_3'] = pd.cut(df.P03, np.arange(-1, 80, 3))#.round(-1)\n",
    "# df['Grupo_Etario_INDEC'] = pd.cut(df.P03, np.array([0, 14, 29, 64, 110]))#.round(-1)\n",
    "# df['Grupo_Etario_q10'] = pd.cut(df.P03, np.array([-0.001, 5.0,  11.0, 17.0, 23.0, 29.0, 36.0, 44.0, 53.0, 65.0, 110.0]))#.round(-1)\n",
    "\n",
    "df = df.reset_index()\n"
   ]
  },
  {
   "cell_type": "code",
   "execution_count": null,
   "metadata": {},
   "outputs": [],
   "source": []
  },
  {
   "cell_type": "code",
   "execution_count": 10,
   "metadata": {},
   "outputs": [
    {
     "data": {
      "text/plain": [
       "[('df', 122021244),\n",
       " ('radio_ref', 17219219),\n",
       " ('dpto_region', 120394),\n",
       " ('CB_ipc', 71584),\n",
       " ('DPTO_Region', 42613),\n",
       " ('ppp_defl', 8769),\n",
       " ('ad_eq', 5472)]"
      ]
     },
     "execution_count": 10,
     "metadata": {},
     "output_type": "execute_result"
    }
   ],
   "source": [
    "# # Get a sorted list of the objects and their sizes\n",
    "sorted([(x, sys.getsizeof(globals().get(x))) for x in dir() if not x.startswith('_') and x not in sys.modules and x not in ipython_vars], key=lambda x: x[1], reverse=True)[:7]\n"
   ]
  },
  {
   "cell_type": "code",
   "execution_count": null,
   "metadata": {},
   "outputs": [],
   "source": []
  },
  {
   "cell_type": "code",
   "execution_count": 11,
   "metadata": {},
   "outputs": [
    {
     "data": {
      "text/plain": [
       "Q\n",
       "2021-08-15    225965\n",
       "2021-11-15    225965\n",
       "dtype: int64"
      ]
     },
     "execution_count": 11,
     "metadata": {},
     "output_type": "execute_result"
    }
   ],
   "source": [
    "df.groupby('Q').size()"
   ]
  },
  {
   "cell_type": "code",
   "execution_count": 12,
   "metadata": {},
   "outputs": [
    {
     "data": {
      "text/plain": [
       "(451930, 20)"
      ]
     },
     "execution_count": 12,
     "metadata": {},
     "output_type": "execute_result"
    }
   ],
   "source": [
    "df.shape"
   ]
  },
  {
   "cell_type": "markdown",
   "metadata": {},
   "source": [
    "### Canasta y Pobreza"
   ]
  },
  {
   "cell_type": "code",
   "execution_count": 13,
   "metadata": {},
   "outputs": [],
   "source": [
    "experiment_tag = 'hd_test'"
   ]
  },
  {
   "cell_type": "code",
   "execution_count": 14,
   "metadata": {},
   "outputs": [],
   "source": [
    "df_cb = df.merge(ad_eq).merge(DPTO_Region).merge(CB_ipc)#.merge(ppp_defl[['Q', 'ppp_5usd_ARS_deflac']])\n",
    "\n",
    "# df_cb_hogares = df_cb.groupby(['HOGAR_REF_ID', 'Q'])[['P47T','CBA', 'CBT', 'CB_EQUIV', 'ppp_5usd_ARS_deflac']].sum()\n",
    "df_cb_hogares = df_cb.groupby(['HOGAR_REF_ID', 'Q'])[['P47T','CBA', 'CBT', 'CB_EQUIV']].sum()\n",
    "# del df_cb # Ahorrar memoria\n",
    "\n",
    "df_cb_hogares['Pobreza'] = df_cb_hogares['P47T'] < df_cb_hogares['CBT']\n",
    "df_cb_hogares['Indigencia'] = df_cb_hogares['P47T'] < df_cb_hogares['CBA']\n",
    "# df_cb_hogares['Pobreza_5usd'] = df_cb_hogares['P47T'] < df_cb_hogares['ppp_5usd_ARS_deflac']\n",
    "# pobreza_hogares = df_cb_hogares[['P47T','CBA','CBT', 'CB_EQUIV','Pobreza', 'Indigencia', 'Pobreza_5usd']].reset_index()\n",
    "pobreza_hogares = df_cb_hogares[['P47T','CBA','CBT', 'CB_EQUIV','Pobreza', 'Indigencia']].reset_index()\n",
    "pobreza_hogares['gap_pobreza'] = pobreza_hogares.P47T - pobreza_hogares.CBT\n",
    "pobreza_hogares['gap_indigencia'] = pobreza_hogares.P47T - pobreza_hogares.CBA\n",
    "pobreza_hogares = pobreza_hogares.rename(columns = {'P47T': 'P47T_hogar'})\n",
    "\n",
    "# df = df.sample(25000)\n",
    "data = df.merge(pobreza_hogares, on = ['HOGAR_REF_ID', 'Q'])#, how = 'left')\n",
    "# del df; del pobreza_hogares # Ahorrar memoria\n",
    "\n",
    "data = data.rename(columns = {'P47T': 'P47T_persona'})\n",
    "\n",
    "# data = data\n",
    "data = data.merge(radio_ref[['RADIO_REF_ID', 'IDFRAC', 'PROV', 'NOMPROV', 'AGLOMERADO']].drop_duplicates())\n",
    "\n",
    "if not os.path.exists('./../data/Pobreza/'):\n",
    "    os.makedirs('./../data/Pobreza/')\n",
    "filename = './../data/Pobreza/pobreza_'+'_'.join([str(frac), yr_label, experiment_tag])+'.csv'\n",
    "data.to_csv(filename, index = False)\n"
   ]
  },
  {
   "cell_type": "code",
   "execution_count": 15,
   "metadata": {},
   "outputs": [
    {
     "data": {
      "text/plain": [
       "count     347.000000\n",
       "mean     1302.391931\n",
       "std       553.636728\n",
       "min        88.000000\n",
       "25%       971.000000\n",
       "50%      1308.000000\n",
       "75%      1612.000000\n",
       "max      4154.000000\n",
       "dtype: float64"
      ]
     },
     "execution_count": 15,
     "metadata": {},
     "output_type": "execute_result"
    }
   ],
   "source": [
    "data.groupby('RADIO_REF_ID').size().describe()"
   ]
  },
  {
   "cell_type": "markdown",
   "metadata": {},
   "source": [
    "## Sintetizar (Stats a nivel Radio)"
   ]
  },
  {
   "cell_type": "code",
   "execution_count": 35,
   "metadata": {},
   "outputs": [
    {
     "data": {
      "text/plain": [
       "Emp_blanco    0.240661\n",
       "Emp_negro     0.155774\n",
       "Monotrib      0.120698\n",
       "Otros_n.a.    0.482867\n",
       "dtype: float64"
      ]
     },
     "execution_count": 35,
     "metadata": {},
     "output_type": "execute_result"
    }
   ],
   "source": [
    "data[['Emp_blanco', 'Emp_negro', 'Monotrib', 'Otros_n.a.']].mean()"
   ]
  },
  {
   "cell_type": "code",
   "execution_count": 23,
   "metadata": {},
   "outputs": [],
   "source": [
    "### Sintetizadores\n",
    "import datetime as dt\n",
    "\n",
    "## Base Personas\n",
    "def sintetizar_P(data, grouper, frac = 0.1):\n",
    "    df = data.copy()\n",
    "    df['Total'] = True\n",
    "    df['timestamp'] = dt.datetime.today()\n",
    "    \n",
    "#     # Funciones percentil\n",
    "#     percentiles = [.10, .25, .75, .9, .2]\n",
    "#     quantile_funcs = [(p, lambda x: x.quantile(p)) for p in percentiles]\n",
    "\n",
    "    df = df.groupby(grouper + ['timestamp'])[['Total', 'Pobreza', 'Indigencia','P47T_persona', 'Emp_blanco', 'Emp_negro', 'Monotrib']].agg(\n",
    "        {'Total': ['mean', 'sum'], \n",
    "         'Pobreza': ['mean', 'sum'], \n",
    "         'Indigencia': ['mean', 'sum'],\n",
    "         'Emp_blanco': ['mean', 'sum'], \n",
    "         'Emp_negro': ['mean', 'sum'], \n",
    "         'Monotrib': ['mean', 'sum'], \n",
    "         'P47T_persona':['mean', q10, q25, 'median', q75, q90]})\n",
    "    \n",
    "    df[[('Total', 'sum')]] = (df[[('Total', 'sum')]]/frac).round(1)#.astype(int)\n",
    "    df[[('Pobreza', 'sum')]] = (df[[('Pobreza', 'sum')]]/frac).round(1)#.astype(int)\n",
    "    df[[('Indigencia', 'sum')]] = (df[[('Indigencia', 'sum')]]/frac).round(1)#.astype(int)\n",
    "    df[[('Total', 'mean')]] = df[[('Total', 'mean')]].round(4)\n",
    "    df[[('Pobreza', 'mean')]] = df[[('Pobreza', 'mean')]].round(4)\n",
    "    df[[('Emp_blanco', 'mean')]] = df[[('Emp_blanco', 'mean')]].round(4)\n",
    "    df[[('Emp_negro', 'mean')]] = df[[('Emp_negro', 'mean')]].round(4)\n",
    "    df[[('Monotrib', 'mean')]] = df[[('Monotrib', 'mean')]].round(4)\n",
    "    \n",
    "    df['P47T_persona'] = df['P47T_persona'].round(-1).astype(int)\n",
    "    \n",
    "    dfB = df.T.set_index(np.repeat('Personas', df.shape[1]), append=True)\n",
    "       \n",
    "#     dfB = dfB.stack().stack().stack().reset_index()\n",
    "    stacker_ix = [-i for i in range(len(grouper) + 1)]\n",
    "    dfB = dfB.stack(level = stacker_ix).reset_index()\n",
    "    \n",
    "    dfB = dfB.rename(columns = {'level_0': 'observable', 'level_1': 'sintetico', 'level_2': 'base', 0: 'valor'})\n",
    "    dfB['frac'] = frac\n",
    "    return dfB\n",
    "\n",
    "def sintetizar_H(data, grouper, frac = 0.01):\n",
    "    df = data.copy()\n",
    "    df = df.groupby('HOGAR_REF_ID').first()\n",
    "    df['Total'] = True\n",
    "    df['timestamp'] = dt.datetime.today()\n",
    "\n",
    "#     # Funciones percentil\n",
    "#     percentiles = [.10, .25, .75, .9, .2]\n",
    "#     quantile_funcs = [(p, lambda x: x.quantile(p)) for p in percentiles]\n",
    "\n",
    "    df = df.groupby(grouper + ['timestamp'])[['Total', 'Pobreza', 'Indigencia', 'P47T_hogar', 'CB_EQUIV', 'CBA', \n",
    "                                              'gap_indigencia', 'CBT', 'gap_pobreza']\n",
    "                            ].agg({'Total': ['mean', 'sum'], \n",
    "                                   'Pobreza': ['mean', 'sum'], \n",
    "                                   'Indigencia': ['mean', 'sum'], \n",
    "                                   'P47T_hogar': ['mean', q10, q25, 'median', q75, q90],\n",
    "                                   'CB_EQUIV': ['mean', 'median'],     \n",
    "                                   'CBA': ['mean', 'median'], \n",
    "                                   'CBT': ['mean', 'median'], \n",
    "                                   'gap_indigencia': ['mean', 'median'], \n",
    "                                   'gap_pobreza': ['mean', 'median']})\n",
    "        \n",
    "    df[[('Total', 'sum')]] = (df[[('Total', 'sum')]]/frac).round(1)#.astype(int)\n",
    "    df[[('Pobreza', 'sum')]] = (df[[('Pobreza', 'sum')]]/frac).round(1)#.astype(int)\n",
    "    df[[('Indigencia', 'sum')]] = (df[[('Indigencia', 'sum')]]/frac).round(1)#.astype(int)\n",
    "    df[[('Total', 'mean')]] = df[[('Total', 'mean')]].round(4)\n",
    "    df[[('Pobreza', 'mean')]] = df[[('Pobreza', 'mean')]].round(4)\n",
    "    df[[('Indigencia', 'mean')]] = df[[('Indigencia', 'mean')]].round(4)\n",
    "\n",
    "    df['CB_EQUIV'] = df['CB_EQUIV'].round(4)\n",
    "    \n",
    "    df['P47T_hogar'] = df['P47T_hogar'].round(-1).astype(int)\n",
    "    df['CBA'] = df['CBA'].round(-1).astype(int)\n",
    "    df['gap_indigencia'] = df['gap_indigencia'].round(-1).astype(int)\n",
    "    df['CBT'] = df['CBT'].round(-1).astype(int)\n",
    "    df['gap_pobreza'] = df['gap_pobreza'].round(-1).astype(int)\n",
    "    \n",
    "    dfC = df.T.set_index(np.repeat('Hogares', df.shape[1]), append=True)\n",
    "    dfC.index.names = ['observable', 'sintetico', 'base']\n",
    "    \n",
    "#     FrozenList(['observable', 'sintetico', 'base', 'timestamp', 'AGLOMERADO', 'Region', 'Q'])\n",
    "    \n",
    "# #     dfC = dfC.stack().stack().stack().reset_index()\n",
    "    stacker_ix = [-i for i in range(len(grouper) + 1)]\n",
    "    dfC = dfC.stack(level = stacker_ix).reset_index()\n",
    "#     # es como df.stack([-1, -2, -3, -4]) pero se adapta a groupers mas o menos largos\n",
    "#     dfC = dfC.stack(stacker_ix).reset_index()\n",
    "\n",
    "    dfC = dfC.rename(columns = {'level_0': 'observable', 'level_1': 'sintetico', 'level_2': 'base', 0: 'valor'})\n",
    "    dfC['frac'] = frac\n",
    "    return dfC\n",
    "\n",
    "# Percentile funcs\n",
    "def q10(x):\n",
    "    return x.quantile(0.1)\n",
    "\n",
    "def q25(x):\n",
    "    return x.quantile(0.25)\n",
    "\n",
    "def q75(x):\n",
    "    return x.quantile(0.75)\n",
    "\n",
    "def q90(x):\n",
    "    return x.quantile(0.9)"
   ]
  },
  {
   "cell_type": "code",
   "execution_count": 24,
   "metadata": {},
   "outputs": [
    {
     "data": {
      "text/plain": [
       "Index(['index', 'RADIO_REF_ID', 'DPTO', 'HOGAR_REF_ID', 'H15', 'H16',\n",
       "       'PERSONA_REF_ID', 'P02', 'P03', 'P09', 'P10', 'CONDACT', 'IX_TOT',\n",
       "       'CAT_OCUP', 'CAT_INAC', 'PP07K', 'P47T_persona', 'ANO4', 'Q', 'P0910',\n",
       "       'P47T_hogar', 'CBA', 'CBT', 'CB_EQUIV', 'Pobreza', 'Indigencia',\n",
       "       'gap_pobreza', 'gap_indigencia', 'IDFRAC', 'PROV', 'NOMPROV',\n",
       "       'AGLOMERADO', 'Emp_blanco', 'Emp_negro', 'Monotrib', 'Otros_n.a.'],\n",
       "      dtype='object')"
      ]
     },
     "execution_count": 24,
     "metadata": {},
     "output_type": "execute_result"
    }
   ],
   "source": [
    "data.columns"
   ]
  },
  {
   "cell_type": "code",
   "execution_count": 25,
   "metadata": {},
   "outputs": [],
   "source": [
    "data = pd.read_csv('./../data/Pobreza/pobreza_1.0_2021_hd_test.csv')\n",
    "\n",
    "data['Emp_blanco'] = (data.PP07K == 1)\n",
    "data['Emp_negro'] = (data.PP07K != 1) & (data.CAT_OCUP == 3)\n",
    "data['Monotrib'] = data.CAT_OCUP == 2\n",
    "data['Otros_n.a.'] = ~data.CAT_OCUP.isin([2, 3])"
   ]
  },
  {
   "cell_type": "code",
   "execution_count": 26,
   "metadata": {},
   "outputs": [],
   "source": [
    "grouper = ['PROV', 'DPTO', 'RADIO_REF_ID']\n",
    "frac = 0.1\n",
    "df_ = sintetizar_P(data, grouper, frac)"
   ]
  },
  {
   "cell_type": "code",
   "execution_count": 27,
   "metadata": {},
   "outputs": [
    {
     "data": {
      "text/plain": [
       "observable         7\n",
       "sintetico          7\n",
       "base               1\n",
       "PROV               1\n",
       "timestamp          1\n",
       "RADIO_REF_ID     347\n",
       "DPTO               2\n",
       "valor           2969\n",
       "frac               1\n",
       "dtype: int64"
      ]
     },
     "execution_count": 27,
     "metadata": {},
     "output_type": "execute_result"
    }
   ],
   "source": [
    "df_.nunique()"
   ]
  },
  {
   "cell_type": "code",
   "execution_count": 28,
   "metadata": {},
   "outputs": [
    {
     "data": {
      "text/plain": [
       "observable    sintetico\n",
       "Emp_blanco    mean         347\n",
       "              sum          347\n",
       "Emp_negro     mean         347\n",
       "              sum          347\n",
       "Indigencia    mean         347\n",
       "              sum          347\n",
       "Monotrib      mean         347\n",
       "              sum          347\n",
       "P47T_persona  mean         347\n",
       "              median       347\n",
       "              q10          347\n",
       "              q25          347\n",
       "              q75          347\n",
       "              q90          347\n",
       "Pobreza       mean         347\n",
       "              sum          347\n",
       "Total         mean         347\n",
       "              sum          347\n",
       "dtype: int64"
      ]
     },
     "execution_count": 28,
     "metadata": {},
     "output_type": "execute_result"
    }
   ],
   "source": [
    "df_.groupby(['observable', 'sintetico']).size()"
   ]
  },
  {
   "cell_type": "code",
   "execution_count": 40,
   "metadata": {},
   "outputs": [
    {
     "data": {
      "text/html": [
       "<div>\n",
       "<style scoped>\n",
       "    .dataframe tbody tr th:only-of-type {\n",
       "        vertical-align: middle;\n",
       "    }\n",
       "\n",
       "    .dataframe tbody tr th {\n",
       "        vertical-align: top;\n",
       "    }\n",
       "\n",
       "    .dataframe thead th {\n",
       "        text-align: right;\n",
       "    }\n",
       "</style>\n",
       "<table border=\"1\" class=\"dataframe\">\n",
       "  <thead>\n",
       "    <tr style=\"text-align: right;\">\n",
       "      <th></th>\n",
       "      <th>observable</th>\n",
       "      <th>sintetico</th>\n",
       "      <th>base</th>\n",
       "      <th>PROV</th>\n",
       "      <th>timestamp</th>\n",
       "      <th>RADIO_REF_ID</th>\n",
       "      <th>DPTO</th>\n",
       "      <th>valor</th>\n",
       "      <th>frac</th>\n",
       "    </tr>\n",
       "  </thead>\n",
       "  <tbody>\n",
       "    <tr>\n",
       "      <th>4931</th>\n",
       "      <td>P47T_persona</td>\n",
       "      <td>q25</td>\n",
       "      <td>Personas</td>\n",
       "      <td>6</td>\n",
       "      <td>2022-08-08 14:55:48.935786</td>\n",
       "      <td>5983</td>\n",
       "      <td>6408</td>\n",
       "      <td>0.000000</td>\n",
       "      <td>0.1</td>\n",
       "    </tr>\n",
       "    <tr>\n",
       "      <th>2869</th>\n",
       "      <td>Emp_negro</td>\n",
       "      <td>mean</td>\n",
       "      <td>Personas</td>\n",
       "      <td>6</td>\n",
       "      <td>2022-08-08 14:55:48.935786</td>\n",
       "      <td>6003</td>\n",
       "      <td>6408</td>\n",
       "      <td>0.214500</td>\n",
       "      <td>0.1</td>\n",
       "    </tr>\n",
       "    <tr>\n",
       "      <th>4620</th>\n",
       "      <td>P47T_persona</td>\n",
       "      <td>q10</td>\n",
       "      <td>Personas</td>\n",
       "      <td>6</td>\n",
       "      <td>2022-08-08 14:55:48.935786</td>\n",
       "      <td>6019</td>\n",
       "      <td>6408</td>\n",
       "      <td>0.000000</td>\n",
       "      <td>0.1</td>\n",
       "    </tr>\n",
       "    <tr>\n",
       "      <th>1950</th>\n",
       "      <td>Indigencia</td>\n",
       "      <td>sum</td>\n",
       "      <td>Personas</td>\n",
       "      <td>6</td>\n",
       "      <td>2022-08-08 14:55:48.935786</td>\n",
       "      <td>10971</td>\n",
       "      <td>6749</td>\n",
       "      <td>160.000000</td>\n",
       "      <td>0.1</td>\n",
       "    </tr>\n",
       "    <tr>\n",
       "      <th>2039</th>\n",
       "      <td>Indigencia</td>\n",
       "      <td>sum</td>\n",
       "      <td>Personas</td>\n",
       "      <td>6</td>\n",
       "      <td>2022-08-08 14:55:48.935786</td>\n",
       "      <td>11060</td>\n",
       "      <td>6749</td>\n",
       "      <td>1760.000000</td>\n",
       "      <td>0.1</td>\n",
       "    </tr>\n",
       "    <tr>\n",
       "      <th>1389</th>\n",
       "      <td>Indigencia</td>\n",
       "      <td>mean</td>\n",
       "      <td>Personas</td>\n",
       "      <td>6</td>\n",
       "      <td>2022-08-08 14:55:48.935786</td>\n",
       "      <td>5911</td>\n",
       "      <td>6408</td>\n",
       "      <td>0.047348</td>\n",
       "      <td>0.1</td>\n",
       "    </tr>\n",
       "    <tr>\n",
       "      <th>2762</th>\n",
       "      <td>Emp_blanco</td>\n",
       "      <td>sum</td>\n",
       "      <td>Personas</td>\n",
       "      <td>6</td>\n",
       "      <td>2022-08-08 14:55:48.935786</td>\n",
       "      <td>11089</td>\n",
       "      <td>6749</td>\n",
       "      <td>44.000000</td>\n",
       "      <td>0.1</td>\n",
       "    </tr>\n",
       "    <tr>\n",
       "      <th>1962</th>\n",
       "      <td>Indigencia</td>\n",
       "      <td>sum</td>\n",
       "      <td>Personas</td>\n",
       "      <td>6</td>\n",
       "      <td>2022-08-08 14:55:48.935786</td>\n",
       "      <td>10983</td>\n",
       "      <td>6749</td>\n",
       "      <td>1170.000000</td>\n",
       "      <td>0.1</td>\n",
       "    </tr>\n",
       "    <tr>\n",
       "      <th>2412</th>\n",
       "      <td>Emp_blanco</td>\n",
       "      <td>mean</td>\n",
       "      <td>Personas</td>\n",
       "      <td>6</td>\n",
       "      <td>2022-08-08 14:55:48.935786</td>\n",
       "      <td>11086</td>\n",
       "      <td>6749</td>\n",
       "      <td>0.077600</td>\n",
       "      <td>0.1</td>\n",
       "    </tr>\n",
       "    <tr>\n",
       "      <th>6114</th>\n",
       "      <td>P47T_persona</td>\n",
       "      <td>q90</td>\n",
       "      <td>Personas</td>\n",
       "      <td>6</td>\n",
       "      <td>2022-08-08 14:55:48.935786</td>\n",
       "      <td>10971</td>\n",
       "      <td>6749</td>\n",
       "      <td>15090.000000</td>\n",
       "      <td>0.1</td>\n",
       "    </tr>\n",
       "    <tr>\n",
       "      <th>34</th>\n",
       "      <td>Total</td>\n",
       "      <td>mean</td>\n",
       "      <td>Personas</td>\n",
       "      <td>6</td>\n",
       "      <td>2022-08-08 14:55:48.935786</td>\n",
       "      <td>5944</td>\n",
       "      <td>6408</td>\n",
       "      <td>1.000000</td>\n",
       "      <td>0.1</td>\n",
       "    </tr>\n",
       "    <tr>\n",
       "      <th>2222</th>\n",
       "      <td>Emp_blanco</td>\n",
       "      <td>mean</td>\n",
       "      <td>Personas</td>\n",
       "      <td>6</td>\n",
       "      <td>2022-08-08 14:55:48.935786</td>\n",
       "      <td>6050</td>\n",
       "      <td>6408</td>\n",
       "      <td>0.168300</td>\n",
       "      <td>0.1</td>\n",
       "    </tr>\n",
       "    <tr>\n",
       "      <th>4792</th>\n",
       "      <td>P47T_persona</td>\n",
       "      <td>q10</td>\n",
       "      <td>Personas</td>\n",
       "      <td>6</td>\n",
       "      <td>2022-08-08 14:55:48.935786</td>\n",
       "      <td>11037</td>\n",
       "      <td>6749</td>\n",
       "      <td>0.000000</td>\n",
       "      <td>0.1</td>\n",
       "    </tr>\n",
       "    <tr>\n",
       "      <th>5208</th>\n",
       "      <td>P47T_persona</td>\n",
       "      <td>median</td>\n",
       "      <td>Personas</td>\n",
       "      <td>6</td>\n",
       "      <td>2022-08-08 14:55:48.935786</td>\n",
       "      <td>5913</td>\n",
       "      <td>6408</td>\n",
       "      <td>4530.000000</td>\n",
       "      <td>0.1</td>\n",
       "    </tr>\n",
       "    <tr>\n",
       "      <th>6222</th>\n",
       "      <td>P47T_persona</td>\n",
       "      <td>q90</td>\n",
       "      <td>Personas</td>\n",
       "      <td>6</td>\n",
       "      <td>2022-08-08 14:55:48.935786</td>\n",
       "      <td>11079</td>\n",
       "      <td>6749</td>\n",
       "      <td>8260.000000</td>\n",
       "      <td>0.1</td>\n",
       "    </tr>\n",
       "    <tr>\n",
       "      <th>5457</th>\n",
       "      <td>P47T_persona</td>\n",
       "      <td>median</td>\n",
       "      <td>Personas</td>\n",
       "      <td>6</td>\n",
       "      <td>2022-08-08 14:55:48.935786</td>\n",
       "      <td>11008</td>\n",
       "      <td>6749</td>\n",
       "      <td>3440.000000</td>\n",
       "      <td>0.1</td>\n",
       "    </tr>\n",
       "    <tr>\n",
       "      <th>5549</th>\n",
       "      <td>P47T_persona</td>\n",
       "      <td>median</td>\n",
       "      <td>Personas</td>\n",
       "      <td>6</td>\n",
       "      <td>2022-08-08 14:55:48.935786</td>\n",
       "      <td>11100</td>\n",
       "      <td>6749</td>\n",
       "      <td>1680.000000</td>\n",
       "      <td>0.1</td>\n",
       "    </tr>\n",
       "    <tr>\n",
       "      <th>3421</th>\n",
       "      <td>Emp_negro</td>\n",
       "      <td>sum</td>\n",
       "      <td>Personas</td>\n",
       "      <td>6</td>\n",
       "      <td>2022-08-08 14:55:48.935786</td>\n",
       "      <td>11054</td>\n",
       "      <td>6749</td>\n",
       "      <td>481.000000</td>\n",
       "      <td>0.1</td>\n",
       "    </tr>\n",
       "    <tr>\n",
       "      <th>1674</th>\n",
       "      <td>Indigencia</td>\n",
       "      <td>mean</td>\n",
       "      <td>Personas</td>\n",
       "      <td>6</td>\n",
       "      <td>2022-08-08 14:55:48.935786</td>\n",
       "      <td>11042</td>\n",
       "      <td>6749</td>\n",
       "      <td>0.060093</td>\n",
       "      <td>0.1</td>\n",
       "    </tr>\n",
       "    <tr>\n",
       "      <th>4433</th>\n",
       "      <td>P47T_persona</td>\n",
       "      <td>mean</td>\n",
       "      <td>Personas</td>\n",
       "      <td>6</td>\n",
       "      <td>2022-08-08 14:55:48.935786</td>\n",
       "      <td>11025</td>\n",
       "      <td>6749</td>\n",
       "      <td>2780.000000</td>\n",
       "      <td>0.1</td>\n",
       "    </tr>\n",
       "  </tbody>\n",
       "</table>\n",
       "</div>"
      ],
      "text/plain": [
       "        observable sintetico      base  PROV                  timestamp  \\\n",
       "4931  P47T_persona       q25  Personas     6 2022-08-08 14:55:48.935786   \n",
       "2869     Emp_negro      mean  Personas     6 2022-08-08 14:55:48.935786   \n",
       "4620  P47T_persona       q10  Personas     6 2022-08-08 14:55:48.935786   \n",
       "1950    Indigencia       sum  Personas     6 2022-08-08 14:55:48.935786   \n",
       "2039    Indigencia       sum  Personas     6 2022-08-08 14:55:48.935786   \n",
       "1389    Indigencia      mean  Personas     6 2022-08-08 14:55:48.935786   \n",
       "2762    Emp_blanco       sum  Personas     6 2022-08-08 14:55:48.935786   \n",
       "1962    Indigencia       sum  Personas     6 2022-08-08 14:55:48.935786   \n",
       "2412    Emp_blanco      mean  Personas     6 2022-08-08 14:55:48.935786   \n",
       "6114  P47T_persona       q90  Personas     6 2022-08-08 14:55:48.935786   \n",
       "34           Total      mean  Personas     6 2022-08-08 14:55:48.935786   \n",
       "2222    Emp_blanco      mean  Personas     6 2022-08-08 14:55:48.935786   \n",
       "4792  P47T_persona       q10  Personas     6 2022-08-08 14:55:48.935786   \n",
       "5208  P47T_persona    median  Personas     6 2022-08-08 14:55:48.935786   \n",
       "6222  P47T_persona       q90  Personas     6 2022-08-08 14:55:48.935786   \n",
       "5457  P47T_persona    median  Personas     6 2022-08-08 14:55:48.935786   \n",
       "5549  P47T_persona    median  Personas     6 2022-08-08 14:55:48.935786   \n",
       "3421     Emp_negro       sum  Personas     6 2022-08-08 14:55:48.935786   \n",
       "1674    Indigencia      mean  Personas     6 2022-08-08 14:55:48.935786   \n",
       "4433  P47T_persona      mean  Personas     6 2022-08-08 14:55:48.935786   \n",
       "\n",
       "      RADIO_REF_ID  DPTO         valor  frac  \n",
       "4931          5983  6408      0.000000   0.1  \n",
       "2869          6003  6408      0.214500   0.1  \n",
       "4620          6019  6408      0.000000   0.1  \n",
       "1950         10971  6749    160.000000   0.1  \n",
       "2039         11060  6749   1760.000000   0.1  \n",
       "1389          5911  6408      0.047348   0.1  \n",
       "2762         11089  6749     44.000000   0.1  \n",
       "1962         10983  6749   1170.000000   0.1  \n",
       "2412         11086  6749      0.077600   0.1  \n",
       "6114         10971  6749  15090.000000   0.1  \n",
       "34            5944  6408      1.000000   0.1  \n",
       "2222          6050  6408      0.168300   0.1  \n",
       "4792         11037  6749      0.000000   0.1  \n",
       "5208          5913  6408   4530.000000   0.1  \n",
       "6222         11079  6749   8260.000000   0.1  \n",
       "5457         11008  6749   3440.000000   0.1  \n",
       "5549         11100  6749   1680.000000   0.1  \n",
       "3421         11054  6749    481.000000   0.1  \n",
       "1674         11042  6749      0.060093   0.1  \n",
       "4433         11025  6749   2780.000000   0.1  "
      ]
     },
     "execution_count": 40,
     "metadata": {},
     "output_type": "execute_result"
    }
   ],
   "source": [
    "df_.sample(20)"
   ]
  },
  {
   "cell_type": "code",
   "execution_count": null,
   "metadata": {},
   "outputs": [],
   "source": []
  }
 ],
 "metadata": {
  "kernelspec": {
   "display_name": "Python 3",
   "language": "python",
   "name": "python3"
  },
  "language_info": {
   "codemirror_mode": {
    "name": "ipython",
    "version": 3
   },
   "file_extension": ".py",
   "mimetype": "text/x-python",
   "name": "python",
   "nbconvert_exporter": "python",
   "pygments_lexer": "ipython3",
   "version": "3.8.5"
  }
 },
 "nbformat": 4,
 "nbformat_minor": 2
}
