{
 "cells": [
  {
   "cell_type": "code",
   "execution_count": 1,
   "metadata": {},
   "outputs": [
    {
     "data": {
      "text/html": [
       "<style>.container { width:100% !important; }</style>"
      ],
      "text/plain": [
       "<IPython.core.display.HTML object>"
      ]
     },
     "metadata": {},
     "output_type": "display_data"
    }
   ],
   "source": [
    "import pandas as pd\n",
    "import matplotlib.pyplot as plt\n",
    "import seaborn as sns\n",
    "\n",
    "pd.options.display.max_columns = 60\n",
    "pd.options.display.max_rows = 500\n",
    "import warnings\n",
    "warnings.filterwarnings('ignore')\n",
    "\n",
    "import dask.dataframe as dd\n",
    "from dask.diagnostics import ProgressBar\n",
    "\n",
    "import os\n",
    "\n",
    "import numpy as np\n",
    "\n",
    "from IPython.core.display import display, HTML\n",
    "display(HTML(\"<style>.container { width:100% !important; }</style>\"))"
   ]
  },
  {
   "cell_type": "code",
   "execution_count": 2,
   "metadata": {},
   "outputs": [],
   "source": [
    "frac = '0.5'"
   ]
  },
  {
   "cell_type": "code",
   "execution_count": 3,
   "metadata": {},
   "outputs": [],
   "source": [
    "# Adulto equivalente. Cuanto cuesta la manutencion de las personas segun sexo y edad.\n",
    "ad_eq = pd.read_csv('./../data/info/adulto_eq.csv')\n",
    "\n",
    "#Importar canasta basica regional deflac\n",
    "CB_ipc = pd.read_csv('./../data/info/CB_Reg_defl.csv')\n",
    "\n",
    "ppp_defl = pd.read_csv('./../data/info/ppp_defl.csv')\n",
    "\n",
    "# Load radio ref. Merge regiones.\n",
    "# Anything that is AGLOMERADO 33 should be region Gran Buenos Aires\n",
    "\n",
    "radio_ref = pd.read_csv('./../data/info/radio_ref.csv').merge(pd.read_csv('./../data/info/prov_regs.csv'), how = 'left')\n",
    "\n",
    "radio_ref = pd.read_csv('./../data/info/radio_ref.csv')#.merge(aglo_labels)\n",
    "dpto_region = pd.read_csv('./../data/info/DPTO_PROV_Region.csv')\n",
    "radio_ref = radio_ref.merge(dpto_region)\n",
    "\n",
    "# DPTO_Region = radio_ref[['DPTO', 'Region']].drop_duplicates()"
   ]
  },
  {
   "cell_type": "code",
   "execution_count": 4,
   "metadata": {},
   "outputs": [],
   "source": [
    "dpto_region = pd.read_csv('./../data/info/DPTO_PROV_Region.csv')\n",
    "DPTO_Region = radio_ref[['DPTO', 'Region']].drop_duplicates()\n",
    "\n",
    "DPTO_Region.Region = DPTO_Region.Region.map({'Gran Buenos Aires': 'gran_buenos_aires',\n",
    "                                            'Pampeana': 'pampeana',\n",
    "                                             'Noroeste': 'noroeste',\n",
    "                                             'Noreste': 'noreste',\n",
    "                                             'Patagónica': 'patagonia',\n",
    "                                             'Cuyo': 'cuyo'})"
   ]
  },
  {
   "cell_type": "markdown",
   "metadata": {},
   "source": [
    "## 1.  Resultados estaticos (se toma 1 año)"
   ]
  },
  {
   "cell_type": "code",
   "execution_count": 5,
   "metadata": {},
   "outputs": [
    {
     "data": {
      "text/plain": [
       "['/media/miglesia/Elements/suite/yr_samples/RFReg_0.5_2021-08-15_hd_test.csv',\n",
       " '/media/miglesia/Elements/suite/yr_samples/RFReg_0.5_2021-11-15_hd_test.csv']"
      ]
     },
     "execution_count": 5,
     "metadata": {},
     "output_type": "execute_result"
    }
   ],
   "source": [
    "import glob\n",
    "# path ='./data/RFReg_' # use your path\n",
    "# path ='./../../encuestador-de-hogares/data/yr_samples/RFReg_' # use your path\n",
    "path ='/media/miglesia/Elements/suite/yr_samples/RFReg_'\n",
    "experiment_tag = 'hd_test'\n",
    "\n",
    "allFiles = []\n",
    "for year in [str(s) for s in range(2019, 2022)]:\n",
    "    allFiles += glob.glob(path +str(frac)+ '*'+str(year)+'*_'+experiment_tag+'.csv')\n",
    "    # Estos son los archivos que se usan para tener una figura estatica, corte donde no importa evol. temporal.\n",
    "\n",
    "allFiles = sorted(allFiles)[-2:] # ultimo anio\n",
    "allFiles"
   ]
  },
  {
   "cell_type": "code",
   "execution_count": 6,
   "metadata": {},
   "outputs": [
    {
     "data": {
      "text/plain": [
       "'2021'"
      ]
     },
     "execution_count": 6,
     "metadata": {},
     "output_type": "execute_result"
    }
   ],
   "source": [
    "# years = np.unique([int(f[-14:-10]) for f in  allFiles])\n",
    "years = np.unique([int(f[-22:-18]) for f in  allFiles[-4:]]) # ultimo anio \n",
    "years = np.unique([int(f[-22:-18]) for f in  allFiles[-8:]]) # ultimos 2 anios\n",
    "# f[-18:-14] # Depende de la convencion para nombrar el archivo\n",
    "\n",
    "if len(years) == 1:\n",
    "    yr_label = str(years[0])\n",
    "else:\n",
    "    yr_label = '-'.join([str(years.min()), str(years.max())])\n",
    "    \n",
    "yr_label"
   ]
  },
  {
   "cell_type": "code",
   "execution_count": 7,
   "metadata": {},
   "outputs": [
    {
     "name": "stdout",
     "output_type": "stream",
     "text": [
      "2021-08-15\n",
      "2021-11-15\n"
     ]
    }
   ],
   "source": [
    "\n",
    "df_parts = []\n",
    "for quarter_Xy_file in sorted(allFiles)[-8:]:# ultimo anio\n",
    "    df_Q = pd.read_csv(quarter_Xy_file, \n",
    "                           usecols = ['PERSONA_REF_ID', 'HOGAR_REF_ID','RADIO_REF_ID', 'CONDACT', 'CAT_INAC', 'CAT_OCUP',\n",
    "                                      'IX_TOT', 'H16', 'H15','P47T', 'P03','P02', 'P09','P10', 'DPTO', 'PP07K'])\n",
    "    df_Q['ANO4'] = int(quarter_Xy_file[-22:-18])\n",
    "    q = quarter_Xy_file[-22:-12]; print(q)\n",
    "    df_Q['Q'] = q\n",
    "    df_parts += [df_Q]\n",
    "\n",
    "df = pd.concat(df_parts)\n",
    "del df_Q\n"
   ]
  },
  {
   "cell_type": "code",
   "execution_count": 8,
   "metadata": {},
   "outputs": [
    {
     "data": {
      "text/plain": [
       "[('df', 77337846),\n",
       " ('radio_ref', 17219219),\n",
       " ('dpto_region', 120394),\n",
       " ('CB_ipc', 71584),\n",
       " ('DPTO_Region', 42613),\n",
       " ('ppp_defl', 8769),\n",
       " ('ad_eq', 5472)]"
      ]
     },
     "execution_count": 8,
     "metadata": {},
     "output_type": "execute_result"
    }
   ],
   "source": [
    "import sys\n",
    "\n",
    "# These are the usual ipython objects, including this one you are creating\n",
    "ipython_vars = ['In', 'Out', 'exit', 'quit', 'get_ipython', 'ipython_vars']\n",
    "\n",
    "# # Get a sorted list of the objects and their sizes\n",
    "sorted([(x, sys.getsizeof(globals().get(x))) for x in dir() if not x.startswith('_') and x not in sys.modules and x not in ipython_vars], key=lambda x: x[1], reverse=True)[:7]"
   ]
  },
  {
   "cell_type": "code",
   "execution_count": 9,
   "metadata": {},
   "outputs": [],
   "source": [
    "\n",
    "columnas_pesos = ['P47T']\n",
    "df[columnas_pesos] = np.power(10, df[columnas_pesos]) - 1\n",
    "\n",
    "# # df.PERSONA_REF_ID.nunique()\n",
    "# 1756665 - 891932 - 884035 = -19302\n",
    "\n",
    "# use means:\n",
    "# ddf = dd.from_pandas(df, npartitions=50);\n",
    "# with ProgressBar():\n",
    "#     df = ddf.groupby(['PERSONA_REF_ID','Q']).mean().compute() \n",
    "## Hay una pequena cantidad de duplicados, gente que fue sampleada mas de una vez, y a las que el modelo les dio el mismo resultado en repetidas veces.\n",
    "# El unico problemita que dan es que los hogares donde estan se agruparian en uno solo. \n",
    "# Quizas se corrige sacando el sampleo con replacement.\n",
    "# Por ahora ignoro el detalle\n",
    "\n",
    "# Editar columnas\n",
    "df['P10'] = 2 - df['P10']\n",
    "df['P09'] = df.P09.replace(5, 4) #Polimodal tomado como secundario \n",
    "\n",
    "# df = df.astype(int)\n",
    "df['P0910'] = df.P09.astype(str) + df.P10.astype(str)\n",
    "# df['Grupo_Etario_3'] = pd.cut(df.P03, np.arange(-1, 80, 3))#.round(-1)\n",
    "# df['Grupo_Etario_INDEC'] = pd.cut(df.P03, np.array([0, 14, 29, 64, 110]))#.round(-1)\n",
    "# df['Grupo_Etario_q10'] = pd.cut(df.P03, np.array([-0.001, 5.0,  11.0, 17.0, 23.0, 29.0, 36.0, 44.0, 53.0, 65.0, 110.0]))#.round(-1)\n",
    "\n",
    "df = df.reset_index()\n"
   ]
  },
  {
   "cell_type": "code",
   "execution_count": null,
   "metadata": {},
   "outputs": [],
   "source": []
  },
  {
   "cell_type": "code",
   "execution_count": 10,
   "metadata": {},
   "outputs": [
    {
     "data": {
      "text/plain": [
       "[('df', 98963244),\n",
       " ('radio_ref', 17219219),\n",
       " ('dpto_region', 120394),\n",
       " ('CB_ipc', 71584),\n",
       " ('DPTO_Region', 42613),\n",
       " ('ppp_defl', 8769),\n",
       " ('ad_eq', 5472)]"
      ]
     },
     "execution_count": 10,
     "metadata": {},
     "output_type": "execute_result"
    }
   ],
   "source": [
    "# # Get a sorted list of the objects and their sizes\n",
    "sorted([(x, sys.getsizeof(globals().get(x))) for x in dir() if not x.startswith('_') and x not in sys.modules and x not in ipython_vars], key=lambda x: x[1], reverse=True)[:7]\n"
   ]
  },
  {
   "cell_type": "code",
   "execution_count": null,
   "metadata": {},
   "outputs": [],
   "source": []
  },
  {
   "cell_type": "code",
   "execution_count": 11,
   "metadata": {},
   "outputs": [
    {
     "data": {
      "text/plain": [
       "Q\n",
       "2021-08-15    183265\n",
       "2021-11-15    183265\n",
       "dtype: int64"
      ]
     },
     "execution_count": 11,
     "metadata": {},
     "output_type": "execute_result"
    }
   ],
   "source": [
    "df.groupby('Q').size()"
   ]
  },
  {
   "cell_type": "code",
   "execution_count": 12,
   "metadata": {},
   "outputs": [
    {
     "data": {
      "text/plain": [
       "(366530, 20)"
      ]
     },
     "execution_count": 12,
     "metadata": {},
     "output_type": "execute_result"
    }
   ],
   "source": [
    "df.shape"
   ]
  },
  {
   "cell_type": "markdown",
   "metadata": {},
   "source": [
    "### Canasta y Pobreza"
   ]
  },
  {
   "cell_type": "code",
   "execution_count": 13,
   "metadata": {},
   "outputs": [],
   "source": [
    "experiment_tag = 'hd_test'"
   ]
  },
  {
   "cell_type": "code",
   "execution_count": 14,
   "metadata": {},
   "outputs": [],
   "source": [
    "df_cb = df.merge(ad_eq).merge(DPTO_Region).merge(CB_ipc)#.merge(ppp_defl[['Q', 'ppp_5usd_ARS_deflac']])\n",
    "\n",
    "# df_cb_hogares = df_cb.groupby(['HOGAR_REF_ID', 'Q'])[['P47T','CBA', 'CBT', 'CB_EQUIV', 'ppp_5usd_ARS_deflac']].sum()\n",
    "df_cb_hogares = df_cb.groupby(['HOGAR_REF_ID', 'Q'])[['P47T','CBA', 'CBT', 'CB_EQUIV']].sum()\n",
    "# del df_cb # Ahorrar memoria\n",
    "\n",
    "df_cb_hogares['Pobreza'] = df_cb_hogares['P47T'] < df_cb_hogares['CBT']\n",
    "df_cb_hogares['Indigencia'] = df_cb_hogares['P47T'] < df_cb_hogares['CBA']\n",
    "# df_cb_hogares['Pobreza_5usd'] = df_cb_hogares['P47T'] < df_cb_hogares['ppp_5usd_ARS_deflac']\n",
    "# pobreza_hogares = df_cb_hogares[['P47T','CBA','CBT', 'CB_EQUIV','Pobreza', 'Indigencia', 'Pobreza_5usd']].reset_index()\n",
    "pobreza_hogares = df_cb_hogares[['P47T','CBA','CBT', 'CB_EQUIV','Pobreza', 'Indigencia']].reset_index()\n",
    "pobreza_hogares['gap_pobreza'] = pobreza_hogares.P47T - pobreza_hogares.CBT\n",
    "pobreza_hogares['gap_indigencia'] = pobreza_hogares.P47T - pobreza_hogares.CBA\n",
    "pobreza_hogares = pobreza_hogares.rename(columns = {'P47T': 'P47T_hogar'})\n",
    "\n",
    "# df = df.sample(25000)\n",
    "data = df.merge(pobreza_hogares, on = ['HOGAR_REF_ID', 'Q'])#, how = 'left')\n",
    "# del df; del pobreza_hogares # Ahorrar memoria\n",
    "\n",
    "data = data.rename(columns = {'P47T': 'P47T_persona'})\n",
    "\n",
    "# data = data\n",
    "data = data.merge(radio_ref[['RADIO_REF_ID', 'IDFRAC', 'PROV', 'NOMPROV', 'AGLOMERADO']].drop_duplicates())\n",
    "\n",
    "if not os.path.exists('./../data/Pobreza/'):\n",
    "    os.makedirs('./../data/Pobreza/')\n",
    "filename = './../data/Pobreza/pobreza_'+'_'.join([str(frac), yr_label, experiment_tag])+'.csv'\n",
    "data.to_csv(filename, index = False)\n"
   ]
  },
  {
   "cell_type": "code",
   "execution_count": 15,
   "metadata": {},
   "outputs": [
    {
     "data": {
      "text/plain": [
       "'./../data/Pobreza/pobreza_0.5_2021_hd_test.csv'"
      ]
     },
     "execution_count": 15,
     "metadata": {},
     "output_type": "execute_result"
    }
   ],
   "source": [
    "filename "
   ]
  },
  {
   "cell_type": "code",
   "execution_count": 16,
   "metadata": {},
   "outputs": [
    {
     "data": {
      "text/plain": [
       "count     347.000000\n",
       "mean     1056.282421\n",
       "std       450.823628\n",
       "min        32.000000\n",
       "25%       782.000000\n",
       "50%      1060.000000\n",
       "75%      1309.000000\n",
       "max      3114.000000\n",
       "dtype: float64"
      ]
     },
     "execution_count": 16,
     "metadata": {},
     "output_type": "execute_result"
    }
   ],
   "source": [
    "data.groupby('RADIO_REF_ID').size().describe()"
   ]
  },
  {
   "cell_type": "markdown",
   "metadata": {},
   "source": [
    "## Sintetizar (Stats a nivel Radio)"
   ]
  },
  {
   "cell_type": "code",
   "execution_count": 17,
   "metadata": {},
   "outputs": [],
   "source": [
    "# data[['Emp_blanco', 'Emp_negro', 'Monotrib', 'Otros_n.a.']].mean()"
   ]
  },
  {
   "cell_type": "code",
   "execution_count": 18,
   "metadata": {},
   "outputs": [],
   "source": [
    "### Sintetizadores\n",
    "import datetime as dt\n",
    "\n",
    "## Base Personas\n",
    "def sintetizar_P(data, grouper, frac = 0.1, mult = 1):\n",
    "    df = data.copy()\n",
    "    df['Total'] = True\n",
    "    df['timestamp'] = dt.datetime.today()\n",
    "    \n",
    "#     # Funciones percentil\n",
    "#     percentiles = [.10, .25, .75, .9, .2]\n",
    "#     quantile_funcs = [(p, lambda x: x.quantile(p)) for p in percentiles]\n",
    "\n",
    "    df = df.groupby(grouper + ['timestamp'])[['Total', 'Pobreza', 'Indigencia','P47T_persona', 'Emp_blanco', 'Emp_negro', 'Monotrib']].agg(\n",
    "        {'Total': ['mean', 'sum'], \n",
    "         'Pobreza': ['mean', 'sum'], \n",
    "         'Indigencia': ['mean', 'sum'],\n",
    "         'Emp_blanco': ['mean', 'sum'], \n",
    "         'Emp_negro': ['mean', 'sum'], \n",
    "         'Monotrib': ['mean', 'sum'], \n",
    "         'P47T_persona':['mean', q10, q25, 'median', q75, q90]})\n",
    "    \n",
    "    df[[('Total', 'sum')]] = (df[[('Total', 'sum')]]/frac/mult).round(1)#.astype(int)\n",
    "    df[[('Pobreza', 'sum')]] = (df[[('Pobreza', 'sum')]]/frac/mult).round(1)#.astype(int)\n",
    "    df[[('Indigencia', 'sum')]] = (df[[('Indigencia', 'sum')]]/frac/mult).round(1)#.astype(int)\n",
    "    df[[('Emp_blanco', 'sum')]] = (df[[('Emp_blanco', 'sum')]]/frac/mult).round(1)#.astype(int)\n",
    "    df[[('Emp_negro', 'sum')]] = (df[[('Emp_negro', 'sum')]]/frac/mult).round(1)#.astype(int)\n",
    "    df[[('Monotrib', 'sum')]] = (df[[('Monotrib', 'sum')]]/frac/mult).round(1)#.astype(int)\n",
    "    df[[('Total', 'mean')]] = df[[('Total', 'mean')]].round(4)\n",
    "    df[[('Pobreza', 'mean')]] = df[[('Pobreza', 'mean')]].round(4)\n",
    "    df[[('Indigencia', 'mean')]] = df[[('Pobreza', 'mean')]].round(4)\n",
    "    df[[('Emp_blanco', 'mean')]] = df[[('Emp_blanco', 'mean')]].round(4)\n",
    "    df[[('Emp_negro', 'mean')]] = df[[('Emp_negro', 'mean')]].round(4)\n",
    "    df[[('Monotrib', 'mean')]] = df[[('Monotrib', 'mean')]].round(4)\n",
    "    \n",
    "    df['P47T_persona'] = df['P47T_persona'].round(-1).astype(int)\n",
    "    \n",
    "    dfB = df.T.set_index(np.repeat('Personas', df.shape[1]), append=True)\n",
    "       \n",
    "#     dfB = dfB.stack().stack().stack().reset_index()\n",
    "    stacker_ix = [-i for i in range(len(grouper) + 1)]\n",
    "    dfB = dfB.stack(level = stacker_ix).reset_index()\n",
    "    \n",
    "    dfB = dfB.rename(columns = {'level_0': 'observable', 'level_1': 'sintetico', 'level_2': 'base', 0: 'valor'})\n",
    "    dfB['frac'] = frac\n",
    "    return dfB\n",
    "\n",
    "def sintetizar_H(data, grouper, frac = 0.01, mult = 1):\n",
    "    df = data.copy()\n",
    "    df = df.groupby('HOGAR_REF_ID').first()\n",
    "    df['Total'] = True\n",
    "    df['timestamp'] = dt.datetime.today()\n",
    "\n",
    "#     # Funciones percentil\n",
    "#     percentiles = [.10, .25, .75, .9, .2]\n",
    "#     quantile_funcs = [(p, lambda x: x.quantile(p)) for p in percentiles]\n",
    "\n",
    "    df = df.groupby(grouper + ['timestamp'])[['Total', 'Pobreza', 'Indigencia', 'P47T_hogar', 'CB_EQUIV', 'CBA', \n",
    "                                              'gap_indigencia', 'CBT', 'gap_pobreza']\n",
    "                            ].agg({'Total': ['mean', 'sum'], \n",
    "                                   'Pobreza': ['mean', 'sum'], \n",
    "                                   'Indigencia': ['mean', 'sum'], \n",
    "                                   'P47T_hogar': ['mean', q10, q25, 'median', q75, q90],\n",
    "                                   'CB_EQUIV': ['mean', 'median'],     \n",
    "                                   'CBA': ['mean', 'median'], \n",
    "                                   'CBT': ['mean', 'median'], \n",
    "                                   'gap_indigencia': ['mean', 'median'], \n",
    "                                   'gap_pobreza': ['mean', 'median']})\n",
    "        \n",
    "    df[[('Total', 'sum')]] = (df[[('Total', 'sum')]]/frac/mult).round(1)#.astype(int)\n",
    "    df[[('Pobreza', 'sum')]] = (df[[('Pobreza', 'sum')]]/frac/mult).round(1)#.astype(int)\n",
    "    df[[('Indigencia', 'sum')]] = (df[[('Indigencia', 'sum')]]/frac/mult).round(1)#.astype(int)\n",
    "    df[[('Total', 'mean')]] = df[[('Total', 'mean')]].round(4)\n",
    "    df[[('Pobreza', 'mean')]] = df[[('Pobreza', 'mean')]].round(4)\n",
    "    df[[('Indigencia', 'mean')]] = df[[('Indigencia', 'mean')]].round(4)\n",
    "\n",
    "    df['CB_EQUIV'] = df['CB_EQUIV'].round(4)\n",
    "    \n",
    "    df['P47T_hogar'] = df['P47T_hogar'].round(-1).astype(int)\n",
    "    df['CBA'] = df['CBA'].round(-1).astype(int)\n",
    "    df['gap_indigencia'] = df['gap_indigencia'].round(-1).astype(int)\n",
    "    df['CBT'] = df['CBT'].round(-1).astype(int)\n",
    "    df['gap_pobreza'] = df['gap_pobreza'].round(-1).astype(int)\n",
    "    \n",
    "    dfC = df.T.set_index(np.repeat('Hogares', df.shape[1]), append=True)\n",
    "    dfC.index.names = ['observable', 'sintetico', 'base']\n",
    "    \n",
    "#     FrozenList(['observable', 'sintetico', 'base', 'timestamp', 'AGLOMERADO', 'Region', 'Q'])\n",
    "    \n",
    "# #     dfC = dfC.stack().stack().stack().reset_index()\n",
    "    stacker_ix = [-i for i in range(len(grouper) + 1)]\n",
    "    dfC = dfC.stack(level = stacker_ix).reset_index()\n",
    "#     # es como df.stack([-1, -2, -3, -4]) pero se adapta a groupers mas o menos largos\n",
    "#     dfC = dfC.stack(stacker_ix).reset_index()\n",
    "\n",
    "    dfC = dfC.rename(columns = {'level_0': 'observable', 'level_1': 'sintetico', 'level_2': 'base', 0: 'valor'})\n",
    "    dfC['frac'] = frac\n",
    "    return dfC\n",
    "\n",
    "# Percentile funcs\n",
    "def q10(x):\n",
    "    return x.quantile(0.1)\n",
    "\n",
    "def q25(x):\n",
    "    return x.quantile(0.25)\n",
    "\n",
    "def q75(x):\n",
    "    return x.quantile(0.75)\n",
    "\n",
    "def q90(x):\n",
    "    return x.quantile(0.9)"
   ]
  },
  {
   "cell_type": "code",
   "execution_count": 19,
   "metadata": {},
   "outputs": [
    {
     "data": {
      "text/plain": [
       "Index(['index', 'RADIO_REF_ID', 'DPTO', 'HOGAR_REF_ID', 'H15', 'H16',\n",
       "       'PERSONA_REF_ID', 'P02', 'P03', 'P09', 'P10', 'CONDACT', 'IX_TOT',\n",
       "       'CAT_OCUP', 'CAT_INAC', 'PP07K', 'P47T_persona', 'ANO4', 'Q', 'P0910',\n",
       "       'P47T_hogar', 'CBA', 'CBT', 'CB_EQUIV', 'Pobreza', 'Indigencia',\n",
       "       'gap_pobreza', 'gap_indigencia', 'IDFRAC', 'PROV', 'NOMPROV',\n",
       "       'AGLOMERADO'],\n",
       "      dtype='object')"
      ]
     },
     "execution_count": 19,
     "metadata": {},
     "output_type": "execute_result"
    }
   ],
   "source": [
    "data.columns"
   ]
  },
  {
   "cell_type": "code",
   "execution_count": 20,
   "metadata": {},
   "outputs": [
    {
     "data": {
      "text/plain": [
       "7.039412907526196"
      ]
     },
     "execution_count": 20,
     "metadata": {},
     "output_type": "execute_result"
    }
   ],
   "source": [
    "## INDICE DE PRECIOS - CONVERSION A VALOR CONSTANTE\n",
    "\n",
    "cpi_M = pd.read_csv('https://raw.githubusercontent.com/matuteiglesias/IPC-Argentina/main/data/info/indice_precios_M.csv', index_col=0)\n",
    "cpi_M.index = pd.to_datetime(cpi_M.index)\n",
    "  \n",
    "# Getting current date and time\n",
    "today = dt.datetime.today()\n",
    "ref = '2016-01'\n",
    "\n",
    "cpi_actual = cpi_M.loc[today.strftime(\"%Y-%m\")]['index'][0]\n",
    "cpi_ref = cpi_M.loc[ref]['index'][0]\n",
    "\n",
    "# df_ARShoy = df*(cpi_actual/cpi_ref)\n",
    "\n",
    "cpi_Q = pd.read_csv('https://raw.githubusercontent.com/matuteiglesias/IPC-Argentina/main/data/info/indice_precios_Q.csv', index_col=0)\n",
    "cpi_Q.index = pd.to_datetime(cpi_Q.index)\n",
    "cpi_2021oct = cpi_M.loc['2021-10']['index'][0]\n",
    "cpi_2021oct/cpi_ref"
   ]
  },
  {
   "cell_type": "code",
   "execution_count": 21,
   "metadata": {},
   "outputs": [],
   "source": [
    "data = pd.read_csv('./../data/Pobreza/pobreza_0.5_2021_hd_test.csv')\n",
    "\n",
    "data.P47T_persona = data.P47T_persona*(cpi_2021oct/cpi_ref)\n",
    "\n",
    "data['Emp_blanco'] = (data.PP07K == 1)\n",
    "data['Emp_negro'] = (data.PP07K != 1) & (data.CAT_OCUP == 3)\n",
    "data['Monotrib'] = data.CAT_OCUP == 2\n",
    "data['Otros_n.a.'] = ~data.CAT_OCUP.isin([2, 3])"
   ]
  },
  {
   "cell_type": "code",
   "execution_count": 22,
   "metadata": {},
   "outputs": [],
   "source": [
    "grouper = ['PROV', 'DPTO', 'RADIO_REF_ID']\n",
    "frac = .5\n",
    "df_ = sintetizar_P(data, grouper, frac, mult = 2)"
   ]
  },
  {
   "cell_type": "code",
   "execution_count": 23,
   "metadata": {},
   "outputs": [
    {
     "data": {
      "text/plain": [
       "observable         7\n",
       "sintetico          7\n",
       "base               1\n",
       "PROV               1\n",
       "timestamp          1\n",
       "RADIO_REF_ID     347\n",
       "DPTO               2\n",
       "valor           2723\n",
       "frac               1\n",
       "dtype: int64"
      ]
     },
     "execution_count": 23,
     "metadata": {},
     "output_type": "execute_result"
    }
   ],
   "source": [
    "df_.nunique()"
   ]
  },
  {
   "cell_type": "code",
   "execution_count": 27,
   "metadata": {},
   "outputs": [
    {
     "data": {
      "text/plain": [
       "observable    sintetico\n",
       "Emp_blanco    mean         347\n",
       "              sum          347\n",
       "Emp_negro     mean         347\n",
       "              sum          347\n",
       "Indigencia    mean         347\n",
       "              sum          347\n",
       "Monotrib      mean         347\n",
       "              sum          347\n",
       "P47T_persona  mean         347\n",
       "              median       347\n",
       "              q10          347\n",
       "              q25          347\n",
       "              q75          347\n",
       "              q90          347\n",
       "Pobreza       mean         347\n",
       "              sum          347\n",
       "Total         mean         347\n",
       "              sum          347\n",
       "dtype: int64"
      ]
     },
     "execution_count": 27,
     "metadata": {},
     "output_type": "execute_result"
    }
   ],
   "source": [
    "df_.groupby(['observable', 'sintetico']).size()"
   ]
  },
  {
   "cell_type": "code",
   "execution_count": 25,
   "metadata": {},
   "outputs": [],
   "source": [
    "df_.to_csv('./../data/results/sintetico_v1test.csv', index = False)"
   ]
  },
  {
   "cell_type": "code",
   "execution_count": null,
   "metadata": {},
   "outputs": [],
   "source": []
  }
 ],
 "metadata": {
  "kernelspec": {
   "display_name": "Python 3",
   "language": "python",
   "name": "python3"
  },
  "language_info": {
   "codemirror_mode": {
    "name": "ipython",
    "version": 3
   },
   "file_extension": ".py",
   "mimetype": "text/x-python",
   "name": "python",
   "nbconvert_exporter": "python",
   "pygments_lexer": "ipython3",
   "version": "3.8.5"
  }
 },
 "nbformat": 4,
 "nbformat_minor": 2
}
