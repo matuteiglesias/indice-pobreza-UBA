{
 "cells": [
  {
   "cell_type": "markdown",
   "metadata": {},
   "source": [
    "\n",
    "---\n",
    "\n",
    "### **2. Procesamiento Principal de Datos.ipynb**\n",
    "  - **2.1. Iteración por año y trimestre:**\n",
    "    - **2.1.1.** Carga de datos de población sintética.\n",
    "    - **2.1.2.** Fusión de datos de población sintética con datos de ingresos.\n",
    "    - **2.1.3.** Guardado de resultados en directorios respectivos.\n",
    "    - **2.1.4.** Manejo de archivos faltantes con advertencias."
   ]
  },
  {
   "cell_type": "code",
   "execution_count": 66,
   "metadata": {},
   "outputs": [],
   "source": [
    "# import time\n",
    "# time.sleep(1500)"
   ]
  },
  {
   "cell_type": "code",
   "execution_count": 67,
   "metadata": {},
   "outputs": [],
   "source": [
    "import os\n",
    "import pandas as pd\n",
    "import numpy as np\n",
    "from funciones import ajustar_empleo, run_predict_save, generate_Qs_from_year\n",
    "from variables import *  # x_cols1, x_cols2, etc\n",
    "\n",
    "\n",
    "# -------------------\n",
    "# Parameters and Configuration\n",
    "# -------------------\n",
    "\n",
    "FRAC = 0.02\n",
    "START_YEAR = 2023\n",
    "END_YEAR = 2024\n",
    "\n",
    "EXPERIMENT_TAG = 'ARG'\n",
    "MODELS_TAG = 'ARG'\n",
    "MODELS_PATH = './../../encuestador-de-hogares'\n",
    "ADAPTED_CENSO_FILES_PATH = '/media/matias/Elements/suite/poblaciones'\n"
   ]
  },
  {
   "cell_type": "code",
   "execution_count": 68,
   "metadata": {},
   "outputs": [],
   "source": [
    "\n",
    "\n",
    "# Ensure the results directory exists\n",
    "if not os.path.exists('./../data/prediccion'):\n",
    "    os.makedirs('./../data/prediccion')\n",
    "\n",
    "RESULTS_PATH = '/media/matias/Elements/suite/resultados/'"
   ]
  },
  {
   "cell_type": "markdown",
   "metadata": {},
   "source": [
    "\n",
    "\n",
    "# Load employment data and calculate ratio\n",
    "# ..."
   ]
  },
  {
   "cell_type": "code",
   "execution_count": 69,
   "metadata": {},
   "outputs": [],
   "source": [
    "empleo = pd.read_csv('https://raw.githubusercontent.com/matuteiglesias/empleoARG/main/datos/45.2_ECTDT.csv')\n",
    "empleo = empleo[['45.2_IT_0_T_13', '45.2_ECTDT_0_T_33']]\n",
    "empleo['Q'] = pd.to_datetime(empleo['45.2_IT_0_T_13']) + pd.DateOffset(months=1, days=14)\n",
    "empleo = empleo.set_index('Q').drop(['45.2_IT_0_T_13'], axis=1)\n",
    "empleo = empleo.replace('s/d', np.nan).astype(float).round(4)\n",
    "empleo['censo2010_ratio'] = (empleo / empleo.loc['2010-11-15'])\n",
    "\n",
    "desoc_C2010 = pd.read_csv('./../data/info/desoc_AGLOsi_C2010.csv').rename(columns = {'AGLO_si': 'AGLOSI'})\n",
    "tasa_C2010 = desoc_C2010.loc[desoc_C2010.AGLOSI == True]['Tasa desocupacion'].values[0]\n"
   ]
  },
  {
   "cell_type": "code",
   "execution_count": null,
   "metadata": {},
   "outputs": [],
   "source": []
  },
  {
   "cell_type": "code",
   "execution_count": 70,
   "metadata": {},
   "outputs": [],
   "source": [
    "# pip install scikit-learn==1.0.2"
   ]
  },
  {
   "cell_type": "code",
   "execution_count": 71,
   "metadata": {},
   "outputs": [
    {
     "name": "stdout",
     "output_type": "stream",
     "text": [
      "2023-02-15\n",
      "./../../encuestador-de-hogares/fitted_RF/clf1_2023_ARG\n",
      "/media/matias/Elements/suite/resultados/RFC1_0.02_2023-02-15_ARG.csv\n",
      "File saved at /media/matias/Elements/suite/resultados/RFC1_0.02_2023-02-15_ARG.csv\n",
      "./../../encuestador-de-hogares/fitted_RF/clf2_2023_ARG\n",
      "/media/matias/Elements/suite/resultados/RFC2_0.02_2023-02-15_ARG.csv\n",
      "File saved at /media/matias/Elements/suite/resultados/RFC2_0.02_2023-02-15_ARG.csv\n",
      "./../../encuestador-de-hogares/fitted_RF/clf3_2023_ARG\n",
      "/media/matias/Elements/suite/resultados/RFC3_0.02_2023-02-15_ARG.csv\n",
      "File saved at /media/matias/Elements/suite/resultados/RFC3_0.02_2023-02-15_ARG.csv\n",
      "./../../encuestador-de-hogares/fitted_RF/clf4_2023-02-15_ARG\n",
      "/media/matias/Elements/suite/resultados/RFC4_0.02_2023-02-15_ARG.csv\n",
      "File saved at /media/matias/Elements/suite/resultados/RFC4_0.02_2023-02-15_ARG.csv\n",
      "Warning: Model file ./../../encuestador-de-hogares/fitted_RF/clf4_2023-05-15_ARG for 2023-05-15 not found. Skipping this quarter.\n",
      "Warning: Model file ./../../encuestador-de-hogares/fitted_RF/clf4_2023-08-15_ARG for 2023-08-15 not found. Skipping this quarter.\n",
      "Warning: Model file ./../../encuestador-de-hogares/fitted_RF/clf4_2023-11-15_ARG for 2023-11-15 not found. Skipping this quarter.\n"
     ]
    }
   ],
   "source": [
    "\n",
    "\n",
    "all_Qs = []\n",
    "for yr in range(START_YEAR, END_YEAR):\n",
    "    all_Qs.extend(generate_Qs_from_year(yr))\n",
    "\n",
    "for q in all_Qs:\n",
    "    yr = q.split('-')[0]\n",
    "    model_file = f'{MODELS_PATH}/fitted_RF/clf4_{q[:10]}_{MODELS_TAG}'\n",
    "    if not os.path.exists(model_file):\n",
    "        print(f\"Warning: Model file {model_file} for {q} not found. Skipping this quarter.\")\n",
    "        continue\n",
    "\n",
    "    file_ = f'{ADAPTED_CENSO_FILES_PATH}/table_f{FRAC}_{yr}_{EXPERIMENT_TAG}.csv'\n",
    "    if not os.path.exists(file_):\n",
    "        # Add code to handle missing data file\n",
    "        print(f\"Warning: Data file {file_} for year {yr} not found. Skipping.\")\n",
    "        continue\n",
    "\n",
    "    X_censo = pd.read_csv(file_, usecols=x_cols1 + ['ID', 'AGLOMERADO', 'DPTO', 'HOGAR_REF_ID', 'PERSONA_REF_ID',\n",
    "                                                    'RADIO_REF_ID', 'URP'], index_col=['ID']).fillna(0)\n",
    "    CONDACT_cnts = X_censo.CONDACT.value_counts()\n",
    "    X_q = X_censo.copy()\n",
    "    X_q['Q'] = q\n",
    "    X_q = ajustar_empleo(X_q, q, empleo, CONDACT_cnts, tasa_C2010)\n",
    "    # ... continue with the rest of your code\n",
    "\n",
    "    # Generate the filenames\n",
    "    filenames = [f'{RESULTS_PATH}RFC{i}_{FRAC}_{q[:10]}_{EXPERIMENT_TAG}.csv' for i in range(1, 5)]\n",
    "\n",
    "            \n",
    "    # Iteration 1\n",
    "    predict_save_iter_dict1 = {'X_data': X_q, 'x_cols': x_cols1, 'y_cols': y_cols1, 'out_filename': filenames[0], 'model_filename': f'{MODELS_PATH}/fitted_RF/clf1_{yr}_{MODELS_TAG}', 'tag': f'clf1_{yr}_{MODELS_TAG}', 'overwrite': True}\n",
    "    result1 = run_predict_save(predict_save_iter_dict1)\n",
    "    \n",
    "    # Iteration 2\n",
    "    predict_save_iter_dict2 = {'X_data': pd.concat([X_q, result1], axis=1), 'x_cols': x_cols2, 'y_cols': y_cols2, 'out_filename': filenames[1], 'model_filename': f'{MODELS_PATH}/fitted_RF/clf2_{yr}_{MODELS_TAG}', 'tag': f'clf2_{yr}_{MODELS_TAG}', 'overwrite': True}\n",
    "    result2 = run_predict_save(predict_save_iter_dict2)\n",
    "    \n",
    "    # Iteration 3\n",
    "    predict_save_iter_dict3 = {'X_data': pd.concat([X_q, result1, result2], axis=1), 'x_cols': x_cols3, 'y_cols': y_cols3, 'out_filename': filenames[2], 'model_filename': f'{MODELS_PATH}/fitted_RF/clf3_{yr}_{MODELS_TAG}', 'tag': f'clf3_{yr}_{MODELS_TAG}', 'overwrite': True}\n",
    "    result3 = run_predict_save(predict_save_iter_dict3)\n",
    "    \n",
    "    # Iteration 4\n",
    "    predict_save_iter_dict4 = {'X_data': pd.concat([X_q, result1, result2, result3], axis=1), 'x_cols': x_cols4, 'y_cols': columnas_pesos, 'out_filename': filenames[3], 'model_filename': f'{MODELS_PATH}/fitted_RF/clf4_{q[:10]}_{MODELS_TAG}', 'tag': f'clf4_{yr}_{MODELS_TAG}', 'overwrite': True}\n",
    "    result4 = run_predict_save(predict_save_iter_dict4)\n"
   ]
  },
  {
   "cell_type": "code",
   "execution_count": 72,
   "metadata": {},
   "outputs": [],
   "source": [
    "# # Error: archivo del modelo /media/matias/Elements/suite/resultados/RFReg_0.005_2019-08-15_ARG.csv no existe. Calcular en notebook 02, o ignorar mensaje si el trimestre 2019-08-15 no tuvo EPH publicada por INDEC.values=\n",
    "# print out column namesss"
   ]
  },
  {
   "cell_type": "code",
   "execution_count": 73,
   "metadata": {},
   "outputs": [],
   "source": [
    "# /media/matias/Elements/suite/resultados/RFC1_0.01_2018-02-15_ARG.csv\n",
    "# File saved at /media/matias/Elements/suite/resultados/RFC1_0.01_2018-02-15_ARG.csv\n",
    "# /media/matias/Elements/suite/resultados/RFC2_0.01_2018-02-15_ARG.csv\n",
    "# File saved at /media/matias/Elements/suite/resultados/RFC2_0.01_2018-02-15_ARG.csv\n",
    "# /media/matias/Elements/suite/resultados/RFC3_0.01_2018-02-15_ARG.csv\n",
    "# File saved at /media/matias/Elements/suite/resultados/RFC3_0.01_2018-02-15_ARG.csv\n",
    "# /media/matias/Elements/suite/resultados/RFC4_0.01_2018-02-15_ARG.csv\n",
    "# File saved at /media/matias/Elements/suite/resultados/RFC4_0.01_2018-02-15_ARG.csv\n",
    "# 2018-05-15\n",
    "# /media/matias/Elements/suite/resultados/RFC1_0.01_2018-05-15_ARG.csv"
   ]
  },
  {
   "cell_type": "code",
   "execution_count": null,
   "metadata": {},
   "outputs": [],
   "source": []
  },
  {
   "cell_type": "code",
   "execution_count": null,
   "metadata": {},
   "outputs": [],
   "source": []
  },
  {
   "cell_type": "code",
   "execution_count": null,
   "metadata": {},
   "outputs": [],
   "source": []
  },
  {
   "cell_type": "code",
   "execution_count": null,
   "metadata": {},
   "outputs": [],
   "source": []
  },
  {
   "cell_type": "code",
   "execution_count": null,
   "metadata": {},
   "outputs": [],
   "source": []
  }
 ],
 "metadata": {
  "kernelspec": {
   "display_name": "base2",
   "language": "python",
   "name": "python3"
  },
  "language_info": {
   "codemirror_mode": {
    "name": "ipython",
    "version": 3
   },
   "file_extension": ".py",
   "mimetype": "text/x-python",
   "name": "python",
   "nbconvert_exporter": "python",
   "pygments_lexer": "ipython3",
   "version": "3.11.3"
  },
  "orig_nbformat": 4
 },
 "nbformat": 4,
 "nbformat_minor": 2
}
