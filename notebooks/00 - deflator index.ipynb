{
 "cells": [
  {
   "cell_type": "code",
   "execution_count": 3,
   "metadata": {},
   "outputs": [],
   "source": [
    "import pandas as pd\n",
    "import matplotlib.pyplot as plt\n",
    "%matplotlib inline\n",
    "\n",
    "import numpy as np\n",
    "import requests"
   ]
  },
  {
   "cell_type": "code",
   "execution_count": null,
   "metadata": {},
   "outputs": [],
   "source": []
  },
  {
   "cell_type": "code",
   "execution_count": 4,
   "metadata": {
    "scrolled": false
   },
   "outputs": [],
   "source": [
    "## Cargar fuente Pricestats\n",
    "\n",
    "pd.read_csv('./../data/info/Argentina_inflation_pricestats.csv')\n",
    "\n",
    "cpi = pd.read_csv('./../data/info/Argentina_inflation_pricestats.csv').dropna(subset = ['index'])\n",
    "# cpi.index = pd.date_range(\"1943-01\", periods=len(cpi), freq = 'M')\n",
    "cpi.index = pd.date_range(\"1942-12\", periods=len(cpi), freq = 'M') + pd.DateOffset(days=15)\n",
    "\n",
    "## Cargar fuente Indec para IPC post 2015\n",
    "### Descargar info actualizada en ipc_b201612_mensual.csv\n",
    "csv_url = 'https://infra.datos.gob.ar/catalog/sspm/dataset/145/distribution/145.3/download/indice-precios-al-consumidor-nivel-general-base-diciembre-2016-mensual.csv'\n",
    "req = requests.get(csv_url)\n",
    "csv_file = open('./../data/info/ipc_b201612_mensual.csv', 'wb')\n",
    "csv_file.write(req.content)\n",
    "csv_file.close()\n",
    "\n",
    "## Usar archivo\n",
    "cpi2 = pd.read_csv('./../data/info/ipc_b201612_mensual.csv',\n",
    "                   usecols = ['ipc_ng_nacional']).astype(float)\n",
    "# cpi2.index = pd.date_range(\"2016-12\", periods=len(cpi2), freq = 'M')\n",
    "cpi2.index = pd.date_range(\"2016-11\", periods=len(cpi2), freq = 'M') + pd.DateOffset(days=15)\n",
    "\n",
    "cpi2.columns = ['index']"
   ]
  },
  {
   "cell_type": "markdown",
   "metadata": {},
   "source": [
    "### Graficar el empalme de indices"
   ]
  },
  {
   "cell_type": "code",
   "execution_count": 3,
   "metadata": {},
   "outputs": [
    {
     "data": {
      "image/png": "[encoded data removed]",
      "text/plain": [
       "<Figure size 432x288 with 1 Axes>"
      ]
     },
     "metadata": {
      "needs_background": "light"
     },
     "output_type": "display_data"
    }
   ],
   "source": [
    "m = np.mean(cpi.loc['2017':]['index'].values/cpi2.loc['2017':]['index'].values[:len(cpi.loc['2017':])])\n",
    "\n",
    "plt.plot(cpi.loc['1998':][['index']])\n",
    "plt.plot(m*cpi2.loc['2017':][['index']])\n",
    "\n",
    "plt.yscale('log')\n",
    "plt.show()"
   ]
  },
  {
   "cell_type": "code",
   "execution_count": 4,
   "metadata": {},
   "outputs": [],
   "source": [
    "## Si esta todo ok se pueden unir\n",
    "cpi = pd.concat([cpi.loc[:cpi2.index.values[0]][['index']],\n",
    "           m*cpi2.iloc[1:]], )"
   ]
  },
  {
   "cell_type": "code",
   "execution_count": 5,
   "metadata": {},
   "outputs": [
    {
     "data": {
      "text/html": [
       "<div>\n",
       "<style scoped>\n",
       "    .dataframe tbody tr th:only-of-type {\n",
       "        vertical-align: middle;\n",
       "    }\n",
       "\n",
       "    .dataframe tbody tr th {\n",
       "        vertical-align: top;\n",
       "    }\n",
       "\n",
       "    .dataframe thead th {\n",
       "        text-align: right;\n",
       "    }\n",
       "</style>\n",
       "<table border=\"1\" class=\"dataframe\">\n",
       "  <thead>\n",
       "    <tr style=\"text-align: right;\">\n",
       "      <th></th>\n",
       "      <th>index</th>\n",
       "    </tr>\n",
       "  </thead>\n",
       "  <tbody>\n",
       "    <tr>\n",
       "      <th>2021-01-15</th>\n",
       "      <td>3363.379502</td>\n",
       "    </tr>\n",
       "    <tr>\n",
       "      <th>2021-02-15</th>\n",
       "      <td>3483.607931</td>\n",
       "    </tr>\n",
       "    <tr>\n",
       "      <th>2021-03-15</th>\n",
       "      <td>3651.197603</td>\n",
       "    </tr>\n",
       "    <tr>\n",
       "      <th>2021-04-15</th>\n",
       "      <td>3800.177183</td>\n",
       "    </tr>\n",
       "    <tr>\n",
       "      <th>2021-05-15</th>\n",
       "      <td>3926.456237</td>\n",
       "    </tr>\n",
       "  </tbody>\n",
       "</table>\n",
       "</div>"
      ],
      "text/plain": [
       "                  index\n",
       "2021-01-15  3363.379502\n",
       "2021-02-15  3483.607931\n",
       "2021-03-15  3651.197603\n",
       "2021-04-15  3800.177183\n",
       "2021-05-15  3926.456237"
      ]
     },
     "execution_count": 5,
     "metadata": {},
     "output_type": "execute_result"
    }
   ],
   "source": [
    "cpi.tail()"
   ]
  },
  {
   "cell_type": "code",
   "execution_count": 6,
   "metadata": {},
   "outputs": [
    {
     "name": "stdout",
     "output_type": "stream",
     "text": [
      "0.03973884591590896\n"
     ]
    },
    {
     "name": "stderr",
     "output_type": "stream",
     "text": [
      "<ipython-input-6-e11a8e0a56ab>:7: FutureWarning: The pandas.datetime class is deprecated and will be removed from pandas in a future version. Import from datetime module instead.\n",
      "  pd.datetime.today() + pd.DateOffset(months=6), freq = 'M') + pd.DateOffset(days=15)\n"
     ]
    },
    {
     "data": {
      "text/plain": [
       "2022-02-15    5575.954122\n",
       "Name: index, dtype: float64"
      ]
     },
     "metadata": {},
     "output_type": "display_data"
    }
   ],
   "source": [
    "## Tasa de inflacion de los ultimos 12 meses. Se usa para completar la inflacion del ultimo mes antes que se mida.\n",
    "r = cpi.pct_change().tail(6).mean()[0]\n",
    "print(r)\n",
    "\n",
    "## Estirar la serie de CPI hasta el dia de hoy (para precios actualizados)\n",
    "meses_presente = pd.date_range(cpi.index[-1], \n",
    "              pd.datetime.today() + pd.DateOffset(months=6), freq = 'M') + pd.DateOffset(days=15)\n",
    "\n",
    "cpi = pd.concat([cpi, pd.DataFrame([], index = meses_presente)])\n",
    "\n",
    "last_valid_ix = cpi.dropna().iloc[-1] # Level of the cpi index in last valid month\n",
    "\n",
    "cpi['avg_rate'] = pd.Series((1 + r)**range(len(cpi)), index = cpi.index)  ## Compute the exponential curve\n",
    "\n",
    "# Bring to actual level\n",
    "ratio = cpi.loc[last_valid_ix.name].avg_rate / cpi.loc[last_valid_ix.name]['index'] \n",
    "cpi['avg_rate'] = cpi['avg_rate']/ratio  \n",
    "\n",
    "# Complete cpi series up to present and remove exponential\n",
    "cpi['index'] = cpi['index'].fillna(cpi['avg_rate'])\n",
    "cpi = cpi.drop('avg_rate', axis = 1)\n",
    "\n",
    "nivel_precios_actual = cpi.tail(1)['index']\n",
    "display(nivel_precios_actual)"
   ]
  },
  {
   "cell_type": "code",
   "execution_count": 7,
   "metadata": {},
   "outputs": [
    {
     "data": {
      "text/html": [
       "<div>\n",
       "<style scoped>\n",
       "    .dataframe tbody tr th:only-of-type {\n",
       "        vertical-align: middle;\n",
       "    }\n",
       "\n",
       "    .dataframe tbody tr th {\n",
       "        vertical-align: top;\n",
       "    }\n",
       "\n",
       "    .dataframe thead th {\n",
       "        text-align: right;\n",
       "    }\n",
       "</style>\n",
       "<table border=\"1\" class=\"dataframe\">\n",
       "  <thead>\n",
       "    <tr style=\"text-align: right;\">\n",
       "      <th></th>\n",
       "      <th>index</th>\n",
       "    </tr>\n",
       "  </thead>\n",
       "  <tbody>\n",
       "    <tr>\n",
       "      <th>2021-10-15</th>\n",
       "      <td>4771.139465</td>\n",
       "    </tr>\n",
       "    <tr>\n",
       "      <th>2021-11-15</th>\n",
       "      <td>4960.739041</td>\n",
       "    </tr>\n",
       "    <tr>\n",
       "      <th>2021-12-15</th>\n",
       "      <td>5157.873085</td>\n",
       "    </tr>\n",
       "    <tr>\n",
       "      <th>2022-01-15</th>\n",
       "      <td>5362.841009</td>\n",
       "    </tr>\n",
       "    <tr>\n",
       "      <th>2022-02-15</th>\n",
       "      <td>5575.954122</td>\n",
       "    </tr>\n",
       "  </tbody>\n",
       "</table>\n",
       "</div>"
      ],
      "text/plain": [
       "                  index\n",
       "2021-10-15  4771.139465\n",
       "2021-11-15  4960.739041\n",
       "2021-12-15  5157.873085\n",
       "2022-01-15  5362.841009\n",
       "2022-02-15  5575.954122"
      ]
     },
     "execution_count": 7,
     "metadata": {},
     "output_type": "execute_result"
    }
   ],
   "source": [
    "cpi.to_csv('./../data/info/indice_precios_M.csv')\n",
    "cpi.tail()"
   ]
  },
  {
   "cell_type": "code",
   "execution_count": 8,
   "metadata": {},
   "outputs": [],
   "source": [
    "### Ver de ponerle el valor a mitad de mes."
   ]
  },
  {
   "cell_type": "code",
   "execution_count": 9,
   "metadata": {
    "scrolled": false
   },
   "outputs": [
    {
     "data": {
      "image/png": "[encoded data removed]",
      "text/plain": [
       "<Figure size 432x288 with 1 Axes>"
      ]
     },
     "metadata": {
      "needs_background": "light"
     },
     "output_type": "display_data"
    }
   ],
   "source": [
    "pd.options.display.max_rows = 99\n",
    "## Interpolado a frecuencia diaria (util para llevar al \"dia de hoy\")\n",
    "\n",
    "fig, ax = plt.subplots()\n",
    "(cpi/cpi.loc['2003-01-15']).reindex(pd.date_range(\n",
    "    start = '2019-12-15', end = '2021-01-15', freq = 'd')).interpolate(method = 'time').plot(ax = ax)\n",
    "(cpi/cpi.loc['2003-01-15']).reindex(pd.date_range(\n",
    "    start = '2019-12-15', end = '2021-01-15', freq = 'd')).interpolate(method = 'quadratic').plot(ax = ax)\n",
    "ax.set_yscale('log')"
   ]
  },
  {
   "cell_type": "code",
   "execution_count": 10,
   "metadata": {},
   "outputs": [
    {
     "data": {
      "text/plain": [
       "<matplotlib.lines.Line2D at 0x7f446fc889a0>"
      ]
     },
     "execution_count": 10,
     "metadata": {},
     "output_type": "execute_result"
    },
    {
     "data": {
      "image/png": "[encoded data removed]",
      "text/plain": [
       "<Figure size 720x360 with 1 Axes>"
      ]
     },
     "metadata": {
      "needs_background": "light"
     },
     "output_type": "display_data"
    }
   ],
   "source": [
    "cpi_d = cpi.reindex(pd.date_range(\n",
    "    start = '2002-12-15', end = '2021-12-15', freq = 'd')).interpolate(method = 'quadratic')\n",
    "fig, ax = plt.subplots(1, figsize = (10, 5))\n",
    "(cpi_d/cpi_d.shift(365)).dropna().plot(ax = ax)\n",
    "ax.axvline('2007-12')\n",
    "ax.axvline('2015-12')\n",
    "ax.axvline('2019-12')"
   ]
  },
  {
   "cell_type": "code",
   "execution_count": 11,
   "metadata": {},
   "outputs": [],
   "source": [
    "# index_d = (cpi_d/cpi_d.loc['2016-01-01']).dropna()\n",
    "index_d = cpi_d.dropna()\n",
    "index_d.to_csv('./../data/info/indice_precios_d.csv')"
   ]
  },
  {
   "cell_type": "code",
   "execution_count": 12,
   "metadata": {},
   "outputs": [],
   "source": [
    "# display(index_d.loc[index_d['index'] >= .1].iloc[[0]])\n",
    "# display(index_d.loc[index_d['index'] >= .2].iloc[[0]])\n",
    "# display(index_d.loc[index_d['index'] >= .5].iloc[[0]])\n",
    "# display(index_d.loc[index_d['index'] >= 1].iloc[[0]])\n",
    "# display(index_d.loc[index_d['index'] >= 2].iloc[[0]])\n",
    "# display(index_d.loc[index_d['index'] >= 5].iloc[[0]])"
   ]
  },
  {
   "cell_type": "code",
   "execution_count": 13,
   "metadata": {},
   "outputs": [
    {
     "data": {
      "text/plain": [
       "index    1.406459\n",
       "dtype: float64"
      ]
     },
     "execution_count": 13,
     "metadata": {},
     "output_type": "execute_result"
    }
   ],
   "source": [
    "(index_d/index_d.shift(365)).iloc[-365*5:].mean()"
   ]
  },
  {
   "cell_type": "code",
   "execution_count": 14,
   "metadata": {},
   "outputs": [
    {
     "data": {
      "text/html": [
       "<div>\n",
       "<style scoped>\n",
       "    .dataframe tbody tr th:only-of-type {\n",
       "        vertical-align: middle;\n",
       "    }\n",
       "\n",
       "    .dataframe tbody tr th {\n",
       "        vertical-align: top;\n",
       "    }\n",
       "\n",
       "    .dataframe thead th {\n",
       "        text-align: right;\n",
       "    }\n",
       "</style>\n",
       "<table border=\"1\" class=\"dataframe\">\n",
       "  <thead>\n",
       "    <tr style=\"text-align: right;\">\n",
       "      <th></th>\n",
       "      <th>index</th>\n",
       "    </tr>\n",
       "  </thead>\n",
       "  <tbody>\n",
       "    <tr>\n",
       "      <th>2020-12-15</th>\n",
       "      <td>NaN</td>\n",
       "    </tr>\n",
       "    <tr>\n",
       "      <th>2021-01-15</th>\n",
       "      <td>4.05</td>\n",
       "    </tr>\n",
       "    <tr>\n",
       "      <th>2021-02-15</th>\n",
       "      <td>3.57</td>\n",
       "    </tr>\n",
       "    <tr>\n",
       "      <th>2021-03-15</th>\n",
       "      <td>4.81</td>\n",
       "    </tr>\n",
       "    <tr>\n",
       "      <th>2021-04-15</th>\n",
       "      <td>4.08</td>\n",
       "    </tr>\n",
       "    <tr>\n",
       "      <th>2021-05-15</th>\n",
       "      <td>3.32</td>\n",
       "    </tr>\n",
       "    <tr>\n",
       "      <th>2021-06-15</th>\n",
       "      <td>3.97</td>\n",
       "    </tr>\n",
       "    <tr>\n",
       "      <th>2021-07-15</th>\n",
       "      <td>3.97</td>\n",
       "    </tr>\n",
       "    <tr>\n",
       "      <th>2021-08-15</th>\n",
       "      <td>3.97</td>\n",
       "    </tr>\n",
       "    <tr>\n",
       "      <th>2021-09-15</th>\n",
       "      <td>3.97</td>\n",
       "    </tr>\n",
       "    <tr>\n",
       "      <th>2021-10-15</th>\n",
       "      <td>3.97</td>\n",
       "    </tr>\n",
       "    <tr>\n",
       "      <th>2021-11-15</th>\n",
       "      <td>3.97</td>\n",
       "    </tr>\n",
       "    <tr>\n",
       "      <th>2021-12-15</th>\n",
       "      <td>3.97</td>\n",
       "    </tr>\n",
       "    <tr>\n",
       "      <th>2022-01-15</th>\n",
       "      <td>3.97</td>\n",
       "    </tr>\n",
       "    <tr>\n",
       "      <th>2022-02-15</th>\n",
       "      <td>3.97</td>\n",
       "    </tr>\n",
       "  </tbody>\n",
       "</table>\n",
       "</div>"
      ],
      "text/plain": [
       "            index\n",
       "2020-12-15    NaN\n",
       "2021-01-15   4.05\n",
       "2021-02-15   3.57\n",
       "2021-03-15   4.81\n",
       "2021-04-15   4.08\n",
       "2021-05-15   3.32\n",
       "2021-06-15   3.97\n",
       "2021-07-15   3.97\n",
       "2021-08-15   3.97\n",
       "2021-09-15   3.97\n",
       "2021-10-15   3.97\n",
       "2021-11-15   3.97\n",
       "2021-12-15   3.97\n",
       "2022-01-15   3.97\n",
       "2022-02-15   3.97"
      ]
     },
     "execution_count": 14,
     "metadata": {},
     "output_type": "execute_result"
    }
   ],
   "source": [
    "100*cpi.tail(15).pct_change().round(4)"
   ]
  },
  {
   "cell_type": "code",
   "execution_count": 15,
   "metadata": {},
   "outputs": [
    {
     "data": {
      "text/html": [
       "<div>\n",
       "<style scoped>\n",
       "    .dataframe tbody tr th:only-of-type {\n",
       "        vertical-align: middle;\n",
       "    }\n",
       "\n",
       "    .dataframe tbody tr th {\n",
       "        vertical-align: top;\n",
       "    }\n",
       "\n",
       "    .dataframe thead th {\n",
       "        text-align: right;\n",
       "    }\n",
       "</style>\n",
       "<table border=\"1\" class=\"dataframe\">\n",
       "  <thead>\n",
       "    <tr style=\"text-align: right;\">\n",
       "      <th></th>\n",
       "      <th>index</th>\n",
       "    </tr>\n",
       "    <tr>\n",
       "      <th>Q</th>\n",
       "      <th></th>\n",
       "    </tr>\n",
       "  </thead>\n",
       "  <tbody>\n",
       "    <tr>\n",
       "      <th>2021-02-15</th>\n",
       "      <td>3499.395012</td>\n",
       "    </tr>\n",
       "    <tr>\n",
       "      <th>2021-05-15</th>\n",
       "      <td>3936.374165</td>\n",
       "    </tr>\n",
       "    <tr>\n",
       "      <th>2021-08-15</th>\n",
       "      <td>4415.637241</td>\n",
       "    </tr>\n",
       "    <tr>\n",
       "      <th>2021-11-15</th>\n",
       "      <td>4963.250530</td>\n",
       "    </tr>\n",
       "    <tr>\n",
       "      <th>2022-02-15</th>\n",
       "      <td>5469.397565</td>\n",
       "    </tr>\n",
       "  </tbody>\n",
       "</table>\n",
       "</div>"
      ],
      "text/plain": [
       "                  index\n",
       "Q                      \n",
       "2021-02-15  3499.395012\n",
       "2021-05-15  3936.374165\n",
       "2021-08-15  4415.637241\n",
       "2021-11-15  4963.250530\n",
       "2022-02-15  5469.397565"
      ]
     },
     "execution_count": 15,
     "metadata": {},
     "output_type": "execute_result"
    }
   ],
   "source": [
    "cpi_ = cpi.groupby(pd.Grouper(freq='Q')).mean().loc['2003':][['index']]#.to_csv(...)\n",
    "\n",
    "### Convenciones para fijar fecha de cuatrimestre.\n",
    "cpi_.index = cpi_.index - pd.to_timedelta(cpi_.index.day - 15, unit='d') - pd.DateOffset(months=1)\n",
    "cpi_.index.name = 'Q'\n",
    "\n",
    "cpi_.tail()"
   ]
  },
  {
   "cell_type": "code",
   "execution_count": 16,
   "metadata": {},
   "outputs": [],
   "source": [
    "from datetime import datetime"
   ]
  },
  {
   "cell_type": "code",
   "execution_count": 17,
   "metadata": {},
   "outputs": [],
   "source": [
    "cpi_.to_csv('./../data/info/indice_precios_Q.csv')"
   ]
  },
  {
   "cell_type": "code",
   "execution_count": 18,
   "metadata": {},
   "outputs": [],
   "source": [
    "# cpi = cpi.groupby(pd.Grouper(freq='Q')).mean().loc[str(startyr):str(endyr)][['index']]#.to_csv(...)\n",
    "# cpi.set_index('index')\n",
    "# cpi.index.name = 'Q'\n",
    "# #\n",
    "# indice_precios = cpi"
   ]
  },
  {
   "cell_type": "markdown",
   "metadata": {},
   "source": [
    "## Tipo de Cambio"
   ]
  },
  {
   "cell_type": "code",
   "execution_count": 29,
   "metadata": {},
   "outputs": [
    {
     "data": {
      "text/html": [
       "<div>\n",
       "<style scoped>\n",
       "    .dataframe tbody tr th:only-of-type {\n",
       "        vertical-align: middle;\n",
       "    }\n",
       "\n",
       "    .dataframe tbody tr th {\n",
       "        vertical-align: top;\n",
       "    }\n",
       "\n",
       "    .dataframe thead th {\n",
       "        text-align: right;\n",
       "    }\n",
       "</style>\n",
       "<table border=\"1\" class=\"dataframe\">\n",
       "  <thead>\n",
       "    <tr style=\"text-align: right;\">\n",
       "      <th></th>\n",
       "      <th>tipo_cambio_a3500</th>\n",
       "    </tr>\n",
       "    <tr>\n",
       "      <th>indice_tiempo</th>\n",
       "      <th></th>\n",
       "    </tr>\n",
       "  </thead>\n",
       "  <tbody>\n",
       "    <tr>\n",
       "      <th>2021-01-15</th>\n",
       "      <td>85.845861</td>\n",
       "    </tr>\n",
       "    <tr>\n",
       "      <th>2021-02-15</th>\n",
       "      <td>88.723921</td>\n",
       "    </tr>\n",
       "    <tr>\n",
       "      <th>2021-03-15</th>\n",
       "      <td>91.095058</td>\n",
       "    </tr>\n",
       "    <tr>\n",
       "      <th>2021-04-15</th>\n",
       "      <td>92.729677</td>\n",
       "    </tr>\n",
       "    <tr>\n",
       "      <th>2021-05-15</th>\n",
       "      <td>94.099952</td>\n",
       "    </tr>\n",
       "  </tbody>\n",
       "</table>\n",
       "</div>"
      ],
      "text/plain": [
       "               tipo_cambio_a3500\n",
       "indice_tiempo                   \n",
       "2021-01-15             85.845861\n",
       "2021-02-15             88.723921\n",
       "2021-03-15             91.095058\n",
       "2021-04-15             92.729677\n",
       "2021-05-15             94.099952"
      ]
     },
     "execution_count": 29,
     "metadata": {},
     "output_type": "execute_result"
    }
   ],
   "source": [
    "## Cargar fuente Indec para IPC post 2015\n",
    "### Descargar info actualizada en ipc_b201612_mensual.csv\n",
    "# csv_url = 'https://infra.datos.gob.ar/catalog/sspm/dataset/145/distribution/145.3/download/indice-precios-al-consumidor-nivel-general-base-diciembre-2016-mensual.csv'\n",
    "csv_url = 'https://infra.datos.gob.ar/catalog/sspm/dataset/168/distribution/168.1/download/datos-tipo-cambio-usd-futuro-dolar-frecuencia-diaria.csv'\n",
    "req = requests.get(csv_url)\n",
    "csv_file = open('./../data/info/tcambiousd_diario.csv', 'wb')\n",
    "csv_file.write(req.content)\n",
    "csv_file.close()\n",
    "\n",
    "\n",
    "## Usar archivo\n",
    "usd = pd.read_csv('./../data/info/tcambiousd_diario.csv',\n",
    "                 usecols = ['indice_tiempo','tipo_cambio_a3500']\n",
    "                 ).set_index('indice_tiempo').astype(float)\n",
    "\n",
    "usd.index = pd.to_datetime(usd.index, format='%Y-%m-%d')\n",
    "usd = usd.loc['2003':]\n",
    "usd = usd.groupby(pd.Grouper(level = 0, freq = 'M')).mean()\n",
    "usd.index = usd.index + pd.offsets.MonthEnd(-1) + pd.offsets.Day(15)\n",
    "usd.tail()"
   ]
  },
  {
   "cell_type": "code",
   "execution_count": 30,
   "metadata": {},
   "outputs": [
    {
     "name": "stdout",
     "output_type": "stream",
     "text": [
      "0.027680096840586515\n"
     ]
    },
    {
     "name": "stderr",
     "output_type": "stream",
     "text": [
      "<ipython-input-30-2afa7c65227c>:7: FutureWarning: The pandas.datetime class is deprecated and will be removed from pandas in a future version. Import from datetime module instead.\n",
      "  pd.datetime.today() + pd.DateOffset(months=6), freq = 'M') + pd.DateOffset(days=15)\n"
     ]
    }
   ],
   "source": [
    "## Tasa de inflacion de los ultimos 12 meses. Se usa para completar la inflacion del ultimo mes antes que se mida.\n",
    "r = usd.pct_change().tail(6).mean()[0]\n",
    "print(r)\n",
    "\n",
    "## Estirar la serie de CPI hasta el dia de hoy (para precios actualizados)\n",
    "meses_presente = pd.date_range(usd.index[-1], \n",
    "              pd.datetime.today() + pd.DateOffset(months=6), freq = 'M') + pd.DateOffset(days=15)\n",
    "\n",
    "usd = pd.concat([usd, pd.DataFrame([], index = meses_presente)])\n",
    "\n",
    "last_valid_ix = usd.dropna().iloc[-1] # Level of the cpi index in last valid month\n",
    "\n",
    "usd['avg_rate'] = pd.Series((1 + r)**range(len(usd)), index = usd.index)  ## Compute the exponential curve\n",
    "\n",
    "# Bring to actual level\n",
    "ratio = usd.loc[last_valid_ix.name].avg_rate / usd.loc[last_valid_ix.name]['tipo_cambio_a3500'] \n",
    "usd['avg_rate'] = usd['avg_rate']/ratio  \n",
    "\n",
    "# Complete cpi series up to present and remove exponential\n",
    "usd['tipo_cambio_a3500'] = usd['tipo_cambio_a3500'].fillna(usd['avg_rate'])\n",
    "usd = usd.drop('avg_rate', axis = 1)\n"
   ]
  },
  {
   "cell_type": "code",
   "execution_count": 31,
   "metadata": {},
   "outputs": [
    {
     "data": {
      "text/plain": [
       "<AxesSubplot:>"
      ]
     },
     "execution_count": 31,
     "metadata": {},
     "output_type": "execute_result"
    },
    {
     "data": {
      "image/png": "[encoded data removed]",
      "text/plain": [
       "<Figure size 432x288 with 1 Axes>"
      ]
     },
     "metadata": {
      "needs_background": "light"
     },
     "output_type": "display_data"
    }
   ],
   "source": [
    "# usd.rolling(30).mean().plot() #legend = False\n",
    "usd.plot() #legend = False"
   ]
  },
  {
   "cell_type": "code",
   "execution_count": 32,
   "metadata": {},
   "outputs": [
    {
     "data": {
      "text/html": [
       "<div>\n",
       "<style scoped>\n",
       "    .dataframe tbody tr th:only-of-type {\n",
       "        vertical-align: middle;\n",
       "    }\n",
       "\n",
       "    .dataframe tbody tr th {\n",
       "        vertical-align: top;\n",
       "    }\n",
       "\n",
       "    .dataframe thead th {\n",
       "        text-align: right;\n",
       "    }\n",
       "</style>\n",
       "<table border=\"1\" class=\"dataframe\">\n",
       "  <thead>\n",
       "    <tr style=\"text-align: right;\">\n",
       "      <th></th>\n",
       "      <th>tipo_cambio_a3500</th>\n",
       "    </tr>\n",
       "    <tr>\n",
       "      <th>Q</th>\n",
       "      <th></th>\n",
       "    </tr>\n",
       "  </thead>\n",
       "  <tbody>\n",
       "    <tr>\n",
       "      <th>2021-02-15</th>\n",
       "      <td>88.554947</td>\n",
       "    </tr>\n",
       "    <tr>\n",
       "      <th>2021-05-15</th>\n",
       "      <td>94.511425</td>\n",
       "    </tr>\n",
       "    <tr>\n",
       "      <th>2021-08-15</th>\n",
       "      <td>102.157711</td>\n",
       "    </tr>\n",
       "    <tr>\n",
       "      <th>2021-11-15</th>\n",
       "      <td>110.877899</td>\n",
       "    </tr>\n",
       "    <tr>\n",
       "      <th>2022-02-15</th>\n",
       "      <td>118.692262</td>\n",
       "    </tr>\n",
       "  </tbody>\n",
       "</table>\n",
       "</div>"
      ],
      "text/plain": [
       "            tipo_cambio_a3500\n",
       "Q                            \n",
       "2021-02-15          88.554947\n",
       "2021-05-15          94.511425\n",
       "2021-08-15         102.157711\n",
       "2021-11-15         110.877899\n",
       "2022-02-15         118.692262"
      ]
     },
     "execution_count": 32,
     "metadata": {},
     "output_type": "execute_result"
    }
   ],
   "source": [
    "usd = usd.groupby(pd.Grouper(level = 0, freq = 'Q')).mean()\n",
    "usd.index = usd.index + pd.offsets.MonthEnd(-2) + pd.offsets.Day(15)\n",
    "usd.index.name = 'Q'\n",
    "usd.tail()"
   ]
  },
  {
   "cell_type": "code",
   "execution_count": 33,
   "metadata": {},
   "outputs": [],
   "source": [
    "usd.to_csv('./../data/info/ARS_USD_Q.csv')"
   ]
  },
  {
   "cell_type": "markdown",
   "metadata": {},
   "source": [
    "## Poder de Compra (PPP)"
   ]
  },
  {
   "cell_type": "code",
   "execution_count": 5,
   "metadata": {
    "scrolled": true
   },
   "outputs": [
    {
     "data": {
      "text/html": [
       "<div>\n",
       "<style scoped>\n",
       "    .dataframe tbody tr th:only-of-type {\n",
       "        vertical-align: middle;\n",
       "    }\n",
       "\n",
       "    .dataframe tbody tr th {\n",
       "        vertical-align: top;\n",
       "    }\n",
       "\n",
       "    .dataframe thead th {\n",
       "        text-align: right;\n",
       "    }\n",
       "</style>\n",
       "<table border=\"1\" class=\"dataframe\">\n",
       "  <thead>\n",
       "    <tr style=\"text-align: right;\">\n",
       "      <th></th>\n",
       "      <th>Value</th>\n",
       "    </tr>\n",
       "    <tr>\n",
       "      <th>TIME</th>\n",
       "      <th></th>\n",
       "    </tr>\n",
       "  </thead>\n",
       "  <tbody>\n",
       "    <tr>\n",
       "      <th>2016-07-01</th>\n",
       "      <td>9.294966</td>\n",
       "    </tr>\n",
       "    <tr>\n",
       "      <th>2017-07-01</th>\n",
       "      <td>10.256822</td>\n",
       "    </tr>\n",
       "    <tr>\n",
       "      <th>2018-07-01</th>\n",
       "      <td>14.024082</td>\n",
       "    </tr>\n",
       "    <tr>\n",
       "      <th>2019-07-01</th>\n",
       "      <td>20.752961</td>\n",
       "    </tr>\n",
       "    <tr>\n",
       "      <th>2020-07-01</th>\n",
       "      <td>28.673797</td>\n",
       "    </tr>\n",
       "  </tbody>\n",
       "</table>\n",
       "</div>"
      ],
      "text/plain": [
       "                Value\n",
       "TIME                 \n",
       "2016-07-01   9.294966\n",
       "2017-07-01  10.256822\n",
       "2018-07-01  14.024082\n",
       "2019-07-01  20.752961\n",
       "2020-07-01  28.673797"
      ]
     },
     "execution_count": 5,
     "metadata": {},
     "output_type": "execute_result"
    }
   ],
   "source": [
    "csv_url = 'https://stats.oecd.org/sdmx-json/data/DP_LIVE/.PPP.../OECD?contentType=csv&detail=code&separator=comma&csv-lang=en'\n",
    "req = requests.get(csv_url)\n",
    "csv_file = open('./../data/info/ex_PPP.csv', 'wb')\n",
    "csv_file.write(req.content)\n",
    "csv_file.close()\n",
    "\n",
    "## Usar archivo\n",
    "ppp = pd.read_csv('./../data/info/ex_PPP.csv')\n",
    "ppp = ppp.loc[ppp.LOCATION == 'ARG'][['TIME', 'Value']].set_index('TIME').astype(float)\n",
    "\n",
    "\n",
    "ppp.index = pd.to_datetime(ppp.index, format='%Y')\n",
    "ppp = ppp.loc['2003':]\n",
    "# ppp = ppp.groupby(pd.Grouper(level = 0, freq = 'M')).mean()\n",
    "ppp.index = ppp.index + pd.DateOffset(months=6)\n",
    "ppp.tail()"
   ]
  },
  {
   "cell_type": "code",
   "execution_count": 6,
   "metadata": {},
   "outputs": [
    {
     "name": "stdout",
     "output_type": "stream",
     "text": [
      "0.32422972585025006\n"
     ]
    },
    {
     "data": {
      "text/html": [
       "<div>\n",
       "<style scoped>\n",
       "    .dataframe tbody tr th:only-of-type {\n",
       "        vertical-align: middle;\n",
       "    }\n",
       "\n",
       "    .dataframe tbody tr th {\n",
       "        vertical-align: top;\n",
       "    }\n",
       "\n",
       "    .dataframe thead th {\n",
       "        text-align: right;\n",
       "    }\n",
       "</style>\n",
       "<table border=\"1\" class=\"dataframe\">\n",
       "  <thead>\n",
       "    <tr style=\"text-align: right;\">\n",
       "      <th></th>\n",
       "      <th>Value</th>\n",
       "    </tr>\n",
       "  </thead>\n",
       "  <tbody>\n",
       "    <tr>\n",
       "      <th>2018-07-01</th>\n",
       "      <td>14.024082</td>\n",
       "    </tr>\n",
       "    <tr>\n",
       "      <th>2019-07-01</th>\n",
       "      <td>20.752961</td>\n",
       "    </tr>\n",
       "    <tr>\n",
       "      <th>2020-07-01</th>\n",
       "      <td>28.673797</td>\n",
       "    </tr>\n",
       "    <tr>\n",
       "      <th>2021-07-01</th>\n",
       "      <td>37.970694</td>\n",
       "    </tr>\n",
       "    <tr>\n",
       "      <th>2022-07-01</th>\n",
       "      <td>50.281922</td>\n",
       "    </tr>\n",
       "  </tbody>\n",
       "</table>\n",
       "</div>"
      ],
      "text/plain": [
       "                Value\n",
       "2018-07-01  14.024082\n",
       "2019-07-01  20.752961\n",
       "2020-07-01  28.673797\n",
       "2021-07-01  37.970694\n",
       "2022-07-01  50.281922"
      ]
     },
     "execution_count": 6,
     "metadata": {},
     "output_type": "execute_result"
    }
   ],
   "source": [
    "## Tasa de inflacion de los ultimos 12 meses. Se usa para completar la inflacion del ultimo mes antes que se mida.\n",
    "tseries = ppp\n",
    "r = tseries.pct_change().tail(6).mean()[0]\n",
    "print(r)\n",
    "\n",
    "## Estirar la serie de CPI hasta el dia de hoy (para precios actualizados)\n",
    "cur_end = tseries.index[-1]\n",
    "new_end = tseries.index[-1] + pd.DateOffset(years = 2)\n",
    "anos_presente = pd.date_range(cur_end, new_end, freq = 'Y') + pd.DateOffset(months = 6, days = 1)\n",
    "\n",
    "tseries = pd.concat([tseries, pd.DataFrame([], index = anos_presente)])\n",
    "\n",
    "last_valid_ix = tseries.dropna().iloc[-1] # Level of the cpi index in last valid month\n",
    "\n",
    "tseries['avg_rate'] = pd.Series((1 + r)**range(len(tseries)), index = tseries.index)  ## Compute the exponential curve\n",
    "\n",
    "# Bring to actual level\n",
    "ratio = tseries.loc[last_valid_ix.name].avg_rate / tseries.loc[last_valid_ix.name]['Value'] \n",
    "tseries['avg_rate'] = tseries['avg_rate']/ratio  \n",
    "\n",
    "# Complete cpi series up to present and remove exponential\n",
    "tseries['Value'] = tseries['Value'].fillna(tseries['avg_rate'])\n",
    "tseries = tseries.drop('avg_rate', axis = 1)\n",
    "\n",
    "ppp = tseries\n",
    "ppp.tail()"
   ]
  },
  {
   "cell_type": "code",
   "execution_count": 7,
   "metadata": {},
   "outputs": [],
   "source": [
    "# # ## Conversor PPP\n",
    "# # PA.NUS.PPP\n",
    "# # PPP conversion factor, GDP (LCU per international $)\n",
    "# # Purchasing power parity (PPP) conversion factor is a spatial price deflator and currency converter \n",
    "# # that controls for price level differences between countries, thereby allowing volume comparisons of\n",
    "# # gross domestic product (GDP) and its expenditure components. This conversion factor is for GDP.\t\n",
    "# # International Comparison Program, World Bank | World Development Indicators database, World Bank | \n",
    "# # Eurostat-OECD PPP Programme.\n",
    "\n",
    "    \n",
    "# csv_url = 'https://api.worldbank.org/v2/en/indicator/PA.NUS.PPP?downloadformat=csv'\n",
    "# req = requests.get(csv_url)\n",
    "# csv_file = open('./../data/info/PA_PPP.zip', 'wb')\n",
    "# csv_file.write(req.content)\n",
    "# csv_file.close()\n",
    "\n",
    "# import zipfile\n",
    "# zf = zipfile.ZipFile('./../data/info/PA_PPP.zip', 'r')\n",
    "# ppp = pd.read_csv(zf.open('API_PA.NUS.PPP_DS2_en_csv_v2_2708557.csv'), skiprows = 4, index_col=[0, 1, 2, 3])\n",
    "# ppp = ppp.loc['Argentina'].T.dropna().pct_change()\n",
    "# ppp.columns = ['ARG_PA_PPP']\n",
    "\n",
    "# ## Extend to current times\n",
    "# mn_ppp = ppp.tail(3).mean()\n",
    "# _2021 = pd.DataFrame(mn_ppp, columns = ['2021'], index = ['ARG_PA_PPP']).T\n",
    "# _2022 = pd.DataFrame(mn_ppp, columns = ['2022'], index = ['ARG_PA_PPP']).T\n",
    "# ppp = ppp.append(_2021).append(_2022)\n",
    "\n",
    "# ppp.index = pd.to_datetime(ppp.index)\n",
    "# ppp.index = ppp.index + pd.DateOffset(months=6)# + pd.offsets.MonthEnd(-1) + pd.offsets.Day(15)\n",
    "# ppp.index.name = 'Q'\n",
    "\n",
    "# ppp.tail()"
   ]
  },
  {
   "cell_type": "code",
   "execution_count": 8,
   "metadata": {},
   "outputs": [
    {
     "data": {
      "text/html": [
       "<div>\n",
       "<style scoped>\n",
       "    .dataframe tbody tr th:only-of-type {\n",
       "        vertical-align: middle;\n",
       "    }\n",
       "\n",
       "    .dataframe tbody tr th {\n",
       "        vertical-align: top;\n",
       "    }\n",
       "\n",
       "    .dataframe thead th {\n",
       "        text-align: right;\n",
       "    }\n",
       "</style>\n",
       "<table border=\"1\" class=\"dataframe\">\n",
       "  <thead>\n",
       "    <tr style=\"text-align: right;\">\n",
       "      <th></th>\n",
       "      <th>Value</th>\n",
       "    </tr>\n",
       "  </thead>\n",
       "  <tbody>\n",
       "    <tr>\n",
       "      <th>2022-03-15</th>\n",
       "      <td>46.334365</td>\n",
       "    </tr>\n",
       "    <tr>\n",
       "      <th>2022-04-15</th>\n",
       "      <td>47.431127</td>\n",
       "    </tr>\n",
       "    <tr>\n",
       "      <th>2022-05-15</th>\n",
       "      <td>48.550894</td>\n",
       "    </tr>\n",
       "    <tr>\n",
       "      <th>2022-06-15</th>\n",
       "      <td>49.693417</td>\n",
       "    </tr>\n",
       "    <tr>\n",
       "      <th>2022-07-15</th>\n",
       "      <td>50.281922</td>\n",
       "    </tr>\n",
       "  </tbody>\n",
       "</table>\n",
       "</div>"
      ],
      "text/plain": [
       "                Value\n",
       "2022-03-15  46.334365\n",
       "2022-04-15  47.431127\n",
       "2022-05-15  48.550894\n",
       "2022-06-15  49.693417\n",
       "2022-07-15  50.281922"
      ]
     },
     "execution_count": 8,
     "metadata": {},
     "output_type": "execute_result"
    }
   ],
   "source": [
    "ppp = ppp.resample('d').mean().interpolate(method = 'quadratic')#.plot()\n",
    "ppp = ppp.loc['2003':]\n",
    "ppp = ppp.groupby(pd.Grouper(level = 0, freq = 'M')).mean()\n",
    "ppp.index = ppp.index + pd.offsets.MonthEnd(-1) + pd.offsets.Day(15)\n",
    "ppp.tail()"
   ]
  },
  {
   "cell_type": "code",
   "execution_count": 9,
   "metadata": {},
   "outputs": [
    {
     "data": {
      "text/html": [
       "<div>\n",
       "<style scoped>\n",
       "    .dataframe tbody tr th:only-of-type {\n",
       "        vertical-align: middle;\n",
       "    }\n",
       "\n",
       "    .dataframe tbody tr th {\n",
       "        vertical-align: top;\n",
       "    }\n",
       "\n",
       "    .dataframe thead th {\n",
       "        text-align: right;\n",
       "    }\n",
       "</style>\n",
       "<table border=\"1\" class=\"dataframe\">\n",
       "  <thead>\n",
       "    <tr style=\"text-align: right;\">\n",
       "      <th></th>\n",
       "      <th>Value</th>\n",
       "    </tr>\n",
       "    <tr>\n",
       "      <th>Q</th>\n",
       "      <th></th>\n",
       "    </tr>\n",
       "  </thead>\n",
       "  <tbody>\n",
       "    <tr>\n",
       "      <th>2021-08-15</th>\n",
       "      <td>39.345440</td>\n",
       "    </tr>\n",
       "    <tr>\n",
       "      <th>2021-11-15</th>\n",
       "      <td>42.232381</td>\n",
       "    </tr>\n",
       "    <tr>\n",
       "      <th>2022-02-15</th>\n",
       "      <td>45.302343</td>\n",
       "    </tr>\n",
       "    <tr>\n",
       "      <th>2022-05-15</th>\n",
       "      <td>48.558479</td>\n",
       "    </tr>\n",
       "    <tr>\n",
       "      <th>2022-08-15</th>\n",
       "      <td>50.281922</td>\n",
       "    </tr>\n",
       "  </tbody>\n",
       "</table>\n",
       "</div>"
      ],
      "text/plain": [
       "                Value\n",
       "Q                    \n",
       "2021-08-15  39.345440\n",
       "2021-11-15  42.232381\n",
       "2022-02-15  45.302343\n",
       "2022-05-15  48.558479\n",
       "2022-08-15  50.281922"
      ]
     },
     "execution_count": 9,
     "metadata": {},
     "output_type": "execute_result"
    }
   ],
   "source": [
    "ppp = ppp.groupby(pd.Grouper(level = 0, freq = 'Q')).mean()\n",
    "ppp.index = ppp.index + pd.offsets.MonthEnd(-2) + pd.offsets.Day(15)\n",
    "ppp.index.name = 'Q'\n",
    "ppp.tail()"
   ]
  },
  {
   "cell_type": "code",
   "execution_count": 25,
   "metadata": {},
   "outputs": [
    {
     "data": {
      "text/plain": [
       "<AxesSubplot:xlabel='Q'>"
      ]
     },
     "execution_count": 25,
     "metadata": {},
     "output_type": "execute_result"
    },
    {
     "data": {
      "image/png": "[encoded data removed]",
      "text/plain": [
       "<Figure size 432x288 with 1 Axes>"
      ]
     },
     "metadata": {
      "needs_background": "light"
     },
     "output_type": "display_data"
    }
   ],
   "source": [
    "ppp.plot(marker = '.')"
   ]
  },
  {
   "cell_type": "code",
   "execution_count": 10,
   "metadata": {},
   "outputs": [],
   "source": [
    "ppp.to_csv('./../data/info/ARG_PPP_Q.csv')"
   ]
  },
  {
   "cell_type": "code",
   "execution_count": null,
   "metadata": {},
   "outputs": [],
   "source": []
  }
 ],
 "metadata": {
  "kernelspec": {
   "display_name": "Python 3",
   "language": "python",
   "name": "python3"
  },
  "language_info": {
   "codemirror_mode": {
    "name": "ipython",
    "version": 3
   },
   "file_extension": ".py",
   "mimetype": "text/x-python",
   "name": "python",
   "nbconvert_exporter": "python",
   "pygments_lexer": "ipython3",
   "version": "3.8.5"
  }
 },
 "nbformat": 4,
 "nbformat_minor": 2
}
