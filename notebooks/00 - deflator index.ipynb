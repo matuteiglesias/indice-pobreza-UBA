{
 "cells": [
  {
   "cell_type": "code",
   "execution_count": 1,
   "metadata": {},
   "outputs": [],
   "source": [
    "import pandas as pd\n",
    "import matplotlib.pyplot as plt\n",
    "%matplotlib inline\n",
    "\n",
    "import numpy as np\n",
    "import requests"
   ]
  },
  {
   "cell_type": "code",
   "execution_count": null,
   "metadata": {},
   "outputs": [],
   "source": []
  },
  {
   "cell_type": "code",
   "execution_count": 2,
   "metadata": {
    "scrolled": false
   },
   "outputs": [],
   "source": [
    "## Cargar fuente Pricestats\n",
    "\n",
    "pd.read_csv('./../data/info/Argentina_inflation_pricestats.csv')\n",
    "\n",
    "cpi = pd.read_csv('./../data/info/Argentina_inflation_pricestats.csv').dropna(subset = ['index'])\n",
    "# cpi.index = pd.date_range(\"1943-01\", periods=len(cpi), freq = 'M')\n",
    "cpi.index = pd.date_range(\"1942-12\", periods=len(cpi), freq = 'M') + pd.DateOffset(days=15)\n",
    "\n",
    "## Cargar fuente Indec para IPC post 2015\n",
    "### Descargar info actualizada en ipc_b201612_mensual.csv\n",
    "csv_url = 'https://infra.datos.gob.ar/catalog/sspm/dataset/145/distribution/145.3/download/indice-precios-al-consumidor-nivel-general-base-diciembre-2016-mensual.csv'\n",
    "req = requests.get(csv_url)\n",
    "csv_file = open('./../data/info/ipc_b201612_mensual.csv', 'wb')\n",
    "csv_file.write(req.content)\n",
    "csv_file.close()\n",
    "\n",
    "## Usar archivo\n",
    "cpi2 = pd.read_csv('./../data/info/ipc_b201612_mensual.csv',\n",
    "                   usecols = ['ipc_ng_nacional']).astype(float)\n",
    "# cpi2.index = pd.date_range(\"2016-12\", periods=len(cpi2), freq = 'M')\n",
    "cpi2.index = pd.date_range(\"2016-11\", periods=len(cpi2), freq = 'M') + pd.DateOffset(days=15)\n",
    "\n",
    "cpi2.columns = ['index']"
   ]
  },
  {
   "cell_type": "markdown",
   "metadata": {},
   "source": [
    "### Graficar el empalme de indices"
   ]
  },
  {
   "cell_type": "code",
   "execution_count": 3,
   "metadata": {},
   "outputs": [
    {
     "data": {
      "image/png": "[encoded data removed]",
      "text/plain": [
       "<Figure size 432x288 with 1 Axes>"
      ]
     },
     "metadata": {
      "needs_background": "light"
     },
     "output_type": "display_data"
    }
   ],
   "source": [
    "m = np.mean(cpi.loc['2017':]['index'].values/cpi2.loc['2017':]['index'].values[:len(cpi.loc['2017':])])\n",
    "\n",
    "plt.plot(cpi.loc['1998':][['index']])\n",
    "plt.plot(m*cpi2.loc['2017':][['index']])\n",
    "\n",
    "plt.yscale('log')\n",
    "plt.show()"
   ]
  },
  {
   "cell_type": "code",
   "execution_count": 4,
   "metadata": {},
   "outputs": [],
   "source": [
    "## Si esta todo ok se pueden unir\n",
    "cpi = pd.concat([cpi.loc[:cpi2.index.values[0]][['index']],\n",
    "           m*cpi2.iloc[1:]], )"
   ]
  },
  {
   "cell_type": "code",
   "execution_count": 5,
   "metadata": {},
   "outputs": [
    {
     "data": {
      "text/html": [
       "<div>\n",
       "<style scoped>\n",
       "    .dataframe tbody tr th:only-of-type {\n",
       "        vertical-align: middle;\n",
       "    }\n",
       "\n",
       "    .dataframe tbody tr th {\n",
       "        vertical-align: top;\n",
       "    }\n",
       "\n",
       "    .dataframe thead th {\n",
       "        text-align: right;\n",
       "    }\n",
       "</style>\n",
       "<table border=\"1\" class=\"dataframe\">\n",
       "  <thead>\n",
       "    <tr style=\"text-align: right;\">\n",
       "      <th></th>\n",
       "      <th>index</th>\n",
       "    </tr>\n",
       "  </thead>\n",
       "  <tbody>\n",
       "    <tr>\n",
       "      <th>2020-11-15</th>\n",
       "      <td>3108.001733</td>\n",
       "    </tr>\n",
       "    <tr>\n",
       "      <th>2020-12-15</th>\n",
       "      <td>3232.494835</td>\n",
       "    </tr>\n",
       "    <tr>\n",
       "      <th>2021-01-15</th>\n",
       "      <td>3363.379502</td>\n",
       "    </tr>\n",
       "    <tr>\n",
       "      <th>2021-02-15</th>\n",
       "      <td>3483.607931</td>\n",
       "    </tr>\n",
       "    <tr>\n",
       "      <th>2021-03-15</th>\n",
       "      <td>3651.197603</td>\n",
       "    </tr>\n",
       "  </tbody>\n",
       "</table>\n",
       "</div>"
      ],
      "text/plain": [
       "                  index\n",
       "2020-11-15  3108.001733\n",
       "2020-12-15  3232.494835\n",
       "2021-01-15  3363.379502\n",
       "2021-02-15  3483.607931\n",
       "2021-03-15  3651.197603"
      ]
     },
     "execution_count": 5,
     "metadata": {},
     "output_type": "execute_result"
    }
   ],
   "source": [
    "cpi.tail()"
   ]
  },
  {
   "cell_type": "code",
   "execution_count": 6,
   "metadata": {},
   "outputs": [
    {
     "name": "stdout",
     "output_type": "stream",
     "text": [
      "0.038934517868374985\n"
     ]
    },
    {
     "name": "stderr",
     "output_type": "stream",
     "text": [
      "<ipython-input-6-e11a8e0a56ab>:7: FutureWarning: The pandas.datetime class is deprecated and will be removed from pandas in a future version. Import from datetime module instead.\n",
      "  pd.datetime.today() + pd.DateOffset(months=6), freq = 'M') + pd.DateOffset(days=15)\n"
     ]
    },
    {
     "data": {
      "text/plain": [
       "2021-11-15    4956.107784\n",
       "Name: index, dtype: float64"
      ]
     },
     "metadata": {},
     "output_type": "display_data"
    }
   ],
   "source": [
    "## Tasa de inflacion de los ultimos 12 meses. Se usa para completar la inflacion del ultimo mes antes que se mida.\n",
    "r = cpi.pct_change().tail(6).mean()[0]\n",
    "print(r)\n",
    "\n",
    "## Estirar la serie de CPI hasta el dia de hoy (para precios actualizados)\n",
    "meses_presente = pd.date_range(cpi.index[-1], \n",
    "              pd.datetime.today() + pd.DateOffset(months=6), freq = 'M') + pd.DateOffset(days=15)\n",
    "\n",
    "cpi = pd.concat([cpi, pd.DataFrame([], index = meses_presente)])\n",
    "\n",
    "last_valid_ix = cpi.dropna().iloc[-1] # Level of the cpi index in last valid month\n",
    "\n",
    "cpi['avg_rate'] = pd.Series((1 + r)**range(len(cpi)), index = cpi.index)  ## Compute the exponential curve\n",
    "\n",
    "# Bring to actual level\n",
    "ratio = cpi.loc[last_valid_ix.name].avg_rate / cpi.loc[last_valid_ix.name]['index'] \n",
    "cpi['avg_rate'] = cpi['avg_rate']/ratio  \n",
    "\n",
    "# Complete cpi series up to present and remove exponential\n",
    "cpi['index'] = cpi['index'].fillna(cpi['avg_rate'])\n",
    "cpi = cpi.drop('avg_rate', axis = 1)\n",
    "\n",
    "nivel_precios_actual = cpi.tail(1)['index']\n",
    "display(nivel_precios_actual)"
   ]
  },
  {
   "cell_type": "code",
   "execution_count": 7,
   "metadata": {},
   "outputs": [
    {
     "data": {
      "text/html": [
       "<div>\n",
       "<style scoped>\n",
       "    .dataframe tbody tr th:only-of-type {\n",
       "        vertical-align: middle;\n",
       "    }\n",
       "\n",
       "    .dataframe tbody tr th {\n",
       "        vertical-align: top;\n",
       "    }\n",
       "\n",
       "    .dataframe thead th {\n",
       "        text-align: right;\n",
       "    }\n",
       "</style>\n",
       "<table border=\"1\" class=\"dataframe\">\n",
       "  <thead>\n",
       "    <tr style=\"text-align: right;\">\n",
       "      <th></th>\n",
       "      <th>index</th>\n",
       "    </tr>\n",
       "  </thead>\n",
       "  <tbody>\n",
       "    <tr>\n",
       "      <th>2021-07-15</th>\n",
       "      <td>4253.907481</td>\n",
       "    </tr>\n",
       "    <tr>\n",
       "      <th>2021-08-15</th>\n",
       "      <td>4419.531318</td>\n",
       "    </tr>\n",
       "    <tr>\n",
       "      <th>2021-09-15</th>\n",
       "      <td>4591.603639</td>\n",
       "    </tr>\n",
       "    <tr>\n",
       "      <th>2021-10-15</th>\n",
       "      <td>4770.375513</td>\n",
       "    </tr>\n",
       "    <tr>\n",
       "      <th>2021-11-15</th>\n",
       "      <td>4956.107784</td>\n",
       "    </tr>\n",
       "  </tbody>\n",
       "</table>\n",
       "</div>"
      ],
      "text/plain": [
       "                  index\n",
       "2021-07-15  4253.907481\n",
       "2021-08-15  4419.531318\n",
       "2021-09-15  4591.603639\n",
       "2021-10-15  4770.375513\n",
       "2021-11-15  4956.107784"
      ]
     },
     "execution_count": 7,
     "metadata": {},
     "output_type": "execute_result"
    }
   ],
   "source": [
    "cpi.to_csv('./../data/info/indice_precios_M.csv')\n",
    "cpi.tail()"
   ]
  },
  {
   "cell_type": "code",
   "execution_count": 8,
   "metadata": {},
   "outputs": [],
   "source": [
    "### Ver de ponerle el valor a mitad de mes."
   ]
  },
  {
   "cell_type": "code",
   "execution_count": 9,
   "metadata": {
    "scrolled": false
   },
   "outputs": [
    {
     "data": {
      "image/png": "[encoded data removed]",
      "text/plain": [
       "<Figure size 432x288 with 1 Axes>"
      ]
     },
     "metadata": {
      "needs_background": "light"
     },
     "output_type": "display_data"
    }
   ],
   "source": [
    "pd.options.display.max_rows = 99\n",
    "## Interpolado a frecuencia diaria (util para llevar al \"dia de hoy\")\n",
    "\n",
    "fig, ax = plt.subplots()\n",
    "(cpi/cpi.loc['2003-01-15']).reindex(pd.date_range(\n",
    "    start = '2019-12-15', end = '2021-01-15', freq = 'd')).interpolate(method = 'time').plot(ax = ax)\n",
    "(cpi/cpi.loc['2003-01-15']).reindex(pd.date_range(\n",
    "    start = '2019-12-15', end = '2021-01-15', freq = 'd')).interpolate(method = 'quadratic').plot(ax = ax)\n",
    "ax.set_yscale('log')"
   ]
  },
  {
   "cell_type": "code",
   "execution_count": 10,
   "metadata": {},
   "outputs": [
    {
     "data": {
      "text/plain": [
       "<matplotlib.lines.Line2D at 0x7fa28d39f610>"
      ]
     },
     "execution_count": 10,
     "metadata": {},
     "output_type": "execute_result"
    },
    {
     "data": {
      "image/png": "[encoded data removed]",
      "text/plain": [
       "<Figure size 720x360 with 1 Axes>"
      ]
     },
     "metadata": {
      "needs_background": "light"
     },
     "output_type": "display_data"
    }
   ],
   "source": [
    "cpi_d = cpi.reindex(pd.date_range(\n",
    "    start = '2002-12-15', end = '2021-12-15', freq = 'd')).interpolate(method = 'quadratic')\n",
    "fig, ax = plt.subplots(1, figsize = (10, 5))\n",
    "(cpi_d/cpi_d.shift(365)).dropna().plot(ax = ax)\n",
    "ax.axvline('2007-12')\n",
    "ax.axvline('2015-12')\n",
    "ax.axvline('2019-12')"
   ]
  },
  {
   "cell_type": "code",
   "execution_count": 11,
   "metadata": {},
   "outputs": [],
   "source": [
    "# index_d = (cpi_d/cpi_d.loc['2016-01-01']).dropna()\n",
    "index_d = cpi_d.dropna()\n",
    "index_d.to_csv('./../data/info/indice_precios_d.csv')"
   ]
  },
  {
   "cell_type": "code",
   "execution_count": 12,
   "metadata": {},
   "outputs": [],
   "source": [
    "# display(index_d.loc[index_d['index'] >= .1].iloc[[0]])\n",
    "# display(index_d.loc[index_d['index'] >= .2].iloc[[0]])\n",
    "# display(index_d.loc[index_d['index'] >= .5].iloc[[0]])\n",
    "# display(index_d.loc[index_d['index'] >= 1].iloc[[0]])\n",
    "# display(index_d.loc[index_d['index'] >= 2].iloc[[0]])\n",
    "# display(index_d.loc[index_d['index'] >= 5].iloc[[0]])"
   ]
  },
  {
   "cell_type": "code",
   "execution_count": 13,
   "metadata": {},
   "outputs": [
    {
     "data": {
      "text/plain": [
       "index    1.402422\n",
       "dtype: float64"
      ]
     },
     "execution_count": 13,
     "metadata": {},
     "output_type": "execute_result"
    }
   ],
   "source": [
    "(index_d/index_d.shift(365)).iloc[-365*5:].mean()"
   ]
  },
  {
   "cell_type": "code",
   "execution_count": 14,
   "metadata": {},
   "outputs": [
    {
     "data": {
      "text/html": [
       "<div>\n",
       "<style scoped>\n",
       "    .dataframe tbody tr th:only-of-type {\n",
       "        vertical-align: middle;\n",
       "    }\n",
       "\n",
       "    .dataframe tbody tr th {\n",
       "        vertical-align: top;\n",
       "    }\n",
       "\n",
       "    .dataframe thead th {\n",
       "        text-align: right;\n",
       "    }\n",
       "</style>\n",
       "<table border=\"1\" class=\"dataframe\">\n",
       "  <thead>\n",
       "    <tr style=\"text-align: right;\">\n",
       "      <th></th>\n",
       "      <th>index</th>\n",
       "    </tr>\n",
       "  </thead>\n",
       "  <tbody>\n",
       "    <tr>\n",
       "      <th>2020-12-15</th>\n",
       "      <td>NaN</td>\n",
       "    </tr>\n",
       "    <tr>\n",
       "      <th>2021-01-15</th>\n",
       "      <td>4.05</td>\n",
       "    </tr>\n",
       "    <tr>\n",
       "      <th>2021-02-15</th>\n",
       "      <td>3.57</td>\n",
       "    </tr>\n",
       "    <tr>\n",
       "      <th>2021-03-15</th>\n",
       "      <td>4.81</td>\n",
       "    </tr>\n",
       "    <tr>\n",
       "      <th>2021-04-15</th>\n",
       "      <td>3.89</td>\n",
       "    </tr>\n",
       "    <tr>\n",
       "      <th>2021-05-15</th>\n",
       "      <td>3.89</td>\n",
       "    </tr>\n",
       "    <tr>\n",
       "      <th>2021-06-15</th>\n",
       "      <td>3.89</td>\n",
       "    </tr>\n",
       "    <tr>\n",
       "      <th>2021-07-15</th>\n",
       "      <td>3.89</td>\n",
       "    </tr>\n",
       "    <tr>\n",
       "      <th>2021-08-15</th>\n",
       "      <td>3.89</td>\n",
       "    </tr>\n",
       "    <tr>\n",
       "      <th>2021-09-15</th>\n",
       "      <td>3.89</td>\n",
       "    </tr>\n",
       "    <tr>\n",
       "      <th>2021-10-15</th>\n",
       "      <td>3.89</td>\n",
       "    </tr>\n",
       "    <tr>\n",
       "      <th>2021-11-15</th>\n",
       "      <td>3.89</td>\n",
       "    </tr>\n",
       "  </tbody>\n",
       "</table>\n",
       "</div>"
      ],
      "text/plain": [
       "            index\n",
       "2020-12-15    NaN\n",
       "2021-01-15   4.05\n",
       "2021-02-15   3.57\n",
       "2021-03-15   4.81\n",
       "2021-04-15   3.89\n",
       "2021-05-15   3.89\n",
       "2021-06-15   3.89\n",
       "2021-07-15   3.89\n",
       "2021-08-15   3.89\n",
       "2021-09-15   3.89\n",
       "2021-10-15   3.89\n",
       "2021-11-15   3.89"
      ]
     },
     "execution_count": 14,
     "metadata": {},
     "output_type": "execute_result"
    }
   ],
   "source": [
    "100*cpi.tail(12).pct_change().round(4)"
   ]
  },
  {
   "cell_type": "code",
   "execution_count": 15,
   "metadata": {},
   "outputs": [
    {
     "data": {
      "text/html": [
       "<div>\n",
       "<style scoped>\n",
       "    .dataframe tbody tr th:only-of-type {\n",
       "        vertical-align: middle;\n",
       "    }\n",
       "\n",
       "    .dataframe tbody tr th {\n",
       "        vertical-align: top;\n",
       "    }\n",
       "\n",
       "    .dataframe thead th {\n",
       "        text-align: right;\n",
       "    }\n",
       "</style>\n",
       "<table border=\"1\" class=\"dataframe\">\n",
       "  <thead>\n",
       "    <tr style=\"text-align: right;\">\n",
       "      <th></th>\n",
       "      <th>index</th>\n",
       "    </tr>\n",
       "    <tr>\n",
       "      <th>Q</th>\n",
       "      <th></th>\n",
       "    </tr>\n",
       "  </thead>\n",
       "  <tbody>\n",
       "    <tr>\n",
       "      <th>2020-11-15</th>\n",
       "      <td>3117.767507</td>\n",
       "    </tr>\n",
       "    <tr>\n",
       "      <th>2021-02-15</th>\n",
       "      <td>3499.395012</td>\n",
       "    </tr>\n",
       "    <tr>\n",
       "      <th>2021-05-15</th>\n",
       "      <td>3942.964456</td>\n",
       "    </tr>\n",
       "    <tr>\n",
       "      <th>2021-08-15</th>\n",
       "      <td>4421.680813</td>\n",
       "    </tr>\n",
       "    <tr>\n",
       "      <th>2021-11-15</th>\n",
       "      <td>4863.241648</td>\n",
       "    </tr>\n",
       "  </tbody>\n",
       "</table>\n",
       "</div>"
      ],
      "text/plain": [
       "                  index\n",
       "Q                      \n",
       "2020-11-15  3117.767507\n",
       "2021-02-15  3499.395012\n",
       "2021-05-15  3942.964456\n",
       "2021-08-15  4421.680813\n",
       "2021-11-15  4863.241648"
      ]
     },
     "execution_count": 15,
     "metadata": {},
     "output_type": "execute_result"
    }
   ],
   "source": [
    "cpi_ = cpi.groupby(pd.Grouper(freq='Q')).mean().loc['2003':][['index']]#.to_csv(...)\n",
    "\n",
    "### Convenciones para fijar fecha de cuatrimestre.\n",
    "cpi_.index = cpi_.index - pd.to_timedelta(cpi_.index.day - 15, unit='d') - pd.DateOffset(months=1)\n",
    "cpi_.index.name = 'Q'\n",
    "\n",
    "cpi_.tail()"
   ]
  },
  {
   "cell_type": "code",
   "execution_count": 16,
   "metadata": {},
   "outputs": [],
   "source": [
    "from datetime import datetime"
   ]
  },
  {
   "cell_type": "code",
   "execution_count": 17,
   "metadata": {},
   "outputs": [],
   "source": [
    "cpi_.to_csv('./../data/info/indice_precios_Q.csv')"
   ]
  },
  {
   "cell_type": "code",
   "execution_count": 18,
   "metadata": {},
   "outputs": [],
   "source": [
    "# cpi = cpi.groupby(pd.Grouper(freq='Q')).mean().loc[str(startyr):str(endyr)][['index']]#.to_csv(...)\n",
    "# cpi.set_index('index')\n",
    "# cpi.index.name = 'Q'\n",
    "# #\n",
    "# indice_precios = cpi"
   ]
  },
  {
   "cell_type": "code",
   "execution_count": null,
   "metadata": {},
   "outputs": [],
   "source": []
  }
 ],
 "metadata": {
  "kernelspec": {
   "display_name": "Python 3",
   "language": "python",
   "name": "python3"
  },
  "language_info": {
   "codemirror_mode": {
    "name": "ipython",
    "version": 3
   },
   "file_extension": ".py",
   "mimetype": "text/x-python",
   "name": "python",
   "nbconvert_exporter": "python",
   "pygments_lexer": "ipython3",
   "version": "3.8.5"
  }
 },
 "nbformat": 4,
 "nbformat_minor": 2
}
