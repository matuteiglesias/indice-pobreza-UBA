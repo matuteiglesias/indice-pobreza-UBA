{
 "cells": [
  {
   "cell_type": "markdown",
   "metadata": {},
   "source": [
    "## On this notebook we extract Censo 2010 individual data from their files.\n"
   ]
  },
  {
   "cell_type": "code",
   "execution_count": 9,
   "metadata": {},
   "outputs": [],
   "source": [
    "frac = 0.01\n",
    "startyr = 2003\n",
    "endyr = 2010"
   ]
  },
  {
   "cell_type": "code",
   "execution_count": null,
   "metadata": {},
   "outputs": [],
   "source": [
    "import os\n",
    "\n",
    "if not os.path.exists('./../../samplerCensoARG/'):\n",
    "    !git clone https://github.com/matuteiglesias/samplerCensoARG.git ./Folder1/Folder2"
   ]
  },
  {
   "cell_type": "code",
   "execution_count": null,
   "metadata": {},
   "outputs": [],
   "source": []
  },
  {
   "cell_type": "code",
   "execution_count": null,
   "metadata": {},
   "outputs": [],
   "source": [
    "\n",
    "for yr in [str(s) for s in range(startyr, endyr)]:\n",
    "    print(yr)\n",
    "    \n",
    "    # Guardar sampleo del censo\n",
    "    table.to_csv('./../data/yr_samples/sample_censo_table_f'+str(frac)+'_'+yr+'_ARG.csv', index = False)"
   ]
  },
  {
   "cell_type": "markdown",
   "metadata": {},
   "source": []
  },
  {
   "cell_type": "code",
   "execution_count": 10,
   "metadata": {},
   "outputs": [
    {
     "name": "stdout",
     "output_type": "stream",
     "text": [
      "2003\n",
      "[########################################] | 100% Completed | 30.6s\n",
      "[########################################] | 100% Completed | 15.2s\n",
      "2004\n",
      "[########################################] | 100% Completed | 30.5s\n",
      "[########################################] | 100% Completed | 14.9s\n",
      "2005\n",
      "[########################################] | 100% Completed | 30.4s\n",
      "[########################################] | 100% Completed | 14.7s\n",
      "2006\n",
      "[########################################] | 100% Completed | 31.7s\n",
      "[########################################] | 100% Completed | 15.5s\n",
      "2007\n",
      "[########################################] | 100% Completed | 32.0s\n",
      "[########################################] | 100% Completed | 15.5s\n",
      "2008\n",
      "[########################################] | 100% Completed | 32.4s\n",
      "[########################################] | 100% Completed | 15.0s\n",
      "2009\n",
      "[########################################] | 100% Completed | 32.1s\n",
      "[########################################] | 100% Completed | 15.3s\n"
     ]
    }
   ],
   "source": [
    "# grouped = HOGAR_DPTO.merge(proyeccion[['DPTO', 'ratio_18']]).groupby('DPTO')\n",
    "# ratios = proy_pob.div(proy_pob['2010'], 0).reset_index()\n",
    "ratios = proy_pop.set_index(['DPTO', 'NOMDPTO']).div(proy_pop['2010'].values, 0).reset_index()\n",
    "\n",
    "for yr in [str(s) for s in range(startyr, endyr)]:\n",
    "    print(yr)\n",
    "    grouped = HOGAR_DPTO.merge(ratios[['DPTO', yr]]).groupby('DPTO')\n",
    "    sample = grouped.apply(lambda x: x.sample(frac=frac*x[yr].mean()))\n",
    "\n",
    "    HOGAR = dd.read_csv('./../../ext_CPV2010_basico_radio_pub/HOGAR.csv', sep = ';', usecols = ['HOGAR_REF_ID', 'VIVIENDA_REF_ID', 'H05', 'H06', 'H07', 'H08',\n",
    "           'H09', 'H10', 'H11', 'H12', 'H13', 'H14', 'H15', 'H16', 'PROP', 'TOTPERS']) \n",
    "\n",
    "    VIVIENDA_sample = VIVIENDA.loc[VIVIENDA.VIVIENDA_REF_ID.isin(sample.VIVIENDA_REF_ID)]\n",
    "    HOGAR_sample = HOGAR.loc[HOGAR.HOGAR_REF_ID.isin(sample.HOGAR_REF_ID)]\n",
    "\n",
    "    tabla_censo = VIVIENDA_sample.merge(HOGAR_sample)\n",
    "    tabla_censo = tabla_censo.merge(IX_TOT)\n",
    "\n",
    "    with ProgressBar():\n",
    "        table = tabla_censo.compute()\n",
    "\n",
    "    # Adaptamos las categorias de respuestas para que iguales las de la EPH\n",
    "    table['V01'] = table['V01'].map({1:1, 2:6, 3:6, 4:2, 5:3, 6:4, 7:5, 8:6})\n",
    "    table['H06'] = table['H06'].map({1:1, 2:2, 3:3, 4:4, 5:5, 6:6, 7:7, 8:9})\n",
    "    table['H09'] = table['H09'].map({1:1, 2:2, 3:3, 4:4, 5:4, 6:4})\n",
    "    table['H16'] = table['H16'].clip(0, 9)\n",
    "    table['H14'] = table['H14'].map({1:1, 2:4, 3:2, 4:2, 5:4, 6:3, 7:4, 8:9})\n",
    "    table['H13'] = table['H13'].map({1:1, 2:2, 4:0})\n",
    "\n",
    "    # saber de que aglo es el hogar.\n",
    "    table = table.merge(radio_ref[['RADIO_REF_ID','AGLOMERADO']]) \n",
    "\n",
    "# #    Option to save table now, in case it crashes at this step.\n",
    "#     if not os.path.exists('./../data/yr_samples/'):\n",
    "#         os.makedirs('./../data/yr_samples/')\n",
    "#     table.to_csv('./../data/yr_samples/sample_censo_table_f'+str(frac)+'_'+yr+'_ARG.csv', index = False)\n",
    "\n",
    "    PERSONA = dd.read_csv('./../../ext_CPV2010_basico_radio_pub/PERSONA.csv', sep = ';', usecols = ['PERSONA_REF_ID', 'HOGAR_REF_ID', 'P01', 'P02', 'P03', 'P05', 'P06',\n",
    "           'P07', 'P12', 'P08', 'P09', 'P10', 'CONDACT'])\n",
    "\n",
    "    PERSONA_sample = PERSONA.loc[PERSONA.HOGAR_REF_ID.isin(sample.HOGAR_REF_ID)]\n",
    "\n",
    "\n",
    "    with ProgressBar():\n",
    "        table = table.merge(PERSONA_sample.compute())\n",
    "\n",
    "    # Adaptamos las categorias de respuestas para que iguales las de la EPH\n",
    "    table['P07'] = table['P07'].map({1:1, 2:2, 0:2})\n",
    "\n",
    "    # Guardar sampleo del censo\n",
    "    table.to_csv('./../data/yr_samples/sample_censo_table_f'+str(frac)+'_'+yr+'_ARG.csv', index = False)"
   ]
  },
  {
   "cell_type": "code",
   "execution_count": null,
   "metadata": {},
   "outputs": [],
   "source": []
  }
 ],
 "metadata": {
  "kernelspec": {
   "display_name": "Python 3",
   "language": "python",
   "name": "python3"
  },
  "language_info": {
   "codemirror_mode": {
    "name": "ipython",
    "version": 3
   },
   "file_extension": ".py",
   "mimetype": "text/x-python",
   "name": "python",
   "nbconvert_exporter": "python",
   "pygments_lexer": "ipython3",
   "version": "3.8.5"
  }
 },
 "nbformat": 4,
 "nbformat_minor": 2
}
