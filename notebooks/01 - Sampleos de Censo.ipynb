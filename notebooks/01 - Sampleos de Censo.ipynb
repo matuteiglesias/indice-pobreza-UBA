{
 "cells": [
  {
   "cell_type": "markdown",
   "metadata": {},
   "source": [
    "## On this notebook we extract Censo 2010 individual data from their files.\n"
   ]
  },
  {
   "cell_type": "code",
   "execution_count": 1,
   "metadata": {},
   "outputs": [],
   "source": [
    "from IPython.core.display import display, HTML\n",
    "display(HTML(\"<style>.container { width:100% !important; }</style>\"))\n"
   ]
  },
  {
   "cell_type": "code",
   "execution_count": 2,
   "metadata": {},
   "outputs": [],
   "source": [
    "import os\n",
    "\n",
    "if not os.path.exists('./../../samplerCensoARG/'):\n",
    "    !git clone https://github.com/matuteiglesias/samplerCensoARG.git ./../../"
   ]
  },
  {
   "cell_type": "code",
   "execution_count": 3,
   "metadata": {},
   "outputs": [
    {
     "name": "stdout",
     "output_type": "stream",
     "text": [
      "/home/miglesia/anaconda3/lib/python3.8/site-packages/dask/dataframe/utils.py:367: FutureWarning: pandas.Int64Index is deprecated and will be removed from pandas in a future version. Use pandas.Index with the appropriate dtype instead.\n",
      "  _numeric_index_types = (pd.Int64Index, pd.Float64Index, pd.UInt64Index)\n",
      "/home/miglesia/anaconda3/lib/python3.8/site-packages/dask/dataframe/utils.py:367: FutureWarning: pandas.Float64Index is deprecated and will be removed from pandas in a future version. Use pandas.Index with the appropriate dtype instead.\n",
      "  _numeric_index_types = (pd.Int64Index, pd.Float64Index, pd.UInt64Index)\n",
      "/home/miglesia/anaconda3/lib/python3.8/site-packages/dask/dataframe/utils.py:367: FutureWarning: pandas.UInt64Index is deprecated and will be removed from pandas in a future version. Use pandas.Index with the appropriate dtype instead.\n",
      "  _numeric_index_types = (pd.Int64Index, pd.Float64Index, pd.UInt64Index)\n",
      "['/media/miglesia/Elements/suite/ext_CPV2010_basico_radio_pub']\n",
      "[0.01]\n",
      "['ARG']\n",
      "[2003, 2023]\n",
      "total_pais\n",
      "[########################################] | 100% Completed |  1min  2.0s\n",
      "2003\n",
      "[########################################] | 100% Completed | 59.9s\n",
      "[########################################] | 100% Completed |  1min  3.9s\n",
      "saved file: ./data/censo_samples/table_f0.01_2003_ARG.csv\n",
      "2004\n",
      "[########################################] | 100% Completed | 58.4s\n",
      "[########################################] | 100% Completed | 60.0s\n",
      "saved file: ./data/censo_samples/table_f0.01_2004_ARG.csv\n",
      "2005\n",
      "[########################################] | 100% Completed | 58.9s\n",
      "[########################################] | 100% Completed | 59.8s\n",
      "saved file: ./data/censo_samples/table_f0.01_2005_ARG.csv\n",
      "2006\n",
      "[########################################] | 100% Completed |  1min  0.7s\n",
      "[########################################] | 100% Completed |  1min  1.1s\n",
      "saved file: ./data/censo_samples/table_f0.01_2006_ARG.csv\n",
      "2007\n",
      "[########################################] | 100% Completed |  1min  0.5s\n",
      "[########################################] | 100% Completed | 58.8s\n",
      "saved file: ./data/censo_samples/table_f0.01_2007_ARG.csv\n",
      "2008\n",
      "[########################################] | 100% Completed | 59.2s\n",
      "[########################################] | 100% Completed |  1min  4.0s\n",
      "saved file: ./data/censo_samples/table_f0.01_2008_ARG.csv\n",
      "2009\n",
      "[########################################] | 100% Completed | 58.7s\n",
      "[########################################] | 100% Completed |  1min  0.7s\n",
      "saved file: ./data/censo_samples/table_f0.01_2009_ARG.csv\n",
      "2010\n",
      "[########################################] | 100% Completed |  1min  0.7s\n",
      "[########################################] | 100% Completed | 58.7s\n",
      "saved file: ./data/censo_samples/table_f0.01_2010_ARG.csv\n",
      "2011\n",
      "[########################################] | 100% Completed | 55.6s\n",
      "[########################################] | 100% Completed |  1min  1.3s\n",
      "saved file: ./data/censo_samples/table_f0.01_2011_ARG.csv\n",
      "2012\n",
      "[########################################] | 100% Completed | 57.5s\n",
      "[########################################] | 100% Completed |  1min  0.3s\n",
      "saved file: ./data/censo_samples/table_f0.01_2012_ARG.csv\n",
      "2013\n",
      "[########################################] | 100% Completed |  1min  0.3s\n",
      "[########################################] | 100% Completed |  1min  0.8s\n",
      "saved file: ./data/censo_samples/table_f0.01_2013_ARG.csv\n",
      "2014\n",
      "[########################################] | 100% Completed |  1min  0.5s\n",
      "[########################################] | 100% Completed | 59.6s\n",
      "saved file: ./data/censo_samples/table_f0.01_2014_ARG.csv\n",
      "2015\n",
      "[########################################] | 100% Completed | 58.8s\n",
      "[########################################] | 100% Completed |  1min  0.5s\n",
      "saved file: ./data/censo_samples/table_f0.01_2015_ARG.csv\n",
      "2016\n",
      "[########################################] | 100% Completed |  1min  0.6s\n",
      "[########################################] | 100% Completed |  1min  0.4s\n",
      "saved file: ./data/censo_samples/table_f0.01_2016_ARG.csv\n",
      "2017\n",
      "[########################################] | 100% Completed |  1min  1.1s\n",
      "[########################################] | 100% Completed | 59.7s\n",
      "saved file: ./data/censo_samples/table_f0.01_2017_ARG.csv\n",
      "2018\n",
      "[########################################] | 100% Completed | 59.1s\n",
      "[########################################] | 100% Completed | 59.7s\n",
      "saved file: ./data/censo_samples/table_f0.01_2018_ARG.csv\n",
      "2019\n",
      "[########################################] | 100% Completed |  1min  1.2s\n",
      "[########################################] | 100% Completed |  1min  2.6s\n",
      "saved file: ./data/censo_samples/table_f0.01_2019_ARG.csv\n",
      "2020\n",
      "[########################################] | 100% Completed |  1min  1.1s\n",
      "[########################################] | 100% Completed |  1min  3.5s\n",
      "saved file: ./data/censo_samples/table_f0.01_2020_ARG.csv\n",
      "2021\n",
      "[########################################] | 100% Completed |  1min  1.6s\n",
      "[########################################] | 100% Completed |  1min  2.5s\n",
      "saved file: ./data/censo_samples/table_f0.01_2021_ARG.csv\n",
      "2022\n",
      "[########################################] | 100% Completed | 58.1s\n",
      "[########################################] | 100% Completed |  1min  1.7s\n",
      "saved file: ./data/censo_samples/table_f0.01_2022_ARG.csv\n",
      "\u001b[0m"
     ]
    }
   ],
   "source": [
    "!python ./../../samplerCensoARG/samplear.py -dbp '/media/miglesia/Elements/suite/ext_CPV2010_basico_radio_pub' -f 0.01 -y 2003 2023 -n ARG"
   ]
  },
  {
   "cell_type": "code",
   "execution_count": 4,
   "metadata": {},
   "outputs": [],
   "source": [
    "import pandas as pd\n",
    "# pd.read_csv('/home/miglesia/repositories/indice-pobreza-ExactasUBA/notebooks/../data/info/AGLO_rk/')"
   ]
  },
  {
   "cell_type": "markdown",
   "metadata": {},
   "source": [
    "## Cargar info accesoria (Regiones, aglomerados, etc)"
   ]
  },
  {
   "cell_type": "code",
   "execution_count": 5,
   "metadata": {},
   "outputs": [],
   "source": [
    "radio_ref = pd.read_csv('./../data/info/radio_ref.csv')\n",
    "\n",
    "radio_AGLO = pd.read_csv('https://raw.githubusercontent.com/matuteiglesias/Aglomerados-EPH-INDEC/main/result/radios_aglo_EPH.csv')\n",
    "radio_AGLO['radio'] = radio_AGLO.COD_2010.str.replace('XX', '99').astype(int)\n",
    "radio_AGLO['AGLOMERADO'] = radio_AGLO.eph_codagl\n",
    "radio_AGLO['NOMAGLO'] = radio_AGLO.eph_aglome\n",
    "\n",
    "radio_ref = radio_ref.drop(['AGLOMERADO'], axis = 1).merge(radio_AGLO[['radio','AGLOMERADO', 'NOMAGLO']], how = 'left')\n",
    "radio_ref['AGLOMERADO'] = radio_ref['AGLOMERADO'].fillna(0).astype(int)\n",
    "\n",
    "# radio_ref[['PROV','NOMPROV','DPTO', 'NOMDPTO']].drop_duplicates().to_csv('./../data/DPTO_PROV.csv', index = False)\n",
    "dpto_region = pd.read_csv('./../data/info/DPTO_PROV_Region.csv')\n",
    "radio_ref = radio_ref.merge(dpto_region)\n",
    "\n",
    "AGLO_rk = pd.read_csv('./../data/info/AGLO_rk')\n",
    "Reg_rk = pd.read_csv('./../data/info/Reg_rk')"
   ]
  },
  {
   "cell_type": "markdown",
   "metadata": {},
   "source": [
    "## Loop sampleo de censo"
   ]
  },
  {
   "cell_type": "code",
   "execution_count": 6,
   "metadata": {},
   "outputs": [
    {
     "name": "stdout",
     "output_type": "stream",
     "text": [
      "2003\n",
      "2004\n",
      "2005\n",
      "2006\n",
      "2007\n",
      "2008\n",
      "2009\n",
      "2010\n",
      "2011\n",
      "2012\n",
      "2013\n",
      "2014\n",
      "2015\n",
      "2016\n",
      "2017\n",
      "2018\n",
      "2019\n",
      "2020\n",
      "2021\n",
      "2022\n"
     ]
    }
   ],
   "source": [
    "frac = 0.01 ## Frac needs to be the fraction used in the sampling (eg. -f 0.01 needs frac = 0.01)\n",
    "startyr = 2003\n",
    "endyr = 2023\n",
    "\n",
    "for yr in [str(s) for s in range(startyr, endyr)]:\n",
    "    print(yr)\n",
    "    table = pd.read_csv('./../../samplerCensoARG/data/censo_samples/table_f'+str(frac)+'_'+yr+'_ARG.csv')\n",
    "    \n",
    "    # Adaptamos las categorias de respuestas para que iguales las de la EPH\n",
    "    ## VIVIENDA\n",
    "    table['V01'] = table['V01'].map({1:1, 2:6, 3:6, 4:2, 5:3, 6:4, 7:5, 8:6})\n",
    "    ## HOGAR\n",
    "    table['H06'] = table['H06'].map({1:1, 2:2, 3:3, 4:4, 5:5, 6:6, 7:7, 8:9})\n",
    "    table['H09'] = table['H09'].map({1:1, 2:2, 3:3, 4:4, 5:4, 6:4})\n",
    "    table['H16'] = table['H16'].clip(0, 9)\n",
    "    table['H14'] = table['H14'].map({1:1, 2:4, 3:2, 4:2, 5:4, 6:3, 7:4, 8:9})\n",
    "    table['H13'] = table['H13'].map({1:1, 2:2, 4:0})\n",
    "    # PERSONA\n",
    "    table['P07'] = table['P07'].map({1:1, 2:2, 0:2})\n",
    "\n",
    "    ## Agregar Region\n",
    "    table = table.merge(dpto_region[['DPTO', 'Region']])\n",
    "\n",
    "    ## Agregar ranking de Region y Aglo\n",
    "    table = table.merge(AGLO_rk[['AGLOMERADO', 'AGLO_rk']]).merge(Reg_rk[['Region', 'Reg_rk']])\n",
    "    \n",
    "    table.to_csv('/media/miglesia/Elements/suite/yr_samples/table_f'+str(frac)+'_'+yr+'_ARG.csv', index = False)  # Copias en carpeta yr_samples, en nuestra carpeta de indice de pobreza\n",
    "    "
   ]
  },
  {
   "cell_type": "code",
   "execution_count": null,
   "metadata": {},
   "outputs": [],
   "source": []
  }
 ],
 "metadata": {
  "kernelspec": {
   "display_name": "Python 3",
   "language": "python",
   "name": "python3"
  },
  "language_info": {
   "codemirror_mode": {
    "name": "ipython",
    "version": 3
   },
   "file_extension": ".py",
   "mimetype": "text/x-python",
   "name": "python",
   "nbconvert_exporter": "python",
   "pygments_lexer": "ipython3",
   "version": "3.8.5"
  }
 },
 "nbformat": 4,
 "nbformat_minor": 2
}
