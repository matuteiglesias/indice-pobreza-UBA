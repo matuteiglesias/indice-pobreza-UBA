{
 "cells": [
  {
   "cell_type": "markdown",
   "metadata": {},
   "source": [
    "## On this notebook we extract Censo 2010 individual data from their files.\n"
   ]
  },
  {
   "cell_type": "code",
   "execution_count": 9,
   "metadata": {},
   "outputs": [
    {
     "data": {
      "text/html": [
       "<style>.container { width:100% !important; }</style>"
      ],
      "text/plain": [
       "<IPython.core.display.HTML object>"
      ]
     },
     "metadata": {},
     "output_type": "display_data"
    }
   ],
   "source": [
    "from IPython.core.display import display, HTML\n",
    "display(HTML(\"<style>.container { width:100% !important; }</style>\"))\n"
   ]
  },
  {
   "cell_type": "code",
   "execution_count": 10,
   "metadata": {},
   "outputs": [],
   "source": [
    "import os\n",
    "\n",
    "if not os.path.exists('./../../samplerCensoARG/'):\n",
    "    !git clone https://github.com/matuteiglesias/samplerCensoARG.git ./../../"
   ]
  },
  {
   "cell_type": "code",
   "execution_count": 12,
   "metadata": {},
   "outputs": [
    {
     "name": "stdout",
     "output_type": "stream",
     "text": [
      "/home/miglesia/anaconda3/lib/python3.8/site-packages/dask/dataframe/utils.py:367: FutureWarning: pandas.Int64Index is deprecated and will be removed from pandas in a future version. Use pandas.Index with the appropriate dtype instead.\n",
      "  _numeric_index_types = (pd.Int64Index, pd.Float64Index, pd.UInt64Index)\n",
      "/home/miglesia/anaconda3/lib/python3.8/site-packages/dask/dataframe/utils.py:367: FutureWarning: pandas.Float64Index is deprecated and will be removed from pandas in a future version. Use pandas.Index with the appropriate dtype instead.\n",
      "  _numeric_index_types = (pd.Int64Index, pd.Float64Index, pd.UInt64Index)\n",
      "/home/miglesia/anaconda3/lib/python3.8/site-packages/dask/dataframe/utils.py:367: FutureWarning: pandas.UInt64Index is deprecated and will be removed from pandas in a future version. Use pandas.Index with the appropriate dtype instead.\n",
      "  _numeric_index_types = (pd.Int64Index, pd.Float64Index, pd.UInt64Index)\n",
      "['/media/miglesia/Elements/suite/ext_CPV2010_basico_radio_pub']\n",
      "[0.01]\n",
      "['ARG']\n",
      "[2003, 2023]\n",
      "total_pais\n",
      "[########################################] | 100% Completed | 53.2s\n",
      "2003\n",
      "[########################################] | 100% Completed |  1min  0.2s\n",
      "[########################################] | 100% Completed |  1min  4.9s\n",
      "2004\n",
      "[########################################] | 100% Completed | 53.1s\n",
      "[########################################] | 100% Completed |  1min  4.3s\n",
      "2005\n",
      "[########################################] | 100% Completed | 50.8s\n",
      "[########################################] | 100% Completed |  1min  4.3s\n",
      "2006\n",
      "[########################################] | 100% Completed | 51.3s\n",
      "[########################################] | 100% Completed |  1min  5.7s\n",
      "2007\n",
      "[########################################] | 100% Completed | 54.6s\n",
      "[########################################] | 100% Completed |  1min  3.4s\n",
      "2008\n",
      "[########################################] | 100% Completed | 56.8s\n",
      "[########################################] | 100% Completed |  1min  3.9s\n",
      "2009\n",
      "[########################################] | 100% Completed | 50.3s\n",
      "[########################################] | 100% Completed |  1min  1.2s\n",
      "2010\n",
      "[########################################] | 100% Completed | 57.4s\n",
      "[########################################] | 100% Completed |  1min  0.6s\n",
      "2011\n",
      "[########################################] | 100% Completed | 56.2s\n",
      "[########################################] | 100% Completed |  1min  2.7s\n",
      "2012\n",
      "[########################################] | 100% Completed | 52.1s\n",
      "[########################################] | 100% Completed |  1min  2.4s\n",
      "2013\n",
      "[########################################] | 100% Completed | 58.0s\n",
      "[########################################] | 100% Completed |  1min  3.3s\n",
      "2014\n",
      "[########################################] | 100% Completed | 55.5s\n",
      "[########################################] | 100% Completed |  1min  2.0s\n",
      "2015\n",
      "[########################################] | 100% Completed | 57.1s\n",
      "[########################################] | 100% Completed |  1min  3.1s\n",
      "2016\n",
      "[########################################] | 100% Completed | 52.4s\n",
      "[########################################] | 100% Completed |  1min  2.8s\n",
      "2017\n",
      "[########################################] | 100% Completed | 51.5s\n",
      "[########################################] | 100% Completed |  1min  6.4s\n",
      "2018\n",
      "[########################################] | 100% Completed | 55.5s\n",
      "[########################################] | 100% Completed | 55.4s\n",
      "2019\n",
      "[########################################] | 100% Completed | 50.8s\n",
      "[########################################] | 100% Completed | 57.2s\n",
      "2020\n",
      "[########################################] | 100% Completed |  1min  1.2s\n",
      "[########################################] | 100% Completed |  1min  5.6s\n",
      "2021\n",
      "[########################################] | 100% Completed | 56.6s\n",
      "[########################################] | 100% Completed |  1min 10.5s\n",
      "2022\n",
      "[########################################] | 100% Completed | 57.8s\n",
      "[########################################] | 100% Completed |  1min  6.1s\n",
      "\u001b[0m"
     ]
    }
   ],
   "source": [
    "!python ./../../samplerCensoARG/samplear.py -dbp '/media/miglesia/Elements/suite/ext_CPV2010_basico_radio_pub' -f 0.01 -y 2003 2023 -n ARG"
   ]
  },
  {
   "cell_type": "code",
   "execution_count": 16,
   "metadata": {},
   "outputs": [],
   "source": [
    "import pandas as pd\n",
    "# pd.read_csv('/home/miglesia/repositories/indice-pobreza-ExactasUBA/notebooks/../data/info/AGLO_rk/')"
   ]
  },
  {
   "cell_type": "code",
   "execution_count": 19,
   "metadata": {},
   "outputs": [
    {
     "name": "stdout",
     "output_type": "stream",
     "text": [
      "2003\n",
      "2004\n",
      "2005\n",
      "2006\n",
      "2007\n",
      "2008\n",
      "2009\n",
      "2010\n",
      "2011\n",
      "2012\n",
      "2013\n",
      "2014\n",
      "2015\n",
      "2016\n",
      "2017\n",
      "2018\n",
      "2019\n",
      "2020\n",
      "2021\n",
      "2022\n"
     ]
    }
   ],
   "source": [
    "frac = 0.01 ## Frac needs to be the fraction used in the sampling (eg. -f 0.01 needs frac = 0.01)\n",
    "startyr = 2003\n",
    "endyr = 2023\n",
    "\n",
    "for yr in [str(s) for s in range(startyr, endyr)]:\n",
    "    print(yr)\n",
    "    table = pd.read_csv('./../../samplerCensoARG/data/censo_samples/table_f'+str(frac)+'_'+yr+'_ARG.csv')\n",
    "    \n",
    "    # Adaptamos las categorias de respuestas para que iguales las de la EPH\n",
    "    ## VIVIENDA\n",
    "    table['V01'] = table['V01'].map({1:1, 2:6, 3:6, 4:2, 5:3, 6:4, 7:5, 8:6})\n",
    "    ## HOGAR\n",
    "    table['H06'] = table['H06'].map({1:1, 2:2, 3:3, 4:4, 5:5, 6:6, 7:7, 8:9})\n",
    "    table['H09'] = table['H09'].map({1:1, 2:2, 3:3, 4:4, 5:4, 6:4})\n",
    "    table['H16'] = table['H16'].clip(0, 9)\n",
    "    table['H14'] = table['H14'].map({1:1, 2:4, 3:2, 4:2, 5:4, 6:3, 7:4, 8:9})\n",
    "    table['H13'] = table['H13'].map({1:1, 2:2, 4:0})\n",
    "    # PERSONA\n",
    "    table['P07'] = table['P07'].map({1:1, 2:2, 0:2})\n",
    "\n",
    "    table.to_csv('/media/miglesia/Elements/suite/yr_samples/table_f'+str(frac)+'_'+yr+'_ARG.csv', index = False)  # Copias en carpeta yr_samples, en nuestra carpeta de indice de pobreza\n",
    "    "
   ]
  },
  {
   "cell_type": "code",
   "execution_count": 20,
   "metadata": {},
   "outputs": [
    {
     "data": {
      "text/plain": [
       "Index(['VIVIENDA_REF_ID', 'RADIO_REF_ID', 'TIPVV', 'V01', 'URP', 'DPTO',\n",
       "       'PROV', 'HOGAR_REF_ID', 'H05', 'H06', 'H07', 'H08', 'H09', 'H10', 'H11',\n",
       "       'H12', 'H13', 'H14', 'H15', 'H16', 'PROP', 'TOTPERS', 'AGLOMERADO',\n",
       "       'PERSONA_REF_ID', 'P01', 'P02', 'P03', 'P05', 'P06', 'P07', 'P12',\n",
       "       'P08', 'P09', 'P10', 'CONDACT', 'IX_TOT_'],\n",
       "      dtype='object')"
      ]
     },
     "execution_count": 20,
     "metadata": {},
     "output_type": "execute_result"
    }
   ],
   "source": [
    "table.columns"
   ]
  },
  {
   "cell_type": "code",
   "execution_count": null,
   "metadata": {},
   "outputs": [],
   "source": []
  }
 ],
 "metadata": {
  "kernelspec": {
   "display_name": "Python 3",
   "language": "python",
   "name": "python3"
  },
  "language_info": {
   "codemirror_mode": {
    "name": "ipython",
    "version": 3
   },
   "file_extension": ".py",
   "mimetype": "text/x-python",
   "name": "python",
   "nbconvert_exporter": "python",
   "pygments_lexer": "ipython3",
   "version": "3.8.5"
  }
 },
 "nbformat": 4,
 "nbformat_minor": 2
}
