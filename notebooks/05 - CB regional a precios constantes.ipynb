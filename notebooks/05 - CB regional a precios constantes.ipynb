{
 "cells": [
  {
   "cell_type": "code",
   "execution_count": 1,
   "metadata": {},
   "outputs": [],
   "source": [
    "import pandas as pd\n",
    "import matplotlib.pyplot as plt\n",
    "import seaborn as sns\n",
    "\n",
    "pd.options.display.max_columns = 60\n",
    "pd.options.display.max_rows = 500\n",
    "import warnings\n",
    "warnings.filterwarnings('ignore')\n",
    "\n",
    "import numpy as np\n",
    "import datetime as dt"
   ]
  },
  {
   "cell_type": "markdown",
   "metadata": {},
   "source": [
    "## Canasta basica regional a precios constantes\n",
    "\n",
    "### Indice de precios"
   ]
  },
  {
   "cell_type": "code",
   "execution_count": 2,
   "metadata": {},
   "outputs": [],
   "source": [
    "## Correr la notebook 00 - deflator index"
   ]
  },
  {
   "cell_type": "code",
   "execution_count": 3,
   "metadata": {},
   "outputs": [],
   "source": [
    "# # col_mon = [u'P21', u'P47T', u'PP08D1', u'TOT_P12', u'T_VI', u'V12_M', u'V2_M', u'V3_M', u'V5_M']\n",
    "\n",
    "# cpi = pd.read_csv('./../data/info/indice_precios_M.csv', index_col=0)\n",
    "# cpi.index = pd.to_datetime(cpi.index)\n",
    "# cpi = cpi.loc['2000':]\n",
    "\n",
    "# cpi.columns = pd.MultiIndex.from_product([['Indice de Precios'], cpi.columns])\n"
   ]
  },
  {
   "cell_type": "markdown",
   "metadata": {},
   "source": [
    "### Valores de las canastas regionales, basica y total"
   ]
  },
  {
   "cell_type": "code",
   "execution_count": 4,
   "metadata": {},
   "outputs": [],
   "source": [
    "timeindex = pd.date_range(start = dt.datetime(2016,4,1), end = dt.datetime(2019,6,30), freq='M')\n",
    "timeindex = timeindex - pd.to_timedelta(timeindex.day - 15, unit='d') #- pd.DateOffset(months=1)\n",
    "\n",
    "\n",
    "CBAr = pd.read_csv('./../data/info/CBA_regional.csv')\n",
    "CBAr.index = timeindex\n",
    "CBAr = CBAr.drop(['Ano4', 'Mes', 'TRIMESTRE'], axis = 1)\n",
    "\n",
    "CBTr = pd.read_csv('./../data/info/CBT_regional.csv')\n",
    "CBTr.index = timeindex\n",
    "CBTr = CBTr.drop(['Ano4', 'Mes', 'TRIMESTRE'], axis = 1)\n",
    "\n",
    "#.stack().reset_index()\n",
    "CB = pd.concat([CBAr.stack(), CBTr.stack()], axis = 1)\n",
    "CB.columns = ['CBA', 'CBT']; CB.index.names = ['Mes', 'Region']"
   ]
  },
  {
   "cell_type": "code",
   "execution_count": 5,
   "metadata": {},
   "outputs": [],
   "source": [
    "# # 11747 (oct-nov 2019) se tiene que convertir en \n",
    "# 11747*(2283/1906) #para junio 2019\n",
    "# # 11747*(1.231485) #para 2019Q2"
   ]
  },
  {
   "cell_type": "code",
   "execution_count": 10,
   "metadata": {},
   "outputs": [],
   "source": [
    "cpi_M = pd.read_csv('./../data/info/indice_precios_M.csv', index_col=0)\n",
    "# cpi_M = pd.read_csv('./../../encuestador-de-hogares/data/info/indice_precios_M.csv', index_col=0)\n",
    "\n",
    "cpi_M.index = pd.to_datetime(cpi_M.index)\n",
    "\n",
    "cpi_M_CB = cpi_M.loc[CB.unstack().index]\n",
    "# cpi_M_CB = cpi_M.loc['2003':]\n",
    "cpi_M_CB.columns = pd.MultiIndex.from_product([['Indice de Precios'], cpi_M_CB.columns])\n",
    "# cpi_M_CB\n",
    "# cpi_M_CB.columns = pd.MultiIndex([('A', 'B')])\n",
    "# cpi_M_CB\n",
    "# display(cpi_M.tail(10))\n",
    "# cpi_mes_actual = cpi_M.iloc[-1][0]"
   ]
  },
  {
   "cell_type": "code",
   "execution_count": null,
   "metadata": {},
   "outputs": [],
   "source": [
    "# cpi_mes_actual"
   ]
  },
  {
   "cell_type": "code",
   "execution_count": 11,
   "metadata": {},
   "outputs": [
    {
     "data": {
      "text/html": [
       "<div>\n",
       "<style scoped>\n",
       "    .dataframe tbody tr th:only-of-type {\n",
       "        vertical-align: middle;\n",
       "    }\n",
       "\n",
       "    .dataframe tbody tr th {\n",
       "        vertical-align: top;\n",
       "    }\n",
       "\n",
       "    .dataframe thead th {\n",
       "        text-align: right;\n",
       "    }\n",
       "</style>\n",
       "<table border=\"1\" class=\"dataframe\">\n",
       "  <thead>\n",
       "    <tr style=\"text-align: right;\">\n",
       "      <th></th>\n",
       "      <th>index</th>\n",
       "    </tr>\n",
       "  </thead>\n",
       "  <tbody>\n",
       "    <tr>\n",
       "      <th>2021-11-11</th>\n",
       "      <td>4932.205266</td>\n",
       "    </tr>\n",
       "    <tr>\n",
       "      <th>2021-11-12</th>\n",
       "      <td>4938.182643</td>\n",
       "    </tr>\n",
       "    <tr>\n",
       "      <th>2021-11-13</th>\n",
       "      <td>4944.158856</td>\n",
       "    </tr>\n",
       "    <tr>\n",
       "      <th>2021-11-14</th>\n",
       "      <td>4950.133902</td>\n",
       "    </tr>\n",
       "    <tr>\n",
       "      <th>2021-11-15</th>\n",
       "      <td>4956.107784</td>\n",
       "    </tr>\n",
       "  </tbody>\n",
       "</table>\n",
       "</div>"
      ],
      "text/plain": [
       "                  index\n",
       "2021-11-11  4932.205266\n",
       "2021-11-12  4938.182643\n",
       "2021-11-13  4944.158856\n",
       "2021-11-14  4950.133902\n",
       "2021-11-15  4956.107784"
      ]
     },
     "metadata": {},
     "output_type": "display_data"
    },
    {
     "data": {
      "text/plain": [
       "index    661.924392\n",
       "Name: 2016-01-01, dtype: float64"
      ]
     },
     "execution_count": 11,
     "metadata": {},
     "output_type": "execute_result"
    }
   ],
   "source": [
    "## Fijarse que los archivos actualizados pueden estar en la carpeta del encuestador de hogares.\n",
    "# cpi_d = pd.read_csv('./../../encuestador-de-hogares/data/info/indice_precios_d.csv', index_col=0)\n",
    "cpi_d = pd.read_csv('./../data/info/indice_precios_d.csv', index_col=0)\n",
    "\n",
    "display(cpi_d.tail())\n",
    "cpi_2016 = cpi_d.loc['2016-01-01']\n",
    "cpi_2016"
   ]
  },
  {
   "cell_type": "code",
   "execution_count": 12,
   "metadata": {},
   "outputs": [
    {
     "data": {
      "image/png": "[encoded data removed]",
      "text/plain": [
       "<Figure size 432x288 with 1 Axes>"
      ]
     },
     "metadata": {
      "needs_background": "light"
     },
     "output_type": "display_data"
    }
   ],
   "source": [
    "CB_i = pd.concat([CB.unstack(), cpi_M_CB], axis = 1)\n",
    "# CB_i\n",
    "CB_defl = CB_i.iloc[:, :-1].div(CB_i.iloc[:, -1], 0)*cpi_2016.values[0] # # divided by cpi index, multiplicado por nivel 2016\n",
    "CB_defl = CB_defl.reindex(cpi_M.loc['2003':].index)\n",
    "\n",
    "\n",
    "# # # Check how the fillna works...\n",
    "# fig, ax = plt.subplots(1, figsize = (7, 5))\n",
    "# CB_defl.fillna(CB_defl.mean()).plot(legend = False, ax = ax)\n",
    "# # # CB_defl.fillna(CB_defl.quantile(.25)).head(25).plot(legend = False, ax = ax, c = '.5')\n",
    "# # # CB_defl.fillna(CB_defl.quantile(.75)).head(25).plot(legend = False, ax = ax, c = '.5')\n",
    "\n",
    "CB_defl = CB_defl.fillna(CB_defl.mean()).stack()\n",
    "\n",
    "# CB_defl\n",
    "CB_defl_Q = CB_defl.groupby([pd.Grouper(level = 0,freq = 'Q'), pd.Grouper(level = 1)]).mean()\n",
    "CB_defl_Q.index.names = ['Q', 'Region']\n",
    "\n",
    "CB_defl_Q = CB_defl_Q.unstack()\n",
    "CB_defl_Q.index = CB_defl_Q.index - pd.to_timedelta(CB_defl_Q.index.day - 15, unit='d') - pd.DateOffset(months=1)\n",
    "\n",
    "CB_defl_Q.plot(legend = False)\n",
    "\n",
    "CB_defl_Q = CB_defl_Q.stack().reset_index()\n",
    "CB_defl_Q.to_csv('./../data/info/CB_Reg_defl.csv', index = False)\n",
    "# # precios de 2016-1-1"
   ]
  },
  {
   "cell_type": "markdown",
   "metadata": {},
   "source": [
    "## Listo"
   ]
  },
  {
   "cell_type": "code",
   "execution_count": 13,
   "metadata": {},
   "outputs": [],
   "source": [
    "# # Debug deflacion\n",
    "# frac = 0.02\n",
    "# val_list = []\n",
    "# for q in ['2020-06-30', '2020-03-31']:\n",
    "#     df = pd.read_csv('./../data/yr_samples/RFReg_'+str(frac)+'ARG'+q+'.csv', \n",
    "#                      usecols = ['P47T'], nrows = 50000)\n",
    "#     val_list += [df.median().values[0]]\n",
    "# plt.plot(np.array(val_list))"
   ]
  },
  {
   "cell_type": "code",
   "execution_count": 14,
   "metadata": {},
   "outputs": [
    {
     "data": {
      "text/html": [
       "<div>\n",
       "<style scoped>\n",
       "    .dataframe tbody tr th:only-of-type {\n",
       "        vertical-align: middle;\n",
       "    }\n",
       "\n",
       "    .dataframe tbody tr th {\n",
       "        vertical-align: top;\n",
       "    }\n",
       "\n",
       "    .dataframe thead th {\n",
       "        text-align: right;\n",
       "    }\n",
       "</style>\n",
       "<table border=\"1\" class=\"dataframe\">\n",
       "  <thead>\n",
       "    <tr style=\"text-align: right;\">\n",
       "      <th></th>\n",
       "      <th>Q</th>\n",
       "      <th>Region</th>\n",
       "      <th>CBA</th>\n",
       "      <th>CBT</th>\n",
       "    </tr>\n",
       "  </thead>\n",
       "  <tbody>\n",
       "    <tr>\n",
       "      <th>451</th>\n",
       "      <td>2021-11-15</td>\n",
       "      <td>Gran Buenos Aires</td>\n",
       "      <td>1393.603768</td>\n",
       "      <td>3434.563771</td>\n",
       "    </tr>\n",
       "    <tr>\n",
       "      <th>452</th>\n",
       "      <td>2021-11-15</td>\n",
       "      <td>Noreste</td>\n",
       "      <td>1242.750926</td>\n",
       "      <td>2868.646354</td>\n",
       "    </tr>\n",
       "    <tr>\n",
       "      <th>453</th>\n",
       "      <td>2021-11-15</td>\n",
       "      <td>Noroeste</td>\n",
       "      <td>1211.277458</td>\n",
       "      <td>2771.498969</td>\n",
       "    </tr>\n",
       "    <tr>\n",
       "      <th>454</th>\n",
       "      <td>2021-11-15</td>\n",
       "      <td>Pampeana</td>\n",
       "      <td>1383.640398</td>\n",
       "      <td>3409.551398</td>\n",
       "    </tr>\n",
       "    <tr>\n",
       "      <th>455</th>\n",
       "      <td>2021-11-15</td>\n",
       "      <td>Patagónica</td>\n",
       "      <td>1434.614021</td>\n",
       "      <td>4013.400820</td>\n",
       "    </tr>\n",
       "  </tbody>\n",
       "</table>\n",
       "</div>"
      ],
      "text/plain": [
       "             Q             Region          CBA          CBT\n",
       "451 2021-11-15  Gran Buenos Aires  1393.603768  3434.563771\n",
       "452 2021-11-15            Noreste  1242.750926  2868.646354\n",
       "453 2021-11-15           Noroeste  1211.277458  2771.498969\n",
       "454 2021-11-15           Pampeana  1383.640398  3409.551398\n",
       "455 2021-11-15         Patagónica  1434.614021  4013.400820"
      ]
     },
     "execution_count": 14,
     "metadata": {},
     "output_type": "execute_result"
    }
   ],
   "source": [
    "CB_defl_Q.tail()"
   ]
  },
  {
   "cell_type": "code",
   "execution_count": null,
   "metadata": {},
   "outputs": [],
   "source": []
  }
 ],
 "metadata": {
  "kernelspec": {
   "display_name": "Python 3",
   "language": "python",
   "name": "python3"
  },
  "language_info": {
   "codemirror_mode": {
    "name": "ipython",
    "version": 3
   },
   "file_extension": ".py",
   "mimetype": "text/x-python",
   "name": "python",
   "nbconvert_exporter": "python",
   "pygments_lexer": "ipython3",
   "version": "3.8.5"
  }
 },
 "nbformat": 4,
 "nbformat_minor": 2
}
