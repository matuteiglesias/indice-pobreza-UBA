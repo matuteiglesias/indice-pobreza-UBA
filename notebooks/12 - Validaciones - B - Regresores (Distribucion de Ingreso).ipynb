{
 "cells": [
  {
   "cell_type": "code",
   "execution_count": 1,
   "metadata": {},
   "outputs": [],
   "source": [
    "import pandas as pd\n",
    "import numpy as np"
   ]
  },
  {
   "cell_type": "code",
   "execution_count": 61,
   "metadata": {},
   "outputs": [],
   "source": [
    "import matplotlib.pyplot as plt\n",
    "import matplotlib.lines as mlines\n",
    "import matplotlib.patches as mpatches\n",
    "\n",
    "# import pandas as pd\n",
    "# import datetime as dt\n",
    "# from IPython.display import display, Markdown, Latex\n",
    "# import numpy as np\n",
    "\n",
    "# import glob\n",
    "# frac = 0.01\n",
    "# # path ='./data/RFReg_' # use your path\n",
    "# path ='./../data/Pobreza/pobreza_' # use your path\n",
    "\n",
    "# allFiles = []\n",
    "# allFiles += glob.glob(path+str(frac)+'_q*.csv')\n",
    "# allFiles = sorted(allFiles)\n",
    "# allFiles"
   ]
  },
  {
   "cell_type": "code",
   "execution_count": 3,
   "metadata": {},
   "outputs": [],
   "source": [
    "## Set up G Sheets connection"
   ]
  },
  {
   "cell_type": "code",
   "execution_count": 4,
   "metadata": {},
   "outputs": [],
   "source": [
    "from oauth2client.service_account import ServiceAccountCredentials\n",
    "import gspread\n",
    "from numpy import array, nan\n",
    "\n",
    "scope = ['https://spreadsheets.google.com/feeds',\n",
    "         'https://www.googleapis.com/auth/drive']\n",
    "# credentials = ServiceAccountCredentials.from_json_keyfile_name(\n",
    "#          './../../../Desktop/newgsheets-349817-e11b8c6a66ec.json', scope) # Your json file here\n",
    "credentials = ServiceAccountCredentials.from_json_keyfile_name(\n",
    "         './../../../Desktop/newgsheets-349817-e11b8c6a66ec.json', scope) # Your json file here\n",
    "gc = gspread.authorize(credentials)\n"
   ]
  },
  {
   "cell_type": "code",
   "execution_count": 5,
   "metadata": {},
   "outputs": [],
   "source": [
    "### Informacion indice de Precios"
   ]
  },
  {
   "cell_type": "code",
   "execution_count": 6,
   "metadata": {},
   "outputs": [],
   "source": [
    "# cpi_M = pd.read_csv('https://raw.githubusercontent.com/matuteiglesias/IPC-Argentina/main/data/info/indice_precios_M.csv', index_col=0)\n",
    "# cpi_M.index = pd.to_datetime(cpi_M.index)\n",
    "\n",
    "# cpi_Q = pd.read_csv('https://raw.githubusercontent.com/matuteiglesias/IPC-Argentina/main/data/info/indice_precios_Q.csv', index_col=0)\n",
    "# cpi_Q.index = pd.to_datetime(cpi_Q.index)\n",
    "\n",
    "# cpi_actual = cpi_M.loc['2022-06']['index'][0]\n",
    "# cpi_2010Q4 = cpi_Q.loc['2010-11']['index'][0]\n",
    "# cpi_ref = cpi_M.loc['2016-01']['index'][0]"
   ]
  },
  {
   "cell_type": "code",
   "execution_count": 13,
   "metadata": {},
   "outputs": [],
   "source": [
    "## INDICE DE PRECIOS - CONVERSION A VALOR CONSTANTE\n",
    "\n",
    "cpi_M = pd.read_csv('https://raw.githubusercontent.com/matuteiglesias/IPC-Argentina/main/data/info/indice_precios_M.csv', index_col=0)\n",
    "cpi_M.index = pd.to_datetime(cpi_M.index)\n",
    "\n",
    "from datetime import datetime as dt\n",
    "  \n",
    "# Getting current date and time\n",
    "today = dt.today()\n",
    "ref = '2016-01'\n",
    "\n",
    "cpi_actual = cpi_M.loc[today.strftime(\"%Y-%m\")]['index'][0]\n",
    "cpi_ref = cpi_M.loc[ref]['index'][0]\n",
    "\n",
    "# df_ARShoy = df*(cpi_actual/cpi_ref)\n",
    "\n",
    "cpi_Q = pd.read_csv('https://raw.githubusercontent.com/matuteiglesias/IPC-Argentina/main/data/info/indice_precios_Q.csv', index_col=0)\n",
    "cpi_Q.index = pd.to_datetime(cpi_Q.index)\n",
    "cpi_2010Q4 = cpi_Q.loc['2010-11']['index'][0]\n"
   ]
  },
  {
   "cell_type": "code",
   "execution_count": 8,
   "metadata": {},
   "outputs": [],
   "source": [
    "aglo_labels = pd.read_csv('./../data/info/aglo_labels.csv')\n"
   ]
  },
  {
   "cell_type": "code",
   "execution_count": null,
   "metadata": {},
   "outputs": [],
   "source": []
  },
  {
   "cell_type": "code",
   "execution_count": 9,
   "metadata": {},
   "outputs": [],
   "source": [
    "## Ultimo trimestre 2010\n",
    "\n",
    "f = './../data/Pobreza/pobreza_0.01_q2010-11-15.csv'\n",
    "groupers = ['AGLOMERADO', 'PROV', 'NOMPROV']\n",
    "vars_ = ['INGRESO', 'P47T_persona']\n",
    "\n",
    "data = pd.read_csv(f, usecols = ['Q'] + groupers + vars_)\n",
    "data = data.merge(aglo_labels)\n",
    "data['AGLO_si'] = data.AGLOMERADO != 0\n",
    "data['Total'] = True\n",
    "\n",
    "data = data.loc[data.AGLO_si == 1]\n",
    "\n",
    "data.loc[data.INGRESO == 0, 'decil_P47T'] = 'sin ingresos'\n",
    "data.loc[data.INGRESO == 1, 'P47T_persona'] = data.loc[data.INGRESO == 1, 'P47T_persona'] + np.random.uniform(0, .01, data.INGRESO.sum())\n",
    "data.loc[data.INGRESO == 1, 'decil_P47T'] = pd.qcut(data.loc[data.INGRESO == 1, 'P47T_persona'], q = 10, labels = range(1, 11))\n",
    "\n",
    "data['Q'] = pd.to_datetime(data['Q'])\n",
    "# df104 = df.loc[df.Q == '2010-11-15']"
   ]
  },
  {
   "cell_type": "code",
   "execution_count": 10,
   "metadata": {},
   "outputs": [],
   "source": [
    "## Tabla:\n",
    "\n",
    "# Personas con ingresos (aprox 14.377, sin ingresos 10.510 para un total de 24.887 en aglos)\n"
   ]
  },
  {
   "cell_type": "code",
   "execution_count": 14,
   "metadata": {
    "scrolled": false
   },
   "outputs": [
    {
     "data": {
      "text/html": [
       "<div>\n",
       "<style scoped>\n",
       "    .dataframe tbody tr th:only-of-type {\n",
       "        vertical-align: middle;\n",
       "    }\n",
       "\n",
       "    .dataframe tbody tr th {\n",
       "        vertical-align: top;\n",
       "    }\n",
       "\n",
       "    .dataframe thead th {\n",
       "        text-align: right;\n",
       "    }\n",
       "</style>\n",
       "<table border=\"1\" class=\"dataframe\">\n",
       "  <thead>\n",
       "    <tr style=\"text-align: right;\">\n",
       "      <th></th>\n",
       "      <th>Mínimo</th>\n",
       "      <th>Máximo</th>\n",
       "      <th>Población (miles)</th>\n",
       "      <th>Ingresos (mill. ARS)</th>\n",
       "      <th>Media</th>\n",
       "      <th>% de suma de ingresos</th>\n",
       "    </tr>\n",
       "    <tr>\n",
       "      <th>decil_P47T</th>\n",
       "      <th></th>\n",
       "      <th></th>\n",
       "      <th></th>\n",
       "      <th></th>\n",
       "      <th></th>\n",
       "      <th></th>\n",
       "    </tr>\n",
       "  </thead>\n",
       "  <tbody>\n",
       "    <tr>\n",
       "      <th>1</th>\n",
       "      <td>30</td>\n",
       "      <td>500</td>\n",
       "      <td>1555.1</td>\n",
       "      <td>511.8</td>\n",
       "      <td>330</td>\n",
       "      <td>1.4</td>\n",
       "    </tr>\n",
       "    <tr>\n",
       "      <th>2</th>\n",
       "      <td>500</td>\n",
       "      <td>800</td>\n",
       "      <td>1555.0</td>\n",
       "      <td>1045.2</td>\n",
       "      <td>670</td>\n",
       "      <td>2.8</td>\n",
       "    </tr>\n",
       "    <tr>\n",
       "      <th>3</th>\n",
       "      <td>800</td>\n",
       "      <td>1040</td>\n",
       "      <td>1555.0</td>\n",
       "      <td>1463.5</td>\n",
       "      <td>940</td>\n",
       "      <td>3.9</td>\n",
       "    </tr>\n",
       "    <tr>\n",
       "      <th>4</th>\n",
       "      <td>1040</td>\n",
       "      <td>1400</td>\n",
       "      <td>1555.0</td>\n",
       "      <td>1862.3</td>\n",
       "      <td>1200</td>\n",
       "      <td>5.0</td>\n",
       "    </tr>\n",
       "    <tr>\n",
       "      <th>5</th>\n",
       "      <td>1400</td>\n",
       "      <td>1750</td>\n",
       "      <td>1555.1</td>\n",
       "      <td>2406.2</td>\n",
       "      <td>1550</td>\n",
       "      <td>6.5</td>\n",
       "    </tr>\n",
       "    <tr>\n",
       "      <th>6</th>\n",
       "      <td>1750</td>\n",
       "      <td>2030</td>\n",
       "      <td>1555.0</td>\n",
       "      <td>3008.3</td>\n",
       "      <td>1930</td>\n",
       "      <td>8.1</td>\n",
       "    </tr>\n",
       "    <tr>\n",
       "      <th>7</th>\n",
       "      <td>2030</td>\n",
       "      <td>2700</td>\n",
       "      <td>1555.0</td>\n",
       "      <td>3754.9</td>\n",
       "      <td>2410</td>\n",
       "      <td>10.1</td>\n",
       "    </tr>\n",
       "    <tr>\n",
       "      <th>8</th>\n",
       "      <td>2700</td>\n",
       "      <td>3500</td>\n",
       "      <td>1555.0</td>\n",
       "      <td>4729.8</td>\n",
       "      <td>3040</td>\n",
       "      <td>12.7</td>\n",
       "    </tr>\n",
       "    <tr>\n",
       "      <th>9</th>\n",
       "      <td>3500</td>\n",
       "      <td>5000</td>\n",
       "      <td>1555.0</td>\n",
       "      <td>6422.1</td>\n",
       "      <td>4130</td>\n",
       "      <td>17.2</td>\n",
       "    </tr>\n",
       "    <tr>\n",
       "      <th>10</th>\n",
       "      <td>5000</td>\n",
       "      <td>65960</td>\n",
       "      <td>1555.1</td>\n",
       "      <td>12029.7</td>\n",
       "      <td>7740</td>\n",
       "      <td>32.3</td>\n",
       "    </tr>\n",
       "    <tr>\n",
       "      <th>sin ingresos</th>\n",
       "      <td>0</td>\n",
       "      <td>20</td>\n",
       "      <td>9694.5</td>\n",
       "      <td>0.0</td>\n",
       "      <td>0</td>\n",
       "      <td>0.0</td>\n",
       "    </tr>\n",
       "    <tr>\n",
       "      <th>Total</th>\n",
       "      <td>30</td>\n",
       "      <td>65960</td>\n",
       "      <td>15550.3</td>\n",
       "      <td>37233.8</td>\n",
       "      <td>2390</td>\n",
       "      <td>100.0</td>\n",
       "    </tr>\n",
       "  </tbody>\n",
       "</table>\n",
       "</div>"
      ],
      "text/plain": [
       "              Mínimo  Máximo  Población (miles)  Ingresos (mill. ARS)  Media  \\\n",
       "decil_P47T                                                                     \n",
       "1                 30     500             1555.1                 511.8    330   \n",
       "2                500     800             1555.0                1045.2    670   \n",
       "3                800    1040             1555.0                1463.5    940   \n",
       "4               1040    1400             1555.0                1862.3   1200   \n",
       "5               1400    1750             1555.1                2406.2   1550   \n",
       "6               1750    2030             1555.0                3008.3   1930   \n",
       "7               2030    2700             1555.0                3754.9   2410   \n",
       "8               2700    3500             1555.0                4729.8   3040   \n",
       "9               3500    5000             1555.0                6422.1   4130   \n",
       "10              5000   65960             1555.1               12029.7   7740   \n",
       "sin ingresos       0      20             9694.5                   0.0      0   \n",
       "Total             30   65960            15550.3               37233.8   2390   \n",
       "\n",
       "              % de suma de ingresos  \n",
       "decil_P47T                           \n",
       "1                               1.4  \n",
       "2                               2.8  \n",
       "3                               3.9  \n",
       "4                               5.0  \n",
       "5                               6.5  \n",
       "6                               8.1  \n",
       "7                              10.1  \n",
       "8                              12.7  \n",
       "9                              17.2  \n",
       "10                             32.3  \n",
       "sin ingresos                    0.0  \n",
       "Total                         100.0  "
      ]
     },
     "execution_count": 14,
     "metadata": {},
     "output_type": "execute_result"
    }
   ],
   "source": [
    "tabla = data.groupby(['decil_P47T']).agg({'P47T_persona': ['min', 'max', 'size', 'sum', 'mean']})['P47T_persona']\n",
    "tabla[['min', 'max', 'sum', 'mean']] = tabla[['min', 'max', 'sum', 'mean']]*(cpi_2010Q4/cpi_ref)\n",
    "tabla[['size', 'sum']] = 100*tabla[['size', 'sum']]\n",
    "tabla['pct'] = 100*tabla['sum']/tabla['sum'].sum()\n",
    "tabla.loc['Total'] = tabla.iloc[:-1].agg({'min': 'min', 'max': 'max','size': 'sum', 'sum': 'sum', 'mean': 'mean', 'pct': 'sum'})\n",
    "\n",
    "tabla[['min', 'max', 'sum', 'mean']] = tabla[['min', 'max', 'sum', 'mean']].round(-1).astype(int)\n",
    "tabla['size'] = (tabla['size']/1e3).round(1)\n",
    "tabla['sum'] = (tabla['sum']/1e6).round(1)\n",
    "tabla['pct'] = tabla['pct'].round(1)\n",
    "tabla.columns = ['Mínimo', 'Máximo', 'Población (miles)', 'Ingresos (mill. ARS)', 'Media', '% de suma de ingresos']\n",
    "tabla"
   ]
  },
  {
   "cell_type": "code",
   "execution_count": 15,
   "metadata": {},
   "outputs": [
    {
     "data": {
      "text/plain": [
       "{'spreadsheetId': '1mtdjdJ_bdvPSP3ojl8bc267A8eYsELRKM16TZjARUSY',\n",
       " 'replies': [{}]}"
      ]
     },
     "execution_count": 15,
     "metadata": {},
     "output_type": "execute_result"
    }
   ],
   "source": [
    "sheet_id = '1mtdjdJ_bdvPSP3ojl8bc267A8eYsELRKM16TZjARUSY'\n",
    "sh = gc.open_by_key(sheet_id)#.get_worksheet('Sheet1')\n",
    "\n",
    "worksheet = sh.worksheet('Elaboracion Propia')\n",
    "\n",
    "vals = tabla.reset_index()\n",
    "worksheet.update([vals.columns.values.tolist()] + vals.values.tolist())\n",
    "worksheet.format('A', {'textFormat': {'bold': True}})\n",
    "worksheet.format('1', {'textFormat': {'bold': True}})\n",
    "worksheet.format('13', {'textFormat': {'bold': True}})"
   ]
  },
  {
   "cell_type": "markdown",
   "metadata": {},
   "source": [
    "## Series de tiempo"
   ]
  },
  {
   "cell_type": "code",
   "execution_count": 16,
   "metadata": {},
   "outputs": [],
   "source": [
    "import matplotlib.pyplot as plt\n",
    "import pandas as pd\n",
    "import datetime as dt\n",
    "from IPython.display import display, Markdown, Latex\n",
    "\n",
    "import glob\n",
    "frac = 0.01\n",
    "\n",
    "path ='./../data/Pobreza/pobreza_' # use your path\n",
    "\n",
    "allFiles = []\n",
    "allFiles += glob.glob(path+str(frac)+'_q*.csv')\n",
    "allFiles = sorted(allFiles)\n",
    "# allFiles"
   ]
  },
  {
   "cell_type": "code",
   "execution_count": null,
   "metadata": {},
   "outputs": [],
   "source": []
  },
  {
   "cell_type": "code",
   "execution_count": 17,
   "metadata": {},
   "outputs": [],
   "source": [
    "def moving_avg(table):\n",
    "    ## Label left. The roilling means are centered nearly on the right date, although one day early.\n",
    "    # i.e. 2009-12-31 is the average for 07-2009 to 06-2010\n",
    "    return table.resample('Q', label = 'left').mean().interpolate('linear').rolling(4, center = True).mean()\n",
    "\n",
    "# Percentile funcs\n",
    "def q10(x):\n",
    "    return x.quantile(0.1)\n",
    "\n",
    "def q25(x):\n",
    "    return x.quantile(0.25)\n",
    "\n",
    "def q75(x):\n",
    "    return x.quantile(0.75)\n",
    "\n",
    "def q90(x):\n",
    "    return x.quantile(0.9)"
   ]
  },
  {
   "cell_type": "markdown",
   "metadata": {},
   "source": [
    "## Anio 2020-21"
   ]
  },
  {
   "cell_type": "code",
   "execution_count": 18,
   "metadata": {},
   "outputs": [
    {
     "name": "stdout",
     "output_type": "stream",
     "text": [
      "./../data/Pobreza/pobreza_0.01_q2010-02-15.csv\n",
      "./../data/Pobreza/pobreza_0.01_q2010-05-15.csv\n"
     ]
    }
   ],
   "source": [
    "# Stats a nivel Hogar\n",
    "\n",
    "mon_cols = ['P47T_hogar', 'CBA', 'CBT', 'gap_pobreza', 'gap_indigencia', 'IPCF']\n",
    "\n",
    "df_list = []\n",
    "for f in allFiles[:2]:\n",
    "    print(f)\n",
    "    \n",
    "    vars_ = ['P47T_hogar', 'CBA', 'CBT', 'gap_pobreza', 'gap_indigencia', 'IX_TOT']\n",
    "    data = pd.read_csv(f, usecols = ['HOGAR_REF_ID', 'Q', 'AGLOMERADO'] + vars_)\n",
    "    data = data.loc[data.AGLOMERADO != 0]\n",
    "    data = data.drop_duplicates()\n",
    "    \n",
    "    data['IPCF'] = data['P47T_hogar']/data['IX_TOT']\n",
    "    \n",
    "    table = data.groupby(['Q'])[mon_cols].agg(['mean', q10, q25, 'median', q75, q90])\n",
    "\n",
    "    df_list += [table]\n",
    "    \n",
    "df = pd.concat(df_list)\n",
    "df.index = pd.to_datetime(df.index)\n"
   ]
  },
  {
   "cell_type": "code",
   "execution_count": 19,
   "metadata": {},
   "outputs": [
    {
     "name": "stdout",
     "output_type": "stream",
     "text": [
      "./../data/Pobreza/pobreza_0.01_q2020-02-15.csv\n",
      "./../data/Pobreza/pobreza_0.01_q2020-05-15.csv\n",
      "./../data/Pobreza/pobreza_0.01_q2020-08-15.csv\n",
      "./../data/Pobreza/pobreza_0.01_q2020-11-15.csv\n",
      "./../data/Pobreza/pobreza_0.01_q2021-02-15.csv\n",
      "./../data/Pobreza/pobreza_0.01_q2021-05-15.csv\n",
      "./../data/Pobreza/pobreza_0.01_q2021-08-15.csv\n",
      "./../data/Pobreza/pobreza_0.01_q2021-11-15.csv\n"
     ]
    }
   ],
   "source": [
    "# Stats a nivel Persona\n",
    "\n",
    "df_list = []\n",
    "for f in allFiles:\n",
    "    if '2020' in f or '2021' in f:\n",
    "        print(f)\n",
    "\n",
    "        vars_ = ['P47T_persona']\n",
    "        data = pd.read_csv(f, usecols = ['PERSONA_REF_ID', 'Q', 'AGLOMERADO'] + vars_)\n",
    "        data = data.loc[data.AGLOMERADO != 0]\n",
    "\n",
    "        df_list += [data]\n",
    "    \n",
    "df2021 = pd.concat(df_list)\n",
    "df2021 = df2021.set_index('Q')\n",
    "df2021.index = pd.to_datetime(df2021.index)"
   ]
  },
  {
   "cell_type": "markdown",
   "metadata": {},
   "source": [
    "### Distribucion del ingreso"
   ]
  },
  {
   "cell_type": "code",
   "execution_count": 70,
   "metadata": {},
   "outputs": [],
   "source": [
    "data = df2021.reset_index()[['P47T_persona']]   ## Ingresos en 2020-21\n",
    "data = data.loc[data.P47T_persona > 0]  ## Seleccionar personas con ingresos\n",
    "data = data*(cpi_actual/cpi_ref)  ## Precios del mes actual\n",
    "# pd.cut(data.P47T_persona, bins = np.arange(1, 8, .1))\n",
    "\n",
    "data['P47T_persona'] = data['P47T_persona'] + np.random.uniform(0, 1, len(data))  ## Agrega centavos para que no coincidan exactamente los ingresos de muchas personas\n",
    "data['P47T_persona_log'] = np.log10(data['P47T_persona'])  # valores en log\n",
    "\n",
    "data = data.sort_values('P47T_persona').reset_index(drop = True)\n",
    "\n",
    "nb = 10\n",
    "data['cnt_bin'] = pd.qcut(data.P47T_persona, nb)\n",
    "data['log_bin'] = pd.cut(data.P47T_persona_log, bins = nb)\n",
    "data['val_bin'] = pd.cut(data.P47T_persona.cumsum(), bins = nb)\n",
    "\n",
    "# data.groupby('cnt_bin').agg({'P47T_persona_log': 'mean', 'P47T_persona': ['size', 'sum']})"
   ]
  },
  {
   "cell_type": "markdown",
   "metadata": {},
   "source": [
    "## Distribucion Pareto para altos ingresos"
   ]
  },
  {
   "cell_type": "code",
   "execution_count": 71,
   "metadata": {},
   "outputs": [
    {
     "data": {
      "text/plain": [
       "17647212.5"
      ]
     },
     "execution_count": 71,
     "metadata": {},
     "output_type": "execute_result"
    }
   ],
   "source": [
    "n_percibe_ingreso_en_aglos = len(data)/8/frac\n",
    "low_lim = 1/(n_percibe_ingreso_en_aglos)\n",
    "\n",
    "n_percibe_ingreso_en_aglos"
   ]
  },
  {
   "cell_type": "code",
   "execution_count": 72,
   "metadata": {},
   "outputs": [
    {
     "data": {
      "image/png": "[encoded data removed]",
      "text/plain": [
       "<Figure size 504x360 with 1 Axes>"
      ]
     },
     "metadata": {
      "needs_background": "light"
     },
     "output_type": "display_data"
    }
   ],
   "source": [
    "data['1 - CDF'] = data.P47T_persona.rank(pct = True, ascending = False)\n",
    "data['log(1 - CDF)'] = np.log10(data['1 - CDF'])\n",
    "\n",
    "fig, ax = plt.subplots(1, figsize = (7, 5))\n",
    "ax.set_title('Regla de Pareto en altos ingresos')\n",
    "\n",
    "## Points plot\n",
    "plot_data = data.sample(frac = 0.1)\n",
    "plot_data.plot(x = 'P47T_persona_log', y = 'log(1 - CDF)', ax = ax,\n",
    "               lw = 0, marker = 's', c = 'k', alpha = .2, markersize = 2)\n",
    "\n",
    "\n",
    "ax.axhline(np.log10(low_lim), linestyle = '--')\n",
    "ax.annotate(xy = (2.1, np.log10(low_lim)), text = 'Maximo ingreso (1/17.64 mill.)', va = 'bottom', ha = 'left')\n",
    "# ax.plot(x, y, '.', label = 'observations', c = '.3')\n",
    "\n",
    "# Fit\n",
    "fit_data = data.loc[data.P47T_persona_log > 5.2]\n",
    "x_fit = fit_data['P47T_persona_log']\n",
    "y_fit = fit_data['log(1 - CDF)']\n",
    "z = np.polyfit(x_fit, y_fit, 1)\n",
    "p = np.poly1d(z)\n",
    "xp = np.linspace(5, 7.5, 2)\n",
    "ax.plot(xp, p(xp), '-', c = 'r', label='%.2f x + %.2f' % tuple(z))\n",
    "\n",
    "# # Leyenda\n",
    "pts1 = mlines.Line2D([], [], lw = 0, marker = 's', c = 'k', markersize = 2, label = 'log(1 - CDF)')\n",
    "\n",
    "'%.2f x + %.2f' % tuple(z)\n",
    "line1 = mlines.Line2D([], [], color='r', label='Regla Pareto')\n",
    "line2 = mlines.Line2D([], [], color='#1f77b4', linestyle = '--', label='1/TOTAL')\n",
    "ax.legend(handles=[pts1, line1, line2], numpoints = 1, labelspacing = .2)\n",
    "\n",
    "ax.set_ylabel('log(1 - CDF)')\n",
    "ax.set_xlabel('Ingresos Persona [log]')\n",
    "ax.set_xlim(2, 7.5)\n",
    "plt.grid()\n",
    "plt.show()"
   ]
  },
  {
   "cell_type": "code",
   "execution_count": 143,
   "metadata": {},
   "outputs": [],
   "source": [
    "## Aplicar correccion para altos ingresos\n",
    "\n",
    "# log(1 - CDF) segun regla de Pareto\n",
    "data['T(log(1 - CDF))'] = np.log10(1 - np.arange(1, len(data) + 1)/(len(data) + .5))\n",
    "\n",
    "## Usar inversa de regla de Pareto para obtener ingresos esperados segun CDF\n",
    "a, b = p[1], p[0]\n",
    "data['T(P47T_persona_log)'] = (data['T(log(1 - CDF))'] - b)/a\n",
    "\n",
    "## Corregir ingresos [log] segun expectativa Pareto \n",
    "data['P47T_persona_log_fix'] = data['P47T_persona_log'] # Empezar por copiar valores\n",
    "data.loc[data['log(1 - CDF)'] < -3, # Extremo milesima de mayor ingreso (< -3)\n",
    "         'P47T_persona_log_fix',] = data.loc[data['log(1 - CDF)'] < -3, 'T(P47T_persona_log)']\n",
    "\n",
    "## Pasar a escala lineal para tener ingresos corregidos nominales\n",
    "data['P47T_persona_fix'] = np.power(10, data['P47T_persona_log_fix'])\n",
    "\n",
    "## Volver a computar (1 - CDF)\n",
    "data['1 - CDF'] = data.P47T_persona.rank(pct = True, ascending = False)\n",
    "data['log(1 - CDF)'] = np.log10(data['1 - CDF'])"
   ]
  },
  {
   "cell_type": "code",
   "execution_count": 144,
   "metadata": {},
   "outputs": [],
   "source": [
    "# data = df2021.reset_index()[['P47T_persona']]\n",
    "# data = data.loc[data.P47T_persona > 0]\n",
    "# data = data*(cpi_actual/cpi_ref)\n",
    "# data = np.log10(data)\n",
    "\n",
    "# plt.hist(data, bins = np.arange(1, 8, .1))\n",
    "# plt.yscale('log')\n",
    "# plt.show()"
   ]
  },
  {
   "cell_type": "code",
   "execution_count": 145,
   "metadata": {},
   "outputs": [],
   "source": [
    "# data = df2021.reset_index()[['P47T_persona']]\n",
    "# data = data.loc[data.P47T_persona > 0]\n",
    "# data = data*(cpi_actual/cpi_ref)\n",
    "# # pd.cut(data.P47T_persona, bins = np.arange(1, 8, .1))\n",
    "# data['P47T_persona_log'] = np.log10(data['P47T_persona'])\n",
    "# data['bin'] = pd.cut(data.P47T_persona_log, bins = np.arange(1, 8, .1))\n"
   ]
  },
  {
   "cell_type": "code",
   "execution_count": 146,
   "metadata": {},
   "outputs": [],
   "source": [
    "# info = data.groupby('log_bin').agg(['mean', 'size', 'sum'])['P47T_persona']\n",
    "# info.loc[:, ['size', 'sum']] = info[['size', 'sum']].div(info[['size', 'sum']].sum(), 1)\n",
    "# info.sample(5)#.tail()"
   ]
  },
  {
   "cell_type": "code",
   "execution_count": 162,
   "metadata": {},
   "outputs": [
    {
     "data": {
      "image/png": "[encoded data removed]",
      "text/plain": [
       "<Figure size 432x288 with 1 Axes>"
      ]
     },
     "metadata": {
      "needs_background": "light"
     },
     "output_type": "display_data"
    }
   ],
   "source": [
    "nb = 20\n",
    "# data['cnt_bin'] = pd.qcut(data.P47T_persona, nb)\n",
    "data['log_bin'] = pd.cut(data.P47T_persona_log_fix, bins = np.arange(2, 8, .1))\n",
    "# data['val_bin'] = pd.cut(data.P47T_persona.cumsum(), bins = nb)\n",
    "\n",
    "info = data.groupby('log_bin').agg(['mean', 'size', 'sum'])['P47T_persona_fix']\n",
    "info.loc[:, ['size', 'sum']] = info[['size', 'sum']].div(info[['size', 'sum']].sum(), 1)\n",
    "\n",
    "fig, ax = plt.subplots(1, figsize = (6, 4))\n",
    "info.plot(x = 'mean', y = 'size', ax = ax, marker = '.')\n",
    "info.plot(x = 'mean', y = 'sum', ax = ax, marker = '.')\n",
    "ax.set_yscale('log')\n",
    "# ax.set_ylim(1e-6, 1)\n",
    "ax.grid()\n",
    "ax.set_xscale('log')"
   ]
  },
  {
   "cell_type": "code",
   "execution_count": 148,
   "metadata": {},
   "outputs": [],
   "source": [
    "import warnings\n",
    "warnings.filterwarnings('ignore')"
   ]
  },
  {
   "cell_type": "code",
   "execution_count": 151,
   "metadata": {},
   "outputs": [],
   "source": [
    "\n",
    "nb = 10\n",
    "data['cnt_bin'] = pd.qcut(data.P47T_persona_fix, nb)\n",
    "data['log_bin'] = pd.cut(data.P47T_persona_log_fix, bins = nb)\n",
    "data['val_bin'] = pd.cut(data.P47T_persona_fix.cumsum(), bins = nb)\n",
    "\n",
    "info = data.groupby('log_bin').agg(['mean', 'size', 'sum'])['P47T_persona_fix']\n",
    "info.loc[:, ['size', 'sum']] = info[['size', 'sum']].div(info[['size', 'sum']].sum(), 1)"
   ]
  },
  {
   "cell_type": "code",
   "execution_count": 152,
   "metadata": {},
   "outputs": [
    {
     "data": {
      "image/png": "[encoded data removed]",
      "text/plain": [
       "<Figure size 504x288 with 1 Axes>"
      ]
     },
     "metadata": {
      "needs_background": "light"
     },
     "output_type": "display_data"
    }
   ],
   "source": [
    "info = data.groupby('val_bin').agg({'P47T_persona_log_fix' : ['min', 'max', 'size']})['P47T_persona_log_fix']\n",
    "info['min'] = info['min'].clip(2.9,)\n",
    "info['mid'] = (info['max'] + info['min'])/2\n",
    "info['width'] = (info['max'] - info['min'])\n",
    "\n",
    "fig, ax = plt.subplots(1, figsize = (7, 4))\n",
    "\n",
    "ax.bar(x = info['mid'], height = info['size'], width = info['width'] - .02, \n",
    "       color= '.8', linewidth = 1, edgecolor = '.5')\n",
    "ax.grid()\n",
    "ax.set_xlim(3, 7.5)\n",
    "plt.show()"
   ]
  },
  {
   "cell_type": "code",
   "execution_count": 153,
   "metadata": {},
   "outputs": [
    {
     "data": {
      "image/png": "[encoded data removed]",
      "text/plain": [
       "<Figure size 504x288 with 1 Axes>"
      ]
     },
     "metadata": {
      "needs_background": "light"
     },
     "output_type": "display_data"
    }
   ],
   "source": [
    "info = data.groupby('cnt_bin').agg({'P47T_persona_log_fix': ['min', 'max'],\n",
    "                                    'P47T_persona_fix' : ['sum']})\n",
    "info.columns = info.columns.droplevel(0)\n",
    "info['min'] = info['min'].clip(2.9,)\n",
    "info['mid'] = (info['max'] + info['min'])/2\n",
    "info['width'] = (info['max'] - info['min'])\n",
    "\n",
    "fig, ax = plt.subplots(1, figsize = (7, 4))\n",
    "\n",
    "ax.bar(x = info['mid'], height = info['sum'], width = info['width'] - .02, \n",
    "       color= '.8', linewidth = 1, edgecolor = '.5')\n",
    "ax.grid()\n",
    "ax.set_xlim(3, 7.5)\n",
    "plt.show()"
   ]
  },
  {
   "cell_type": "code",
   "execution_count": null,
   "metadata": {},
   "outputs": [],
   "source": [
    "# data.groupby('val_bin').agg({'P47T_persona_log': 'mean', 'P47T_persona': ['size', 'sum']})"
   ]
  },
  {
   "cell_type": "code",
   "execution_count": null,
   "metadata": {},
   "outputs": [],
   "source": [
    "3.173569e+10/1.272490e+09"
   ]
  },
  {
   "cell_type": "code",
   "execution_count": 154,
   "metadata": {},
   "outputs": [],
   "source": [
    "\n",
    "# fig, ax = plt.subplots(1, figsize = (6, 5))\n",
    "\n",
    "# plot_data = data.tail(120000)\n",
    "# plot_data.plot(x = 'P47T_persona_log', y = 'log(1 - CDF)', lw = 0, marker = '.', ax = ax)\n",
    "# plot_data.tail(2000).plot(x = 'P47T_persona_log_fix', y = 'log(1 - CDF)', lw = 0, marker = '.', ax = ax)\n",
    "\n",
    "# ax.axhline(np.log10(low_lim), linestyle = '--')\n",
    "# plt.grid()\n",
    "\n",
    "# plt.show()"
   ]
  },
  {
   "cell_type": "code",
   "execution_count": 156,
   "metadata": {},
   "outputs": [],
   "source": [
    "data_top = data.loc[data['1 - CDF'] < .1]\n",
    "\n",
    "nb = 10\n",
    "data_top['cnt_bin'] = pd.qcut(data_top.P47T_persona_fix, nb)\n",
    "data_top['log_bin'] = pd.cut(data_top.P47T_persona_log_fix, bins = nb)\n",
    "data_top['val_bin'] = pd.cut(data_top.P47T_persona_fix.cumsum(), bins = nb)\n"
   ]
  },
  {
   "cell_type": "code",
   "execution_count": 157,
   "metadata": {},
   "outputs": [
    {
     "data": {
      "text/html": [
       "<div>\n",
       "<style scoped>\n",
       "    .dataframe tbody tr th:only-of-type {\n",
       "        vertical-align: middle;\n",
       "    }\n",
       "\n",
       "    .dataframe tbody tr th {\n",
       "        vertical-align: top;\n",
       "    }\n",
       "\n",
       "    .dataframe thead tr th {\n",
       "        text-align: left;\n",
       "    }\n",
       "\n",
       "    .dataframe thead tr:last-of-type th {\n",
       "        text-align: right;\n",
       "    }\n",
       "</style>\n",
       "<table border=\"1\" class=\"dataframe\">\n",
       "  <thead>\n",
       "    <tr>\n",
       "      <th></th>\n",
       "      <th>P47T_persona_log_fix</th>\n",
       "      <th colspan=\"2\" halign=\"left\">P47T_persona_fix</th>\n",
       "    </tr>\n",
       "    <tr>\n",
       "      <th></th>\n",
       "      <th>mean</th>\n",
       "      <th>size</th>\n",
       "      <th>sum</th>\n",
       "    </tr>\n",
       "    <tr>\n",
       "      <th>val_bin</th>\n",
       "      <th></th>\n",
       "      <th></th>\n",
       "      <th></th>\n",
       "    </tr>\n",
       "  </thead>\n",
       "  <tbody>\n",
       "    <tr>\n",
       "      <th>(-32848417.71, 3299509572.993]</th>\n",
       "      <td>5.179562</td>\n",
       "      <td>21817</td>\n",
       "      <td>3.299425e+09</td>\n",
       "    </tr>\n",
       "    <tr>\n",
       "      <th>(3299509572.993, 6598873920.223]</th>\n",
       "      <td>5.213783</td>\n",
       "      <td>20160</td>\n",
       "      <td>3.299419e+09</td>\n",
       "    </tr>\n",
       "    <tr>\n",
       "      <th>(6598873920.223, 9898238267.453]</th>\n",
       "      <td>5.246398</td>\n",
       "      <td>18700</td>\n",
       "      <td>3.299360e+09</td>\n",
       "    </tr>\n",
       "    <tr>\n",
       "      <th>(9898238267.453, 13197602614.684]</th>\n",
       "      <td>5.286125</td>\n",
       "      <td>17066</td>\n",
       "      <td>3.299210e+09</td>\n",
       "    </tr>\n",
       "    <tr>\n",
       "      <th>(13197602614.684, 16496966961.914]</th>\n",
       "      <td>5.328450</td>\n",
       "      <td>15482</td>\n",
       "      <td>3.299475e+09</td>\n",
       "    </tr>\n",
       "    <tr>\n",
       "      <th>(16496966961.914, 19796331309.144]</th>\n",
       "      <td>5.375621</td>\n",
       "      <td>13884</td>\n",
       "      <td>3.299297e+09</td>\n",
       "    </tr>\n",
       "    <tr>\n",
       "      <th>(19796331309.144, 23095695656.375]</th>\n",
       "      <td>5.431114</td>\n",
       "      <td>12216</td>\n",
       "      <td>3.299400e+09</td>\n",
       "    </tr>\n",
       "    <tr>\n",
       "      <th>(23095695656.375, 26395060003.605]</th>\n",
       "      <td>5.506894</td>\n",
       "      <td>10253</td>\n",
       "      <td>3.299221e+09</td>\n",
       "    </tr>\n",
       "    <tr>\n",
       "      <th>(26395060003.605, 29694424350.836]</th>\n",
       "      <td>5.627069</td>\n",
       "      <td>7738</td>\n",
       "      <td>3.299139e+09</td>\n",
       "    </tr>\n",
       "    <tr>\n",
       "      <th>(29694424350.836, 32993788698.066]</th>\n",
       "      <td>5.893020</td>\n",
       "      <td>3861</td>\n",
       "      <td>3.299842e+09</td>\n",
       "    </tr>\n",
       "  </tbody>\n",
       "</table>\n",
       "</div>"
      ],
      "text/plain": [
       "                                   P47T_persona_log_fix P47T_persona_fix  \\\n",
       "                                                   mean             size   \n",
       "val_bin                                                                    \n",
       "(-32848417.71, 3299509572.993]                 5.179562            21817   \n",
       "(3299509572.993, 6598873920.223]               5.213783            20160   \n",
       "(6598873920.223, 9898238267.453]               5.246398            18700   \n",
       "(9898238267.453, 13197602614.684]              5.286125            17066   \n",
       "(13197602614.684, 16496966961.914]             5.328450            15482   \n",
       "(16496966961.914, 19796331309.144]             5.375621            13884   \n",
       "(19796331309.144, 23095695656.375]             5.431114            12216   \n",
       "(23095695656.375, 26395060003.605]             5.506894            10253   \n",
       "(26395060003.605, 29694424350.836]             5.627069             7738   \n",
       "(29694424350.836, 32993788698.066]             5.893020             3861   \n",
       "\n",
       "                                                  \n",
       "                                             sum  \n",
       "val_bin                                           \n",
       "(-32848417.71, 3299509572.993]      3.299425e+09  \n",
       "(3299509572.993, 6598873920.223]    3.299419e+09  \n",
       "(6598873920.223, 9898238267.453]    3.299360e+09  \n",
       "(9898238267.453, 13197602614.684]   3.299210e+09  \n",
       "(13197602614.684, 16496966961.914]  3.299475e+09  \n",
       "(16496966961.914, 19796331309.144]  3.299297e+09  \n",
       "(19796331309.144, 23095695656.375]  3.299400e+09  \n",
       "(23095695656.375, 26395060003.605]  3.299221e+09  \n",
       "(26395060003.605, 29694424350.836]  3.299139e+09  \n",
       "(29694424350.836, 32993788698.066]  3.299842e+09  "
      ]
     },
     "execution_count": 157,
     "metadata": {},
     "output_type": "execute_result"
    }
   ],
   "source": [
    "data_top.groupby('val_bin').agg({'P47T_persona_log_fix': 'mean', 'P47T_persona_fix': ['size', 'sum']})\n"
   ]
  },
  {
   "cell_type": "code",
   "execution_count": 158,
   "metadata": {},
   "outputs": [
    {
     "data": {
      "text/html": [
       "<div>\n",
       "<style scoped>\n",
       "    .dataframe tbody tr th:only-of-type {\n",
       "        vertical-align: middle;\n",
       "    }\n",
       "\n",
       "    .dataframe tbody tr th {\n",
       "        vertical-align: top;\n",
       "    }\n",
       "\n",
       "    .dataframe thead tr th {\n",
       "        text-align: left;\n",
       "    }\n",
       "\n",
       "    .dataframe thead tr:last-of-type th {\n",
       "        text-align: right;\n",
       "    }\n",
       "</style>\n",
       "<table border=\"1\" class=\"dataframe\">\n",
       "  <thead>\n",
       "    <tr>\n",
       "      <th></th>\n",
       "      <th>P47T_persona_log_fix</th>\n",
       "      <th colspan=\"2\" halign=\"left\">P47T_persona_fix</th>\n",
       "    </tr>\n",
       "    <tr>\n",
       "      <th></th>\n",
       "      <th>mean</th>\n",
       "      <th>size</th>\n",
       "      <th>sum</th>\n",
       "    </tr>\n",
       "    <tr>\n",
       "      <th>cnt_bin</th>\n",
       "      <th></th>\n",
       "      <th></th>\n",
       "      <th></th>\n",
       "    </tr>\n",
       "  </thead>\n",
       "  <tbody>\n",
       "    <tr>\n",
       "      <th>(145225.761, 152206.855]</th>\n",
       "      <td>5.174343</td>\n",
       "      <td>14118</td>\n",
       "      <td>2.109333e+09</td>\n",
       "    </tr>\n",
       "    <tr>\n",
       "      <th>(152206.855, 160182.788]</th>\n",
       "      <td>5.194287</td>\n",
       "      <td>14118</td>\n",
       "      <td>2.208556e+09</td>\n",
       "    </tr>\n",
       "    <tr>\n",
       "      <th>(160182.788, 170016.953]</th>\n",
       "      <td>5.220282</td>\n",
       "      <td>14117</td>\n",
       "      <td>2.344882e+09</td>\n",
       "    </tr>\n",
       "    <tr>\n",
       "      <th>(170016.953, 182181.14]</th>\n",
       "      <td>5.241218</td>\n",
       "      <td>14118</td>\n",
       "      <td>2.460829e+09</td>\n",
       "    </tr>\n",
       "    <tr>\n",
       "      <th>(182181.14, 195280.359]</th>\n",
       "      <td>5.273818</td>\n",
       "      <td>14118</td>\n",
       "      <td>2.652551e+09</td>\n",
       "    </tr>\n",
       "    <tr>\n",
       "      <th>(195280.359, 211879.144]</th>\n",
       "      <td>5.308132</td>\n",
       "      <td>14117</td>\n",
       "      <td>2.870960e+09</td>\n",
       "    </tr>\n",
       "    <tr>\n",
       "      <th>(211879.144, 234842.973]</th>\n",
       "      <td>5.345721</td>\n",
       "      <td>14118</td>\n",
       "      <td>3.131157e+09</td>\n",
       "    </tr>\n",
       "    <tr>\n",
       "      <th>(234842.973, 268627.281]</th>\n",
       "      <td>5.397829</td>\n",
       "      <td>14117</td>\n",
       "      <td>3.530891e+09</td>\n",
       "    </tr>\n",
       "    <tr>\n",
       "      <th>(268627.281, 338247.198]</th>\n",
       "      <td>5.473869</td>\n",
       "      <td>14118</td>\n",
       "      <td>4.212672e+09</td>\n",
       "    </tr>\n",
       "    <tr>\n",
       "      <th>(338247.198, 13852086.116]</th>\n",
       "      <td>5.684216</td>\n",
       "      <td>14118</td>\n",
       "      <td>7.471959e+09</td>\n",
       "    </tr>\n",
       "  </tbody>\n",
       "</table>\n",
       "</div>"
      ],
      "text/plain": [
       "                           P47T_persona_log_fix P47T_persona_fix              \n",
       "                                           mean             size           sum\n",
       "cnt_bin                                                                       \n",
       "(145225.761, 152206.855]               5.174343            14118  2.109333e+09\n",
       "(152206.855, 160182.788]               5.194287            14118  2.208556e+09\n",
       "(160182.788, 170016.953]               5.220282            14117  2.344882e+09\n",
       "(170016.953, 182181.14]                5.241218            14118  2.460829e+09\n",
       "(182181.14, 195280.359]                5.273818            14118  2.652551e+09\n",
       "(195280.359, 211879.144]               5.308132            14117  2.870960e+09\n",
       "(211879.144, 234842.973]               5.345721            14118  3.131157e+09\n",
       "(234842.973, 268627.281]               5.397829            14117  3.530891e+09\n",
       "(268627.281, 338247.198]               5.473869            14118  4.212672e+09\n",
       "(338247.198, 13852086.116]             5.684216            14118  7.471959e+09"
      ]
     },
     "execution_count": 158,
     "metadata": {},
     "output_type": "execute_result"
    }
   ],
   "source": [
    "data_top.groupby('cnt_bin').agg({'P47T_persona_log_fix': 'mean', 'P47T_persona_fix': ['size', 'sum']})\n"
   ]
  },
  {
   "cell_type": "code",
   "execution_count": 159,
   "metadata": {},
   "outputs": [],
   "source": [
    "data['bin'] = pd.cut(data.P47T_persona_log_fix, bins = np.arange(1, 8, .1))\n",
    "info = data.groupby('bin').agg(['mean', 'size', 'sum'])['P47T_persona_fix']\n",
    "info[['size', 'sum']] = info[['size', 'sum']].div(info[['size', 'sum']].sum(), 1)\n",
    "# info.sample(5)#.tail()"
   ]
  },
  {
   "cell_type": "code",
   "execution_count": 163,
   "metadata": {},
   "outputs": [],
   "source": [
    "data['tot_log(1-CDF)'] = (-np.log10(data['1 - CDF']*frac*8))\n",
    "data['top_group'] = pd.cut(data['tot_log(1-CDF)'], bins = np.arange(1, 9, 1), \n",
    "                           labels=['bottom 90%', 'top 10%', 'top 1%', 'top 0.1%', 'top 0.01%', 'top 0.001%', 'top 0.0001%'])"
   ]
  },
  {
   "cell_type": "code",
   "execution_count": 164,
   "metadata": {},
   "outputs": [],
   "source": [
    "# (data['top_group'].value_counts()/8/frac).sort_index()"
   ]
  },
  {
   "cell_type": "code",
   "execution_count": 165,
   "metadata": {},
   "outputs": [
    {
     "data": {
      "text/html": [
       "<div>\n",
       "<style scoped>\n",
       "    .dataframe tbody tr th:only-of-type {\n",
       "        vertical-align: middle;\n",
       "    }\n",
       "\n",
       "    .dataframe tbody tr th {\n",
       "        vertical-align: top;\n",
       "    }\n",
       "\n",
       "    .dataframe thead th {\n",
       "        text-align: right;\n",
       "    }\n",
       "</style>\n",
       "<table border=\"1\" class=\"dataframe\">\n",
       "  <thead>\n",
       "    <tr style=\"text-align: right;\">\n",
       "      <th></th>\n",
       "      <th>min</th>\n",
       "      <th>max</th>\n",
       "      <th>size</th>\n",
       "      <th>sum</th>\n",
       "      <th>mean</th>\n",
       "    </tr>\n",
       "    <tr>\n",
       "      <th>top_group</th>\n",
       "      <th></th>\n",
       "      <th></th>\n",
       "      <th></th>\n",
       "      <th></th>\n",
       "      <th></th>\n",
       "    </tr>\n",
       "  </thead>\n",
       "  <tbody>\n",
       "    <tr>\n",
       "      <th>bottom 90%</th>\n",
       "      <td>0</td>\n",
       "      <td>132</td>\n",
       "      <td>15441312</td>\n",
       "      <td>65460000</td>\n",
       "      <td>52</td>\n",
       "    </tr>\n",
       "    <tr>\n",
       "      <th>top 10%</th>\n",
       "      <td>132</td>\n",
       "      <td>316</td>\n",
       "      <td>1985312</td>\n",
       "      <td>29270000</td>\n",
       "      <td>184</td>\n",
       "    </tr>\n",
       "    <tr>\n",
       "      <th>top 1%</th>\n",
       "      <td>316</td>\n",
       "      <td>737</td>\n",
       "      <td>198537</td>\n",
       "      <td>6603000</td>\n",
       "      <td>415</td>\n",
       "    </tr>\n",
       "    <tr>\n",
       "      <th>top 0.1%</th>\n",
       "      <td>737</td>\n",
       "      <td>1672</td>\n",
       "      <td>19850</td>\n",
       "      <td>1558000</td>\n",
       "      <td>981</td>\n",
       "    </tr>\n",
       "    <tr>\n",
       "      <th>top 0.01%</th>\n",
       "      <td>1675</td>\n",
       "      <td>3846</td>\n",
       "      <td>1987</td>\n",
       "      <td>357200</td>\n",
       "      <td>2247</td>\n",
       "    </tr>\n",
       "    <tr>\n",
       "      <th>top 0.001%</th>\n",
       "      <td>3928</td>\n",
       "      <td>9323</td>\n",
       "      <td>200</td>\n",
       "      <td>86280</td>\n",
       "      <td>5392</td>\n",
       "    </tr>\n",
       "    <tr>\n",
       "      <th>top 0.0001%</th>\n",
       "      <td>13850</td>\n",
       "      <td>13850</td>\n",
       "      <td>12</td>\n",
       "      <td>13850</td>\n",
       "      <td>13850</td>\n",
       "    </tr>\n",
       "  </tbody>\n",
       "</table>\n",
       "</div>"
      ],
      "text/plain": [
       "               min    max      size       sum   mean\n",
       "top_group                                           \n",
       "bottom 90%       0    132  15441312  65460000     52\n",
       "top 10%        132    316   1985312  29270000    184\n",
       "top 1%         316    737    198537   6603000    415\n",
       "top 0.1%       737   1672     19850   1558000    981\n",
       "top 0.01%     1675   3846      1987    357200   2247\n",
       "top 0.001%    3928   9323       200     86280   5392\n",
       "top 0.0001%  13850  13850        12     13850  13850"
      ]
     },
     "execution_count": 165,
     "metadata": {},
     "output_type": "execute_result"
    }
   ],
   "source": [
    "table = data.groupby('top_group').agg({'P47T_persona_fix': ['min', 'max', 'size', 'sum', 'mean']})['P47T_persona_fix']\n",
    "table['size'] = table['size']/8/frac\n",
    "\n",
    "for col in ['min', 'max', 'sum', 'mean']:\n",
    "    magnitude = np.power(10, np.floor(np.log10(table[col])))\n",
    "    table[col] = np.round(table[col]/magnitude, 3)*magnitude\n",
    "    table[col] = table[col]/1e3\n",
    "\n",
    "table.astype(int)\n",
    "## Miles de pesos ARS"
   ]
  },
  {
   "cell_type": "code",
   "execution_count": 167,
   "metadata": {},
   "outputs": [
    {
     "data": {
      "text/plain": [
       "73209.22512502446"
      ]
     },
     "execution_count": 167,
     "metadata": {},
     "output_type": "execute_result"
    }
   ],
   "source": [
    "## ARS total\n",
    "## Million USD\n",
    "# data['P47T_persona_fix'].sum()/8/frac/220/1e6  # Total income USD\n",
    "data['P47T_persona_fix'].mean()#/220  # Mean income USD"
   ]
  },
  {
   "cell_type": "code",
   "execution_count": 173,
   "metadata": {},
   "outputs": [
    {
     "data": {
      "text/plain": [
       "28204500.0"
      ]
     },
     "execution_count": 173,
     "metadata": {},
     "output_type": "execute_result"
    }
   ],
   "source": [
    "## Cant total de personas (en AGLOS)\n",
    "2256360/8/frac\n",
    "\n",
    "# ## Cant total de personas que perciben ingreso (en AGLOS)\n",
    "# 1411777/8/frac"
   ]
  },
  {
   "cell_type": "code",
   "execution_count": 172,
   "metadata": {},
   "outputs": [
    {
     "data": {
      "text/plain": [
       "45806.12146081816"
      ]
     },
     "execution_count": 172,
     "metadata": {},
     "output_type": "execute_result"
    }
   ],
   "source": [
    "(data['P47T_persona_fix'].mean())*(1411777/8/frac)/(2256360/8/frac)"
   ]
  },
  {
   "cell_type": "code",
   "execution_count": null,
   "metadata": {},
   "outputs": [],
   "source": [
    "# data['P47T_persona'].mean()/220  # Mean income USD"
   ]
  },
  {
   "cell_type": "code",
   "execution_count": null,
   "metadata": {},
   "outputs": [],
   "source": [
    "12/17000000"
   ]
  },
  {
   "cell_type": "code",
   "execution_count": null,
   "metadata": {},
   "outputs": [],
   "source": [
    "table['size'].sum()"
   ]
  },
  {
   "cell_type": "code",
   "execution_count": null,
   "metadata": {},
   "outputs": [],
   "source": [
    "1235305/9*10"
   ]
  },
  {
   "cell_type": "code",
   "execution_count": null,
   "metadata": {},
   "outputs": [],
   "source": [
    "# 1985312/9*100"
   ]
  },
  {
   "cell_type": "code",
   "execution_count": null,
   "metadata": {},
   "outputs": [],
   "source": [
    "## Cant total de personas que perciben ingreso (en AGLOS)\n",
    "\n",
    "1411777/8/frac = 17647212.5"
   ]
  },
  {
   "cell_type": "markdown",
   "metadata": {},
   "source": [
    "# Series de Tiempo. Hogares"
   ]
  },
  {
   "cell_type": "code",
   "execution_count": null,
   "metadata": {},
   "outputs": [],
   "source": [
    "# ## INDICE DE PRECIOS - CONVERSION A VALOR CONSTANTE\n",
    "\n",
    "# cpi_M = pd.read_csv('https://raw.githubusercontent.com/matuteiglesias/IPC-Argentina/main/data/info/indice_precios_M.csv', index_col=0)\n",
    "# cpi_M.index = pd.to_datetime(cpi_M.index)\n",
    "\n",
    "# from datetime import datetime as dt\n",
    "  \n",
    "# # Getting current date and time\n",
    "# today = dt.today()\n",
    "# ref = '2016-01'\n",
    "\n",
    "# cpi_actual = cpi_M.loc[today.strftime(\"%Y-%m\")]['index'][0]\n",
    "# cpi_ref = cpi_M.loc[ref]['index'][0]\n",
    "\n",
    "# df_ARShoy = df*(cpi_actual/cpi_ref)"
   ]
  },
  {
   "cell_type": "code",
   "execution_count": null,
   "metadata": {},
   "outputs": [],
   "source": [
    "# import matplotlib.ticker as mtick\n",
    "\n",
    "# def moving_avg(table):\n",
    "#     ## Label left. The roilling means are centered nearly on the right date, although one day early.\n",
    "#     # i.e. 2009-12-31 is the average for 07-2009 to 06-2010\n",
    "#     return table.resample('QS').mean().interpolate('linear').rolling(4, center = True).mean()\n"
   ]
  },
  {
   "cell_type": "markdown",
   "metadata": {},
   "source": [
    "## Ingreso Total Familiar y Canastas. "
   ]
  },
  {
   "cell_type": "code",
   "execution_count": null,
   "metadata": {},
   "outputs": [],
   "source": [
    "fig, ax = plt.subplots(1, figsize = (8, 6))\n",
    "\n",
    "colors = ['#1f77b4', '#ff7f0e', '#d62728']\n",
    "\n",
    "data = df_ARShoy\n",
    "for i, v in enumerate(['P47T_hogar', 'CBT', 'CBA']):\n",
    "    c = colors[i]\n",
    "    ax.fill_between(x = data.index, y1 = data[v].q25, y2 = data[v].q75, color = '.8', alpha = .3)\n",
    "    data[v]['median'].plot(ax =ax, color = '.5', lw = .3)\n",
    "    \n",
    "    if v == 'P47T_hogar':\n",
    "        moving_avg(data[v]['mean']).plot(ax = ax, lw = 1.5, color = c, linestyle = '--')\n",
    "        data[v]['mean'].plot(ax =ax, marker = '.', lw = 0, color = c, alpha = .5)\n",
    "        \n",
    "    else:\n",
    "        data[v]['mean'].plot(ax =ax, color = c, linestyle = '--')\n",
    "    \n",
    "## Plot Format\n",
    "ax.set_title('INGRESO TOTAL FAMILIAR Y CANASTA FAMILIAR')\n",
    "ax.grid(linestyle = '--') # Grid\n",
    "# Limites\n",
    "ax.set_xlim('2003', '2022') # Limites X\n",
    "ax.set_ylim(0, 3e5) # Limites Y\n",
    "# Formatos de ejes X, Y\n",
    "ax.set_xlabel('Trimestre')  # Label X\n",
    "ax.set_ylabel('ARS '+today.strftime(\"%b-%Y\"), rotation=270)  # Label Y\n",
    "ax.yaxis.tick_right()\n",
    "ax.yaxis.set_label_position(\"right\")\n",
    "ax.yaxis.set_ticks_position('both')\n",
    "ax.yaxis.set_major_formatter(mtick.EngFormatter(unit=''))\n",
    "\n",
    "# Leyenda\n",
    "pts1 = mlines.Line2D([], [], marker = '.', color=colors[0], lw = 0, label='Ingreso TF')\n",
    "pts2 = mlines.Line2D([], [], color=colors[1], lw = 2, label='CB total')\n",
    "pts3 = mlines.Line2D([], [], color=colors[2], lw = 2, label='CB alimentaria')\n",
    "medianLine = mlines.Line2D([], [], color='.5', lw = .3, label='mediana')\n",
    "meanLine = mlines.Line2D([], [], color='.5', linestyle = '--', lw = 1.5, label='promedio')\n",
    "grayPatch = mpatches.Patch(color='.8', alpha = .3, label='25% - 75%')\n",
    "\n",
    "ax.legend(handles=[pts1, pts2, pts3, meanLine, medianLine, grayPatch], numpoints = 3, labelspacing = .2)\n",
    "\n",
    "############\n",
    "plt.tight_layout()\n",
    "plt.savefig('./../images/ingreso1.png')\n",
    "plt.show()"
   ]
  },
  {
   "cell_type": "markdown",
   "metadata": {},
   "source": [
    "## Ingreso Per Capita Familiar y Canastas. "
   ]
  },
  {
   "cell_type": "code",
   "execution_count": null,
   "metadata": {},
   "outputs": [],
   "source": [
    "fig, ax = plt.subplots(1, figsize = (8, 6))\n",
    "\n",
    "colors = ['#8c564b']\n",
    "\n",
    "for i, (data, v) in enumerate([(df_ARShoy, 'IPCF')]):\n",
    "    c = colors[i]\n",
    "    ax.fill_between(x = data.index, y1 = data[v].q25, y2 = data[v].q75, color = '.8', alpha = .3)\n",
    "    data[v]['mean'].plot(ax =ax, marker = '.', lw = 0, color = c, alpha = .5)\n",
    "    data[v]['median'].plot(ax =ax, color = '.5', lw = .3)\n",
    "    moving_avg(data[v]['mean']).plot(ax = ax, lw = 1.5, color = c, linestyle = '--')\n",
    "    \n",
    "## Plot Format\n",
    "ax.set_title('INGRESO PER CAPITA FAMILIAR')\n",
    "ax.grid(linestyle = '--') # Grid\n",
    "# Limites\n",
    "ax.set_xlim('2003', '2022') # Limites X\n",
    "ax.set_ylim(0, 1.2e5) # Limites Y\n",
    "# Formatos de ejes X, Y\n",
    "ax.set_xlabel('Trimestre')  # Label X\n",
    "ax.set_ylabel('ARS '+today.strftime(\"%b-%Y\"), rotation=270)  # Label Y\n",
    "ax.yaxis.tick_right()\n",
    "ax.yaxis.set_label_position(\"right\")\n",
    "ax.yaxis.set_ticks_position('both')\n",
    "ax.yaxis.set_major_formatter(mtick.EngFormatter(unit=''))\n",
    "\n",
    "# Leyenda\n",
    "pts1 = mlines.Line2D([], [], marker = '.', color=colors[0], lw = 0, label='Ingreso PCF')\n",
    "medianLine = mlines.Line2D([], [], color='.5', lw = .3, label='mediana')\n",
    "meanLine = mlines.Line2D([], [], color='.5', linestyle = '--', lw = 1.5, label='promedio')\n",
    "grayPatch = mpatches.Patch(color='.8', alpha = .3, label='25% - 75%')\n",
    "\n",
    "ax.legend(handles=[pts1, meanLine, medianLine, grayPatch], numpoints = 3)\n",
    "\n",
    "############\n",
    "plt.tight_layout()\n",
    "plt.savefig('./../images/ingreso2.png')\n",
    "plt.show()"
   ]
  },
  {
   "cell_type": "markdown",
   "metadata": {},
   "source": [
    "# Series de Tiempo. Hogares en Pobreza e Indigencia"
   ]
  },
  {
   "cell_type": "code",
   "execution_count": null,
   "metadata": {},
   "outputs": [],
   "source": [
    "# Stats Hogares en Pobreza e Indigencia\n",
    "\n",
    "df_listP = []\n",
    "df_listI = []\n",
    "for f in allFiles:\n",
    "    print(f)\n",
    "    \n",
    "    vars_ = ['Pobreza', 'Indigencia', 'P47T_hogar', 'CBA', 'CBT', 'gap_pobreza', 'gap_indigencia', 'IX_TOT']\n",
    "    data = pd.read_csv(f, usecols = ['HOGAR_REF_ID', 'Q', 'AGLOMERADO'] + vars_)\n",
    "    data = data.loc[data.AGLOMERADO != 0]\n",
    "    data = data.drop_duplicates()\n",
    "    data['IPCF'] = data['P47T_hogar']/data['IX_TOT']\n",
    "    \n",
    "    dataP = data.loc[data.Pobreza == True]\n",
    "    tableP = dataP.groupby(['Q'])[mon_cols].agg(['mean', q10, q25, 'median', q75, q90])\n",
    "    df_listP += [tableP]\n",
    "    \n",
    "    dataI = data.loc[data.Indigencia == True]\n",
    "    tableI = dataI.groupby(['Q'])[mon_cols].agg(['mean', q10, q25, 'median', q75, q90])\n",
    "    df_listI += [tableI]"
   ]
  },
  {
   "cell_type": "code",
   "execution_count": null,
   "metadata": {},
   "outputs": [],
   "source": [
    "dfHpob = pd.concat(df_listP)\n",
    "dfHind = pd.concat(df_listI)\n",
    "\n",
    "dfHpob.index = pd.to_datetime(dfHpob.index)\n",
    "dfHind.index = pd.to_datetime(dfHind.index)\n",
    "\n",
    "dfHpob_ARShoy = dfHpob*(cpi_actual/cpi_ref)\n",
    "dfHind_ARShoy = dfHind*(cpi_actual/cpi_ref)"
   ]
  },
  {
   "cell_type": "markdown",
   "metadata": {},
   "source": [
    "## Brechas de Pobreza e Indigencia"
   ]
  },
  {
   "cell_type": "code",
   "execution_count": null,
   "metadata": {},
   "outputs": [],
   "source": [
    "fig, ax = plt.subplots(1, figsize = (8, 6))\n",
    "\n",
    "colors = ['#d62728', '#ff7f0e']\n",
    "\n",
    "for i, (data, v) in enumerate([(dfHind_ARShoy, 'gap_indigencia'), (dfHpob_ARShoy, 'gap_pobreza')]):\n",
    "    c = colors[i]\n",
    "    ax.fill_between(x = data.index, y1 = data[v].q25, y2 = data[v].q75, color = '.8', alpha = .3)\n",
    "    data[v]['mean'].plot(ax =ax, marker = '.', lw = 0, color = c, alpha = .5)\n",
    "    data[v]['median'].plot(ax =ax, color = '.5', lw = .3)\n",
    "    moving_avg(data[v]['mean']).plot(ax = ax, lw = 1.5, color = c, linestyle = '--')\n",
    "    \n",
    "## Plot Format\n",
    "ax.set_title('Brechas de Pobreza e Indigencia')\n",
    "ax.grid(linestyle = '--') # Grid\n",
    "# Limites\n",
    "ax.set_xlim('2003', '2022') # Limites X\n",
    "ax.set_ylim(-1e5, 0) # Limites Y\n",
    "# Formatos de ejes X, Y\n",
    "ax.set_xlabel('Trimestre')  # Label X\n",
    "ax.set_ylabel('ARS '+today.strftime(\"%b-%Y\"), rotation=270)  # Label Y\n",
    "ax.yaxis.tick_right()\n",
    "ax.yaxis.set_label_position(\"right\")\n",
    "ax.yaxis.set_ticks_position('both')\n",
    "ax.yaxis.set_major_formatter(mtick.EngFormatter(unit=''))\n",
    "\n",
    "# Leyenda\n",
    "pts1 = mlines.Line2D([], [], marker = '.', color=colors[0], lw = 0, label='Brecha Indigentes')\n",
    "pts2 = mlines.Line2D([], [], marker = '.', color=colors[1], lw = 0, label='Brecha Pobres')\n",
    "medianLine = mlines.Line2D([], [], color='.5', lw = .3, label='mediana')\n",
    "meanLine = mlines.Line2D([], [], color='.5', linestyle = '--', lw = 1.5, label='promedio')\n",
    "grayPatch = mpatches.Patch(color='.8', alpha = .3, label='25% - 75%')\n",
    "\n",
    "ax.legend(handles=[pts1, pts2, meanLine, medianLine, grayPatch], numpoints = 3)\n",
    "\n",
    "############\n",
    "plt.tight_layout()\n",
    "plt.savefig('./../images/ingreso3.png')\n",
    "plt.show()"
   ]
  },
  {
   "cell_type": "code",
   "execution_count": null,
   "metadata": {},
   "outputs": [],
   "source": [
    "df_list2D = []\n",
    "\n",
    "for f in allFiles:\n",
    "    df_list = []\n",
    "    \n",
    "    print(f)\n",
    "    cat_vars = ['Pobreza', 'Indigencia', 'CAT_OCUP', 'CAT_INAC', 'P02', 'INGRESO', 'INGRESO_JUB', 'Grupo_Etario_INDEC', 'PP07K']\n",
    "    vars_ = ['P47T_persona']\n",
    "    \n",
    "    data = pd.read_csv(f, usecols = ['Q', 'AGLOMERADO'] + cat_vars + vars_)\n",
    "    data = data.loc[data.AGLOMERADO != 0]\n",
    "    \n",
    "    for cat_v in cat_vars:\n",
    "        table = data.groupby(['Q', cat_v])['P47T_persona'].agg(['mean', q10, q25, 'median', q75, q90])\n",
    "        df_list += [table]\n",
    "        \n",
    "    df_list2D += [df_list]\n",
    "    \n",
    "dfs = np.array(df_list2D)"
   ]
  },
  {
   "cell_type": "code",
   "execution_count": null,
   "metadata": {},
   "outputs": [],
   "source": [
    "## Create tables for plotting next\n",
    "\n",
    "for i, cat_v_tables in enumerate(list(dfs.T)):\n",
    "    cat_var = cat_vars[i] \n",
    "    \n",
    "    table = pd.concat(cat_v_tables)\n",
    "    table = table.stack().unstack([-2, -1])\n",
    "    table.index = pd.to_datetime(table.index)\n",
    "    table = table*(cpi_actual/cpi_ref)\n",
    "    \n",
    "    globals()['table_' + cat_var] = table"
   ]
  },
  {
   "cell_type": "markdown",
   "metadata": {},
   "source": [
    "## Personas con Ingreso"
   ]
  },
  {
   "cell_type": "code",
   "execution_count": null,
   "metadata": {},
   "outputs": [],
   "source": [
    "fig, ax = plt.subplots(1, figsize = (8, 6))\n",
    "\n",
    "## INGRESO == 1\n",
    "data = table_INGRESO; v = 1; ## Tabla y valor de la categoria en cuestion\n",
    "c = 'k'\n",
    "ax.fill_between(x = data.index, y1 = data[v].q25, y2 = data[v].q75, color = '.8', alpha = .3)\n",
    "data[v]['mean'].plot(ax =ax, marker = '.', lw = 0, color = c, alpha = .5)\n",
    "data[v]['median'].plot(ax =ax, color = '.5', lw = .3)\n",
    "moving_avg(data[v]['mean']).plot(ax = ax, lw = 1.5, color = c, linestyle = '--')\n",
    "    \n",
    "## Plot Format\n",
    "ax.set_title('Personas con INGRESO')\n",
    "ax.grid(linestyle = '--') # Grid\n",
    "# Limites\n",
    "ax.set_xlim('2003', '2022') # Limites X\n",
    "ax.set_ylim(0, 1.5e5) # Limites Y\n",
    "# Formatos de ejes X, Y\n",
    "ax.set_xlabel('Trimestre')  # Label X\n",
    "ax.set_ylabel('ARS '+today.strftime(\"%b-%Y\"), rotation=270)  # Label Y\n",
    "ax.yaxis.tick_right()\n",
    "ax.yaxis.set_label_position(\"right\")\n",
    "ax.yaxis.set_ticks_position('both')\n",
    "ax.yaxis.set_major_formatter(mtick.EngFormatter(unit=''))\n",
    "\n",
    "# Leyenda\n",
    "pts1 = mlines.Line2D([], [], marker = '.', color='k', lw = 0, label='Ingreso')\n",
    "medianLine = mlines.Line2D([], [], color='.5', lw = .3, label='mediana')\n",
    "meanLine = mlines.Line2D([], [], color='.5', linestyle = '--', lw = 1.5, label='promedio')\n",
    "grayPatch = mpatches.Patch(color='.8', alpha = .3, label='25% - 75%')\n",
    "\n",
    "ax.legend(handles=[pts1, medianLine, meanLine, grayPatch], numpoints = 3, labelspacing = .2)\n",
    "\n",
    "############\n",
    "plt.tight_layout()\n",
    "plt.savefig('./../images/ingreso4.png')\n",
    "plt.show()"
   ]
  },
  {
   "cell_type": "markdown",
   "metadata": {},
   "source": [
    "## Personas con Ingreso. Grupos etarios y Jubilados."
   ]
  },
  {
   "cell_type": "code",
   "execution_count": null,
   "metadata": {},
   "outputs": [],
   "source": [
    "fig, ax = plt.subplots(1, figsize = (8, 6))\n",
    "\n",
    "## GRUPOS ETARIOS\n",
    "data = table_Grupo_Etario_INDEC; \n",
    "\n",
    "colors = ['#2ca02c', '#9467bd', '#6e4196']\n",
    "for i, v in enumerate(['(29, 64]', '(64, 110]']):\n",
    "    c = colors[i]\n",
    "    \n",
    "    ax.fill_between(x = data.index, y1 = data[v].q25, y2 = data[v].q75, color = '.8', alpha = .3)\n",
    "    data[v]['mean'].plot(ax =ax, marker = '.', lw = 0, color = c, alpha = .5)\n",
    "#     data[v]['median'].plot(ax =ax, color = '.5', lw = .3)\n",
    "    moving_avg(data[v]['mean']).plot(ax = ax, lw = 1.5, color = c, linestyle = '--')\n",
    "    \n",
    "## CAT_INAC == JUBILADOS\n",
    "data = table_CAT_INAC; v = 1; ## Tabla y valor de la categoria en cuestion\n",
    "c = colors[2]\n",
    "ax.fill_between(x = data.index, y1 = data[v].q25, y2 = data[v].q75, color = '.8', alpha = .3)\n",
    "data[v]['mean'].plot(ax =ax, marker = '.', lw = 0, color = c, alpha = .5)\n",
    "# data[v]['median'].plot(ax =ax, color = c, lw = .3)\n",
    "moving_avg(data[v]['mean']).plot(ax = ax, lw = 1.5, color = c, linestyle = '--')\n",
    "    \n",
    "## Plot Format\n",
    "ax.set_title('INGRESO por grupo etario')\n",
    "ax.grid(linestyle = '--') # Grid\n",
    "# Limites\n",
    "ax.set_xlim('2003', '2022') # Limites X\n",
    "ax.set_ylim(0, 1.5e5) # Limites Y\n",
    "# Formatos de ejes X, Y\n",
    "ax.set_xlabel('Trimestre')  # Label X\n",
    "ax.set_ylabel('ARS '+today.strftime(\"%b-%Y\"), rotation=270)  # Label Y\n",
    "ax.yaxis.tick_right()\n",
    "ax.yaxis.set_label_position(\"right\")\n",
    "ax.yaxis.set_ticks_position('both')\n",
    "ax.yaxis.set_major_formatter(mtick.EngFormatter(unit=''))\n",
    "\n",
    "# Leyenda\n",
    "pts1 = mlines.Line2D([], [], marker = '.', color=colors[0], lw = 0, label='29 a 64')\n",
    "pts2 = mlines.Line2D([], [], marker = '.', color=colors[1], lw = 0, label='65 o mas')\n",
    "pts3 = mlines.Line2D([], [], marker = '.', color=colors[2], lw = 0, label='Jubilados')\n",
    "# medianLine = mlines.Line2D([], [], color='.5', lw = .3, label='mediana')\n",
    "meanLine = mlines.Line2D([], [], color='.5', linestyle = '--', lw = 1.5, label='promedio')\n",
    "grayPatch = mpatches.Patch(color='.8', alpha = .3, label='25% - 75%')\n",
    "\n",
    "ax.legend(handles=[pts1, pts2, pts3, meanLine, grayPatch], numpoints = 3, labelspacing = .2)\n",
    "\n",
    "############\n",
    "plt.tight_layout()\n",
    "plt.savefig('./../images/ingreso5.png')\n",
    "plt.show()"
   ]
  },
  {
   "cell_type": "markdown",
   "metadata": {},
   "source": [
    "## Ingresos por condicion de Pobreza / Indigencia"
   ]
  },
  {
   "cell_type": "code",
   "execution_count": null,
   "metadata": {},
   "outputs": [],
   "source": [
    "fig, ax = plt.subplots(1, figsize = (8, 6))\n",
    "\n",
    "## CAT_INAC == JUBILADOS\n",
    "colors = ['#2ca02c', '#ff7f0e', '#d62728']\n",
    "for i, (data, v) in enumerate([(table_Pobreza, 0), (table_Pobreza, 1), (table_Indigencia, 1)]):\n",
    "    c = colors[i]\n",
    "\n",
    "    ax.fill_between(x = data.index, y1 = data[v].q25, y2 = data[v].q75, color = '.8', alpha = .3)\n",
    "    data[v]['mean'].plot(ax =ax, marker = '.', lw = 0, color = c, alpha = .5)\n",
    "    data[v]['median'].plot(ax =ax, color = '.5', lw = .3)\n",
    "    moving_avg(data[v]['mean']).plot(ax = ax, lw = 1.5, color = c, linestyle = '--')\n",
    "\n",
    "## Plot Format\n",
    "ax.set_title('INGRESO por condicion de pobreza')\n",
    "ax.grid(linestyle = '--') # Grid\n",
    "# Limites\n",
    "ax.set_xlim('2003', '2022') # Limites X\n",
    "ax.set_ylim(0, 1.5e5) # Limites Y\n",
    "# Formatos de ejes X, Y\n",
    "ax.set_xlabel('Trimestre')  # Label X\n",
    "ax.set_ylabel('ARS '+today.strftime(\"%b-%Y\"), rotation=270)  # Label Y\n",
    "ax.yaxis.tick_right()\n",
    "ax.yaxis.set_label_position(\"right\")\n",
    "ax.yaxis.set_ticks_position('both')\n",
    "ax.yaxis.set_major_formatter(mtick.EngFormatter(unit=''))\n",
    "\n",
    "# Leyenda\n",
    "pts1 = mlines.Line2D([], [], marker = '.', color=colors[0], lw = 0, label='No Pobre')\n",
    "pts2 = mlines.Line2D([], [], marker = '.', color=colors[1], lw = 0, label='Pobre')\n",
    "pts3 = mlines.Line2D([], [], marker = '.', color=colors[2], lw = 0, label='Indigente')\n",
    "medianLine = mlines.Line2D([], [], color='.5', lw = .3, label='mediana')\n",
    "meanLine = mlines.Line2D([], [], color='.5', linestyle = '--', lw = 1.5, label='promedio')\n",
    "grayPatch = mpatches.Patch(color='.8', alpha = .3, label='25% - 75%')\n",
    "\n",
    "ax.legend(handles=[pts1, pts2, pts3, meanLine, medianLine, grayPatch], numpoints = 3, labelspacing = .2)\n",
    "\n",
    "############\n",
    "plt.tight_layout()\n",
    "plt.savefig('./../images/ingreso6.png')\n",
    "plt.show()"
   ]
  },
  {
   "cell_type": "markdown",
   "metadata": {},
   "source": [
    "## Ingresos por genero"
   ]
  },
  {
   "cell_type": "code",
   "execution_count": null,
   "metadata": {},
   "outputs": [],
   "source": [
    "fig, ax = plt.subplots(1, figsize = (8, 6))\n",
    "\n",
    "## GRUPOS ETARIOS\n",
    "data = table_P02; \n",
    "colors = ['#17becf', '#e377c2']\n",
    "for i, v in enumerate([1, 2]):\n",
    "    c = colors[i]\n",
    "    label = ['Varon', 'Mujer'][i]\n",
    "    pts, = ax.plot(data[v]['mean'], marker = '.', lw = 0, color = c, alpha = .5, label = label)\n",
    "    data[v]['median'].plot(ax =ax, color = c, lw = .3)\n",
    "    moving_avg(data[v]['mean']).plot(ax = ax, lw = 1.5, color = c, linestyle = '--')\n",
    "    ax.fill_between(x = data.index, y1 = data[v].q25, y2 = data[v].q75, color = '.8', alpha = .3)\n",
    "    \n",
    "## Plot Format\n",
    "ax.set_title('INGRESO por genero') # Titulo\n",
    "ax.grid(linestyle = '--') # Grid\n",
    "# Limites\n",
    "ax.set_xlim('2003', '2022') # Limites X\n",
    "ax.set_ylim(0, 1.5e5) # Limites Y\n",
    "# Formatos de ejes X, Y\n",
    "ax.set_xlabel('Trimestre')  # Label X\n",
    "ax.set_ylabel('ARS '+today.strftime(\"%b-%Y\"), rotation=270)  # Label Y\n",
    "ax.yaxis.tick_right()\n",
    "ax.yaxis.set_label_position(\"right\")\n",
    "ax.yaxis.set_ticks_position('both')\n",
    "ax.yaxis.set_major_formatter(mtick.EngFormatter(unit=''))\n",
    "\n",
    "# Leyenda\n",
    "pts1 = mlines.Line2D([], [], marker = '.', color=colors[0], lw = 0, label='Varon')\n",
    "pts2 = mlines.Line2D([], [], marker = '.', color=colors[1], lw = 0, label='Mujer')\n",
    "medianLine = mlines.Line2D([], [], color='.5', lw = .3, label='mediana')\n",
    "meanLine = mlines.Line2D([], [], color='.5', linestyle = '--', lw = 1.5, label='promedio')\n",
    "grayPatch = mpatches.Patch(color='.8', alpha = .3, label='25% - 75%')\n",
    "\n",
    "ax.legend(handles=[pts1, pts2, meanLine, medianLine, grayPatch], numpoints = 3)\n",
    "\n",
    "############\n",
    "plt.tight_layout()\n",
    "plt.savefig('./../images/ingreso7.png')\n",
    "plt.show()"
   ]
  },
  {
   "cell_type": "code",
   "execution_count": null,
   "metadata": {},
   "outputs": [],
   "source": []
  },
  {
   "cell_type": "code",
   "execution_count": null,
   "metadata": {},
   "outputs": [],
   "source": [
    "# ['P02', 'CAT_OCUP', 'CAT_INAC', 'INGRESO', 'Grupo_Etario_INDEC', 'PP07K', 'Pobreza', 'Indigencia'\n",
    "# 'CBA', 'CBT', 'CB_EQUIV', 'P47T_persona', 'P47T_hogar', 'gap_pobreza', 'gap_indigencia']"
   ]
  },
  {
   "cell_type": "code",
   "execution_count": null,
   "metadata": {},
   "outputs": [],
   "source": []
  }
 ],
 "metadata": {
  "kernelspec": {
   "display_name": "Python 3",
   "language": "python",
   "name": "python3"
  },
  "language_info": {
   "codemirror_mode": {
    "name": "ipython",
    "version": 3
   },
   "file_extension": ".py",
   "mimetype": "text/x-python",
   "name": "python",
   "nbconvert_exporter": "python",
   "pygments_lexer": "ipython3",
   "version": "3.8.5"
  }
 },
 "nbformat": 4,
 "nbformat_minor": 4
}
