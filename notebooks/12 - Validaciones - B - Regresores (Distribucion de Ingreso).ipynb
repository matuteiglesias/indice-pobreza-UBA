{
 "cells": [
  {
   "cell_type": "code",
   "execution_count": 1,
   "metadata": {},
   "outputs": [],
   "source": [
    "import pandas as pd\n",
    "import numpy as np"
   ]
  },
  {
   "cell_type": "code",
   "execution_count": 2,
   "metadata": {},
   "outputs": [],
   "source": [
    "import matplotlib.pyplot as plt\n",
    "import matplotlib.lines as mlines\n",
    "import matplotlib.patches as mpatches\n",
    "\n",
    "# import pandas as pd\n",
    "# import datetime as dt\n",
    "# from IPython.display import display, Markdown, Latex\n",
    "# import numpy as np\n",
    "\n",
    "# import glob\n",
    "# frac = 0.01\n",
    "# # path ='./data/RFReg_' # use your path\n",
    "# path ='./../data/Pobreza/pobreza_' # use your path\n",
    "\n",
    "# allFiles = []\n",
    "# allFiles += glob.glob(path+str(frac)+'_q*.csv')\n",
    "# allFiles = sorted(allFiles)\n",
    "# allFiles"
   ]
  },
  {
   "cell_type": "code",
   "execution_count": 3,
   "metadata": {},
   "outputs": [],
   "source": [
    "## Set up G Sheets connection"
   ]
  },
  {
   "cell_type": "code",
   "execution_count": 4,
   "metadata": {},
   "outputs": [],
   "source": [
    "from oauth2client.service_account import ServiceAccountCredentials\n",
    "import gspread\n",
    "from numpy import array, nan\n",
    "\n",
    "scope = ['https://spreadsheets.google.com/feeds',\n",
    "         'https://www.googleapis.com/auth/drive']\n",
    "# credentials = ServiceAccountCredentials.from_json_keyfile_name(\n",
    "#          './../../../Desktop/newgsheets-349817-e11b8c6a66ec.json', scope) # Your json file here\n",
    "credentials = ServiceAccountCredentials.from_json_keyfile_name(\n",
    "         './../../../Desktop/newgsheets-349817-e11b8c6a66ec.json', scope) # Your json file here\n",
    "gc = gspread.authorize(credentials)\n"
   ]
  },
  {
   "cell_type": "code",
   "execution_count": 5,
   "metadata": {},
   "outputs": [],
   "source": [
    "### Informacion indice de Precios"
   ]
  },
  {
   "cell_type": "code",
   "execution_count": 6,
   "metadata": {},
   "outputs": [],
   "source": [
    "# cpi_M = pd.read_csv('https://raw.githubusercontent.com/matuteiglesias/IPC-Argentina/main/data/info/indice_precios_M.csv', index_col=0)\n",
    "# cpi_M.index = pd.to_datetime(cpi_M.index)\n",
    "\n",
    "# cpi_Q = pd.read_csv('https://raw.githubusercontent.com/matuteiglesias/IPC-Argentina/main/data/info/indice_precios_Q.csv', index_col=0)\n",
    "# cpi_Q.index = pd.to_datetime(cpi_Q.index)\n",
    "\n",
    "# cpi_actual = cpi_M.loc['2022-06']['index'][0]\n",
    "# cpi_2010Q4 = cpi_Q.loc['2010-11']['index'][0]\n",
    "# cpi_ref = cpi_M.loc['2016-01']['index'][0]"
   ]
  },
  {
   "cell_type": "code",
   "execution_count": 7,
   "metadata": {},
   "outputs": [],
   "source": [
    "## INDICE DE PRECIOS - CONVERSION A VALOR CONSTANTE\n",
    "\n",
    "cpi_M = pd.read_csv('https://raw.githubusercontent.com/matuteiglesias/IPC-Argentina/main/data/info/indice_precios_M.csv', index_col=0)\n",
    "cpi_M.index = pd.to_datetime(cpi_M.index)\n",
    "\n",
    "from datetime import datetime as dt\n",
    "  \n",
    "# Getting current date and time\n",
    "today = dt.today()\n",
    "ref = '2016-01'\n",
    "\n",
    "cpi_actual = cpi_M.loc[today.strftime(\"%Y-%m\")]['index'][0]\n",
    "cpi_ref = cpi_M.loc[ref]['index'][0]\n",
    "\n",
    "# df_ARShoy = df*(cpi_actual/cpi_ref)\n",
    "\n",
    "cpi_Q = pd.read_csv('https://raw.githubusercontent.com/matuteiglesias/IPC-Argentina/main/data/info/indice_precios_Q.csv', index_col=0)\n",
    "cpi_Q.index = pd.to_datetime(cpi_Q.index)\n",
    "cpi_2010Q4 = cpi_Q.loc['2010-11']['index'][0]\n"
   ]
  },
  {
   "cell_type": "code",
   "execution_count": 8,
   "metadata": {},
   "outputs": [],
   "source": [
    "aglo_labels = pd.read_csv('./../data/info/aglo_labels.csv')\n"
   ]
  },
  {
   "cell_type": "code",
   "execution_count": null,
   "metadata": {},
   "outputs": [],
   "source": []
  },
  {
   "cell_type": "code",
   "execution_count": 9,
   "metadata": {},
   "outputs": [],
   "source": [
    "## Ultimo trimestre 2010\n",
    "\n",
    "f = './../data/Pobreza/pobreza_0.01_q2010-11-15.csv'\n",
    "groupers = ['AGLOMERADO', 'PROV', 'NOMPROV']\n",
    "vars_ = ['INGRESO', 'P47T_persona']\n",
    "\n",
    "data = pd.read_csv(f, usecols = ['Q'] + groupers + vars_)\n",
    "data = data.merge(aglo_labels)\n",
    "data['AGLO_si'] = data.AGLOMERADO != 0\n",
    "data['Total'] = True\n",
    "\n",
    "data = data.loc[data.AGLO_si == 1]\n",
    "\n",
    "data.loc[data.INGRESO == 0, 'decil_P47T'] = 'sin ingresos'\n",
    "data.loc[data.INGRESO == 1, 'P47T_persona'] = data.loc[data.INGRESO == 1, 'P47T_persona'] + np.random.uniform(0, .01, data.INGRESO.sum())\n",
    "data.loc[data.INGRESO == 1, 'decil_P47T'] = pd.qcut(data.loc[data.INGRESO == 1, 'P47T_persona'], q = 10, labels = range(1, 11))\n",
    "\n",
    "data['Q'] = pd.to_datetime(data['Q'])\n",
    "# df104 = df.loc[df.Q == '2010-11-15']"
   ]
  },
  {
   "cell_type": "code",
   "execution_count": 10,
   "metadata": {},
   "outputs": [],
   "source": [
    "## Tabla:\n",
    "\n",
    "# Personas con ingresos (aprox 14.377, sin ingresos 10.510 para un total de 24.887 en aglos)\n"
   ]
  },
  {
   "cell_type": "code",
   "execution_count": 11,
   "metadata": {
    "scrolled": false
   },
   "outputs": [
    {
     "data": {
      "text/html": [
       "<div>\n",
       "<style scoped>\n",
       "    .dataframe tbody tr th:only-of-type {\n",
       "        vertical-align: middle;\n",
       "    }\n",
       "\n",
       "    .dataframe tbody tr th {\n",
       "        vertical-align: top;\n",
       "    }\n",
       "\n",
       "    .dataframe thead th {\n",
       "        text-align: right;\n",
       "    }\n",
       "</style>\n",
       "<table border=\"1\" class=\"dataframe\">\n",
       "  <thead>\n",
       "    <tr style=\"text-align: right;\">\n",
       "      <th></th>\n",
       "      <th>Mínimo</th>\n",
       "      <th>Máximo</th>\n",
       "      <th>Población (miles)</th>\n",
       "      <th>Ingresos (mill. ARS)</th>\n",
       "      <th>Media</th>\n",
       "      <th>% de suma de ingresos</th>\n",
       "    </tr>\n",
       "    <tr>\n",
       "      <th>decil_P47T</th>\n",
       "      <th></th>\n",
       "      <th></th>\n",
       "      <th></th>\n",
       "      <th></th>\n",
       "      <th></th>\n",
       "      <th></th>\n",
       "    </tr>\n",
       "  </thead>\n",
       "  <tbody>\n",
       "    <tr>\n",
       "      <th>1</th>\n",
       "      <td>30</td>\n",
       "      <td>500</td>\n",
       "      <td>1555.1</td>\n",
       "      <td>510.8</td>\n",
       "      <td>330</td>\n",
       "      <td>1.4</td>\n",
       "    </tr>\n",
       "    <tr>\n",
       "      <th>2</th>\n",
       "      <td>500</td>\n",
       "      <td>800</td>\n",
       "      <td>1555.0</td>\n",
       "      <td>1043.1</td>\n",
       "      <td>670</td>\n",
       "      <td>2.8</td>\n",
       "    </tr>\n",
       "    <tr>\n",
       "      <th>3</th>\n",
       "      <td>800</td>\n",
       "      <td>1040</td>\n",
       "      <td>1555.0</td>\n",
       "      <td>1460.6</td>\n",
       "      <td>940</td>\n",
       "      <td>3.9</td>\n",
       "    </tr>\n",
       "    <tr>\n",
       "      <th>4</th>\n",
       "      <td>1040</td>\n",
       "      <td>1400</td>\n",
       "      <td>1555.0</td>\n",
       "      <td>1858.6</td>\n",
       "      <td>1200</td>\n",
       "      <td>5.0</td>\n",
       "    </tr>\n",
       "    <tr>\n",
       "      <th>5</th>\n",
       "      <td>1400</td>\n",
       "      <td>1750</td>\n",
       "      <td>1555.1</td>\n",
       "      <td>2401.4</td>\n",
       "      <td>1540</td>\n",
       "      <td>6.5</td>\n",
       "    </tr>\n",
       "    <tr>\n",
       "      <th>6</th>\n",
       "      <td>1750</td>\n",
       "      <td>2020</td>\n",
       "      <td>1555.0</td>\n",
       "      <td>3002.4</td>\n",
       "      <td>1930</td>\n",
       "      <td>8.1</td>\n",
       "    </tr>\n",
       "    <tr>\n",
       "      <th>7</th>\n",
       "      <td>2030</td>\n",
       "      <td>2690</td>\n",
       "      <td>1555.0</td>\n",
       "      <td>3747.4</td>\n",
       "      <td>2410</td>\n",
       "      <td>10.1</td>\n",
       "    </tr>\n",
       "    <tr>\n",
       "      <th>8</th>\n",
       "      <td>2690</td>\n",
       "      <td>3490</td>\n",
       "      <td>1555.0</td>\n",
       "      <td>4720.4</td>\n",
       "      <td>3040</td>\n",
       "      <td>12.7</td>\n",
       "    </tr>\n",
       "    <tr>\n",
       "      <th>9</th>\n",
       "      <td>3490</td>\n",
       "      <td>4990</td>\n",
       "      <td>1555.0</td>\n",
       "      <td>6409.4</td>\n",
       "      <td>4120</td>\n",
       "      <td>17.2</td>\n",
       "    </tr>\n",
       "    <tr>\n",
       "      <th>10</th>\n",
       "      <td>4990</td>\n",
       "      <td>65820</td>\n",
       "      <td>1555.1</td>\n",
       "      <td>12006.0</td>\n",
       "      <td>7720</td>\n",
       "      <td>32.3</td>\n",
       "    </tr>\n",
       "    <tr>\n",
       "      <th>sin ingresos</th>\n",
       "      <td>0</td>\n",
       "      <td>20</td>\n",
       "      <td>9694.5</td>\n",
       "      <td>0.0</td>\n",
       "      <td>0</td>\n",
       "      <td>0.0</td>\n",
       "    </tr>\n",
       "    <tr>\n",
       "      <th>Total</th>\n",
       "      <td>30</td>\n",
       "      <td>65820</td>\n",
       "      <td>15550.3</td>\n",
       "      <td>37160.2</td>\n",
       "      <td>2390</td>\n",
       "      <td>100.0</td>\n",
       "    </tr>\n",
       "  </tbody>\n",
       "</table>\n",
       "</div>"
      ],
      "text/plain": [
       "              Mínimo  Máximo  Población (miles)  Ingresos (mill. ARS)  Media  \\\n",
       "decil_P47T                                                                     \n",
       "1                 30     500             1555.1                 510.8    330   \n",
       "2                500     800             1555.0                1043.1    670   \n",
       "3                800    1040             1555.0                1460.6    940   \n",
       "4               1040    1400             1555.0                1858.6   1200   \n",
       "5               1400    1750             1555.1                2401.4   1540   \n",
       "6               1750    2020             1555.0                3002.4   1930   \n",
       "7               2030    2690             1555.0                3747.4   2410   \n",
       "8               2690    3490             1555.0                4720.4   3040   \n",
       "9               3490    4990             1555.0                6409.4   4120   \n",
       "10              4990   65820             1555.1               12006.0   7720   \n",
       "sin ingresos       0      20             9694.5                   0.0      0   \n",
       "Total             30   65820            15550.3               37160.2   2390   \n",
       "\n",
       "              % de suma de ingresos  \n",
       "decil_P47T                           \n",
       "1                               1.4  \n",
       "2                               2.8  \n",
       "3                               3.9  \n",
       "4                               5.0  \n",
       "5                               6.5  \n",
       "6                               8.1  \n",
       "7                              10.1  \n",
       "8                              12.7  \n",
       "9                              17.2  \n",
       "10                             32.3  \n",
       "sin ingresos                    0.0  \n",
       "Total                         100.0  "
      ]
     },
     "execution_count": 11,
     "metadata": {},
     "output_type": "execute_result"
    }
   ],
   "source": [
    "tabla = data.groupby(['decil_P47T']).agg({'P47T_persona': ['min', 'max', 'size', 'sum', 'mean']})['P47T_persona']\n",
    "tabla[['min', 'max', 'sum', 'mean']] = tabla[['min', 'max', 'sum', 'mean']]*(cpi_2010Q4/cpi_ref)\n",
    "tabla[['size', 'sum']] = 100*tabla[['size', 'sum']]\n",
    "tabla['pct'] = 100*tabla['sum']/tabla['sum'].sum()\n",
    "tabla.loc['Total'] = tabla.iloc[:-1].agg({'min': 'min', 'max': 'max','size': 'sum', 'sum': 'sum', 'mean': 'mean', 'pct': 'sum'})\n",
    "\n",
    "tabla[['min', 'max', 'sum', 'mean']] = tabla[['min', 'max', 'sum', 'mean']].round(-1).astype(int)\n",
    "tabla['size'] = (tabla['size']/1e3).round(1)\n",
    "tabla['sum'] = (tabla['sum']/1e6).round(1)\n",
    "tabla['pct'] = tabla['pct'].round(1)\n",
    "tabla.columns = ['Mínimo', 'Máximo', 'Población (miles)', 'Ingresos (mill. ARS)', 'Media', '% de suma de ingresos']\n",
    "tabla"
   ]
  },
  {
   "cell_type": "code",
   "execution_count": 12,
   "metadata": {},
   "outputs": [
    {
     "data": {
      "text/plain": [
       "{'spreadsheetId': '1mtdjdJ_bdvPSP3ojl8bc267A8eYsELRKM16TZjARUSY',\n",
       " 'replies': [{}]}"
      ]
     },
     "execution_count": 12,
     "metadata": {},
     "output_type": "execute_result"
    }
   ],
   "source": [
    "sheet_id = '1mtdjdJ_bdvPSP3ojl8bc267A8eYsELRKM16TZjARUSY'\n",
    "sh = gc.open_by_key(sheet_id)#.get_worksheet('Sheet1')\n",
    "\n",
    "worksheet = sh.worksheet('Elaboracion Propia')\n",
    "\n",
    "vals = tabla.reset_index()\n",
    "worksheet.update([vals.columns.values.tolist()] + vals.values.tolist())\n",
    "worksheet.format('A', {'textFormat': {'bold': True}})\n",
    "worksheet.format('1', {'textFormat': {'bold': True}})\n",
    "worksheet.format('13', {'textFormat': {'bold': True}})"
   ]
  },
  {
   "cell_type": "markdown",
   "metadata": {},
   "source": [
    "## Series de tiempo"
   ]
  },
  {
   "cell_type": "code",
   "execution_count": 13,
   "metadata": {},
   "outputs": [],
   "source": [
    "import matplotlib.pyplot as plt\n",
    "import pandas as pd\n",
    "import datetime as dt\n",
    "from IPython.display import display, Markdown, Latex\n",
    "\n",
    "import glob\n",
    "frac = 0.01\n",
    "\n",
    "path ='./../data/Pobreza/pobreza_' # use your path\n",
    "\n",
    "allFiles = []\n",
    "allFiles += glob.glob(path+str(frac)+'_q*.csv')\n",
    "allFiles = sorted(allFiles)\n",
    "# allFiles"
   ]
  },
  {
   "cell_type": "code",
   "execution_count": null,
   "metadata": {},
   "outputs": [],
   "source": []
  },
  {
   "cell_type": "code",
   "execution_count": 14,
   "metadata": {},
   "outputs": [],
   "source": [
    "def moving_avg(table):\n",
    "    ## Label left. The roilling means are centered nearly on the right date, although one day early.\n",
    "    # i.e. 2009-12-31 is the average for 07-2009 to 06-2010\n",
    "    return table.resample('Q', label = 'left').mean().interpolate('linear').rolling(4, center = True).mean()\n",
    "\n",
    "# Percentile funcs\n",
    "def q10(x):\n",
    "    return x.quantile(0.1)\n",
    "\n",
    "def q25(x):\n",
    "    return x.quantile(0.25)\n",
    "\n",
    "def q75(x):\n",
    "    return x.quantile(0.75)\n",
    "\n",
    "def q90(x):\n",
    "    return x.quantile(0.9)"
   ]
  },
  {
   "cell_type": "markdown",
   "metadata": {},
   "source": [
    "## Anio 2020-21"
   ]
  },
  {
   "cell_type": "code",
   "execution_count": 15,
   "metadata": {},
   "outputs": [
    {
     "name": "stdout",
     "output_type": "stream",
     "text": [
      "./../data/Pobreza/pobreza_0.01_q2010-02-15.csv\n",
      "./../data/Pobreza/pobreza_0.01_q2010-05-15.csv\n"
     ]
    }
   ],
   "source": [
    "# Stats a nivel Hogar\n",
    "\n",
    "mon_cols = ['P47T_hogar', 'CBA', 'CBT', 'gap_pobreza', 'gap_indigencia', 'IPCF']\n",
    "\n",
    "df_list = []\n",
    "for f in allFiles[:2]:\n",
    "# for f in allFiles:\n",
    "    print(f)\n",
    "    \n",
    "    vars_ = ['P47T_hogar', 'CBA', 'CBT', 'gap_pobreza', 'gap_indigencia', 'IX_TOT']\n",
    "    data = pd.read_csv(f, usecols = ['HOGAR_REF_ID', 'Q', 'AGLOMERADO'] + vars_)\n",
    "    data = data.loc[data.AGLOMERADO != 0]\n",
    "    data = data.drop_duplicates()\n",
    "    \n",
    "    data['IPCF'] = data['P47T_hogar']/data['IX_TOT']\n",
    "    \n",
    "    table = data.groupby(['Q'])[mon_cols].agg(['mean', q10, q25, 'median', q75, q90])\n",
    "\n",
    "    df_list += [table]\n",
    "    \n",
    "df = pd.concat(df_list)\n",
    "df.index = pd.to_datetime(df.index)\n"
   ]
  },
  {
   "cell_type": "code",
   "execution_count": 16,
   "metadata": {},
   "outputs": [
    {
     "name": "stdout",
     "output_type": "stream",
     "text": [
      "./../data/Pobreza/pobreza_0.01_q2020-02-15.csv\n",
      "./../data/Pobreza/pobreza_0.01_q2020-05-15.csv\n",
      "./../data/Pobreza/pobreza_0.01_q2020-08-15.csv\n",
      "./../data/Pobreza/pobreza_0.01_q2020-11-15.csv\n",
      "./../data/Pobreza/pobreza_0.01_q2021-02-15.csv\n",
      "./../data/Pobreza/pobreza_0.01_q2021-05-15.csv\n",
      "./../data/Pobreza/pobreza_0.01_q2021-08-15.csv\n",
      "./../data/Pobreza/pobreza_0.01_q2021-11-15.csv\n"
     ]
    }
   ],
   "source": [
    "# Stats a nivel Persona\n",
    "\n",
    "df_list = []\n",
    "for f in allFiles:\n",
    "    if '2020' in f or '2021' in f:\n",
    "        print(f)\n",
    "\n",
    "        vars_ = ['P47T_persona']\n",
    "        data = pd.read_csv(f, usecols = ['PERSONA_REF_ID', 'Q', 'AGLOMERADO'] + vars_)\n",
    "        data = data.loc[data.AGLOMERADO != 0]\n",
    "\n",
    "        df_list += [data]\n",
    "    \n",
    "df2021 = pd.concat(df_list)\n",
    "df2021 = df2021.set_index('Q')\n",
    "df2021.index = pd.to_datetime(df2021.index)"
   ]
  },
  {
   "cell_type": "markdown",
   "metadata": {},
   "source": [
    "### Distribucion del ingreso"
   ]
  },
  {
   "cell_type": "code",
   "execution_count": 17,
   "metadata": {},
   "outputs": [],
   "source": [
    "data = df2021.reset_index()[['P47T_persona']]   ## Ingresos en 2020-21\n",
    "data = data.loc[data.P47T_persona > 0]  ## Seleccionar personas con ingresos\n",
    "data = data*(cpi_actual/cpi_ref)  ## Precios del mes actual\n",
    "# pd.cut(data.P47T_persona, bins = np.arange(1, 8, .1))\n",
    "\n",
    "data['P47T_persona'] = data['P47T_persona'] + np.random.uniform(0, 1, len(data))  ## Agrega centavos para que no coincidan exactamente los ingresos de muchas personas\n",
    "data['P47T_persona_log'] = np.log10(data['P47T_persona'])  # valores en log\n",
    "\n",
    "data = data.sort_values('P47T_persona').reset_index(drop = True)\n",
    "\n",
    "nb = 10\n",
    "data['cnt_bin'] = pd.qcut(data.P47T_persona, nb)\n",
    "data['log_bin'] = pd.cut(data.P47T_persona_log, bins = nb)\n",
    "data['val_bin'] = pd.cut(data.P47T_persona.cumsum(), bins = nb)\n",
    "\n",
    "# data.groupby('cnt_bin').agg({'P47T_persona_log': 'mean', 'P47T_persona': ['size', 'sum']})"
   ]
  },
  {
   "cell_type": "markdown",
   "metadata": {},
   "source": [
    "## Distribucion Pareto para altos ingresos"
   ]
  },
  {
   "cell_type": "code",
   "execution_count": 18,
   "metadata": {},
   "outputs": [
    {
     "data": {
      "text/plain": [
       "17647212.5"
      ]
     },
     "execution_count": 18,
     "metadata": {},
     "output_type": "execute_result"
    }
   ],
   "source": [
    "n_percibe_ingreso_en_aglos = len(data)/8/frac\n",
    "low_lim = 1/(n_percibe_ingreso_en_aglos)\n",
    "\n",
    "n_percibe_ingreso_en_aglos"
   ]
  },
  {
   "cell_type": "code",
   "execution_count": 19,
   "metadata": {},
   "outputs": [
    {
     "data": {
      "image/png": "[encoded data removed]",
      "text/plain": [
       "<Figure size 504x360 with 1 Axes>"
      ]
     },
     "metadata": {
      "needs_background": "light"
     },
     "output_type": "display_data"
    }
   ],
   "source": [
    "data['1 - CDF'] = data.P47T_persona.rank(pct = True, ascending = False)\n",
    "data['log(1 - CDF)'] = np.log10(data['1 - CDF'])\n",
    "\n",
    "fig, ax = plt.subplots(1, figsize = (7, 5))\n",
    "ax.set_title('Regla de Pareto en altos ingresos')\n",
    "\n",
    "## Points plot\n",
    "plot_data = data.sample(frac = 0.1)\n",
    "plot_data.plot(x = 'P47T_persona_log', y = 'log(1 - CDF)', ax = ax,\n",
    "               lw = 0, marker = 's', c = 'k', alpha = .2, markersize = 2)\n",
    "\n",
    "\n",
    "ax.axhline(np.log10(low_lim), linestyle = '--')\n",
    "ax.annotate(xy = (2.1, np.log10(low_lim)), text = 'Maximo ingreso (1/17.64 mill.)', va = 'bottom', ha = 'left')\n",
    "# ax.plot(x, y, '.', label = 'observations', c = '.3')\n",
    "\n",
    "# Fit\n",
    "fit_data = data.loc[data.P47T_persona_log > 5.2]\n",
    "x_fit = fit_data['P47T_persona_log']\n",
    "y_fit = fit_data['log(1 - CDF)']\n",
    "z = np.polyfit(x_fit, y_fit, 1)\n",
    "p = np.poly1d(z)\n",
    "xp = np.linspace(5, 7.5, 2)\n",
    "ax.plot(xp, p(xp), '-', c = 'r', label='%.2f x + %.2f' % tuple(z))\n",
    "\n",
    "# # Leyenda\n",
    "pts1 = mlines.Line2D([], [], lw = 0, marker = 's', c = 'k', markersize = 2, label = 'log(1 - CDF)')\n",
    "\n",
    "'%.2f x + %.2f' % tuple(z)\n",
    "line1 = mlines.Line2D([], [], color='r', label='Regla Pareto')\n",
    "line2 = mlines.Line2D([], [], color='#1f77b4', linestyle = '--', label='1/TOTAL')\n",
    "ax.legend(handles=[pts1, line1, line2], numpoints = 1, labelspacing = .2)\n",
    "\n",
    "ax.set_ylabel('log(1 - CDF)')\n",
    "ax.set_xlabel('Ingresos Persona [log]')\n",
    "ax.set_xlim(2, 7.5)\n",
    "plt.grid()\n",
    "plt.show()"
   ]
  },
  {
   "cell_type": "code",
   "execution_count": 20,
   "metadata": {},
   "outputs": [],
   "source": [
    "## Aplicar correccion para altos ingresos\n",
    "\n",
    "# log(1 - CDF) segun regla de Pareto\n",
    "data['T(log(1 - CDF))'] = np.log10(1 - np.arange(1, len(data) + 1)/(len(data) + .5))\n",
    "\n",
    "## Usar inversa de regla de Pareto para obtener ingresos esperados segun CDF\n",
    "a, b = p[1], p[0]\n",
    "data['T(P47T_persona_log)'] = (data['T(log(1 - CDF))'] - b)/a\n",
    "\n",
    "## Corregir ingresos [log] segun expectativa Pareto \n",
    "data['P47T_persona_log_fix'] = data['P47T_persona_log'] # Empezar por copiar valores\n",
    "data.loc[data['log(1 - CDF)'] < -3, # Extremo milesima de mayor ingreso (< -3)\n",
    "         'P47T_persona_log_fix',] = data.loc[data['log(1 - CDF)'] < -3, 'T(P47T_persona_log)']\n",
    "\n",
    "## Pasar a escala lineal para tener ingresos corregidos nominales\n",
    "data['P47T_persona_fix'] = np.power(10, data['P47T_persona_log_fix'])\n",
    "\n",
    "## Volver a computar (1 - CDF)\n",
    "data['1 - CDF'] = data.P47T_persona.rank(pct = True, ascending = False)\n",
    "data['log(1 - CDF)'] = np.log10(data['1 - CDF'])"
   ]
  },
  {
   "cell_type": "code",
   "execution_count": 21,
   "metadata": {},
   "outputs": [],
   "source": [
    "# data = df2021.reset_index()[['P47T_persona']]\n",
    "# data = data.loc[data.P47T_persona > 0]\n",
    "# data = data*(cpi_actual/cpi_ref)\n",
    "# data = np.log10(data)\n",
    "\n",
    "# plt.hist(data, bins = np.arange(1, 8, .1))\n",
    "# plt.yscale('log')\n",
    "# plt.show()"
   ]
  },
  {
   "cell_type": "code",
   "execution_count": 22,
   "metadata": {},
   "outputs": [],
   "source": [
    "# data = df2021.reset_index()[['P47T_persona']]\n",
    "# data = data.loc[data.P47T_persona > 0]\n",
    "# data = data*(cpi_actual/cpi_ref)\n",
    "# # pd.cut(data.P47T_persona, bins = np.arange(1, 8, .1))\n",
    "# data['P47T_persona_log'] = np.log10(data['P47T_persona'])\n",
    "# data['bin'] = pd.cut(data.P47T_persona_log, bins = np.arange(1, 8, .1))\n"
   ]
  },
  {
   "cell_type": "code",
   "execution_count": 23,
   "metadata": {},
   "outputs": [],
   "source": [
    "# info = data.groupby('log_bin').agg(['mean', 'size', 'sum'])['P47T_persona']\n",
    "# info.loc[:, ['size', 'sum']] = info[['size', 'sum']].div(info[['size', 'sum']].sum(), 1)\n",
    "# info.sample(5)#.tail()"
   ]
  },
  {
   "cell_type": "code",
   "execution_count": 24,
   "metadata": {},
   "outputs": [
    {
     "name": "stderr",
     "output_type": "stream",
     "text": [
      "<ipython-input-24-5b71949394b8>:6: FutureWarning: ['cnt_bin', 'val_bin'] did not aggregate successfully. If any error is raised this will raise in a future version of pandas. Drop these columns/ops to avoid this warning.\n",
      "  info = data.groupby('log_bin').agg(['mean', 'size', 'sum'])['P47T_persona_fix']\n",
      "<ipython-input-24-5b71949394b8>:7: SettingWithCopyWarning: \n",
      "A value is trying to be set on a copy of a slice from a DataFrame.\n",
      "Try using .loc[row_indexer,col_indexer] = value instead\n",
      "\n",
      "See the caveats in the documentation: https://pandas.pydata.org/pandas-docs/stable/user_guide/indexing.html#returning-a-view-versus-a-copy\n",
      "  info.loc[:, ['size', 'sum']] = info[['size', 'sum']].div(info[['size', 'sum']].sum(), 1)\n"
     ]
    },
    {
     "data": {
      "image/png": "[encoded data removed]",
      "text/plain": [
       "<Figure size 432x288 with 1 Axes>"
      ]
     },
     "metadata": {
      "needs_background": "light"
     },
     "output_type": "display_data"
    }
   ],
   "source": [
    "nb = 20\n",
    "# data['cnt_bin'] = pd.qcut(data.P47T_persona, nb)\n",
    "data['log_bin'] = pd.cut(data.P47T_persona_log_fix, bins = np.arange(2, 8, .1))\n",
    "# data['val_bin'] = pd.cut(data.P47T_persona.cumsum(), bins = nb)\n",
    "\n",
    "info = data.groupby('log_bin').agg(['mean', 'size', 'sum'])['P47T_persona_fix']\n",
    "info.loc[:, ['size', 'sum']] = info[['size', 'sum']].div(info[['size', 'sum']].sum(), 1)\n",
    "\n",
    "fig, ax = plt.subplots(1, figsize = (6, 4))\n",
    "info.plot(x = 'mean', y = 'size', ax = ax, marker = '.')\n",
    "info.plot(x = 'mean', y = 'sum', ax = ax, marker = '.')\n",
    "ax.set_yscale('log')\n",
    "# ax.set_ylim(1e-6, 1)\n",
    "ax.grid()\n",
    "ax.set_xscale('log')"
   ]
  },
  {
   "cell_type": "code",
   "execution_count": 25,
   "metadata": {},
   "outputs": [],
   "source": [
    "import warnings\n",
    "warnings.filterwarnings('ignore')"
   ]
  },
  {
   "cell_type": "code",
   "execution_count": 26,
   "metadata": {},
   "outputs": [],
   "source": [
    "\n",
    "nb = 10\n",
    "data['cnt_bin'] = pd.qcut(data.P47T_persona_fix, nb)\n",
    "data['log_bin'] = pd.cut(data.P47T_persona_log_fix, bins = nb)\n",
    "data['val_bin'] = pd.cut(data.P47T_persona_fix.cumsum(), bins = nb)\n",
    "\n",
    "info = data.groupby('log_bin').agg(['mean', 'size', 'sum'])['P47T_persona_fix']\n",
    "info.loc[:, ['size', 'sum']] = info[['size', 'sum']].div(info[['size', 'sum']].sum(), 1)"
   ]
  },
  {
   "cell_type": "code",
   "execution_count": 27,
   "metadata": {},
   "outputs": [
    {
     "data": {
      "image/png": "[encoded data removed]",
      "text/plain": [
       "<Figure size 504x288 with 1 Axes>"
      ]
     },
     "metadata": {
      "needs_background": "light"
     },
     "output_type": "display_data"
    }
   ],
   "source": [
    "info = data.groupby('val_bin').agg({'P47T_persona_log_fix' : ['min', 'max', 'size']})['P47T_persona_log_fix']\n",
    "info['min'] = info['min'].clip(2.9,)\n",
    "info['mid'] = (info['max'] + info['min'])/2\n",
    "info['width'] = (info['max'] - info['min'])\n",
    "\n",
    "fig, ax = plt.subplots(1, figsize = (7, 4))\n",
    "\n",
    "ax.bar(x = info['mid'], height = info['size'], width = info['width'] - .02, \n",
    "       color= '.8', linewidth = 1, edgecolor = '.5')\n",
    "ax.grid()\n",
    "ax.set_xlim(3, 7.5)\n",
    "plt.show()"
   ]
  },
  {
   "cell_type": "code",
   "execution_count": 28,
   "metadata": {},
   "outputs": [
    {
     "data": {
      "image/png": "[encoded data removed]",
      "text/plain": [
       "<Figure size 504x288 with 1 Axes>"
      ]
     },
     "metadata": {
      "needs_background": "light"
     },
     "output_type": "display_data"
    }
   ],
   "source": [
    "info = data.groupby('cnt_bin').agg({'P47T_persona_log_fix': ['min', 'max'],\n",
    "                                    'P47T_persona_fix' : ['sum']})\n",
    "info.columns = info.columns.droplevel(0)\n",
    "info['min'] = info['min'].clip(2.9,)\n",
    "info['mid'] = (info['max'] + info['min'])/2\n",
    "info['width'] = (info['max'] - info['min'])\n",
    "\n",
    "fig, ax = plt.subplots(1, figsize = (7, 4))\n",
    "\n",
    "ax.bar(x = info['mid'], height = info['sum'], width = info['width'] - .02, \n",
    "       color= '.8', linewidth = 1, edgecolor = '.5')\n",
    "ax.grid()\n",
    "ax.set_xlim(3, 7.5)\n",
    "plt.show()"
   ]
  },
  {
   "cell_type": "code",
   "execution_count": 29,
   "metadata": {},
   "outputs": [],
   "source": [
    "# data.groupby('val_bin').agg({'P47T_persona_log': 'mean', 'P47T_persona': ['size', 'sum']})"
   ]
  },
  {
   "cell_type": "code",
   "execution_count": 30,
   "metadata": {},
   "outputs": [
    {
     "data": {
      "text/plain": [
       "24.939834497717076"
      ]
     },
     "execution_count": 30,
     "metadata": {},
     "output_type": "execute_result"
    }
   ],
   "source": [
    "3.173569e+10/1.272490e+09"
   ]
  },
  {
   "cell_type": "code",
   "execution_count": 31,
   "metadata": {},
   "outputs": [],
   "source": [
    "\n",
    "# fig, ax = plt.subplots(1, figsize = (6, 5))\n",
    "\n",
    "# plot_data = data.tail(120000)\n",
    "# plot_data.plot(x = 'P47T_persona_log', y = 'log(1 - CDF)', lw = 0, marker = '.', ax = ax)\n",
    "# plot_data.tail(2000).plot(x = 'P47T_persona_log_fix', y = 'log(1 - CDF)', lw = 0, marker = '.', ax = ax)\n",
    "\n",
    "# ax.axhline(np.log10(low_lim), linestyle = '--')\n",
    "# plt.grid()\n",
    "\n",
    "# plt.show()"
   ]
  },
  {
   "cell_type": "code",
   "execution_count": 32,
   "metadata": {},
   "outputs": [],
   "source": [
    "data_top = data.loc[data['1 - CDF'] < .1]\n",
    "\n",
    "nb = 10\n",
    "data_top['cnt_bin'] = pd.qcut(data_top.P47T_persona_fix, nb)\n",
    "data_top['log_bin'] = pd.cut(data_top.P47T_persona_log_fix, bins = nb)\n",
    "data_top['val_bin'] = pd.cut(data_top.P47T_persona_fix.cumsum(), bins = nb)\n"
   ]
  },
  {
   "cell_type": "code",
   "execution_count": 33,
   "metadata": {},
   "outputs": [
    {
     "data": {
      "text/html": [
       "<div>\n",
       "<style scoped>\n",
       "    .dataframe tbody tr th:only-of-type {\n",
       "        vertical-align: middle;\n",
       "    }\n",
       "\n",
       "    .dataframe tbody tr th {\n",
       "        vertical-align: top;\n",
       "    }\n",
       "\n",
       "    .dataframe thead tr th {\n",
       "        text-align: left;\n",
       "    }\n",
       "\n",
       "    .dataframe thead tr:last-of-type th {\n",
       "        text-align: right;\n",
       "    }\n",
       "</style>\n",
       "<table border=\"1\" class=\"dataframe\">\n",
       "  <thead>\n",
       "    <tr>\n",
       "      <th></th>\n",
       "      <th>P47T_persona_log_fix</th>\n",
       "      <th colspan=\"2\" halign=\"left\">P47T_persona_fix</th>\n",
       "    </tr>\n",
       "    <tr>\n",
       "      <th></th>\n",
       "      <th>mean</th>\n",
       "      <th>size</th>\n",
       "      <th>sum</th>\n",
       "    </tr>\n",
       "    <tr>\n",
       "      <th>val_bin</th>\n",
       "      <th></th>\n",
       "      <th></th>\n",
       "      <th></th>\n",
       "    </tr>\n",
       "  </thead>\n",
       "  <tbody>\n",
       "    <tr>\n",
       "      <th>(-39676730.707, 3985349170.427]</th>\n",
       "      <td>5.260619</td>\n",
       "      <td>21865</td>\n",
       "      <td>3.985206e+09</td>\n",
       "    </tr>\n",
       "    <tr>\n",
       "      <th>(3985349170.427, 7970523329.965]</th>\n",
       "      <td>5.294921</td>\n",
       "      <td>20201</td>\n",
       "      <td>3.985266e+09</td>\n",
       "    </tr>\n",
       "    <tr>\n",
       "      <th>(7970523329.965, 11955697489.504]</th>\n",
       "      <td>5.327645</td>\n",
       "      <td>18733</td>\n",
       "      <td>3.985151e+09</td>\n",
       "    </tr>\n",
       "    <tr>\n",
       "      <th>(11955697489.504, 15940871649.042]</th>\n",
       "      <td>5.367439</td>\n",
       "      <td>17094</td>\n",
       "      <td>3.985081e+09</td>\n",
       "    </tr>\n",
       "    <tr>\n",
       "      <th>(15940871649.042, 19926045808.581]</th>\n",
       "      <td>5.409942</td>\n",
       "      <td>15500</td>\n",
       "      <td>3.985130e+09</td>\n",
       "    </tr>\n",
       "    <tr>\n",
       "      <th>(19926045808.581, 23911219968.119]</th>\n",
       "      <td>5.457288</td>\n",
       "      <td>13896</td>\n",
       "      <td>3.985351e+09</td>\n",
       "    </tr>\n",
       "    <tr>\n",
       "      <th>(23911219968.119, 27896394127.658]</th>\n",
       "      <td>5.513083</td>\n",
       "      <td>12216</td>\n",
       "      <td>3.984859e+09</td>\n",
       "    </tr>\n",
       "    <tr>\n",
       "      <th>(27896394127.658, 31881568287.196]</th>\n",
       "      <td>5.589310</td>\n",
       "      <td>10244</td>\n",
       "      <td>3.985175e+09</td>\n",
       "    </tr>\n",
       "    <tr>\n",
       "      <th>(31881568287.196, 35866742446.735]</th>\n",
       "      <td>5.711423</td>\n",
       "      <td>7697</td>\n",
       "      <td>3.985374e+09</td>\n",
       "    </tr>\n",
       "    <tr>\n",
       "      <th>(35866742446.735, 39851916606.273]</th>\n",
       "      <td>5.986093</td>\n",
       "      <td>3731</td>\n",
       "      <td>3.985324e+09</td>\n",
       "    </tr>\n",
       "  </tbody>\n",
       "</table>\n",
       "</div>"
      ],
      "text/plain": [
       "                                   P47T_persona_log_fix P47T_persona_fix  \\\n",
       "                                                   mean             size   \n",
       "val_bin                                                                    \n",
       "(-39676730.707, 3985349170.427]                5.260619            21865   \n",
       "(3985349170.427, 7970523329.965]               5.294921            20201   \n",
       "(7970523329.965, 11955697489.504]              5.327645            18733   \n",
       "(11955697489.504, 15940871649.042]             5.367439            17094   \n",
       "(15940871649.042, 19926045808.581]             5.409942            15500   \n",
       "(19926045808.581, 23911219968.119]             5.457288            13896   \n",
       "(23911219968.119, 27896394127.658]             5.513083            12216   \n",
       "(27896394127.658, 31881568287.196]             5.589310            10244   \n",
       "(31881568287.196, 35866742446.735]             5.711423             7697   \n",
       "(35866742446.735, 39851916606.273]             5.986093             3731   \n",
       "\n",
       "                                                  \n",
       "                                             sum  \n",
       "val_bin                                           \n",
       "(-39676730.707, 3985349170.427]     3.985206e+09  \n",
       "(3985349170.427, 7970523329.965]    3.985266e+09  \n",
       "(7970523329.965, 11955697489.504]   3.985151e+09  \n",
       "(11955697489.504, 15940871649.042]  3.985081e+09  \n",
       "(15940871649.042, 19926045808.581]  3.985130e+09  \n",
       "(19926045808.581, 23911219968.119]  3.985351e+09  \n",
       "(23911219968.119, 27896394127.658]  3.984859e+09  \n",
       "(27896394127.658, 31881568287.196]  3.985175e+09  \n",
       "(31881568287.196, 35866742446.735]  3.985374e+09  \n",
       "(35866742446.735, 39851916606.273]  3.985324e+09  "
      ]
     },
     "execution_count": 33,
     "metadata": {},
     "output_type": "execute_result"
    }
   ],
   "source": [
    "data_top.groupby('val_bin').agg({'P47T_persona_log_fix': 'mean', 'P47T_persona_fix': ['size', 'sum']})\n"
   ]
  },
  {
   "cell_type": "code",
   "execution_count": 34,
   "metadata": {},
   "outputs": [
    {
     "data": {
      "text/html": [
       "<div>\n",
       "<style scoped>\n",
       "    .dataframe tbody tr th:only-of-type {\n",
       "        vertical-align: middle;\n",
       "    }\n",
       "\n",
       "    .dataframe tbody tr th {\n",
       "        vertical-align: top;\n",
       "    }\n",
       "\n",
       "    .dataframe thead tr th {\n",
       "        text-align: left;\n",
       "    }\n",
       "\n",
       "    .dataframe thead tr:last-of-type th {\n",
       "        text-align: right;\n",
       "    }\n",
       "</style>\n",
       "<table border=\"1\" class=\"dataframe\">\n",
       "  <thead>\n",
       "    <tr>\n",
       "      <th></th>\n",
       "      <th>P47T_persona_log_fix</th>\n",
       "      <th colspan=\"2\" halign=\"left\">P47T_persona_fix</th>\n",
       "    </tr>\n",
       "    <tr>\n",
       "      <th></th>\n",
       "      <th>mean</th>\n",
       "      <th>size</th>\n",
       "      <th>sum</th>\n",
       "    </tr>\n",
       "    <tr>\n",
       "      <th>cnt_bin</th>\n",
       "      <th></th>\n",
       "      <th></th>\n",
       "      <th></th>\n",
       "    </tr>\n",
       "  </thead>\n",
       "  <tbody>\n",
       "    <tr>\n",
       "      <th>(175010.88700000002, 183423.681]</th>\n",
       "      <td>5.255364</td>\n",
       "      <td>14118</td>\n",
       "      <td>2.541947e+09</td>\n",
       "    </tr>\n",
       "    <tr>\n",
       "      <th>(183423.681, 193035.511]</th>\n",
       "      <td>5.275308</td>\n",
       "      <td>14118</td>\n",
       "      <td>2.661521e+09</td>\n",
       "    </tr>\n",
       "    <tr>\n",
       "      <th>(193035.511, 204886.661]</th>\n",
       "      <td>5.301303</td>\n",
       "      <td>14117</td>\n",
       "      <td>2.825807e+09</td>\n",
       "    </tr>\n",
       "    <tr>\n",
       "      <th>(204886.661, 219545.697]</th>\n",
       "      <td>5.322239</td>\n",
       "      <td>14118</td>\n",
       "      <td>2.965533e+09</td>\n",
       "    </tr>\n",
       "    <tr>\n",
       "      <th>(219545.697, 235331.559]</th>\n",
       "      <td>5.354840</td>\n",
       "      <td>14118</td>\n",
       "      <td>3.196577e+09</td>\n",
       "    </tr>\n",
       "    <tr>\n",
       "      <th>(235331.559, 255334.662]</th>\n",
       "      <td>5.389153</td>\n",
       "      <td>14117</td>\n",
       "      <td>3.459781e+09</td>\n",
       "    </tr>\n",
       "    <tr>\n",
       "      <th>(255334.662, 283008.315]</th>\n",
       "      <td>5.426742</td>\n",
       "      <td>14118</td>\n",
       "      <td>3.773344e+09</td>\n",
       "    </tr>\n",
       "    <tr>\n",
       "      <th>(283008.315, 323721.493]</th>\n",
       "      <td>5.478850</td>\n",
       "      <td>14117</td>\n",
       "      <td>4.255062e+09</td>\n",
       "    </tr>\n",
       "    <tr>\n",
       "      <th>(323721.493, 407620.202]</th>\n",
       "      <td>5.554891</td>\n",
       "      <td>14118</td>\n",
       "      <td>5.076672e+09</td>\n",
       "    </tr>\n",
       "    <tr>\n",
       "      <th>(407620.202, 18569062.175]</th>\n",
       "      <td>5.766845</td>\n",
       "      <td>14118</td>\n",
       "      <td>9.095674e+09</td>\n",
       "    </tr>\n",
       "  </tbody>\n",
       "</table>\n",
       "</div>"
      ],
      "text/plain": [
       "                                 P47T_persona_log_fix P47T_persona_fix  \\\n",
       "                                                 mean             size   \n",
       "cnt_bin                                                                  \n",
       "(175010.88700000002, 183423.681]             5.255364            14118   \n",
       "(183423.681, 193035.511]                     5.275308            14118   \n",
       "(193035.511, 204886.661]                     5.301303            14117   \n",
       "(204886.661, 219545.697]                     5.322239            14118   \n",
       "(219545.697, 235331.559]                     5.354840            14118   \n",
       "(235331.559, 255334.662]                     5.389153            14117   \n",
       "(255334.662, 283008.315]                     5.426742            14118   \n",
       "(283008.315, 323721.493]                     5.478850            14117   \n",
       "(323721.493, 407620.202]                     5.554891            14118   \n",
       "(407620.202, 18569062.175]                   5.766845            14118   \n",
       "\n",
       "                                                \n",
       "                                           sum  \n",
       "cnt_bin                                         \n",
       "(175010.88700000002, 183423.681]  2.541947e+09  \n",
       "(183423.681, 193035.511]          2.661521e+09  \n",
       "(193035.511, 204886.661]          2.825807e+09  \n",
       "(204886.661, 219545.697]          2.965533e+09  \n",
       "(219545.697, 235331.559]          3.196577e+09  \n",
       "(235331.559, 255334.662]          3.459781e+09  \n",
       "(255334.662, 283008.315]          3.773344e+09  \n",
       "(283008.315, 323721.493]          4.255062e+09  \n",
       "(323721.493, 407620.202]          5.076672e+09  \n",
       "(407620.202, 18569062.175]        9.095674e+09  "
      ]
     },
     "execution_count": 34,
     "metadata": {},
     "output_type": "execute_result"
    }
   ],
   "source": [
    "data_top.groupby('cnt_bin').agg({'P47T_persona_log_fix': 'mean', 'P47T_persona_fix': ['size', 'sum']})\n"
   ]
  },
  {
   "cell_type": "code",
   "execution_count": 35,
   "metadata": {},
   "outputs": [],
   "source": [
    "data['bin'] = pd.cut(data.P47T_persona_log_fix, bins = np.arange(1, 8, .1))\n",
    "info = data.groupby('bin').agg(['mean', 'size', 'sum'])['P47T_persona_fix']\n",
    "info[['size', 'sum']] = info[['size', 'sum']].div(info[['size', 'sum']].sum(), 1)\n",
    "# info.sample(5)#.tail()"
   ]
  },
  {
   "cell_type": "code",
   "execution_count": 36,
   "metadata": {},
   "outputs": [],
   "source": [
    "data['tot_log(1-CDF)'] = (-np.log10(data['1 - CDF']*frac*8))\n",
    "data['top_group'] = pd.cut(data['tot_log(1-CDF)'], bins = np.arange(1, 9, 1), \n",
    "                           labels=['bottom 90%', 'top 10%', 'top 1%', 'top 0.1%', 'top 0.01%', 'top 0.001%', 'top 0.0001%'])"
   ]
  },
  {
   "cell_type": "code",
   "execution_count": 37,
   "metadata": {},
   "outputs": [],
   "source": [
    "# (data['top_group'].value_counts()/8/frac).sort_index()"
   ]
  },
  {
   "cell_type": "code",
   "execution_count": 38,
   "metadata": {},
   "outputs": [
    {
     "data": {
      "text/html": [
       "<div>\n",
       "<style scoped>\n",
       "    .dataframe tbody tr th:only-of-type {\n",
       "        vertical-align: middle;\n",
       "    }\n",
       "\n",
       "    .dataframe tbody tr th {\n",
       "        vertical-align: top;\n",
       "    }\n",
       "\n",
       "    .dataframe thead th {\n",
       "        text-align: right;\n",
       "    }\n",
       "</style>\n",
       "<table border=\"1\" class=\"dataframe\">\n",
       "  <thead>\n",
       "    <tr style=\"text-align: right;\">\n",
       "      <th></th>\n",
       "      <th>min</th>\n",
       "      <th>max</th>\n",
       "      <th>size</th>\n",
       "      <th>sum</th>\n",
       "      <th>mean</th>\n",
       "    </tr>\n",
       "    <tr>\n",
       "      <th>top_group</th>\n",
       "      <th></th>\n",
       "      <th></th>\n",
       "      <th></th>\n",
       "      <th></th>\n",
       "      <th></th>\n",
       "    </tr>\n",
       "  </thead>\n",
       "  <tbody>\n",
       "    <tr>\n",
       "      <th>bottom 90%</th>\n",
       "      <td>0</td>\n",
       "      <td>159</td>\n",
       "      <td>15441312</td>\n",
       "      <td>78890000</td>\n",
       "      <td>63</td>\n",
       "    </tr>\n",
       "    <tr>\n",
       "      <th>top 10%</th>\n",
       "      <td>159</td>\n",
       "      <td>381</td>\n",
       "      <td>1985312</td>\n",
       "      <td>35280000</td>\n",
       "      <td>222</td>\n",
       "    </tr>\n",
       "    <tr>\n",
       "      <th>top 1%</th>\n",
       "      <td>381</td>\n",
       "      <td>889</td>\n",
       "      <td>198537</td>\n",
       "      <td>7957000</td>\n",
       "      <td>501</td>\n",
       "    </tr>\n",
       "    <tr>\n",
       "      <th>top 0.1%</th>\n",
       "      <td>889</td>\n",
       "      <td>2113</td>\n",
       "      <td>19850</td>\n",
       "      <td>1933000</td>\n",
       "      <td>1217</td>\n",
       "    </tr>\n",
       "    <tr>\n",
       "      <th>top 0.01%</th>\n",
       "      <td>2118</td>\n",
       "      <td>4975</td>\n",
       "      <td>1987</td>\n",
       "      <td>455600</td>\n",
       "      <td>2866</td>\n",
       "    </tr>\n",
       "    <tr>\n",
       "      <th>top 0.001%</th>\n",
       "      <td>5085</td>\n",
       "      <td>12360</td>\n",
       "      <td>200</td>\n",
       "      <td>112799</td>\n",
       "      <td>7048</td>\n",
       "    </tr>\n",
       "    <tr>\n",
       "      <th>top 0.0001%</th>\n",
       "      <td>18570</td>\n",
       "      <td>18570</td>\n",
       "      <td>12</td>\n",
       "      <td>18570</td>\n",
       "      <td>18570</td>\n",
       "    </tr>\n",
       "  </tbody>\n",
       "</table>\n",
       "</div>"
      ],
      "text/plain": [
       "               min    max      size       sum   mean\n",
       "top_group                                           \n",
       "bottom 90%       0    159  15441312  78890000     63\n",
       "top 10%        159    381   1985312  35280000    222\n",
       "top 1%         381    889    198537   7957000    501\n",
       "top 0.1%       889   2113     19850   1933000   1217\n",
       "top 0.01%     2118   4975      1987    455600   2866\n",
       "top 0.001%    5085  12360       200    112799   7048\n",
       "top 0.0001%  18570  18570        12     18570  18570"
      ]
     },
     "execution_count": 38,
     "metadata": {},
     "output_type": "execute_result"
    }
   ],
   "source": [
    "table = data.groupby('top_group').agg({'P47T_persona_fix': ['min', 'max', 'size', 'sum', 'mean']})['P47T_persona_fix']\n",
    "table['size'] = table['size']/8/frac\n",
    "\n",
    "for col in ['min', 'max', 'sum', 'mean']:\n",
    "    magnitude = np.power(10, np.floor(np.log10(table[col])))\n",
    "    table[col] = np.round(table[col]/magnitude, 3)*magnitude\n",
    "    table[col] = table[col]/1e3\n",
    "\n",
    "table.astype(int)\n",
    "## Miles de pesos ARS"
   ]
  },
  {
   "cell_type": "code",
   "execution_count": 39,
   "metadata": {},
   "outputs": [
    {
     "data": {
      "text/plain": [
       "88288.67706647878"
      ]
     },
     "execution_count": 39,
     "metadata": {},
     "output_type": "execute_result"
    }
   ],
   "source": [
    "## ARS total\n",
    "## Million USD\n",
    "# data['P47T_persona_fix'].sum()/8/frac/220/1e6  # Total income USD\n",
    "data['P47T_persona_fix'].mean()#/220  # Mean income USD"
   ]
  },
  {
   "cell_type": "code",
   "execution_count": 40,
   "metadata": {},
   "outputs": [
    {
     "data": {
      "text/plain": [
       "28204500.0"
      ]
     },
     "execution_count": 40,
     "metadata": {},
     "output_type": "execute_result"
    }
   ],
   "source": [
    "## Cant total de personas (en AGLOS)\n",
    "2256360/8/frac\n",
    "\n",
    "# ## Cant total de personas que perciben ingreso (en AGLOS)\n",
    "# 1411777/8/frac"
   ]
  },
  {
   "cell_type": "code",
   "execution_count": 41,
   "metadata": {},
   "outputs": [
    {
     "data": {
      "text/plain": [
       "55241.15107646041"
      ]
     },
     "execution_count": 41,
     "metadata": {},
     "output_type": "execute_result"
    }
   ],
   "source": [
    "(data['P47T_persona_fix'].mean())*(1411777/8/frac)/(2256360/8/frac)"
   ]
  },
  {
   "cell_type": "code",
   "execution_count": 42,
   "metadata": {},
   "outputs": [],
   "source": [
    "# data['P47T_persona'].mean()/220  # Mean income USD"
   ]
  },
  {
   "cell_type": "code",
   "execution_count": 43,
   "metadata": {},
   "outputs": [
    {
     "data": {
      "text/plain": [
       "7.058823529411765e-07"
      ]
     },
     "execution_count": 43,
     "metadata": {},
     "output_type": "execute_result"
    }
   ],
   "source": [
    "12/17000000"
   ]
  },
  {
   "cell_type": "code",
   "execution_count": 44,
   "metadata": {},
   "outputs": [
    {
     "data": {
      "text/plain": [
       "17647212.5"
      ]
     },
     "execution_count": 44,
     "metadata": {},
     "output_type": "execute_result"
    }
   ],
   "source": [
    "table['size'].sum()"
   ]
  },
  {
   "cell_type": "code",
   "execution_count": 45,
   "metadata": {},
   "outputs": [
    {
     "data": {
      "text/plain": [
       "1372561.1111111112"
      ]
     },
     "execution_count": 45,
     "metadata": {},
     "output_type": "execute_result"
    }
   ],
   "source": [
    "1235305/9*10"
   ]
  },
  {
   "cell_type": "code",
   "execution_count": 46,
   "metadata": {},
   "outputs": [],
   "source": [
    "# 1985312/9*100"
   ]
  },
  {
   "cell_type": "code",
   "execution_count": 47,
   "metadata": {},
   "outputs": [],
   "source": [
    "## Cant total de personas que perciben ingreso (en AGLOS)\n",
    "\n",
    "# 1411777/8/frac = 17647212.5"
   ]
  },
  {
   "cell_type": "markdown",
   "metadata": {},
   "source": [
    "# Series de Tiempo. Hogares"
   ]
  },
  {
   "cell_type": "code",
   "execution_count": 48,
   "metadata": {},
   "outputs": [],
   "source": [
    "# ## INDICE DE PRECIOS - CONVERSION A VALOR CONSTANTE\n",
    "\n",
    "# cpi_M = pd.read_csv('https://raw.githubusercontent.com/matuteiglesias/IPC-Argentina/main/data/info/indice_precios_M.csv', index_col=0)\n",
    "# cpi_M.index = pd.to_datetime(cpi_M.index)\n",
    "\n",
    "# from datetime import datetime as dt\n",
    "  \n",
    "# # Getting current date and time\n",
    "# today = dt.today()\n",
    "# ref = '2016-01'\n",
    "\n",
    "# cpi_actual = cpi_M.loc[today.strftime(\"%Y-%m\")]['index'][0]\n",
    "# cpi_ref = cpi_M.loc[ref]['index'][0]\n",
    "\n",
    "df_ARShoy = df*(cpi_actual/cpi_ref)"
   ]
  },
  {
   "cell_type": "code",
   "execution_count": 49,
   "metadata": {},
   "outputs": [],
   "source": [
    "import matplotlib.ticker as mtick\n",
    "\n",
    "# def moving_avg(table):\n",
    "#     ## Label left. The roilling means are centered nearly on the right date, although one day early.\n",
    "#     # i.e. 2009-12-31 is the average for 07-2009 to 06-2010\n",
    "#     return table.resample('QS').mean().interpolate('linear').rolling(4, center = True).mean()\n"
   ]
  },
  {
   "cell_type": "markdown",
   "metadata": {},
   "source": [
    "## Ingreso Total Familiar y Canastas. "
   ]
  },
  {
   "cell_type": "code",
   "execution_count": 50,
   "metadata": {},
   "outputs": [
    {
     "data": {
      "image/png": "[encoded data removed]",
      "text/plain": [
       "<Figure size 576x432 with 1 Axes>"
      ]
     },
     "metadata": {
      "needs_background": "light"
     },
     "output_type": "display_data"
    }
   ],
   "source": [
    "fig, ax = plt.subplots(1, figsize = (8, 6))\n",
    "\n",
    "colors = ['#1f77b4', '#ff7f0e', '#d62728']\n",
    "\n",
    "data = df_ARShoy\n",
    "for i, v in enumerate(['P47T_hogar', 'CBT', 'CBA']):\n",
    "    c = colors[i]\n",
    "    ax.fill_between(x = data.index, y1 = data[v].q25, y2 = data[v].q75, color = '.8', alpha = .3)\n",
    "    data[v]['median'].plot(ax =ax, color = '.5', lw = .3)\n",
    "    \n",
    "    if v == 'P47T_hogar':\n",
    "        moving_avg(data[v]['mean']).plot(ax = ax, lw = 1.5, color = c, linestyle = '--')\n",
    "        data[v]['mean'].plot(ax =ax, marker = '.', lw = 0, color = c, alpha = .5)\n",
    "        \n",
    "    else:\n",
    "        data[v]['mean'].plot(ax =ax, color = c, linestyle = '--')\n",
    "    \n",
    "## Plot Format\n",
    "ax.set_title('INGRESO TOTAL FAMILIAR Y CANASTA FAMILIAR')\n",
    "ax.grid(linestyle = '--') # Grid\n",
    "# Limites\n",
    "ax.set_xlim('2003', '2022') # Limites X\n",
    "ax.set_ylim(0, 3e5) # Limites Y\n",
    "# Formatos de ejes X, Y\n",
    "ax.set_xlabel('Trimestre')  # Label X\n",
    "ax.set_ylabel('ARS '+today.strftime(\"%b-%Y\"), rotation=270)  # Label Y\n",
    "ax.yaxis.tick_right()\n",
    "ax.yaxis.set_label_position(\"right\")\n",
    "ax.yaxis.set_ticks_position('both')\n",
    "ax.yaxis.set_major_formatter(mtick.EngFormatter(unit=''))\n",
    "\n",
    "# Leyenda\n",
    "pts1 = mlines.Line2D([], [], marker = '.', color=colors[0], lw = 0, label='Ingreso TF')\n",
    "pts2 = mlines.Line2D([], [], color=colors[1], lw = 2, label='CB total')\n",
    "pts3 = mlines.Line2D([], [], color=colors[2], lw = 2, label='CB alimentaria')\n",
    "medianLine = mlines.Line2D([], [], color='.5', lw = .3, label='mediana')\n",
    "meanLine = mlines.Line2D([], [], color='.5', linestyle = '--', lw = 1.5, label='promedio')\n",
    "grayPatch = mpatches.Patch(color='.8', alpha = .3, label='25% - 75%')\n",
    "\n",
    "ax.legend(handles=[pts1, pts2, pts3, meanLine, medianLine, grayPatch], numpoints = 3, labelspacing = .2)\n",
    "\n",
    "############\n",
    "plt.tight_layout()\n",
    "plt.savefig('./../images/ingreso1.png')\n",
    "plt.show()"
   ]
  },
  {
   "cell_type": "markdown",
   "metadata": {},
   "source": [
    "## Ingreso Per Capita Familiar y Canastas. "
   ]
  },
  {
   "cell_type": "code",
   "execution_count": 51,
   "metadata": {},
   "outputs": [
    {
     "data": {
      "image/png": "[encoded data removed]",
      "text/plain": [
       "<Figure size 576x432 with 1 Axes>"
      ]
     },
     "metadata": {
      "needs_background": "light"
     },
     "output_type": "display_data"
    }
   ],
   "source": [
    "fig, ax = plt.subplots(1, figsize = (8, 6))\n",
    "\n",
    "colors = ['#8c564b']\n",
    "\n",
    "for i, (data, v) in enumerate([(df_ARShoy, 'IPCF')]):\n",
    "    c = colors[i]\n",
    "    ax.fill_between(x = data.index, y1 = data[v].q25, y2 = data[v].q75, color = '.8', alpha = .3)\n",
    "    data[v]['mean'].plot(ax =ax, marker = '.', lw = 0, color = c, alpha = .5)\n",
    "    data[v]['median'].plot(ax =ax, color = '.5', lw = .3)\n",
    "    moving_avg(data[v]['mean']).plot(ax = ax, lw = 1.5, color = c, linestyle = '--')\n",
    "    \n",
    "## Plot Format\n",
    "ax.set_title('INGRESO PER CAPITA FAMILIAR')\n",
    "ax.grid(linestyle = '--') # Grid\n",
    "# Limites\n",
    "ax.set_xlim('2003', '2022') # Limites X\n",
    "ax.set_ylim(0, 1.2e5) # Limites Y\n",
    "# Formatos de ejes X, Y\n",
    "ax.set_xlabel('Trimestre')  # Label X\n",
    "ax.set_ylabel('ARS '+today.strftime(\"%b-%Y\"), rotation=270)  # Label Y\n",
    "ax.yaxis.tick_right()\n",
    "ax.yaxis.set_label_position(\"right\")\n",
    "ax.yaxis.set_ticks_position('both')\n",
    "ax.yaxis.set_major_formatter(mtick.EngFormatter(unit=''))\n",
    "\n",
    "# Leyenda\n",
    "pts1 = mlines.Line2D([], [], marker = '.', color=colors[0], lw = 0, label='Ingreso PCF')\n",
    "medianLine = mlines.Line2D([], [], color='.5', lw = .3, label='mediana')\n",
    "meanLine = mlines.Line2D([], [], color='.5', linestyle = '--', lw = 1.5, label='promedio')\n",
    "grayPatch = mpatches.Patch(color='.8', alpha = .3, label='25% - 75%')\n",
    "\n",
    "ax.legend(handles=[pts1, meanLine, medianLine, grayPatch], numpoints = 3)\n",
    "\n",
    "############\n",
    "plt.tight_layout()\n",
    "plt.savefig('./../images/ingreso2.png')\n",
    "plt.show()"
   ]
  },
  {
   "cell_type": "markdown",
   "metadata": {},
   "source": [
    "# Series de Tiempo. Hogares en Pobreza e Indigencia"
   ]
  },
  {
   "cell_type": "code",
   "execution_count": 53,
   "metadata": {},
   "outputs": [
    {
     "name": "stdout",
     "output_type": "stream",
     "text": [
      "./../data/Pobreza/pobreza_0.01_q2010-02-15.csv\n",
      "./../data/Pobreza/pobreza_0.01_q2010-05-15.csv\n"
     ]
    }
   ],
   "source": [
    "# Stats Hogares en Pobreza e Indigencia\n",
    "\n",
    "df_listP = []\n",
    "df_listI = []\n",
    "# for f in allFiles:\n",
    "for f in allFiles[:2]:\n",
    "    print(f)\n",
    "    \n",
    "    vars_ = ['Pobreza', 'Indigencia', 'P47T_hogar', 'CBA', 'CBT', 'gap_pobreza', 'gap_indigencia', 'IX_TOT']\n",
    "    data = pd.read_csv(f, usecols = ['HOGAR_REF_ID', 'Q', 'AGLOMERADO'] + vars_)\n",
    "    data = data.loc[data.AGLOMERADO != 0]\n",
    "    data = data.drop_duplicates()\n",
    "    data['IPCF'] = data['P47T_hogar']/data['IX_TOT']\n",
    "    \n",
    "    dataP = data.loc[data.Pobreza == True]\n",
    "    tableP = dataP.groupby(['Q'])[mon_cols].agg(['mean', q10, q25, 'median', q75, q90])\n",
    "    df_listP += [tableP]\n",
    "    \n",
    "    dataI = data.loc[data.Indigencia == True]\n",
    "    tableI = dataI.groupby(['Q'])[mon_cols].agg(['mean', q10, q25, 'median', q75, q90])\n",
    "    df_listI += [tableI]"
   ]
  },
  {
   "cell_type": "code",
   "execution_count": 54,
   "metadata": {},
   "outputs": [],
   "source": [
    "dfHpob = pd.concat(df_listP)\n",
    "dfHind = pd.concat(df_listI)\n",
    "\n",
    "dfHpob.index = pd.to_datetime(dfHpob.index)\n",
    "dfHind.index = pd.to_datetime(dfHind.index)\n",
    "\n",
    "dfHpob_ARShoy = dfHpob*(cpi_actual/cpi_ref)\n",
    "dfHind_ARShoy = dfHind*(cpi_actual/cpi_ref)"
   ]
  },
  {
   "cell_type": "markdown",
   "metadata": {},
   "source": [
    "## Brechas de Pobreza e Indigencia"
   ]
  },
  {
   "cell_type": "code",
   "execution_count": 55,
   "metadata": {},
   "outputs": [
    {
     "data": {
      "image/png": "[encoded data removed]",
      "text/plain": [
       "<Figure size 576x432 with 1 Axes>"
      ]
     },
     "metadata": {
      "needs_background": "light"
     },
     "output_type": "display_data"
    }
   ],
   "source": [
    "fig, ax = plt.subplots(1, figsize = (8, 6))\n",
    "\n",
    "colors = ['#d62728', '#ff7f0e']\n",
    "\n",
    "for i, (data, v) in enumerate([(dfHind_ARShoy, 'gap_indigencia'), (dfHpob_ARShoy, 'gap_pobreza')]):\n",
    "    c = colors[i]\n",
    "    ax.fill_between(x = data.index, y1 = data[v].q25, y2 = data[v].q75, color = '.8', alpha = .3)\n",
    "    data[v]['mean'].plot(ax =ax, marker = '.', lw = 0, color = c, alpha = .5)\n",
    "    data[v]['median'].plot(ax =ax, color = '.5', lw = .3)\n",
    "    moving_avg(data[v]['mean']).plot(ax = ax, lw = 1.5, color = c, linestyle = '--')\n",
    "    \n",
    "## Plot Format\n",
    "ax.set_title('Brechas de Pobreza e Indigencia')\n",
    "ax.grid(linestyle = '--') # Grid\n",
    "# Limites\n",
    "ax.set_xlim('2003', '2022') # Limites X\n",
    "ax.set_ylim(-1e5, 0) # Limites Y\n",
    "# Formatos de ejes X, Y\n",
    "ax.set_xlabel('Trimestre')  # Label X\n",
    "ax.set_ylabel('ARS '+today.strftime(\"%b-%Y\"), rotation=270)  # Label Y\n",
    "ax.yaxis.tick_right()\n",
    "ax.yaxis.set_label_position(\"right\")\n",
    "ax.yaxis.set_ticks_position('both')\n",
    "ax.yaxis.set_major_formatter(mtick.EngFormatter(unit=''))\n",
    "\n",
    "# Leyenda\n",
    "pts1 = mlines.Line2D([], [], marker = '.', color=colors[0], lw = 0, label='Brecha Indigentes')\n",
    "pts2 = mlines.Line2D([], [], marker = '.', color=colors[1], lw = 0, label='Brecha Pobres')\n",
    "medianLine = mlines.Line2D([], [], color='.5', lw = .3, label='mediana')\n",
    "meanLine = mlines.Line2D([], [], color='.5', linestyle = '--', lw = 1.5, label='promedio')\n",
    "grayPatch = mpatches.Patch(color='.8', alpha = .3, label='25% - 75%')\n",
    "\n",
    "ax.legend(handles=[pts1, pts2, meanLine, medianLine, grayPatch], numpoints = 3)\n",
    "\n",
    "############\n",
    "plt.tight_layout()\n",
    "plt.savefig('./../images/ingreso3.png')\n",
    "plt.show()"
   ]
  },
  {
   "cell_type": "code",
   "execution_count": 57,
   "metadata": {},
   "outputs": [
    {
     "name": "stdout",
     "output_type": "stream",
     "text": [
      "./../data/Pobreza/pobreza_0.01_q2010-02-15.csv\n",
      "./../data/Pobreza/pobreza_0.01_q2010-05-15.csv\n"
     ]
    }
   ],
   "source": [
    "df_list2D = []\n",
    "\n",
    "# for f in allFiles:\n",
    "for f in allFiles[:2]:\n",
    "    df_list = []\n",
    "    \n",
    "    print(f)\n",
    "    cat_vars = ['Pobreza', 'Indigencia', 'CAT_OCUP', 'CAT_INAC', 'P02', 'INGRESO', 'INGRESO_JUB', 'Grupo_Etario_INDEC', 'PP07K']\n",
    "    vars_ = ['P47T_persona']\n",
    "    \n",
    "    data = pd.read_csv(f, usecols = ['Q', 'AGLOMERADO'] + cat_vars + vars_)\n",
    "    data = data.loc[data.AGLOMERADO != 0]\n",
    "    \n",
    "    for cat_v in cat_vars:\n",
    "        table = data.groupby(['Q', cat_v])['P47T_persona'].agg(['mean', q10, q25, 'median', q75, q90])\n",
    "        df_list += [table]\n",
    "        \n",
    "    df_list2D += [df_list]\n",
    "    \n",
    "dfs = np.array(df_list2D)"
   ]
  },
  {
   "cell_type": "code",
   "execution_count": 58,
   "metadata": {},
   "outputs": [],
   "source": [
    "## Create tables for plotting next\n",
    "\n",
    "for i, cat_v_tables in enumerate(list(dfs.T)):\n",
    "    cat_var = cat_vars[i] \n",
    "    \n",
    "    table = pd.concat(cat_v_tables)\n",
    "    table = table.stack().unstack([-2, -1])\n",
    "    table.index = pd.to_datetime(table.index)\n",
    "    table = table*(cpi_actual/cpi_ref)\n",
    "    \n",
    "    globals()['table_' + cat_var] = table"
   ]
  },
  {
   "cell_type": "markdown",
   "metadata": {},
   "source": [
    "## Personas con Ingreso"
   ]
  },
  {
   "cell_type": "code",
   "execution_count": 59,
   "metadata": {},
   "outputs": [
    {
     "data": {
      "image/png": "[encoded data removed]",
      "text/plain": [
       "<Figure size 576x432 with 1 Axes>"
      ]
     },
     "metadata": {
      "needs_background": "light"
     },
     "output_type": "display_data"
    }
   ],
   "source": [
    "fig, ax = plt.subplots(1, figsize = (8, 6))\n",
    "\n",
    "## INGRESO == 1\n",
    "data = table_INGRESO; v = 1; ## Tabla y valor de la categoria en cuestion\n",
    "c = 'k'\n",
    "ax.fill_between(x = data.index, y1 = data[v].q25, y2 = data[v].q75, color = '.8', alpha = .3)\n",
    "data[v]['mean'].plot(ax =ax, marker = '.', lw = 0, color = c, alpha = .5)\n",
    "data[v]['median'].plot(ax =ax, color = '.5', lw = .3)\n",
    "moving_avg(data[v]['mean']).plot(ax = ax, lw = 1.5, color = c, linestyle = '--')\n",
    "    \n",
    "## Plot Format\n",
    "ax.set_title('Personas con INGRESO')\n",
    "ax.grid(linestyle = '--') # Grid\n",
    "# Limites\n",
    "ax.set_xlim('2003', '2022') # Limites X\n",
    "ax.set_ylim(0, 1.5e5) # Limites Y\n",
    "# Formatos de ejes X, Y\n",
    "ax.set_xlabel('Trimestre')  # Label X\n",
    "ax.set_ylabel('ARS '+today.strftime(\"%b-%Y\"), rotation=270)  # Label Y\n",
    "ax.yaxis.tick_right()\n",
    "ax.yaxis.set_label_position(\"right\")\n",
    "ax.yaxis.set_ticks_position('both')\n",
    "ax.yaxis.set_major_formatter(mtick.EngFormatter(unit=''))\n",
    "\n",
    "# Leyenda\n",
    "pts1 = mlines.Line2D([], [], marker = '.', color='k', lw = 0, label='Ingreso')\n",
    "medianLine = mlines.Line2D([], [], color='.5', lw = .3, label='mediana')\n",
    "meanLine = mlines.Line2D([], [], color='.5', linestyle = '--', lw = 1.5, label='promedio')\n",
    "grayPatch = mpatches.Patch(color='.8', alpha = .3, label='25% - 75%')\n",
    "\n",
    "ax.legend(handles=[pts1, medianLine, meanLine, grayPatch], numpoints = 3, labelspacing = .2)\n",
    "\n",
    "############\n",
    "plt.tight_layout()\n",
    "plt.savefig('./../images/ingreso4.png')\n",
    "plt.show()"
   ]
  },
  {
   "cell_type": "markdown",
   "metadata": {},
   "source": [
    "## Personas con Ingreso. Grupos etarios y Jubilados."
   ]
  },
  {
   "cell_type": "code",
   "execution_count": 61,
   "metadata": {},
   "outputs": [
    {
     "data": {
      "image/png": "[encoded data removed]",
      "text/plain": [
       "<Figure size 576x432 with 1 Axes>"
      ]
     },
     "metadata": {
      "needs_background": "light"
     },
     "output_type": "display_data"
    }
   ],
   "source": [
    "fig, ax = plt.subplots(1, figsize = (8, 6))\n",
    "\n",
    "## GRUPOS ETARIOS\n",
    "data = table_Grupo_Etario_INDEC; \n",
    "\n",
    "colors = ['#2ca02c', '#9467bd', '#6e4196']\n",
    "for i, v in enumerate(['(29, 64]', '(64, 110]']):\n",
    "    c = colors[i]\n",
    "    \n",
    "    ax.fill_between(x = data.index, y1 = data[v].q25, y2 = data[v].q75, color = '.8', alpha = .3)\n",
    "    data[v]['mean'].plot(ax =ax, marker = '.', lw = 0, color = c, alpha = .5)\n",
    "#     data[v]['median'].plot(ax =ax, color = '.5', lw = .3)\n",
    "    moving_avg(data[v]['mean']).plot(ax = ax, lw = 1.5, color = c, linestyle = '--')\n",
    "    \n",
    "## CAT_INAC == JUBILADOS\n",
    "data = table_CAT_INAC; v = 1; ## Tabla y valor de la categoria en cuestion\n",
    "c = colors[2]\n",
    "ax.fill_between(x = data.index, y1 = data[v].q25, y2 = data[v].q75, color = '.8', alpha = .3)\n",
    "data[v]['mean'].plot(ax =ax, marker = '.', lw = 0, color = c, alpha = .5)\n",
    "# data[v]['median'].plot(ax =ax, color = c, lw = .3)\n",
    "moving_avg(data[v]['mean']).plot(ax = ax, lw = 1.5, color = c, linestyle = '--')\n",
    "    \n",
    "## Plot Format\n",
    "ax.set_title('INGRESO por grupo etario')\n",
    "ax.grid(linestyle = '--') # Grid\n",
    "# Limites\n",
    "ax.set_xlim('2003', '2022') # Limites X\n",
    "ax.set_ylim(0, 1.5e5) # Limites Y\n",
    "# Formatos de ejes X, Y\n",
    "ax.set_xlabel('Trimestre')  # Label X\n",
    "ax.set_ylabel('ARS '+today.strftime(\"%b-%Y\"), rotation=270)  # Label Y\n",
    "ax.yaxis.tick_right()\n",
    "ax.yaxis.set_label_position(\"right\")\n",
    "ax.yaxis.set_ticks_position('both')\n",
    "ax.yaxis.set_major_formatter(mtick.EngFormatter(unit=''))\n",
    "\n",
    "# Leyenda\n",
    "pts1 = mlines.Line2D([], [], marker = '.', color=colors[0], lw = 0, label='29 a 64')\n",
    "pts2 = mlines.Line2D([], [], marker = '.', color=colors[1], lw = 0, label='65 o mas')\n",
    "pts3 = mlines.Line2D([], [], marker = '.', color=colors[2], lw = 0, label='Jubilados')\n",
    "# medianLine = mlines.Line2D([], [], color='.5', lw = .3, label='mediana')\n",
    "meanLine = mlines.Line2D([], [], color='.5', linestyle = '--', lw = 1.5, label='promedio')\n",
    "grayPatch = mpatches.Patch(color='.8', alpha = .3, label='25% - 75%')\n",
    "\n",
    "ax.legend(handles=[pts1, pts2, pts3, meanLine, grayPatch], numpoints = 3, labelspacing = .2)\n",
    "\n",
    "############\n",
    "plt.tight_layout()\n",
    "plt.savefig('./../images/ingreso5.png')\n",
    "plt.show()"
   ]
  },
  {
   "cell_type": "markdown",
   "metadata": {},
   "source": [
    "## Ingresos por condicion de Pobreza / Indigencia"
   ]
  },
  {
   "cell_type": "code",
   "execution_count": 62,
   "metadata": {},
   "outputs": [
    {
     "data": {
      "image/png": "[encoded data removed]",
      "text/plain": [
       "<Figure size 576x432 with 1 Axes>"
      ]
     },
     "metadata": {
      "needs_background": "light"
     },
     "output_type": "display_data"
    }
   ],
   "source": [
    "fig, ax = plt.subplots(1, figsize = (8, 6))\n",
    "\n",
    "## CAT_INAC == JUBILADOS\n",
    "colors = ['#2ca02c', '#ff7f0e', '#d62728']\n",
    "for i, (data, v) in enumerate([(table_Pobreza, 0), (table_Pobreza, 1), (table_Indigencia, 1)]):\n",
    "    c = colors[i]\n",
    "\n",
    "    ax.fill_between(x = data.index, y1 = data[v].q25, y2 = data[v].q75, color = '.8', alpha = .3)\n",
    "    data[v]['mean'].plot(ax =ax, marker = '.', lw = 0, color = c, alpha = .5)\n",
    "    data[v]['median'].plot(ax =ax, color = '.5', lw = .3)\n",
    "    moving_avg(data[v]['mean']).plot(ax = ax, lw = 1.5, color = c, linestyle = '--')\n",
    "\n",
    "## Plot Format\n",
    "ax.set_title('INGRESO por condicion de pobreza')\n",
    "ax.grid(linestyle = '--') # Grid\n",
    "# Limites\n",
    "ax.set_xlim('2003', '2022') # Limites X\n",
    "ax.set_ylim(0, 1.5e5) # Limites Y\n",
    "# Formatos de ejes X, Y\n",
    "ax.set_xlabel('Trimestre')  # Label X\n",
    "ax.set_ylabel('ARS '+today.strftime(\"%b-%Y\"), rotation=270)  # Label Y\n",
    "ax.yaxis.tick_right()\n",
    "ax.yaxis.set_label_position(\"right\")\n",
    "ax.yaxis.set_ticks_position('both')\n",
    "ax.yaxis.set_major_formatter(mtick.EngFormatter(unit=''))\n",
    "\n",
    "# Leyenda\n",
    "pts1 = mlines.Line2D([], [], marker = '.', color=colors[0], lw = 0, label='No Pobre')\n",
    "pts2 = mlines.Line2D([], [], marker = '.', color=colors[1], lw = 0, label='Pobre')\n",
    "pts3 = mlines.Line2D([], [], marker = '.', color=colors[2], lw = 0, label='Indigente')\n",
    "medianLine = mlines.Line2D([], [], color='.5', lw = .3, label='mediana')\n",
    "meanLine = mlines.Line2D([], [], color='.5', linestyle = '--', lw = 1.5, label='promedio')\n",
    "grayPatch = mpatches.Patch(color='.8', alpha = .3, label='25% - 75%')\n",
    "\n",
    "ax.legend(handles=[pts1, pts2, pts3, meanLine, medianLine, grayPatch], numpoints = 3, labelspacing = .2)\n",
    "\n",
    "############\n",
    "plt.tight_layout()\n",
    "plt.savefig('./../images/ingreso6.png')\n",
    "plt.show()"
   ]
  },
  {
   "cell_type": "markdown",
   "metadata": {},
   "source": [
    "## Ingresos por genero"
   ]
  },
  {
   "cell_type": "code",
   "execution_count": 63,
   "metadata": {},
   "outputs": [
    {
     "data": {
      "image/png": "[encoded data removed]",
      "text/plain": [
       "<Figure size 576x432 with 1 Axes>"
      ]
     },
     "metadata": {
      "needs_background": "light"
     },
     "output_type": "display_data"
    }
   ],
   "source": [
    "fig, ax = plt.subplots(1, figsize = (8, 6))\n",
    "\n",
    "## GRUPOS ETARIOS\n",
    "data = table_P02; \n",
    "colors = ['#17becf', '#e377c2']\n",
    "for i, v in enumerate([1, 2]):\n",
    "    c = colors[i]\n",
    "    label = ['Varon', 'Mujer'][i]\n",
    "    pts, = ax.plot(data[v]['mean'], marker = '.', lw = 0, color = c, alpha = .5, label = label)\n",
    "    data[v]['median'].plot(ax =ax, color = c, lw = .3)\n",
    "    moving_avg(data[v]['mean']).plot(ax = ax, lw = 1.5, color = c, linestyle = '--')\n",
    "    ax.fill_between(x = data.index, y1 = data[v].q25, y2 = data[v].q75, color = '.8', alpha = .3)\n",
    "    \n",
    "## Plot Format\n",
    "ax.set_title('INGRESO por genero') # Titulo\n",
    "ax.grid(linestyle = '--') # Grid\n",
    "# Limites\n",
    "ax.set_xlim('2003', '2022') # Limites X\n",
    "ax.set_ylim(0, 1.5e5) # Limites Y\n",
    "# Formatos de ejes X, Y\n",
    "ax.set_xlabel('Trimestre')  # Label X\n",
    "ax.set_ylabel('ARS '+today.strftime(\"%b-%Y\"), rotation=270)  # Label Y\n",
    "ax.yaxis.tick_right()\n",
    "ax.yaxis.set_label_position(\"right\")\n",
    "ax.yaxis.set_ticks_position('both')\n",
    "ax.yaxis.set_major_formatter(mtick.EngFormatter(unit=''))\n",
    "\n",
    "# Leyenda\n",
    "pts1 = mlines.Line2D([], [], marker = '.', color=colors[0], lw = 0, label='Varon')\n",
    "pts2 = mlines.Line2D([], [], marker = '.', color=colors[1], lw = 0, label='Mujer')\n",
    "medianLine = mlines.Line2D([], [], color='.5', lw = .3, label='mediana')\n",
    "meanLine = mlines.Line2D([], [], color='.5', linestyle = '--', lw = 1.5, label='promedio')\n",
    "grayPatch = mpatches.Patch(color='.8', alpha = .3, label='25% - 75%')\n",
    "\n",
    "ax.legend(handles=[pts1, pts2, meanLine, medianLine, grayPatch], numpoints = 3)\n",
    "\n",
    "############\n",
    "plt.tight_layout()\n",
    "plt.savefig('./../images/ingreso7.png')\n",
    "plt.show()"
   ]
  },
  {
   "cell_type": "code",
   "execution_count": null,
   "metadata": {},
   "outputs": [],
   "source": []
  },
  {
   "cell_type": "code",
   "execution_count": null,
   "metadata": {},
   "outputs": [],
   "source": [
    "# ['P02', 'CAT_OCUP', 'CAT_INAC', 'INGRESO', 'Grupo_Etario_INDEC', 'PP07K', 'Pobreza', 'Indigencia'\n",
    "# 'CBA', 'CBT', 'CB_EQUIV', 'P47T_persona', 'P47T_hogar', 'gap_pobreza', 'gap_indigencia']"
   ]
  },
  {
   "cell_type": "code",
   "execution_count": null,
   "metadata": {},
   "outputs": [],
   "source": []
  }
 ],
 "metadata": {
  "kernelspec": {
   "display_name": "Python 3",
   "language": "python",
   "name": "python3"
  },
  "language_info": {
   "codemirror_mode": {
    "name": "ipython",
    "version": 3
   },
   "file_extension": ".py",
   "mimetype": "text/x-python",
   "name": "python",
   "nbconvert_exporter": "python",
   "pygments_lexer": "ipython3",
   "version": "3.8.5"
  }
 },
 "nbformat": 4,
 "nbformat_minor": 4
}
