{
 "cells": [
  {
   "cell_type": "code",
   "execution_count": 1,
   "metadata": {},
   "outputs": [],
   "source": [
    "import pandas as pd\n",
    "import numpy as np"
   ]
  },
  {
   "cell_type": "code",
   "execution_count": 2,
   "metadata": {},
   "outputs": [
    {
     "data": {
      "text/plain": [
       "['./../data/Pobreza/pobreza_0.01_q2010-02-15.csv',\n",
       " './../data/Pobreza/pobreza_0.01_q2010-05-15.csv',\n",
       " './../data/Pobreza/pobreza_0.01_q2010-08-15.csv',\n",
       " './../data/Pobreza/pobreza_0.01_q2010-11-15.csv',\n",
       " './../data/Pobreza/pobreza_0.01_q2011-02-15.csv',\n",
       " './../data/Pobreza/pobreza_0.01_q2011-05-15.csv',\n",
       " './../data/Pobreza/pobreza_0.01_q2011-08-15.csv',\n",
       " './../data/Pobreza/pobreza_0.01_q2011-11-15.csv',\n",
       " './../data/Pobreza/pobreza_0.01_q2012-02-15.csv',\n",
       " './../data/Pobreza/pobreza_0.01_q2012-05-15.csv',\n",
       " './../data/Pobreza/pobreza_0.01_q2012-08-15.csv',\n",
       " './../data/Pobreza/pobreza_0.01_q2012-11-15.csv',\n",
       " './../data/Pobreza/pobreza_0.01_q2013-02-15.csv',\n",
       " './../data/Pobreza/pobreza_0.01_q2013-05-15.csv',\n",
       " './../data/Pobreza/pobreza_0.01_q2013-08-15.csv',\n",
       " './../data/Pobreza/pobreza_0.01_q2013-11-15.csv',\n",
       " './../data/Pobreza/pobreza_0.01_q2014-02-15.csv',\n",
       " './../data/Pobreza/pobreza_0.01_q2014-05-15.csv',\n",
       " './../data/Pobreza/pobreza_0.01_q2014-08-15.csv',\n",
       " './../data/Pobreza/pobreza_0.01_q2014-11-15.csv',\n",
       " './../data/Pobreza/pobreza_0.01_q2015-02-15.csv',\n",
       " './../data/Pobreza/pobreza_0.01_q2015-05-15.csv',\n",
       " './../data/Pobreza/pobreza_0.01_q2016-05-15.csv',\n",
       " './../data/Pobreza/pobreza_0.01_q2016-08-15.csv',\n",
       " './../data/Pobreza/pobreza_0.01_q2016-11-15.csv',\n",
       " './../data/Pobreza/pobreza_0.01_q2017-02-15.csv',\n",
       " './../data/Pobreza/pobreza_0.01_q2017-05-15.csv',\n",
       " './../data/Pobreza/pobreza_0.01_q2017-08-15.csv',\n",
       " './../data/Pobreza/pobreza_0.01_q2017-11-15.csv',\n",
       " './../data/Pobreza/pobreza_0.01_q2018-02-15.csv',\n",
       " './../data/Pobreza/pobreza_0.01_q2018-05-15.csv',\n",
       " './../data/Pobreza/pobreza_0.01_q2018-08-15.csv',\n",
       " './../data/Pobreza/pobreza_0.01_q2018-11-15.csv',\n",
       " './../data/Pobreza/pobreza_0.01_q2019-02-15.csv',\n",
       " './../data/Pobreza/pobreza_0.01_q2019-05-15.csv',\n",
       " './../data/Pobreza/pobreza_0.01_q2019-08-15.csv',\n",
       " './../data/Pobreza/pobreza_0.01_q2019-11-15.csv',\n",
       " './../data/Pobreza/pobreza_0.01_q2020-02-15.csv',\n",
       " './../data/Pobreza/pobreza_0.01_q2020-05-15.csv',\n",
       " './../data/Pobreza/pobreza_0.01_q2020-08-15.csv',\n",
       " './../data/Pobreza/pobreza_0.01_q2020-11-15.csv',\n",
       " './../data/Pobreza/pobreza_0.01_q2021-02-15.csv',\n",
       " './../data/Pobreza/pobreza_0.01_q2021-05-15.csv',\n",
       " './../data/Pobreza/pobreza_0.01_q2021-08-15.csv',\n",
       " './../data/Pobreza/pobreza_0.01_q2021-11-15.csv']"
      ]
     },
     "execution_count": 2,
     "metadata": {},
     "output_type": "execute_result"
    }
   ],
   "source": [
    "import matplotlib.pyplot as plt\n",
    "import matplotlib.lines as mlines\n",
    "import matplotlib.patches as mpatches\n",
    "\n",
    "import pandas as pd\n",
    "import datetime as dt\n",
    "from IPython.display import display, Markdown, Latex\n",
    "import numpy as np\n",
    "\n",
    "import glob\n",
    "frac = 0.01\n",
    "# path ='./data/RFReg_' # use your path\n",
    "path ='./../data/Pobreza/pobreza_' # use your path\n",
    "\n",
    "allFiles = []\n",
    "allFiles += glob.glob(path+str(frac)+'_q*.csv')\n",
    "allFiles = sorted(allFiles)\n",
    "allFiles"
   ]
  },
  {
   "cell_type": "code",
   "execution_count": 3,
   "metadata": {},
   "outputs": [],
   "source": [
    "cpi_M = pd.read_csv('https://raw.githubusercontent.com/matuteiglesias/IPC-Argentina/main/data/info/indice_precios_M.csv', index_col=0)\n",
    "cpi_M.index = pd.to_datetime(cpi_M.index)\n",
    "\n",
    "cpi_Q = pd.read_csv('https://raw.githubusercontent.com/matuteiglesias/IPC-Argentina/main/data/info/indice_precios_Q.csv', index_col=0)\n",
    "cpi_Q.index = pd.to_datetime(cpi_Q.index)\n",
    "\n",
    "cpi_actual = cpi_M.loc['2022-05']['index'][0]\n",
    "cpi_2010Q4 = cpi_Q.loc['2010-11']['index'][0]\n",
    "cpi_ref = cpi_M.loc['2016-01']['index'][0]"
   ]
  },
  {
   "cell_type": "code",
   "execution_count": 4,
   "metadata": {},
   "outputs": [],
   "source": [
    "aglo_labels = pd.read_csv('./../data/info/aglo_labels.csv')"
   ]
  },
  {
   "cell_type": "code",
   "execution_count": 5,
   "metadata": {},
   "outputs": [],
   "source": [
    "# df_list = []\n",
    "# for f in allFiles:\n",
    "#     print(f)\n",
    "    \n",
    "f = './../data/Pobreza/pobreza_0.01_q2010-11-15.csv'\n",
    "groupers = ['AGLOMERADO', 'PROV', 'NOMPROV']\n",
    "vars_ = ['INGRESO', 'P47T_persona']\n",
    "\n",
    "data = pd.read_csv(f, usecols = ['Q'] + groupers + vars_)\n",
    "data = data.merge(aglo_labels)\n",
    "data['AGLO_si'] = data.AGLOMERADO != 0\n",
    "data['Total'] = True\n",
    "\n",
    "data = data.loc[data.AGLO_si == 1]\n",
    "\n",
    "data.loc[data.INGRESO == 0, 'decil_P47T'] = 'sin ingresos'\n",
    "data.loc[data.INGRESO == 1, 'P47T_persona'] = data.loc[data.INGRESO == 1, 'P47T_persona'] + np.random.uniform(0, .01, data.INGRESO.sum())\n",
    "data.loc[data.INGRESO == 1, 'decil_P47T'] = pd.qcut(data.loc[data.INGRESO == 1, 'P47T_persona'], q = 10, labels = range(1, 11))\n",
    "\n",
    "data['Q'] = pd.to_datetime(data['Q'])\n",
    "# df104 = df.loc[df.Q == '2010-11-15']"
   ]
  },
  {
   "cell_type": "code",
   "execution_count": 6,
   "metadata": {},
   "outputs": [],
   "source": [
    "# df104 = df.loc[df.Q == '2010-11-15']"
   ]
  },
  {
   "cell_type": "code",
   "execution_count": 7,
   "metadata": {},
   "outputs": [],
   "source": [
    "# pd.read_csv(f, nrows = 5).T"
   ]
  },
  {
   "cell_type": "code",
   "execution_count": 8,
   "metadata": {},
   "outputs": [],
   "source": [
    "## Tabla:\n",
    "\n",
    "# Personas con ingresos (aprox 14.377, sin ingresos 10.510 para un total de 24.887 en aglos)\n"
   ]
  },
  {
   "cell_type": "code",
   "execution_count": 9,
   "metadata": {
    "scrolled": false
   },
   "outputs": [
    {
     "data": {
      "text/html": [
       "<div>\n",
       "<style scoped>\n",
       "    .dataframe tbody tr th:only-of-type {\n",
       "        vertical-align: middle;\n",
       "    }\n",
       "\n",
       "    .dataframe tbody tr th {\n",
       "        vertical-align: top;\n",
       "    }\n",
       "\n",
       "    .dataframe thead th {\n",
       "        text-align: right;\n",
       "    }\n",
       "</style>\n",
       "<table border=\"1\" class=\"dataframe\">\n",
       "  <thead>\n",
       "    <tr style=\"text-align: right;\">\n",
       "      <th></th>\n",
       "      <th>Mínimo</th>\n",
       "      <th>Máximo</th>\n",
       "      <th>Población (miles)</th>\n",
       "      <th>Ingresos (mill. ARS)</th>\n",
       "      <th>Media</th>\n",
       "      <th>% de suma de ingresos</th>\n",
       "    </tr>\n",
       "    <tr>\n",
       "      <th>decil_P47T</th>\n",
       "      <th></th>\n",
       "      <th></th>\n",
       "      <th></th>\n",
       "      <th></th>\n",
       "      <th></th>\n",
       "      <th></th>\n",
       "    </tr>\n",
       "  </thead>\n",
       "  <tbody>\n",
       "    <tr>\n",
       "      <th>1</th>\n",
       "      <td>30</td>\n",
       "      <td>500</td>\n",
       "      <td>1555.1</td>\n",
       "      <td>511.8</td>\n",
       "      <td>330</td>\n",
       "      <td>1.4</td>\n",
       "    </tr>\n",
       "    <tr>\n",
       "      <th>2</th>\n",
       "      <td>500</td>\n",
       "      <td>800</td>\n",
       "      <td>1555.0</td>\n",
       "      <td>1045.2</td>\n",
       "      <td>670</td>\n",
       "      <td>2.8</td>\n",
       "    </tr>\n",
       "    <tr>\n",
       "      <th>3</th>\n",
       "      <td>800</td>\n",
       "      <td>1040</td>\n",
       "      <td>1555.0</td>\n",
       "      <td>1463.5</td>\n",
       "      <td>940</td>\n",
       "      <td>3.9</td>\n",
       "    </tr>\n",
       "    <tr>\n",
       "      <th>4</th>\n",
       "      <td>1040</td>\n",
       "      <td>1400</td>\n",
       "      <td>1555.0</td>\n",
       "      <td>1862.3</td>\n",
       "      <td>1200</td>\n",
       "      <td>5.0</td>\n",
       "    </tr>\n",
       "    <tr>\n",
       "      <th>5</th>\n",
       "      <td>1400</td>\n",
       "      <td>1750</td>\n",
       "      <td>1555.1</td>\n",
       "      <td>2406.2</td>\n",
       "      <td>1550</td>\n",
       "      <td>6.5</td>\n",
       "    </tr>\n",
       "    <tr>\n",
       "      <th>6</th>\n",
       "      <td>1750</td>\n",
       "      <td>2030</td>\n",
       "      <td>1555.0</td>\n",
       "      <td>3008.3</td>\n",
       "      <td>1930</td>\n",
       "      <td>8.1</td>\n",
       "    </tr>\n",
       "    <tr>\n",
       "      <th>7</th>\n",
       "      <td>2030</td>\n",
       "      <td>2700</td>\n",
       "      <td>1555.0</td>\n",
       "      <td>3754.9</td>\n",
       "      <td>2410</td>\n",
       "      <td>10.1</td>\n",
       "    </tr>\n",
       "    <tr>\n",
       "      <th>8</th>\n",
       "      <td>2700</td>\n",
       "      <td>3500</td>\n",
       "      <td>1555.0</td>\n",
       "      <td>4729.8</td>\n",
       "      <td>3040</td>\n",
       "      <td>12.7</td>\n",
       "    </tr>\n",
       "    <tr>\n",
       "      <th>9</th>\n",
       "      <td>3500</td>\n",
       "      <td>5000</td>\n",
       "      <td>1555.0</td>\n",
       "      <td>6422.1</td>\n",
       "      <td>4130</td>\n",
       "      <td>17.2</td>\n",
       "    </tr>\n",
       "    <tr>\n",
       "      <th>10</th>\n",
       "      <td>5000</td>\n",
       "      <td>65960</td>\n",
       "      <td>1555.1</td>\n",
       "      <td>12029.7</td>\n",
       "      <td>7740</td>\n",
       "      <td>32.3</td>\n",
       "    </tr>\n",
       "    <tr>\n",
       "      <th>sin ingresos</th>\n",
       "      <td>0</td>\n",
       "      <td>20</td>\n",
       "      <td>9694.5</td>\n",
       "      <td>0.0</td>\n",
       "      <td>0</td>\n",
       "      <td>0.0</td>\n",
       "    </tr>\n",
       "    <tr>\n",
       "      <th>Total</th>\n",
       "      <td>30</td>\n",
       "      <td>65960</td>\n",
       "      <td>15550.3</td>\n",
       "      <td>37233.8</td>\n",
       "      <td>2390</td>\n",
       "      <td>100.0</td>\n",
       "    </tr>\n",
       "  </tbody>\n",
       "</table>\n",
       "</div>"
      ],
      "text/plain": [
       "              Mínimo  Máximo  Población (miles)  Ingresos (mill. ARS)  Media  \\\n",
       "decil_P47T                                                                     \n",
       "1                 30     500             1555.1                 511.8    330   \n",
       "2                500     800             1555.0                1045.2    670   \n",
       "3                800    1040             1555.0                1463.5    940   \n",
       "4               1040    1400             1555.0                1862.3   1200   \n",
       "5               1400    1750             1555.1                2406.2   1550   \n",
       "6               1750    2030             1555.0                3008.3   1930   \n",
       "7               2030    2700             1555.0                3754.9   2410   \n",
       "8               2700    3500             1555.0                4729.8   3040   \n",
       "9               3500    5000             1555.0                6422.1   4130   \n",
       "10              5000   65960             1555.1               12029.7   7740   \n",
       "sin ingresos       0      20             9694.5                   0.0      0   \n",
       "Total             30   65960            15550.3               37233.8   2390   \n",
       "\n",
       "              % de suma de ingresos  \n",
       "decil_P47T                           \n",
       "1                               1.4  \n",
       "2                               2.8  \n",
       "3                               3.9  \n",
       "4                               5.0  \n",
       "5                               6.5  \n",
       "6                               8.1  \n",
       "7                              10.1  \n",
       "8                              12.7  \n",
       "9                              17.2  \n",
       "10                             32.3  \n",
       "sin ingresos                    0.0  \n",
       "Total                         100.0  "
      ]
     },
     "execution_count": 9,
     "metadata": {},
     "output_type": "execute_result"
    }
   ],
   "source": [
    "tabla = data.groupby(['decil_P47T']).agg({'P47T_persona': ['min', 'max', 'size', 'sum', 'mean']})['P47T_persona']\n",
    "tabla[['min', 'max', 'sum', 'mean']] = tabla[['min', 'max', 'sum', 'mean']]*(cpi_2010Q4/cpi_ref)\n",
    "tabla[['size', 'sum']] = 100*tabla[['size', 'sum']]\n",
    "tabla['pct'] = 100*tabla['sum']/tabla['sum'].sum()\n",
    "tabla.loc['Total'] = tabla.iloc[:-1].agg({'min': 'min', 'max': 'max','size': 'sum', 'sum': 'sum', 'mean': 'mean', 'pct': 'sum'})\n",
    "\n",
    "tabla[['min', 'max', 'sum', 'mean']] = tabla[['min', 'max', 'sum', 'mean']].round(-1).astype(int)\n",
    "tabla['size'] = (tabla['size']/1e3).round(1)\n",
    "tabla['sum'] = (tabla['sum']/1e6).round(1)\n",
    "tabla['pct'] = tabla['pct'].round(1)\n",
    "tabla.columns = ['Mínimo', 'Máximo', 'Población (miles)', 'Ingresos (mill. ARS)', 'Media', '% de suma de ingresos']\n",
    "tabla"
   ]
  },
  {
   "cell_type": "markdown",
   "metadata": {},
   "source": [
    "## Series de tiempo"
   ]
  },
  {
   "cell_type": "code",
   "execution_count": 10,
   "metadata": {},
   "outputs": [],
   "source": [
    "import matplotlib.pyplot as plt\n",
    "import pandas as pd\n",
    "import datetime as dt\n",
    "from IPython.display import display, Markdown, Latex\n",
    "\n",
    "import glob\n",
    "frac = 0.01\n",
    "\n",
    "path ='./../data/Pobreza/pobreza_' # use your path\n",
    "\n",
    "allFiles = []\n",
    "allFiles += glob.glob(path+str(frac)+'_q*.csv')\n",
    "allFiles = sorted(allFiles)\n",
    "# allFiles\n",
    "\n",
    "\n",
    "def moving_avg(table):\n",
    "    ## Label left. The roilling means are centered nearly on the right date, although one day early.\n",
    "    # i.e. 2009-12-31 is the average for 07-2009 to 06-2010\n",
    "    return table.resample('Q', label = 'left').mean().interpolate('linear').rolling(4, center = True).mean()\n"
   ]
  },
  {
   "cell_type": "code",
   "execution_count": 11,
   "metadata": {},
   "outputs": [],
   "source": [
    "aglo_labels = pd.read_csv('./../data/info/aglo_labels.csv')"
   ]
  },
  {
   "cell_type": "code",
   "execution_count": 12,
   "metadata": {},
   "outputs": [],
   "source": [
    "# Percentile funcs\n",
    "def q10(x):\n",
    "    return x.quantile(0.1)\n",
    "\n",
    "def q25(x):\n",
    "    return x.quantile(0.25)\n",
    "\n",
    "def q75(x):\n",
    "    return x.quantile(0.75)\n",
    "\n",
    "def q90(x):\n",
    "    return x.quantile(0.9)"
   ]
  },
  {
   "cell_type": "markdown",
   "metadata": {},
   "source": [
    "# Series de Tiempo. Hogares"
   ]
  },
  {
   "cell_type": "code",
   "execution_count": 13,
   "metadata": {},
   "outputs": [
    {
     "name": "stdout",
     "output_type": "stream",
     "text": [
      "./../data/Pobreza/pobreza_0.01_q2010-02-15.csv\n",
      "./../data/Pobreza/pobreza_0.01_q2010-05-15.csv\n"
     ]
    }
   ],
   "source": [
    "# Stats a nivel Hogar\n",
    "\n",
    "mon_cols = ['P47T_hogar', 'CBA', 'CBT', 'gap_pobreza', 'gap_indigencia', 'IPCF']\n",
    "\n",
    "df_list = []\n",
    "for f in allFiles[:2]:\n",
    "    print(f)\n",
    "    \n",
    "    vars_ = ['P47T_hogar', 'CBA', 'CBT', 'gap_pobreza', 'gap_indigencia', 'IX_TOT']\n",
    "    data = pd.read_csv(f, usecols = ['HOGAR_REF_ID', 'Q', 'AGLOMERADO'] + vars_)\n",
    "    data = data.loc[data.AGLOMERADO != 0]\n",
    "    data = data.drop_duplicates()\n",
    "    \n",
    "    data['IPCF'] = data['P47T_hogar']/data['IX_TOT']\n",
    "    \n",
    "    table = data.groupby(['Q'])[mon_cols].agg(['mean', q10, q25, 'median', q75, q90])\n",
    "\n",
    "    df_list += [table]\n",
    "    \n",
    "df = pd.concat(df_list)\n",
    "df.index = pd.to_datetime(df.index)\n"
   ]
  },
  {
   "cell_type": "code",
   "execution_count": 14,
   "metadata": {},
   "outputs": [],
   "source": [
    "### Anio 2020-21"
   ]
  },
  {
   "cell_type": "code",
   "execution_count": 30,
   "metadata": {},
   "outputs": [
    {
     "name": "stdout",
     "output_type": "stream",
     "text": [
      "./../data/Pobreza/pobreza_0.01_q2020-02-15.csv\n",
      "./../data/Pobreza/pobreza_0.01_q2020-05-15.csv\n",
      "./../data/Pobreza/pobreza_0.01_q2020-08-15.csv\n",
      "./../data/Pobreza/pobreza_0.01_q2020-11-15.csv\n",
      "./../data/Pobreza/pobreza_0.01_q2021-02-15.csv\n",
      "./../data/Pobreza/pobreza_0.01_q2021-05-15.csv\n",
      "./../data/Pobreza/pobreza_0.01_q2021-08-15.csv\n",
      "./../data/Pobreza/pobreza_0.01_q2021-11-15.csv\n"
     ]
    }
   ],
   "source": [
    "# Stats a nivel Hogar\n",
    "\n",
    "# mon_cols = ['P47T_hogar', 'CBA', 'CBT', 'gap_pobreza', 'gap_indigencia', 'IPCF']\n",
    "\n",
    "df_list = []\n",
    "for f in allFiles:\n",
    "    if '2020' in f or '2021' in f:\n",
    "        print(f)\n",
    "\n",
    "        vars_ = ['P47T_persona']\n",
    "        data = pd.read_csv(f, usecols = ['PERSONA_REF_ID', 'Q', 'AGLOMERADO'] + vars_)\n",
    "        data = data.loc[data.AGLOMERADO != 0]\n",
    "#         data = data.drop_duplicates()\n",
    "\n",
    "#         data['IPCF'] = data['P47T_hogar']/data['IX_TOT']\n",
    "\n",
    "#         table = data.groupby(['Q'])['P47T_persona'].agg(['mean', q10, q25, 'median', q75, q90])\n",
    "\n",
    "        df_list += [data]\n",
    "    \n",
    "df2021 = pd.concat(df_list)\n",
    "df2021 = df2021.set_index('Q')\n",
    "df2021.index = pd.to_datetime(df2021.index)"
   ]
  },
  {
   "cell_type": "markdown",
   "metadata": {},
   "source": [
    "### Distribucion del ingreso"
   ]
  },
  {
   "cell_type": "code",
   "execution_count": 78,
   "metadata": {},
   "outputs": [
    {
     "data": {
      "image/png": "[encoded data removed]",
      "text/plain": [
       "<Figure size 432x288 with 1 Axes>"
      ]
     },
     "metadata": {
      "needs_background": "light"
     },
     "output_type": "display_data"
    }
   ],
   "source": [
    "data = df2021.reset_index()[['P47T_persona']]\n",
    "data = data.loc[data.P47T_persona > 0]\n",
    "data = data*(cpi_actual/cpi_ref)\n",
    "data = np.log10(data)\n",
    "\n",
    "plt.hist(data, bins = np.arange(1, 8, .1))\n",
    "plt.yscale('log')\n",
    "plt.show()"
   ]
  },
  {
   "cell_type": "code",
   "execution_count": 111,
   "metadata": {},
   "outputs": [],
   "source": [
    "data = df2021.reset_index()[['P47T_persona']]\n",
    "data = data.loc[data.P47T_persona > 0]\n",
    "data = data*(cpi_actual/cpi_ref)\n",
    "# pd.cut(data.P47T_persona, bins = np.arange(1, 8, .1))\n",
    "data['P47T_persona_log'] = np.log10(data['P47T_persona'])\n",
    "data['bin'] = pd.cut(data.P47T_persona_log, bins = np.arange(1, 8, .1))\n"
   ]
  },
  {
   "cell_type": "code",
   "execution_count": 102,
   "metadata": {},
   "outputs": [
    {
     "data": {
      "text/html": [
       "<div>\n",
       "<style scoped>\n",
       "    .dataframe tbody tr th:only-of-type {\n",
       "        vertical-align: middle;\n",
       "    }\n",
       "\n",
       "    .dataframe tbody tr th {\n",
       "        vertical-align: top;\n",
       "    }\n",
       "\n",
       "    .dataframe thead th {\n",
       "        text-align: right;\n",
       "    }\n",
       "</style>\n",
       "<table border=\"1\" class=\"dataframe\">\n",
       "  <thead>\n",
       "    <tr style=\"text-align: right;\">\n",
       "      <th></th>\n",
       "      <th>mean</th>\n",
       "      <th>size</th>\n",
       "      <th>sum</th>\n",
       "    </tr>\n",
       "    <tr>\n",
       "      <th>bin</th>\n",
       "      <th></th>\n",
       "      <th></th>\n",
       "      <th></th>\n",
       "    </tr>\n",
       "  </thead>\n",
       "  <tbody>\n",
       "    <tr>\n",
       "      <th>(4.7, 4.8]</th>\n",
       "      <td>56252.595159</td>\n",
       "      <td>0.108720</td>\n",
       "      <td>8.724274e-02</td>\n",
       "    </tr>\n",
       "    <tr>\n",
       "      <th>(7.8, 7.9]</th>\n",
       "      <td>NaN</td>\n",
       "      <td>0.000000</td>\n",
       "      <td>0.000000e+00</td>\n",
       "    </tr>\n",
       "    <tr>\n",
       "      <th>(1.7, 1.8]</th>\n",
       "      <td>59.550044</td>\n",
       "      <td>0.000018</td>\n",
       "      <td>1.504300e-08</td>\n",
       "    </tr>\n",
       "    <tr>\n",
       "      <th>(2.5, 2.6]</th>\n",
       "      <td>353.483714</td>\n",
       "      <td>0.000190</td>\n",
       "      <td>9.572305e-07</td>\n",
       "    </tr>\n",
       "    <tr>\n",
       "      <th>(7.4, 7.5]</th>\n",
       "      <td>NaN</td>\n",
       "      <td>0.000000</td>\n",
       "      <td>0.000000e+00</td>\n",
       "    </tr>\n",
       "  </tbody>\n",
       "</table>\n",
       "</div>"
      ],
      "text/plain": [
       "                    mean      size           sum\n",
       "bin                                             \n",
       "(4.7, 4.8]  56252.595159  0.108720  8.724274e-02\n",
       "(7.8, 7.9]           NaN  0.000000  0.000000e+00\n",
       "(1.7, 1.8]     59.550044  0.000018  1.504300e-08\n",
       "(2.5, 2.6]    353.483714  0.000190  9.572305e-07\n",
       "(7.4, 7.5]           NaN  0.000000  0.000000e+00"
      ]
     },
     "execution_count": 102,
     "metadata": {},
     "output_type": "execute_result"
    }
   ],
   "source": [
    "info = data.groupby('bin').agg(['mean', 'size', 'sum'])['P47T_persona']\n",
    "info[['size', 'sum']] = info[['size', 'sum']].div(info[['size', 'sum']].sum(), 1)\n",
    "info.sample(5)#.tail()"
   ]
  },
  {
   "cell_type": "code",
   "execution_count": 106,
   "metadata": {},
   "outputs": [
    {
     "data": {
      "image/png": "[encoded data removed]",
      "text/plain": [
       "<Figure size 432x288 with 1 Axes>"
      ]
     },
     "metadata": {
      "needs_background": "light"
     },
     "output_type": "display_data"
    }
   ],
   "source": [
    "fig, ax = plt.subplots(1, figsize = (6, 4))\n",
    "info.plot(x = 'mean', y = 'size', ax = ax, marker = '.')\n",
    "info.plot(x = 'mean', y = 'sum', ax = ax, marker = '.')\n",
    "ax.set_yscale('log')\n",
    "ax.set_ylim(1e-6, 1)\n",
    "ax.grid()\n",
    "ax.set_xscale('log')"
   ]
  },
  {
   "cell_type": "code",
   "execution_count": 112,
   "metadata": {},
   "outputs": [],
   "source": [
    "# info.loc[5.2:].dropna()"
   ]
  },
  {
   "cell_type": "code",
   "execution_count": 38,
   "metadata": {},
   "outputs": [
    {
     "data": {
      "text/plain": [
       "17647212.5"
      ]
     },
     "execution_count": 38,
     "metadata": {},
     "output_type": "execute_result"
    }
   ],
   "source": [
    "## Cant total de personas (en AGLOS)\n",
    "2256360/8/frac\n",
    "\n",
    "## Cant total de personas que perciben ingreso (en AGLOS)\n",
    "1411777/8/frac"
   ]
  },
  {
   "cell_type": "code",
   "execution_count": null,
   "metadata": {},
   "outputs": [],
   "source": []
  },
  {
   "cell_type": "code",
   "execution_count": 129,
   "metadata": {},
   "outputs": [],
   "source": [
    "data = df2021.reset_index()[['P47T_persona']]\n",
    "data = data.loc[data.P47T_persona > 0]\n",
    "data = data*(cpi_actual/cpi_ref)\n",
    "# pd.cut(data.P47T_persona, bins = np.arange(1, 8, .1))\n",
    "data['P47T_persona'] = data['P47T_persona'] + np.random.uniform(0, 1, len(data))\n",
    "data['P47T_persona_log'] = np.log10(data['P47T_persona'])\n",
    "data['bin'] = pd.cut(data.P47T_persona_log, bins = np.arange(1, 8, .1))\n",
    "data = data.sort_values('P47T_persona').reset_index(drop = True)"
   ]
  },
  {
   "cell_type": "code",
   "execution_count": 134,
   "metadata": {},
   "outputs": [],
   "source": [
    "nb = 10\n",
    "data['cnt_bin'] = pd.qcut(data.P47T_persona, nb)\n",
    "data['log_bin'] = pd.cut(data.P47T_persona_log, bins = nb)\n",
    "data['val_bin'] = pd.cut(data.P47T_persona.cumsum(), bins = nb)\n"
   ]
  },
  {
   "cell_type": "code",
   "execution_count": 135,
   "metadata": {},
   "outputs": [
    {
     "data": {
      "text/html": [
       "<div>\n",
       "<style scoped>\n",
       "    .dataframe tbody tr th:only-of-type {\n",
       "        vertical-align: middle;\n",
       "    }\n",
       "\n",
       "    .dataframe tbody tr th {\n",
       "        vertical-align: top;\n",
       "    }\n",
       "\n",
       "    .dataframe thead tr th {\n",
       "        text-align: left;\n",
       "    }\n",
       "\n",
       "    .dataframe thead tr:last-of-type th {\n",
       "        text-align: right;\n",
       "    }\n",
       "</style>\n",
       "<table border=\"1\" class=\"dataframe\">\n",
       "  <thead>\n",
       "    <tr>\n",
       "      <th></th>\n",
       "      <th>P47T_persona_log</th>\n",
       "      <th colspan=\"2\" halign=\"left\">P47T_persona</th>\n",
       "    </tr>\n",
       "    <tr>\n",
       "      <th></th>\n",
       "      <th>mean</th>\n",
       "      <th>size</th>\n",
       "      <th>sum</th>\n",
       "    </tr>\n",
       "    <tr>\n",
       "      <th>cnt_bin</th>\n",
       "      <th></th>\n",
       "      <th></th>\n",
       "      <th></th>\n",
       "    </tr>\n",
       "  </thead>\n",
       "  <tbody>\n",
       "    <tr>\n",
       "      <th>(26.343, 15517.919]</th>\n",
       "      <td>3.887052</td>\n",
       "      <td>141178</td>\n",
       "      <td>1.272490e+09</td>\n",
       "    </tr>\n",
       "    <tr>\n",
       "      <th>(15517.919, 25669.954]</th>\n",
       "      <td>4.314175</td>\n",
       "      <td>141178</td>\n",
       "      <td>2.939001e+09</td>\n",
       "    </tr>\n",
       "    <tr>\n",
       "      <th>(25669.954, 33939.435]</th>\n",
       "      <td>4.479820</td>\n",
       "      <td>141177</td>\n",
       "      <td>4.275435e+09</td>\n",
       "    </tr>\n",
       "    <tr>\n",
       "      <th>(33939.435, 40815.469]</th>\n",
       "      <td>4.575180</td>\n",
       "      <td>141178</td>\n",
       "      <td>5.316688e+09</td>\n",
       "    </tr>\n",
       "    <tr>\n",
       "      <th>(40815.469, 51016.211]</th>\n",
       "      <td>4.664639</td>\n",
       "      <td>141178</td>\n",
       "      <td>6.533901e+09</td>\n",
       "    </tr>\n",
       "    <tr>\n",
       "      <th>(51016.211, 63492.54]</th>\n",
       "      <td>4.756137</td>\n",
       "      <td>141177</td>\n",
       "      <td>8.068354e+09</td>\n",
       "    </tr>\n",
       "    <tr>\n",
       "      <th>(63492.54, 78353.384]</th>\n",
       "      <td>4.845468</td>\n",
       "      <td>141178</td>\n",
       "      <td>9.906612e+09</td>\n",
       "    </tr>\n",
       "    <tr>\n",
       "      <th>(78353.384, 100442.763]</th>\n",
       "      <td>4.942458</td>\n",
       "      <td>141177</td>\n",
       "      <td>1.239664e+10</td>\n",
       "    </tr>\n",
       "    <tr>\n",
       "      <th>(100442.763, 138765.832]</th>\n",
       "      <td>5.066299</td>\n",
       "      <td>141178</td>\n",
       "      <td>1.652226e+10</td>\n",
       "    </tr>\n",
       "    <tr>\n",
       "      <th>(138765.832, 22052721.366]</th>\n",
       "      <td>5.311837</td>\n",
       "      <td>141178</td>\n",
       "      <td>3.173569e+10</td>\n",
       "    </tr>\n",
       "  </tbody>\n",
       "</table>\n",
       "</div>"
      ],
      "text/plain": [
       "                           P47T_persona_log P47T_persona              \n",
       "                                       mean         size           sum\n",
       "cnt_bin                                                               \n",
       "(26.343, 15517.919]                3.887052       141178  1.272490e+09\n",
       "(15517.919, 25669.954]             4.314175       141178  2.939001e+09\n",
       "(25669.954, 33939.435]             4.479820       141177  4.275435e+09\n",
       "(33939.435, 40815.469]             4.575180       141178  5.316688e+09\n",
       "(40815.469, 51016.211]             4.664639       141178  6.533901e+09\n",
       "(51016.211, 63492.54]              4.756137       141177  8.068354e+09\n",
       "(63492.54, 78353.384]              4.845468       141178  9.906612e+09\n",
       "(78353.384, 100442.763]            4.942458       141177  1.239664e+10\n",
       "(100442.763, 138765.832]           5.066299       141178  1.652226e+10\n",
       "(138765.832, 22052721.366]         5.311837       141178  3.173569e+10"
      ]
     },
     "execution_count": 135,
     "metadata": {},
     "output_type": "execute_result"
    }
   ],
   "source": [
    "data.groupby('cnt_bin').agg({'P47T_persona_log': 'mean', 'P47T_persona': ['size', 'sum']})\n",
    "# data.groupby('val_bin').agg({'P47T_persona_log': 'mean', 'P47T_persona': ['size', 'sum']})"
   ]
  },
  {
   "cell_type": "code",
   "execution_count": null,
   "metadata": {},
   "outputs": [],
   "source": [
    "3.173569e+10/1.272490e+09"
   ]
  },
  {
   "cell_type": "code",
   "execution_count": 173,
   "metadata": {},
   "outputs": [],
   "source": [
    "n_percibe_ingreso_en_aglos = len(data)/8/frac\n",
    "low_lim = 1/(n_percibe_ingreso_en_aglos)"
   ]
  },
  {
   "cell_type": "code",
   "execution_count": 178,
   "metadata": {},
   "outputs": [
    {
     "data": {
      "image/png": "[encoded data removed]",
      "text/plain": [
       "<Figure size 432x360 with 1 Axes>"
      ]
     },
     "metadata": {
      "needs_background": "light"
     },
     "output_type": "display_data"
    }
   ],
   "source": [
    "data['1 - CDF'] = data.P47T_persona.rank(pct = True, ascending = False)\n",
    "data['log(1 - CDF)'] = np.log10(data['1 - CDF'])\n",
    "\n",
    "fig, ax = plt.subplots(1, figsize = (6, 5))\n",
    "\n",
    "plot_data = data.tail(120000)\n",
    "plot_data.plot(x = 'P47T_persona_log', y = 'log(1 - CDF)', lw = 0, marker = '.', ax = ax)\n",
    "\n",
    "\n",
    "x_fit = plot_data['P47T_persona_log']\n",
    "y_fit = plot_data['log(1 - CDF)']\n",
    "z = np.polyfit(x_fit, y_fit, 1)\n",
    "p = np.poly1d(z)\n",
    "\n",
    "xp = np.linspace(5, 7.5, 2)\n",
    "\n",
    "ax.plot(xp, p(xp), '-', c = 'r', label='%.2f x + %.2f' % tuple(z))\n",
    "ax.axhline(np.log10(low_lim), linestyle = '--')\n",
    "# ax.plot(x, y, '.', label = 'observations', c = '.3')\n",
    "\n",
    "plt.grid()\n",
    "plt.show()"
   ]
  },
  {
   "cell_type": "code",
   "execution_count": 219,
   "metadata": {},
   "outputs": [],
   "source": [
    "# len(np.linspace(1, 0, round(n_percibe_ingreso_en_aglos)))\n",
    "\n",
    "data['T(log(1 - CDF))'] = np.log10(1 - np.arange(1, len(data) + 1)/(len(data) + .5))\n",
    "data.loc[data['log(1 - CDF)'] < -3]\n",
    "a, b = p[1], p[0]\n",
    "data['T(P47T_persona_log)'] = (data['T(log(1 - CDF))'] - b)/a"
   ]
  },
  {
   "cell_type": "code",
   "execution_count": 228,
   "metadata": {},
   "outputs": [],
   "source": [
    "data['P47T_persona_log_fix'] = data['P47T_persona_log']\n",
    "data.loc[data['log(1 - CDF)'] < -3, 'P47T_persona_log_fix',] = data.loc[data['log(1 - CDF)'] < -3, 'T(P47T_persona_log)']\n",
    "\n",
    "data['P47T_persona_fix'] = np.power(10, data['P47T_persona_log_fix'])\n"
   ]
  },
  {
   "cell_type": "code",
   "execution_count": 229,
   "metadata": {},
   "outputs": [
    {
     "data": {
      "image/png": "[encoded data removed]",
      "text/plain": [
       "<Figure size 432x360 with 1 Axes>"
      ]
     },
     "metadata": {
      "needs_background": "light"
     },
     "output_type": "display_data"
    }
   ],
   "source": [
    "data['1 - CDF'] = data.P47T_persona.rank(pct = True, ascending = False)\n",
    "data['log(1 - CDF)'] = np.log10(data['1 - CDF'])\n",
    "\n",
    "fig, ax = plt.subplots(1, figsize = (6, 5))\n",
    "\n",
    "plot_data = data.tail(120000)\n",
    "plot_data.plot(x = 'P47T_persona_log', y = 'log(1 - CDF)', lw = 0, marker = '.', ax = ax)\n",
    "plot_data.tail(2000).plot(x = 'P47T_persona_log_fix', y = 'log(1 - CDF)', lw = 0, marker = '.', ax = ax)\n",
    "\n",
    "\n",
    "# x_fit = plot_data['P47T_persona_log']\n",
    "# y_fit = plot_data['log(1 - CDF)']\n",
    "# z = np.polyfit(x_fit, y_fit, 1)\n",
    "# p = np.poly1d(z)\n",
    "\n",
    "# xp = np.linspace(5, 7.5, 2)\n",
    "\n",
    "# ax.plot(xp, p(xp), '-', c = 'r', label='%.2f x + %.2f' % tuple(z))\n",
    "ax.axhline(np.log10(low_lim), linestyle = '--')\n",
    "# ax.plot(x, y, '.', label = 'observations', c = '.3')\n",
    "\n",
    "plt.grid()\n",
    "\n",
    "plt.show()"
   ]
  },
  {
   "cell_type": "code",
   "execution_count": 236,
   "metadata": {},
   "outputs": [
    {
     "name": "stderr",
     "output_type": "stream",
     "text": [
      "<ipython-input-236-8eb7ae341377>:4: SettingWithCopyWarning: \n",
      "A value is trying to be set on a copy of a slice from a DataFrame.\n",
      "Try using .loc[row_indexer,col_indexer] = value instead\n",
      "\n",
      "See the caveats in the documentation: https://pandas.pydata.org/pandas-docs/stable/user_guide/indexing.html#returning-a-view-versus-a-copy\n",
      "  data_top['cnt_bin'] = pd.qcut(data_top.P47T_persona_fix, nb)\n",
      "<ipython-input-236-8eb7ae341377>:5: SettingWithCopyWarning: \n",
      "A value is trying to be set on a copy of a slice from a DataFrame.\n",
      "Try using .loc[row_indexer,col_indexer] = value instead\n",
      "\n",
      "See the caveats in the documentation: https://pandas.pydata.org/pandas-docs/stable/user_guide/indexing.html#returning-a-view-versus-a-copy\n",
      "  data_top['log_bin'] = pd.cut(data_top.P47T_persona_log_fix, bins = nb)\n",
      "<ipython-input-236-8eb7ae341377>:6: SettingWithCopyWarning: \n",
      "A value is trying to be set on a copy of a slice from a DataFrame.\n",
      "Try using .loc[row_indexer,col_indexer] = value instead\n",
      "\n",
      "See the caveats in the documentation: https://pandas.pydata.org/pandas-docs/stable/user_guide/indexing.html#returning-a-view-versus-a-copy\n",
      "  data_top['val_bin'] = pd.cut(data_top.P47T_persona_fix.cumsum(), bins = nb)\n"
     ]
    }
   ],
   "source": [
    "data_top = data.loc[data['1 - CDF'] < .1]\n",
    "\n",
    "nb = 10\n",
    "data_top['cnt_bin'] = pd.qcut(data_top.P47T_persona_fix, nb)\n",
    "data_top['log_bin'] = pd.cut(data_top.P47T_persona_log_fix, bins = nb)\n",
    "data_top['val_bin'] = pd.cut(data_top.P47T_persona_fix.cumsum(), bins = nb)\n",
    "data_top['val_bin'] = pd.cut(data_top.P47T_persona_fix.cumsum(), bins = nb)\n"
   ]
  },
  {
   "cell_type": "code",
   "execution_count": 237,
   "metadata": {},
   "outputs": [
    {
     "data": {
      "text/html": [
       "<div>\n",
       "<style scoped>\n",
       "    .dataframe tbody tr th:only-of-type {\n",
       "        vertical-align: middle;\n",
       "    }\n",
       "\n",
       "    .dataframe tbody tr th {\n",
       "        vertical-align: top;\n",
       "    }\n",
       "\n",
       "    .dataframe thead tr th {\n",
       "        text-align: left;\n",
       "    }\n",
       "\n",
       "    .dataframe thead tr:last-of-type th {\n",
       "        text-align: right;\n",
       "    }\n",
       "</style>\n",
       "<table border=\"1\" class=\"dataframe\">\n",
       "  <thead>\n",
       "    <tr>\n",
       "      <th></th>\n",
       "      <th>P47T_persona_log_fix</th>\n",
       "      <th colspan=\"2\" halign=\"left\">P47T_persona_fix</th>\n",
       "    </tr>\n",
       "    <tr>\n",
       "      <th></th>\n",
       "      <th>mean</th>\n",
       "      <th>size</th>\n",
       "      <th>sum</th>\n",
       "    </tr>\n",
       "    <tr>\n",
       "      <th>val_bin</th>\n",
       "      <th></th>\n",
       "      <th></th>\n",
       "      <th></th>\n",
       "    </tr>\n",
       "  </thead>\n",
       "  <tbody>\n",
       "    <tr>\n",
       "      <th>(-31391188.929, 3153134242.094]</th>\n",
       "      <td>5.159803</td>\n",
       "      <td>21820</td>\n",
       "      <td>3.153111e+09</td>\n",
       "    </tr>\n",
       "    <tr>\n",
       "      <th>(3153134242.094, 6306129718.355]</th>\n",
       "      <td>5.194029</td>\n",
       "      <td>20162</td>\n",
       "      <td>3.153017e+09</td>\n",
       "    </tr>\n",
       "    <tr>\n",
       "      <th>(6306129718.355, 9459125194.616]</th>\n",
       "      <td>5.226648</td>\n",
       "      <td>18701</td>\n",
       "      <td>3.152852e+09</td>\n",
       "    </tr>\n",
       "    <tr>\n",
       "      <th>(9459125194.616, 12612120670.877]</th>\n",
       "      <td>5.266380</td>\n",
       "      <td>17069</td>\n",
       "      <td>3.153126e+09</td>\n",
       "    </tr>\n",
       "    <tr>\n",
       "      <th>(12612120670.877, 15765116147.138]</th>\n",
       "      <td>5.308716</td>\n",
       "      <td>15482</td>\n",
       "      <td>3.152904e+09</td>\n",
       "    </tr>\n",
       "    <tr>\n",
       "      <th>(15765116147.138, 18918111623.399]</th>\n",
       "      <td>5.355894</td>\n",
       "      <td>13885</td>\n",
       "      <td>3.153010e+09</td>\n",
       "    </tr>\n",
       "    <tr>\n",
       "      <th>(18918111623.399, 22071107099.66]</th>\n",
       "      <td>5.411406</td>\n",
       "      <td>12216</td>\n",
       "      <td>3.153029e+09</td>\n",
       "    </tr>\n",
       "    <tr>\n",
       "      <th>(22071107099.66, 25224102575.921]</th>\n",
       "      <td>5.487213</td>\n",
       "      <td>10253</td>\n",
       "      <td>3.153045e+09</td>\n",
       "    </tr>\n",
       "    <tr>\n",
       "      <th>(25224102575.921, 28377098052.182]</th>\n",
       "      <td>5.607495</td>\n",
       "      <td>7735</td>\n",
       "      <td>3.152534e+09</td>\n",
       "    </tr>\n",
       "    <tr>\n",
       "      <th>(28377098052.182, 31530093528.443]</th>\n",
       "      <td>5.873895</td>\n",
       "      <td>3854</td>\n",
       "      <td>3.153466e+09</td>\n",
       "    </tr>\n",
       "  </tbody>\n",
       "</table>\n",
       "</div>"
      ],
      "text/plain": [
       "                                   P47T_persona_log_fix P47T_persona_fix  \\\n",
       "                                                   mean             size   \n",
       "val_bin                                                                    \n",
       "(-31391188.929, 3153134242.094]                5.159803            21820   \n",
       "(3153134242.094, 6306129718.355]               5.194029            20162   \n",
       "(6306129718.355, 9459125194.616]               5.226648            18701   \n",
       "(9459125194.616, 12612120670.877]              5.266380            17069   \n",
       "(12612120670.877, 15765116147.138]             5.308716            15482   \n",
       "(15765116147.138, 18918111623.399]             5.355894            13885   \n",
       "(18918111623.399, 22071107099.66]              5.411406            12216   \n",
       "(22071107099.66, 25224102575.921]              5.487213            10253   \n",
       "(25224102575.921, 28377098052.182]             5.607495             7735   \n",
       "(28377098052.182, 31530093528.443]             5.873895             3854   \n",
       "\n",
       "                                                  \n",
       "                                             sum  \n",
       "val_bin                                           \n",
       "(-31391188.929, 3153134242.094]     3.153111e+09  \n",
       "(3153134242.094, 6306129718.355]    3.153017e+09  \n",
       "(6306129718.355, 9459125194.616]    3.152852e+09  \n",
       "(9459125194.616, 12612120670.877]   3.153126e+09  \n",
       "(12612120670.877, 15765116147.138]  3.152904e+09  \n",
       "(15765116147.138, 18918111623.399]  3.153010e+09  \n",
       "(18918111623.399, 22071107099.66]   3.153029e+09  \n",
       "(22071107099.66, 25224102575.921]   3.153045e+09  \n",
       "(25224102575.921, 28377098052.182]  3.152534e+09  \n",
       "(28377098052.182, 31530093528.443]  3.153466e+09  "
      ]
     },
     "execution_count": 237,
     "metadata": {},
     "output_type": "execute_result"
    }
   ],
   "source": [
    "data_top.groupby('val_bin').agg({'P47T_persona_log_fix': 'mean', 'P47T_persona_fix': ['size', 'sum']})\n"
   ]
  },
  {
   "cell_type": "code",
   "execution_count": 238,
   "metadata": {},
   "outputs": [
    {
     "data": {
      "text/html": [
       "<div>\n",
       "<style scoped>\n",
       "    .dataframe tbody tr th:only-of-type {\n",
       "        vertical-align: middle;\n",
       "    }\n",
       "\n",
       "    .dataframe tbody tr th {\n",
       "        vertical-align: top;\n",
       "    }\n",
       "\n",
       "    .dataframe thead tr th {\n",
       "        text-align: left;\n",
       "    }\n",
       "\n",
       "    .dataframe thead tr:last-of-type th {\n",
       "        text-align: right;\n",
       "    }\n",
       "</style>\n",
       "<table border=\"1\" class=\"dataframe\">\n",
       "  <thead>\n",
       "    <tr>\n",
       "      <th></th>\n",
       "      <th>P47T_persona_log_fix</th>\n",
       "      <th colspan=\"2\" halign=\"left\">P47T_persona_fix</th>\n",
       "    </tr>\n",
       "    <tr>\n",
       "      <th></th>\n",
       "      <th>mean</th>\n",
       "      <th>size</th>\n",
       "      <th>sum</th>\n",
       "    </tr>\n",
       "    <tr>\n",
       "      <th>cnt_bin</th>\n",
       "      <th></th>\n",
       "      <th></th>\n",
       "      <th></th>\n",
       "    </tr>\n",
       "  </thead>\n",
       "  <tbody>\n",
       "    <tr>\n",
       "      <th>(138765.83200000002, 145436.437]</th>\n",
       "      <td>5.154582</td>\n",
       "      <td>14118</td>\n",
       "      <td>2.015506e+09</td>\n",
       "    </tr>\n",
       "    <tr>\n",
       "      <th>(145436.437, 153057.569]</th>\n",
       "      <td>5.174526</td>\n",
       "      <td>14118</td>\n",
       "      <td>2.110315e+09</td>\n",
       "    </tr>\n",
       "    <tr>\n",
       "      <th>(153057.569, 162454.271]</th>\n",
       "      <td>5.200521</td>\n",
       "      <td>14117</td>\n",
       "      <td>2.240577e+09</td>\n",
       "    </tr>\n",
       "    <tr>\n",
       "      <th>(162454.271, 174077.389]</th>\n",
       "      <td>5.221457</td>\n",
       "      <td>14118</td>\n",
       "      <td>2.351366e+09</td>\n",
       "    </tr>\n",
       "    <tr>\n",
       "      <th>(174077.389, 186593.965]</th>\n",
       "      <td>5.254057</td>\n",
       "      <td>14118</td>\n",
       "      <td>2.534560e+09</td>\n",
       "    </tr>\n",
       "    <tr>\n",
       "      <th>(186593.965, 202454.347]</th>\n",
       "      <td>5.288371</td>\n",
       "      <td>14117</td>\n",
       "      <td>2.743254e+09</td>\n",
       "    </tr>\n",
       "    <tr>\n",
       "      <th>(202454.347, 224396.697]</th>\n",
       "      <td>5.325960</td>\n",
       "      <td>14118</td>\n",
       "      <td>2.991877e+09</td>\n",
       "    </tr>\n",
       "    <tr>\n",
       "      <th>(224396.697, 256678.2]</th>\n",
       "      <td>5.378068</td>\n",
       "      <td>14117</td>\n",
       "      <td>3.373830e+09</td>\n",
       "    </tr>\n",
       "    <tr>\n",
       "      <th>(256678.2, 323201.27]</th>\n",
       "      <td>5.454108</td>\n",
       "      <td>14118</td>\n",
       "      <td>4.025284e+09</td>\n",
       "    </tr>\n",
       "    <tr>\n",
       "      <th>(323201.27, 13317251.296]</th>\n",
       "      <td>5.664543</td>\n",
       "      <td>14118</td>\n",
       "      <td>7.143523e+09</td>\n",
       "    </tr>\n",
       "  </tbody>\n",
       "</table>\n",
       "</div>"
      ],
      "text/plain": [
       "                                 P47T_persona_log_fix P47T_persona_fix  \\\n",
       "                                                 mean             size   \n",
       "cnt_bin                                                                  \n",
       "(138765.83200000002, 145436.437]             5.154582            14118   \n",
       "(145436.437, 153057.569]                     5.174526            14118   \n",
       "(153057.569, 162454.271]                     5.200521            14117   \n",
       "(162454.271, 174077.389]                     5.221457            14118   \n",
       "(174077.389, 186593.965]                     5.254057            14118   \n",
       "(186593.965, 202454.347]                     5.288371            14117   \n",
       "(202454.347, 224396.697]                     5.325960            14118   \n",
       "(224396.697, 256678.2]                       5.378068            14117   \n",
       "(256678.2, 323201.27]                        5.454108            14118   \n",
       "(323201.27, 13317251.296]                    5.664543            14118   \n",
       "\n",
       "                                                \n",
       "                                           sum  \n",
       "cnt_bin                                         \n",
       "(138765.83200000002, 145436.437]  2.015506e+09  \n",
       "(145436.437, 153057.569]          2.110315e+09  \n",
       "(153057.569, 162454.271]          2.240577e+09  \n",
       "(162454.271, 174077.389]          2.351366e+09  \n",
       "(174077.389, 186593.965]          2.534560e+09  \n",
       "(186593.965, 202454.347]          2.743254e+09  \n",
       "(202454.347, 224396.697]          2.991877e+09  \n",
       "(224396.697, 256678.2]            3.373830e+09  \n",
       "(256678.2, 323201.27]             4.025284e+09  \n",
       "(323201.27, 13317251.296]         7.143523e+09  "
      ]
     },
     "execution_count": 238,
     "metadata": {},
     "output_type": "execute_result"
    }
   ],
   "source": [
    "data_top.groupby('cnt_bin').agg({'P47T_persona_log_fix': 'mean', 'P47T_persona_fix': ['size', 'sum']})\n"
   ]
  },
  {
   "cell_type": "code",
   "execution_count": 239,
   "metadata": {},
   "outputs": [
    {
     "name": "stderr",
     "output_type": "stream",
     "text": [
      "<ipython-input-239-82bee59c688f>:2: FutureWarning: ['cnt_bin', 'log_bin', 'val_bin'] did not aggregate successfully. If any error is raised this will raise in a future version of pandas. Drop these columns/ops to avoid this warning.\n",
      "  info = data.groupby('bin').agg(['mean', 'size', 'sum'])['P47T_persona_fix']\n"
     ]
    }
   ],
   "source": [
    "data['bin'] = pd.cut(data.P47T_persona_log_fix, bins = np.arange(1, 8, .1))\n",
    "info = data.groupby('bin').agg(['mean', 'size', 'sum'])['P47T_persona_fix']\n",
    "info[['size', 'sum']] = info[['size', 'sum']].div(info[['size', 'sum']].sum(), 1)\n",
    "# info.sample(5)#.tail()"
   ]
  },
  {
   "cell_type": "code",
   "execution_count": 244,
   "metadata": {},
   "outputs": [
    {
     "data": {
      "text/plain": [
       "5.666617319874173e-08"
      ]
     },
     "execution_count": 244,
     "metadata": {},
     "output_type": "execute_result"
    }
   ],
   "source": [
    "low_lim"
   ]
  },
  {
   "cell_type": "code",
   "execution_count": 246,
   "metadata": {},
   "outputs": [
    {
     "data": {
      "image/png": "[encoded data removed]",
      "text/plain": [
       "<Figure size 432x288 with 1 Axes>"
      ]
     },
     "metadata": {
      "needs_background": "light"
     },
     "output_type": "display_data"
    }
   ],
   "source": [
    "fig, ax = plt.subplots(1, figsize = (6, 4))\n",
    "info.plot(x = 'mean', y = 'size', ax = ax, marker = '.')\n",
    "info.plot(x = 'mean', y = 'sum', ax = ax, marker = '.')\n",
    "ax.set_yscale('log')\n",
    "ax.set_ylim(1e-7, 1)\n",
    "ax.grid()\n",
    "ax.set_xscale('log')"
   ]
  },
  {
   "cell_type": "code",
   "execution_count": 322,
   "metadata": {},
   "outputs": [],
   "source": [
    "data['tot_log(1-CDF)'] = (-np.log10(data['1 - CDF']*frac*8))\n",
    "data['top_group'] = pd.cut(data['tot_log(1-CDF)'], bins = np.arange(1, 9, 1), \n",
    "                           labels=['bottom 90%', 'top 10%', 'top 1%', 'top 0.1%', 'top 0.01%', 'top 0.001%', 'top 0.0001%'])"
   ]
  },
  {
   "cell_type": "code",
   "execution_count": 329,
   "metadata": {},
   "outputs": [],
   "source": [
    "# (data['top_group'].value_counts()/8/frac).sort_index()"
   ]
  },
  {
   "cell_type": "code",
   "execution_count": 327,
   "metadata": {},
   "outputs": [
    {
     "data": {
      "text/html": [
       "<div>\n",
       "<style scoped>\n",
       "    .dataframe tbody tr th:only-of-type {\n",
       "        vertical-align: middle;\n",
       "    }\n",
       "\n",
       "    .dataframe tbody tr th {\n",
       "        vertical-align: top;\n",
       "    }\n",
       "\n",
       "    .dataframe thead th {\n",
       "        text-align: right;\n",
       "    }\n",
       "</style>\n",
       "<table border=\"1\" class=\"dataframe\">\n",
       "  <thead>\n",
       "    <tr style=\"text-align: right;\">\n",
       "      <th></th>\n",
       "      <th>min</th>\n",
       "      <th>max</th>\n",
       "      <th>size</th>\n",
       "      <th>sum</th>\n",
       "      <th>mean</th>\n",
       "    </tr>\n",
       "    <tr>\n",
       "      <th>top_group</th>\n",
       "      <th></th>\n",
       "      <th></th>\n",
       "      <th></th>\n",
       "      <th></th>\n",
       "      <th></th>\n",
       "    </tr>\n",
       "  </thead>\n",
       "  <tbody>\n",
       "    <tr>\n",
       "      <th>bottom 90%</th>\n",
       "      <td>0</td>\n",
       "      <td>126</td>\n",
       "      <td>15441312</td>\n",
       "      <td>62550000</td>\n",
       "      <td>50</td>\n",
       "    </tr>\n",
       "    <tr>\n",
       "      <th>top 10%</th>\n",
       "      <td>126</td>\n",
       "      <td>302</td>\n",
       "      <td>1985312</td>\n",
       "      <td>27970000</td>\n",
       "      <td>176</td>\n",
       "    </tr>\n",
       "    <tr>\n",
       "      <th>top 1%</th>\n",
       "      <td>302</td>\n",
       "      <td>704</td>\n",
       "      <td>198537</td>\n",
       "      <td>6309000</td>\n",
       "      <td>397</td>\n",
       "    </tr>\n",
       "    <tr>\n",
       "      <th>top 0.1%</th>\n",
       "      <td>704</td>\n",
       "      <td>1602</td>\n",
       "      <td>19850</td>\n",
       "      <td>1491000</td>\n",
       "      <td>939</td>\n",
       "    </tr>\n",
       "    <tr>\n",
       "      <th>top 0.01%</th>\n",
       "      <td>1605</td>\n",
       "      <td>3689</td>\n",
       "      <td>1987</td>\n",
       "      <td>342400</td>\n",
       "      <td>2154</td>\n",
       "    </tr>\n",
       "    <tr>\n",
       "      <th>top 0.001%</th>\n",
       "      <td>3769</td>\n",
       "      <td>8957</td>\n",
       "      <td>200</td>\n",
       "      <td>82820</td>\n",
       "      <td>5176</td>\n",
       "    </tr>\n",
       "    <tr>\n",
       "      <th>top 0.0001%</th>\n",
       "      <td>13320</td>\n",
       "      <td>13320</td>\n",
       "      <td>12</td>\n",
       "      <td>13320</td>\n",
       "      <td>13320</td>\n",
       "    </tr>\n",
       "  </tbody>\n",
       "</table>\n",
       "</div>"
      ],
      "text/plain": [
       "               min    max      size       sum   mean\n",
       "top_group                                           \n",
       "bottom 90%       0    126  15441312  62550000     50\n",
       "top 10%        126    302   1985312  27970000    176\n",
       "top 1%         302    704    198537   6309000    397\n",
       "top 0.1%       704   1602     19850   1491000    939\n",
       "top 0.01%     1605   3689      1987    342400   2154\n",
       "top 0.001%    3769   8957       200     82820   5176\n",
       "top 0.0001%  13320  13320        12     13320  13320"
      ]
     },
     "execution_count": 327,
     "metadata": {},
     "output_type": "execute_result"
    }
   ],
   "source": [
    "table = data.groupby('top_group').agg({'P47T_persona_fix': ['min', 'max', 'size', 'sum', 'mean']})['P47T_persona_fix']\n",
    "table['size'] = table['size']/8/frac\n",
    "\n",
    "for col in ['min', 'max', 'sum', 'mean']:\n",
    "    magnitude = np.power(10, np.floor(np.log10(table[col])))\n",
    "    table[col] = np.round(table[col]/magnitude, 3)*magnitude\n",
    "    table[col] = table[col]/1e3\n",
    "\n",
    "table.astype(int)\n",
    "## Miles de pesos ARS"
   ]
  },
  {
   "cell_type": "code",
   "execution_count": 339,
   "metadata": {},
   "outputs": [
    {
     "data": {
      "text/plain": [
       "317.97972414449504"
      ]
     },
     "execution_count": 339,
     "metadata": {},
     "output_type": "execute_result"
    }
   ],
   "source": [
    "## ARS total\n",
    "## Million USD\n",
    "# data['P47T_persona_fix'].sum()/8/frac/220/1e6  # Total income USD\n",
    "data['P47T_persona_fix'].mean()/220  # Mean income USD"
   ]
  },
  {
   "cell_type": "code",
   "execution_count": 341,
   "metadata": {},
   "outputs": [],
   "source": [
    "# data['P47T_persona'].mean()/220  # Mean income USD"
   ]
  },
  {
   "cell_type": "code",
   "execution_count": 325,
   "metadata": {},
   "outputs": [
    {
     "data": {
      "text/plain": [
       "7.058823529411765e-07"
      ]
     },
     "execution_count": 325,
     "metadata": {},
     "output_type": "execute_result"
    }
   ],
   "source": [
    "12/17000000"
   ]
  },
  {
   "cell_type": "code",
   "execution_count": 321,
   "metadata": {},
   "outputs": [
    {
     "data": {
      "text/plain": [
       "17647212.5"
      ]
     },
     "execution_count": 321,
     "metadata": {},
     "output_type": "execute_result"
    }
   ],
   "source": [
    "table['size'].sum()"
   ]
  },
  {
   "cell_type": "code",
   "execution_count": 310,
   "metadata": {},
   "outputs": [
    {
     "data": {
      "text/plain": [
       "1372561.1111111112"
      ]
     },
     "execution_count": 310,
     "metadata": {},
     "output_type": "execute_result"
    }
   ],
   "source": [
    "1235305/9*10"
   ]
  },
  {
   "cell_type": "code",
   "execution_count": 290,
   "metadata": {},
   "outputs": [],
   "source": [
    "# 1985312/9*100"
   ]
  },
  {
   "cell_type": "code",
   "execution_count": null,
   "metadata": {},
   "outputs": [],
   "source": [
    "## Cant total de personas que perciben ingreso (en AGLOS)\n",
    "\n",
    "1411777/8/frac = 17647212.5"
   ]
  },
  {
   "cell_type": "markdown",
   "metadata": {},
   "source": [
    "# Ingreso"
   ]
  },
  {
   "cell_type": "code",
   "execution_count": 46,
   "metadata": {},
   "outputs": [],
   "source": [
    "## INDICE DE PRECIOS - CONVERSION A VALOR CONSTANTE\n",
    "\n",
    "cpi_M = pd.read_csv('https://raw.githubusercontent.com/matuteiglesias/IPC-Argentina/main/data/info/indice_precios_M.csv', index_col=0)\n",
    "cpi_M.index = pd.to_datetime(cpi_M.index)\n",
    "\n",
    "from datetime import datetime as dt\n",
    "  \n",
    "# Getting current date and time\n",
    "today = dt.today()\n",
    "ref = '2016-01'\n",
    "\n",
    "cpi_actual = cpi_M.loc[today.strftime(\"%Y-%m\")]['index'][0]\n",
    "cpi_ref = cpi_M.loc[ref]['index'][0]\n",
    "\n",
    "df_ARShoy = df*(cpi_actual/cpi_ref)"
   ]
  },
  {
   "cell_type": "code",
   "execution_count": 47,
   "metadata": {},
   "outputs": [],
   "source": [
    "import matplotlib.ticker as mtick\n",
    "\n",
    "def moving_avg(table):\n",
    "    ## Label left. The roilling means are centered nearly on the right date, although one day early.\n",
    "    # i.e. 2009-12-31 is the average for 07-2009 to 06-2010\n",
    "    return table.resample('QS').mean().interpolate('linear').rolling(4, center = True).mean()\n"
   ]
  },
  {
   "cell_type": "markdown",
   "metadata": {},
   "source": [
    "## Ingreso Total Familiar y Canastas. "
   ]
  },
  {
   "cell_type": "code",
   "execution_count": null,
   "metadata": {},
   "outputs": [],
   "source": [
    "fig, ax = plt.subplots(1, figsize = (8, 6))\n",
    "\n",
    "colors = ['#1f77b4', '#ff7f0e', '#d62728']\n",
    "\n",
    "data = df_ARShoy\n",
    "for i, v in enumerate(['P47T_hogar', 'CBT', 'CBA']):\n",
    "    c = colors[i]\n",
    "    ax.fill_between(x = data.index, y1 = data[v].q25, y2 = data[v].q75, color = '.8', alpha = .3)\n",
    "    data[v]['median'].plot(ax =ax, color = '.5', lw = .3)\n",
    "    \n",
    "    if v == 'P47T_hogar':\n",
    "        moving_avg(data[v]['mean']).plot(ax = ax, lw = 1.5, color = c, linestyle = '--')\n",
    "        data[v]['mean'].plot(ax =ax, marker = '.', lw = 0, color = c, alpha = .5)\n",
    "        \n",
    "    else:\n",
    "        data[v]['mean'].plot(ax =ax, color = c, linestyle = '--')\n",
    "    \n",
    "## Plot Format\n",
    "ax.set_title('INGRESO TOTAL FAMILIAR Y CANASTA FAMILIAR')\n",
    "ax.grid(linestyle = '--') # Grid\n",
    "# Limites\n",
    "ax.set_xlim('2003', '2022') # Limites X\n",
    "ax.set_ylim(0, 3e5) # Limites Y\n",
    "# Formatos de ejes X, Y\n",
    "ax.set_xlabel('Trimestre')  # Label X\n",
    "ax.set_ylabel('ARS '+today.strftime(\"%b-%Y\"), rotation=270)  # Label Y\n",
    "ax.yaxis.tick_right()\n",
    "ax.yaxis.set_label_position(\"right\")\n",
    "ax.yaxis.set_ticks_position('both')\n",
    "ax.yaxis.set_major_formatter(mtick.EngFormatter(unit=''))\n",
    "\n",
    "# Leyenda\n",
    "pts1 = mlines.Line2D([], [], marker = '.', color=colors[0], lw = 0, label='Ingreso TF')\n",
    "pts2 = mlines.Line2D([], [], color=colors[1], lw = 2, label='CB total')\n",
    "pts3 = mlines.Line2D([], [], color=colors[2], lw = 2, label='CB alimentaria')\n",
    "medianLine = mlines.Line2D([], [], color='.5', lw = .3, label='mediana')\n",
    "meanLine = mlines.Line2D([], [], color='.5', linestyle = '--', lw = 1.5, label='promedio')\n",
    "grayPatch = mpatches.Patch(color='.8', alpha = .3, label='25% - 75%')\n",
    "\n",
    "ax.legend(handles=[pts1, pts2, pts3, meanLine, medianLine, grayPatch], numpoints = 3, labelspacing = .2)\n",
    "\n",
    "############\n",
    "plt.tight_layout()\n",
    "plt.savefig('./../images/ingreso1.png')\n",
    "plt.show()"
   ]
  },
  {
   "cell_type": "markdown",
   "metadata": {},
   "source": [
    "## Ingreso Per Capita Familiar y Canastas. "
   ]
  },
  {
   "cell_type": "code",
   "execution_count": null,
   "metadata": {},
   "outputs": [],
   "source": [
    "fig, ax = plt.subplots(1, figsize = (8, 6))\n",
    "\n",
    "colors = ['#8c564b']\n",
    "\n",
    "for i, (data, v) in enumerate([(df_ARShoy, 'IPCF')]):\n",
    "    c = colors[i]\n",
    "    ax.fill_between(x = data.index, y1 = data[v].q25, y2 = data[v].q75, color = '.8', alpha = .3)\n",
    "    data[v]['mean'].plot(ax =ax, marker = '.', lw = 0, color = c, alpha = .5)\n",
    "    data[v]['median'].plot(ax =ax, color = '.5', lw = .3)\n",
    "    moving_avg(data[v]['mean']).plot(ax = ax, lw = 1.5, color = c, linestyle = '--')\n",
    "    \n",
    "## Plot Format\n",
    "ax.set_title('INGRESO PER CAPITA FAMILIAR')\n",
    "ax.grid(linestyle = '--') # Grid\n",
    "# Limites\n",
    "ax.set_xlim('2003', '2022') # Limites X\n",
    "ax.set_ylim(0, 1.2e5) # Limites Y\n",
    "# Formatos de ejes X, Y\n",
    "ax.set_xlabel('Trimestre')  # Label X\n",
    "ax.set_ylabel('ARS '+today.strftime(\"%b-%Y\"), rotation=270)  # Label Y\n",
    "ax.yaxis.tick_right()\n",
    "ax.yaxis.set_label_position(\"right\")\n",
    "ax.yaxis.set_ticks_position('both')\n",
    "ax.yaxis.set_major_formatter(mtick.EngFormatter(unit=''))\n",
    "\n",
    "# Leyenda\n",
    "pts1 = mlines.Line2D([], [], marker = '.', color=colors[0], lw = 0, label='Ingreso PCF')\n",
    "medianLine = mlines.Line2D([], [], color='.5', lw = .3, label='mediana')\n",
    "meanLine = mlines.Line2D([], [], color='.5', linestyle = '--', lw = 1.5, label='promedio')\n",
    "grayPatch = mpatches.Patch(color='.8', alpha = .3, label='25% - 75%')\n",
    "\n",
    "ax.legend(handles=[pts1, meanLine, medianLine, grayPatch], numpoints = 3)\n",
    "\n",
    "############\n",
    "plt.tight_layout()\n",
    "plt.savefig('./../images/ingreso2.png')\n",
    "plt.show()"
   ]
  },
  {
   "cell_type": "markdown",
   "metadata": {},
   "source": [
    "# Series de Tiempo. Hogares en Pobreza e Indigencia"
   ]
  },
  {
   "cell_type": "code",
   "execution_count": null,
   "metadata": {},
   "outputs": [],
   "source": [
    "# Stats Hogares en Pobreza e Indigencia\n",
    "\n",
    "df_listP = []\n",
    "df_listI = []\n",
    "for f in allFiles:\n",
    "    print(f)\n",
    "    \n",
    "    vars_ = ['Pobreza', 'Indigencia', 'P47T_hogar', 'CBA', 'CBT', 'gap_pobreza', 'gap_indigencia', 'IX_TOT']\n",
    "    data = pd.read_csv(f, usecols = ['HOGAR_REF_ID', 'Q', 'AGLOMERADO'] + vars_)\n",
    "    data = data.loc[data.AGLOMERADO != 0]\n",
    "    data = data.drop_duplicates()\n",
    "    data['IPCF'] = data['P47T_hogar']/data['IX_TOT']\n",
    "    \n",
    "    dataP = data.loc[data.Pobreza == True]\n",
    "    tableP = dataP.groupby(['Q'])[mon_cols].agg(['mean', q10, q25, 'median', q75, q90])\n",
    "    df_listP += [tableP]\n",
    "    \n",
    "    dataI = data.loc[data.Indigencia == True]\n",
    "    tableI = dataI.groupby(['Q'])[mon_cols].agg(['mean', q10, q25, 'median', q75, q90])\n",
    "    df_listI += [tableI]"
   ]
  },
  {
   "cell_type": "code",
   "execution_count": null,
   "metadata": {},
   "outputs": [],
   "source": [
    "dfHpob = pd.concat(df_listP)\n",
    "dfHind = pd.concat(df_listI)\n",
    "\n",
    "dfHpob.index = pd.to_datetime(dfHpob.index)\n",
    "dfHind.index = pd.to_datetime(dfHind.index)\n",
    "\n",
    "dfHpob_ARShoy = dfHpob*(cpi_actual/cpi_ref)\n",
    "dfHind_ARShoy = dfHind*(cpi_actual/cpi_ref)"
   ]
  },
  {
   "cell_type": "markdown",
   "metadata": {},
   "source": [
    "## Brechas de Pobreza e Indigencia"
   ]
  },
  {
   "cell_type": "code",
   "execution_count": null,
   "metadata": {},
   "outputs": [],
   "source": [
    "fig, ax = plt.subplots(1, figsize = (8, 6))\n",
    "\n",
    "colors = ['#d62728', '#ff7f0e']\n",
    "\n",
    "for i, (data, v) in enumerate([(dfHind_ARShoy, 'gap_indigencia'), (dfHpob_ARShoy, 'gap_pobreza')]):\n",
    "    c = colors[i]\n",
    "    ax.fill_between(x = data.index, y1 = data[v].q25, y2 = data[v].q75, color = '.8', alpha = .3)\n",
    "    data[v]['mean'].plot(ax =ax, marker = '.', lw = 0, color = c, alpha = .5)\n",
    "    data[v]['median'].plot(ax =ax, color = '.5', lw = .3)\n",
    "    moving_avg(data[v]['mean']).plot(ax = ax, lw = 1.5, color = c, linestyle = '--')\n",
    "    \n",
    "## Plot Format\n",
    "ax.set_title('Brechas de Pobreza e Indigencia')\n",
    "ax.grid(linestyle = '--') # Grid\n",
    "# Limites\n",
    "ax.set_xlim('2003', '2022') # Limites X\n",
    "ax.set_ylim(-1e5, 0) # Limites Y\n",
    "# Formatos de ejes X, Y\n",
    "ax.set_xlabel('Trimestre')  # Label X\n",
    "ax.set_ylabel('ARS '+today.strftime(\"%b-%Y\"), rotation=270)  # Label Y\n",
    "ax.yaxis.tick_right()\n",
    "ax.yaxis.set_label_position(\"right\")\n",
    "ax.yaxis.set_ticks_position('both')\n",
    "ax.yaxis.set_major_formatter(mtick.EngFormatter(unit=''))\n",
    "\n",
    "# Leyenda\n",
    "pts1 = mlines.Line2D([], [], marker = '.', color=colors[0], lw = 0, label='Brecha Indigentes')\n",
    "pts2 = mlines.Line2D([], [], marker = '.', color=colors[1], lw = 0, label='Brecha Pobres')\n",
    "medianLine = mlines.Line2D([], [], color='.5', lw = .3, label='mediana')\n",
    "meanLine = mlines.Line2D([], [], color='.5', linestyle = '--', lw = 1.5, label='promedio')\n",
    "grayPatch = mpatches.Patch(color='.8', alpha = .3, label='25% - 75%')\n",
    "\n",
    "ax.legend(handles=[pts1, pts2, meanLine, medianLine, grayPatch], numpoints = 3)\n",
    "\n",
    "############\n",
    "plt.tight_layout()\n",
    "plt.savefig('./../images/ingreso3.png')\n",
    "plt.show()"
   ]
  },
  {
   "cell_type": "code",
   "execution_count": null,
   "metadata": {},
   "outputs": [],
   "source": [
    "df_list2D = []\n",
    "\n",
    "for f in allFiles:\n",
    "    df_list = []\n",
    "    \n",
    "    print(f)\n",
    "    cat_vars = ['Pobreza', 'Indigencia', 'CAT_OCUP', 'CAT_INAC', 'P02', 'INGRESO', 'INGRESO_JUB', 'Grupo_Etario_INDEC', 'PP07K']\n",
    "    vars_ = ['P47T_persona']\n",
    "    \n",
    "    data = pd.read_csv(f, usecols = ['Q', 'AGLOMERADO'] + cat_vars + vars_)\n",
    "    data = data.loc[data.AGLOMERADO != 0]\n",
    "    \n",
    "    for cat_v in cat_vars:\n",
    "        table = data.groupby(['Q', cat_v])['P47T_persona'].agg(['mean', q10, q25, 'median', q75, q90])\n",
    "        df_list += [table]\n",
    "        \n",
    "    df_list2D += [df_list]\n",
    "    \n",
    "dfs = np.array(df_list2D)"
   ]
  },
  {
   "cell_type": "code",
   "execution_count": null,
   "metadata": {},
   "outputs": [],
   "source": [
    "## Create tables for plotting next\n",
    "\n",
    "for i, cat_v_tables in enumerate(list(dfs.T)):\n",
    "    cat_var = cat_vars[i] \n",
    "    \n",
    "    table = pd.concat(cat_v_tables)\n",
    "    table = table.stack().unstack([-2, -1])\n",
    "    table.index = pd.to_datetime(table.index)\n",
    "    table = table*(cpi_actual/cpi_ref)\n",
    "    \n",
    "    globals()['table_' + cat_var] = table"
   ]
  },
  {
   "cell_type": "markdown",
   "metadata": {},
   "source": [
    "## Personas con Ingreso"
   ]
  },
  {
   "cell_type": "code",
   "execution_count": null,
   "metadata": {},
   "outputs": [],
   "source": [
    "fig, ax = plt.subplots(1, figsize = (8, 6))\n",
    "\n",
    "## INGRESO == 1\n",
    "data = table_INGRESO; v = 1; ## Tabla y valor de la categoria en cuestion\n",
    "c = 'k'\n",
    "ax.fill_between(x = data.index, y1 = data[v].q25, y2 = data[v].q75, color = '.8', alpha = .3)\n",
    "data[v]['mean'].plot(ax =ax, marker = '.', lw = 0, color = c, alpha = .5)\n",
    "data[v]['median'].plot(ax =ax, color = '.5', lw = .3)\n",
    "moving_avg(data[v]['mean']).plot(ax = ax, lw = 1.5, color = c, linestyle = '--')\n",
    "    \n",
    "## Plot Format\n",
    "ax.set_title('Personas con INGRESO')\n",
    "ax.grid(linestyle = '--') # Grid\n",
    "# Limites\n",
    "ax.set_xlim('2003', '2022') # Limites X\n",
    "ax.set_ylim(0, 1.5e5) # Limites Y\n",
    "# Formatos de ejes X, Y\n",
    "ax.set_xlabel('Trimestre')  # Label X\n",
    "ax.set_ylabel('ARS '+today.strftime(\"%b-%Y\"), rotation=270)  # Label Y\n",
    "ax.yaxis.tick_right()\n",
    "ax.yaxis.set_label_position(\"right\")\n",
    "ax.yaxis.set_ticks_position('both')\n",
    "ax.yaxis.set_major_formatter(mtick.EngFormatter(unit=''))\n",
    "\n",
    "# Leyenda\n",
    "pts1 = mlines.Line2D([], [], marker = '.', color='k', lw = 0, label='Ingreso')\n",
    "medianLine = mlines.Line2D([], [], color='.5', lw = .3, label='mediana')\n",
    "meanLine = mlines.Line2D([], [], color='.5', linestyle = '--', lw = 1.5, label='promedio')\n",
    "grayPatch = mpatches.Patch(color='.8', alpha = .3, label='25% - 75%')\n",
    "\n",
    "ax.legend(handles=[pts1, medianLine, meanLine, grayPatch], numpoints = 3, labelspacing = .2)\n",
    "\n",
    "############\n",
    "plt.tight_layout()\n",
    "plt.savefig('./../images/ingreso4.png')\n",
    "plt.show()"
   ]
  },
  {
   "cell_type": "markdown",
   "metadata": {},
   "source": [
    "## Personas con Ingreso. Grupos etarios y Jubilados."
   ]
  },
  {
   "cell_type": "code",
   "execution_count": null,
   "metadata": {},
   "outputs": [],
   "source": [
    "fig, ax = plt.subplots(1, figsize = (8, 6))\n",
    "\n",
    "## GRUPOS ETARIOS\n",
    "data = table_Grupo_Etario_INDEC; \n",
    "\n",
    "colors = ['#2ca02c', '#9467bd', '#6e4196']\n",
    "for i, v in enumerate(['(29, 64]', '(64, 110]']):\n",
    "    c = colors[i]\n",
    "    \n",
    "    ax.fill_between(x = data.index, y1 = data[v].q25, y2 = data[v].q75, color = '.8', alpha = .3)\n",
    "    data[v]['mean'].plot(ax =ax, marker = '.', lw = 0, color = c, alpha = .5)\n",
    "#     data[v]['median'].plot(ax =ax, color = '.5', lw = .3)\n",
    "    moving_avg(data[v]['mean']).plot(ax = ax, lw = 1.5, color = c, linestyle = '--')\n",
    "    \n",
    "## CAT_INAC == JUBILADOS\n",
    "data = table_CAT_INAC; v = 1; ## Tabla y valor de la categoria en cuestion\n",
    "c = colors[2]\n",
    "ax.fill_between(x = data.index, y1 = data[v].q25, y2 = data[v].q75, color = '.8', alpha = .3)\n",
    "data[v]['mean'].plot(ax =ax, marker = '.', lw = 0, color = c, alpha = .5)\n",
    "# data[v]['median'].plot(ax =ax, color = c, lw = .3)\n",
    "moving_avg(data[v]['mean']).plot(ax = ax, lw = 1.5, color = c, linestyle = '--')\n",
    "    \n",
    "## Plot Format\n",
    "ax.set_title('INGRESO por grupo etario')\n",
    "ax.grid(linestyle = '--') # Grid\n",
    "# Limites\n",
    "ax.set_xlim('2003', '2022') # Limites X\n",
    "ax.set_ylim(0, 1.5e5) # Limites Y\n",
    "# Formatos de ejes X, Y\n",
    "ax.set_xlabel('Trimestre')  # Label X\n",
    "ax.set_ylabel('ARS '+today.strftime(\"%b-%Y\"), rotation=270)  # Label Y\n",
    "ax.yaxis.tick_right()\n",
    "ax.yaxis.set_label_position(\"right\")\n",
    "ax.yaxis.set_ticks_position('both')\n",
    "ax.yaxis.set_major_formatter(mtick.EngFormatter(unit=''))\n",
    "\n",
    "# Leyenda\n",
    "pts1 = mlines.Line2D([], [], marker = '.', color=colors[0], lw = 0, label='29 a 64')\n",
    "pts2 = mlines.Line2D([], [], marker = '.', color=colors[1], lw = 0, label='65 o mas')\n",
    "pts3 = mlines.Line2D([], [], marker = '.', color=colors[2], lw = 0, label='Jubilados')\n",
    "# medianLine = mlines.Line2D([], [], color='.5', lw = .3, label='mediana')\n",
    "meanLine = mlines.Line2D([], [], color='.5', linestyle = '--', lw = 1.5, label='promedio')\n",
    "grayPatch = mpatches.Patch(color='.8', alpha = .3, label='25% - 75%')\n",
    "\n",
    "ax.legend(handles=[pts1, pts2, pts3, meanLine, grayPatch], numpoints = 3, labelspacing = .2)\n",
    "\n",
    "############\n",
    "plt.tight_layout()\n",
    "plt.savefig('./../images/ingreso5.png')\n",
    "plt.show()"
   ]
  },
  {
   "cell_type": "markdown",
   "metadata": {},
   "source": [
    "## Ingresos por condicion de Pobreza / Indigencia"
   ]
  },
  {
   "cell_type": "code",
   "execution_count": null,
   "metadata": {},
   "outputs": [],
   "source": [
    "fig, ax = plt.subplots(1, figsize = (8, 6))\n",
    "\n",
    "## CAT_INAC == JUBILADOS\n",
    "colors = ['#2ca02c', '#ff7f0e', '#d62728']\n",
    "for i, (data, v) in enumerate([(table_Pobreza, 0), (table_Pobreza, 1), (table_Indigencia, 1)]):\n",
    "    c = colors[i]\n",
    "\n",
    "    ax.fill_between(x = data.index, y1 = data[v].q25, y2 = data[v].q75, color = '.8', alpha = .3)\n",
    "    data[v]['mean'].plot(ax =ax, marker = '.', lw = 0, color = c, alpha = .5)\n",
    "    data[v]['median'].plot(ax =ax, color = '.5', lw = .3)\n",
    "    moving_avg(data[v]['mean']).plot(ax = ax, lw = 1.5, color = c, linestyle = '--')\n",
    "\n",
    "## Plot Format\n",
    "ax.set_title('INGRESO por condicion de pobreza')\n",
    "ax.grid(linestyle = '--') # Grid\n",
    "# Limites\n",
    "ax.set_xlim('2003', '2022') # Limites X\n",
    "ax.set_ylim(0, 1.5e5) # Limites Y\n",
    "# Formatos de ejes X, Y\n",
    "ax.set_xlabel('Trimestre')  # Label X\n",
    "ax.set_ylabel('ARS '+today.strftime(\"%b-%Y\"), rotation=270)  # Label Y\n",
    "ax.yaxis.tick_right()\n",
    "ax.yaxis.set_label_position(\"right\")\n",
    "ax.yaxis.set_ticks_position('both')\n",
    "ax.yaxis.set_major_formatter(mtick.EngFormatter(unit=''))\n",
    "\n",
    "# Leyenda\n",
    "pts1 = mlines.Line2D([], [], marker = '.', color=colors[0], lw = 0, label='No Pobre')\n",
    "pts2 = mlines.Line2D([], [], marker = '.', color=colors[1], lw = 0, label='Pobre')\n",
    "pts3 = mlines.Line2D([], [], marker = '.', color=colors[2], lw = 0, label='Indigente')\n",
    "medianLine = mlines.Line2D([], [], color='.5', lw = .3, label='mediana')\n",
    "meanLine = mlines.Line2D([], [], color='.5', linestyle = '--', lw = 1.5, label='promedio')\n",
    "grayPatch = mpatches.Patch(color='.8', alpha = .3, label='25% - 75%')\n",
    "\n",
    "ax.legend(handles=[pts1, pts2, pts3, meanLine, medianLine, grayPatch], numpoints = 3, labelspacing = .2)\n",
    "\n",
    "############\n",
    "plt.tight_layout()\n",
    "plt.savefig('./../images/ingreso6.png')\n",
    "plt.show()"
   ]
  },
  {
   "cell_type": "markdown",
   "metadata": {},
   "source": [
    "## Ingresos por genero"
   ]
  },
  {
   "cell_type": "code",
   "execution_count": null,
   "metadata": {},
   "outputs": [],
   "source": [
    "fig, ax = plt.subplots(1, figsize = (8, 6))\n",
    "\n",
    "## GRUPOS ETARIOS\n",
    "data = table_P02; \n",
    "colors = ['#17becf', '#e377c2']\n",
    "for i, v in enumerate([1, 2]):\n",
    "    c = colors[i]\n",
    "    label = ['Varon', 'Mujer'][i]\n",
    "    pts, = ax.plot(data[v]['mean'], marker = '.', lw = 0, color = c, alpha = .5, label = label)\n",
    "    data[v]['median'].plot(ax =ax, color = c, lw = .3)\n",
    "    moving_avg(data[v]['mean']).plot(ax = ax, lw = 1.5, color = c, linestyle = '--')\n",
    "    ax.fill_between(x = data.index, y1 = data[v].q25, y2 = data[v].q75, color = '.8', alpha = .3)\n",
    "    \n",
    "## Plot Format\n",
    "ax.set_title('INGRESO por genero') # Titulo\n",
    "ax.grid(linestyle = '--') # Grid\n",
    "# Limites\n",
    "ax.set_xlim('2003', '2022') # Limites X\n",
    "ax.set_ylim(0, 1.5e5) # Limites Y\n",
    "# Formatos de ejes X, Y\n",
    "ax.set_xlabel('Trimestre')  # Label X\n",
    "ax.set_ylabel('ARS '+today.strftime(\"%b-%Y\"), rotation=270)  # Label Y\n",
    "ax.yaxis.tick_right()\n",
    "ax.yaxis.set_label_position(\"right\")\n",
    "ax.yaxis.set_ticks_position('both')\n",
    "ax.yaxis.set_major_formatter(mtick.EngFormatter(unit=''))\n",
    "\n",
    "# Leyenda\n",
    "pts1 = mlines.Line2D([], [], marker = '.', color=colors[0], lw = 0, label='Varon')\n",
    "pts2 = mlines.Line2D([], [], marker = '.', color=colors[1], lw = 0, label='Mujer')\n",
    "medianLine = mlines.Line2D([], [], color='.5', lw = .3, label='mediana')\n",
    "meanLine = mlines.Line2D([], [], color='.5', linestyle = '--', lw = 1.5, label='promedio')\n",
    "grayPatch = mpatches.Patch(color='.8', alpha = .3, label='25% - 75%')\n",
    "\n",
    "ax.legend(handles=[pts1, pts2, meanLine, medianLine, grayPatch], numpoints = 3)\n",
    "\n",
    "############\n",
    "plt.tight_layout()\n",
    "plt.savefig('./../images/ingreso7.png')\n",
    "plt.show()"
   ]
  },
  {
   "cell_type": "code",
   "execution_count": null,
   "metadata": {},
   "outputs": [],
   "source": []
  },
  {
   "cell_type": "code",
   "execution_count": null,
   "metadata": {},
   "outputs": [],
   "source": [
    "# ['P02', 'CAT_OCUP', 'CAT_INAC', 'INGRESO', 'Grupo_Etario_INDEC', 'PP07K', 'Pobreza', 'Indigencia'\n",
    "# 'CBA', 'CBT', 'CB_EQUIV', 'P47T_persona', 'P47T_hogar', 'gap_pobreza', 'gap_indigencia']"
   ]
  },
  {
   "cell_type": "code",
   "execution_count": null,
   "metadata": {},
   "outputs": [],
   "source": []
  }
 ],
 "metadata": {
  "kernelspec": {
   "display_name": "Python 3",
   "language": "python",
   "name": "python3"
  },
  "language_info": {
   "codemirror_mode": {
    "name": "ipython",
    "version": 3
   },
   "file_extension": ".py",
   "mimetype": "text/x-python",
   "name": "python",
   "nbconvert_exporter": "python",
   "pygments_lexer": "ipython3",
   "version": "3.8.5"
  }
 },
 "nbformat": 4,
 "nbformat_minor": 4
}
