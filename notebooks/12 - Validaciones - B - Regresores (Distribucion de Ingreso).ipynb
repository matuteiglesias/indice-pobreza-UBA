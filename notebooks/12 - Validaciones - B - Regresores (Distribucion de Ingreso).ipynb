{
 "cells": [
  {
   "cell_type": "code",
   "execution_count": 1,
   "metadata": {},
   "outputs": [],
   "source": [
    "import pandas as pd"
   ]
  },
  {
   "cell_type": "code",
   "execution_count": null,
   "metadata": {},
   "outputs": [],
   "source": []
  },
  {
   "cell_type": "code",
   "execution_count": 2,
   "metadata": {
    "collapsed": true
   },
   "outputs": [
    {
     "data": {
      "text/plain": [
       "['./../data/Pobreza/pobreza_0.01_q2010-02-15.csv',\n",
       " './../data/Pobreza/pobreza_0.01_q2010-05-15.csv',\n",
       " './../data/Pobreza/pobreza_0.01_q2010-08-15.csv',\n",
       " './../data/Pobreza/pobreza_0.01_q2010-11-15.csv',\n",
       " './../data/Pobreza/pobreza_0.01_q2011-02-15.csv',\n",
       " './../data/Pobreza/pobreza_0.01_q2011-05-15.csv',\n",
       " './../data/Pobreza/pobreza_0.01_q2011-08-15.csv',\n",
       " './../data/Pobreza/pobreza_0.01_q2011-11-15.csv',\n",
       " './../data/Pobreza/pobreza_0.01_q2012-02-15.csv',\n",
       " './../data/Pobreza/pobreza_0.01_q2012-05-15.csv',\n",
       " './../data/Pobreza/pobreza_0.01_q2012-08-15.csv',\n",
       " './../data/Pobreza/pobreza_0.01_q2012-11-15.csv',\n",
       " './../data/Pobreza/pobreza_0.01_q2013-02-15.csv',\n",
       " './../data/Pobreza/pobreza_0.01_q2013-05-15.csv',\n",
       " './../data/Pobreza/pobreza_0.01_q2013-08-15.csv',\n",
       " './../data/Pobreza/pobreza_0.01_q2013-11-15.csv',\n",
       " './../data/Pobreza/pobreza_0.01_q2014-02-15.csv',\n",
       " './../data/Pobreza/pobreza_0.01_q2014-05-15.csv',\n",
       " './../data/Pobreza/pobreza_0.01_q2014-08-15.csv',\n",
       " './../data/Pobreza/pobreza_0.01_q2014-11-15.csv',\n",
       " './../data/Pobreza/pobreza_0.01_q2015-02-15.csv',\n",
       " './../data/Pobreza/pobreza_0.01_q2015-05-15.csv',\n",
       " './../data/Pobreza/pobreza_0.01_q2016-05-15.csv',\n",
       " './../data/Pobreza/pobreza_0.01_q2016-08-15.csv',\n",
       " './../data/Pobreza/pobreza_0.01_q2016-11-15.csv',\n",
       " './../data/Pobreza/pobreza_0.01_q2017-02-15.csv',\n",
       " './../data/Pobreza/pobreza_0.01_q2017-05-15.csv',\n",
       " './../data/Pobreza/pobreza_0.01_q2017-08-15.csv',\n",
       " './../data/Pobreza/pobreza_0.01_q2017-11-15.csv',\n",
       " './../data/Pobreza/pobreza_0.01_q2018-02-15.csv',\n",
       " './../data/Pobreza/pobreza_0.01_q2018-05-15.csv',\n",
       " './../data/Pobreza/pobreza_0.01_q2018-08-15.csv',\n",
       " './../data/Pobreza/pobreza_0.01_q2018-11-15.csv',\n",
       " './../data/Pobreza/pobreza_0.01_q2019-02-15.csv',\n",
       " './../data/Pobreza/pobreza_0.01_q2019-05-15.csv',\n",
       " './../data/Pobreza/pobreza_0.01_q2019-08-15.csv',\n",
       " './../data/Pobreza/pobreza_0.01_q2019-11-15.csv',\n",
       " './../data/Pobreza/pobreza_0.01_q2020-02-15.csv',\n",
       " './../data/Pobreza/pobreza_0.01_q2020-05-15.csv',\n",
       " './../data/Pobreza/pobreza_0.01_q2020-08-15.csv',\n",
       " './../data/Pobreza/pobreza_0.01_q2020-11-15.csv',\n",
       " './../data/Pobreza/pobreza_0.01_q2021-02-15.csv',\n",
       " './../data/Pobreza/pobreza_0.01_q2021-05-15.csv',\n",
       " './../data/Pobreza/pobreza_0.01_q2021-08-15.csv',\n",
       " './../data/Pobreza/pobreza_0.01_q2021-11-15.csv']"
      ]
     },
     "execution_count": 2,
     "metadata": {},
     "output_type": "execute_result"
    }
   ],
   "source": [
    "import matplotlib.pyplot as plt\n",
    "import pandas as pd\n",
    "import datetime as dt\n",
    "from IPython.display import display, Markdown, Latex\n",
    "import numpy as np\n",
    "\n",
    "import glob\n",
    "frac = 0.01\n",
    "# path ='./data/RFReg_' # use your path\n",
    "path ='./../data/Pobreza/pobreza_' # use your path\n",
    "\n",
    "allFiles = []\n",
    "allFiles += glob.glob(path+str(frac)+'_q*.csv')\n",
    "allFiles = sorted(allFiles)\n",
    "allFiles"
   ]
  },
  {
   "cell_type": "code",
   "execution_count": 3,
   "metadata": {},
   "outputs": [],
   "source": [
    "cpi_M = pd.read_csv('https://raw.githubusercontent.com/matuteiglesias/IPC-Argentina/main/data/info/indice_precios_M.csv', index_col=0)\n",
    "cpi_M.index = pd.to_datetime(cpi_M.index)\n",
    "\n",
    "cpi_Q = pd.read_csv('https://raw.githubusercontent.com/matuteiglesias/IPC-Argentina/main/data/info/indice_precios_Q.csv', index_col=0)\n",
    "cpi_Q.index = pd.to_datetime(cpi_Q.index)\n",
    "\n",
    "cpi_actual = cpi_M.loc['2022-05']['index'][0]\n",
    "cpi_2010Q4 = cpi_Q.loc['2010-11']['index'][0]\n",
    "cpi_ref = cpi_M.loc['2016-01']['index'][0]"
   ]
  },
  {
   "cell_type": "code",
   "execution_count": 4,
   "metadata": {},
   "outputs": [],
   "source": [
    "aglo_labels = pd.read_csv('./../data/info/aglo_labels.csv')"
   ]
  },
  {
   "cell_type": "code",
   "execution_count": 5,
   "metadata": {},
   "outputs": [],
   "source": [
    "# df_list = []\n",
    "# for f in allFiles:\n",
    "#     print(f)\n",
    "    \n",
    "f = './../data/Pobreza/pobreza_0.01_q2010-11-15.csv'\n",
    "groupers = ['AGLOMERADO', 'PROV', 'NOMPROV']\n",
    "vars_ = ['INGRESO', 'P47T_persona']\n",
    "\n",
    "data = pd.read_csv(f, usecols = ['Q'] + groupers + vars_)\n",
    "data = data.merge(aglo_labels)\n",
    "data['AGLO_si'] = data.AGLOMERADO != 0\n",
    "data['Total'] = True\n",
    "\n",
    "data = data.loc[data.AGLO_si == 1]\n",
    "\n",
    "data.loc[data.INGRESO == 0, 'decil_P47T'] = 'sin ingresos'\n",
    "data.loc[data.INGRESO == 1, 'P47T_persona'] = data.loc[data.INGRESO == 1, 'P47T_persona'] + np.random.uniform(0, .01, data.INGRESO.sum())\n",
    "data.loc[data.INGRESO == 1, 'decil_P47T'] = pd.qcut(data.loc[data.INGRESO == 1, 'P47T_persona'], q = 10, labels = range(1, 11))\n",
    "\n",
    "data['Q'] = pd.to_datetime(data['Q'])\n",
    "# df104 = df.loc[df.Q == '2010-11-15']"
   ]
  },
  {
   "cell_type": "code",
   "execution_count": 6,
   "metadata": {},
   "outputs": [],
   "source": [
    "# df104 = df.loc[df.Q == '2010-11-15']"
   ]
  },
  {
   "cell_type": "code",
   "execution_count": 7,
   "metadata": {},
   "outputs": [],
   "source": [
    "# pd.read_csv(f, nrows = 5).T"
   ]
  },
  {
   "cell_type": "code",
   "execution_count": 8,
   "metadata": {},
   "outputs": [],
   "source": [
    "## Tabla:\n",
    "\n",
    "# Personas con ingresos (aprox 14.377, sin ingresos 10.510 para un total de 24.887 en aglos)\n"
   ]
  },
  {
   "cell_type": "code",
   "execution_count": 9,
   "metadata": {
    "scrolled": false
   },
   "outputs": [
    {
     "data": {
      "text/html": [
       "<div>\n",
       "<style scoped>\n",
       "    .dataframe tbody tr th:only-of-type {\n",
       "        vertical-align: middle;\n",
       "    }\n",
       "\n",
       "    .dataframe tbody tr th {\n",
       "        vertical-align: top;\n",
       "    }\n",
       "\n",
       "    .dataframe thead th {\n",
       "        text-align: right;\n",
       "    }\n",
       "</style>\n",
       "<table border=\"1\" class=\"dataframe\">\n",
       "  <thead>\n",
       "    <tr style=\"text-align: right;\">\n",
       "      <th></th>\n",
       "      <th>Mínimo</th>\n",
       "      <th>Máximo</th>\n",
       "      <th>Población (miles)</th>\n",
       "      <th>Ingresos (mill. ARS)</th>\n",
       "      <th>Media</th>\n",
       "      <th>% de suma de ingresos</th>\n",
       "    </tr>\n",
       "    <tr>\n",
       "      <th>decil_P47T</th>\n",
       "      <th></th>\n",
       "      <th></th>\n",
       "      <th></th>\n",
       "      <th></th>\n",
       "      <th></th>\n",
       "      <th></th>\n",
       "    </tr>\n",
       "  </thead>\n",
       "  <tbody>\n",
       "    <tr>\n",
       "      <th>1</th>\n",
       "      <td>30</td>\n",
       "      <td>500</td>\n",
       "      <td>1555.1</td>\n",
       "      <td>511.8</td>\n",
       "      <td>330</td>\n",
       "      <td>1.4</td>\n",
       "    </tr>\n",
       "    <tr>\n",
       "      <th>2</th>\n",
       "      <td>500</td>\n",
       "      <td>800</td>\n",
       "      <td>1555.0</td>\n",
       "      <td>1045.2</td>\n",
       "      <td>670</td>\n",
       "      <td>2.8</td>\n",
       "    </tr>\n",
       "    <tr>\n",
       "      <th>3</th>\n",
       "      <td>800</td>\n",
       "      <td>1040</td>\n",
       "      <td>1555.0</td>\n",
       "      <td>1463.5</td>\n",
       "      <td>940</td>\n",
       "      <td>3.9</td>\n",
       "    </tr>\n",
       "    <tr>\n",
       "      <th>4</th>\n",
       "      <td>1040</td>\n",
       "      <td>1400</td>\n",
       "      <td>1555.0</td>\n",
       "      <td>1862.3</td>\n",
       "      <td>1200</td>\n",
       "      <td>5.0</td>\n",
       "    </tr>\n",
       "    <tr>\n",
       "      <th>5</th>\n",
       "      <td>1400</td>\n",
       "      <td>1750</td>\n",
       "      <td>1555.1</td>\n",
       "      <td>2406.2</td>\n",
       "      <td>1550</td>\n",
       "      <td>6.5</td>\n",
       "    </tr>\n",
       "    <tr>\n",
       "      <th>6</th>\n",
       "      <td>1750</td>\n",
       "      <td>2030</td>\n",
       "      <td>1555.0</td>\n",
       "      <td>3008.3</td>\n",
       "      <td>1930</td>\n",
       "      <td>8.1</td>\n",
       "    </tr>\n",
       "    <tr>\n",
       "      <th>7</th>\n",
       "      <td>2030</td>\n",
       "      <td>2700</td>\n",
       "      <td>1555.0</td>\n",
       "      <td>3754.9</td>\n",
       "      <td>2410</td>\n",
       "      <td>10.1</td>\n",
       "    </tr>\n",
       "    <tr>\n",
       "      <th>8</th>\n",
       "      <td>2700</td>\n",
       "      <td>3500</td>\n",
       "      <td>1555.0</td>\n",
       "      <td>4729.8</td>\n",
       "      <td>3040</td>\n",
       "      <td>12.7</td>\n",
       "    </tr>\n",
       "    <tr>\n",
       "      <th>9</th>\n",
       "      <td>3500</td>\n",
       "      <td>5000</td>\n",
       "      <td>1555.0</td>\n",
       "      <td>6422.1</td>\n",
       "      <td>4130</td>\n",
       "      <td>17.2</td>\n",
       "    </tr>\n",
       "    <tr>\n",
       "      <th>10</th>\n",
       "      <td>5000</td>\n",
       "      <td>65960</td>\n",
       "      <td>1555.1</td>\n",
       "      <td>12029.7</td>\n",
       "      <td>7740</td>\n",
       "      <td>32.3</td>\n",
       "    </tr>\n",
       "    <tr>\n",
       "      <th>sin ingresos</th>\n",
       "      <td>0</td>\n",
       "      <td>20</td>\n",
       "      <td>9694.5</td>\n",
       "      <td>0.0</td>\n",
       "      <td>0</td>\n",
       "      <td>0.0</td>\n",
       "    </tr>\n",
       "    <tr>\n",
       "      <th>Total</th>\n",
       "      <td>30</td>\n",
       "      <td>65960</td>\n",
       "      <td>15550.3</td>\n",
       "      <td>37233.8</td>\n",
       "      <td>2390</td>\n",
       "      <td>100.0</td>\n",
       "    </tr>\n",
       "  </tbody>\n",
       "</table>\n",
       "</div>"
      ],
      "text/plain": [
       "              Mínimo  Máximo  Población (miles)  Ingresos (mill. ARS)  Media  \\\n",
       "decil_P47T                                                                     \n",
       "1                 30     500             1555.1                 511.8    330   \n",
       "2                500     800             1555.0                1045.2    670   \n",
       "3                800    1040             1555.0                1463.5    940   \n",
       "4               1040    1400             1555.0                1862.3   1200   \n",
       "5               1400    1750             1555.1                2406.2   1550   \n",
       "6               1750    2030             1555.0                3008.3   1930   \n",
       "7               2030    2700             1555.0                3754.9   2410   \n",
       "8               2700    3500             1555.0                4729.8   3040   \n",
       "9               3500    5000             1555.0                6422.1   4130   \n",
       "10              5000   65960             1555.1               12029.7   7740   \n",
       "sin ingresos       0      20             9694.5                   0.0      0   \n",
       "Total             30   65960            15550.3               37233.8   2390   \n",
       "\n",
       "              % de suma de ingresos  \n",
       "decil_P47T                           \n",
       "1                               1.4  \n",
       "2                               2.8  \n",
       "3                               3.9  \n",
       "4                               5.0  \n",
       "5                               6.5  \n",
       "6                               8.1  \n",
       "7                              10.1  \n",
       "8                              12.7  \n",
       "9                              17.2  \n",
       "10                             32.3  \n",
       "sin ingresos                    0.0  \n",
       "Total                         100.0  "
      ]
     },
     "execution_count": 9,
     "metadata": {},
     "output_type": "execute_result"
    }
   ],
   "source": [
    "tabla = data.groupby(['decil_P47T']).agg({'P47T_persona': ['min', 'max', 'size', 'sum', 'mean']})['P47T_persona']\n",
    "tabla[['min', 'max', 'sum', 'mean']] = tabla[['min', 'max', 'sum', 'mean']]*(cpi_2010Q4/cpi_ref)\n",
    "tabla[['size', 'sum']] = 100*tabla[['size', 'sum']]\n",
    "tabla['pct'] = 100*tabla['sum']/tabla['sum'].sum()\n",
    "tabla.loc['Total'] = tabla.iloc[:-1].agg({'min': 'min', 'max': 'max','size': 'sum', 'sum': 'sum', 'mean': 'mean', 'pct': 'sum'})\n",
    "\n",
    "tabla[['min', 'max', 'sum', 'mean']] = tabla[['min', 'max', 'sum', 'mean']].round(-1).astype(int)\n",
    "tabla['size'] = (tabla['size']/1e3).round(1)\n",
    "tabla['sum'] = (tabla['sum']/1e6).round(1)\n",
    "tabla['pct'] = tabla['pct'].round(1)\n",
    "tabla.columns = ['Mínimo', 'Máximo', 'Población (miles)', 'Ingresos (mill. ARS)', 'Media', '% de suma de ingresos']\n",
    "tabla"
   ]
  },
  {
   "cell_type": "code",
   "execution_count": 10,
   "metadata": {},
   "outputs": [
    {
     "data": {
      "text/plain": [
       "2.341062801932367"
      ]
     },
     "execution_count": 10,
     "metadata": {},
     "output_type": "execute_result"
    }
   ],
   "source": [
    "36102.7/15421.5"
   ]
  },
  {
   "cell_type": "code",
   "execution_count": 11,
   "metadata": {},
   "outputs": [
    {
     "data": {
      "text/plain": [
       "1.0718418665749225"
      ]
     },
     "execution_count": 11,
     "metadata": {},
     "output_type": "execute_result"
    }
   ],
   "source": [
    "15421.5 / 14387.85"
   ]
  },
  {
   "cell_type": "code",
   "execution_count": null,
   "metadata": {},
   "outputs": [],
   "source": []
  }
 ],
 "metadata": {
  "kernelspec": {
   "display_name": "Python 3",
   "language": "python",
   "name": "python3"
  },
  "language_info": {
   "codemirror_mode": {
    "name": "ipython",
    "version": 3
   },
   "file_extension": ".py",
   "mimetype": "text/x-python",
   "name": "python",
   "nbconvert_exporter": "python",
   "pygments_lexer": "ipython3",
   "version": "3.8.5"
  }
 },
 "nbformat": 4,
 "nbformat_minor": 4
}
