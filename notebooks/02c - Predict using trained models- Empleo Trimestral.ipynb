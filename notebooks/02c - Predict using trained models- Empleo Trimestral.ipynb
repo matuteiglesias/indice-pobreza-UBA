{
 "cells": [
  {
   "cell_type": "markdown",
   "metadata": {},
   "source": [
    "# Predicting on CENSO samples."
   ]
  },
  {
   "cell_type": "code",
   "execution_count": 1,
   "metadata": {},
   "outputs": [],
   "source": [
    "### IMPORTANTE ELEGIR ANIOS\n",
    "startyr = 2013\n",
    "endyr = 2022"
   ]
  },
  {
   "cell_type": "code",
   "execution_count": null,
   "metadata": {},
   "outputs": [],
   "source": []
  },
  {
   "cell_type": "code",
   "execution_count": 2,
   "metadata": {},
   "outputs": [
    {
     "data": {
      "text/html": [
       "<style>.container { width:100% !important; }</style>"
      ],
      "text/plain": [
       "<IPython.core.display.HTML object>"
      ]
     },
     "metadata": {},
     "output_type": "display_data"
    }
   ],
   "source": [
    "# Load modules\n",
    "import warnings\n",
    "warnings.filterwarnings('ignore')\n",
    "\n",
    "import pandas as pd\n",
    "import numpy as np\n",
    "\n",
    "from sklearn.model_selection import train_test_split\n",
    "from sklearn.ensemble import RandomForestClassifier, RandomForestRegressor\n",
    "from IPython.core.display import display, HTML\n",
    "\n",
    "import pickle\n",
    "from IPython.core.display import display, HTML\n",
    "display(HTML(\"<style>.container { width:100% !important; }</style>\"))\n",
    "\n",
    "import os"
   ]
  },
  {
   "cell_type": "code",
   "execution_count": 3,
   "metadata": {},
   "outputs": [],
   "source": [
    "# Column names\n",
    "y_cols = ['CAT_OCUP', 'P47T', 'PP10E', 'PP10D', 'PP07K', 'PP07I', 'V3_M', 'PP07G4', 'CH16', 'T_VI', \n",
    "          'V12_M', 'TOT_P12', 'PP07G3', 'V5_M', 'PP07H', 'V2_M', 'PP10C', \n",
    "          'PP08D1', 'PP07J', 'CAT_INAC', 'CH07', 'CH08', 'P21', 'PP07G1', 'PP07G_59', 'PP07G2']\n",
    "\n",
    "\n",
    "x_cols = ['IX_TOT', 'P02', 'P03', 'AGLO_rk', 'Reg_rk', 'V01', 'H05', 'H06',\n",
    "       'H07', 'H08', 'H09', 'H10', 'H11', 'H12', 'H16', 'H15', 'PROP', 'H14',\n",
    "       'H13', 'P07', 'P08', 'P09', 'P10', 'P05', 'CONDACT']\n",
    "\n",
    "x_cols1 = x_cols\n",
    "predecir1 = ['CAT_OCUP', 'CAT_INAC', 'CH07']\n",
    "\n",
    "x_cols2 = x_cols1 + predecir1\n",
    "predecir2 = ['INGRESO', 'INGRESO_NLB', 'INGRESO_JUB', 'INGRESO_SBS']\n",
    "\n",
    "x_cols3 = x_cols2 + predecir2\n",
    "# La seccion PP07G pregunta si el trabajo es en blanco y que beneficios tiene. Puede ayudar a la regresion para ingresos.\n",
    "# predecir3 = ['PP07G1', 'PP07G2', 'PP07G3', 'PP07G4', 'PP07G_59', 'PP07H', 'PP07I', 'PP07J', 'PP07K']\n",
    "predecir3 = ['PP07G1','PP07G_59', 'PP07I', 'PP07J', 'PP07K']\n",
    "\n",
    "# Columnas de ingresos. Necesitan una regresion...\n",
    "columnas_pesos = [u'P21', u'P47T', u'PP08D1', u'TOT_P12', u'T_VI', u'V12_M', u'V2_M', u'V3_M', u'V5_M']\n",
    "# P21: INGRESO DE LA OCUPACIÓN PRINCIPAL \n",
    "# P47T: TOTAL (laboral y no laboral)\n",
    "# PP08D1: Sueldos, jornales, etc.\n",
    "# TOT_P12: TOTAL DE INGRESO  POR  OTRAS OCUPACIONES (Secundaria, previa...)\n",
    "# T_VI: TOTAL DE INGRESOS NO LABORALES\n",
    "# V12_M:  CUOTAS DE ALIMENTOS O AYUDA EN DINERO  DE PERSONAS QUE NO VIVEN EN EL HOGAR \n",
    "# V2_M: ingreso por JUBILACION O PENSION\n",
    "# V3_M: INDEMNIZACION POR DESPIDO \n",
    "# V5_M: SUBSIDIO  O AYUDA SOCIAL DEL GOBIERNO, IGLESIAS, ETC.\n",
    "\n",
    "x_cols4 = x_cols3 + predecir3\n",
    "# Columnas de ingresos. Necesitan una regresion...\n",
    "predecir4 = columnas_pesos\n",
    "y_cols4 = predecir4"
   ]
  },
  {
   "cell_type": "markdown",
   "metadata": {},
   "source": [
    "### Load info"
   ]
  },
  {
   "cell_type": "code",
   "execution_count": 4,
   "metadata": {},
   "outputs": [],
   "source": [
    "# 0     26271\n",
    "# 33     9813\n",
    "# 32     3553\n",
    "# 13     1643\n",
    "# 4      1309\n",
    "# 10     1014\n",
    "# 2       984\n",
    "# 34      853\n",
    "\n",
    "# radio_ref.AGLOMERADO.value_counts()\n",
    "# 0     25962\n",
    "# 33     9944\n",
    "# 32     3553\n",
    "# 13     1649\n",
    "# 4      1323\n",
    "# 10     1017\n",
    "# 2       997\n",
    "# 34      844"
   ]
  },
  {
   "cell_type": "code",
   "execution_count": 5,
   "metadata": {
    "scrolled": false
   },
   "outputs": [],
   "source": [
    "radio_ref = pd.read_csv('./../data/info/radio_ref.csv')\n",
    "\n",
    "radio_AGLO = pd.read_csv('https://raw.githubusercontent.com/matuteiglesias/Aglomerados-EPH-INDEC/main/result/radios_aglo_EPH.csv')\n",
    "radio_AGLO['radio'] = radio_AGLO.COD_2010.str.replace('XX', '99').astype(int)\n",
    "radio_AGLO['AGLOMERADO'] = radio_AGLO.eph_codagl\n",
    "radio_AGLO['NOMAGLO'] = radio_AGLO.eph_aglome\n",
    "\n",
    "radio_ref = radio_ref.drop(['AGLOMERADO'], axis = 1).merge(radio_AGLO[['radio','AGLOMERADO', 'NOMAGLO']], how = 'left')\n",
    "radio_ref['AGLOMERADO'] = radio_ref['AGLOMERADO'].fillna(0).astype(int)\n",
    "\n",
    "# radio_ref[['PROV','NOMPROV','DPTO', 'NOMDPTO']].drop_duplicates().to_csv('./../data/DPTO_PROV.csv', index = False)\n",
    "dpto_region = pd.read_csv('./../data/info/DPTO_PROV_Region.csv')\n",
    "radio_ref = radio_ref.merge(dpto_region)\n",
    "\n",
    "AGLO_rk = pd.read_csv('./../data/info/AGLO_rk')\n",
    "Reg_rk = pd.read_csv('./../data/info/Reg_rk')"
   ]
  },
  {
   "cell_type": "code",
   "execution_count": null,
   "metadata": {},
   "outputs": [],
   "source": []
  },
  {
   "cell_type": "code",
   "execution_count": null,
   "metadata": {},
   "outputs": [],
   "source": []
  },
  {
   "cell_type": "code",
   "execution_count": 6,
   "metadata": {},
   "outputs": [],
   "source": [
    "# ### TESTEO DEFINICION VIEJA DE AGLOS\n",
    "\n",
    "# radio_ref = pd.read_csv('./../data/info/radio_ref.csv').rename(columns = {'AGLOMERADO': 'AGLOMERADO_'})\n",
    "\n",
    "# radio_AGLO = pd.read_csv('https://raw.githubusercontent.com/matuteiglesias/Aglomerados-EPH-INDEC/main/result/radios_aglo_EPH.csv')\n",
    "# radio_AGLO['radio'] = radio_AGLO.COD_2010.str.replace('XX', '99').astype(int)\n",
    "# radio_AGLO['AGLOMERADO'] = radio_AGLO.eph_codagl\n",
    "# radio_AGLO['NOMAGLO'] = radio_AGLO.eph_aglome\n",
    "\n",
    "# # radio_ref = radio_ref.drop(['AGLOMERADO'], axis = 1).merge(radio_AGLO[['radio','AGLOMERADO', 'NOMAGLO']], how = 'left')\n",
    "# radio_ref = radio_ref.merge(radio_AGLO[['radio','AGLOMERADO', 'NOMAGLO']], how = 'left')\n",
    "# radio_ref['AGLOMERADO'] = radio_ref['AGLOMERADO'].fillna(0).astype(int)\n",
    "# radio_ref['NOMAGLO'] = radio_ref['NOMAGLO'].fillna('Fuera de Aglom')\n",
    "\n",
    "\n",
    "# P02 = pd.read_csv('/home/miglesia/repositories/CensoARG_20102/Preguntas/PERSONA-P02.csv', encoding = 'latin-1')[['radio', 'TOTAL']]\n",
    "# # P02\n",
    "\n",
    "# poblacion = radio_ref.merge(P02)\n",
    "# tabla = poblacion.groupby(['AGLOMERADO', 'NOMAGLO', 'AGLOMERADO_'])[['TOTAL']].sum()#.unstack().fillna('')\n",
    "# tabla.to_csv('./../data/info/testeo_AGLOS.csv')"
   ]
  },
  {
   "cell_type": "code",
   "execution_count": 7,
   "metadata": {},
   "outputs": [],
   "source": [
    "frac = 0.01"
   ]
  },
  {
   "cell_type": "code",
   "execution_count": 8,
   "metadata": {},
   "outputs": [
    {
     "data": {
      "text/html": [
       "<div>\n",
       "<style scoped>\n",
       "    .dataframe tbody tr th:only-of-type {\n",
       "        vertical-align: middle;\n",
       "    }\n",
       "\n",
       "    .dataframe tbody tr th {\n",
       "        vertical-align: top;\n",
       "    }\n",
       "\n",
       "    .dataframe thead th {\n",
       "        text-align: right;\n",
       "    }\n",
       "</style>\n",
       "<table border=\"1\" class=\"dataframe\">\n",
       "  <thead>\n",
       "    <tr style=\"text-align: right;\">\n",
       "      <th></th>\n",
       "      <th>desoc</th>\n",
       "      <th>censo2010_ratio</th>\n",
       "    </tr>\n",
       "    <tr>\n",
       "      <th>Q</th>\n",
       "      <th></th>\n",
       "      <th></th>\n",
       "    </tr>\n",
       "  </thead>\n",
       "  <tbody>\n",
       "    <tr>\n",
       "      <th>2020-11-15</th>\n",
       "      <td>10.957932</td>\n",
       "      <td>1.501087</td>\n",
       "    </tr>\n",
       "    <tr>\n",
       "      <th>2021-02-15</th>\n",
       "      <td>10.200000</td>\n",
       "      <td>1.397260</td>\n",
       "    </tr>\n",
       "    <tr>\n",
       "      <th>2021-05-15</th>\n",
       "      <td>9.600903</td>\n",
       "      <td>1.315192</td>\n",
       "    </tr>\n",
       "    <tr>\n",
       "      <th>2021-08-15</th>\n",
       "      <td>8.200000</td>\n",
       "      <td>1.123288</td>\n",
       "    </tr>\n",
       "    <tr>\n",
       "      <th>2021-11-15</th>\n",
       "      <td>7.000000</td>\n",
       "      <td>0.958904</td>\n",
       "    </tr>\n",
       "  </tbody>\n",
       "</table>\n",
       "</div>"
      ],
      "text/plain": [
       "                desoc  censo2010_ratio\n",
       "Q                                     \n",
       "2020-11-15  10.957932         1.501087\n",
       "2021-02-15  10.200000         1.397260\n",
       "2021-05-15   9.600903         1.315192\n",
       "2021-08-15   8.200000         1.123288\n",
       "2021-11-15   7.000000         0.958904"
      ]
     },
     "metadata": {},
     "output_type": "display_data"
    },
    {
     "data": {
      "image/png": "[encoded data removed]",
      "text/plain": [
       "<Figure size 432x288 with 1 Axes>"
      ]
     },
     "metadata": {
      "needs_background": "light"
     },
     "output_type": "display_data"
    }
   ],
   "source": [
    "empleo = pd.read_csv('./../data/info/empleo_AGLOsi_MinEcon.csv')\n",
    "empleo.columns = ['Q', 'desoc']\n",
    "empleo['Q'] = pd.to_datetime(empleo.Q)\n",
    "empleo = empleo.set_index('Q')\n",
    "# empleo = empleo.resample('Q').mean().resample('Q').interpolate(method='linear')\n",
    "empleo['censo2010_ratio'] = (empleo/empleo.loc['2010-11-15'])\n",
    "\n",
    "empleo.plot(); #plt.xlim(0, 20)\n",
    "display(empleo.tail())"
   ]
  },
  {
   "cell_type": "code",
   "execution_count": 9,
   "metadata": {},
   "outputs": [],
   "source": [
    "# X_q = X_censo.copy()\n",
    "# X_q['Q'] = q\n",
    "# # desemp_ARG_censo_sample = CONDACT_cnts.loc[2]/(CONDACT_cnts.loc[1] + CONDACT_cnts.loc[2])\n",
    "# ratio = empleo.loc[pd.to_datetime(q)].censo2010_ratio # ratio respecto a Q4-2010\n",
    "# n_desempleados_ = ratio*(CONDACT_cnts[1] + CONDACT_cnts[2])*desemp_ARG_censo\n",
    "# desemp_adic = round(n_desempleados_ - CONDACT_cnts.loc[2]) # Desempleados adicionales"
   ]
  },
  {
   "cell_type": "code",
   "execution_count": 10,
   "metadata": {},
   "outputs": [
    {
     "data": {
      "text/plain": [
       "0.0628729377307203"
      ]
     },
     "execution_count": 10,
     "metadata": {},
     "output_type": "execute_result"
    }
   ],
   "source": [
    "## Traemos la tasa segun el censo 2010, para oct 2010 (6.29 %) y la que tenemos en dato (7.5%)\n",
    "desoc_C2010 = pd.read_csv('./../../nivel_empleo/info/desoc_AGLOsi_C2010.csv')\n",
    "tasa_C2010 = desoc_C2010.loc[desoc_C2010.AGLO_si == True]['Tasa desocupacion'].values[0]\n",
    "tasa_C2010\n",
    "# tasa_dato = empleo.loc['2010-09-30'].values[0]\n",
    "\n",
    "# ratio = 100*tasa_C2010/tasa_dato\n",
    "# ratio"
   ]
  },
  {
   "cell_type": "code",
   "execution_count": 11,
   "metadata": {},
   "outputs": [],
   "source": [
    "# # desemp_ratio = pd.read_csv('./../../../Desktop/nivel_empleo/unemp_ratio_censo2010.csv', index_col=0)\n",
    "# desemp_ratio = pd.read_csv('./../data/info/unemp_ratio_censo2010.csv', index_col=0)\n",
    "# desemp_ratio.index = pd.DatetimeIndex(desemp_ratio.index)\n",
    "# desemp_ratio.index = desemp_ratio.index - pd.to_timedelta(desemp_ratio.index.day - 15, unit='d') - pd.DateOffset(months=1)\n",
    "# desemp_ratio.index.name = 'Q'\n",
    "# desemp_ratio.plot()"
   ]
  },
  {
   "cell_type": "markdown",
   "metadata": {},
   "source": [
    "# Predicting"
   ]
  },
  {
   "cell_type": "code",
   "execution_count": 12,
   "metadata": {},
   "outputs": [
    {
     "name": "stdout",
     "output_type": "stream",
     "text": [
      "['2010-02-15', '2010-05-15', '2010-08-15', '2010-11-15', '2011-02-15', '2011-05-15', '2011-08-15', '2011-11-15', '2012-02-15', '2012-05-15']\n",
      "['2019-08-15', '2019-11-15', '2020-02-15', '2020-05-15', '2020-08-15', '2020-11-15', '2021-02-15', '2021-05-15', '2021-08-15', '2021-11-15']\n"
     ]
    }
   ],
   "source": [
    "import datetime as dt\n",
    "## Trimestres con ingresos disponibles (depende de disponibilidad de microdatos EPH)\n",
    "import glob\n",
    "\n",
    "fuente_modelos = 'encuestador-de-hogares' # 'indice-pobreza-ExactasUBA'\n",
    "# path = '/media/miglesia/Elements/suite/'+fuente_modelos+'/fitted_RF/clf4_' # use your path\n",
    "path = '/home/miglesia/repositories/encuestador-de-hogares/fitted_RF/clf4_'\n",
    "\n",
    "allFiles = []\n",
    "# allFiles += glob.glob(path +'*.sav')\n",
    "# allqs = [f[-18:-8] for f in allFiles]\n",
    "\n",
    "allFiles += glob.glob(path +'*')\n",
    "allqs = [f[-14:-4] for f in allFiles]\n",
    "print(sorted(allqs)[:10])\n",
    "print(sorted(allqs)[-10:])"
   ]
  },
  {
   "cell_type": "code",
   "execution_count": 13,
   "metadata": {},
   "outputs": [],
   "source": [
    "import gc\n",
    "import joblib\n",
    "\n",
    "import sys\n",
    "# These are the usual ipython objects, including this one you are creating\n",
    "ipython_vars = ['In', 'Out', 'exit', 'quit', 'get_ipython', 'ipython_vars']\n",
    "\n",
    "# Eg. Get a sorted list of the objects and their sizes\n",
    "# def mem_prof():\n",
    "#     result = sorted([(x, sys.getsizeof(globals().get(x))) for x in dir() if not x.startswith('_') and x not in sys.modules and x not in ipython_vars], key=lambda x: x[1], reverse=True)\n",
    "#     return result\n",
    "\n",
    "if not os.path.exists('./../data/yr_samples'):\n",
    "    os.makedirs('./../data/yr_samples')"
   ]
  },
  {
   "cell_type": "markdown",
   "metadata": {},
   "source": [
    "### Classification 1\n",
    "Columnas ['CAT_OCUP', 'CAT_INAC', 'CH07']\n",
    "\n",
    "### Classification 2\n",
    "Columna INGRESO\n",
    "\n",
    "### Classification 3\n",
    "Columnas ['PP07G1', 'PP07G2', 'PP07G3', 'PP07G4', 'PP07G_59', 'PP07H', 'PP07I', 'PP07J', 'PP07K']\n",
    "\n",
    "### Regresion"
   ]
  },
  {
   "cell_type": "code",
   "execution_count": 14,
   "metadata": {},
   "outputs": [
    {
     "data": {
      "text/plain": [
       "0.059236022681737104"
      ]
     },
     "execution_count": 14,
     "metadata": {},
     "output_type": "execute_result"
    }
   ],
   "source": [
    "1174037/(18645609 + 1174037)"
   ]
  },
  {
   "cell_type": "code",
   "execution_count": 15,
   "metadata": {},
   "outputs": [],
   "source": [
    "import json"
   ]
  },
  {
   "cell_type": "code",
   "execution_count": 16,
   "metadata": {},
   "outputs": [],
   "source": [
    "startyr = 2021\n",
    "endyr = 2022"
   ]
  },
  {
   "cell_type": "code",
   "execution_count": 17,
   "metadata": {},
   "outputs": [],
   "source": [
    "y_cols1 = predecir1\n",
    "y_cols2 = predecir2\n",
    "y_cols3 = predecir3"
   ]
  },
  {
   "cell_type": "code",
   "execution_count": 18,
   "metadata": {
    "scrolled": false
   },
   "outputs": [
    {
     "name": "stdout",
     "output_type": "stream",
     "text": [
      "2021\n",
      "['2021-05-15' '2021-11-15' '2021-02-15' '2021-08-15']\n",
      "[('X_censo', 145956645), ('radio_ref', 19993974), ('radio_AGLO', 6758930), ('dpto_region', 120394), ('empleo', 3896)]\n",
      "[('X_censo', 145956645), ('radio_ref', 19993974), ('radio_AGLO', 6758930), ('dpto_region', 120394), ('empleo', 3896)]\n",
      "Nuevo trimestre.\n",
      "2021-02-15\n",
      "desempleo:0.08784869549517017\n",
      "C1\n",
      "C2\n",
      "C3\n",
      "reg\n",
      "[('X_q', 207339634), ('X_censo', 162864973), ('radio_ref', 19993974), ('radio_AGLO', 6758930), ('dpto_region', 120394)]\n",
      "Nuevo trimestre.\n",
      "2021-05-15\n",
      "desempleo:0.08268935632391441\n",
      "C1\n",
      "C2\n",
      "C3\n",
      "reg\n",
      "[('X_q', 207339634), ('X_censo', 162864973), ('radio_ref', 19993974), ('radio_AGLO', 6758930), ('dpto_region', 120394)]\n",
      "Nuevo trimestre.\n",
      "2021-08-15\n",
      "desempleo:0.07062381511239506\n",
      "C1\n",
      "C2\n",
      "C3\n",
      "reg\n",
      "[('X_q', 207339634), ('X_censo', 162864973), ('radio_ref', 19993974), ('radio_AGLO', 6758930), ('dpto_region', 120394)]\n",
      "Nuevo trimestre.\n",
      "2021-11-15\n",
      "desempleo:0.06028708133971292\n",
      "C1\n",
      "C2\n",
      "C3\n",
      "reg\n",
      "[('Xy3_censo', 215588818), ('Xy2_censo', 197619258), ('Xy1_censo', 183243610), ('X_censo', 162864973), ('y_censo_fit4', 32345352)]\n"
     ]
    }
   ],
   "source": [
    "\n",
    "for yr in [str(s) for s in range(startyr, endyr)]:\n",
    "    print(yr)\n",
    "        \n",
    "#     file_ = './../data/yr_samples/sample_censo_table_f0.02_'+yr+'_ARG.csv'\n",
    "#     file_ = '/media/miglesia/Elements/CENSO_dirs/extracted_/yr_samples/sample_censo_table_f0.02_'+yr+'_ARG.csv'\n",
    "#     file_ = '/media/miglesia/Elements/suite/yr_samples/sample_censo_table_f0.02_'+yr+'_ARG.csv'\n",
    "    file_ = '/media/miglesia/Elements/suite/yr_samples/table_f'+str(frac)+'_'+yr+'_ARG.csv'\n",
    "\n",
    "\n",
    "    X_censo = pd.read_csv(file_, usecols = ['DPTO','RADIO_REF_ID','PERSONA_REF_ID', 'HOGAR_REF_ID','IX_TOT_', 'P02', 'P03', 'CONDACT', 'AGLOMERADO', 'URP', 'V01', 'H05', 'H06',\n",
    "           'H07', 'H08', 'H09', 'H10', 'H11', 'H12', 'H16', 'H15', 'PROP', 'H14',\n",
    "           'H13', 'P07', 'P08', 'P09', 'P10', 'P05']).fillna(0)\n",
    "    X_censo = X_censo.rename(columns = {'IX_TOT_': 'IX_TOT'}) # temporal fix for a typo in samplear.py\n",
    "#       DPTO_Region = radio_ref[['DPTO', 'Region']].drop_duplicates()\n",
    "    X_censo = X_censo.merge(dpto_region[['DPTO', 'Region']])\n",
    "#     print(X_censo.merge(radio_ref[['RADIO_REF_ID', 'PROV']], how = 'left')['PROV'].nunique())\n",
    "    X_censo = X_censo.merge(AGLO_rk[['AGLOMERADO', 'AGLO_rk']]).merge(Reg_rk[['Region', 'Reg_rk']])\n",
    "    \n",
    "\n",
    "    ## Tratamiento trimestral \n",
    "    \n",
    "#     qs = pd.read_csv('./../data/training/EPHARG_train_'+yr[2:]+'.csv', usecols=['Q'])\n",
    "#     qs = pd.date_range(start = dt.datetime(int(yr),3,31), end = dt.datetime(int(yr),12,31), freq='Q').values\n",
    "    qs = np.array(allqs)[[i for i, si in enumerate(allqs) if si.startswith(yr)]]\n",
    "    print(qs)\n",
    "    \n",
    "    CONDACT_cnts = X_censo.CONDACT.value_counts()\n",
    "    \n",
    "    print(sorted([(x, sys.getsizeof(globals().get(x))) for x in dir() if not x.startswith('_') and x not in sys.modules and x not in ipython_vars], key=lambda x: x[1], reverse=True)[:5])\n",
    "    \n",
    "    ### Cargar modelos de la parte no trimestral (anual).\n",
    "\n",
    "    print(sorted([(x, sys.getsizeof(globals().get(x))) for x in dir() if not x.startswith('_') and x not in sys.modules and x not in ipython_vars], key=lambda x: x[1], reverse=True)[:5])\n",
    "\n",
    "    for q in sorted(qs):\n",
    "        X_q = X_censo.copy()\n",
    "        X_q['Q'] = q\n",
    "        print('Nuevo trimestre.')\n",
    "\n",
    "        # desemp_ARG_censo_sample = CONDACT_cnts.loc[2]/(CONDACT_cnts.loc[1] + CONDACT_cnts.loc[2])\n",
    "        \n",
    "        ratio = empleo.loc[pd.to_datetime(q)].censo2010_ratio\n",
    "        n_desempleados_ = ratio*(CONDACT_cnts[1] + CONDACT_cnts[2])*tasa_C2010\n",
    "        desemp_adic = round(n_desempleados_ - CONDACT_cnts.loc[2]) # Desempleados adicionales\n",
    "        \n",
    "        print(str(q)[:10])\n",
    "#         print(desemp_adic)\n",
    "\n",
    "        if desemp_adic > 0:\n",
    "            X_q.loc[\n",
    "                X_q.query('CONDACT == 1').sample(desemp_adic).index,\n",
    "                'CONDACT'\n",
    "            ] = 2\n",
    "        elif desemp_adic < 0:\n",
    "            X_q.loc[\n",
    "                X_q.query('CONDACT == 2').sample(- desemp_adic).index,\n",
    "                'CONDACT'\n",
    "            ] = 1\n",
    "\n",
    "        desempleo = X_q.CONDACT.value_counts().loc[2] / (X_q.CONDACT.value_counts().loc[1] + X_q.CONDACT.value_counts().loc[2])\n",
    "        print('desempleo:' + str(desempleo))\n",
    "        \n",
    "#         print('/media/miglesia/Elements/suite/'+fuente_modelos+'/fitted_RF/clf1_0.02_'+yr+'_ARG')\n",
    "#         break\n",
    "        \n",
    "\n",
    "        #################################    #################################    #################################\n",
    "        print('C1')\n",
    "        ## CLASIF 1\n",
    "        data_filename1 = '/media/miglesia/Elements/suite/yr_samples/RFC1_'+str(frac)+'_'+str(q)[:10]+'_ARG.csv'\n",
    "        if not os.path.exists(data_filename1):\n",
    "            model_filename1 = '/home/miglesia/repositories/encuestador-de-hogares/fitted_RF/clf1_'+yr+'_ARG'\n",
    "            # clf1 = pickle.load(open(model_filename1+'.sav', 'rb'))\n",
    "            clf1 = joblib.load(model_filename1)\n",
    "\n",
    "#             y_out1 = clf1.predict(X_q[x_cols1].values)\n",
    "#             y_censo_fit1 = pd.DataFrame(y_out1, index = X_q.index, columns=predecir1)\n",
    "\n",
    "            ## Prediccion usando predict proba y factores de balance.\n",
    "            y_out1 = pd.DataFrame([])\n",
    "            proba_values = clf1.predict_proba(X_q[x_cols1])\n",
    "\n",
    "            ## Leer factores de archivo json\n",
    "            tag = 'clf1_'+yr+'_ARG'\n",
    "            with open('/home/miglesia/repositories/encuestador-de-hogares/data/training/factors/'+tag+'.json', 'r') as file:\n",
    "                info = json.load(file)\n",
    "            factors_mean = pd.DataFrame(json.loads(info[tag])).stack()\n",
    "            factors_mean.index.names = ['variable', 'valor']\n",
    "            factors_mean.index = factors_mean.index.set_levels(factors_mean.index.levels[1].astype(float).astype(int), level='valor')\n",
    "\n",
    "            for j, y_col in enumerate(y_cols1):\n",
    "#                 y_probas = pd.DataFrame(proba_values[j], columns = sorted(y_[y_col].unique()))\n",
    "                y_probas = pd.DataFrame(proba_values[j], columns = factors_mean.loc[y_col].index.values)\n",
    "                y_out1[y_col] = (y_probas/factors_mean.loc[y_col]).idxmax(1)#.value_counts().sort_index()\n",
    "\n",
    "            ## Listo\n",
    "            y_censo_fit1 = pd.DataFrame(y_out1, index = X_q.index, columns=predecir1)\n",
    "\n",
    "            Xy1_censo = pd.concat([X_q, y_censo_fit1], axis = 1)\n",
    "\n",
    "#             save\n",
    "            Xy1_censo.to_csv(data_filename1, index = False)\n",
    "    \n",
    "            del X_q; del Xy1_censo; del clf1\n",
    "            gc.collect()\n",
    "\n",
    "        print('C2')\n",
    "        ## CLASIF 2\n",
    "        data_filename2 = '/media/miglesia/Elements/suite/yr_samples/RFC2_'+str(frac)+'_'+str(q)[:10]+'_ARG.csv'\n",
    "        if not os.path.exists(data_filename2):\n",
    "            model_filename2 = '/home/miglesia/repositories/encuestador-de-hogares/fitted_RF/clf2_'+yr+'_ARG'\n",
    "            #         filename = '/media/miglesia/Elements/CENSO_dirs/Pobreza/fitted_RF/clf2_0.02_'+yr+'_ARG.sav'\n",
    "            clf2 = joblib.load(model_filename2)\n",
    "            # clf2 = pickle.load(open(model_filename2+'.sav', 'rb'))\n",
    "    \n",
    "            Xy1_censo = pd.read_csv(data_filename1)\n",
    "        \n",
    "            ## Prediccion sin balance\n",
    "#                     y_out2 = clf2.predict(Xy1_censo[x_cols2].values)\n",
    "\n",
    "            ## Prediccion usando predict proba y factores de balance.\n",
    "            y_out2 = pd.DataFrame([])\n",
    "            proba_values = clf2.predict_proba(Xy1_censo[x_cols2])\n",
    "\n",
    "            ## Leer factores de archivo json\n",
    "            tag = 'clf2_'+yr+'_ARG'\n",
    "            with open('/home/miglesia/repositories/encuestador-de-hogares/data/training/factors/'+tag+'.json', 'r') as file:\n",
    "                info = json.load(file)\n",
    "            factors_mean = pd.DataFrame(json.loads(info[tag])).stack()\n",
    "            factors_mean.index.names = ['variable', 'valor']\n",
    "            factors_mean.index = factors_mean.index.set_levels(factors_mean.index.levels[1].astype(float).astype(int), level='valor')\n",
    "\n",
    "            for j, y_col in enumerate(y_cols2):\n",
    "#                 y_probas = pd.DataFrame(proba_values[j], columns = sorted(y_[y_col].unique()))\n",
    "                y_probas = pd.DataFrame(proba_values[j], columns = factors_mean.loc[y_col].index.values)\n",
    "                y_out2[y_col] = (y_probas/factors_mean.loc[y_col]).idxmax(1)#.value_counts().sort_index()\n",
    "\n",
    "            ## Listo\n",
    "            y_censo_fit2 = pd.DataFrame(y_out2, index = Xy1_censo.index, columns=predecir2)\n",
    "            \n",
    "            Xy2_censo = pd.concat([Xy1_censo, y_censo_fit2], axis = 1)\n",
    "\n",
    "#             save\n",
    "            Xy2_censo.to_csv(data_filename2, index = False)\n",
    "            del Xy2_censo; del clf2\n",
    "            gc.collect()\n",
    "        print('C3')\n",
    "\n",
    "        ## CLASIF 3\n",
    "        data_filename3 = '/media/miglesia/Elements/suite/yr_samples/RFC3_'+str(frac)+'_'+str(q)[:10]+'_ARG.csv'\n",
    "        if not os.path.exists(data_filename3):\n",
    "            model_filename3 = '/home/miglesia/repositories/encuestador-de-hogares/fitted_RF/clf3_'+yr+'_ARG'\n",
    "            #         filename = '/media/miglesia/Elements/CENSO_dirs/Pobreza/fitted_RF/clf3_0.02_'+yr+'_ARG.sav'\n",
    "            clf3 = joblib.load(model_filename3)\n",
    "            # clf3 = pickle.load(open(model_filename3+'.sav', 'rb'))\n",
    "\n",
    "            Xy2_censo = pd.read_csv(data_filename2)\n",
    "            \n",
    "                        ## Prediccion sin balance\n",
    "#             y_out3 = clf3.predict(Xy2_censo[x_cols3].values)\n",
    "\n",
    "            ## Prediccion usando predict proba y factores de balance.\n",
    "            y_out3 = pd.DataFrame([])\n",
    "            proba_values = clf3.predict_proba(Xy2_censo[x_cols3])\n",
    "\n",
    "            ## Leer factores de archivo json\n",
    "            tag = 'clf3_'+yr+'_ARG'\n",
    "            with open('/home/miglesia/repositories/encuestador-de-hogares/data/training/factors/'+tag+'.json', 'r') as file:\n",
    "                info = json.load(file)\n",
    "            factors_mean = pd.DataFrame(json.loads(info[tag])).stack()\n",
    "            factors_mean.index.names = ['variable', 'valor']\n",
    "            factors_mean.index = factors_mean.index.set_levels(factors_mean.index.levels[1].astype(float).astype(int), level='valor')\n",
    "\n",
    "            for j, y_col in enumerate(y_cols3):\n",
    "#                 y_probas = pd.DataFrame(proba_values[j], columns = sorted(y_[y_col].unique()))\n",
    "                y_probas = pd.DataFrame(proba_values[j], columns = factors_mean.loc[y_col].index.values)\n",
    "                y_out3[y_col] = (y_probas/factors_mean.loc[y_col]).idxmax(1)#.value_counts().sort_index()\n",
    "\n",
    "            ## Listo\n",
    "            y_censo_fit3 = pd.DataFrame(y_out3, index = Xy2_censo.index, columns=predecir3)\n",
    "\n",
    "            Xy3_censo = pd.concat([Xy2_censo, y_censo_fit3], axis = 1)\n",
    "#             save\n",
    "            Xy3_censo.to_csv(data_filename3, index = False)\n",
    "\n",
    "            del Xy3_censo; del clf3\n",
    "            gc.collect()\n",
    "            \n",
    "            \n",
    "        print('reg')\n",
    "        # REGRESION            \n",
    "        data_filename4 = '/media/miglesia/Elements/suite/yr_samples/RFReg_'+str(frac)+'_'+str(q)[:10]+'_ARG.csv'\n",
    "        if not os.path.exists(data_filename4):\n",
    "\n",
    "            ## Cargar Modelo\n",
    "            model_filename4 = '/home/miglesia/repositories/encuestador-de-hogares/fitted_RF/clf4_'+str(q)[:10]+'_ARG'\n",
    "    #         filename = '/media/miglesia/Elements/CENSO_dirs/Pobreza/fitted_RF/clf4_0.02_'+str(q)[:10]+'_ARG.sav'\n",
    "#             clf4 = pickle.load(open(model_filename4+'sav', 'rb'))\n",
    "            clf4 = joblib.load(model_filename4)\n",
    "\n",
    "            Xy3_censo = pd.read_csv(data_filename3)\n",
    "            y_out4 = clf4.predict(Xy3_censo[x_cols4].values); del clf4\n",
    "            y_censo_fit4 = pd.DataFrame(y_out4, index = Xy3_censo.index, columns=predecir4)\n",
    "\n",
    "            Xy4_censo = pd.concat([Xy3_censo, y_censo_fit4], axis = 1)\n",
    "#             save\n",
    "            Xy4_censo.to_csv(data_filename4, index = False)\n",
    "\n",
    "            del Xy4_censo;\n",
    "            gc.collect()\n",
    "            \n",
    "        print(sorted([(x, sys.getsizeof(globals().get(x))) for x in dir() if not x.startswith('_') and x not in sys.modules and x not in ipython_vars], key=lambda x: x[1], reverse=True)[:5])\n",
    "                    \n",
    "    del X_censo; #del clf1; del clf2; del clf3\n"
   ]
  },
  {
   "cell_type": "code",
   "execution_count": 19,
   "metadata": {},
   "outputs": [
    {
     "data": {
      "text/html": [
       "<div>\n",
       "<style scoped>\n",
       "    .dataframe tbody tr th:only-of-type {\n",
       "        vertical-align: middle;\n",
       "    }\n",
       "\n",
       "    .dataframe tbody tr th {\n",
       "        vertical-align: top;\n",
       "    }\n",
       "\n",
       "    .dataframe thead th {\n",
       "        text-align: right;\n",
       "    }\n",
       "</style>\n",
       "<table border=\"1\" class=\"dataframe\">\n",
       "  <thead>\n",
       "    <tr style=\"text-align: right;\">\n",
       "      <th></th>\n",
       "      <th>desoc</th>\n",
       "      <th>censo2010_ratio</th>\n",
       "    </tr>\n",
       "    <tr>\n",
       "      <th>Q</th>\n",
       "      <th></th>\n",
       "      <th></th>\n",
       "    </tr>\n",
       "  </thead>\n",
       "  <tbody>\n",
       "    <tr>\n",
       "      <th>2020-11-15</th>\n",
       "      <td>10.957932</td>\n",
       "      <td>1.501087</td>\n",
       "    </tr>\n",
       "    <tr>\n",
       "      <th>2021-02-15</th>\n",
       "      <td>10.200000</td>\n",
       "      <td>1.397260</td>\n",
       "    </tr>\n",
       "    <tr>\n",
       "      <th>2021-05-15</th>\n",
       "      <td>9.600903</td>\n",
       "      <td>1.315192</td>\n",
       "    </tr>\n",
       "    <tr>\n",
       "      <th>2021-08-15</th>\n",
       "      <td>8.200000</td>\n",
       "      <td>1.123288</td>\n",
       "    </tr>\n",
       "    <tr>\n",
       "      <th>2021-11-15</th>\n",
       "      <td>7.000000</td>\n",
       "      <td>0.958904</td>\n",
       "    </tr>\n",
       "  </tbody>\n",
       "</table>\n",
       "</div>"
      ],
      "text/plain": [
       "                desoc  censo2010_ratio\n",
       "Q                                     \n",
       "2020-11-15  10.957932         1.501087\n",
       "2021-02-15  10.200000         1.397260\n",
       "2021-05-15   9.600903         1.315192\n",
       "2021-08-15   8.200000         1.123288\n",
       "2021-11-15   7.000000         0.958904"
      ]
     },
     "execution_count": 19,
     "metadata": {},
     "output_type": "execute_result"
    }
   ],
   "source": [
    "empleo.tail()#.loc[pd.to_datetime(q)].censo2010_ratio"
   ]
  },
  {
   "cell_type": "code",
   "execution_count": null,
   "metadata": {},
   "outputs": [],
   "source": []
  }
 ],
 "metadata": {
  "kernelspec": {
   "display_name": "Python 3",
   "language": "python",
   "name": "python3"
  },
  "language_info": {
   "codemirror_mode": {
    "name": "ipython",
    "version": 3
   },
   "file_extension": ".py",
   "mimetype": "text/x-python",
   "name": "python",
   "nbconvert_exporter": "python",
   "pygments_lexer": "ipython3",
   "version": "3.8.5"
  }
 },
 "nbformat": 4,
 "nbformat_minor": 2
}
