{
 "cells": [
  {
   "cell_type": "markdown",
   "metadata": {},
   "source": [
    "# Predicting on CENSO samples."
   ]
  },
  {
   "cell_type": "code",
   "execution_count": 1,
   "metadata": {},
   "outputs": [],
   "source": [
    "### IMPORTANTE ELEGIR ANIOS\n",
    "startyr = 2018\n",
    "endyr = 2019"
   ]
  },
  {
   "cell_type": "code",
   "execution_count": 2,
   "metadata": {},
   "outputs": [
    {
     "data": {
      "text/html": [
       "<style>.container { width:100% !important; }</style>"
      ],
      "text/plain": [
       "<IPython.core.display.HTML object>"
      ]
     },
     "metadata": {},
     "output_type": "display_data"
    }
   ],
   "source": [
    "# Load modules\n",
    "import warnings\n",
    "warnings.filterwarnings('ignore')\n",
    "\n",
    "import pandas as pd\n",
    "import numpy as np\n",
    "\n",
    "from sklearn.model_selection import train_test_split\n",
    "from sklearn.ensemble import RandomForestClassifier, RandomForestRegressor\n",
    "from IPython.core.display import display, HTML\n",
    "\n",
    "import pickle\n",
    "from IPython.core.display import display, HTML\n",
    "display(HTML(\"<style>.container { width:100% !important; }</style>\"))\n",
    "\n",
    "import os"
   ]
  },
  {
   "cell_type": "code",
   "execution_count": 3,
   "metadata": {},
   "outputs": [],
   "source": [
    "# Column names\n",
    "y_cols = ['CAT_OCUP', 'P47T', 'PP10E', 'PP10D', 'PP07K', 'PP07I', 'V3_M', 'PP07G4', 'CH16', 'T_VI', \n",
    "          'V12_M', 'TOT_P12', 'PP07G3', 'V5_M', 'PP07H', 'V2_M', 'PP10C', \n",
    "          'PP08D1', 'PP07J', 'CAT_INAC', 'CH07', 'CH08', 'P21', 'PP07G1', 'PP07G_59', 'PP07G2']\n",
    "\n",
    "\n",
    "x_cols = ['IX_TOT', 'P02', 'P03', 'AGLO_rk', 'Reg_rk', 'V01', 'H05', 'H06',\n",
    "       'H07', 'H08', 'H09', 'H10', 'H11', 'H12', 'H16', 'H15', 'PROP', 'H14',\n",
    "       'H13', 'P07', 'P08', 'P09', 'P10', 'P05', 'CONDACT']\n",
    "\n",
    "x_cols1 = x_cols\n",
    "predecir1 = ['CAT_OCUP', 'CAT_INAC', 'CH07']\n",
    "\n",
    "x_cols2 = x_cols1 + predecir1\n",
    "predecir2 = ['INGRESO', 'INGRESO_NLB', 'INGRESO_JUB', 'INGRESO_SBS']\n",
    "\n",
    "x_cols3 = x_cols2 + predecir2\n",
    "# La seccion PP07G pregunta si el trabajo es en blanco y que beneficios tiene. Puede ayudar a la regresion para ingresos.\n",
    "# predecir3 = ['PP07G1', 'PP07G2', 'PP07G3', 'PP07G4', 'PP07G_59', 'PP07H', 'PP07I', 'PP07J', 'PP07K']\n",
    "predecir3 = ['PP07G1','PP07G_59', 'PP07I', 'PP07J', 'PP07K']\n",
    "\n",
    "# Columnas de ingresos. Necesitan una regresion...\n",
    "columnas_pesos = [u'P21', u'P47T', u'PP08D1', u'TOT_P12', u'T_VI', u'V12_M', u'V2_M', u'V3_M', u'V5_M']\n",
    "# P21: INGRESO DE LA OCUPACIÓN PRINCIPAL \n",
    "# P47T: TOTAL (laboral y no laboral)\n",
    "# PP08D1: Sueldos, jornales, etc.\n",
    "# TOT_P12: TOTAL DE INGRESO  POR  OTRAS OCUPACIONES (Secundaria, previa...)\n",
    "# T_VI: TOTAL DE INGRESOS NO LABORALES\n",
    "# V12_M:  CUOTAS DE ALIMENTOS O AYUDA EN DINERO  DE PERSONAS QUE NO VIVEN EN EL HOGAR \n",
    "# V2_M: ingreso por JUBILACION O PENSION\n",
    "# V3_M: INDEMNIZACION POR DESPIDO \n",
    "# V5_M: SUBSIDIO  O AYUDA SOCIAL DEL GOBIERNO, IGLESIAS, ETC.\n",
    "\n",
    "x_cols4 = x_cols3 + predecir3\n",
    "# Columnas de ingresos. Necesitan una regresion...\n",
    "predecir4 = columnas_pesos\n",
    "y_cols4 = predecir4"
   ]
  },
  {
   "cell_type": "markdown",
   "metadata": {},
   "source": [
    "### Load info"
   ]
  },
  {
   "cell_type": "code",
   "execution_count": 4,
   "metadata": {
    "scrolled": false
   },
   "outputs": [],
   "source": [
    "radio_ref = pd.read_csv('./../data/info/radio_ref.csv')\n",
    "# radio_ref[['PROV','NOMPROV','DPTO', 'NOMDPTO']].drop_duplicates().to_csv('./../data/DPTO_PROV.csv', index = False)\n",
    "dpto_region = pd.read_csv('./../data/info/DPTO_PROV_Region.csv')\n",
    "radio_ref = radio_ref.merge(dpto_region)\n",
    "\n",
    "AGLO_rk = pd.read_csv('./../data/info/AGLO_rk')\n",
    "Reg_rk = pd.read_csv('./../data/info/Reg_rk')"
   ]
  },
  {
   "cell_type": "code",
   "execution_count": 5,
   "metadata": {},
   "outputs": [],
   "source": [
    "frac = 0.02"
   ]
  },
  {
   "cell_type": "code",
   "execution_count": 6,
   "metadata": {},
   "outputs": [],
   "source": [
    "# desemp_ratio = pd.read_csv('./../../../Desktop/nivel_empleo/unemp_ratio_censo2010.csv', index_col=0)\n",
    "desemp_ratio = pd.read_csv('./../data/info/unemp_ratio_censo2010.csv', index_col=0)\n",
    "desemp_ratio.index = pd.DatetimeIndex(desemp_ratio.index)\n",
    "desemp_ratio.index = desemp_ratio.index - pd.to_timedelta(desemp_ratio.index.day - 15, unit='d') - pd.DateOffset(months=1)\n",
    "desemp_ratio.index.name = 'Q'\n"
   ]
  },
  {
   "cell_type": "markdown",
   "metadata": {},
   "source": [
    "# Predicting"
   ]
  },
  {
   "cell_type": "code",
   "execution_count": 7,
   "metadata": {},
   "outputs": [
    {
     "name": "stdout",
     "output_type": "stream",
     "text": [
      "['2003-08-15', '2003-11-15', '2004-02-15', '2004-05-15', '2004-08-15']\n",
      "['2019-11-15', '2020-02-15', '2020-05-15', '2020-08-15', '2020-11-15']\n"
     ]
    }
   ],
   "source": [
    "import datetime as dt\n",
    "## Trimestres con ingresos disponibles (depende de disponibilidad de microdatos EPH)\n",
    "import glob\n",
    "\n",
    "fuente_modelos = 'encuestador-de-hogares' # 'indice-pobreza-ExactasUBA'\n",
    "path = '/media/miglesia/Elements/suite/'+fuente_modelos+'/fitted_RF/clf4_' # use your path\n",
    "\n",
    "allFiles = []\n",
    "# allFiles += glob.glob(path +'*.sav')\n",
    "# allqs = [f[-18:-8] for f in allFiles]\n",
    "\n",
    "allFiles += glob.glob(path +'*')\n",
    "allqs = [f[-14:-4] for f in allFiles]\n",
    "print(sorted(allqs)[:5])\n",
    "print(sorted(allqs)[-5:])"
   ]
  },
  {
   "cell_type": "code",
   "execution_count": 8,
   "metadata": {},
   "outputs": [],
   "source": [
    "import gc\n",
    "import joblib\n",
    "\n",
    "import sys\n",
    "# These are the usual ipython objects, including this one you are creating\n",
    "ipython_vars = ['In', 'Out', 'exit', 'quit', 'get_ipython', 'ipython_vars']\n",
    "\n",
    "# Eg. Get a sorted list of the objects and their sizes\n",
    "# def mem_prof():\n",
    "#     result = sorted([(x, sys.getsizeof(globals().get(x))) for x in dir() if not x.startswith('_') and x not in sys.modules and x not in ipython_vars], key=lambda x: x[1], reverse=True)\n",
    "#     return result\n",
    "\n",
    "if not os.path.exists('./../data/yr_samples'):\n",
    "    os.makedirs('./../data/yr_samples')"
   ]
  },
  {
   "cell_type": "markdown",
   "metadata": {},
   "source": [
    "### Classification 1\n",
    "Columnas ['CAT_OCUP', 'CAT_INAC', 'CH07']\n",
    "\n",
    "### Classification 2\n",
    "Columna INGRESO\n",
    "\n",
    "### Classification 3\n",
    "Columnas ['PP07G1', 'PP07G2', 'PP07G3', 'PP07G4', 'PP07G_59', 'PP07H', 'PP07I', 'PP07J', 'PP07K']\n",
    "\n",
    "### Regresion"
   ]
  },
  {
   "cell_type": "code",
   "execution_count": null,
   "metadata": {
    "scrolled": false
   },
   "outputs": [
    {
     "name": "stdout",
     "output_type": "stream",
     "text": [
      "2018\n",
      "['2018-02-15' '2018-05-15' '2018-08-15' '2018-11-15']\n",
      "[('X_censo', 277697772), ('radio_ref', 17219219), ('dpto_region', 121030), ('DPTO_Region', 44574), ('desemp_ratio', 1768)]\n",
      "[('X_censo', 277697772), ('radio_ref', 17219219), ('dpto_region', 121030), ('DPTO_Region', 44574), ('desemp_ratio', 1768)]\n",
      "p4\n",
      "2018-02-15\n",
      "0.06738513870480392\n",
      "C1\n",
      "C2\n",
      "C3\n",
      "reg\n",
      "[('Xy3_censo', 412647922), ('Xy2_censo', 377670402), ('Xy1_censo', 349688386), ('X_censo', 319640812), ('y_censo_fit1', 69925072)]\n",
      "p4\n",
      "2018-05-15\n",
      "0.07108794987533715\n",
      "C1\n"
     ]
    }
   ],
   "source": [
    "\n",
    "for yr in [str(s) for s in range(startyr, endyr)]:\n",
    "    print(yr)\n",
    "        \n",
    "#     file_ = './../data/yr_samples/sample_censo_table_f'+str(frac)+'_'+yr+'_ARG.csv'\n",
    "#     file_ = '/media/miglesia/Elements/CENSO_dirs/extracted_/yr_samples/sample_censo_table_f'+str(frac)+'_'+yr+'_ARG.csv'\n",
    "    file_ = '/media/miglesia/Elements/suite/yr_samples/sample_censo_table_f'+str(frac)+'_'+yr+'_ARG.csv'\n",
    "\n",
    "\n",
    "    X_censo = pd.read_csv(file_, usecols = ['DPTO','RADIO_REF_ID','PERSONA_REF_ID', 'HOGAR_REF_ID','IX_TOT', 'P02', 'P03', 'CONDACT', 'AGLOMERADO', 'V01', 'H05', 'H06',\n",
    "           'H07', 'H08', 'H09', 'H10', 'H11', 'H12', 'H16', 'H15', 'PROP', 'H14',\n",
    "           'H13', 'P07', 'P08', 'P09', 'P10', 'P05']).fillna(0)\n",
    "    \n",
    "    DPTO_Region = radio_ref[['DPTO', 'Region']].drop_duplicates()\n",
    "    X_censo = X_censo.merge(DPTO_Region)\n",
    "#     print(X_censo.merge(radio_ref[['RADIO_REF_ID', 'PROV']], how = 'left')['PROV'].nunique())\n",
    "    X_censo = X_censo.merge(AGLO_rk[['AGLOMERADO', 'AGLO_rk']]).merge(Reg_rk[['Region', 'Reg_rk']])\n",
    "    \n",
    "\n",
    "    ## Tratamiento trimestral \n",
    "    \n",
    "#     qs = pd.read_csv('./../data/training/EPHARG_train_'+yr[2:]+'.csv', usecols=['Q'])\n",
    "#     qs = pd.date_range(start = dt.datetime(int(yr),3,31), end = dt.datetime(int(yr),12,31), freq='Q').values\n",
    "    qs = np.array(allqs)[[i for i, si in enumerate(allqs) if si.startswith(yr)]]\n",
    "    print(qs)\n",
    "    \n",
    "    desemp_ARG_censo = 1174037/(18645609 + 1174037)\n",
    "    CONDACT_cnts = X_censo.CONDACT.value_counts()\n",
    "    \n",
    "    print(sorted([(x, sys.getsizeof(globals().get(x))) for x in dir() if not x.startswith('_') and x not in sys.modules and x not in ipython_vars], key=lambda x: x[1], reverse=True)[:5])\n",
    "    \n",
    "    ### Cargar modelos de la parte no trimestral (anual).\n",
    "\n",
    "    print(sorted([(x, sys.getsizeof(globals().get(x))) for x in dir() if not x.startswith('_') and x not in sys.modules and x not in ipython_vars], key=lambda x: x[1], reverse=True)[:5])\n",
    "\n",
    "    for q in sorted(qs):\n",
    "        X_q = X_censo.copy()\n",
    "        X_q['Q'] = q\n",
    "        print('p4')\n",
    "\n",
    "        # desemp_ARG_censo_sample = CONDACT_cnts.loc[2]/(CONDACT_cnts.loc[1] + CONDACT_cnts.loc[2])\n",
    "        \n",
    "        ratio = desemp_ratio.loc[pd.to_datetime(q)].censo2010_ratio\n",
    "        n_desempleados_ = ratio*(CONDACT_cnts[1] + CONDACT_cnts[2])*desemp_ARG_censo\n",
    "        desemp_adic = round(n_desempleados_ - CONDACT_cnts.loc[2]) # Desempleados adicionales\n",
    "        print(str(q)[:10])\n",
    "#         print(desemp_adic)\n",
    "\n",
    "        if desemp_adic > 0:\n",
    "            X_q.loc[\n",
    "                X_q.query('CONDACT == 1').sample(desemp_adic).index,\n",
    "                'CONDACT'\n",
    "            ] = 2\n",
    "        elif desemp_adic < 0:\n",
    "            X_q.loc[\n",
    "                X_q.query('CONDACT == 2').sample(- desemp_adic).index,\n",
    "                'CONDACT'\n",
    "            ] = 1\n",
    "\n",
    "        desempleo = X_q.CONDACT.value_counts().loc[2] / (X_q.CONDACT.value_counts().loc[1] + X_q.CONDACT.value_counts().loc[2])\n",
    "        print(desempleo)\n",
    "        \n",
    "#         print('/media/miglesia/Elements/suite/'+fuente_modelos+'/fitted_RF/clf1_'+str(frac)+'_'+yr+'_ARG')\n",
    "#         break\n",
    "        \n",
    "\n",
    "        #################################    #################################    #################################\n",
    "        print('C1')\n",
    "        ## CLASIF 1\n",
    "        data_filename1 = './../data/yr_samples/RFC1_'+str(frac)+'_'+str(q)[:10]+'_ARG.csv'\n",
    "        if not os.path.exists(data_filename1):\n",
    "            model_filename1 = '/media/miglesia/Elements/suite/'+fuente_modelos+'/fitted_RF/clf1_'+str(frac)+'_'+yr+'_ARG'\n",
    "            # clf1 = pickle.load(open(model_filename1+'.sav', 'rb'))\n",
    "            clf1 = joblib.load(model_filename1)\n",
    "\n",
    "            y_out1 = clf1.predict(X_q[x_cols1].values)\n",
    "            y_censo_fit1 = pd.DataFrame(y_out1, index = X_q.index, columns=predecir1)\n",
    "            Xy1_censo = pd.concat([X_q, y_censo_fit1], axis = 1)\n",
    "\n",
    "#             save\n",
    "            Xy1_censo.to_csv(data_filename1, index = False)\n",
    "    \n",
    "            del X_q; del Xy1_censo; del clf1\n",
    "            gc.collect()\n",
    "\n",
    "        print('C2')\n",
    "        ## CLASIF 2\n",
    "        data_filename2 = './../data/yr_samples/RFC2_'+str(frac)+'_'+str(q)[:10]+'_ARG.csv'\n",
    "        if not os.path.exists(data_filename2):\n",
    "            model_filename2 = '/media/miglesia/Elements/suite/'+fuente_modelos+'/fitted_RF/clf2_'+str(frac)+'_'+yr+'_ARG'\n",
    "            #         filename = '/media/miglesia/Elements/CENSO_dirs/Pobreza/fitted_RF/clf2_'+str(frac)+'_'+yr+'_ARG.sav'\n",
    "            clf2 = joblib.load(model_filename2)\n",
    "            # clf2 = pickle.load(open(model_filename2+'.sav', 'rb'))\n",
    "    \n",
    "            Xy1_censo = pd.read_csv(data_filename1)\n",
    "            y_out2 = clf2.predict(Xy1_censo[x_cols2].values)\n",
    "            y_censo_fit2 = pd.DataFrame(y_out2, index = Xy1_censo.index, columns=predecir2)\n",
    "\n",
    "            Xy2_censo = pd.concat([Xy1_censo, y_censo_fit2], axis = 1)\n",
    "\n",
    "#             save\n",
    "            Xy2_censo.to_csv(data_filename2, index = False)\n",
    "            del Xy2_censo; del clf2\n",
    "            gc.collect()\n",
    "        print('C3')\n",
    "\n",
    "        ## CLASIF 3\n",
    "        data_filename3 = './../data/yr_samples/RFC3_'+str(frac)+'_'+str(q)[:10]+'_ARG.csv'\n",
    "        if not os.path.exists(data_filename3):\n",
    "            model_filename3 = '/media/miglesia/Elements/suite/'+fuente_modelos+'/fitted_RF/clf3_'+str(frac)+'_'+yr+'_ARG'\n",
    "            #         filename = '/media/miglesia/Elements/CENSO_dirs/Pobreza/fitted_RF/clf3_'+str(frac)+'_'+yr+'_ARG.sav'\n",
    "            clf3 = joblib.load(model_filename3)\n",
    "            # clf3 = pickle.load(open(model_filename3+'.sav', 'rb'))\n",
    "\n",
    "            Xy2_censo = pd.read_csv(data_filename2)\n",
    "            y_out3 = clf3.predict(Xy2_censo[x_cols3].values)\n",
    "            y_censo_fit3 = pd.DataFrame(y_out3, index = Xy2_censo.index, columns=predecir3)\n",
    "\n",
    "            Xy3_censo = pd.concat([Xy2_censo, y_censo_fit3], axis = 1)\n",
    "#             save\n",
    "            Xy3_censo.to_csv(data_filename3, index = False)\n",
    "\n",
    "            del Xy3_censo; del clf3\n",
    "            gc.collect()\n",
    "        print('reg')\n",
    "        # REGRESION            \n",
    "        data_filename4 = './../data/yr_samples/RFReg_'+str(frac)+'_'+str(q)[:10]+'_ARG.csv'\n",
    "        if not os.path.exists(data_filename4):\n",
    "\n",
    "            ## Cargar Modelo\n",
    "            model_filename4 = '/media/miglesia/Elements/suite/'+fuente_modelos+'/fitted_RF/clf4_'+str(frac)+'_'+str(q)[:10]+'_ARG'\n",
    "    #         filename = '/media/miglesia/Elements/CENSO_dirs/Pobreza/fitted_RF/clf4_'+str(frac)+'_'+str(q)[:10]+'_ARG.sav'\n",
    "#             clf4 = pickle.load(open(model_filename4+'sav', 'rb'))\n",
    "            clf4 = joblib.load(model_filename4)\n",
    "\n",
    "            Xy3_censo = pd.read_csv(data_filename3)\n",
    "            y_out4 = clf4.predict(Xy3_censo[x_cols4].values); del clf4\n",
    "            y_censo_fit4 = pd.DataFrame(y_out4, index = Xy3_censo.index, columns=predecir4)\n",
    "\n",
    "            Xy4_censo = pd.concat([Xy3_censo, y_censo_fit4], axis = 1)\n",
    "#             save\n",
    "            Xy4_censo.to_csv(data_filename4, index = False)\n",
    "\n",
    "            del Xy4_censo;\n",
    "            gc.collect()\n",
    "            \n",
    "        print(sorted([(x, sys.getsizeof(globals().get(x))) for x in dir() if not x.startswith('_') and x not in sys.modules and x not in ipython_vars], key=lambda x: x[1], reverse=True)[:5])\n",
    "                    \n",
    "    del X_censo; #del clf1; del clf2; del clf3\n"
   ]
  },
  {
   "cell_type": "code",
   "execution_count": null,
   "metadata": {},
   "outputs": [],
   "source": []
  }
 ],
 "metadata": {
  "kernelspec": {
   "display_name": "Python 3",
   "language": "python",
   "name": "python3"
  },
  "language_info": {
   "codemirror_mode": {
    "name": "ipython",
    "version": 3
   },
   "file_extension": ".py",
   "mimetype": "text/x-python",
   "name": "python",
   "nbconvert_exporter": "python",
   "pygments_lexer": "ipython3",
   "version": "3.8.5"
  }
 },
 "nbformat": 4,
 "nbformat_minor": 2
}
