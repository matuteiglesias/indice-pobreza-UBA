{
 "cells": [
  {
   "cell_type": "code",
   "execution_count": 2,
   "metadata": {},
   "outputs": [
    {
     "data": {
      "text/html": [
       "<style>.container { width:100% !important; }</style>"
      ],
      "text/plain": [
       "<IPython.core.display.HTML object>"
      ]
     },
     "metadata": {},
     "output_type": "display_data"
    }
   ],
   "source": [
    "import geopandas as gpd\n",
    "import pandas as pd\n",
    "\n",
    "from IPython.core.display import display, HTML\n",
    "display(HTML(\"<style>.container { width:100% !important; }</style>\"))"
   ]
  },
  {
   "cell_type": "code",
   "execution_count": 3,
   "metadata": {},
   "outputs": [],
   "source": [
    "\n",
    "### Sampleo \"Pesado\" de Censo, para poder tener buena calidad en areas pequenas.\n",
    "\n",
    "### Prediccion en base a modelos. Ultimos 4 trimestres disponibles.\n",
    "\n",
    "### Generar dataset de pobreza\n"
   ]
  },
  {
   "cell_type": "code",
   "execution_count": 4,
   "metadata": {},
   "outputs": [
    {
     "data": {
      "text/plain": [
       "'2022-09-14'"
      ]
     },
     "execution_count": 4,
     "metadata": {},
     "output_type": "execute_result"
    }
   ],
   "source": [
    "\n",
    "from datetime import datetime\n",
    "hoy = datetime.today().strftime('%Y-%m-%d')\n",
    "hoy"
   ]
  },
  {
   "cell_type": "code",
   "execution_count": null,
   "metadata": {},
   "outputs": [],
   "source": []
  },
  {
   "cell_type": "markdown",
   "metadata": {},
   "source": [
    "# 1. Sampleo Censo"
   ]
  },
  {
   "cell_type": "code",
   "execution_count": 5,
   "metadata": {},
   "outputs": [
    {
     "data": {
      "text/plain": [
       "['/media/miglesia/Elements/suite/encuestador-de-hogares/fitted_RF/clf4_2021-05-15_ARG',\n",
       " '/media/miglesia/Elements/suite/encuestador-de-hogares/fitted_RF/clf4_2021-08-15_ARG',\n",
       " '/media/miglesia/Elements/suite/encuestador-de-hogares/fitted_RF/clf4_2021-11-15_ARG',\n",
       " '/media/miglesia/Elements/suite/encuestador-de-hogares/fitted_RF/clf4_2022-02-15_ARG']"
      ]
     },
     "execution_count": 5,
     "metadata": {},
     "output_type": "execute_result"
    }
   ],
   "source": [
    "import datetime as dt\n",
    "## Trimestres con ingresos disponibles (depende de disponibilidad de microdatos EPH)\n",
    "import glob\n",
    "\n",
    "fuente_modelos = 'encuestador-de-hogares' # \n",
    "modelos_trimestrales = '/media/miglesia/Elements/suite/'+fuente_modelos+'/fitted_RF/clf4_' # use your path\n",
    "\n",
    "allFiles = []\n",
    "allFiles += glob.glob(modelos_trimestrales +'*'+'ARG')\n",
    "allFiles = sorted(allFiles)\n",
    "FilesActual = allFiles[-4:]\n",
    "FilesActual"
   ]
  },
  {
   "cell_type": "code",
   "execution_count": 6,
   "metadata": {},
   "outputs": [],
   "source": [
    "import numpy as np\n",
    "from pathlib import Path\n",
    "\n",
    "qstrings = np.unique([Path(f).name.split('_')[-2] for f in  FilesActual])\n",
    "ystrings = np.unique([Path(f).name.split('_')[-2].split('-')[0] for f in  FilesActual])\n",
    "yrs = [int(y) for y in ystrings]\n",
    "\n",
    "startyr = min(yrs)\n",
    "endyr = max(yrs) + 1"
   ]
  },
  {
   "cell_type": "code",
   "execution_count": 7,
   "metadata": {},
   "outputs": [],
   "source": [
    "import os\n",
    "\n",
    "if not os.path.exists('./../../samplerCensoARG/'):\n",
    "    !git clone https://github.com/matuteiglesias/samplerCensoARG.git ./../../"
   ]
  },
  {
   "cell_type": "code",
   "execution_count": null,
   "metadata": {},
   "outputs": [],
   "source": []
  },
  {
   "cell_type": "code",
   "execution_count": 8,
   "metadata": {},
   "outputs": [],
   "source": [
    "frac = 0.02 ## Frac needs to be the fraction used in the sampling (eg. -f 0.01 needs frac = 0.01)\n",
    "\n",
    "sample_tag = 'CSactual'\n",
    "\n",
    "# Comentar si los datasets ya estan calculados\n",
    "# for j in range(2):\n",
    "#     sample_tag = str(10*j).zfill(3)\n",
    "#     print(sample_tag)\n",
    "    \n",
    "# !python ./../../samplerCensoARG/samplear.py -dbp '/media/miglesia/Elements/suite/ext_CPV2010_basico_radio_pub' -f $frac -y $startyr $endyr -n $sample_tag\n"
   ]
  },
  {
   "cell_type": "code",
   "execution_count": 8,
   "metadata": {},
   "outputs": [
    {
     "ename": "SyntaxError",
     "evalue": "invalid syntax (<ipython-input-8-42b8a69ce876>, line 18)",
     "output_type": "error",
     "traceback": [
      "\u001b[0;36m  File \u001b[0;32m\"<ipython-input-8-42b8a69ce876>\"\u001b[0;36m, line \u001b[0;32m18\u001b[0m\n\u001b[0;31m    if not os.exists(out_filename)\u001b[0m\n\u001b[0m                                  ^\u001b[0m\n\u001b[0;31mSyntaxError\u001b[0m\u001b[0;31m:\u001b[0m invalid syntax\n"
     ]
    }
   ],
   "source": [
    "\n",
    "AGLO_rk = pd.read_csv('./../../encuestador-de-hogares/data/info/AGLO_rk')\n",
    "rk_table = AGLO_rk.set_index(['ANO4', 'AGLOMERADO']).unstack()\n",
    "AGLO_rk_filled = rk_table.fillna(rk_table.mean()).stack().reset_index()\n",
    "AGLO_rk = AGLO_rk_filled\n",
    "\n",
    "Reg_rk = pd.read_csv('./../../encuestador-de-hogares/data/info/Reg_rk')\n",
    "\n",
    "dpto_region = pd.read_csv('./../data/info/DPTO_PROV_Region.csv')\n",
    "\n",
    "# for j in range(2):\n",
    "#     sample_tag = str(10*j).zfill(3)\n",
    "#     print(sample_tag)\n",
    "    \n",
    "for yr in [str(s) for s in range(startyr, endyr)]:\n",
    "    print(yr)\n",
    "    out_filename = '/media/miglesia/Elements/suite/yr_samples/table_f'+str(frac)+'_'+yr+'_'+sample_tag+'.csv'\n",
    "\n",
    "    if not os.exists(out_filename):\n",
    "\n",
    "        table = pd.read_csv('./../../samplerCensoARG/data/censo_samples/table_f'+str(frac)+'_'+yr+'_'+sample_tag+'.csv')\n",
    "        table['ANO4'] = int(yr)\n",
    "\n",
    "        # Adaptamos las categorias de respuestas para que iguales las de la EPH\n",
    "        ## VIVIENDA\n",
    "        table['V01'] = table['V01'].map({1:1, 2:6, 3:6, 4:2, 5:3, 6:4, 7:5, 8:6})\n",
    "        ## HOGAR\n",
    "        table['H06'] = table['H06'].map({1:1, 2:2, 3:3, 4:4, 5:5, 6:6, 7:7, 8:9})\n",
    "        table['H09'] = table['H09'].map({1:1, 2:2, 3:3, 4:4, 5:4, 6:4})\n",
    "        table['H16'] = table['H16'].clip(0, 9)\n",
    "        table['H14'] = table['H14'].map({1:1, 2:4, 3:2, 4:2, 5:4, 6:3, 7:4, 8:9})\n",
    "        table['H13'] = table['H13'].map({1:1, 2:2, 4:0})\n",
    "        # PERSONA\n",
    "        table['P07'] = table['P07'].map({1:1, 2:2, 0:2})\n",
    "\n",
    "        ## Agregar Region\n",
    "        table = table.merge(dpto_region[['DPTO', 'Region']])\n",
    "\n",
    "        ## Agregar ranking de Region y Aglo\n",
    "        print(table.shape)\n",
    "        table = table.merge(AGLO_rk[['AGLOMERADO', 'ANO4', 'AGLO_rk']]).merge(Reg_rk[['Region', 'ANO4', 'Reg_rk']])\n",
    "        print(table.shape)\n",
    "\n",
    "        table.to_csv(out_filename, index = False)  # Copias en carpeta yr_samples, en nuestra carpeta de indice de pobreza\n"
   ]
  },
  {
   "cell_type": "markdown",
   "metadata": {},
   "source": [
    "# 2. Predecir  (X --> y)\n",
    "\n",
    "## Info Empleo"
   ]
  },
  {
   "cell_type": "code",
   "execution_count": 9,
   "metadata": {},
   "outputs": [
    {
     "data": {
      "text/plain": [
       "0.0628729377307203"
      ]
     },
     "execution_count": 9,
     "metadata": {},
     "output_type": "execute_result"
    }
   ],
   "source": [
    "empleo = pd.read_csv('https://raw.githubusercontent.com/matuteiglesias/empleoARG/main/datos/45.2_ECTDT.csv')\n",
    "empleo = empleo[['45.2_IT_0_T_13', '45.2_ECTDT_0_T_33']] # ('45.2_ECTDT_0_T_33' es tasa de desocupacion en total aglomerados)\n",
    "empleo['Q'] = pd.to_datetime(empleo['45.2_IT_0_T_13']) + pd.DateOffset(months=1, days = 14)\n",
    "empleo = empleo.set_index('Q').drop(['45.2_IT_0_T_13'], axis = 1)\n",
    "empleo = empleo.replace('s/d', np.nan).astype(float).round(4)\n",
    "empleo['censo2010_ratio'] = (empleo/empleo.loc['2010-11-15'])\n",
    "\n",
    "## notar que la tasa en Aglos, segun el censo, no es igual al valor de la serie de tiempo.\n",
    "# para oct 2010 el censo da (6.29 %) y la que tenemos en dato (7.5%)\n",
    "desoc_C2010 = pd.read_csv('./../data/info/desoc_AGLOsi_C2010.csv')\n",
    "tasa_C2010 = desoc_C2010.loc[desoc_C2010.AGLO_si == True]['Tasa desocupacion'].values[0]\n",
    "tasa_C2010"
   ]
  },
  {
   "cell_type": "code",
   "execution_count": 8,
   "metadata": {},
   "outputs": [],
   "source": [
    "import json\n",
    "\n",
    "### Funcion ajustar nivel de empleo\n",
    "\n",
    "def ajustar_empleo(data, verbose = False):\n",
    "\n",
    "        ratio = empleo.loc[pd.to_datetime(q)].censo2010_ratio\n",
    "        n_desempleados_ = ratio*(CONDACT_cnts[1] + CONDACT_cnts[2])*tasa_C2010\n",
    "        desemp_adic = round(n_desempleados_ - CONDACT_cnts.loc[2]) # Desempleados adicionales\n",
    "        \n",
    "        print(str(q)[:10])\n",
    "\n",
    "        if desemp_adic > 0:\n",
    "            data.loc[\n",
    "                data.query('CONDACT == 1').sample(desemp_adic).index,\n",
    "                'CONDACT'\n",
    "            ] = 2\n",
    "        elif desemp_adic < 0:\n",
    "            data.loc[\n",
    "                data.query('CONDACT == 2').sample(- desemp_adic).index,\n",
    "                'CONDACT'\n",
    "            ] = 1\n",
    "\n",
    "        if verbose:\n",
    "            desempleo = data.CONDACT.value_counts().loc[2] / (data.CONDACT.value_counts().loc[1] + data.CONDACT.value_counts().loc[2])\n",
    "            print('desempleo:' + str(desempleo))\n",
    "        \n",
    "        return data\n",
    "    \n",
    "    \n",
    "def predict_save(X_data, x_cols, y_cols, model_filename, out_filename, balance_proba, tag, overwrite = False):\n",
    "\n",
    "        # Si todavia no existe la training data de ese anio, o si la opcion overwrite esta activada:\n",
    "        if (not os.path.exists(out_filename)) or (overwrite): \n",
    "\n",
    "            CLF = joblib.load(model_filename)\n",
    "            \n",
    "            if balance_proba: ## Prediccion usando predict proba y factores de balance.\n",
    "                y_out = pd.DataFrame([])\n",
    "                proba_values = CLF.predict_proba(X_data[x_cols])\n",
    "\n",
    "                ## Leer factores de archivo json\n",
    "                with open('/home/miglesia/repositories/encuestador-de-hogares/data/training/factors/'+tag+'.json', 'r') as file:\n",
    "                    info = json.load(file)\n",
    "                factors_mean = pd.DataFrame(json.loads(info[tag])).stack()\n",
    "                factors_mean.index.names = ['variable', 'valor']\n",
    "                factors_mean.index = factors_mean.index.set_levels(factors_mean.index.levels[1].astype(float).astype(int), level='valor')\n",
    "\n",
    "                for j, y_col in enumerate(y_cols):\n",
    "\n",
    "                    y_probas = pd.DataFrame(proba_values[j], columns = factors_mean.loc[y_col].index.values)\n",
    "                    y_out[y_col] = (y_probas/factors_mean.loc[y_col]).idxmax(1)#.value_counts().sort_index()\n",
    "                \n",
    "            else: ## Prediccion sin balance\n",
    "                y_out = CLF.predict(X_data[x_cols].values)\n",
    "\n",
    "            ## Listo\n",
    "            y_censo_fit = pd.DataFrame(y_out, index = X_data.index, columns=y_cols)\n",
    "            \n",
    "            Xy_censo = pd.concat([X_data, y_censo_fit], axis = 1)\n",
    "\n",
    "#             save\n",
    "            Xy_censo.to_csv(out_filename, index = False)\n",
    "            print('File saved at '+ out_filename)\n",
    "            del X_data; del Xy_censo; del CLF\n",
    "#             gc.collect()"
   ]
  },
  {
   "cell_type": "code",
   "execution_count": 9,
   "metadata": {},
   "outputs": [
    {
     "name": "stdout",
     "output_type": "stream",
     "text": [
      "ARGCSactual\n"
     ]
    }
   ],
   "source": [
    "overwrite = False\n",
    "\n",
    "## Elegir el dataset usado como X:\n",
    "frac = '0.02'\n",
    "\n",
    "# models_path = '/media/miglesia/Elements/suite/estocasticidad_indice_pobreza'\n",
    "models_path = '/media/miglesia/Elements/suite/encuestador-de-hogares'\n",
    "\n",
    "balance_proba = False\n",
    "\n",
    "import joblib\n",
    "\n",
    "models_tag = 'ARG'\n",
    "sample_tag = 'CSactual'\n",
    "\n",
    "# for i in range(n_models):\n",
    "#     models_tag = str(i).zfill(3)\n",
    "\n",
    "#     for j in range(2):\n",
    "#         sample_tag = str(10*j).zfill(3)\n",
    "experiment_tag = models_tag + sample_tag\n",
    "\n",
    "print(experiment_tag)"
   ]
  },
  {
   "cell_type": "code",
   "execution_count": 12,
   "metadata": {},
   "outputs": [
    {
     "name": "stdout",
     "output_type": "stream",
     "text": [
      "ARGCSactual\n",
      "2021\n",
      "['2021-05-15' '2021-08-15' '2021-11-15' '2022-02-15']\n",
      "Nuevo trimestre.\n",
      "2021-05-15\n",
      "C1\n",
      "C2\n",
      "C3\n",
      "reg\n",
      "Nuevo trimestre.\n",
      "2021-08-15\n",
      "C1\n",
      "C2\n",
      "C3\n",
      "reg\n",
      "Nuevo trimestre.\n",
      "2021-11-15\n",
      "C1\n",
      "C2\n",
      "C3\n",
      "reg\n",
      "Nuevo trimestre.\n",
      "2022-02-15\n",
      "C1\n",
      "C2\n",
      "C3\n",
      "reg\n",
      "2022\n",
      "['2021-05-15' '2021-08-15' '2021-11-15' '2022-02-15']\n",
      "Nuevo trimestre.\n",
      "2021-05-15\n",
      "C1\n",
      "C2\n",
      "C3\n",
      "reg\n",
      "Nuevo trimestre.\n",
      "2021-08-15\n",
      "C1\n",
      "C2\n",
      "C3\n",
      "reg\n",
      "Nuevo trimestre.\n",
      "2021-11-15\n",
      "C1\n",
      "C2\n",
      "C3\n",
      "reg\n",
      "Nuevo trimestre.\n",
      "2022-02-15\n",
      "C1\n",
      "C2\n",
      "C3\n",
      "reg\n"
     ]
    }
   ],
   "source": [
    "\n",
    "\n",
    "for yr in [str(s) for s in range(startyr, endyr)]:\n",
    "    print(yr)\n",
    "    file_ = '/media/miglesia/Elements/suite/yr_samples/table_f'+str(frac)+'_'+yr+'_'+sample_tag+'.csv'\n",
    "\n",
    "    X_censo = pd.read_csv(file_, usecols = ['DPTO','RADIO_REF_ID','PERSONA_REF_ID', 'HOGAR_REF_ID','IX_TOT', 'P02', 'P03', 'CONDACT', 'AGLOMERADO', 'URP', 'V01', 'H05', 'H06',\n",
    "           'H07', 'H08', 'H09', 'H10', 'H11', 'H12', 'H16', 'H15', 'PROP', 'H14', 'AGLO_rk', 'Reg_rk',\n",
    "           'H13', 'P07', 'P08', 'P09', 'P10', 'P05']).fillna(0)\n",
    "\n",
    "    ## Tratamiento trimestral \n",
    "#             qs = np.array(allqs)[[i for i, si in enumerate(allqs) if si.startswith(yr)]]\n",
    "    qs = np.array(qstrings)[[i for i, si in enumerate(qstrings) if si.startswith(yr)]]\n",
    "    print(qs)\n",
    "\n",
    "    CONDACT_cnts = X_censo.CONDACT.value_counts()\n",
    "\n",
    "#             print(sorted([(x, sys.getsizeof(globals().get(x))) for x in dir() if not x.startswith('_') and x not in sys.modules and x not in ipython_vars], key=lambda x: x[1], reverse=True)[:5])\n",
    "\n",
    "    ### Cargar modelos de la parte no trimestral (anual).\n",
    "    for q in sorted(qs):\n",
    "\n",
    "        ### AJUSTAR NIVEL DE DESEMPLEO\n",
    "        X_q = X_censo.copy()\n",
    "        X_q['Q'] = q\n",
    "        print('Nuevo trimestre.')\n",
    "\n",
    "        X_q = ajustar_empleo(X_q)\n",
    "\n",
    "        #################################    #################################    #################################\n",
    "\n",
    "        print('C1')\n",
    "        ## CLASIF 1\n",
    "        X_data = X_q;\n",
    "        y_cols1 = ['CAT_OCUP', 'CAT_INAC', 'CH07']\n",
    "        x_cols1 = ['IX_TOT', 'P02', 'P03', 'AGLO_rk', 'Reg_rk', 'V01', 'H05', 'H06',\n",
    "       'H07', 'H08', 'H09', 'H10', 'H11', 'H12', 'H16', 'H15', 'PROP', 'H14',\n",
    "       'H13', 'P07', 'P08', 'P09', 'P10', 'P05', 'CONDACT']\n",
    "        out_filename1 = '/media/miglesia/Elements/suite/yr_samples/RFC1_'+str(frac)+'_'+str(q)[:10]+'_'+experiment_tag+'.csv'\n",
    "\n",
    "        predict_save(X_data,\n",
    "                     x_cols = x_cols1,\n",
    "                     y_cols = y_cols1,\n",
    "                     out_filename = out_filename1,\n",
    "                     model_filename = models_path + '/fitted_RF/clf1_'+yr+'_'+models_tag,\n",
    "                     balance_proba = balance_proba,\n",
    "                     tag = 'clf1_'+yr+'_'+models_tag,\n",
    "                    overwrite = overwrite)\n",
    "\n",
    "        del X_q; del X_data\n",
    "#         print(sorted([(x, sys.getsizeof(globals().get(x))) for x in dir() if not x.startswith('_') and x not in sys.modules and x not in ipython_vars], key=lambda x: x[1], reverse=True)[:5])\n",
    "\n",
    "        #################################    #################################    #################################\n",
    "\n",
    "        print('C2')\n",
    "        ## CLASIF 2\n",
    "        X_data = pd.read_csv(out_filename1)\n",
    "        y_cols2 = ['INGRESO', 'INGRESO_NLB', 'INGRESO_JUB', 'INGRESO_SBS']\n",
    "        x_cols2 = x_cols1 + y_cols1\n",
    "        out_filename2 = '/media/miglesia/Elements/suite/yr_samples/RFC2_'+str(frac)+'_'+str(q)[:10]+'_'+experiment_tag+'.csv'\n",
    "\n",
    "        predict_save(X_data,\n",
    "                     x_cols = x_cols2,\n",
    "                     y_cols = y_cols2,\n",
    "                     out_filename = out_filename2,\n",
    "                     model_filename = models_path + '/fitted_RF/clf2_'+yr+'_'+models_tag,\n",
    "                     balance_proba = balance_proba,\n",
    "                     tag = 'clf2_'+yr+'_'+models_tag,\n",
    "                    overwrite = overwrite)\n",
    "\n",
    "        del X_data\n",
    "#         print(sorted([(x, sys.getsizeof(globals().get(x))) for x in dir() if not x.startswith('_') and x not in sys.modules and x not in ipython_vars], key=lambda x: x[1], reverse=True)[:5])\n",
    "\n",
    "        #################################    #################################    #################################\n",
    "\n",
    "        print('C3')\n",
    "\n",
    "        ## CLASIF 3\n",
    "        X_data = pd.read_csv(out_filename2)\n",
    "        y_cols3 = ['PP07G1','PP07G_59', 'PP07I', 'PP07J', 'PP07K']\n",
    "        x_cols3 = x_cols2 + y_cols2\n",
    "        out_filename3 = '/media/miglesia/Elements/suite/yr_samples/RFC3_'+str(frac)+'_'+str(q)[:10]+'_'+experiment_tag+'.csv'\n",
    "\n",
    "        predict_save(X_data,\n",
    "                     x_cols = x_cols3,\n",
    "                     y_cols = y_cols3,\n",
    "                     out_filename = out_filename3,\n",
    "                     model_filename = models_path + '/fitted_RF/clf3_'+yr+'_'+models_tag,\n",
    "                     balance_proba = balance_proba,\n",
    "                     tag = 'clf3_'+yr+'_'+models_tag,\n",
    "                    overwrite = overwrite)\n",
    "        del X_data\n",
    "#         print(sorted([(x, sys.getsizeof(globals().get(x))) for x in dir() if not x.startswith('_') and x not in sys.modules and x not in ipython_vars], key=lambda x: x[1], reverse=True)[:5])\n",
    "\n",
    "        #################################    #################################    #################################\n",
    "\n",
    "\n",
    "        # Columnas de ingresos. Necesitan una regresion...\n",
    "        columnas_pesos = [u'P21', u'P47T', u'PP08D1', u'TOT_P12', u'T_VI', u'V12_M', u'V2_M', u'V3_M', u'V5_M']\n",
    "\n",
    "        x_cols4 = x_cols3 + y_cols3\n",
    "        # Columnas de ingresos. Necesitan una regresion...\n",
    "        predecir4 = columnas_pesos\n",
    "        y_cols4 = predecir4\n",
    "\n",
    "\n",
    "        print('reg')\n",
    "        # REGRESION            \n",
    "        out_filename4 = '/media/miglesia/Elements/suite/yr_samples/RFReg_'+str(frac)+'_'+str(q)[:10]+'_'+experiment_tag+'.csv'\n",
    "        if (not os.path.exists(out_filename4)) or (overwrite): \n",
    "\n",
    "            ## Cargar Modelo\n",
    "            model_filename4 = models_path + '/fitted_RF/clf4_'+str(q)[:10]+'_'+models_tag\n",
    "    #         filename = '/media/miglesia/Elements/CENSO_dirs/Pobreza/fitted_RF/clf4_0.02_'+str(q)[:10]+'_'+experiment_tag+'.sav'\n",
    "#             clf4 = pickle.load(open(model_filename4+'sav', 'rb'))\n",
    "            clf4 = joblib.load(model_filename4)\n",
    "\n",
    "            Xy3_censo = pd.read_csv(out_filename3)\n",
    "            y_out4 = clf4.predict(Xy3_censo[x_cols4].values); del clf4\n",
    "            y_censo_fit4 = pd.DataFrame(y_out4, index = Xy3_censo.index, columns=predecir4)\n",
    "\n",
    "            Xy4_censo = pd.concat([Xy3_censo, y_censo_fit4], axis = 1)\n",
    "#             save\n",
    "            Xy4_censo.to_csv(out_filename4, index = False)\n",
    "\n",
    "            del Xy4_censo;\n",
    "\n",
    "    del X_censo; #del clf1; del clf2; del clf3\n"
   ]
  },
  {
   "cell_type": "markdown",
   "metadata": {},
   "source": [
    "# 3. Computar Pobreza"
   ]
  },
  {
   "cell_type": "code",
   "execution_count": 10,
   "metadata": {},
   "outputs": [],
   "source": [
    "# Adulto equivalente. Cuanto cuesta la manutencion de las personas segun sexo y edad.\n",
    "ad_eq = pd.read_csv('./../data/info/adulto_eq.csv')\n",
    "\n",
    "#Importar canasta basica regional deflac\n",
    "CB_ipc = pd.read_csv('./../data/info/CB_Reg_defl.csv')\n",
    "radio_ref = pd.read_csv('./../data/info/radio_ref.csv')#.merge(aglo_labels)\n",
    "dpto_region = pd.read_csv('./../data/info/DPTO_PROV_Region.csv')\n",
    "\n",
    "## Fix temporario, migracion a nombres de region oficiales\n",
    "dpto_region['Region'] = dpto_region['Region'].map({'Gran Buenos Aires':'gran_buenos_aires', \n",
    "                                                   'Pampeana':'pampeana', 'Noroeste':'noroeste', \n",
    "                                                   'Noreste':'noreste','Patagónica': 'patagonia', 'Cuyo': 'cuyo'})\n",
    "\n",
    "radio_ref = radio_ref.merge(dpto_region)\n",
    "# dpto_region = pd.read_csv('./../data/info/DPTO_PROV_Region.csv')\n",
    "DPTO_Region = radio_ref[['DPTO', 'Region']].drop_duplicates()"
   ]
  },
  {
   "cell_type": "code",
   "execution_count": 11,
   "metadata": {},
   "outputs": [],
   "source": [
    "import os\n",
    "if not os.path.exists('./../data/Pobreza/'):\n",
    "    os.makedirs('./../data/Pobreza/')\n",
    "\n",
    "frac = 0.02"
   ]
  },
  {
   "cell_type": "code",
   "execution_count": 12,
   "metadata": {},
   "outputs": [],
   "source": [
    "\n",
    "def ingresos_a_pobreza(df_ingresos, filename, columnas_pesos = ['P47T']):\n",
    "\n",
    "    df_ingresos[columnas_pesos] = np.power(10, df_ingresos[columnas_pesos]) - 1\n",
    "\n",
    "    df = df_ingresos.reset_index()\n",
    "\n",
    "    ## CANASTA: Datos mergeado con adulto equivalente, region y serie de tiempo canasta\n",
    "    df_cb = df_ingresos.merge(ad_eq).merge(DPTO_Region).merge(CB_ipc)#.merge(ppp_defl[['Q', 'ppp_5usd_ARS_deflac']])\n",
    "    df_cb['CBA'] = df_cb['CBA']*df_cb['CB_EQUIV']  ## Con este paso el valor de canasta de una persona YA INCORPORA EL AD EQ\n",
    "    df_cb['CBT'] = df_cb['CBT']*df_cb['CB_EQUIV']  ## Con este paso el valor de canasta de una persona YA INCORPORA EL AD EQ\n",
    "\n",
    "    ## VARIABLES A NIVEL HOGARES\n",
    "#     df_cb_hogares = df_cb.groupby(['HOGAR_REF_ID', 'Q'])[['P47T','CBA', 'CBT', 'CB_EQUIV', 'ppp_5usd_ARS_deflac']].sum()\n",
    "    df_cb_hogares = df_cb.groupby(['HOGAR_REF_ID', 'Q'])[['P47T','CBA', 'CBT', 'CB_EQUIV']].sum()\n",
    "    df_cb_hogares['Pobreza'] = df_cb_hogares['P47T'] < df_cb_hogares['CBT']\n",
    "    df_cb_hogares['Indigencia'] = df_cb_hogares['P47T'] < df_cb_hogares['CBA']\n",
    "#     df_cb_hogares['Pobreza_5usd'] = df_cb_hogares['P47T'] < df_cb_hogares['ppp_5usd_ARS_deflac']\n",
    "#     pobreza_hogares = df_cb_hogares[['P47T','CBA','CBT', 'CB_EQUIV','Pobreza', 'Indigencia', 'Pobreza_5usd']].reset_index()\n",
    "    pobreza_hogares = df_cb_hogares[['P47T','CBA','CBT', 'CB_EQUIV','Pobreza', 'Indigencia']].reset_index()\n",
    "    pobreza_hogares['gap_pobreza'] = pobreza_hogares.P47T - pobreza_hogares.CBT\n",
    "    pobreza_hogares['gap_indigencia'] = pobreza_hogares.P47T - pobreza_hogares.CBA\n",
    "    pobreza_hogares = pobreza_hogares.rename(columns = {'P47T': 'P47T_hogar'})\n",
    "\n",
    "    ## UNION DE DATOS DE HOGARES A REGISTROS INDIVIDUALES\n",
    "    data = df_ingresos.merge(pobreza_hogares, on = ['HOGAR_REF_ID', 'Q'])#, how = 'left')\n",
    "    del df; del pobreza_hogares # Ahorrar memoria\n",
    "    data = data.rename(columns = {'P47T': 'P47T_persona'}) # Renombrar la variable P47T para aclarar que es a nivel persona.\n",
    "\n",
    "    ## UNIR INFO GEOGRAFICA\n",
    "    data = data.merge(radio_ref[['RADIO_REF_ID', 'IDFRAC', 'PROV', 'NOMPROV', 'AGLOMERADO', 'Region']].drop_duplicates())\n",
    "\n",
    "    n_q = data.Q.nunique()\n",
    "    print(\"Poblacion: \"+str(len(data)/frac/n_q))\n",
    "#     display(data[['Pobreza', 'Indigencia', 'Pobreza_5usd']].mean())\n",
    "    data.to_csv(filename, index = False) ## Aca si ya existen no deberian sobreescribirse (o si)\n",
    "    \n",
    "    print(filename+' saved')"
   ]
  },
  {
   "cell_type": "code",
   "execution_count": null,
   "metadata": {},
   "outputs": [],
   "source": []
  },
  {
   "cell_type": "code",
   "execution_count": 13,
   "metadata": {},
   "outputs": [
    {
     "data": {
      "text/plain": [
       "['/media/miglesia/Elements/suite/yr_samples/RFReg_0.02_2021-05-15_ARGCSactual.csv',\n",
       " '/media/miglesia/Elements/suite/yr_samples/RFReg_0.02_2021-08-15_ARGCSactual.csv',\n",
       " '/media/miglesia/Elements/suite/yr_samples/RFReg_0.02_2021-11-15_ARGCSactual.csv',\n",
       " '/media/miglesia/Elements/suite/yr_samples/RFReg_0.02_2022-02-15_ARGCSactual.csv']"
      ]
     },
     "execution_count": 13,
     "metadata": {},
     "output_type": "execute_result"
    }
   ],
   "source": [
    "Xy_trimestrales = '/media/miglesia/Elements/suite/yr_samples/RFReg_'+str(frac)  # use your path\n",
    "\n",
    "allFiles = []\n",
    "allFiles += glob.glob(Xy_trimestrales +'*'+experiment_tag+'.csv')\n",
    "allFiles = sorted(allFiles)\n",
    "CSXyfiles = allFiles[-4:]\n",
    "CSXyfiles"
   ]
  },
  {
   "cell_type": "code",
   "execution_count": 14,
   "metadata": {},
   "outputs": [
    {
     "name": "stdout",
     "output_type": "stream",
     "text": [
      "ARGCSactual\n",
      "2021-05-15\n",
      "2021-08-15\n",
      "2021-11-15\n",
      "2022-02-15\n",
      "Poblacion: 44435950.0\n",
      "/media/miglesia/Elements/suite/indice-pobreza-ExactasUBA/data/Pobreza/pobreza_0.02_ARGCSactual.csv saved\n"
     ]
    }
   ],
   "source": [
    "\n",
    "print(experiment_tag)\n",
    "filename = '/media/miglesia/Elements/suite/indice-pobreza-ExactasUBA/data/Pobreza/pobreza_'+'_'.join([str(frac), experiment_tag])+'.csv'\n",
    "\n",
    "df_parts = []\n",
    "for quarter_Xy_file in sorted(CSXyfiles):# ultimo anio\n",
    "    df_Q = pd.read_csv(quarter_Xy_file, \n",
    "                           usecols = ['PERSONA_REF_ID', 'HOGAR_REF_ID','RADIO_REF_ID', 'CONDACT', 'CAT_INAC', 'CAT_OCUP',\n",
    "                                      'INGRESO', 'INGRESO_NLB', 'INGRESO_JUB', 'INGRESO_SBS', 'PP07K',\n",
    "                                      'IX_TOT', 'H16', 'H15','P47T', 'P03','P02', 'P09','P10', 'DPTO', 'URP'])\n",
    "\n",
    "    df_Q['ANO4'] = int(Path(quarter_Xy_file).name.split('_')[-2].split('-')[0])\n",
    "    q = Path(quarter_Xy_file).name.split('_')[-2]; print(q)\n",
    "    df_Q['Q'] = q\n",
    "    df_parts += [df_Q]\n",
    "\n",
    "df = pd.concat(df_parts)\n",
    "del df_Q\n",
    "\n",
    "\n",
    "ingresos_a_pobreza(df_ingresos = df, filename = filename, columnas_pesos = ['P47T'])"
   ]
  },
  {
   "cell_type": "code",
   "execution_count": 15,
   "metadata": {},
   "outputs": [],
   "source": [
    "# # Adulto equivalente. Cuanto cuesta la manutencion de las personas segun sexo y edad.\n",
    "# ad_eq = pd.read_csv('./../data/info/adulto_eq.csv')\n",
    "\n",
    "# #Importar canasta basica regional deflac\n",
    "# CB_ipc = pd.read_csv('./../data/info/CB_Reg_defl.csv')\n",
    "# radio_ref = pd.read_csv('./../data/info/radio_ref.csv')#.merge(aglo_labels)\n",
    "# dpto_region = pd.read_csv('./../data/info/DPTO_PROV_Region.csv')\n",
    "# ## Fix temporario, migracion a nombres de region oficiales\n",
    "# dpto_region['Region'] = dpto_region['Region'].map({'Gran Buenos Aires':'gran_buenos_aires', \n",
    "#                                                    'Pampeana':'pampeana', 'Noroeste':'noroeste', \n",
    "#                                                    'Noreste':'noreste','Patagónica': 'patagonia', 'Cuyo': 'cuyo'})\n",
    "\n",
    "# radio_ref = radio_ref.merge(dpto_region)\n",
    "# DPTO_Region = radio_ref[['DPTO', 'Region']].drop_duplicates()"
   ]
  },
  {
   "cell_type": "code",
   "execution_count": 16,
   "metadata": {},
   "outputs": [],
   "source": [
    "# import os\n",
    "# if not os.path.exists('./../data/Pobreza/'):\n",
    "#     os.makedirs('./../data/Pobreza/')\n",
    "\n",
    "# frac = 0.02"
   ]
  },
  {
   "cell_type": "markdown",
   "metadata": {},
   "source": [
    "## Precios Corrientes"
   ]
  },
  {
   "cell_type": "code",
   "execution_count": 9,
   "metadata": {},
   "outputs": [],
   "source": [
    "cpi = pd.read_csv('https://raw.githubusercontent.com/matuteiglesias/IPC-Argentina/main/data/info/indice_precios_M.csv', index_col=0)\n",
    "cpi.index = pd.to_datetime(cpi.index)\n",
    "\n",
    "\n",
    "from datetime import datetime\n",
    "hoy = datetime.today().strftime('%Y-%m')\n",
    "# hoy = '2021-06-01'\n",
    "\n",
    "# Ratio de precios de hoy con respecto a precios con indice en base modelo\n",
    "ix = cpi.loc[hoy]['index'].values[0]/cpi.loc['2016-01']['index'].values[0]\n",
    "# ix = cpi.loc['2020-09-30'].values[0]/cpi.loc['2016-01-01'].values[0] # Precios del periodo en estudio\n",
    "\n",
    "columnas_pesos =  ['P47T_persona', 'P47T_hogar', 'CBA', 'gap_indigencia', 'CBT', 'gap_pobreza']"
   ]
  },
  {
   "cell_type": "code",
   "execution_count": 10,
   "metadata": {},
   "outputs": [],
   "source": [
    "# cpi.loc[hoy].values[0]#/\n",
    "# cpi.loc['2016-01'].values[0]"
   ]
  },
  {
   "cell_type": "code",
   "execution_count": 11,
   "metadata": {},
   "outputs": [],
   "source": [
    "data = pd.read_csv('/media/miglesia/Elements/suite/indice-pobreza-ExactasUBA/data/Pobreza/pobreza_0.02_ARGCSactual.csv', encoding_errors='ignore')\n",
    "data[columnas_pesos] = ix*data[columnas_pesos]"
   ]
  },
  {
   "cell_type": "code",
   "execution_count": 12,
   "metadata": {},
   "outputs": [],
   "source": [
    "frac = 0.02\n",
    "# data = pd.read_csv('./../data/Pobreza/pobreza_'+str(frac)+'_2020.csv')\n",
    "\n",
    "# /media/miglesia/Elements/suite/indice-pobreza-ExactasUBA/data/Pobreza/pobreza_0.01_2021-2022.csv saved\n",
    "\n",
    "radio_ref = pd.read_csv('./../data/info/radio_ref.csv')\n",
    "radio_ref['COD_2010'] = radio_ref['radio'].astype(str).str.zfill(9)\n",
    "dpto_region = pd.read_csv('./../data/info/DPTO_PROV_Region.csv')\n",
    "radio_ref = radio_ref.merge(dpto_region)\n",
    "aglo_labels = pd.read_csv('./../data/info/aglo_labels.csv')[['AGLOMERADO', 'NOMAGLO']]\n",
    "radio_ref = radio_ref[['RADIO_REF_ID', 'COD_2010', 'NOMDPTO', 'AGLOMERADO', 'Region']].drop_duplicates().merge(aglo_labels)\n",
    "\n",
    "\n",
    "data = data.merge(radio_ref, on = ['RADIO_REF_ID', 'AGLOMERADO'])\n",
    "data['AGLO_si'] = data.AGLOMERADO != 0"
   ]
  },
  {
   "cell_type": "markdown",
   "metadata": {},
   "source": [
    "## Tablas resumen"
   ]
  },
  {
   "cell_type": "code",
   "execution_count": 15,
   "metadata": {},
   "outputs": [
    {
     "data": {
      "text/html": [
       "<div>\n",
       "<style scoped>\n",
       "    .dataframe tbody tr th:only-of-type {\n",
       "        vertical-align: middle;\n",
       "    }\n",
       "\n",
       "    .dataframe tbody tr th {\n",
       "        vertical-align: top;\n",
       "    }\n",
       "\n",
       "    .dataframe thead th {\n",
       "        text-align: right;\n",
       "    }\n",
       "</style>\n",
       "<table border=\"1\" class=\"dataframe\">\n",
       "  <thead>\n",
       "    <tr style=\"text-align: right;\">\n",
       "      <th></th>\n",
       "      <th>Pobreza</th>\n",
       "      <th>Indigencia</th>\n",
       "    </tr>\n",
       "    <tr>\n",
       "      <th>NOMAGLO</th>\n",
       "      <th></th>\n",
       "      <th></th>\n",
       "    </tr>\n",
       "  </thead>\n",
       "  <tbody>\n",
       "    <tr>\n",
       "      <th>CABA</th>\n",
       "      <td>13.0</td>\n",
       "      <td>3.5</td>\n",
       "    </tr>\n",
       "    <tr>\n",
       "      <th>Ushuaia-Rio Grande</th>\n",
       "      <td>22.5</td>\n",
       "      <td>3.5</td>\n",
       "    </tr>\n",
       "    <tr>\n",
       "      <th>Viedma-Patagones</th>\n",
       "      <td>28.7</td>\n",
       "      <td>4.5</td>\n",
       "    </tr>\n",
       "    <tr>\n",
       "      <th>Rio Gallegos</th>\n",
       "      <td>26.5</td>\n",
       "      <td>5.3</td>\n",
       "    </tr>\n",
       "    <tr>\n",
       "      <th>Neuquen</th>\n",
       "      <td>28.8</td>\n",
       "      <td>5.5</td>\n",
       "    </tr>\n",
       "    <tr>\n",
       "      <th>Cdro Rivadavia</th>\n",
       "      <td>32.2</td>\n",
       "      <td>5.6</td>\n",
       "    </tr>\n",
       "    <tr>\n",
       "      <th>Bahia Blanca</th>\n",
       "      <td>27.5</td>\n",
       "      <td>6.4</td>\n",
       "    </tr>\n",
       "    <tr>\n",
       "      <th>Rawson-Trelew</th>\n",
       "      <td>30.5</td>\n",
       "      <td>6.6</td>\n",
       "    </tr>\n",
       "    <tr>\n",
       "      <th>La Plata</th>\n",
       "      <td>28.8</td>\n",
       "      <td>6.6</td>\n",
       "    </tr>\n",
       "    <tr>\n",
       "      <th>Santa Rosa</th>\n",
       "      <td>27.5</td>\n",
       "      <td>6.9</td>\n",
       "    </tr>\n",
       "    <tr>\n",
       "      <th>Mar del Plata</th>\n",
       "      <td>30.1</td>\n",
       "      <td>7.0</td>\n",
       "    </tr>\n",
       "    <tr>\n",
       "      <th>Rio Cuarto</th>\n",
       "      <td>32.4</td>\n",
       "      <td>7.4</td>\n",
       "    </tr>\n",
       "    <tr>\n",
       "      <th>Mendoza</th>\n",
       "      <td>36.2</td>\n",
       "      <td>7.8</td>\n",
       "    </tr>\n",
       "    <tr>\n",
       "      <th>Cordoba</th>\n",
       "      <td>34.3</td>\n",
       "      <td>7.9</td>\n",
       "    </tr>\n",
       "    <tr>\n",
       "      <th>Rosario</th>\n",
       "      <td>32.6</td>\n",
       "      <td>8.8</td>\n",
       "    </tr>\n",
       "    <tr>\n",
       "      <th>San Nicolas</th>\n",
       "      <td>39.7</td>\n",
       "      <td>8.9</td>\n",
       "    </tr>\n",
       "    <tr>\n",
       "      <th>GBA</th>\n",
       "      <td>35.6</td>\n",
       "      <td>8.9</td>\n",
       "    </tr>\n",
       "    <tr>\n",
       "      <th>Catamarca</th>\n",
       "      <td>39.1</td>\n",
       "      <td>9.3</td>\n",
       "    </tr>\n",
       "    <tr>\n",
       "      <th>Parana</th>\n",
       "      <td>36.0</td>\n",
       "      <td>9.5</td>\n",
       "    </tr>\n",
       "    <tr>\n",
       "      <th>San Luis</th>\n",
       "      <td>44.6</td>\n",
       "      <td>9.6</td>\n",
       "    </tr>\n",
       "    <tr>\n",
       "      <th>Jujuy</th>\n",
       "      <td>41.3</td>\n",
       "      <td>10.2</td>\n",
       "    </tr>\n",
       "    <tr>\n",
       "      <th>Salta</th>\n",
       "      <td>40.2</td>\n",
       "      <td>10.9</td>\n",
       "    </tr>\n",
       "    <tr>\n",
       "      <th>La Rioja</th>\n",
       "      <td>53.0</td>\n",
       "      <td>11.6</td>\n",
       "    </tr>\n",
       "    <tr>\n",
       "      <th>San Juan</th>\n",
       "      <td>48.1</td>\n",
       "      <td>11.8</td>\n",
       "    </tr>\n",
       "    <tr>\n",
       "      <th>Tucuman</th>\n",
       "      <td>43.2</td>\n",
       "      <td>11.8</td>\n",
       "    </tr>\n",
       "    <tr>\n",
       "      <th>Santa Fe</th>\n",
       "      <td>39.5</td>\n",
       "      <td>12.1</td>\n",
       "    </tr>\n",
       "    <tr>\n",
       "      <th>Corrientes</th>\n",
       "      <td>39.2</td>\n",
       "      <td>12.6</td>\n",
       "    </tr>\n",
       "    <tr>\n",
       "      <th>Sgo del Estero</th>\n",
       "      <td>45.6</td>\n",
       "      <td>13.3</td>\n",
       "    </tr>\n",
       "    <tr>\n",
       "      <th>Concordia</th>\n",
       "      <td>46.6</td>\n",
       "      <td>13.6</td>\n",
       "    </tr>\n",
       "    <tr>\n",
       "      <th>Fuera de aglom.</th>\n",
       "      <td>45.8</td>\n",
       "      <td>13.7</td>\n",
       "    </tr>\n",
       "    <tr>\n",
       "      <th>Resistencia</th>\n",
       "      <td>47.8</td>\n",
       "      <td>13.8</td>\n",
       "    </tr>\n",
       "    <tr>\n",
       "      <th>Posadas</th>\n",
       "      <td>43.5</td>\n",
       "      <td>14.8</td>\n",
       "    </tr>\n",
       "    <tr>\n",
       "      <th>Formosa</th>\n",
       "      <td>50.5</td>\n",
       "      <td>16.4</td>\n",
       "    </tr>\n",
       "  </tbody>\n",
       "</table>\n",
       "</div>"
      ],
      "text/plain": [
       "                    Pobreza  Indigencia\n",
       "NOMAGLO                                \n",
       "CABA                   13.0         3.5\n",
       "Ushuaia-Rio Grande     22.5         3.5\n",
       "Viedma-Patagones       28.7         4.5\n",
       "Rio Gallegos           26.5         5.3\n",
       "Neuquen                28.8         5.5\n",
       "Cdro Rivadavia         32.2         5.6\n",
       "Bahia Blanca           27.5         6.4\n",
       "Rawson-Trelew          30.5         6.6\n",
       "La Plata               28.8         6.6\n",
       "Santa Rosa             27.5         6.9\n",
       "Mar del Plata          30.1         7.0\n",
       "Rio Cuarto             32.4         7.4\n",
       "Mendoza                36.2         7.8\n",
       "Cordoba                34.3         7.9\n",
       "Rosario                32.6         8.8\n",
       "San Nicolas            39.7         8.9\n",
       "GBA                    35.6         8.9\n",
       "Catamarca              39.1         9.3\n",
       "Parana                 36.0         9.5\n",
       "San Luis               44.6         9.6\n",
       "Jujuy                  41.3        10.2\n",
       "Salta                  40.2        10.9\n",
       "La Rioja               53.0        11.6\n",
       "San Juan               48.1        11.8\n",
       "Tucuman                43.2        11.8\n",
       "Santa Fe               39.5        12.1\n",
       "Corrientes             39.2        12.6\n",
       "Sgo del Estero         45.6        13.3\n",
       "Concordia              46.6        13.6\n",
       "Fuera de aglom.        45.8        13.7\n",
       "Resistencia            47.8        13.8\n",
       "Posadas                43.5        14.8\n",
       "Formosa                50.5        16.4"
      ]
     },
     "execution_count": 15,
     "metadata": {},
     "output_type": "execute_result"
    }
   ],
   "source": [
    "table = 100*data.groupby('NOMAGLO')[['Pobreza', 'Indigencia']].mean().round(3)\n",
    "table.sort_values('Indigencia')"
   ]
  },
  {
   "cell_type": "markdown",
   "metadata": {},
   "source": [
    "### Synthetizer functions"
   ]
  },
  {
   "cell_type": "code",
   "execution_count": 26,
   "metadata": {},
   "outputs": [],
   "source": [
    "### Sintetizadores\n",
    "import datetime as dt\n",
    "import numpy as np\n",
    "\n",
    "## Base Personas\n",
    "def sintetizar_P(data, grouper, frac = 0.02):\n",
    "    df = data.copy()\n",
    "    df['Total'] = True\n",
    "    df['timestamp'] = dt.datetime.today()\n",
    "    n_Qs = df.Q.nunique()\n",
    "    \n",
    "#     # Funciones percentil\n",
    "#     percentiles = [.10, .25, .75, .9, .2]\n",
    "#     quantile_funcs = [(p, lambda x: x.quantile(p)) for p in percentiles]\n",
    "\n",
    "    df = df.groupby(grouper + ['timestamp'])[['Total', 'Pobreza', 'Indigencia','P47T_persona'#, 'Pobreza_5usd'\n",
    "                                             ]].agg(\n",
    "        {'Total': ['mean', 'sum'], 'Pobreza': ['mean', 'sum'], 'Indigencia': ['mean', 'sum'], #'Pobreza_5usd': ['mean', 'sum'], \n",
    "         'P47T_persona':['mean', q10, q25, 'median', q75, q90]})\n",
    "    \n",
    "    df[[('Total', 'sum')]] = (df[[('Total', 'sum')]]/frac).round(1)#.astype(int)\n",
    "    df[[('Pobreza', 'sum')]] = (df[[('Pobreza', 'sum')]]/frac).round(1)#.astype(int)\n",
    "    df[[('Indigencia', 'sum')]] = (df[[('Indigencia', 'sum')]]/frac).round(1)#.astype(int)\n",
    "#     df[[('Pobreza_5usd', 'sum')]] = (df[[('Pobreza_5usd', 'sum')]]/frac).round(1)#.astype(int)\n",
    "    df[[('Total', 'mean')]] = df[[('Total', 'mean')]].round(4)\n",
    "    df[[('Indigencia', 'mean')]] = df[[('Indigencia', 'mean')]].round(4)\n",
    "    df[[('Pobreza', 'mean')]] = df[[('Pobreza', 'mean')]].round(4)\n",
    "#     df[[('Pobreza_5usd', 'mean')]] = df[[('Pobreza_5usd', 'mean')]].round(4)\n",
    "    \n",
    "    df['P47T_persona'] = df['P47T_persona'].round(-1).astype(int)\n",
    "    \n",
    "    dfB = df.T.set_index(np.repeat('Personas', df.shape[1]), append=True)\n",
    "       \n",
    "#     dfB = dfB.stack().stack().stack().reset_index()\n",
    "    stacker_ix = [-i for i in range(len(grouper) + 1)]\n",
    "    dfB = dfB.stack(level = stacker_ix).reset_index()\n",
    "    \n",
    "    dfB = dfB.rename(columns = {'level_0': 'observable', 'level_1': 'sintetico', 'level_2': 'base', 0: 'valor'})\n",
    "    dfB['valor'] = dfB['valor'].astype(float)\n",
    "    return dfB\n",
    "\n",
    "def sintetizar_H(data, grouper, frac = 0.02):\n",
    "    df = data.copy()\n",
    "    df = df.groupby('HOGAR_REF_ID').first()\n",
    "    df['Total'] = True\n",
    "    df['timestamp'] = dt.datetime.today()\n",
    "    n_Qs = df.Q.nunique()\n",
    "\n",
    "#     # Funciones percentil\n",
    "#     percentiles = [.10, .25, .75, .9, .2]\n",
    "#     quantile_funcs = [(p, lambda x: x.quantile(p)) for p in percentiles]\n",
    "\n",
    "    df = df.groupby(grouper + ['timestamp'])[['Total', 'Pobreza', 'Indigencia', 'P47T_hogar', 'CB_EQUIV', 'CBA', #'Pobreza_5usd',\n",
    "                                              'gap_indigencia', 'CBT', 'gap_pobreza']\n",
    "                            ].agg(\n",
    "    {'Total': ['mean', 'sum'], 'Pobreza': ['mean', 'sum'], 'Indigencia': ['mean', 'sum'], #'Pobreza_5usd': ['mean', 'sum'], \n",
    "     'P47T_hogar': ['mean', q10, q25, 'median', q75, q90],\n",
    "     'CB_EQUIV': ['mean', 'median'],     \n",
    "     'CBA': ['sum', 'median'], 'gap_indigencia': ['mean', 'median'], \n",
    "     'CBT': ['sum', 'median'], 'gap_pobreza': ['mean', 'median']})\n",
    "        \n",
    "    df[[('Total', 'sum')]] = (df[[('Total', 'sum')]]/frac/n_Qs).round(1)#.astype(int)\n",
    "    df[[('Pobreza', 'sum')]] = (df[[('Pobreza', 'sum')]]/frac/n_Qs).round(1)#.astype(int)\n",
    "    df[[('Indigencia', 'sum')]] = (df[[('Indigencia', 'sum')]]/frac/n_Qs).round(1)#.astype(int)\n",
    "#     df[[('Pobreza_5usd', 'sum')]] = (df[[('Pobreza_5usd', 'sum')]]/frac).round(1)#.astype(int)\n",
    "    df[[('Total', 'mean')]] = df[[('Total', 'mean')]].round(4)\n",
    "    df[[('Pobreza', 'mean')]] = df[[('Pobreza', 'mean')]].round(4)\n",
    "    df[[('Indigencia', 'mean')]] = df[[('Indigencia', 'mean')]].round(4)\n",
    "#     df[[('Pobreza_5usd', 'mean')]] = (df[[('Pobreza_5usd', 'mean')]]/frac).round(1)#.astype(int)\n",
    "\n",
    "    df['CB_EQUIV'] = df['CB_EQUIV'].round(4)\n",
    "    \n",
    "    df['P47T_hogar'] = df['P47T_hogar'].round(-1).astype(int)\n",
    "    df['CBA'] = df['CBA'].round(-1).astype(int)\n",
    "    df['gap_indigencia'] = df['gap_indigencia'].round(-1).astype(int)\n",
    "    df['CBT'] = df['CBT'].round(-1).astype(int)\n",
    "    df['gap_pobreza'] = df['gap_pobreza'].round(-1).astype(int)\n",
    "    \n",
    "    dfC = df.T.set_index(np.repeat('Hogares', df.shape[1]), append=True)\n",
    "    dfC.index.names = ['observable', 'sintetico', 'base']\n",
    "    \n",
    "#     FrozenList(['observable', 'sintetico', 'base', 'timestamp', 'AGLOMERADO', 'Region', 'Q'])\n",
    "    \n",
    "# #     dfC = dfC.stack().stack().stack().reset_index()\n",
    "    stacker_ix = [-i for i in range(len(grouper) + 1)]\n",
    "    dfC = dfC.stack(level = stacker_ix).reset_index()\n",
    "#     # es como df.stack([-1, -2, -3, -4]) pero se adapta a groupers mas o menos largos\n",
    "#     dfC = dfC.stack(stacker_ix).reset_index()\n",
    "\n",
    "    dfC = dfC.rename(columns = {'level_0': 'observable', 'level_1': 'sintetico', 'level_2': 'base', 0: 'valor'})\n",
    "    dfC['valor'] = dfC['valor'].astype(float)\n",
    "    return dfC\n",
    "\n",
    "# Percentile funcs\n",
    "def q10(x):\n",
    "    return x.quantile(0.1)\n",
    "\n",
    "def q25(x):\n",
    "    return x.quantile(0.25)\n",
    "\n",
    "def q75(x):\n",
    "    return x.quantile(0.75)\n",
    "\n",
    "def q90(x):\n",
    "    return x.quantile(0.9)"
   ]
  },
  {
   "cell_type": "code",
   "execution_count": 27,
   "metadata": {},
   "outputs": [
    {
     "data": {
      "text/plain": [
       "observable    sintetico  base    \n",
       "Indigencia    mean       Personas    24\n",
       "              sum        Personas    24\n",
       "P47T_persona  mean       Personas    24\n",
       "              median     Personas    24\n",
       "              q10        Personas    24\n",
       "              q25        Personas    24\n",
       "              q75        Personas    24\n",
       "              q90        Personas    24\n",
       "Pobreza       mean       Personas    24\n",
       "              sum        Personas    24\n",
       "Total         mean       Personas    24\n",
       "              sum        Personas    24\n",
       "dtype: int64"
      ]
     },
     "execution_count": 27,
     "metadata": {},
     "output_type": "execute_result"
    }
   ],
   "source": [
    "x = sintetizar_P(data, ['PROV'], frac = 0.02)\n",
    "x.groupby(['observable','sintetico','base']).size()"
   ]
  },
  {
   "cell_type": "code",
   "execution_count": null,
   "metadata": {},
   "outputs": [],
   "source": [
    "# sintetizar_H(data, ['PROV'], frac = 0.02).groupby(['observable','sintetico','base']).size()"
   ]
  },
  {
   "cell_type": "code",
   "execution_count": null,
   "metadata": {},
   "outputs": [],
   "source": [
    "# # Ej. Personas en pobreza\n",
    "# # df = sintetizar_P(data, ['PROV'], frac = 0.02)\n",
    "# # df.loc[df.sintetico == 'sum'].groupby('observable')['valor'].sum() \n",
    "\n",
    "# Indigencia     6500687.5\n",
    "# Pobreza       21147900.0\n",
    "# Total         44603650.0"
   ]
  },
  {
   "cell_type": "markdown",
   "metadata": {},
   "source": [
    "## Los niveles geograficos disponibles son:\n",
    " - Radios (RADIO_REF_ID)\n",
    " - Fracciones (IDFRAC, no es clave unica)\n",
    " - Dptos (DPTO)\n",
    " - Provs (PROV)\n",
    " - Aglos (AGLOMERADO)\n",
    " - (Region)"
   ]
  },
  {
   "cell_type": "markdown",
   "metadata": {},
   "source": [
    "### Cargar geometrias"
   ]
  },
  {
   "cell_type": "code",
   "execution_count": 38,
   "metadata": {
    "scrolled": true
   },
   "outputs": [],
   "source": [
    "## RADIO REF. Referencia de radios censales segun Censo 2010\n",
    "\n",
    "# radio_ref = pd.read_csv('./radio_ref.csv')\n",
    "# radio_ref['DPTO'] = radio_ref['DPTO'].astype(int)\n",
    "# radio_ref['COD_2010'] = radio_ref['radio'].astype(str).str.zfill(9)\n",
    "\n",
    "## POLIGONOS\n",
    "# admin410_f = './../../IGN_INDEC_georef/censos_shp_CONICET/2010_RADIOS ARGENTINA'\n",
    "admin310_f = './../../IGN_INDEC_georef/censos_shp_CONICET_dissolved/fracs_2010.shp'\n",
    "admin210_f = './../../IGN_INDEC_georef/censos_shp_CONICET_dissolved/dptos_2010.shp'\n",
    "admin1_f = './../../IGN_INDEC_georef/IGN_shp/Provincia/'\n",
    "\n",
    "## Provincias del IGN\n",
    "admin1 = gpd.read_file(admin1_f)  # COD_2010 = '020130302'\n",
    "# admin1['ID'] = admin1.IN1 + '0000000'\n",
    "admin1['PROV'] = admin1.IN1.astype(int)\n",
    "admin1 = admin1[['PROV', 'geometry']]\n",
    "\n",
    "### Poligonos de censo de CONICET.\n",
    "# admin410 = gpd.read_file(admin410_f)  # COD_2010 = '020130302'\n",
    "# admin410['ID'] = admin410['COD_2010']\n",
    "\n",
    "admin310 = gpd.read_file(admin310_f)  \n",
    "admin310['IDFRAC'] = admin310.PROV_ + admin310.DEPTO_ + admin310.FRACC_ + '00'\n",
    "admin310 = admin310[['IDFRAC', 'geometry']]\n",
    "\n",
    "admin210 = gpd.read_file(admin210_f) \n",
    "# admin210['ID'] = admin210.PROV_ + admin210.DEPTO_ + '0000'\n",
    "admin210['DPTO'] = (admin210['PROV_'] + admin210['DEPTO_']).astype(int)\n",
    "admin210 = admin210[['DPTO', 'geometry']]\n",
    "\n",
    "\n",
    "## ADOPTAR CRS del IGN\n",
    "admin210 = admin210.to_crs(admin1.crs)\n",
    "admin310 = admin310.to_crs(admin1.crs)"
   ]
  },
  {
   "cell_type": "code",
   "execution_count": 39,
   "metadata": {},
   "outputs": [],
   "source": [
    "admin1['area_km2'] = admin1['geometry'].to_crs('epsg:3395').map(lambda p: p.area / 10**6)\n",
    "admin210['area_km2'] = admin210['geometry'].to_crs('epsg:3395').map(lambda p: p.area / 10**6)\n",
    "admin310['area_km2'] = admin310['geometry'].to_crs('epsg:3395').map(lambda p: p.area / 10**6)"
   ]
  },
  {
   "cell_type": "code",
   "execution_count": 40,
   "metadata": {},
   "outputs": [
    {
     "data": {
      "text/html": [
       "<div>\n",
       "<style scoped>\n",
       "    .dataframe tbody tr th:only-of-type {\n",
       "        vertical-align: middle;\n",
       "    }\n",
       "\n",
       "    .dataframe tbody tr th {\n",
       "        vertical-align: top;\n",
       "    }\n",
       "\n",
       "    .dataframe thead th {\n",
       "        text-align: right;\n",
       "    }\n",
       "</style>\n",
       "<table border=\"1\" class=\"dataframe\">\n",
       "  <thead>\n",
       "    <tr style=\"text-align: right;\">\n",
       "      <th></th>\n",
       "      <th>IDFRAC</th>\n",
       "      <th>geometry</th>\n",
       "      <th>area_km2</th>\n",
       "    </tr>\n",
       "  </thead>\n",
       "  <tbody>\n",
       "    <tr>\n",
       "      <th>0</th>\n",
       "      <td>020010100</td>\n",
       "      <td>POLYGON ((-58.37431 -34.57871, -58.37431 -34.5...</td>\n",
       "      <td>2.663001</td>\n",
       "    </tr>\n",
       "    <tr>\n",
       "      <th>1</th>\n",
       "      <td>020010200</td>\n",
       "      <td>POLYGON ((-58.37567 -34.58419, -58.37552 -34.5...</td>\n",
       "      <td>0.627842</td>\n",
       "    </tr>\n",
       "    <tr>\n",
       "      <th>2</th>\n",
       "      <td>020010300</td>\n",
       "      <td>POLYGON ((-58.38788 -34.58285, -58.38788 -34.5...</td>\n",
       "      <td>1.302769</td>\n",
       "    </tr>\n",
       "    <tr>\n",
       "      <th>3</th>\n",
       "      <td>020010400</td>\n",
       "      <td>POLYGON ((-58.38650 -34.59284, -58.38650 -34.5...</td>\n",
       "      <td>0.299640</td>\n",
       "    </tr>\n",
       "    <tr>\n",
       "      <th>4</th>\n",
       "      <td>020010500</td>\n",
       "      <td>POLYGON ((-58.38161 -34.59284, -58.38161 -34.5...</td>\n",
       "      <td>0.294890</td>\n",
       "    </tr>\n",
       "  </tbody>\n",
       "</table>\n",
       "</div>"
      ],
      "text/plain": [
       "      IDFRAC                                           geometry  area_km2\n",
       "0  020010100  POLYGON ((-58.37431 -34.57871, -58.37431 -34.5...  2.663001\n",
       "1  020010200  POLYGON ((-58.37567 -34.58419, -58.37552 -34.5...  0.627842\n",
       "2  020010300  POLYGON ((-58.38788 -34.58285, -58.38788 -34.5...  1.302769\n",
       "3  020010400  POLYGON ((-58.38650 -34.59284, -58.38650 -34.5...  0.299640\n",
       "4  020010500  POLYGON ((-58.38161 -34.59284, -58.38161 -34.5...  0.294890"
      ]
     },
     "execution_count": 40,
     "metadata": {},
     "output_type": "execute_result"
    }
   ],
   "source": [
    "admin310.head()"
   ]
  },
  {
   "cell_type": "markdown",
   "metadata": {},
   "source": [
    "### Funcion guardar geojson"
   ]
  },
  {
   "cell_type": "code",
   "execution_count": 41,
   "metadata": {},
   "outputs": [],
   "source": [
    "import os\n",
    "# pip install geopandas\n",
    "import geopandas as gpd\n",
    "\n",
    "\n",
    "def save_geojson(gdf, filename = 'test.geojson'):\n",
    "    if not os.path.exists('./../data/geojson/'):\n",
    "        os.makedirs('./../data/geojson/')\n",
    "    \n",
    "    try:    # Delete if geojson exists, cause overwriting is not supported\n",
    "        os.remove('./../data/geojson/'+filename)\n",
    "    except OSError:\n",
    "        pass\n",
    "    \n",
    "    gdf.to_file('./../data/geojson/'+filename, driver=\"GeoJSON\", encoding='utf-8')\n"
   ]
  },
  {
   "cell_type": "code",
   "execution_count": null,
   "metadata": {},
   "outputs": [],
   "source": [
    "# # Las variables agrupadoras pueden ser: \n",
    "# groupers = [['Q','Total_pais'], ['Q','AGLOMERADO'], ['Q','Region'], \n",
    "#             ['Q','PROV'], ['Q','DPTO']]"
   ]
  },
  {
   "cell_type": "markdown",
   "metadata": {},
   "source": [
    "## Base: Personas"
   ]
  },
  {
   "cell_type": "code",
   "execution_count": 48,
   "metadata": {},
   "outputs": [
    {
     "name": "stderr",
     "output_type": "stream",
     "text": [
      "<ipython-input-48-f560e0eea319>:4: FutureWarning: In a future version of pandas all arguments of DataFrame.drop except for the argument 'labels' will be keyword-only.\n",
      "  df = df.set_index(list(df.drop('valor', 1).columns)).unstack([0, 1])['valor']\n",
      "/home/miglesia/anaconda3/lib/python3.8/site-packages/geopandas/io/file.py:234: FutureWarning: pandas.Int64Index is deprecated and will be removed from pandas in a future version. Use pandas.Index with the appropriate dtype instead.\n",
      "  pd.Int64Index,\n"
     ]
    }
   ],
   "source": [
    "## PROVINCIAS\n",
    "\n",
    "df = sintetizar_P(data, ['PROV'], frac = 0.02).drop('timestamp', axis = 1)#.groupby(['observable','sintetico','base']).size()\n",
    "df = df.set_index(list(df.drop('valor', 1).columns)).unstack([0, 1])['valor']\n",
    "df.columns = ['_'.join(col) for col in df.columns.values]\n",
    "df = df.reset_index()\n",
    "\n",
    "gdf = gpd.GeoDataFrame(df.merge(admin1), crs = admin1.crs)\n",
    "\n",
    "save_geojson(gdf, filename = 'pobreza_P_PROV.geojson')"
   ]
  },
  {
   "cell_type": "code",
   "execution_count": 46,
   "metadata": {},
   "outputs": [
    {
     "name": "stderr",
     "output_type": "stream",
     "text": [
      "<ipython-input-46-521b0bda4aaa>:3: FutureWarning: In a future version of pandas all arguments of DataFrame.drop except for the argument 'labels' will be keyword-only.\n",
      "  df = df.set_index(list(df.drop('valor', 1).columns)).unstack([0, 1])['valor']\n",
      "/home/miglesia/anaconda3/lib/python3.8/site-packages/geopandas/io/file.py:234: FutureWarning: pandas.Int64Index is deprecated and will be removed from pandas in a future version. Use pandas.Index with the appropriate dtype instead.\n",
      "  pd.Int64Index,\n"
     ]
    }
   ],
   "source": [
    "## DPTOS\n",
    "df = sintetizar_P(data, ['DPTO'], frac = 0.02).drop('timestamp', axis = 1)#.groupby(['observable','sintetico','base']).size()\n",
    "df = df.set_index(list(df.drop('valor', 1).columns)).unstack([0, 1])['valor']\n",
    "df.columns = ['_'.join(col) for col in df.columns.values]\n",
    "df = df.reset_index()\n",
    "\n",
    "gdf = gpd.GeoDataFrame(df.merge(admin210), crs = admin210.crs)\n",
    "\n",
    "save_geojson(gdf, filename = 'pobreza_P_DPTO.geojson')"
   ]
  },
  {
   "cell_type": "code",
   "execution_count": 47,
   "metadata": {},
   "outputs": [
    {
     "data": {
      "text/plain": [
       "<AxesSubplot:>"
      ]
     },
     "execution_count": 47,
     "metadata": {},
     "output_type": "execute_result"
    },
    {
     "data": {
      "image/png": "[encoded data removed]",
      "text/plain": [
       "<Figure size 432x288 with 1 Axes>"
      ]
     },
     "metadata": {
      "needs_background": "light"
     },
     "output_type": "display_data"
    }
   ],
   "source": [
    "gdf.plot('Pobreza_mean')"
   ]
  },
  {
   "cell_type": "code",
   "execution_count": 49,
   "metadata": {},
   "outputs": [
    {
     "name": "stderr",
     "output_type": "stream",
     "text": [
      "<ipython-input-49-e3505edd1766>:5: FutureWarning: In a future version of pandas all arguments of DataFrame.drop except for the argument 'labels' will be keyword-only.\n",
      "  df = df.set_index(list(df.drop('valor', 1).columns)).unstack([0, 1])['valor']\n",
      "/home/miglesia/anaconda3/lib/python3.8/site-packages/geopandas/io/file.py:234: FutureWarning: pandas.Int64Index is deprecated and will be removed from pandas in a future version. Use pandas.Index with the appropriate dtype instead.\n",
      "  pd.Int64Index,\n"
     ]
    }
   ],
   "source": [
    "## FRACS\n",
    "data['IDFRAC'] = data['COD_2010'].str[:-2] + '00'\n",
    "df = sintetizar_P(data, ['IDFRAC'], frac = 0.02).drop('timestamp', axis = 1)#.groupby(['observable','sintetico','base']).size()\n",
    "\n",
    "df = df.set_index(list(df.drop('valor', 1).columns)).unstack([0, 1])['valor']\n",
    "df.columns = ['_'.join(col) for col in df.columns.values]\n",
    "df = df.reset_index()\n",
    "\n",
    "gdf = gpd.GeoDataFrame(df.merge(admin310), crs = admin310.crs)\n",
    "\n",
    "save_geojson(gdf, filename = 'pobreza_P_FRAC.geojson')"
   ]
  },
  {
   "cell_type": "markdown",
   "metadata": {},
   "source": [
    "## Base: Personas, Mayores de 24."
   ]
  },
  {
   "cell_type": "code",
   "execution_count": 50,
   "metadata": {},
   "outputs": [
    {
     "name": "stderr",
     "output_type": "stream",
     "text": [
      "<ipython-input-50-39e371c5c597>:4: FutureWarning: In a future version of pandas all arguments of DataFrame.drop except for the argument 'labels' will be keyword-only.\n",
      "  df = df.set_index(list(df.drop('valor', 1).columns)).unstack([0, 1])['valor']\n",
      "/home/miglesia/anaconda3/lib/python3.8/site-packages/geopandas/io/file.py:234: FutureWarning: pandas.Int64Index is deprecated and will be removed from pandas in a future version. Use pandas.Index with the appropriate dtype instead.\n",
      "  pd.Int64Index,\n"
     ]
    }
   ],
   "source": [
    "## PROVINCIAS\n",
    "\n",
    "df = sintetizar_P(data.loc[data.P03 >= 24], ['PROV'], frac = 0.02).drop('timestamp', axis = 1)#.groupby(['observable','sintetico','base']).size()\n",
    "df = df.set_index(list(df.drop('valor', 1).columns)).unstack([0, 1])['valor']\n",
    "df.columns = ['_'.join(col) for col in df.columns.values]\n",
    "df = df.reset_index()\n",
    "\n",
    "gdf = gpd.GeoDataFrame(df.merge(admin1), crs = admin1.crs)\n",
    "\n",
    "save_geojson(gdf, filename = 'pobreza_M24_PROV.geojson')"
   ]
  },
  {
   "cell_type": "code",
   "execution_count": 51,
   "metadata": {},
   "outputs": [
    {
     "data": {
      "text/html": [
       "<div>\n",
       "<style scoped>\n",
       "    .dataframe tbody tr th:only-of-type {\n",
       "        vertical-align: middle;\n",
       "    }\n",
       "\n",
       "    .dataframe tbody tr th {\n",
       "        vertical-align: top;\n",
       "    }\n",
       "\n",
       "    .dataframe thead th {\n",
       "        text-align: right;\n",
       "    }\n",
       "</style>\n",
       "<table border=\"1\" class=\"dataframe\">\n",
       "  <thead>\n",
       "    <tr style=\"text-align: right;\">\n",
       "      <th></th>\n",
       "      <th>base</th>\n",
       "      <th>PROV</th>\n",
       "      <th>Total_mean</th>\n",
       "      <th>Total_sum</th>\n",
       "      <th>Pobreza_mean</th>\n",
       "      <th>Pobreza_sum</th>\n",
       "      <th>Indigencia_mean</th>\n",
       "      <th>Indigencia_sum</th>\n",
       "      <th>P47T_persona_mean</th>\n",
       "      <th>P47T_persona_q10</th>\n",
       "      <th>P47T_persona_q25</th>\n",
       "      <th>P47T_persona_median</th>\n",
       "      <th>P47T_persona_q75</th>\n",
       "      <th>P47T_persona_q90</th>\n",
       "      <th>geometry</th>\n",
       "      <th>area_km2</th>\n",
       "    </tr>\n",
       "  </thead>\n",
       "  <tbody>\n",
       "    <tr>\n",
       "      <th>0</th>\n",
       "      <td>Personas</td>\n",
       "      <td>2</td>\n",
       "      <td>1.0</td>\n",
       "      <td>8322600.0</td>\n",
       "      <td>0.0865</td>\n",
       "      <td>719750.0</td>\n",
       "      <td>0.0204</td>\n",
       "      <td>169400.0</td>\n",
       "      <td>131570.0</td>\n",
       "      <td>25550.0</td>\n",
       "      <td>56020.0</td>\n",
       "      <td>102700.0</td>\n",
       "      <td>171780.0</td>\n",
       "      <td>270750.0</td>\n",
       "      <td>POLYGON Z ((-58.34189 -34.63110 0.00000, -58.3...</td>\n",
       "      <td>303.401389</td>\n",
       "    </tr>\n",
       "  </tbody>\n",
       "</table>\n",
       "</div>"
      ],
      "text/plain": [
       "       base  PROV  Total_mean  Total_sum  Pobreza_mean  Pobreza_sum  \\\n",
       "0  Personas     2         1.0  8322600.0        0.0865     719750.0   \n",
       "\n",
       "   Indigencia_mean  Indigencia_sum  P47T_persona_mean  P47T_persona_q10  \\\n",
       "0           0.0204        169400.0           131570.0           25550.0   \n",
       "\n",
       "   P47T_persona_q25  P47T_persona_median  P47T_persona_q75  P47T_persona_q90  \\\n",
       "0           56020.0             102700.0          171780.0          270750.0   \n",
       "\n",
       "                                            geometry    area_km2  \n",
       "0  POLYGON Z ((-58.34189 -34.63110 0.00000, -58.3...  303.401389  "
      ]
     },
     "execution_count": 51,
     "metadata": {},
     "output_type": "execute_result"
    }
   ],
   "source": [
    "gdf.head(1)"
   ]
  },
  {
   "cell_type": "code",
   "execution_count": 52,
   "metadata": {},
   "outputs": [
    {
     "name": "stderr",
     "output_type": "stream",
     "text": [
      "<ipython-input-52-057db84ebb05>:3: FutureWarning: In a future version of pandas all arguments of DataFrame.drop except for the argument 'labels' will be keyword-only.\n",
      "  df = df.set_index(list(df.drop('valor', 1).columns)).unstack([0, 1])['valor']\n",
      "/home/miglesia/anaconda3/lib/python3.8/site-packages/geopandas/io/file.py:234: FutureWarning: pandas.Int64Index is deprecated and will be removed from pandas in a future version. Use pandas.Index with the appropriate dtype instead.\n",
      "  pd.Int64Index,\n"
     ]
    }
   ],
   "source": [
    "## DPTOS\n",
    "df = sintetizar_P(data.loc[data.P03 >= 24], ['DPTO'], frac = 0.02).drop('timestamp', axis = 1)#.groupby(['observable','sintetico','base']).size()\n",
    "df = df.set_index(list(df.drop('valor', 1).columns)).unstack([0, 1])['valor']\n",
    "df.columns = ['_'.join(col) for col in df.columns.values]\n",
    "df = df.reset_index()\n",
    "\n",
    "gdf = gpd.GeoDataFrame(df.merge(admin210), crs = admin210.crs)\n",
    "\n",
    "save_geojson(gdf, filename = 'pobreza_M24_DPTO.geojson')"
   ]
  },
  {
   "cell_type": "code",
   "execution_count": 53,
   "metadata": {},
   "outputs": [
    {
     "data": {
      "text/html": [
       "<div>\n",
       "<style scoped>\n",
       "    .dataframe tbody tr th:only-of-type {\n",
       "        vertical-align: middle;\n",
       "    }\n",
       "\n",
       "    .dataframe tbody tr th {\n",
       "        vertical-align: top;\n",
       "    }\n",
       "\n",
       "    .dataframe thead th {\n",
       "        text-align: right;\n",
       "    }\n",
       "</style>\n",
       "<table border=\"1\" class=\"dataframe\">\n",
       "  <thead>\n",
       "    <tr style=\"text-align: right;\">\n",
       "      <th></th>\n",
       "      <th>base</th>\n",
       "      <th>DPTO</th>\n",
       "      <th>Total_mean</th>\n",
       "      <th>Total_sum</th>\n",
       "      <th>Pobreza_mean</th>\n",
       "      <th>Pobreza_sum</th>\n",
       "      <th>Indigencia_mean</th>\n",
       "      <th>Indigencia_sum</th>\n",
       "      <th>P47T_persona_mean</th>\n",
       "      <th>P47T_persona_q10</th>\n",
       "      <th>P47T_persona_q25</th>\n",
       "      <th>P47T_persona_median</th>\n",
       "      <th>P47T_persona_q75</th>\n",
       "      <th>P47T_persona_q90</th>\n",
       "      <th>geometry</th>\n",
       "      <th>area_km2</th>\n",
       "    </tr>\n",
       "  </thead>\n",
       "  <tbody>\n",
       "    <tr>\n",
       "      <th>0</th>\n",
       "      <td>Personas</td>\n",
       "      <td>2001</td>\n",
       "      <td>1.0</td>\n",
       "      <td>604800.0</td>\n",
       "      <td>0.1295</td>\n",
       "      <td>78300.0</td>\n",
       "      <td>0.0399</td>\n",
       "      <td>24150.0</td>\n",
       "      <td>128260.0</td>\n",
       "      <td>16300.0</td>\n",
       "      <td>51100.0</td>\n",
       "      <td>101870.0</td>\n",
       "      <td>168050.0</td>\n",
       "      <td>272540.0</td>\n",
       "      <td>POLYGON ((-58.36796 -34.62520, -58.36796 -34.6...</td>\n",
       "      <td>26.223521</td>\n",
       "    </tr>\n",
       "  </tbody>\n",
       "</table>\n",
       "</div>"
      ],
      "text/plain": [
       "       base  DPTO  Total_mean  Total_sum  Pobreza_mean  Pobreza_sum  \\\n",
       "0  Personas  2001         1.0   604800.0        0.1295      78300.0   \n",
       "\n",
       "   Indigencia_mean  Indigencia_sum  P47T_persona_mean  P47T_persona_q10  \\\n",
       "0           0.0399         24150.0           128260.0           16300.0   \n",
       "\n",
       "   P47T_persona_q25  P47T_persona_median  P47T_persona_q75  P47T_persona_q90  \\\n",
       "0           51100.0             101870.0          168050.0          272540.0   \n",
       "\n",
       "                                            geometry   area_km2  \n",
       "0  POLYGON ((-58.36796 -34.62520, -58.36796 -34.6...  26.223521  "
      ]
     },
     "execution_count": 53,
     "metadata": {},
     "output_type": "execute_result"
    }
   ],
   "source": [
    "gdf.head(1)"
   ]
  },
  {
   "cell_type": "code",
   "execution_count": 54,
   "metadata": {},
   "outputs": [
    {
     "name": "stderr",
     "output_type": "stream",
     "text": [
      "<ipython-input-54-e4df9cdfd0d6>:5: FutureWarning: In a future version of pandas all arguments of DataFrame.drop except for the argument 'labels' will be keyword-only.\n",
      "  df = df.set_index(list(df.drop('valor', 1).columns)).unstack([0, 1])['valor']\n",
      "/home/miglesia/anaconda3/lib/python3.8/site-packages/geopandas/io/file.py:234: FutureWarning: pandas.Int64Index is deprecated and will be removed from pandas in a future version. Use pandas.Index with the appropriate dtype instead.\n",
      "  pd.Int64Index,\n"
     ]
    }
   ],
   "source": [
    "## FRACS\n",
    "data['IDFRAC'] = data['COD_2010'].str[:-2] + '00'\n",
    "df = sintetizar_P(data.loc[data.P03 >= 24], ['IDFRAC'], frac = 0.02).drop('timestamp', axis = 1)#.groupby(['observable','sintetico','base']).size()\n",
    "\n",
    "df = df.set_index(list(df.drop('valor', 1).columns)).unstack([0, 1])['valor']\n",
    "df.columns = ['_'.join(col) for col in df.columns.values]\n",
    "df = df.reset_index()\n",
    "\n",
    "gdf = gpd.GeoDataFrame(df.merge(admin310), crs = admin310.crs)\n",
    "\n",
    "save_geojson(gdf, filename = 'pobreza_M24_FRAC.geojson')"
   ]
  },
  {
   "cell_type": "markdown",
   "metadata": {},
   "source": [
    "## Base: Personas, Menores de 14."
   ]
  },
  {
   "cell_type": "code",
   "execution_count": 55,
   "metadata": {},
   "outputs": [
    {
     "name": "stderr",
     "output_type": "stream",
     "text": [
      "<ipython-input-55-9233bdf3bae4>:4: FutureWarning: In a future version of pandas all arguments of DataFrame.drop except for the argument 'labels' will be keyword-only.\n",
      "  df = df.set_index(list(df.drop('valor', 1).columns)).unstack([0, 1])['valor']\n",
      "/home/miglesia/anaconda3/lib/python3.8/site-packages/geopandas/io/file.py:234: FutureWarning: pandas.Int64Index is deprecated and will be removed from pandas in a future version. Use pandas.Index with the appropriate dtype instead.\n",
      "  pd.Int64Index,\n"
     ]
    }
   ],
   "source": [
    "## PROVINCIAS\n",
    "\n",
    "df = sintetizar_P(data.loc[data.P03 <= 14], ['PROV'], frac = 0.02).drop('timestamp', axis = 1)#.groupby(['observable','sintetico','base']).size()\n",
    "df = df.set_index(list(df.drop('valor', 1).columns)).unstack([0, 1])['valor']\n",
    "df.columns = ['_'.join(col) for col in df.columns.values]\n",
    "df = df.reset_index()\n",
    "\n",
    "gdf = gpd.GeoDataFrame(df.merge(admin1), crs = admin1.crs)\n",
    "\n",
    "save_geojson(gdf, filename = 'pobreza_M14_PROV.geojson')"
   ]
  },
  {
   "cell_type": "code",
   "execution_count": 56,
   "metadata": {},
   "outputs": [
    {
     "data": {
      "text/html": [
       "<div>\n",
       "<style scoped>\n",
       "    .dataframe tbody tr th:only-of-type {\n",
       "        vertical-align: middle;\n",
       "    }\n",
       "\n",
       "    .dataframe tbody tr th {\n",
       "        vertical-align: top;\n",
       "    }\n",
       "\n",
       "    .dataframe thead th {\n",
       "        text-align: right;\n",
       "    }\n",
       "</style>\n",
       "<table border=\"1\" class=\"dataframe\">\n",
       "  <thead>\n",
       "    <tr style=\"text-align: right;\">\n",
       "      <th></th>\n",
       "      <th>base</th>\n",
       "      <th>PROV</th>\n",
       "      <th>Total_mean</th>\n",
       "      <th>Total_sum</th>\n",
       "      <th>Pobreza_mean</th>\n",
       "      <th>Pobreza_sum</th>\n",
       "      <th>Indigencia_mean</th>\n",
       "      <th>Indigencia_sum</th>\n",
       "      <th>P47T_persona_mean</th>\n",
       "      <th>P47T_persona_q10</th>\n",
       "      <th>P47T_persona_q25</th>\n",
       "      <th>P47T_persona_median</th>\n",
       "      <th>P47T_persona_q75</th>\n",
       "      <th>P47T_persona_q90</th>\n",
       "      <th>geometry</th>\n",
       "      <th>area_km2</th>\n",
       "    </tr>\n",
       "  </thead>\n",
       "  <tbody>\n",
       "    <tr>\n",
       "      <th>0</th>\n",
       "      <td>Personas</td>\n",
       "      <td>2</td>\n",
       "      <td>1.0</td>\n",
       "      <td>1938600.0</td>\n",
       "      <td>0.2548</td>\n",
       "      <td>493950.0</td>\n",
       "      <td>0.0737</td>\n",
       "      <td>142850.0</td>\n",
       "      <td>380.0</td>\n",
       "      <td>0.0</td>\n",
       "      <td>0.0</td>\n",
       "      <td>0.0</td>\n",
       "      <td>0.0</td>\n",
       "      <td>0.0</td>\n",
       "      <td>POLYGON Z ((-58.34189 -34.63110 0.00000, -58.3...</td>\n",
       "      <td>303.401389</td>\n",
       "    </tr>\n",
       "  </tbody>\n",
       "</table>\n",
       "</div>"
      ],
      "text/plain": [
       "       base  PROV  Total_mean  Total_sum  Pobreza_mean  Pobreza_sum  \\\n",
       "0  Personas     2         1.0  1938600.0        0.2548     493950.0   \n",
       "\n",
       "   Indigencia_mean  Indigencia_sum  P47T_persona_mean  P47T_persona_q10  \\\n",
       "0           0.0737        142850.0              380.0               0.0   \n",
       "\n",
       "   P47T_persona_q25  P47T_persona_median  P47T_persona_q75  P47T_persona_q90  \\\n",
       "0               0.0                  0.0               0.0               0.0   \n",
       "\n",
       "                                            geometry    area_km2  \n",
       "0  POLYGON Z ((-58.34189 -34.63110 0.00000, -58.3...  303.401389  "
      ]
     },
     "execution_count": 56,
     "metadata": {},
     "output_type": "execute_result"
    }
   ],
   "source": [
    "gdf.head(1)"
   ]
  },
  {
   "cell_type": "code",
   "execution_count": 57,
   "metadata": {},
   "outputs": [
    {
     "name": "stderr",
     "output_type": "stream",
     "text": [
      "<ipython-input-57-2d8af92a5623>:3: FutureWarning: In a future version of pandas all arguments of DataFrame.drop except for the argument 'labels' will be keyword-only.\n",
      "  df = df.set_index(list(df.drop('valor', 1).columns)).unstack([0, 1])['valor']\n",
      "/home/miglesia/anaconda3/lib/python3.8/site-packages/geopandas/io/file.py:234: FutureWarning: pandas.Int64Index is deprecated and will be removed from pandas in a future version. Use pandas.Index with the appropriate dtype instead.\n",
      "  pd.Int64Index,\n"
     ]
    }
   ],
   "source": [
    "## DPTOS\n",
    "df = sintetizar_P(data.loc[data.P03 <= 14], ['DPTO'], frac = 0.02).drop('timestamp', axis = 1)#.groupby(['observable','sintetico','base']).size()\n",
    "df = df.set_index(list(df.drop('valor', 1).columns)).unstack([0, 1])['valor']\n",
    "df.columns = ['_'.join(col) for col in df.columns.values]\n",
    "df = df.reset_index()\n",
    "\n",
    "gdf = gpd.GeoDataFrame(df.merge(admin210), crs = admin210.crs)\n",
    "\n",
    "save_geojson(gdf, filename = 'pobreza_M14_DPTO.geojson')"
   ]
  },
  {
   "cell_type": "code",
   "execution_count": 58,
   "metadata": {},
   "outputs": [
    {
     "data": {
      "text/html": [
       "<div>\n",
       "<style scoped>\n",
       "    .dataframe tbody tr th:only-of-type {\n",
       "        vertical-align: middle;\n",
       "    }\n",
       "\n",
       "    .dataframe tbody tr th {\n",
       "        vertical-align: top;\n",
       "    }\n",
       "\n",
       "    .dataframe thead th {\n",
       "        text-align: right;\n",
       "    }\n",
       "</style>\n",
       "<table border=\"1\" class=\"dataframe\">\n",
       "  <thead>\n",
       "    <tr style=\"text-align: right;\">\n",
       "      <th></th>\n",
       "      <th>base</th>\n",
       "      <th>DPTO</th>\n",
       "      <th>Total_mean</th>\n",
       "      <th>Total_sum</th>\n",
       "      <th>Pobreza_mean</th>\n",
       "      <th>Pobreza_sum</th>\n",
       "      <th>Indigencia_mean</th>\n",
       "      <th>Indigencia_sum</th>\n",
       "      <th>P47T_persona_mean</th>\n",
       "      <th>P47T_persona_q10</th>\n",
       "      <th>P47T_persona_q25</th>\n",
       "      <th>P47T_persona_median</th>\n",
       "      <th>P47T_persona_q75</th>\n",
       "      <th>P47T_persona_q90</th>\n",
       "      <th>geometry</th>\n",
       "      <th>area_km2</th>\n",
       "    </tr>\n",
       "  </thead>\n",
       "  <tbody>\n",
       "    <tr>\n",
       "      <th>0</th>\n",
       "      <td>Personas</td>\n",
       "      <td>2001</td>\n",
       "      <td>1.0</td>\n",
       "      <td>134600.0</td>\n",
       "      <td>0.3904</td>\n",
       "      <td>52550.0</td>\n",
       "      <td>0.1415</td>\n",
       "      <td>19050.0</td>\n",
       "      <td>590.0</td>\n",
       "      <td>0.0</td>\n",
       "      <td>0.0</td>\n",
       "      <td>0.0</td>\n",
       "      <td>0.0</td>\n",
       "      <td>0.0</td>\n",
       "      <td>POLYGON ((-58.36796 -34.62520, -58.36796 -34.6...</td>\n",
       "      <td>26.223521</td>\n",
       "    </tr>\n",
       "  </tbody>\n",
       "</table>\n",
       "</div>"
      ],
      "text/plain": [
       "       base  DPTO  Total_mean  Total_sum  Pobreza_mean  Pobreza_sum  \\\n",
       "0  Personas  2001         1.0   134600.0        0.3904      52550.0   \n",
       "\n",
       "   Indigencia_mean  Indigencia_sum  P47T_persona_mean  P47T_persona_q10  \\\n",
       "0           0.1415         19050.0              590.0               0.0   \n",
       "\n",
       "   P47T_persona_q25  P47T_persona_median  P47T_persona_q75  P47T_persona_q90  \\\n",
       "0               0.0                  0.0               0.0               0.0   \n",
       "\n",
       "                                            geometry   area_km2  \n",
       "0  POLYGON ((-58.36796 -34.62520, -58.36796 -34.6...  26.223521  "
      ]
     },
     "execution_count": 58,
     "metadata": {},
     "output_type": "execute_result"
    }
   ],
   "source": [
    "gdf.head(1)"
   ]
  },
  {
   "cell_type": "code",
   "execution_count": 59,
   "metadata": {},
   "outputs": [
    {
     "name": "stderr",
     "output_type": "stream",
     "text": [
      "<ipython-input-59-ce142aad1617>:5: FutureWarning: In a future version of pandas all arguments of DataFrame.drop except for the argument 'labels' will be keyword-only.\n",
      "  df = df.set_index(list(df.drop('valor', 1).columns)).unstack([0, 1])['valor']\n",
      "/home/miglesia/anaconda3/lib/python3.8/site-packages/geopandas/io/file.py:234: FutureWarning: pandas.Int64Index is deprecated and will be removed from pandas in a future version. Use pandas.Index with the appropriate dtype instead.\n",
      "  pd.Int64Index,\n"
     ]
    }
   ],
   "source": [
    "## FRACS\n",
    "data['IDFRAC'] = data['COD_2010'].str[:-2] + '00'\n",
    "df = sintetizar_P(data.loc[data.P03 <= 14], ['IDFRAC'], frac = 0.02).drop('timestamp', axis = 1)#.groupby(['observable','sintetico','base']).size()\n",
    "\n",
    "df = df.set_index(list(df.drop('valor', 1).columns)).unstack([0, 1])['valor']\n",
    "df.columns = ['_'.join(col) for col in df.columns.values]\n",
    "df = df.reset_index()\n",
    "\n",
    "gdf = gpd.GeoDataFrame(df.merge(admin310), crs = admin310.crs)\n",
    "\n",
    "save_geojson(gdf, filename = 'pobreza_M14_FRAC.geojson')"
   ]
  },
  {
   "cell_type": "markdown",
   "metadata": {},
   "source": [
    "## Base: Personas, Menores de 6."
   ]
  },
  {
   "cell_type": "code",
   "execution_count": 60,
   "metadata": {},
   "outputs": [
    {
     "name": "stderr",
     "output_type": "stream",
     "text": [
      "<ipython-input-60-1e0c74e31f5e>:4: FutureWarning: In a future version of pandas all arguments of DataFrame.drop except for the argument 'labels' will be keyword-only.\n",
      "  df = df.set_index(list(df.drop('valor', 1).columns)).unstack([0, 1])['valor']\n",
      "/home/miglesia/anaconda3/lib/python3.8/site-packages/geopandas/io/file.py:234: FutureWarning: pandas.Int64Index is deprecated and will be removed from pandas in a future version. Use pandas.Index with the appropriate dtype instead.\n",
      "  pd.Int64Index,\n"
     ]
    }
   ],
   "source": [
    "## PROVINCIAS\n",
    "\n",
    "df = sintetizar_P(data.loc[data.P03 <= 6], ['PROV'], frac = 0.02).drop('timestamp', axis = 1)#.groupby(['observable','sintetico','base']).size()\n",
    "df = df.set_index(list(df.drop('valor', 1).columns)).unstack([0, 1])['valor']\n",
    "df.columns = ['_'.join(col) for col in df.columns.values]\n",
    "df = df.reset_index()\n",
    "\n",
    "gdf = gpd.GeoDataFrame(df.merge(admin1), crs = admin1.crs)\n",
    "\n",
    "save_geojson(gdf, filename = 'pobreza_M6_PROV.geojson')"
   ]
  },
  {
   "cell_type": "code",
   "execution_count": 61,
   "metadata": {},
   "outputs": [
    {
     "data": {
      "text/html": [
       "<div>\n",
       "<style scoped>\n",
       "    .dataframe tbody tr th:only-of-type {\n",
       "        vertical-align: middle;\n",
       "    }\n",
       "\n",
       "    .dataframe tbody tr th {\n",
       "        vertical-align: top;\n",
       "    }\n",
       "\n",
       "    .dataframe thead th {\n",
       "        text-align: right;\n",
       "    }\n",
       "</style>\n",
       "<table border=\"1\" class=\"dataframe\">\n",
       "  <thead>\n",
       "    <tr style=\"text-align: right;\">\n",
       "      <th></th>\n",
       "      <th>base</th>\n",
       "      <th>PROV</th>\n",
       "      <th>Total_mean</th>\n",
       "      <th>Total_sum</th>\n",
       "      <th>Pobreza_mean</th>\n",
       "      <th>Pobreza_sum</th>\n",
       "      <th>Indigencia_mean</th>\n",
       "      <th>Indigencia_sum</th>\n",
       "      <th>P47T_persona_mean</th>\n",
       "      <th>P47T_persona_q10</th>\n",
       "      <th>P47T_persona_q25</th>\n",
       "      <th>P47T_persona_median</th>\n",
       "      <th>P47T_persona_q75</th>\n",
       "      <th>P47T_persona_q90</th>\n",
       "      <th>geometry</th>\n",
       "      <th>area_km2</th>\n",
       "    </tr>\n",
       "  </thead>\n",
       "  <tbody>\n",
       "    <tr>\n",
       "      <th>0</th>\n",
       "      <td>Personas</td>\n",
       "      <td>2</td>\n",
       "      <td>1.0</td>\n",
       "      <td>966800.0</td>\n",
       "      <td>0.2359</td>\n",
       "      <td>228050.0</td>\n",
       "      <td>0.07</td>\n",
       "      <td>67650.0</td>\n",
       "      <td>0.0</td>\n",
       "      <td>0.0</td>\n",
       "      <td>0.0</td>\n",
       "      <td>0.0</td>\n",
       "      <td>0.0</td>\n",
       "      <td>0.0</td>\n",
       "      <td>POLYGON Z ((-58.34189 -34.63110 0.00000, -58.3...</td>\n",
       "      <td>303.401389</td>\n",
       "    </tr>\n",
       "  </tbody>\n",
       "</table>\n",
       "</div>"
      ],
      "text/plain": [
       "       base  PROV  Total_mean  Total_sum  Pobreza_mean  Pobreza_sum  \\\n",
       "0  Personas     2         1.0   966800.0        0.2359     228050.0   \n",
       "\n",
       "   Indigencia_mean  Indigencia_sum  P47T_persona_mean  P47T_persona_q10  \\\n",
       "0             0.07         67650.0                0.0               0.0   \n",
       "\n",
       "   P47T_persona_q25  P47T_persona_median  P47T_persona_q75  P47T_persona_q90  \\\n",
       "0               0.0                  0.0               0.0               0.0   \n",
       "\n",
       "                                            geometry    area_km2  \n",
       "0  POLYGON Z ((-58.34189 -34.63110 0.00000, -58.3...  303.401389  "
      ]
     },
     "execution_count": 61,
     "metadata": {},
     "output_type": "execute_result"
    }
   ],
   "source": [
    "gdf.head(1)"
   ]
  },
  {
   "cell_type": "code",
   "execution_count": 62,
   "metadata": {},
   "outputs": [
    {
     "name": "stderr",
     "output_type": "stream",
     "text": [
      "<ipython-input-62-36f1eb72073f>:3: FutureWarning: In a future version of pandas all arguments of DataFrame.drop except for the argument 'labels' will be keyword-only.\n",
      "  df = df.set_index(list(df.drop('valor', 1).columns)).unstack([0, 1])['valor']\n",
      "/home/miglesia/anaconda3/lib/python3.8/site-packages/geopandas/io/file.py:234: FutureWarning: pandas.Int64Index is deprecated and will be removed from pandas in a future version. Use pandas.Index with the appropriate dtype instead.\n",
      "  pd.Int64Index,\n"
     ]
    }
   ],
   "source": [
    "## DPTOS\n",
    "df = sintetizar_P(data.loc[data.P03 <= 6], ['DPTO'], frac = 0.02).drop('timestamp', axis = 1)#.groupby(['observable','sintetico','base']).size()\n",
    "df = df.set_index(list(df.drop('valor', 1).columns)).unstack([0, 1])['valor']\n",
    "df.columns = ['_'.join(col) for col in df.columns.values]\n",
    "df = df.reset_index()\n",
    "\n",
    "gdf = gpd.GeoDataFrame(df.merge(admin210), crs = admin210.crs)\n",
    "\n",
    "save_geojson(gdf, filename = 'pobreza_M6_DPTO.geojson')"
   ]
  },
  {
   "cell_type": "code",
   "execution_count": 63,
   "metadata": {},
   "outputs": [
    {
     "data": {
      "text/html": [
       "<div>\n",
       "<style scoped>\n",
       "    .dataframe tbody tr th:only-of-type {\n",
       "        vertical-align: middle;\n",
       "    }\n",
       "\n",
       "    .dataframe tbody tr th {\n",
       "        vertical-align: top;\n",
       "    }\n",
       "\n",
       "    .dataframe thead th {\n",
       "        text-align: right;\n",
       "    }\n",
       "</style>\n",
       "<table border=\"1\" class=\"dataframe\">\n",
       "  <thead>\n",
       "    <tr style=\"text-align: right;\">\n",
       "      <th></th>\n",
       "      <th>base</th>\n",
       "      <th>DPTO</th>\n",
       "      <th>Total_mean</th>\n",
       "      <th>Total_sum</th>\n",
       "      <th>Pobreza_mean</th>\n",
       "      <th>Pobreza_sum</th>\n",
       "      <th>Indigencia_mean</th>\n",
       "      <th>Indigencia_sum</th>\n",
       "      <th>P47T_persona_mean</th>\n",
       "      <th>P47T_persona_q10</th>\n",
       "      <th>P47T_persona_q25</th>\n",
       "      <th>P47T_persona_median</th>\n",
       "      <th>P47T_persona_q75</th>\n",
       "      <th>P47T_persona_q90</th>\n",
       "      <th>geometry</th>\n",
       "      <th>area_km2</th>\n",
       "    </tr>\n",
       "  </thead>\n",
       "  <tbody>\n",
       "    <tr>\n",
       "      <th>0</th>\n",
       "      <td>Personas</td>\n",
       "      <td>2001</td>\n",
       "      <td>1.0</td>\n",
       "      <td>67000.0</td>\n",
       "      <td>0.3873</td>\n",
       "      <td>25950.0</td>\n",
       "      <td>0.1448</td>\n",
       "      <td>9700.0</td>\n",
       "      <td>0.0</td>\n",
       "      <td>0.0</td>\n",
       "      <td>0.0</td>\n",
       "      <td>0.0</td>\n",
       "      <td>0.0</td>\n",
       "      <td>0.0</td>\n",
       "      <td>POLYGON ((-58.36796 -34.62520, -58.36796 -34.6...</td>\n",
       "      <td>26.223521</td>\n",
       "    </tr>\n",
       "  </tbody>\n",
       "</table>\n",
       "</div>"
      ],
      "text/plain": [
       "       base  DPTO  Total_mean  Total_sum  Pobreza_mean  Pobreza_sum  \\\n",
       "0  Personas  2001         1.0    67000.0        0.3873      25950.0   \n",
       "\n",
       "   Indigencia_mean  Indigencia_sum  P47T_persona_mean  P47T_persona_q10  \\\n",
       "0           0.1448          9700.0                0.0               0.0   \n",
       "\n",
       "   P47T_persona_q25  P47T_persona_median  P47T_persona_q75  P47T_persona_q90  \\\n",
       "0               0.0                  0.0               0.0               0.0   \n",
       "\n",
       "                                            geometry   area_km2  \n",
       "0  POLYGON ((-58.36796 -34.62520, -58.36796 -34.6...  26.223521  "
      ]
     },
     "execution_count": 63,
     "metadata": {},
     "output_type": "execute_result"
    }
   ],
   "source": [
    "gdf.head(1)"
   ]
  },
  {
   "cell_type": "code",
   "execution_count": 64,
   "metadata": {},
   "outputs": [
    {
     "name": "stderr",
     "output_type": "stream",
     "text": [
      "<ipython-input-64-1c9d6e445a94>:5: FutureWarning: In a future version of pandas all arguments of DataFrame.drop except for the argument 'labels' will be keyword-only.\n",
      "  df = df.set_index(list(df.drop('valor', 1).columns)).unstack([0, 1])['valor']\n",
      "/home/miglesia/anaconda3/lib/python3.8/site-packages/geopandas/io/file.py:234: FutureWarning: pandas.Int64Index is deprecated and will be removed from pandas in a future version. Use pandas.Index with the appropriate dtype instead.\n",
      "  pd.Int64Index,\n"
     ]
    }
   ],
   "source": [
    "## FRACS\n",
    "data['IDFRAC'] = data['COD_2010'].str[:-2] + '00'\n",
    "df = sintetizar_P(data.loc[data.P03 <= 6], ['IDFRAC'], frac = 0.02).drop('timestamp', axis = 1)#.groupby(['observable','sintetico','base']).size()\n",
    "\n",
    "df = df.set_index(list(df.drop('valor', 1).columns)).unstack([0, 1])['valor']\n",
    "df.columns = ['_'.join(col) for col in df.columns.values]\n",
    "df = df.reset_index()\n",
    "\n",
    "gdf = gpd.GeoDataFrame(df.merge(admin310), crs = admin310.crs)\n",
    "\n",
    "save_geojson(gdf, filename = 'pobreza_M6_FRAC.geojson')"
   ]
  },
  {
   "cell_type": "markdown",
   "metadata": {},
   "source": [
    "## Base: Hogares"
   ]
  },
  {
   "cell_type": "code",
   "execution_count": 65,
   "metadata": {},
   "outputs": [
    {
     "name": "stderr",
     "output_type": "stream",
     "text": [
      "<ipython-input-65-e44d9c5478d8>:4: FutureWarning: In a future version of pandas all arguments of DataFrame.drop except for the argument 'labels' will be keyword-only.\n",
      "  df = df.set_index(list(df.drop('valor', 1).columns)).unstack([0, 1])['valor']\n",
      "/home/miglesia/anaconda3/lib/python3.8/site-packages/geopandas/io/file.py:234: FutureWarning: pandas.Int64Index is deprecated and will be removed from pandas in a future version. Use pandas.Index with the appropriate dtype instead.\n",
      "  pd.Int64Index,\n"
     ]
    }
   ],
   "source": [
    "## PROVINCIAS\n",
    "\n",
    "df = sintetizar_H(data, ['PROV'], frac = 0.02).drop('timestamp', axis = 1)#.groupby(['observable','sintetico','base']).size()\n",
    "df = df.set_index(list(df.drop('valor', 1).columns)).unstack([0, 1])['valor']\n",
    "df.columns = ['_'.join(col) for col in df.columns.values]\n",
    "df = df.reset_index()\n",
    "\n",
    "gdf = gpd.GeoDataFrame(df.merge(admin1), crs = admin1.crs)\n",
    "\n",
    "save_geojson(gdf, filename = 'pobreza_H_PROV.geojson')"
   ]
  },
  {
   "cell_type": "code",
   "execution_count": 66,
   "metadata": {},
   "outputs": [
    {
     "data": {
      "text/html": [
       "<div>\n",
       "<style scoped>\n",
       "    .dataframe tbody tr th:only-of-type {\n",
       "        vertical-align: middle;\n",
       "    }\n",
       "\n",
       "    .dataframe tbody tr th {\n",
       "        vertical-align: top;\n",
       "    }\n",
       "\n",
       "    .dataframe thead th {\n",
       "        text-align: right;\n",
       "    }\n",
       "</style>\n",
       "<table border=\"1\" class=\"dataframe\">\n",
       "  <thead>\n",
       "    <tr style=\"text-align: right;\">\n",
       "      <th></th>\n",
       "      <th>base</th>\n",
       "      <th>PROV</th>\n",
       "      <th>Total_mean</th>\n",
       "      <th>Total_sum</th>\n",
       "      <th>Pobreza_mean</th>\n",
       "      <th>Pobreza_sum</th>\n",
       "      <th>Indigencia_mean</th>\n",
       "      <th>Indigencia_sum</th>\n",
       "      <th>P47T_hogar_mean</th>\n",
       "      <th>P47T_hogar_q10</th>\n",
       "      <th>...</th>\n",
       "      <th>CBA_sum</th>\n",
       "      <th>CBA_median</th>\n",
       "      <th>gap_indigencia_mean</th>\n",
       "      <th>gap_indigencia_median</th>\n",
       "      <th>CBT_sum</th>\n",
       "      <th>CBT_median</th>\n",
       "      <th>gap_pobreza_mean</th>\n",
       "      <th>gap_pobreza_median</th>\n",
       "      <th>geometry</th>\n",
       "      <th>area_km2</th>\n",
       "    </tr>\n",
       "  </thead>\n",
       "  <tbody>\n",
       "    <tr>\n",
       "      <th>0</th>\n",
       "      <td>Hogares</td>\n",
       "      <td>2</td>\n",
       "      <td>1.0</td>\n",
       "      <td>1158750.0</td>\n",
       "      <td>0.125</td>\n",
       "      <td>144850.0</td>\n",
       "      <td>0.0336</td>\n",
       "      <td>38900.0</td>\n",
       "      <td>215570.0</td>\n",
       "      <td>48900.0</td>\n",
       "      <td>...</td>\n",
       "      <td>848184400.0</td>\n",
       "      <td>31930.0</td>\n",
       "      <td>178970.0</td>\n",
       "      <td>134840.0</td>\n",
       "      <td>1.993243e+09</td>\n",
       "      <td>75040.0</td>\n",
       "      <td>129560.0</td>\n",
       "      <td>91620.0</td>\n",
       "      <td>POLYGON Z ((-58.34189 -34.63110 0.00000, -58.3...</td>\n",
       "      <td>303.401389</td>\n",
       "    </tr>\n",
       "  </tbody>\n",
       "</table>\n",
       "<p>1 rows × 26 columns</p>\n",
       "</div>"
      ],
      "text/plain": [
       "      base  PROV  Total_mean  Total_sum  Pobreza_mean  Pobreza_sum  \\\n",
       "0  Hogares     2         1.0  1158750.0         0.125     144850.0   \n",
       "\n",
       "   Indigencia_mean  Indigencia_sum  P47T_hogar_mean  P47T_hogar_q10  ...  \\\n",
       "0           0.0336         38900.0         215570.0         48900.0  ...   \n",
       "\n",
       "       CBA_sum  CBA_median  gap_indigencia_mean  gap_indigencia_median  \\\n",
       "0  848184400.0     31930.0             178970.0               134840.0   \n",
       "\n",
       "        CBT_sum  CBT_median  gap_pobreza_mean  gap_pobreza_median  \\\n",
       "0  1.993243e+09     75040.0          129560.0             91620.0   \n",
       "\n",
       "                                            geometry    area_km2  \n",
       "0  POLYGON Z ((-58.34189 -34.63110 0.00000, -58.3...  303.401389  \n",
       "\n",
       "[1 rows x 26 columns]"
      ]
     },
     "execution_count": 66,
     "metadata": {},
     "output_type": "execute_result"
    }
   ],
   "source": [
    "gdf.head(1)"
   ]
  },
  {
   "cell_type": "code",
   "execution_count": 71,
   "metadata": {},
   "outputs": [
    {
     "name": "stderr",
     "output_type": "stream",
     "text": [
      "<ipython-input-71-d3f8d9dcdb61>:3: FutureWarning: In a future version of pandas all arguments of DataFrame.drop except for the argument 'labels' will be keyword-only.\n",
      "  df = df.set_index(list(df.drop('valor', 1).columns)).unstack([0, 1])['valor']\n",
      "/home/miglesia/anaconda3/lib/python3.8/site-packages/geopandas/io/file.py:234: FutureWarning: pandas.Int64Index is deprecated and will be removed from pandas in a future version. Use pandas.Index with the appropriate dtype instead.\n",
      "  pd.Int64Index,\n"
     ]
    }
   ],
   "source": [
    "## DPTOS\n",
    "df = sintetizar_H(data, ['DPTO'], frac = 0.02).drop('timestamp', axis = 1)#.groupby(['observable','sintetico','base']).size()\n",
    "df = df.set_index(list(df.drop('valor', 1).columns)).unstack([0, 1])['valor']\n",
    "df.columns = ['_'.join(col) for col in df.columns.values]\n",
    "df = df.reset_index()\n",
    "\n",
    "gdf = gpd.GeoDataFrame(df.merge(admin210), crs = admin210.crs)\n",
    "\n",
    "save_geojson(gdf, filename = 'pobreza_H_DPTO.geojson')"
   ]
  },
  {
   "cell_type": "code",
   "execution_count": 72,
   "metadata": {},
   "outputs": [
    {
     "data": {
      "text/html": [
       "<div>\n",
       "<style scoped>\n",
       "    .dataframe tbody tr th:only-of-type {\n",
       "        vertical-align: middle;\n",
       "    }\n",
       "\n",
       "    .dataframe tbody tr th {\n",
       "        vertical-align: top;\n",
       "    }\n",
       "\n",
       "    .dataframe thead th {\n",
       "        text-align: right;\n",
       "    }\n",
       "</style>\n",
       "<table border=\"1\" class=\"dataframe\">\n",
       "  <thead>\n",
       "    <tr style=\"text-align: right;\">\n",
       "      <th></th>\n",
       "      <th>base</th>\n",
       "      <th>DPTO</th>\n",
       "      <th>Total_mean</th>\n",
       "      <th>Total_sum</th>\n",
       "      <th>Pobreza_mean</th>\n",
       "      <th>Pobreza_sum</th>\n",
       "      <th>Indigencia_mean</th>\n",
       "      <th>Indigencia_sum</th>\n",
       "      <th>P47T_hogar_mean</th>\n",
       "      <th>P47T_hogar_q10</th>\n",
       "      <th>...</th>\n",
       "      <th>CBA_sum</th>\n",
       "      <th>CBA_median</th>\n",
       "      <th>gap_indigencia_mean</th>\n",
       "      <th>gap_indigencia_median</th>\n",
       "      <th>CBT_sum</th>\n",
       "      <th>CBT_median</th>\n",
       "      <th>gap_pobreza_mean</th>\n",
       "      <th>gap_pobreza_median</th>\n",
       "      <th>geometry</th>\n",
       "      <th>area_km2</th>\n",
       "    </tr>\n",
       "  </thead>\n",
       "  <tbody>\n",
       "    <tr>\n",
       "      <th>0</th>\n",
       "      <td>Hogares</td>\n",
       "      <td>2001</td>\n",
       "      <td>1.0</td>\n",
       "      <td>88850.0</td>\n",
       "      <td>0.179</td>\n",
       "      <td>15900.0</td>\n",
       "      <td>0.054</td>\n",
       "      <td>4800.0</td>\n",
       "      <td>196090.0</td>\n",
       "      <td>40750.0</td>\n",
       "      <td>...</td>\n",
       "      <td>62609580.0</td>\n",
       "      <td>30660.0</td>\n",
       "      <td>160850.0</td>\n",
       "      <td>114300.0</td>\n",
       "      <td>147133240.0</td>\n",
       "      <td>72050.0</td>\n",
       "      <td>113290.0</td>\n",
       "      <td>73310.0</td>\n",
       "      <td>POLYGON ((-58.36796 -34.62520, -58.36796 -34.6...</td>\n",
       "      <td>26.223521</td>\n",
       "    </tr>\n",
       "  </tbody>\n",
       "</table>\n",
       "<p>1 rows × 26 columns</p>\n",
       "</div>"
      ],
      "text/plain": [
       "      base  DPTO  Total_mean  Total_sum  Pobreza_mean  Pobreza_sum  \\\n",
       "0  Hogares  2001         1.0    88850.0         0.179      15900.0   \n",
       "\n",
       "   Indigencia_mean  Indigencia_sum  P47T_hogar_mean  P47T_hogar_q10  ...  \\\n",
       "0            0.054          4800.0         196090.0         40750.0  ...   \n",
       "\n",
       "      CBA_sum  CBA_median  gap_indigencia_mean  gap_indigencia_median  \\\n",
       "0  62609580.0     30660.0             160850.0               114300.0   \n",
       "\n",
       "       CBT_sum  CBT_median  gap_pobreza_mean  gap_pobreza_median  \\\n",
       "0  147133240.0     72050.0          113290.0             73310.0   \n",
       "\n",
       "                                            geometry   area_km2  \n",
       "0  POLYGON ((-58.36796 -34.62520, -58.36796 -34.6...  26.223521  \n",
       "\n",
       "[1 rows x 26 columns]"
      ]
     },
     "execution_count": 72,
     "metadata": {},
     "output_type": "execute_result"
    }
   ],
   "source": [
    "gdf.head(1)"
   ]
  },
  {
   "cell_type": "code",
   "execution_count": 73,
   "metadata": {},
   "outputs": [
    {
     "name": "stderr",
     "output_type": "stream",
     "text": [
      "<ipython-input-73-43cd6bb7b30b>:5: FutureWarning: In a future version of pandas all arguments of DataFrame.drop except for the argument 'labels' will be keyword-only.\n",
      "  df = df.set_index(list(df.drop('valor', 1).columns)).unstack([0, 1])['valor']\n",
      "/home/miglesia/anaconda3/lib/python3.8/site-packages/geopandas/io/file.py:234: FutureWarning: pandas.Int64Index is deprecated and will be removed from pandas in a future version. Use pandas.Index with the appropriate dtype instead.\n",
      "  pd.Int64Index,\n"
     ]
    }
   ],
   "source": [
    "## FRACS\n",
    "data['IDFRAC'] = data['COD_2010'].str[:-2] + '00'\n",
    "df = sintetizar_H(data, ['IDFRAC'], frac = 0.02).drop('timestamp', axis = 1)#.groupby(['observable','sintetico','base']).size()\n",
    "\n",
    "df = df.set_index(list(df.drop('valor', 1).columns)).unstack([0, 1])['valor']\n",
    "df.columns = ['_'.join(col) for col in df.columns.values]\n",
    "df = df.reset_index()\n",
    "\n",
    "gdf = gpd.GeoDataFrame(df.merge(admin310), crs = admin310.crs)\n",
    "\n",
    "save_geojson(gdf, filename = 'pobreza_H_FRAC.geojson')"
   ]
  },
  {
   "cell_type": "code",
   "execution_count": null,
   "metadata": {},
   "outputs": [],
   "source": []
  },
  {
   "cell_type": "code",
   "execution_count": null,
   "metadata": {},
   "outputs": [],
   "source": [
    "## Repetir para Hogares, para M24, M14, etc.\n",
    "\n",
    "## Atenti, mandarlo a disco duro, no a drive"
   ]
  },
  {
   "cell_type": "code",
   "execution_count": null,
   "metadata": {},
   "outputs": [],
   "source": [
    "cd /media/miglesia/Elements/suite/indice-pobreza-ExactasUBA/data\n",
    "export MAPBOX_ACCESS_TOKEN=sk.eyJ1IjoibWF0dXRlaWdsZXNpYXMyIiwiYSI6ImNrb3lvMWZyajAxZncycG8ycnJkaTI1ZjYifQ.LXJGImmBgQtWWrNOC1wTcA"
   ]
  },
  {
   "cell_type": "code",
   "execution_count": null,
   "metadata": {},
   "outputs": [],
   "source": [
    "tilesets delete-source -f matuteiglesias2 income_provs_H\n",
    "tilesets delete-source -f matuteiglesias2 income_dptos_H\n",
    "tilesets delete-source -f matuteiglesias2 income_fracs_H\n",
    "\n",
    "tilesets delete -f matuteiglesias2.income_H\n",
    "\n",
    "## HOGARES. \n",
    "# (REPEAT FOR PERSONAS, M24, ETC.)\n",
    "tilesets upload-source matuteiglesias2 income_provs_H ./geojson/pobreza_H_PROV.geojson\n",
    "tilesets upload-source matuteiglesias2 income_dptos_H ./geojson/pobreza_H_DPTO.geojson\n",
    "tilesets upload-source matuteiglesias2 income_fracs_H ./geojson/pobreza_H_FRAC.geojson\n",
    "\n",
    "# # tilesets create username.hello-world-tiles --recipe hello-world-recipe.json --name \"hello world\"\n",
    "tilesets create matuteiglesias2.income_H202209 --recipe ./geojson/pobreza_H-recipe.json --name \"Ingresos y Pobreza - Hogares\"\n",
    "tilesets publish matuteiglesias2.income_H202209\n"
   ]
  },
  {
   "cell_type": "code",
   "execution_count": null,
   "metadata": {},
   "outputs": [],
   "source": [
    "tilesets delete-source -f matuteiglesias2 income_provs_P\n",
    "tilesets delete-source -f matuteiglesias2 income_dptos_P\n",
    "tilesets delete-source -f matuteiglesias2 income_fracs_P\n",
    "\n",
    "tilesets delete -f matuteiglesias2.income_P\n",
    "\n",
    "## REPEAT FOR PERSONAS\n",
    "tilesets upload-source matuteiglesias2 income_provs_P ./geojson/pobreza_P_PROV.geojson\n",
    "tilesets upload-source matuteiglesias2 income_dptos_P ./geojson/pobreza_P_DPTO.geojson\n",
    "tilesets upload-source matuteiglesias2 income_fracs_P ./geojson/pobreza_P_FRAC.geojson\n",
    "\n",
    "tilesets create matuteiglesias2.income_P202209 --recipe ./geojson/pobreza_P-recipe.json --name \"Ingresos y Pobreza - Personas\"\n",
    "tilesets publish matuteiglesias2.income_P202209\n"
   ]
  },
  {
   "cell_type": "code",
   "execution_count": null,
   "metadata": {},
   "outputs": [],
   "source": [
    "tilesets delete-source -f matuteiglesias2 income_provs_M24\n",
    "tilesets delete-source -f matuteiglesias2 income_dptos_M24\n",
    "tilesets delete-source -f matuteiglesias2 income_fracs_M24\n",
    "\n",
    "tilesets delete -f matuteiglesias2.income_M24\n",
    "\n",
    "## REPEAT FOR Mayores de 24\n",
    "\n",
    "tilesets upload-source matuteiglesias2 income_provs_M24 ./geojson/pobreza_M24_PROV.geojson\n",
    "tilesets upload-source matuteiglesias2 income_dptos_M24 ./geojson/pobreza_M24_DPTO.geojson\n",
    "tilesets upload-source matuteiglesias2 income_fracs_M24 ./geojson/pobreza_M24_FRAC.geojson\n",
    "\n",
    "tilesets create matuteiglesias2.income_M24202209 --recipe ./geojson/pobreza_M24-recipe.json --name \"Ingresos y Pobreza - Mayores de 24\"\n",
    "tilesets publish matuteiglesias2.income_M24202209\n"
   ]
  },
  {
   "cell_type": "code",
   "execution_count": null,
   "metadata": {},
   "outputs": [],
   "source": [
    "tilesets delete-source -f matuteiglesias2 income_provs_M14\n",
    "tilesets delete-source -f matuteiglesias2 income_dptos_M14\n",
    "tilesets delete-source -f matuteiglesias2 income_fracs_M14\n",
    "\n",
    "tilesets delete -f matuteiglesias2.income_M14\n",
    "\n",
    "## REPEAT FOR Menores de 14\n",
    "tilesets upload-source matuteiglesias2 income_provs_M14 ./geojson/pobreza_M14_PROV.geojson\n",
    "tilesets upload-source matuteiglesias2 income_dptos_M14 ./geojson/pobreza_M14_DPTO.geojson\n",
    "tilesets upload-source matuteiglesias2 income_fracs_M14 ./geojson/pobreza_M14_FRAC.geojson\n",
    "\n",
    "tilesets create matuteiglesias2.income_M14202209 --recipe ./geojson/pobreza_M14-recipe.json --name \"Ingresos y Pobreza - Menores de 14\"\n",
    "tilesets publish matuteiglesias2.income_M14202209\n"
   ]
  },
  {
   "cell_type": "code",
   "execution_count": null,
   "metadata": {},
   "outputs": [],
   "source": [
    "tilesets delete-source -f matuteiglesias2 income_provs_M6\n",
    "tilesets delete-source -f matuteiglesias2 income_dptos_M6\n",
    "tilesets delete-source -f matuteiglesias2 income_fracs_M6\n",
    "\n",
    "tilesets delete -f matuteiglesias2.income_M6\n",
    "\n",
    "## REPEAT FOR Menores de 6\n",
    "tilesets upload-source matuteiglesias2 income_provs_M6 ./geojson/pobreza_M6_PROV.geojson\n",
    "tilesets upload-source matuteiglesias2 income_dptos_M6 ./geojson/pobreza_M6_DPTO.geojson\n",
    "tilesets upload-source matuteiglesias2 income_fracs_M6 ./geojson/pobreza_M6_FRAC.geojson\n",
    "\n",
    "tilesets create matuteiglesias2.income_M6202209 --recipe ./geojson/pobreza_M6-recipe.json --name \"Ingresos y Pobreza - Menores de 6\"\n",
    "tilesets publish matuteiglesias2.income_M6202209\n"
   ]
  },
  {
   "cell_type": "code",
   "execution_count": null,
   "metadata": {},
   "outputs": [],
   "source": [
    "\n",
    "# # tilesets upload-source username populated-places-source /path/to/data/populated_places.geojson.ld\n",
    "\n",
    "# tilesets upload-source matuteiglesias2 income_provs ./geojson/pobreza_P_PROV.geojson\n",
    "# tilesets upload-source matuteiglesias2 income_dptos ./geojson/pobreza_P_DPTO.geojson\n",
    "# tilesets upload-source matuteiglesias2 income_fracs ./geojson/pobreza_P_FRAC.geojson\n",
    "\n",
    "\n",
    "# tilesets delete-source matuteiglesias2 s\n"
   ]
  },
  {
   "cell_type": "code",
   "execution_count": null,
   "metadata": {},
   "outputs": [],
   "source": [
    "# gdf = gpd.read_file('./../data/geojson/pobreza_H_PROV.geojson')\n",
    "# gdf"
   ]
  },
  {
   "cell_type": "code",
   "execution_count": null,
   "metadata": {},
   "outputs": [],
   "source": [
    "# export MAPBOX_ACCESS_TOKEN=sk.eyJ1IjoibWF0dXRlaWdsZXNpYXMyIiwiYSI6ImNrb3lvMWZyajAxZncycG8ycnJkaTI1ZjYifQ.LXJGImmBgQtWWrNOC1wTcA\n",
    "\n",
    "# # tilesets upload-source username populated-places-source /path/to/data/populated_places.geojson.ld\n",
    "# cd /media/miglesia/Elements/suite/indice-pobreza-ExactasUBA/data\n",
    "\n",
    "# tilesets upload-source matuteiglesias2 pobreza_v2 ./geojson/pobreza_P_PROV.geojson\n",
    "# tilesets upload-source matuteiglesias2 pobreza_v2 ./geojson/pobreza_P_DPTO.geojson\n",
    "\n",
    "# # tilesets create username.hello-world-tiles --recipe hello-world-recipe.json --name \"hello world\"\n",
    "# tilesets create matuteiglesias2.personas2 --recipe ./geojson/pobreza-recipe.json --name \"Ingresos y Pobreza - Personas2\"\n",
    "# tilesets publish matuteiglesias2.personas2\n"
   ]
  },
  {
   "cell_type": "code",
   "execution_count": null,
   "metadata": {},
   "outputs": [],
   "source": [
    ">>> import seaborn as sns\n",
    ">>> pal = sns.color_palette(\"RdYlGn_r\", 10)\n",
    ">>> print(pal.as_hex())\n"
   ]
  },
  {
   "cell_type": "code",
   "execution_count": null,
   "metadata": {},
   "outputs": [],
   "source": [
    ">>> import seaborn as sns\n",
    ">>> pal = sns.color_palette(\"cool\", 10)\n",
    ">>> print(pal.as_hex())"
   ]
  },
  {
   "cell_type": "code",
   "execution_count": null,
   "metadata": {},
   "outputs": [],
   "source": []
  }
 ],
 "metadata": {
  "kernelspec": {
   "display_name": "Python 3",
   "language": "python",
   "name": "python3"
  },
  "language_info": {
   "codemirror_mode": {
    "name": "ipython",
    "version": 3
   },
   "file_extension": ".py",
   "mimetype": "text/x-python",
   "name": "python",
   "nbconvert_exporter": "python",
   "pygments_lexer": "ipython3",
   "version": "3.8.5"
  }
 },
 "nbformat": 4,
 "nbformat_minor": 4
}
