{
 "cells": [
  {
   "cell_type": "code",
   "execution_count": 1,
   "metadata": {},
   "outputs": [
    {
     "data": {
      "text/html": [
       "<style>.container { width:100% !important; }</style>"
      ],
      "text/plain": [
       "<IPython.core.display.HTML object>"
      ]
     },
     "metadata": {},
     "output_type": "display_data"
    }
   ],
   "source": [
    "import geopandas as gpd\n",
    "import pandas as pd\n",
    "\n",
    "from IPython.core.display import display, HTML\n",
    "display(HTML(\"<style>.container { width:100% !important; }</style>\"))"
   ]
  },
  {
   "cell_type": "code",
   "execution_count": 2,
   "metadata": {},
   "outputs": [],
   "source": [
    "\n",
    "## En esta notebook, se trae la informacion de Pobreza del ultimo anio. "
   ]
  },
  {
   "cell_type": "code",
   "execution_count": 3,
   "metadata": {},
   "outputs": [],
   "source": [
    "frac = 0.02\n",
    "# data = pd.read_csv('./../data/Pobreza/pobreza_'+str(frac)+'_2020.csv')\n",
    "data = pd.read_csv('./../data/Pobreza/pobreza_'+str(frac)+'_2019-2020.csv')\n",
    "# data['Grupo Etario'] = pd.cut(data.P03, np.arange(-1, 80, 3))#.round(-1) ## Customizar grupo etario\n",
    "\n",
    "\n",
    "radio_ref = pd.read_csv('./../data/info/radio_ref.csv')\n",
    "# radio_ref['DPTO'] = radio_ref['DPTO'].astype(int)\n",
    "radio_ref['COD_2010'] = radio_ref['radio'].astype(str).str.zfill(9)\n",
    "# radio_ref[['PROV','NOMPROV','DPTO', 'NOMDPTO']].drop_duplicates().to_csv('./data/DPTO_PROV.csv', index = False)\n",
    "dpto_region = pd.read_csv('./../data/info/DPTO_PROV_Region.csv')\n",
    "radio_ref = radio_ref.merge(dpto_region)\n",
    "aglo_labels = pd.read_csv('./../data/info/aglo_labels.csv')[['AGLOMERADO', 'NOMAGLO']]\n",
    "radio_ref = radio_ref[['RADIO_REF_ID', 'COD_2010', 'NOMDPTO', 'AGLOMERADO', 'Region']].drop_duplicates().merge(aglo_labels)\n",
    "\n",
    "\n",
    "data = data.merge(radio_ref, on = ['RADIO_REF_ID', 'AGLOMERADO'])\n",
    "data['AGLO_si'] = data.AGLOMERADO != 0"
   ]
  },
  {
   "cell_type": "markdown",
   "metadata": {},
   "source": [
    "## Reescalar para dar precios actualizados."
   ]
  },
  {
   "cell_type": "code",
   "execution_count": 4,
   "metadata": {},
   "outputs": [],
   "source": [
    "cpi = pd.read_csv('./../data/info/indice_precios_d.csv', index_col=0)\n",
    "\n",
    "from datetime import datetime\n",
    "hoy = datetime.today().strftime('%Y-%m-%d')\n",
    "# hoy = '2021-06-01'\n",
    "\n",
    "# Ratio de precios de hoy con respecto a precios con indice en base modelo\n",
    "ix = cpi.loc[hoy].values[0]/cpi.loc['2016-01-01'].values[0]\n",
    "# ix = cpi.loc['2020-09-30'].values[0]/cpi.loc['2016-01-01'].values[0] # Precios del periodo en estudio\n",
    "ix\n",
    "\n",
    "columnas_pesos =  ['P47T_persona', 'P47T_hogar', 'CBA', 'gap_indigencia', 'CBT', 'gap_pobreza']\n",
    "data[columnas_pesos] = ix*data[columnas_pesos]"
   ]
  },
  {
   "cell_type": "code",
   "execution_count": 5,
   "metadata": {},
   "outputs": [
    {
     "data": {
      "text/plain": [
       "'2021-08-02'"
      ]
     },
     "execution_count": 5,
     "metadata": {},
     "output_type": "execute_result"
    }
   ],
   "source": [
    "hoy"
   ]
  },
  {
   "cell_type": "markdown",
   "metadata": {},
   "source": [
    "### Synthetizer functions"
   ]
  },
  {
   "cell_type": "code",
   "execution_count": 6,
   "metadata": {},
   "outputs": [],
   "source": [
    "### Sintetizadores\n",
    "import datetime as dt\n",
    "import numpy as np\n",
    "\n",
    "## Base Personas\n",
    "def sintetizar_P(data, grouper, frac = 0.02):\n",
    "    df = data.copy()\n",
    "    df['Total'] = True\n",
    "    df['timestamp'] = dt.datetime.today()\n",
    "    n_Qs = df.Q.nunique()\n",
    "    \n",
    "#     # Funciones percentil\n",
    "#     percentiles = [.10, .25, .75, .9, .2]\n",
    "#     quantile_funcs = [(p, lambda x: x.quantile(p)) for p in percentiles]\n",
    "\n",
    "    df = df.groupby(grouper + ['timestamp'])[['Total', 'Pobreza', 'Indigencia', 'Pobreza_5usd','P47T_persona']].agg(\n",
    "        {'Total': ['mean', 'sum'], 'Pobreza': ['mean', 'sum'], 'Indigencia': ['mean', 'sum'], 'Pobreza_5usd': ['mean', 'sum'], \n",
    "         'P47T_persona':['mean', q10, q25, 'median', q75, q90]})\n",
    "    \n",
    "    df[[('Total', 'sum')]] = (df[[('Total', 'sum')]]/frac).round(1)#.astype(int)\n",
    "    df[[('Pobreza', 'sum')]] = (df[[('Pobreza', 'sum')]]/frac).round(1)#.astype(int)\n",
    "    df[[('Indigencia', 'sum')]] = (df[[('Indigencia', 'sum')]]/frac).round(1)#.astype(int)\n",
    "    df[[('Pobreza_5usd', 'sum')]] = (df[[('Pobreza_5usd', 'sum')]]/frac).round(1)#.astype(int)\n",
    "    df[[('Total', 'mean')]] = df[[('Total', 'mean')]].round(4)\n",
    "    df[[('Indigencia', 'mean')]] = df[[('Indigencia', 'mean')]].round(4)\n",
    "    df[[('Pobreza', 'mean')]] = df[[('Pobreza', 'mean')]].round(4)\n",
    "    df[[('Pobreza_5usd', 'mean')]] = df[[('Pobreza_5usd', 'mean')]].round(4)\n",
    "    \n",
    "    df['P47T_persona'] = df['P47T_persona'].round(-1).astype(int)\n",
    "    \n",
    "    dfB = df.T.set_index(np.repeat('Personas', df.shape[1]), append=True)\n",
    "       \n",
    "#     dfB = dfB.stack().stack().stack().reset_index()\n",
    "    stacker_ix = [-i for i in range(len(grouper) + 1)]\n",
    "    dfB = dfB.stack(level = stacker_ix).reset_index()\n",
    "    \n",
    "    dfB = dfB.rename(columns = {'level_0': 'observable', 'level_1': 'sintetico', 'level_2': 'base', 0: 'valor'})\n",
    "    dfB['valor'] = dfB['valor'].astype(float)\n",
    "    return dfB\n",
    "\n",
    "def sintetizar_H(data, grouper, frac = 0.02):\n",
    "    df = data.copy()\n",
    "    df = df.groupby('HOGAR_REF_ID').first()\n",
    "    df['Total'] = True\n",
    "    df['timestamp'] = dt.datetime.today()\n",
    "    n_Qs = df.Q.nunique()\n",
    "\n",
    "#     # Funciones percentil\n",
    "#     percentiles = [.10, .25, .75, .9, .2]\n",
    "#     quantile_funcs = [(p, lambda x: x.quantile(p)) for p in percentiles]\n",
    "\n",
    "    df = df.groupby(grouper + ['timestamp'])[['Total', 'Pobreza', 'Indigencia', 'Pobreza_5usd', 'P47T_hogar', 'CB_EQUIV', 'CBA', \n",
    "                                              'gap_indigencia', 'CBT', 'gap_pobreza']\n",
    "                            ].agg(\n",
    "    {'Total': ['mean', 'sum'], 'Pobreza': ['mean', 'sum'], 'Indigencia': ['mean', 'sum'], 'Pobreza_5usd': ['mean', 'sum'], \n",
    "     'P47T_hogar': ['mean', q10, q25, 'median', q75, q90],\n",
    "     'CB_EQUIV': ['mean', 'median'],     \n",
    "     'CBA': ['sum', 'median'], 'gap_indigencia': ['mean', 'median'], \n",
    "     'CBT': ['sum', 'median'], 'gap_pobreza': ['mean', 'median']})\n",
    "        \n",
    "    df[[('Total', 'sum')]] = (df[[('Total', 'sum')]]/frac/n_Qs).round(1)#.astype(int)\n",
    "    df[[('Pobreza', 'sum')]] = (df[[('Pobreza', 'sum')]]/frac/n_Qs).round(1)#.astype(int)\n",
    "    df[[('Indigencia', 'sum')]] = (df[[('Indigencia', 'sum')]]/frac/n_Qs).round(1)#.astype(int)\n",
    "    df[[('Pobreza_5usd', 'sum')]] = (df[[('Pobreza_5usd', 'sum')]]/frac).round(1)#.astype(int)\n",
    "    df[[('Total', 'mean')]] = df[[('Total', 'mean')]].round(4)\n",
    "    df[[('Pobreza', 'mean')]] = df[[('Pobreza', 'mean')]].round(4)\n",
    "    df[[('Indigencia', 'mean')]] = df[[('Indigencia', 'mean')]].round(4)\n",
    "    df[[('Pobreza_5usd', 'mean')]] = (df[[('Pobreza_5usd', 'mean')]]/frac).round(1)#.astype(int)\n",
    "\n",
    "    df['CB_EQUIV'] = df['CB_EQUIV'].round(4)\n",
    "    \n",
    "    df['P47T_hogar'] = df['P47T_hogar'].round(-1).astype(int)\n",
    "    df['CBA'] = df['CBA'].round(-1).astype(int)\n",
    "    df['gap_indigencia'] = df['gap_indigencia'].round(-1).astype(int)\n",
    "    df['CBT'] = df['CBT'].round(-1).astype(int)\n",
    "    df['gap_pobreza'] = df['gap_pobreza'].round(-1).astype(int)\n",
    "    \n",
    "    dfC = df.T.set_index(np.repeat('Hogares', df.shape[1]), append=True)\n",
    "    dfC.index.names = ['observable', 'sintetico', 'base']\n",
    "    \n",
    "#     FrozenList(['observable', 'sintetico', 'base', 'timestamp', 'AGLOMERADO', 'Region', 'Q'])\n",
    "    \n",
    "# #     dfC = dfC.stack().stack().stack().reset_index()\n",
    "    stacker_ix = [-i for i in range(len(grouper) + 1)]\n",
    "    dfC = dfC.stack(level = stacker_ix).reset_index()\n",
    "#     # es como df.stack([-1, -2, -3, -4]) pero se adapta a groupers mas o menos largos\n",
    "#     dfC = dfC.stack(stacker_ix).reset_index()\n",
    "\n",
    "    dfC = dfC.rename(columns = {'level_0': 'observable', 'level_1': 'sintetico', 'level_2': 'base', 0: 'valor'})\n",
    "    dfC['valor'] = dfC['valor'].astype(float)\n",
    "    return dfC\n",
    "\n",
    "# Percentile funcs\n",
    "def q10(x):\n",
    "    return x.quantile(0.1)\n",
    "\n",
    "def q25(x):\n",
    "    return x.quantile(0.25)\n",
    "\n",
    "def q75(x):\n",
    "    return x.quantile(0.75)\n",
    "\n",
    "def q90(x):\n",
    "    return x.quantile(0.9)"
   ]
  },
  {
   "cell_type": "code",
   "execution_count": 7,
   "metadata": {},
   "outputs": [
    {
     "data": {
      "text/plain": [
       "observable    sintetico  base    \n",
       "Indigencia    mean       Personas    24\n",
       "              sum        Personas    24\n",
       "P47T_persona  mean       Personas    24\n",
       "              median     Personas    24\n",
       "              q10        Personas    24\n",
       "              q25        Personas    24\n",
       "              q75        Personas    24\n",
       "              q90        Personas    24\n",
       "Pobreza       mean       Personas    24\n",
       "              sum        Personas    24\n",
       "Pobreza_5usd  mean       Personas    24\n",
       "              sum        Personas    24\n",
       "Total         mean       Personas    24\n",
       "              sum        Personas    24\n",
       "dtype: int64"
      ]
     },
     "execution_count": 7,
     "metadata": {},
     "output_type": "execute_result"
    }
   ],
   "source": [
    "sintetizar_P(data, ['PROV'], frac = 0.02).groupby(['observable','sintetico','base']).size()"
   ]
  },
  {
   "cell_type": "code",
   "execution_count": 8,
   "metadata": {},
   "outputs": [],
   "source": [
    "# sintetizar_H(data, ['PROV'], frac = 0.02).groupby(['observable','sintetico','base']).size()"
   ]
  },
  {
   "cell_type": "code",
   "execution_count": 9,
   "metadata": {},
   "outputs": [],
   "source": [
    "# # Ej. Personas en pobreza\n",
    "# # df = sintetizar_P(data, ['PROV'], frac = 0.02)\n",
    "# # df.loc[df.sintetico == 'sum'].groupby('observable')['valor'].sum() \n",
    "\n",
    "# Indigencia     6500687.5\n",
    "# Pobreza       21147900.0\n",
    "# Total         44603650.0"
   ]
  },
  {
   "cell_type": "markdown",
   "metadata": {},
   "source": [
    "## Los niveles geograficos disponibles son:\n",
    " - Radios (RADIO_REF_ID)\n",
    " - Fracciones (IDFRAC, no es clave unica)\n",
    " - Dptos (DPTO)\n",
    " - Provs (PROV)\n",
    " - Aglos (AGLOMERADO)\n",
    " - (Region)"
   ]
  },
  {
   "cell_type": "markdown",
   "metadata": {},
   "source": [
    "### Cargar geometrias"
   ]
  },
  {
   "cell_type": "code",
   "execution_count": 10,
   "metadata": {},
   "outputs": [],
   "source": [
    "## RADIO REF. Referencia de radios censales segun Censo 2010\n",
    "\n",
    "# radio_ref = pd.read_csv('./radio_ref.csv')\n",
    "# radio_ref['DPTO'] = radio_ref['DPTO'].astype(int)\n",
    "# radio_ref['COD_2010'] = radio_ref['radio'].astype(str).str.zfill(9)\n",
    "\n",
    "## POLIGONOS\n",
    "# admin410_f = './../../IGN_INDEC_georef/censos_shp_CONICET/2010_RADIOS ARGENTINA'\n",
    "admin310_f = './../../IGN_INDEC_georef/censos_shp_CONICET_dissolved/fracs_2010.shp'\n",
    "admin210_f = './../../IGN_INDEC_georef/censos_shp_CONICET_dissolved/dptos_2010.shp'\n",
    "admin1_f = './../../IGN_INDEC_georef/IGN_shp/Provincia/'\n",
    "\n",
    "## Provincias del IGN\n",
    "admin1 = gpd.read_file(admin1_f)  # COD_2010 = '020130302'\n",
    "# admin1['ID'] = admin1.IN1 + '0000000'\n",
    "admin1[['PROV']] = admin1.IN1.astype(int)\n",
    "admin1 = admin1[['PROV', 'geometry']]\n",
    "\n",
    "### Poligonos de censo de CONICET.\n",
    "# admin410 = gpd.read_file(admin410_f)  # COD_2010 = '020130302'\n",
    "# admin410['ID'] = admin410['COD_2010']\n",
    "\n",
    "admin310 = gpd.read_file(admin310_f)  \n",
    "admin310['IDFRAC'] = admin310.PROV_ + admin310.DEPTO_ + admin310.FRACC_ + '00'\n",
    "admin310 = admin310[['IDFRAC', 'geometry']]\n",
    "\n",
    "admin210 = gpd.read_file(admin210_f) \n",
    "# admin210['ID'] = admin210.PROV_ + admin210.DEPTO_ + '0000'\n",
    "admin210['DPTO'] = (admin210['PROV_'] + admin210['DEPTO_']).astype(int)\n",
    "admin210 = admin210[['DPTO', 'geometry']]\n",
    "\n",
    "\n",
    "## ADOPTAR CRS del IGN\n",
    "admin210 = admin210.to_crs(admin1.crs)\n",
    "admin310 = admin310.to_crs(admin1.crs)"
   ]
  },
  {
   "cell_type": "code",
   "execution_count": 11,
   "metadata": {},
   "outputs": [],
   "source": [
    "admin1['area_km2'] = admin1['geometry'].to_crs('epsg:3395').map(lambda p: p.area / 10**6)\n",
    "admin210['area_km2'] = admin210['geometry'].to_crs('epsg:3395').map(lambda p: p.area / 10**6)\n",
    "admin310['area_km2'] = admin310['geometry'].to_crs('epsg:3395').map(lambda p: p.area / 10**6)"
   ]
  },
  {
   "cell_type": "code",
   "execution_count": 12,
   "metadata": {},
   "outputs": [
    {
     "data": {
      "text/html": [
       "<div>\n",
       "<style scoped>\n",
       "    .dataframe tbody tr th:only-of-type {\n",
       "        vertical-align: middle;\n",
       "    }\n",
       "\n",
       "    .dataframe tbody tr th {\n",
       "        vertical-align: top;\n",
       "    }\n",
       "\n",
       "    .dataframe thead th {\n",
       "        text-align: right;\n",
       "    }\n",
       "</style>\n",
       "<table border=\"1\" class=\"dataframe\">\n",
       "  <thead>\n",
       "    <tr style=\"text-align: right;\">\n",
       "      <th></th>\n",
       "      <th>IDFRAC</th>\n",
       "      <th>geometry</th>\n",
       "      <th>area_km2</th>\n",
       "    </tr>\n",
       "  </thead>\n",
       "  <tbody>\n",
       "    <tr>\n",
       "      <th>0</th>\n",
       "      <td>020010100</td>\n",
       "      <td>POLYGON ((-58.37431 -34.57871, -58.37431 -34.5...</td>\n",
       "      <td>2.663001</td>\n",
       "    </tr>\n",
       "    <tr>\n",
       "      <th>1</th>\n",
       "      <td>020010200</td>\n",
       "      <td>POLYGON ((-58.37567 -34.58419, -58.37552 -34.5...</td>\n",
       "      <td>0.627842</td>\n",
       "    </tr>\n",
       "    <tr>\n",
       "      <th>2</th>\n",
       "      <td>020010300</td>\n",
       "      <td>POLYGON ((-58.38788 -34.58285, -58.38788 -34.5...</td>\n",
       "      <td>1.302769</td>\n",
       "    </tr>\n",
       "    <tr>\n",
       "      <th>3</th>\n",
       "      <td>020010400</td>\n",
       "      <td>POLYGON ((-58.38650 -34.59284, -58.38650 -34.5...</td>\n",
       "      <td>0.299640</td>\n",
       "    </tr>\n",
       "    <tr>\n",
       "      <th>4</th>\n",
       "      <td>020010500</td>\n",
       "      <td>POLYGON ((-58.38161 -34.59284, -58.38161 -34.5...</td>\n",
       "      <td>0.294890</td>\n",
       "    </tr>\n",
       "  </tbody>\n",
       "</table>\n",
       "</div>"
      ],
      "text/plain": [
       "      IDFRAC                                           geometry  area_km2\n",
       "0  020010100  POLYGON ((-58.37431 -34.57871, -58.37431 -34.5...  2.663001\n",
       "1  020010200  POLYGON ((-58.37567 -34.58419, -58.37552 -34.5...  0.627842\n",
       "2  020010300  POLYGON ((-58.38788 -34.58285, -58.38788 -34.5...  1.302769\n",
       "3  020010400  POLYGON ((-58.38650 -34.59284, -58.38650 -34.5...  0.299640\n",
       "4  020010500  POLYGON ((-58.38161 -34.59284, -58.38161 -34.5...  0.294890"
      ]
     },
     "execution_count": 12,
     "metadata": {},
     "output_type": "execute_result"
    }
   ],
   "source": [
    "admin310.head()"
   ]
  },
  {
   "cell_type": "markdown",
   "metadata": {},
   "source": [
    "### Funcion guardar geojson"
   ]
  },
  {
   "cell_type": "code",
   "execution_count": 13,
   "metadata": {},
   "outputs": [],
   "source": [
    "import os\n",
    "# pip install geopandas\n",
    "import geopandas as gpd\n",
    "\n",
    "\n",
    "def save_geojson(gdf, filename = 'test.geojson'):\n",
    "    if not os.path.exists('./../data/geojson/'):\n",
    "        os.makedirs('./../data/geojson/')\n",
    "    \n",
    "    try:    # Delete if geojson exists, cause overwriting is not supported\n",
    "        os.remove('./../data/geojson/'+filename)\n",
    "    except OSError:\n",
    "        pass\n",
    "    \n",
    "    gdf.to_file('./../data/geojson/'+filename, driver=\"GeoJSON\", encoding='utf-8')\n"
   ]
  },
  {
   "cell_type": "code",
   "execution_count": 14,
   "metadata": {},
   "outputs": [],
   "source": [
    "# # Las variables agrupadoras pueden ser: \n",
    "# groupers = [['Q','Total_pais'], ['Q','AGLOMERADO'], ['Q','Region'], \n",
    "#             ['Q','PROV'], ['Q','DPTO']]"
   ]
  },
  {
   "cell_type": "markdown",
   "metadata": {},
   "source": [
    "## Base: Personas"
   ]
  },
  {
   "cell_type": "code",
   "execution_count": 15,
   "metadata": {},
   "outputs": [],
   "source": [
    "## PROVINCIAS\n",
    "\n",
    "df = sintetizar_P(data, ['PROV'], frac = 0.02).drop('timestamp', axis = 1)#.groupby(['observable','sintetico','base']).size()\n",
    "df = df.set_index(list(df.drop('valor', 1).columns)).unstack([0, 1])['valor']\n",
    "df.columns = ['_'.join(col) for col in df.columns.values]\n",
    "df = df.reset_index()\n",
    "\n",
    "gdf = gpd.GeoDataFrame(df.merge(admin1), crs = admin1.crs)\n",
    "\n",
    "save_geojson(gdf, filename = 'pobreza_P_PROV.geojson')"
   ]
  },
  {
   "cell_type": "code",
   "execution_count": 16,
   "metadata": {},
   "outputs": [
    {
     "data": {
      "text/html": [
       "<div>\n",
       "<style scoped>\n",
       "    .dataframe tbody tr th:only-of-type {\n",
       "        vertical-align: middle;\n",
       "    }\n",
       "\n",
       "    .dataframe tbody tr th {\n",
       "        vertical-align: top;\n",
       "    }\n",
       "\n",
       "    .dataframe thead th {\n",
       "        text-align: right;\n",
       "    }\n",
       "</style>\n",
       "<table border=\"1\" class=\"dataframe\">\n",
       "  <thead>\n",
       "    <tr style=\"text-align: right;\">\n",
       "      <th></th>\n",
       "      <th>base</th>\n",
       "      <th>PROV</th>\n",
       "      <th>Total_mean</th>\n",
       "      <th>Total_sum</th>\n",
       "      <th>Pobreza_mean</th>\n",
       "      <th>Pobreza_sum</th>\n",
       "      <th>Indigencia_mean</th>\n",
       "      <th>Indigencia_sum</th>\n",
       "      <th>Pobreza_5usd_mean</th>\n",
       "      <th>Pobreza_5usd_sum</th>\n",
       "      <th>P47T_persona_mean</th>\n",
       "      <th>P47T_persona_q10</th>\n",
       "      <th>P47T_persona_q25</th>\n",
       "      <th>P47T_persona_median</th>\n",
       "      <th>P47T_persona_q75</th>\n",
       "      <th>P47T_persona_q90</th>\n",
       "      <th>geometry</th>\n",
       "      <th>area_km2</th>\n",
       "    </tr>\n",
       "  </thead>\n",
       "  <tbody>\n",
       "    <tr>\n",
       "      <th>0</th>\n",
       "      <td>Personas</td>\n",
       "      <td>2</td>\n",
       "      <td>1.0</td>\n",
       "      <td>23572600.0</td>\n",
       "      <td>0.1851</td>\n",
       "      <td>4362750.0</td>\n",
       "      <td>0.0474</td>\n",
       "      <td>1117150.0</td>\n",
       "      <td>0.0369</td>\n",
       "      <td>869300.0</td>\n",
       "      <td>54010.0</td>\n",
       "      <td>0.0</td>\n",
       "      <td>0.0</td>\n",
       "      <td>41050.0</td>\n",
       "      <td>78760.0</td>\n",
       "      <td>123570.0</td>\n",
       "      <td>POLYGON Z ((-58.34189 -34.63110 0.00000, -58.3...</td>\n",
       "      <td>303.401389</td>\n",
       "    </tr>\n",
       "  </tbody>\n",
       "</table>\n",
       "</div>"
      ],
      "text/plain": [
       "       base  PROV  Total_mean   Total_sum  Pobreza_mean  Pobreza_sum  \\\n",
       "0  Personas     2         1.0  23572600.0        0.1851    4362750.0   \n",
       "\n",
       "   Indigencia_mean  Indigencia_sum  Pobreza_5usd_mean  Pobreza_5usd_sum  \\\n",
       "0           0.0474       1117150.0             0.0369          869300.0   \n",
       "\n",
       "   P47T_persona_mean  P47T_persona_q10  P47T_persona_q25  P47T_persona_median  \\\n",
       "0            54010.0               0.0               0.0              41050.0   \n",
       "\n",
       "   P47T_persona_q75  P47T_persona_q90  \\\n",
       "0           78760.0          123570.0   \n",
       "\n",
       "                                            geometry    area_km2  \n",
       "0  POLYGON Z ((-58.34189 -34.63110 0.00000, -58.3...  303.401389  "
      ]
     },
     "execution_count": 16,
     "metadata": {},
     "output_type": "execute_result"
    }
   ],
   "source": [
    "gdf.head(1)"
   ]
  },
  {
   "cell_type": "code",
   "execution_count": 17,
   "metadata": {},
   "outputs": [],
   "source": [
    "## DPTOS\n",
    "df = sintetizar_P(data, ['DPTO'], frac = 0.02).drop('timestamp', axis = 1)#.groupby(['observable','sintetico','base']).size()\n",
    "df = df.set_index(list(df.drop('valor', 1).columns)).unstack([0, 1])['valor']\n",
    "df.columns = ['_'.join(col) for col in df.columns.values]\n",
    "df = df.reset_index()\n",
    "\n",
    "gdf = gpd.GeoDataFrame(df.merge(admin210), crs = admin210.crs)\n",
    "\n",
    "save_geojson(gdf, filename = 'pobreza_P_DPTO.geojson')"
   ]
  },
  {
   "cell_type": "code",
   "execution_count": 18,
   "metadata": {},
   "outputs": [
    {
     "data": {
      "text/html": [
       "<div>\n",
       "<style scoped>\n",
       "    .dataframe tbody tr th:only-of-type {\n",
       "        vertical-align: middle;\n",
       "    }\n",
       "\n",
       "    .dataframe tbody tr th {\n",
       "        vertical-align: top;\n",
       "    }\n",
       "\n",
       "    .dataframe thead th {\n",
       "        text-align: right;\n",
       "    }\n",
       "</style>\n",
       "<table border=\"1\" class=\"dataframe\">\n",
       "  <thead>\n",
       "    <tr style=\"text-align: right;\">\n",
       "      <th></th>\n",
       "      <th>base</th>\n",
       "      <th>DPTO</th>\n",
       "      <th>Total_mean</th>\n",
       "      <th>Total_sum</th>\n",
       "      <th>Pobreza_mean</th>\n",
       "      <th>Pobreza_sum</th>\n",
       "      <th>Indigencia_mean</th>\n",
       "      <th>Indigencia_sum</th>\n",
       "      <th>Pobreza_5usd_mean</th>\n",
       "      <th>Pobreza_5usd_sum</th>\n",
       "      <th>P47T_persona_mean</th>\n",
       "      <th>P47T_persona_q10</th>\n",
       "      <th>P47T_persona_q25</th>\n",
       "      <th>P47T_persona_median</th>\n",
       "      <th>P47T_persona_q75</th>\n",
       "      <th>P47T_persona_q90</th>\n",
       "      <th>geometry</th>\n",
       "      <th>area_km2</th>\n",
       "    </tr>\n",
       "  </thead>\n",
       "  <tbody>\n",
       "    <tr>\n",
       "      <th>0</th>\n",
       "      <td>Personas</td>\n",
       "      <td>2001</td>\n",
       "      <td>1.0</td>\n",
       "      <td>1727000.0</td>\n",
       "      <td>0.2246</td>\n",
       "      <td>387950.0</td>\n",
       "      <td>0.071</td>\n",
       "      <td>122650.0</td>\n",
       "      <td>0.0565</td>\n",
       "      <td>97500.0</td>\n",
       "      <td>54630.0</td>\n",
       "      <td>0.0</td>\n",
       "      <td>0.0</td>\n",
       "      <td>41780.0</td>\n",
       "      <td>78540.0</td>\n",
       "      <td>123570.0</td>\n",
       "      <td>POLYGON ((-58.36796 -34.62520, -58.36796 -34.6...</td>\n",
       "      <td>26.223521</td>\n",
       "    </tr>\n",
       "  </tbody>\n",
       "</table>\n",
       "</div>"
      ],
      "text/plain": [
       "       base  DPTO  Total_mean  Total_sum  Pobreza_mean  Pobreza_sum  \\\n",
       "0  Personas  2001         1.0  1727000.0        0.2246     387950.0   \n",
       "\n",
       "   Indigencia_mean  Indigencia_sum  Pobreza_5usd_mean  Pobreza_5usd_sum  \\\n",
       "0            0.071        122650.0             0.0565           97500.0   \n",
       "\n",
       "   P47T_persona_mean  P47T_persona_q10  P47T_persona_q25  P47T_persona_median  \\\n",
       "0            54630.0               0.0               0.0              41780.0   \n",
       "\n",
       "   P47T_persona_q75  P47T_persona_q90  \\\n",
       "0           78540.0          123570.0   \n",
       "\n",
       "                                            geometry   area_km2  \n",
       "0  POLYGON ((-58.36796 -34.62520, -58.36796 -34.6...  26.223521  "
      ]
     },
     "execution_count": 18,
     "metadata": {},
     "output_type": "execute_result"
    }
   ],
   "source": [
    "gdf.head(1)"
   ]
  },
  {
   "cell_type": "code",
   "execution_count": null,
   "metadata": {},
   "outputs": [],
   "source": [
    "## FRACS\n",
    "data['IDFRAC'] = data['COD_2010'].str[:-2] + '00'\n",
    "df = sintetizar_P(data, ['IDFRAC'], frac = 0.02).drop('timestamp', axis = 1)#.groupby(['observable','sintetico','base']).size()\n",
    "\n",
    "df = df.set_index(list(df.drop('valor', 1).columns)).unstack([0, 1])['valor']\n",
    "df.columns = ['_'.join(col) for col in df.columns.values]\n",
    "df = df.reset_index()\n",
    "\n",
    "gdf = gpd.GeoDataFrame(df.merge(admin310), crs = admin310.crs)\n",
    "\n",
    "save_geojson(gdf, filename = 'pobreza_P_FRAC.geojson')"
   ]
  },
  {
   "cell_type": "markdown",
   "metadata": {},
   "source": [
    "## Base: Personas, Mayores de 24."
   ]
  },
  {
   "cell_type": "code",
   "execution_count": 10,
   "metadata": {},
   "outputs": [],
   "source": [
    "## PROVINCIAS\n",
    "\n",
    "df = sintetizar_P(data.loc[data.P03 >= 24], ['PROV'], frac = 0.02).drop('timestamp', axis = 1)#.groupby(['observable','sintetico','base']).size()\n",
    "df = df.set_index(list(df.drop('valor', 1).columns)).unstack([0, 1])['valor']\n",
    "df.columns = ['_'.join(col) for col in df.columns.values]\n",
    "df = df.reset_index()\n",
    "\n",
    "gdf = gpd.GeoDataFrame(df.merge(admin1), crs = admin1.crs)\n",
    "\n",
    "save_geojson(gdf, filename = 'pobreza_M24_PROV.geojson')"
   ]
  },
  {
   "cell_type": "code",
   "execution_count": 11,
   "metadata": {},
   "outputs": [
    {
     "data": {
      "text/html": [
       "<div>\n",
       "<style scoped>\n",
       "    .dataframe tbody tr th:only-of-type {\n",
       "        vertical-align: middle;\n",
       "    }\n",
       "\n",
       "    .dataframe tbody tr th {\n",
       "        vertical-align: top;\n",
       "    }\n",
       "\n",
       "    .dataframe thead th {\n",
       "        text-align: right;\n",
       "    }\n",
       "</style>\n",
       "<table border=\"1\" class=\"dataframe\">\n",
       "  <thead>\n",
       "    <tr style=\"text-align: right;\">\n",
       "      <th></th>\n",
       "      <th>base</th>\n",
       "      <th>PROV</th>\n",
       "      <th>Total_mean</th>\n",
       "      <th>Total_sum</th>\n",
       "      <th>Pobreza_mean</th>\n",
       "      <th>Pobreza_sum</th>\n",
       "      <th>Indigencia_mean</th>\n",
       "      <th>Indigencia_sum</th>\n",
       "      <th>Pobreza_5usd_mean</th>\n",
       "      <th>Pobreza_5usd_sum</th>\n",
       "      <th>P47T_persona_mean</th>\n",
       "      <th>P47T_persona_q10</th>\n",
       "      <th>P47T_persona_q25</th>\n",
       "      <th>P47T_persona_median</th>\n",
       "      <th>P47T_persona_q75</th>\n",
       "      <th>P47T_persona_q90</th>\n",
       "      <th>geometry</th>\n",
       "      <th>area_km2</th>\n",
       "    </tr>\n",
       "  </thead>\n",
       "  <tbody>\n",
       "    <tr>\n",
       "      <th>0</th>\n",
       "      <td>Personas</td>\n",
       "      <td>2</td>\n",
       "      <td>1.0</td>\n",
       "      <td>16806800.0</td>\n",
       "      <td>0.1251</td>\n",
       "      <td>2102400.0</td>\n",
       "      <td>0.0272</td>\n",
       "      <td>457100.0</td>\n",
       "      <td>0.0209</td>\n",
       "      <td>351450.0</td>\n",
       "      <td>72530.0</td>\n",
       "      <td>13090.0</td>\n",
       "      <td>32230.0</td>\n",
       "      <td>59340.0</td>\n",
       "      <td>95250.0</td>\n",
       "      <td>141770.0</td>\n",
       "      <td>POLYGON Z ((-58.34189 -34.63110 0.00000, -58.3...</td>\n",
       "      <td>303.401389</td>\n",
       "    </tr>\n",
       "  </tbody>\n",
       "</table>\n",
       "</div>"
      ],
      "text/plain": [
       "       base  PROV  Total_mean   Total_sum  Pobreza_mean  Pobreza_sum  \\\n",
       "0  Personas     2         1.0  16806800.0        0.1251    2102400.0   \n",
       "\n",
       "   Indigencia_mean  Indigencia_sum  Pobreza_5usd_mean  Pobreza_5usd_sum  \\\n",
       "0           0.0272        457100.0             0.0209          351450.0   \n",
       "\n",
       "   P47T_persona_mean  P47T_persona_q10  P47T_persona_q25  P47T_persona_median  \\\n",
       "0            72530.0           13090.0           32230.0              59340.0   \n",
       "\n",
       "   P47T_persona_q75  P47T_persona_q90  \\\n",
       "0           95250.0          141770.0   \n",
       "\n",
       "                                            geometry    area_km2  \n",
       "0  POLYGON Z ((-58.34189 -34.63110 0.00000, -58.3...  303.401389  "
      ]
     },
     "execution_count": 11,
     "metadata": {},
     "output_type": "execute_result"
    }
   ],
   "source": [
    "gdf.head(1)"
   ]
  },
  {
   "cell_type": "code",
   "execution_count": 12,
   "metadata": {},
   "outputs": [],
   "source": [
    "## DPTOS\n",
    "df = sintetizar_P(data.loc[data.P03 >= 24], ['DPTO'], frac = 0.02).drop('timestamp', axis = 1)#.groupby(['observable','sintetico','base']).size()\n",
    "df = df.set_index(list(df.drop('valor', 1).columns)).unstack([0, 1])['valor']\n",
    "df.columns = ['_'.join(col) for col in df.columns.values]\n",
    "df = df.reset_index()\n",
    "\n",
    "gdf = gpd.GeoDataFrame(df.merge(admin210), crs = admin210.crs)\n",
    "\n",
    "save_geojson(gdf, filename = 'pobreza_M24_DPTO.geojson')"
   ]
  },
  {
   "cell_type": "code",
   "execution_count": 13,
   "metadata": {},
   "outputs": [
    {
     "data": {
      "text/html": [
       "<div>\n",
       "<style scoped>\n",
       "    .dataframe tbody tr th:only-of-type {\n",
       "        vertical-align: middle;\n",
       "    }\n",
       "\n",
       "    .dataframe tbody tr th {\n",
       "        vertical-align: top;\n",
       "    }\n",
       "\n",
       "    .dataframe thead th {\n",
       "        text-align: right;\n",
       "    }\n",
       "</style>\n",
       "<table border=\"1\" class=\"dataframe\">\n",
       "  <thead>\n",
       "    <tr style=\"text-align: right;\">\n",
       "      <th></th>\n",
       "      <th>base</th>\n",
       "      <th>DPTO</th>\n",
       "      <th>Total_mean</th>\n",
       "      <th>Total_sum</th>\n",
       "      <th>Pobreza_mean</th>\n",
       "      <th>Pobreza_sum</th>\n",
       "      <th>Indigencia_mean</th>\n",
       "      <th>Indigencia_sum</th>\n",
       "      <th>Pobreza_5usd_mean</th>\n",
       "      <th>Pobreza_5usd_sum</th>\n",
       "      <th>P47T_persona_mean</th>\n",
       "      <th>P47T_persona_q10</th>\n",
       "      <th>P47T_persona_q25</th>\n",
       "      <th>P47T_persona_median</th>\n",
       "      <th>P47T_persona_q75</th>\n",
       "      <th>P47T_persona_q90</th>\n",
       "      <th>geometry</th>\n",
       "      <th>area_km2</th>\n",
       "    </tr>\n",
       "  </thead>\n",
       "  <tbody>\n",
       "    <tr>\n",
       "      <th>0</th>\n",
       "      <td>Personas</td>\n",
       "      <td>2001</td>\n",
       "      <td>1.0</td>\n",
       "      <td>1233400.0</td>\n",
       "      <td>0.1482</td>\n",
       "      <td>182800.0</td>\n",
       "      <td>0.0396</td>\n",
       "      <td>48900.0</td>\n",
       "      <td>0.0319</td>\n",
       "      <td>39350.0</td>\n",
       "      <td>72620.0</td>\n",
       "      <td>11810.0</td>\n",
       "      <td>31420.0</td>\n",
       "      <td>59070.0</td>\n",
       "      <td>94710.0</td>\n",
       "      <td>141770.0</td>\n",
       "      <td>POLYGON ((-58.36796 -34.62520, -58.36796 -34.6...</td>\n",
       "      <td>26.223521</td>\n",
       "    </tr>\n",
       "  </tbody>\n",
       "</table>\n",
       "</div>"
      ],
      "text/plain": [
       "       base  DPTO  Total_mean  Total_sum  Pobreza_mean  Pobreza_sum  \\\n",
       "0  Personas  2001         1.0  1233400.0        0.1482     182800.0   \n",
       "\n",
       "   Indigencia_mean  Indigencia_sum  Pobreza_5usd_mean  Pobreza_5usd_sum  \\\n",
       "0           0.0396         48900.0             0.0319           39350.0   \n",
       "\n",
       "   P47T_persona_mean  P47T_persona_q10  P47T_persona_q25  P47T_persona_median  \\\n",
       "0            72620.0           11810.0           31420.0              59070.0   \n",
       "\n",
       "   P47T_persona_q75  P47T_persona_q90  \\\n",
       "0           94710.0          141770.0   \n",
       "\n",
       "                                            geometry   area_km2  \n",
       "0  POLYGON ((-58.36796 -34.62520, -58.36796 -34.6...  26.223521  "
      ]
     },
     "execution_count": 13,
     "metadata": {},
     "output_type": "execute_result"
    }
   ],
   "source": [
    "gdf.head(1)"
   ]
  },
  {
   "cell_type": "code",
   "execution_count": null,
   "metadata": {},
   "outputs": [],
   "source": [
    "## FRACS\n",
    "data['IDFRAC'] = data['COD_2010'].str[:-2] + '00'\n",
    "df = sintetizar_P(data.loc[data.P03 >= 24], ['IDFRAC'], frac = 0.02).drop('timestamp', axis = 1)#.groupby(['observable','sintetico','base']).size()\n",
    "\n",
    "df = df.set_index(list(df.drop('valor', 1).columns)).unstack([0, 1])['valor']\n",
    "df.columns = ['_'.join(col) for col in df.columns.values]\n",
    "df = df.reset_index()\n",
    "\n",
    "gdf = gpd.GeoDataFrame(df.merge(admin310), crs = admin310.crs)\n",
    "\n",
    "save_geojson(gdf, filename = 'pobreza_M24_FRAC.geojson')"
   ]
  },
  {
   "cell_type": "markdown",
   "metadata": {},
   "source": [
    "## Base: Personas, Menores de 14."
   ]
  },
  {
   "cell_type": "code",
   "execution_count": 12,
   "metadata": {},
   "outputs": [],
   "source": [
    "## PROVINCIAS\n",
    "\n",
    "df = sintetizar_P(data.loc[data.P03 <= 14], ['PROV'], frac = 0.02).drop('timestamp', axis = 1)#.groupby(['observable','sintetico','base']).size()\n",
    "df = df.set_index(list(df.drop('valor', 1).columns)).unstack([0, 1])['valor']\n",
    "df.columns = ['_'.join(col) for col in df.columns.values]\n",
    "df = df.reset_index()\n",
    "\n",
    "gdf = gpd.GeoDataFrame(df.merge(admin1), crs = admin1.crs)\n",
    "\n",
    "save_geojson(gdf, filename = 'pobreza_M14_PROV.geojson')"
   ]
  },
  {
   "cell_type": "code",
   "execution_count": 13,
   "metadata": {},
   "outputs": [
    {
     "data": {
      "text/html": [
       "<div>\n",
       "<style scoped>\n",
       "    .dataframe tbody tr th:only-of-type {\n",
       "        vertical-align: middle;\n",
       "    }\n",
       "\n",
       "    .dataframe tbody tr th {\n",
       "        vertical-align: top;\n",
       "    }\n",
       "\n",
       "    .dataframe thead th {\n",
       "        text-align: right;\n",
       "    }\n",
       "</style>\n",
       "<table border=\"1\" class=\"dataframe\">\n",
       "  <thead>\n",
       "    <tr style=\"text-align: right;\">\n",
       "      <th></th>\n",
       "      <th>base</th>\n",
       "      <th>PROV</th>\n",
       "      <th>Total_mean</th>\n",
       "      <th>Total_sum</th>\n",
       "      <th>Pobreza_mean</th>\n",
       "      <th>Pobreza_sum</th>\n",
       "      <th>Indigencia_mean</th>\n",
       "      <th>Indigencia_sum</th>\n",
       "      <th>Pobreza_5usd_mean</th>\n",
       "      <th>Pobreza_5usd_sum</th>\n",
       "      <th>P47T_persona_mean</th>\n",
       "      <th>P47T_persona_q10</th>\n",
       "      <th>P47T_persona_q25</th>\n",
       "      <th>P47T_persona_median</th>\n",
       "      <th>P47T_persona_q75</th>\n",
       "      <th>P47T_persona_q90</th>\n",
       "      <th>geometry</th>\n",
       "      <th>area_km2</th>\n",
       "    </tr>\n",
       "  </thead>\n",
       "  <tbody>\n",
       "    <tr>\n",
       "      <th>0</th>\n",
       "      <td>Personas</td>\n",
       "      <td>2</td>\n",
       "      <td>1.0</td>\n",
       "      <td>3915800.0</td>\n",
       "      <td>0.365</td>\n",
       "      <td>1429350.0</td>\n",
       "      <td>0.104</td>\n",
       "      <td>407050.0</td>\n",
       "      <td>0.0806</td>\n",
       "      <td>315500.0</td>\n",
       "      <td>80.0</td>\n",
       "      <td>0.0</td>\n",
       "      <td>0.0</td>\n",
       "      <td>0.0</td>\n",
       "      <td>0.0</td>\n",
       "      <td>0.0</td>\n",
       "      <td>POLYGON Z ((-58.34189 -34.63110 0.00000, -58.3...</td>\n",
       "      <td>303.401389</td>\n",
       "    </tr>\n",
       "  </tbody>\n",
       "</table>\n",
       "</div>"
      ],
      "text/plain": [
       "       base  PROV  Total_mean  Total_sum  Pobreza_mean  Pobreza_sum  \\\n",
       "0  Personas     2         1.0  3915800.0         0.365    1429350.0   \n",
       "\n",
       "   Indigencia_mean  Indigencia_sum  Pobreza_5usd_mean  Pobreza_5usd_sum  \\\n",
       "0            0.104        407050.0             0.0806          315500.0   \n",
       "\n",
       "   P47T_persona_mean  P47T_persona_q10  P47T_persona_q25  P47T_persona_median  \\\n",
       "0               80.0               0.0               0.0                  0.0   \n",
       "\n",
       "   P47T_persona_q75  P47T_persona_q90  \\\n",
       "0               0.0               0.0   \n",
       "\n",
       "                                            geometry    area_km2  \n",
       "0  POLYGON Z ((-58.34189 -34.63110 0.00000, -58.3...  303.401389  "
      ]
     },
     "execution_count": 13,
     "metadata": {},
     "output_type": "execute_result"
    }
   ],
   "source": [
    "gdf.head(1)"
   ]
  },
  {
   "cell_type": "code",
   "execution_count": 14,
   "metadata": {},
   "outputs": [],
   "source": [
    "## DPTOS\n",
    "df = sintetizar_P(data.loc[data.P03 <= 14], ['DPTO'], frac = 0.02).drop('timestamp', axis = 1)#.groupby(['observable','sintetico','base']).size()\n",
    "df = df.set_index(list(df.drop('valor', 1).columns)).unstack([0, 1])['valor']\n",
    "df.columns = ['_'.join(col) for col in df.columns.values]\n",
    "df = df.reset_index()\n",
    "\n",
    "gdf = gpd.GeoDataFrame(df.merge(admin210), crs = admin210.crs)\n",
    "\n",
    "save_geojson(gdf, filename = 'pobreza_M14_DPTO.geojson')"
   ]
  },
  {
   "cell_type": "code",
   "execution_count": 15,
   "metadata": {},
   "outputs": [
    {
     "data": {
      "text/html": [
       "<div>\n",
       "<style scoped>\n",
       "    .dataframe tbody tr th:only-of-type {\n",
       "        vertical-align: middle;\n",
       "    }\n",
       "\n",
       "    .dataframe tbody tr th {\n",
       "        vertical-align: top;\n",
       "    }\n",
       "\n",
       "    .dataframe thead th {\n",
       "        text-align: right;\n",
       "    }\n",
       "</style>\n",
       "<table border=\"1\" class=\"dataframe\">\n",
       "  <thead>\n",
       "    <tr style=\"text-align: right;\">\n",
       "      <th></th>\n",
       "      <th>base</th>\n",
       "      <th>DPTO</th>\n",
       "      <th>Total_mean</th>\n",
       "      <th>Total_sum</th>\n",
       "      <th>Pobreza_mean</th>\n",
       "      <th>Pobreza_sum</th>\n",
       "      <th>Indigencia_mean</th>\n",
       "      <th>Indigencia_sum</th>\n",
       "      <th>Pobreza_5usd_mean</th>\n",
       "      <th>Pobreza_5usd_sum</th>\n",
       "      <th>P47T_persona_mean</th>\n",
       "      <th>P47T_persona_q10</th>\n",
       "      <th>P47T_persona_q25</th>\n",
       "      <th>P47T_persona_median</th>\n",
       "      <th>P47T_persona_q75</th>\n",
       "      <th>P47T_persona_q90</th>\n",
       "      <th>geometry</th>\n",
       "      <th>area_km2</th>\n",
       "    </tr>\n",
       "  </thead>\n",
       "  <tbody>\n",
       "    <tr>\n",
       "      <th>0</th>\n",
       "      <td>Personas</td>\n",
       "      <td>2001</td>\n",
       "      <td>1.0</td>\n",
       "      <td>270800.0</td>\n",
       "      <td>0.4614</td>\n",
       "      <td>124950.0</td>\n",
       "      <td>0.1586</td>\n",
       "      <td>42950.0</td>\n",
       "      <td>0.1263</td>\n",
       "      <td>34200.0</td>\n",
       "      <td>80.0</td>\n",
       "      <td>0.0</td>\n",
       "      <td>0.0</td>\n",
       "      <td>0.0</td>\n",
       "      <td>0.0</td>\n",
       "      <td>0.0</td>\n",
       "      <td>POLYGON ((-58.36796 -34.62520, -58.36796 -34.6...</td>\n",
       "      <td>26.223521</td>\n",
       "    </tr>\n",
       "  </tbody>\n",
       "</table>\n",
       "</div>"
      ],
      "text/plain": [
       "       base  DPTO  Total_mean  Total_sum  Pobreza_mean  Pobreza_sum  \\\n",
       "0  Personas  2001         1.0   270800.0        0.4614     124950.0   \n",
       "\n",
       "   Indigencia_mean  Indigencia_sum  Pobreza_5usd_mean  Pobreza_5usd_sum  \\\n",
       "0           0.1586         42950.0             0.1263           34200.0   \n",
       "\n",
       "   P47T_persona_mean  P47T_persona_q10  P47T_persona_q25  P47T_persona_median  \\\n",
       "0               80.0               0.0               0.0                  0.0   \n",
       "\n",
       "   P47T_persona_q75  P47T_persona_q90  \\\n",
       "0               0.0               0.0   \n",
       "\n",
       "                                            geometry   area_km2  \n",
       "0  POLYGON ((-58.36796 -34.62520, -58.36796 -34.6...  26.223521  "
      ]
     },
     "execution_count": 15,
     "metadata": {},
     "output_type": "execute_result"
    }
   ],
   "source": [
    "gdf.head(1)"
   ]
  },
  {
   "cell_type": "code",
   "execution_count": null,
   "metadata": {},
   "outputs": [],
   "source": [
    "## FRACS\n",
    "data['IDFRAC'] = data['COD_2010'].str[:-2] + '00'\n",
    "df = sintetizar_P(data.loc[data.P03 <= 14], ['IDFRAC'], frac = 0.02).drop('timestamp', axis = 1)#.groupby(['observable','sintetico','base']).size()\n",
    "\n",
    "df = df.set_index(list(df.drop('valor', 1).columns)).unstack([0, 1])['valor']\n",
    "df.columns = ['_'.join(col) for col in df.columns.values]\n",
    "df = df.reset_index()\n",
    "\n",
    "gdf = gpd.GeoDataFrame(df.merge(admin310), crs = admin310.crs)\n",
    "\n",
    "save_geojson(gdf, filename = 'pobreza_M14_FRAC.geojson')"
   ]
  },
  {
   "cell_type": "markdown",
   "metadata": {},
   "source": [
    "## Base: Personas, Menores de 6."
   ]
  },
  {
   "cell_type": "code",
   "execution_count": 16,
   "metadata": {},
   "outputs": [],
   "source": [
    "## PROVINCIAS\n",
    "\n",
    "df = sintetizar_P(data.loc[data.P03 <= 6], ['PROV'], frac = 0.02).drop('timestamp', axis = 1)#.groupby(['observable','sintetico','base']).size()\n",
    "df = df.set_index(list(df.drop('valor', 1).columns)).unstack([0, 1])['valor']\n",
    "df.columns = ['_'.join(col) for col in df.columns.values]\n",
    "df = df.reset_index()\n",
    "\n",
    "gdf = gpd.GeoDataFrame(df.merge(admin1), crs = admin1.crs)\n",
    "\n",
    "save_geojson(gdf, filename = 'pobreza_M6_PROV.geojson')"
   ]
  },
  {
   "cell_type": "code",
   "execution_count": 17,
   "metadata": {},
   "outputs": [
    {
     "data": {
      "text/html": [
       "<div>\n",
       "<style scoped>\n",
       "    .dataframe tbody tr th:only-of-type {\n",
       "        vertical-align: middle;\n",
       "    }\n",
       "\n",
       "    .dataframe tbody tr th {\n",
       "        vertical-align: top;\n",
       "    }\n",
       "\n",
       "    .dataframe thead th {\n",
       "        text-align: right;\n",
       "    }\n",
       "</style>\n",
       "<table border=\"1\" class=\"dataframe\">\n",
       "  <thead>\n",
       "    <tr style=\"text-align: right;\">\n",
       "      <th></th>\n",
       "      <th>base</th>\n",
       "      <th>PROV</th>\n",
       "      <th>Total_mean</th>\n",
       "      <th>Total_sum</th>\n",
       "      <th>Pobreza_mean</th>\n",
       "      <th>Pobreza_sum</th>\n",
       "      <th>Indigencia_mean</th>\n",
       "      <th>Indigencia_sum</th>\n",
       "      <th>Pobreza_5usd_mean</th>\n",
       "      <th>Pobreza_5usd_sum</th>\n",
       "      <th>P47T_persona_mean</th>\n",
       "      <th>P47T_persona_q10</th>\n",
       "      <th>P47T_persona_q25</th>\n",
       "      <th>P47T_persona_median</th>\n",
       "      <th>P47T_persona_q75</th>\n",
       "      <th>P47T_persona_q90</th>\n",
       "      <th>geometry</th>\n",
       "      <th>area_km2</th>\n",
       "    </tr>\n",
       "  </thead>\n",
       "  <tbody>\n",
       "    <tr>\n",
       "      <th>0</th>\n",
       "      <td>Personas</td>\n",
       "      <td>2</td>\n",
       "      <td>1.0</td>\n",
       "      <td>1902800.0</td>\n",
       "      <td>0.3586</td>\n",
       "      <td>682300.0</td>\n",
       "      <td>0.103</td>\n",
       "      <td>196050.0</td>\n",
       "      <td>0.0806</td>\n",
       "      <td>153400.0</td>\n",
       "      <td>0.0</td>\n",
       "      <td>0.0</td>\n",
       "      <td>0.0</td>\n",
       "      <td>0.0</td>\n",
       "      <td>0.0</td>\n",
       "      <td>0.0</td>\n",
       "      <td>POLYGON Z ((-58.34189 -34.63110 0.00000, -58.3...</td>\n",
       "      <td>303.401389</td>\n",
       "    </tr>\n",
       "  </tbody>\n",
       "</table>\n",
       "</div>"
      ],
      "text/plain": [
       "       base  PROV  Total_mean  Total_sum  Pobreza_mean  Pobreza_sum  \\\n",
       "0  Personas     2         1.0  1902800.0        0.3586     682300.0   \n",
       "\n",
       "   Indigencia_mean  Indigencia_sum  Pobreza_5usd_mean  Pobreza_5usd_sum  \\\n",
       "0            0.103        196050.0             0.0806          153400.0   \n",
       "\n",
       "   P47T_persona_mean  P47T_persona_q10  P47T_persona_q25  P47T_persona_median  \\\n",
       "0                0.0               0.0               0.0                  0.0   \n",
       "\n",
       "   P47T_persona_q75  P47T_persona_q90  \\\n",
       "0               0.0               0.0   \n",
       "\n",
       "                                            geometry    area_km2  \n",
       "0  POLYGON Z ((-58.34189 -34.63110 0.00000, -58.3...  303.401389  "
      ]
     },
     "execution_count": 17,
     "metadata": {},
     "output_type": "execute_result"
    }
   ],
   "source": [
    "gdf.head(1)"
   ]
  },
  {
   "cell_type": "code",
   "execution_count": 18,
   "metadata": {},
   "outputs": [],
   "source": [
    "## DPTOS\n",
    "df = sintetizar_P(data.loc[data.P03 <= 6], ['DPTO'], frac = 0.02).drop('timestamp', axis = 1)#.groupby(['observable','sintetico','base']).size()\n",
    "df = df.set_index(list(df.drop('valor', 1).columns)).unstack([0, 1])['valor']\n",
    "df.columns = ['_'.join(col) for col in df.columns.values]\n",
    "df = df.reset_index()\n",
    "\n",
    "gdf = gpd.GeoDataFrame(df.merge(admin210), crs = admin210.crs)\n",
    "\n",
    "save_geojson(gdf, filename = 'pobreza_M6_DPTO.geojson')"
   ]
  },
  {
   "cell_type": "code",
   "execution_count": 19,
   "metadata": {},
   "outputs": [
    {
     "data": {
      "text/html": [
       "<div>\n",
       "<style scoped>\n",
       "    .dataframe tbody tr th:only-of-type {\n",
       "        vertical-align: middle;\n",
       "    }\n",
       "\n",
       "    .dataframe tbody tr th {\n",
       "        vertical-align: top;\n",
       "    }\n",
       "\n",
       "    .dataframe thead th {\n",
       "        text-align: right;\n",
       "    }\n",
       "</style>\n",
       "<table border=\"1\" class=\"dataframe\">\n",
       "  <thead>\n",
       "    <tr style=\"text-align: right;\">\n",
       "      <th></th>\n",
       "      <th>base</th>\n",
       "      <th>DPTO</th>\n",
       "      <th>Total_mean</th>\n",
       "      <th>Total_sum</th>\n",
       "      <th>Pobreza_mean</th>\n",
       "      <th>Pobreza_sum</th>\n",
       "      <th>Indigencia_mean</th>\n",
       "      <th>Indigencia_sum</th>\n",
       "      <th>Pobreza_5usd_mean</th>\n",
       "      <th>Pobreza_5usd_sum</th>\n",
       "      <th>P47T_persona_mean</th>\n",
       "      <th>P47T_persona_q10</th>\n",
       "      <th>P47T_persona_q25</th>\n",
       "      <th>P47T_persona_median</th>\n",
       "      <th>P47T_persona_q75</th>\n",
       "      <th>P47T_persona_q90</th>\n",
       "      <th>geometry</th>\n",
       "      <th>area_km2</th>\n",
       "    </tr>\n",
       "  </thead>\n",
       "  <tbody>\n",
       "    <tr>\n",
       "      <th>0</th>\n",
       "      <td>Personas</td>\n",
       "      <td>2001</td>\n",
       "      <td>1.0</td>\n",
       "      <td>139600.0</td>\n",
       "      <td>0.4724</td>\n",
       "      <td>65950.0</td>\n",
       "      <td>0.1748</td>\n",
       "      <td>24400.0</td>\n",
       "      <td>0.1422</td>\n",
       "      <td>19850.0</td>\n",
       "      <td>0.0</td>\n",
       "      <td>0.0</td>\n",
       "      <td>0.0</td>\n",
       "      <td>0.0</td>\n",
       "      <td>0.0</td>\n",
       "      <td>0.0</td>\n",
       "      <td>POLYGON ((-58.36796 -34.62520, -58.36796 -34.6...</td>\n",
       "      <td>26.223521</td>\n",
       "    </tr>\n",
       "  </tbody>\n",
       "</table>\n",
       "</div>"
      ],
      "text/plain": [
       "       base  DPTO  Total_mean  Total_sum  Pobreza_mean  Pobreza_sum  \\\n",
       "0  Personas  2001         1.0   139600.0        0.4724      65950.0   \n",
       "\n",
       "   Indigencia_mean  Indigencia_sum  Pobreza_5usd_mean  Pobreza_5usd_sum  \\\n",
       "0           0.1748         24400.0             0.1422           19850.0   \n",
       "\n",
       "   P47T_persona_mean  P47T_persona_q10  P47T_persona_q25  P47T_persona_median  \\\n",
       "0                0.0               0.0               0.0                  0.0   \n",
       "\n",
       "   P47T_persona_q75  P47T_persona_q90  \\\n",
       "0               0.0               0.0   \n",
       "\n",
       "                                            geometry   area_km2  \n",
       "0  POLYGON ((-58.36796 -34.62520, -58.36796 -34.6...  26.223521  "
      ]
     },
     "execution_count": 19,
     "metadata": {},
     "output_type": "execute_result"
    }
   ],
   "source": [
    "gdf.head(1)"
   ]
  },
  {
   "cell_type": "code",
   "execution_count": null,
   "metadata": {},
   "outputs": [],
   "source": [
    "## FRACS\n",
    "data['IDFRAC'] = data['COD_2010'].str[:-2] + '00'\n",
    "df = sintetizar_P(data.loc[data.P03 <= 6], ['IDFRAC'], frac = 0.02).drop('timestamp', axis = 1)#.groupby(['observable','sintetico','base']).size()\n",
    "\n",
    "df = df.set_index(list(df.drop('valor', 1).columns)).unstack([0, 1])['valor']\n",
    "df.columns = ['_'.join(col) for col in df.columns.values]\n",
    "df = df.reset_index()\n",
    "\n",
    "gdf = gpd.GeoDataFrame(df.merge(admin310), crs = admin310.crs)\n",
    "\n",
    "save_geojson(gdf, filename = 'pobreza_M6_FRAC.geojson')"
   ]
  },
  {
   "cell_type": "markdown",
   "metadata": {},
   "source": [
    "## Base: Hogares"
   ]
  },
  {
   "cell_type": "code",
   "execution_count": null,
   "metadata": {},
   "outputs": [],
   "source": [
    "## PROVINCIAS\n",
    "\n",
    "df = sintetizar_H(data, ['PROV'], frac = 0.02).drop('timestamp', axis = 1)#.groupby(['observable','sintetico','base']).size()\n",
    "df = df.set_index(list(df.drop('valor', 1).columns)).unstack([0, 1])['valor']\n",
    "df.columns = ['_'.join(col) for col in df.columns.values]\n",
    "df = df.reset_index()\n",
    "\n",
    "gdf = gpd.GeoDataFrame(df.merge(admin1), crs = admin1.crs)\n",
    "\n",
    "save_geojson(gdf, filename = 'pobreza_H_PROV.geojson')"
   ]
  },
  {
   "cell_type": "code",
   "execution_count": null,
   "metadata": {},
   "outputs": [],
   "source": [
    "gdf.head(1)"
   ]
  },
  {
   "cell_type": "code",
   "execution_count": null,
   "metadata": {},
   "outputs": [],
   "source": [
    "## DPTOS\n",
    "df = sintetizar_H(data, ['DPTO'], frac = 0.02).drop('timestamp', axis = 1)#.groupby(['observable','sintetico','base']).size()\n",
    "df = df.set_index(list(df.drop('valor', 1).columns)).unstack([0, 1])['valor']\n",
    "df.columns = ['_'.join(col) for col in df.columns.values]\n",
    "df = df.reset_index()\n",
    "\n",
    "gdf = gpd.GeoDataFrame(df.merge(admin210), crs = admin210.crs)\n",
    "\n",
    "save_geojson(gdf, filename = 'pobreza_H_DPTO.geojson')"
   ]
  },
  {
   "cell_type": "code",
   "execution_count": null,
   "metadata": {},
   "outputs": [],
   "source": [
    "gdf.head(1)"
   ]
  },
  {
   "cell_type": "code",
   "execution_count": null,
   "metadata": {},
   "outputs": [],
   "source": [
    "## FRACS\n",
    "data['IDFRAC'] = data['COD_2010'].str[:-2] + '00'\n",
    "df = sintetizar_H(data, ['IDFRAC'], frac = 0.02).drop('timestamp', axis = 1)#.groupby(['observable','sintetico','base']).size()\n",
    "\n",
    "df = df.set_index(list(df.drop('valor', 1).columns)).unstack([0, 1])['valor']\n",
    "df.columns = ['_'.join(col) for col in df.columns.values]\n",
    "df = df.reset_index()\n",
    "\n",
    "gdf = gpd.GeoDataFrame(df.merge(admin310), crs = admin310.crs)\n",
    "\n",
    "save_geojson(gdf, filename = 'pobreza_H_FRAC.geojson')"
   ]
  },
  {
   "cell_type": "code",
   "execution_count": null,
   "metadata": {},
   "outputs": [],
   "source": []
  },
  {
   "cell_type": "code",
   "execution_count": null,
   "metadata": {},
   "outputs": [],
   "source": [
    "xx"
   ]
  },
  {
   "cell_type": "code",
   "execution_count": null,
   "metadata": {},
   "outputs": [],
   "source": [
    "## Repetir para Hogares, para M24, M14, etc."
   ]
  },
  {
   "cell_type": "code",
   "execution_count": null,
   "metadata": {},
   "outputs": [],
   "source": [
    "cd /media/miglesia/Elements/suite/indice-pobreza-ExactasUBA/data\n",
    "export MAPBOX_ACCESS_TOKEN=sk.eyJ1IjoibWF0dXRlaWdsZXNpYXMyIiwiYSI6ImNrb3lvMWZyajAxZncycG8ycnJkaTI1ZjYifQ.LXJGImmBgQtWWrNOC1wTcA"
   ]
  },
  {
   "cell_type": "code",
   "execution_count": null,
   "metadata": {},
   "outputs": [],
   "source": [
    "\n",
    "## HOGARES. \n",
    "# (REPEAT FOR PERSONAS, M24, ETC.)\n",
    "tilesets upload-source matuteiglesias2 income_provs_H ./geojson/pobreza_H_PROV.geojson\n",
    "tilesets upload-source matuteiglesias2 income_dptos_H ./geojson/pobreza_H_DPTO.geojson\n",
    "tilesets upload-source matuteiglesias2 income_fracs_H ./geojson/pobreza_H_FRAC.geojson\n",
    "\n",
    "# # tilesets create username.hello-world-tiles --recipe hello-world-recipe.json --name \"hello world\"\n",
    "tilesets create matuteiglesias2.income_H --recipe ./geojson/pobreza_H-recipe.json --name \"Ingresos y Pobreza - Hogares\"\n",
    "tilesets publish matuteiglesias2.income_H\n"
   ]
  },
  {
   "cell_type": "code",
   "execution_count": null,
   "metadata": {},
   "outputs": [],
   "source": [
    "## REPEAT FOR PERSONAS\n",
    "tilesets upload-source matuteiglesias2 income_provs_P ./geojson/pobreza_P_PROV.geojson\n",
    "tilesets upload-source matuteiglesias2 income_dptos_P ./geojson/pobreza_P_DPTO.geojson\n",
    "tilesets upload-source matuteiglesias2 income_fracs_P ./geojson/pobreza_P_FRAC.geojson\n",
    "\n",
    "tilesets create matuteiglesias2.income_P --recipe ./geojson/pobreza_P-recipe.json --name \"Ingresos y Pobreza - Personas\"\n",
    "tilesets publish matuteiglesias2.income_P\n"
   ]
  },
  {
   "cell_type": "code",
   "execution_count": null,
   "metadata": {},
   "outputs": [],
   "source": [
    "## REPEAT FOR Mayores de 24\n",
    "tilesets delete matuteiglesias2.income_M24\n",
    "\n",
    "tilesets upload-source matuteiglesias2 income_provs_M24 ./geojson/pobreza_M24_PROV.geojson\n",
    "tilesets upload-source matuteiglesias2 income_dptos_M24 ./geojson/pobreza_M24_DPTO.geojson\n",
    "tilesets upload-source matuteiglesias2 income_fracs_M24 ./geojson/pobreza_M24_FRAC.geojson\n",
    "\n",
    "tilesets create matuteiglesias2.income_M24 --recipe ./geojson/pobreza_M24-recipe.json --name \"Ingresos y Pobreza - Mayores de 24\"\n",
    "tilesets publish matuteiglesias2.income_M24\n"
   ]
  },
  {
   "cell_type": "code",
   "execution_count": null,
   "metadata": {},
   "outputs": [],
   "source": [
    "## REPEAT FOR Menores de 14\n",
    "tilesets upload-source matuteiglesias2 income_provs_M14 ./geojson/pobreza_M14_PROV.geojson\n",
    "tilesets upload-source matuteiglesias2 income_dptos_M14 ./geojson/pobreza_M14_DPTO.geojson\n",
    "tilesets upload-source matuteiglesias2 income_fracs_M14 ./geojson/pobreza_M14_FRAC.geojson\n",
    "\n",
    "tilesets create matuteiglesias2.income_M14 --recipe ./geojson/pobreza_M14-recipe.json --name \"Ingresos y Pobreza - Menores de 14\"\n",
    "tilesets publish matuteiglesias2.income_M14\n"
   ]
  },
  {
   "cell_type": "code",
   "execution_count": null,
   "metadata": {},
   "outputs": [],
   "source": [
    "## REPEAT FOR Menores de 14\n",
    "tilesets upload-source matuteiglesias2 income_provs_M6 ./geojson/pobreza_M6_PROV.geojson\n",
    "tilesets upload-source matuteiglesias2 income_dptos_M6 ./geojson/pobreza_M6_DPTO.geojson\n",
    "tilesets upload-source matuteiglesias2 income_fracs_M6 ./geojson/pobreza_M6_FRAC.geojson\n",
    "\n",
    "tilesets create matuteiglesias2.income_M6 --recipe ./geojson/pobreza_M6-recipe.json --name \"Ingresos y Pobreza - Menores de 6\"\n",
    "tilesets publish matuteiglesias2.income_M6\n"
   ]
  },
  {
   "cell_type": "code",
   "execution_count": null,
   "metadata": {},
   "outputs": [],
   "source": [
    "\n",
    "# # tilesets upload-source username populated-places-source /path/to/data/populated_places.geojson.ld\n",
    "\n",
    "# tilesets upload-source matuteiglesias2 income_provs ./geojson/pobreza_P_PROV.geojson\n",
    "# tilesets upload-source matuteiglesias2 income_dptos ./geojson/pobreza_P_DPTO.geojson\n",
    "# tilesets upload-source matuteiglesias2 income_fracs ./geojson/pobreza_P_FRAC.geojson\n",
    "\n",
    "\n",
    "# tilesets delete-source matuteiglesias2 s\n"
   ]
  },
  {
   "cell_type": "code",
   "execution_count": null,
   "metadata": {},
   "outputs": [],
   "source": [
    "# gdf = gpd.read_file('./../data/geojson/pobreza_H_PROV.geojson')\n",
    "# gdf"
   ]
  },
  {
   "cell_type": "code",
   "execution_count": null,
   "metadata": {},
   "outputs": [],
   "source": [
    "# export MAPBOX_ACCESS_TOKEN=sk.eyJ1IjoibWF0dXRlaWdsZXNpYXMyIiwiYSI6ImNrb3lvMWZyajAxZncycG8ycnJkaTI1ZjYifQ.LXJGImmBgQtWWrNOC1wTcA\n",
    "\n",
    "# # tilesets upload-source username populated-places-source /path/to/data/populated_places.geojson.ld\n",
    "# cd /media/miglesia/Elements/suite/indice-pobreza-ExactasUBA/data\n",
    "\n",
    "# tilesets upload-source matuteiglesias2 pobreza_v2 ./geojson/pobreza_P_PROV.geojson\n",
    "# tilesets upload-source matuteiglesias2 pobreza_v2 ./geojson/pobreza_P_DPTO.geojson\n",
    "\n",
    "# # tilesets create username.hello-world-tiles --recipe hello-world-recipe.json --name \"hello world\"\n",
    "# tilesets create matuteiglesias2.personas2 --recipe ./geojson/pobreza-recipe.json --name \"Ingresos y Pobreza - Personas2\"\n",
    "# tilesets publish matuteiglesias2.personas2\n"
   ]
  },
  {
   "cell_type": "code",
   "execution_count": 1,
   "metadata": {},
   "outputs": [
    {
     "name": "stdout",
     "output_type": "stream",
     "text": [
      "['#17934e', '#57b65f', '#93d168', '#c7e77f', '#eef8a8', '#fff1a8', '#fece7c', '#fa9b58', '#ee613e', '#d22b27']\n"
     ]
    }
   ],
   "source": [
    ">>> import seaborn as sns\n",
    ">>> pal = sns.color_palette(\"RdYlGn_r\", 10)\n",
    ">>> print(pal.as_hex())\n"
   ]
  },
  {
   "cell_type": "code",
   "execution_count": 2,
   "metadata": {},
   "outputs": [
    {
     "name": "stdout",
     "output_type": "stream",
     "text": [
      "['#17e8ff', '#2ed1ff', '#45baff', '#5da2ff', '#748bff', '#8b74ff', '#a25dff', '#ba45ff', '#d12eff', '#e817ff']\n"
     ]
    }
   ],
   "source": [
    ">>> import seaborn as sns\n",
    ">>> pal = sns.color_palette(\"cool\", 10)\n",
    ">>> print(pal.as_hex())"
   ]
  },
  {
   "cell_type": "code",
   "execution_count": null,
   "metadata": {},
   "outputs": [],
   "source": []
  }
 ],
 "metadata": {
  "kernelspec": {
   "display_name": "Python 3",
   "language": "python",
   "name": "python3"
  },
  "language_info": {
   "codemirror_mode": {
    "name": "ipython",
    "version": 3
   },
   "file_extension": ".py",
   "mimetype": "text/x-python",
   "name": "python",
   "nbconvert_exporter": "python",
   "pygments_lexer": "ipython3",
   "version": "3.8.5"
  }
 },
 "nbformat": 4,
 "nbformat_minor": 4
}
