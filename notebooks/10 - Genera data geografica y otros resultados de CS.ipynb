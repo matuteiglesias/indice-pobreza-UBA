{
 "cells": [
  {
   "cell_type": "code",
   "execution_count": 1,
   "metadata": {},
   "outputs": [
    {
     "data": {
      "text/html": [
       "<style>.container { width:100% !important; }</style>"
      ],
      "text/plain": [
       "<IPython.core.display.HTML object>"
      ]
     },
     "metadata": {},
     "output_type": "display_data"
    }
   ],
   "source": [
    "import geopandas as gpd\n",
    "import pandas as pd\n",
    "\n",
    "from IPython.core.display import display, HTML\n",
    "display(HTML(\"<style>.container { width:100% !important; }</style>\"))"
   ]
  },
  {
   "cell_type": "markdown",
   "metadata": {},
   "source": [
    "**CONTENIDO**\n",
    "\n",
    "- Cargar data CS\n",
    "- Resultados Complejos observables en CS\n",
    "- Procesamiento para datasets geograficos\n",
    "    - Mapas Ejemplo (Base Personas)\n",
    "    - Comandos Mapbox CLI"
   ]
  },
  {
   "cell_type": "markdown",
   "metadata": {},
   "source": [
    "# Cargar data CS"
   ]
  },
  {
   "cell_type": "markdown",
   "metadata": {},
   "source": [
    "### Precios Corrientes"
   ]
  },
  {
   "cell_type": "code",
   "execution_count": 2,
   "metadata": {},
   "outputs": [],
   "source": [
    "from datetime import datetime\n",
    "# hoy = datetime.today().strftime('%Y-%m-%d')\n",
    "\n",
    "cpi = pd.read_csv('https://raw.githubusercontent.com/matuteiglesias/IPC-Argentina/main/data/info/indice_precios_M.csv', index_col=0)\n",
    "cpi.index = pd.to_datetime(cpi.index)\n",
    "\n",
    "\n",
    "hoy = datetime.today().strftime('%Y-%m')\n",
    "\n",
    "# Ratio de precios de hoy con respecto a precios con indice en base modelo\n",
    "ix = cpi.loc[hoy]['index'].values[0]/cpi.loc['2016-01']['index'].values[0]\n",
    "# ix = cpi.loc['2020-09-30'].values[0]/cpi.loc['2016-01-01'].values[0] # Precios del periodo en estudio\n",
    "\n",
    "columnas_pesos =  ['P47T_persona', 'P47T_hogar', 'CBA', 'gap_indigencia', 'CBT', 'gap_pobreza']"
   ]
  },
  {
   "cell_type": "markdown",
   "metadata": {},
   "source": [
    "### Leer data CS"
   ]
  },
  {
   "cell_type": "code",
   "execution_count": 3,
   "metadata": {},
   "outputs": [],
   "source": [
    "data = pd.read_csv('/media/miglesia/Elements/suite/indice-pobreza-ExactasUBA/data/Pobreza/pobreza_0.02_ARGCSactual.csv', encoding_errors='ignore')\n",
    "\n",
    "## Deflacta a precios actuales\n",
    "data[columnas_pesos] = ix*data[columnas_pesos]"
   ]
  },
  {
   "cell_type": "markdown",
   "metadata": {},
   "source": [
    "### Unir NOMDPTO y Region"
   ]
  },
  {
   "cell_type": "code",
   "execution_count": 4,
   "metadata": {},
   "outputs": [],
   "source": [
    "frac = 0.02\n",
    "# data = pd.read_csv('./../data/Pobreza/pobreza_'+str(frac)+'_2020.csv')\n",
    "# /media/miglesia/Elements/suite/indice-pobreza-ExactasUBA/data/Pobreza/pobreza_0.01_2021-2022.csv saved\n",
    "\n",
    "radio_ref = pd.read_csv('./../data/info/radio_ref.csv')\n",
    "radio_ref['COD_2010'] = radio_ref['radio'].astype(str).str.zfill(9)\n",
    "dpto_region = pd.read_csv('./../data/info/DPTO_PROV_Region.csv')\n",
    "radio_ref = radio_ref.merge(dpto_region)\n",
    "aglo_labels = pd.read_csv('./../data/info/aglo_labels.csv')[['AGLOMERADO', 'NOMAGLO']]\n",
    "radio_ref = radio_ref[['RADIO_REF_ID', 'COD_2010', 'NOMDPTO', 'AGLOMERADO', 'Region']].drop_duplicates().merge(aglo_labels)\n",
    "\n",
    "\n",
    "data = data.merge(radio_ref, on = ['RADIO_REF_ID', 'AGLOMERADO'])\n",
    "data['AGLO_si'] = data.AGLOMERADO != 0"
   ]
  },
  {
   "cell_type": "markdown",
   "metadata": {},
   "source": [
    "# Resultados Complejos observables en CS"
   ]
  },
  {
   "cell_type": "code",
   "execution_count": 5,
   "metadata": {},
   "outputs": [
    {
     "data": {
      "text/html": [
       "<div>\n",
       "<style scoped>\n",
       "    .dataframe tbody tr th:only-of-type {\n",
       "        vertical-align: middle;\n",
       "    }\n",
       "\n",
       "    .dataframe tbody tr th {\n",
       "        vertical-align: top;\n",
       "    }\n",
       "\n",
       "    .dataframe thead th {\n",
       "        text-align: right;\n",
       "    }\n",
       "</style>\n",
       "<table border=\"1\" class=\"dataframe\">\n",
       "  <thead>\n",
       "    <tr style=\"text-align: right;\">\n",
       "      <th></th>\n",
       "      <th>Pobreza</th>\n",
       "      <th>Indigencia</th>\n",
       "    </tr>\n",
       "    <tr>\n",
       "      <th>NOMAGLO</th>\n",
       "      <th></th>\n",
       "      <th></th>\n",
       "    </tr>\n",
       "  </thead>\n",
       "  <tbody>\n",
       "    <tr>\n",
       "      <th>CABA</th>\n",
       "      <td>13.0</td>\n",
       "      <td>3.5</td>\n",
       "    </tr>\n",
       "    <tr>\n",
       "      <th>Ushuaia-Rio Grande</th>\n",
       "      <td>22.5</td>\n",
       "      <td>3.5</td>\n",
       "    </tr>\n",
       "    <tr>\n",
       "      <th>Viedma-Patagones</th>\n",
       "      <td>28.7</td>\n",
       "      <td>4.5</td>\n",
       "    </tr>\n",
       "    <tr>\n",
       "      <th>Rio Gallegos</th>\n",
       "      <td>26.5</td>\n",
       "      <td>5.3</td>\n",
       "    </tr>\n",
       "    <tr>\n",
       "      <th>Neuquen</th>\n",
       "      <td>28.8</td>\n",
       "      <td>5.5</td>\n",
       "    </tr>\n",
       "    <tr>\n",
       "      <th>Cdro Rivadavia</th>\n",
       "      <td>32.2</td>\n",
       "      <td>5.6</td>\n",
       "    </tr>\n",
       "    <tr>\n",
       "      <th>Bahia Blanca</th>\n",
       "      <td>27.5</td>\n",
       "      <td>6.4</td>\n",
       "    </tr>\n",
       "    <tr>\n",
       "      <th>Rawson-Trelew</th>\n",
       "      <td>30.5</td>\n",
       "      <td>6.6</td>\n",
       "    </tr>\n",
       "    <tr>\n",
       "      <th>La Plata</th>\n",
       "      <td>28.8</td>\n",
       "      <td>6.6</td>\n",
       "    </tr>\n",
       "    <tr>\n",
       "      <th>Santa Rosa</th>\n",
       "      <td>27.5</td>\n",
       "      <td>6.9</td>\n",
       "    </tr>\n",
       "    <tr>\n",
       "      <th>Mar del Plata</th>\n",
       "      <td>30.1</td>\n",
       "      <td>7.0</td>\n",
       "    </tr>\n",
       "    <tr>\n",
       "      <th>Rio Cuarto</th>\n",
       "      <td>32.4</td>\n",
       "      <td>7.4</td>\n",
       "    </tr>\n",
       "    <tr>\n",
       "      <th>Mendoza</th>\n",
       "      <td>36.2</td>\n",
       "      <td>7.8</td>\n",
       "    </tr>\n",
       "    <tr>\n",
       "      <th>Cordoba</th>\n",
       "      <td>34.3</td>\n",
       "      <td>7.9</td>\n",
       "    </tr>\n",
       "    <tr>\n",
       "      <th>Rosario</th>\n",
       "      <td>32.6</td>\n",
       "      <td>8.8</td>\n",
       "    </tr>\n",
       "    <tr>\n",
       "      <th>San Nicolas</th>\n",
       "      <td>39.7</td>\n",
       "      <td>8.9</td>\n",
       "    </tr>\n",
       "    <tr>\n",
       "      <th>GBA</th>\n",
       "      <td>35.6</td>\n",
       "      <td>8.9</td>\n",
       "    </tr>\n",
       "    <tr>\n",
       "      <th>Catamarca</th>\n",
       "      <td>39.1</td>\n",
       "      <td>9.3</td>\n",
       "    </tr>\n",
       "    <tr>\n",
       "      <th>Parana</th>\n",
       "      <td>36.0</td>\n",
       "      <td>9.5</td>\n",
       "    </tr>\n",
       "    <tr>\n",
       "      <th>San Luis</th>\n",
       "      <td>44.6</td>\n",
       "      <td>9.6</td>\n",
       "    </tr>\n",
       "    <tr>\n",
       "      <th>Jujuy</th>\n",
       "      <td>41.3</td>\n",
       "      <td>10.2</td>\n",
       "    </tr>\n",
       "    <tr>\n",
       "      <th>Salta</th>\n",
       "      <td>40.2</td>\n",
       "      <td>10.9</td>\n",
       "    </tr>\n",
       "    <tr>\n",
       "      <th>La Rioja</th>\n",
       "      <td>53.0</td>\n",
       "      <td>11.6</td>\n",
       "    </tr>\n",
       "    <tr>\n",
       "      <th>San Juan</th>\n",
       "      <td>48.1</td>\n",
       "      <td>11.8</td>\n",
       "    </tr>\n",
       "    <tr>\n",
       "      <th>Tucuman</th>\n",
       "      <td>43.2</td>\n",
       "      <td>11.8</td>\n",
       "    </tr>\n",
       "    <tr>\n",
       "      <th>Santa Fe</th>\n",
       "      <td>39.5</td>\n",
       "      <td>12.1</td>\n",
       "    </tr>\n",
       "    <tr>\n",
       "      <th>Corrientes</th>\n",
       "      <td>39.2</td>\n",
       "      <td>12.6</td>\n",
       "    </tr>\n",
       "    <tr>\n",
       "      <th>Sgo del Estero</th>\n",
       "      <td>45.6</td>\n",
       "      <td>13.3</td>\n",
       "    </tr>\n",
       "    <tr>\n",
       "      <th>Concordia</th>\n",
       "      <td>46.6</td>\n",
       "      <td>13.6</td>\n",
       "    </tr>\n",
       "    <tr>\n",
       "      <th>Fuera de aglom.</th>\n",
       "      <td>45.8</td>\n",
       "      <td>13.7</td>\n",
       "    </tr>\n",
       "    <tr>\n",
       "      <th>Resistencia</th>\n",
       "      <td>47.8</td>\n",
       "      <td>13.8</td>\n",
       "    </tr>\n",
       "    <tr>\n",
       "      <th>Posadas</th>\n",
       "      <td>43.5</td>\n",
       "      <td>14.8</td>\n",
       "    </tr>\n",
       "    <tr>\n",
       "      <th>Formosa</th>\n",
       "      <td>50.5</td>\n",
       "      <td>16.4</td>\n",
       "    </tr>\n",
       "  </tbody>\n",
       "</table>\n",
       "</div>"
      ],
      "text/plain": [
       "                    Pobreza  Indigencia\n",
       "NOMAGLO                                \n",
       "CABA                   13.0         3.5\n",
       "Ushuaia-Rio Grande     22.5         3.5\n",
       "Viedma-Patagones       28.7         4.5\n",
       "Rio Gallegos           26.5         5.3\n",
       "Neuquen                28.8         5.5\n",
       "Cdro Rivadavia         32.2         5.6\n",
       "Bahia Blanca           27.5         6.4\n",
       "Rawson-Trelew          30.5         6.6\n",
       "La Plata               28.8         6.6\n",
       "Santa Rosa             27.5         6.9\n",
       "Mar del Plata          30.1         7.0\n",
       "Rio Cuarto             32.4         7.4\n",
       "Mendoza                36.2         7.8\n",
       "Cordoba                34.3         7.9\n",
       "Rosario                32.6         8.8\n",
       "San Nicolas            39.7         8.9\n",
       "GBA                    35.6         8.9\n",
       "Catamarca              39.1         9.3\n",
       "Parana                 36.0         9.5\n",
       "San Luis               44.6         9.6\n",
       "Jujuy                  41.3        10.2\n",
       "Salta                  40.2        10.9\n",
       "La Rioja               53.0        11.6\n",
       "San Juan               48.1        11.8\n",
       "Tucuman                43.2        11.8\n",
       "Santa Fe               39.5        12.1\n",
       "Corrientes             39.2        12.6\n",
       "Sgo del Estero         45.6        13.3\n",
       "Concordia              46.6        13.6\n",
       "Fuera de aglom.        45.8        13.7\n",
       "Resistencia            47.8        13.8\n",
       "Posadas                43.5        14.8\n",
       "Formosa                50.5        16.4"
      ]
     },
     "execution_count": 5,
     "metadata": {},
     "output_type": "execute_result"
    }
   ],
   "source": [
    "table = 100*data.groupby('NOMAGLO')[['Pobreza', 'Indigencia']].mean().round(3)\n",
    "table.sort_values('Indigencia')"
   ]
  },
  {
   "cell_type": "markdown",
   "metadata": {},
   "source": [
    "# Procesamiento para datasets geograficos"
   ]
  },
  {
   "cell_type": "markdown",
   "metadata": {},
   "source": [
    "### Synthetizer functions"
   ]
  },
  {
   "cell_type": "code",
   "execution_count": 6,
   "metadata": {},
   "outputs": [],
   "source": [
    "### Sintetizadores\n",
    "import datetime as dt\n",
    "import numpy as np\n",
    "\n",
    "## Base Personas\n",
    "def sintetizar_P(data, grouper, frac = 0.02):\n",
    "    df = data.copy()\n",
    "    df['Total'] = True\n",
    "    df['timestamp'] = dt.datetime.today()\n",
    "    n_Qs = df.Q.nunique()\n",
    "    \n",
    "#     # Funciones percentil\n",
    "#     percentiles = [.10, .25, .75, .9, .2]\n",
    "#     quantile_funcs = [(p, lambda x: x.quantile(p)) for p in percentiles]\n",
    "\n",
    "    df = df.groupby(grouper + ['timestamp'])[['Total', 'Pobreza', 'Indigencia','P47T_persona'#, 'Pobreza_5usd'\n",
    "                                             ]].agg(\n",
    "        {'Total': ['mean', 'sum'], 'Pobreza': ['mean', 'sum'], 'Indigencia': ['mean', 'sum'], #'Pobreza_5usd': ['mean', 'sum'], \n",
    "         'P47T_persona':['mean', q10, q25, 'median', q75, q90]})\n",
    "    \n",
    "    df[[('Total', 'sum')]] = (df[[('Total', 'sum')]]/frac).round(1)#.astype(int)\n",
    "    df[[('Pobreza', 'sum')]] = (df[[('Pobreza', 'sum')]]/frac).round(1)#.astype(int)\n",
    "    df[[('Indigencia', 'sum')]] = (df[[('Indigencia', 'sum')]]/frac).round(1)#.astype(int)\n",
    "#     df[[('Pobreza_5usd', 'sum')]] = (df[[('Pobreza_5usd', 'sum')]]/frac).round(1)#.astype(int)\n",
    "    df[[('Total', 'mean')]] = df[[('Total', 'mean')]].round(4)\n",
    "    df[[('Indigencia', 'mean')]] = df[[('Indigencia', 'mean')]].round(4)\n",
    "    df[[('Pobreza', 'mean')]] = df[[('Pobreza', 'mean')]].round(4)\n",
    "#     df[[('Pobreza_5usd', 'mean')]] = df[[('Pobreza_5usd', 'mean')]].round(4)\n",
    "    \n",
    "    df['P47T_persona'] = df['P47T_persona'].round(-1).astype(int)\n",
    "    \n",
    "    dfB = df.T.set_index(np.repeat('Personas', df.shape[1]), append=True)\n",
    "       \n",
    "#     dfB = dfB.stack().stack().stack().reset_index()\n",
    "    stacker_ix = [-i for i in range(len(grouper) + 1)]\n",
    "    dfB = dfB.stack(level = stacker_ix).reset_index()\n",
    "    \n",
    "    dfB = dfB.rename(columns = {'level_0': 'observable', 'level_1': 'sintetico', 'level_2': 'base', 0: 'valor'})\n",
    "    dfB['valor'] = dfB['valor'].astype(float)\n",
    "    return dfB\n",
    "\n",
    "def sintetizar_H(data, grouper, frac = 0.02):\n",
    "    df = data.copy()\n",
    "    df = df.groupby('HOGAR_REF_ID').first()\n",
    "    df['Total'] = True\n",
    "    df['timestamp'] = dt.datetime.today()\n",
    "    n_Qs = df.Q.nunique()\n",
    "\n",
    "#     # Funciones percentil\n",
    "#     percentiles = [.10, .25, .75, .9, .2]\n",
    "#     quantile_funcs = [(p, lambda x: x.quantile(p)) for p in percentiles]\n",
    "\n",
    "    df = df.groupby(grouper + ['timestamp'])[['Total', 'Pobreza', 'Indigencia', 'P47T_hogar', 'CB_EQUIV', 'CBA', #'Pobreza_5usd',\n",
    "                                              'gap_indigencia', 'CBT', 'gap_pobreza']\n",
    "                            ].agg(\n",
    "    {'Total': ['mean', 'sum'], 'Pobreza': ['mean', 'sum'], 'Indigencia': ['mean', 'sum'], #'Pobreza_5usd': ['mean', 'sum'], \n",
    "     'P47T_hogar': ['mean', q10, q25, 'median', q75, q90],\n",
    "     'CB_EQUIV': ['mean', 'median'],     \n",
    "     'CBA': ['sum', 'median'], 'gap_indigencia': ['mean', 'median'], \n",
    "     'CBT': ['sum', 'median'], 'gap_pobreza': ['mean', 'median']})\n",
    "        \n",
    "    df[[('Total', 'sum')]] = (df[[('Total', 'sum')]]/frac/n_Qs).round(1)#.astype(int)\n",
    "    df[[('Pobreza', 'sum')]] = (df[[('Pobreza', 'sum')]]/frac/n_Qs).round(1)#.astype(int)\n",
    "    df[[('Indigencia', 'sum')]] = (df[[('Indigencia', 'sum')]]/frac/n_Qs).round(1)#.astype(int)\n",
    "#     df[[('Pobreza_5usd', 'sum')]] = (df[[('Pobreza_5usd', 'sum')]]/frac).round(1)#.astype(int)\n",
    "    df[[('Total', 'mean')]] = df[[('Total', 'mean')]].round(4)\n",
    "    df[[('Pobreza', 'mean')]] = df[[('Pobreza', 'mean')]].round(4)\n",
    "    df[[('Indigencia', 'mean')]] = df[[('Indigencia', 'mean')]].round(4)\n",
    "#     df[[('Pobreza_5usd', 'mean')]] = (df[[('Pobreza_5usd', 'mean')]]/frac).round(1)#.astype(int)\n",
    "\n",
    "    df['CB_EQUIV'] = df['CB_EQUIV'].round(4)\n",
    "    \n",
    "    df['P47T_hogar'] = df['P47T_hogar'].round(-1).astype(int)\n",
    "    df['CBA'] = df['CBA'].round(-1).astype(int)\n",
    "    df['gap_indigencia'] = df['gap_indigencia'].round(-1).astype(int)\n",
    "    df['CBT'] = df['CBT'].round(-1).astype(int)\n",
    "    df['gap_pobreza'] = df['gap_pobreza'].round(-1).astype(int)\n",
    "    \n",
    "    dfC = df.T.set_index(np.repeat('Hogares', df.shape[1]), append=True)\n",
    "    dfC.index.names = ['observable', 'sintetico', 'base']\n",
    "    \n",
    "#     FrozenList(['observable', 'sintetico', 'base', 'timestamp', 'AGLOMERADO', 'Region', 'Q'])\n",
    "    \n",
    "# #     dfC = dfC.stack().stack().stack().reset_index()\n",
    "    stacker_ix = [-i for i in range(len(grouper) + 1)]\n",
    "    dfC = dfC.stack(level = stacker_ix).reset_index()\n",
    "#     # es como df.stack([-1, -2, -3, -4]) pero se adapta a groupers mas o menos largos\n",
    "#     dfC = dfC.stack(stacker_ix).reset_index()\n",
    "\n",
    "    dfC = dfC.rename(columns = {'level_0': 'observable', 'level_1': 'sintetico', 'level_2': 'base', 0: 'valor'})\n",
    "    dfC['valor'] = dfC['valor'].astype(float)\n",
    "    return dfC\n",
    "\n",
    "# Percentile funcs\n",
    "def q10(x):\n",
    "    return x.quantile(0.1)\n",
    "\n",
    "def q25(x):\n",
    "    return x.quantile(0.25)\n",
    "\n",
    "def q75(x):\n",
    "    return x.quantile(0.75)\n",
    "\n",
    "def q90(x):\n",
    "    return x.quantile(0.9)"
   ]
  },
  {
   "cell_type": "code",
   "execution_count": 7,
   "metadata": {},
   "outputs": [
    {
     "data": {
      "text/plain": [
       "observable    sintetico  base    \n",
       "Indigencia    mean       Personas    24\n",
       "              sum        Personas    24\n",
       "P47T_persona  mean       Personas    24\n",
       "              median     Personas    24\n",
       "              q10        Personas    24\n",
       "              q25        Personas    24\n",
       "              q75        Personas    24\n",
       "              q90        Personas    24\n",
       "Pobreza       mean       Personas    24\n",
       "              sum        Personas    24\n",
       "Total         mean       Personas    24\n",
       "              sum        Personas    24\n",
       "dtype: int64"
      ]
     },
     "execution_count": 7,
     "metadata": {},
     "output_type": "execute_result"
    }
   ],
   "source": [
    "x = sintetizar_P(data, ['PROV'], frac = 0.02)\n",
    "x.groupby(['observable','sintetico','base']).size()"
   ]
  },
  {
   "cell_type": "code",
   "execution_count": 8,
   "metadata": {},
   "outputs": [],
   "source": [
    "# sintetizar_H(data, ['PROV'], frac = 0.02).groupby(['observable','sintetico','base']).size()"
   ]
  },
  {
   "cell_type": "code",
   "execution_count": 9,
   "metadata": {},
   "outputs": [],
   "source": [
    "# # Ej. Personas en pobreza\n",
    "# # df = sintetizar_P(data, ['PROV'], frac = 0.02)\n",
    "# # df.loc[df.sintetico == 'sum'].groupby('observable')['valor'].sum() \n",
    "\n",
    "# Indigencia     6500687.5\n",
    "# Pobreza       21147900.0\n",
    "# Total         44603650.0"
   ]
  },
  {
   "cell_type": "markdown",
   "metadata": {},
   "source": [
    "## Los niveles geograficos disponibles son:\n",
    " - Radios (RADIO_REF_ID)\n",
    " - Fracciones (IDFRAC, no es clave unica)\n",
    " - Dptos (DPTO)\n",
    " - Provs (PROV)\n",
    " - Aglos (AGLOMERADO)\n",
    " - (Region)"
   ]
  },
  {
   "cell_type": "markdown",
   "metadata": {},
   "source": [
    "### Cargar geometrias"
   ]
  },
  {
   "cell_type": "code",
   "execution_count": 10,
   "metadata": {
    "scrolled": true
   },
   "outputs": [],
   "source": [
    "## RADIO REF. Referencia de radios censales segun Censo 2010\n",
    "\n",
    "# radio_ref = pd.read_csv('./radio_ref.csv')\n",
    "# radio_ref['DPTO'] = radio_ref['DPTO'].astype(int)\n",
    "# radio_ref['COD_2010'] = radio_ref['radio'].astype(str).str.zfill(9)\n",
    "\n",
    "## POLIGONOS\n",
    "# admin410_f = './../../IGN_INDEC_georef/censos_shp_CONICET/2010_RADIOS ARGENTINA'\n",
    "admin310_f = './../../IGN_INDEC_georef/censos_shp_CONICET_dissolved/fracs_2010.shp'\n",
    "admin210_f = './../../IGN_INDEC_georef/censos_shp_CONICET_dissolved/dptos_2010.shp'\n",
    "admin1_f = './../../IGN_INDEC_georef/IGN_shp/Provincia/'\n",
    "\n",
    "## Provincias del IGN\n",
    "admin1 = gpd.read_file(admin1_f)  # COD_2010 = '020130302'\n",
    "# admin1['ID'] = admin1.IN1 + '0000000'\n",
    "admin1['PROV'] = admin1.IN1.astype(int)\n",
    "admin1 = admin1[['PROV', 'geometry']]\n",
    "\n",
    "### Poligonos de censo de CONICET.\n",
    "# admin410 = gpd.read_file(admin410_f)  # COD_2010 = '020130302'\n",
    "# admin410['ID'] = admin410['COD_2010']\n",
    "\n",
    "admin310 = gpd.read_file(admin310_f)  \n",
    "admin310['IDFRAC'] = admin310.PROV_ + admin310.DEPTO_ + admin310.FRACC_ + '00'\n",
    "admin310 = admin310[['IDFRAC', 'geometry']]\n",
    "\n",
    "admin210 = gpd.read_file(admin210_f) \n",
    "# admin210['ID'] = admin210.PROV_ + admin210.DEPTO_ + '0000'\n",
    "admin210['DPTO'] = (admin210['PROV_'] + admin210['DEPTO_']).astype(int)\n",
    "admin210 = admin210[['DPTO', 'geometry']]\n",
    "\n",
    "\n",
    "## ADOPTAR CRS del IGN\n",
    "admin210 = admin210.to_crs(admin1.crs)\n",
    "admin310 = admin310.to_crs(admin1.crs)"
   ]
  },
  {
   "cell_type": "code",
   "execution_count": 11,
   "metadata": {},
   "outputs": [],
   "source": [
    "admin1['area_km2'] = admin1['geometry'].to_crs('epsg:3395').map(lambda p: p.area / 10**6)\n",
    "admin210['area_km2'] = admin210['geometry'].to_crs('epsg:3395').map(lambda p: p.area / 10**6)\n",
    "admin310['area_km2'] = admin310['geometry'].to_crs('epsg:3395').map(lambda p: p.area / 10**6)"
   ]
  },
  {
   "cell_type": "code",
   "execution_count": 12,
   "metadata": {},
   "outputs": [
    {
     "data": {
      "text/html": [
       "<div>\n",
       "<style scoped>\n",
       "    .dataframe tbody tr th:only-of-type {\n",
       "        vertical-align: middle;\n",
       "    }\n",
       "\n",
       "    .dataframe tbody tr th {\n",
       "        vertical-align: top;\n",
       "    }\n",
       "\n",
       "    .dataframe thead th {\n",
       "        text-align: right;\n",
       "    }\n",
       "</style>\n",
       "<table border=\"1\" class=\"dataframe\">\n",
       "  <thead>\n",
       "    <tr style=\"text-align: right;\">\n",
       "      <th></th>\n",
       "      <th>IDFRAC</th>\n",
       "      <th>geometry</th>\n",
       "      <th>area_km2</th>\n",
       "    </tr>\n",
       "  </thead>\n",
       "  <tbody>\n",
       "    <tr>\n",
       "      <th>0</th>\n",
       "      <td>020010100</td>\n",
       "      <td>POLYGON ((-58.37431 -34.57871, -58.37431 -34.5...</td>\n",
       "      <td>2.663001</td>\n",
       "    </tr>\n",
       "    <tr>\n",
       "      <th>1</th>\n",
       "      <td>020010200</td>\n",
       "      <td>POLYGON ((-58.37567 -34.58419, -58.37552 -34.5...</td>\n",
       "      <td>0.627842</td>\n",
       "    </tr>\n",
       "    <tr>\n",
       "      <th>2</th>\n",
       "      <td>020010300</td>\n",
       "      <td>POLYGON ((-58.38788 -34.58285, -58.38788 -34.5...</td>\n",
       "      <td>1.302769</td>\n",
       "    </tr>\n",
       "    <tr>\n",
       "      <th>3</th>\n",
       "      <td>020010400</td>\n",
       "      <td>POLYGON ((-58.38650 -34.59284, -58.38650 -34.5...</td>\n",
       "      <td>0.299640</td>\n",
       "    </tr>\n",
       "    <tr>\n",
       "      <th>4</th>\n",
       "      <td>020010500</td>\n",
       "      <td>POLYGON ((-58.38161 -34.59284, -58.38161 -34.5...</td>\n",
       "      <td>0.294890</td>\n",
       "    </tr>\n",
       "  </tbody>\n",
       "</table>\n",
       "</div>"
      ],
      "text/plain": [
       "      IDFRAC                                           geometry  area_km2\n",
       "0  020010100  POLYGON ((-58.37431 -34.57871, -58.37431 -34.5...  2.663001\n",
       "1  020010200  POLYGON ((-58.37567 -34.58419, -58.37552 -34.5...  0.627842\n",
       "2  020010300  POLYGON ((-58.38788 -34.58285, -58.38788 -34.5...  1.302769\n",
       "3  020010400  POLYGON ((-58.38650 -34.59284, -58.38650 -34.5...  0.299640\n",
       "4  020010500  POLYGON ((-58.38161 -34.59284, -58.38161 -34.5...  0.294890"
      ]
     },
     "execution_count": 12,
     "metadata": {},
     "output_type": "execute_result"
    }
   ],
   "source": [
    "admin310.head()"
   ]
  },
  {
   "cell_type": "markdown",
   "metadata": {},
   "source": [
    "### Funcion guardar geojson"
   ]
  },
  {
   "cell_type": "code",
   "execution_count": 13,
   "metadata": {},
   "outputs": [],
   "source": [
    "import os\n",
    "# pip install geopandas\n",
    "import geopandas as gpd\n",
    "\n",
    "\n",
    "def save_geojson(gdf, filename = 'test.geojson'):\n",
    "    if not os.path.exists('./../data/geojson/'):\n",
    "        os.makedirs('./../data/geojson/')\n",
    "    \n",
    "    try:    # Delete if geojson exists, cause overwriting is not supported\n",
    "        os.remove('./../data/geojson/'+filename)\n",
    "    except OSError:\n",
    "        pass\n",
    "    \n",
    "    gdf.to_file('./../data/geojson/'+filename, driver=\"GeoJSON\", encoding='utf-8')\n"
   ]
  },
  {
   "cell_type": "code",
   "execution_count": 14,
   "metadata": {},
   "outputs": [],
   "source": [
    "# # Las variables agrupadoras pueden ser: \n",
    "# groupers = [['Q','Total_pais'], ['Q','AGLOMERADO'], ['Q','Region'], \n",
    "#             ['Q','PROV'], ['Q','DPTO']]"
   ]
  },
  {
   "cell_type": "markdown",
   "metadata": {},
   "source": [
    "## Base: Personas"
   ]
  },
  {
   "cell_type": "code",
   "execution_count": 15,
   "metadata": {},
   "outputs": [
    {
     "name": "stderr",
     "output_type": "stream",
     "text": [
      "<ipython-input-15-f560e0eea319>:4: FutureWarning: In a future version of pandas all arguments of DataFrame.drop except for the argument 'labels' will be keyword-only.\n",
      "  df = df.set_index(list(df.drop('valor', 1).columns)).unstack([0, 1])['valor']\n",
      "/home/miglesia/anaconda3/lib/python3.8/site-packages/geopandas/io/file.py:234: FutureWarning: pandas.Int64Index is deprecated and will be removed from pandas in a future version. Use pandas.Index with the appropriate dtype instead.\n",
      "  pd.Int64Index,\n"
     ]
    }
   ],
   "source": [
    "## PROVINCIAS\n",
    "\n",
    "df = sintetizar_P(data, ['PROV'], frac = 0.02).drop('timestamp', axis = 1)#.groupby(['observable','sintetico','base']).size()\n",
    "df = df.set_index(list(df.drop('valor', 1).columns)).unstack([0, 1])['valor']\n",
    "df.columns = ['_'.join(col) for col in df.columns.values]\n",
    "df = df.reset_index()\n",
    "\n",
    "gdf = gpd.GeoDataFrame(df.merge(admin1), crs = admin1.crs)\n",
    "\n",
    "save_geojson(gdf, filename = 'pobreza_P_PROV.geojson')"
   ]
  },
  {
   "cell_type": "code",
   "execution_count": 16,
   "metadata": {},
   "outputs": [
    {
     "name": "stderr",
     "output_type": "stream",
     "text": [
      "<ipython-input-16-521b0bda4aaa>:3: FutureWarning: In a future version of pandas all arguments of DataFrame.drop except for the argument 'labels' will be keyword-only.\n",
      "  df = df.set_index(list(df.drop('valor', 1).columns)).unstack([0, 1])['valor']\n",
      "/home/miglesia/anaconda3/lib/python3.8/site-packages/geopandas/io/file.py:234: FutureWarning: pandas.Int64Index is deprecated and will be removed from pandas in a future version. Use pandas.Index with the appropriate dtype instead.\n",
      "  pd.Int64Index,\n"
     ]
    }
   ],
   "source": [
    "## DPTOS\n",
    "df = sintetizar_P(data, ['DPTO'], frac = 0.02).drop('timestamp', axis = 1)#.groupby(['observable','sintetico','base']).size()\n",
    "df = df.set_index(list(df.drop('valor', 1).columns)).unstack([0, 1])['valor']\n",
    "df.columns = ['_'.join(col) for col in df.columns.values]\n",
    "df = df.reset_index()\n",
    "\n",
    "gdf = gpd.GeoDataFrame(df.merge(admin210), crs = admin210.crs)\n",
    "\n",
    "save_geojson(gdf, filename = 'pobreza_P_DPTO.geojson')"
   ]
  },
  {
   "cell_type": "code",
   "execution_count": 17,
   "metadata": {},
   "outputs": [
    {
     "data": {
      "text/plain": [
       "<AxesSubplot:>"
      ]
     },
     "execution_count": 17,
     "metadata": {},
     "output_type": "execute_result"
    },
    {
     "data": {
      "image/png": "[encoded data removed]",
      "text/plain": [
       "<Figure size 432x288 with 1 Axes>"
      ]
     },
     "metadata": {
      "needs_background": "light"
     },
     "output_type": "display_data"
    }
   ],
   "source": [
    "gdf.plot('Pobreza_mean')"
   ]
  },
  {
   "cell_type": "code",
   "execution_count": 18,
   "metadata": {},
   "outputs": [],
   "source": [
    "## FRACS\n",
    "data['IDFRAC'] = data['COD_2010'].str[:-2] + '00'\n",
    "df = sintetizar_P(data, ['IDFRAC'], frac = 0.02).drop('timestamp', axis = 1)#.groupby(['observable','sintetico','base']).size()\n",
    "\n",
    "df = df.set_index(list(df.drop('valor', 1).columns)).unstack([0, 1])['valor']\n",
    "df.columns = ['_'.join(col) for col in df.columns.values]\n",
    "df = df.reset_index()\n",
    "\n",
    "gdf = gpd.GeoDataFrame(df.merge(admin310), crs = admin310.crs)\n",
    "\n",
    "save_geojson(gdf, filename = 'pobreza_P_FRAC.geojson')"
   ]
  },
  {
   "cell_type": "code",
   "execution_count": 19,
   "metadata": {},
   "outputs": [],
   "source": [
    "# gdf = gpd.read_file('./../data/geojson/pobreza_P_FRAC.geojson'); gdf = gdf.loc[gdf.PROV.isin(['02', '06'])]"
   ]
  },
  {
   "cell_type": "markdown",
   "metadata": {},
   "source": [
    "## Base: Personas, Mayores de 24."
   ]
  },
  {
   "cell_type": "code",
   "execution_count": null,
   "metadata": {},
   "outputs": [],
   "source": [
    "## PROVINCIAS\n",
    "\n",
    "df = sintetizar_P(data.loc[data.P03 >= 24], ['PROV'], frac = 0.02).drop('timestamp', axis = 1)#.groupby(['observable','sintetico','base']).size()\n",
    "df = df.set_index(list(df.drop('valor', 1).columns)).unstack([0, 1])['valor']\n",
    "df.columns = ['_'.join(col) for col in df.columns.values]\n",
    "df = df.reset_index()\n",
    "\n",
    "gdf = gpd.GeoDataFrame(df.merge(admin1), crs = admin1.crs)\n",
    "\n",
    "save_geojson(gdf, filename = 'pobreza_M24_PROV.geojson')"
   ]
  },
  {
   "cell_type": "code",
   "execution_count": null,
   "metadata": {},
   "outputs": [],
   "source": [
    "gdf.head(1)"
   ]
  },
  {
   "cell_type": "code",
   "execution_count": null,
   "metadata": {},
   "outputs": [],
   "source": [
    "## DPTOS\n",
    "df = sintetizar_P(data.loc[data.P03 >= 24], ['DPTO'], frac = 0.02).drop('timestamp', axis = 1)#.groupby(['observable','sintetico','base']).size()\n",
    "df = df.set_index(list(df.drop('valor', 1).columns)).unstack([0, 1])['valor']\n",
    "df.columns = ['_'.join(col) for col in df.columns.values]\n",
    "df = df.reset_index()\n",
    "\n",
    "gdf = gpd.GeoDataFrame(df.merge(admin210), crs = admin210.crs)\n",
    "\n",
    "save_geojson(gdf, filename = 'pobreza_M24_DPTO.geojson')"
   ]
  },
  {
   "cell_type": "code",
   "execution_count": null,
   "metadata": {},
   "outputs": [],
   "source": [
    "gdf.head(1)"
   ]
  },
  {
   "cell_type": "code",
   "execution_count": null,
   "metadata": {},
   "outputs": [],
   "source": [
    "## FRACS\n",
    "data['IDFRAC'] = data['COD_2010'].str[:-2] + '00'\n",
    "df = sintetizar_P(data.loc[data.P03 >= 24], ['IDFRAC'], frac = 0.02).drop('timestamp', axis = 1)#.groupby(['observable','sintetico','base']).size()\n",
    "\n",
    "df = df.set_index(list(df.drop('valor', 1).columns)).unstack([0, 1])['valor']\n",
    "df.columns = ['_'.join(col) for col in df.columns.values]\n",
    "df = df.reset_index()\n",
    "\n",
    "gdf = gpd.GeoDataFrame(df.merge(admin310), crs = admin310.crs)\n",
    "\n",
    "save_geojson(gdf, filename = 'pobreza_M24_FRAC.geojson')"
   ]
  },
  {
   "cell_type": "markdown",
   "metadata": {},
   "source": [
    "## Base: Personas, Menores de 14."
   ]
  },
  {
   "cell_type": "code",
   "execution_count": null,
   "metadata": {},
   "outputs": [],
   "source": [
    "## PROVINCIAS\n",
    "\n",
    "df = sintetizar_P(data.loc[data.P03 <= 14], ['PROV'], frac = 0.02).drop('timestamp', axis = 1)#.groupby(['observable','sintetico','base']).size()\n",
    "df = df.set_index(list(df.drop('valor', 1).columns)).unstack([0, 1])['valor']\n",
    "df.columns = ['_'.join(col) for col in df.columns.values]\n",
    "df = df.reset_index()\n",
    "\n",
    "gdf = gpd.GeoDataFrame(df.merge(admin1), crs = admin1.crs)\n",
    "\n",
    "save_geojson(gdf, filename = 'pobreza_M14_PROV.geojson')"
   ]
  },
  {
   "cell_type": "code",
   "execution_count": null,
   "metadata": {},
   "outputs": [],
   "source": [
    "gdf.head(1)"
   ]
  },
  {
   "cell_type": "code",
   "execution_count": null,
   "metadata": {},
   "outputs": [],
   "source": [
    "## DPTOS\n",
    "df = sintetizar_P(data.loc[data.P03 <= 14], ['DPTO'], frac = 0.02).drop('timestamp', axis = 1)#.groupby(['observable','sintetico','base']).size()\n",
    "df = df.set_index(list(df.drop('valor', 1).columns)).unstack([0, 1])['valor']\n",
    "df.columns = ['_'.join(col) for col in df.columns.values]\n",
    "df = df.reset_index()\n",
    "\n",
    "gdf = gpd.GeoDataFrame(df.merge(admin210), crs = admin210.crs)\n",
    "\n",
    "save_geojson(gdf, filename = 'pobreza_M14_DPTO.geojson')"
   ]
  },
  {
   "cell_type": "code",
   "execution_count": null,
   "metadata": {},
   "outputs": [],
   "source": [
    "gdf.head(1)"
   ]
  },
  {
   "cell_type": "code",
   "execution_count": null,
   "metadata": {},
   "outputs": [],
   "source": [
    "## FRACS\n",
    "data['IDFRAC'] = data['COD_2010'].str[:-2] + '00'\n",
    "df = sintetizar_P(data.loc[data.P03 <= 14], ['IDFRAC'], frac = 0.02).drop('timestamp', axis = 1)#.groupby(['observable','sintetico','base']).size()\n",
    "\n",
    "df = df.set_index(list(df.drop('valor', 1).columns)).unstack([0, 1])['valor']\n",
    "df.columns = ['_'.join(col) for col in df.columns.values]\n",
    "df = df.reset_index()\n",
    "\n",
    "gdf = gpd.GeoDataFrame(df.merge(admin310), crs = admin310.crs)\n",
    "\n",
    "save_geojson(gdf, filename = 'pobreza_M14_FRAC.geojson')"
   ]
  },
  {
   "cell_type": "markdown",
   "metadata": {},
   "source": [
    "## Base: Personas, Menores de 6."
   ]
  },
  {
   "cell_type": "code",
   "execution_count": null,
   "metadata": {},
   "outputs": [],
   "source": [
    "## PROVINCIAS\n",
    "\n",
    "df = sintetizar_P(data.loc[data.P03 <= 6], ['PROV'], frac = 0.02).drop('timestamp', axis = 1)#.groupby(['observable','sintetico','base']).size()\n",
    "df = df.set_index(list(df.drop('valor', 1).columns)).unstack([0, 1])['valor']\n",
    "df.columns = ['_'.join(col) for col in df.columns.values]\n",
    "df = df.reset_index()\n",
    "\n",
    "gdf = gpd.GeoDataFrame(df.merge(admin1), crs = admin1.crs)\n",
    "\n",
    "save_geojson(gdf, filename = 'pobreza_M6_PROV.geojson')"
   ]
  },
  {
   "cell_type": "code",
   "execution_count": null,
   "metadata": {},
   "outputs": [],
   "source": [
    "gdf.head(1)"
   ]
  },
  {
   "cell_type": "code",
   "execution_count": null,
   "metadata": {},
   "outputs": [],
   "source": [
    "## DPTOS\n",
    "df = sintetizar_P(data.loc[data.P03 <= 6], ['DPTO'], frac = 0.02).drop('timestamp', axis = 1)#.groupby(['observable','sintetico','base']).size()\n",
    "df = df.set_index(list(df.drop('valor', 1).columns)).unstack([0, 1])['valor']\n",
    "df.columns = ['_'.join(col) for col in df.columns.values]\n",
    "df = df.reset_index()\n",
    "\n",
    "gdf = gpd.GeoDataFrame(df.merge(admin210), crs = admin210.crs)\n",
    "\n",
    "save_geojson(gdf, filename = 'pobreza_M6_DPTO.geojson')"
   ]
  },
  {
   "cell_type": "code",
   "execution_count": null,
   "metadata": {},
   "outputs": [],
   "source": [
    "gdf.head(1)"
   ]
  },
  {
   "cell_type": "code",
   "execution_count": null,
   "metadata": {},
   "outputs": [],
   "source": [
    "## FRACS\n",
    "data['IDFRAC'] = data['COD_2010'].str[:-2] + '00'\n",
    "df = sintetizar_P(data.loc[data.P03 <= 6], ['IDFRAC'], frac = 0.02).drop('timestamp', axis = 1)#.groupby(['observable','sintetico','base']).size()\n",
    "\n",
    "df = df.set_index(list(df.drop('valor', 1).columns)).unstack([0, 1])['valor']\n",
    "df.columns = ['_'.join(col) for col in df.columns.values]\n",
    "df = df.reset_index()\n",
    "\n",
    "gdf = gpd.GeoDataFrame(df.merge(admin310), crs = admin310.crs)\n",
    "\n",
    "save_geojson(gdf, filename = 'pobreza_M6_FRAC.geojson')"
   ]
  },
  {
   "cell_type": "markdown",
   "metadata": {},
   "source": [
    "## Base: Hogares"
   ]
  },
  {
   "cell_type": "code",
   "execution_count": null,
   "metadata": {},
   "outputs": [],
   "source": [
    "## PROVINCIAS\n",
    "\n",
    "df = sintetizar_H(data, ['PROV'], frac = 0.02).drop('timestamp', axis = 1)#.groupby(['observable','sintetico','base']).size()\n",
    "df = df.set_index(list(df.drop('valor', 1).columns)).unstack([0, 1])['valor']\n",
    "df.columns = ['_'.join(col) for col in df.columns.values]\n",
    "df = df.reset_index()\n",
    "\n",
    "gdf = gpd.GeoDataFrame(df.merge(admin1), crs = admin1.crs)\n",
    "\n",
    "save_geojson(gdf, filename = 'pobreza_H_PROV.geojson')"
   ]
  },
  {
   "cell_type": "code",
   "execution_count": null,
   "metadata": {},
   "outputs": [],
   "source": [
    "gdf.head(1)"
   ]
  },
  {
   "cell_type": "code",
   "execution_count": null,
   "metadata": {},
   "outputs": [],
   "source": [
    "## DPTOS\n",
    "df = sintetizar_H(data, ['DPTO'], frac = 0.02).drop('timestamp', axis = 1)#.groupby(['observable','sintetico','base']).size()\n",
    "df = df.set_index(list(df.drop('valor', 1).columns)).unstack([0, 1])['valor']\n",
    "df.columns = ['_'.join(col) for col in df.columns.values]\n",
    "df = df.reset_index()\n",
    "\n",
    "gdf = gpd.GeoDataFrame(df.merge(admin210), crs = admin210.crs)\n",
    "\n",
    "save_geojson(gdf, filename = 'pobreza_H_DPTO.geojson')"
   ]
  },
  {
   "cell_type": "code",
   "execution_count": null,
   "metadata": {},
   "outputs": [],
   "source": [
    "gdf.head(1)"
   ]
  },
  {
   "cell_type": "code",
   "execution_count": null,
   "metadata": {},
   "outputs": [],
   "source": [
    "## FRACS\n",
    "data['IDFRAC'] = data['COD_2010'].str[:-2] + '00'\n",
    "df = sintetizar_H(data, ['IDFRAC'], frac = 0.02).drop('timestamp', axis = 1)#.groupby(['observable','sintetico','base']).size()\n",
    "\n",
    "df = df.set_index(list(df.drop('valor', 1).columns)).unstack([0, 1])['valor']\n",
    "df.columns = ['_'.join(col) for col in df.columns.values]\n",
    "df = df.reset_index()\n",
    "\n",
    "gdf = gpd.GeoDataFrame(df.merge(admin310), crs = admin310.crs)\n",
    "\n",
    "save_geojson(gdf, filename = 'pobreza_H_FRAC.geojson')"
   ]
  },
  {
   "cell_type": "code",
   "execution_count": null,
   "metadata": {},
   "outputs": [],
   "source": [
    "xx"
   ]
  },
  {
   "cell_type": "markdown",
   "metadata": {},
   "source": [
    "## Comandos Mapbox CLI"
   ]
  },
  {
   "cell_type": "code",
   "execution_count": null,
   "metadata": {},
   "outputs": [],
   "source": [
    "## Repetir para Hogares, para M24, M14, etc.\n",
    "\n",
    "## Atenti, mandarlo a disco duro, no a drive"
   ]
  },
  {
   "cell_type": "code",
   "execution_count": null,
   "metadata": {},
   "outputs": [],
   "source": [
    "cd /media/miglesia/Elements/suite/indice-pobreza-ExactasUBA/data\n",
    "export MAPBOX_ACCESS_TOKEN=sk.eyJ1IjoibWF0dXRlaWdsZXNpYXMyIiwiYSI6ImNrb3lvMWZyajAxZncycG8ycnJkaTI1ZjYifQ.LXJGImmBgQtWWrNOC1wTcA"
   ]
  },
  {
   "cell_type": "code",
   "execution_count": null,
   "metadata": {},
   "outputs": [],
   "source": [
    "tilesets delete-source -f matuteiglesias2 income_provs_H\n",
    "tilesets delete-source -f matuteiglesias2 income_dptos_H\n",
    "tilesets delete-source -f matuteiglesias2 income_fracs_H\n",
    "\n",
    "tilesets delete -f matuteiglesias2.income_H\n",
    "\n",
    "## HOGARES. \n",
    "# (REPEAT FOR PERSONAS, M24, ETC.)\n",
    "tilesets upload-source matuteiglesias2 income_provs_H ./geojson/pobreza_H_PROV.geojson\n",
    "tilesets upload-source matuteiglesias2 income_dptos_H ./geojson/pobreza_H_DPTO.geojson\n",
    "tilesets upload-source matuteiglesias2 income_fracs_H ./geojson/pobreza_H_FRAC.geojson\n",
    "\n",
    "# # tilesets create username.hello-world-tiles --recipe hello-world-recipe.json --name \"hello world\"\n",
    "tilesets create matuteiglesias2.income_H202209 --recipe ./geojson/pobreza_H-recipe.json --name \"Ingresos y Pobreza - Hogares\"\n",
    "tilesets publish matuteiglesias2.income_H202209\n"
   ]
  },
  {
   "cell_type": "code",
   "execution_count": null,
   "metadata": {},
   "outputs": [],
   "source": [
    "tilesets delete-source -f matuteiglesias2 income_provs_P\n",
    "tilesets delete-source -f matuteiglesias2 income_dptos_P\n",
    "tilesets delete-source -f matuteiglesias2 income_fracs_P\n",
    "\n",
    "tilesets delete -f matuteiglesias2.income_P\n",
    "\n",
    "## REPEAT FOR PERSONAS\n",
    "tilesets upload-source matuteiglesias2 income_provs_P ./geojson/pobreza_P_PROV.geojson\n",
    "tilesets upload-source matuteiglesias2 income_dptos_P ./geojson/pobreza_P_DPTO.geojson\n",
    "tilesets upload-source matuteiglesias2 income_fracs_P ./geojson/pobreza_P_FRAC.geojson\n",
    "\n",
    "tilesets create matuteiglesias2.income_P202209 --recipe ./geojson/pobreza_P-recipe.json --name \"Ingresos y Pobreza - Personas\"\n",
    "tilesets publish matuteiglesias2.income_P202209\n"
   ]
  },
  {
   "cell_type": "code",
   "execution_count": null,
   "metadata": {},
   "outputs": [],
   "source": [
    "tilesets delete-source -f matuteiglesias2 income_provs_M24\n",
    "tilesets delete-source -f matuteiglesias2 income_dptos_M24\n",
    "tilesets delete-source -f matuteiglesias2 income_fracs_M24\n",
    "\n",
    "tilesets delete -f matuteiglesias2.income_M24\n",
    "\n",
    "## REPEAT FOR Mayores de 24\n",
    "\n",
    "tilesets upload-source matuteiglesias2 income_provs_M24 ./geojson/pobreza_M24_PROV.geojson\n",
    "tilesets upload-source matuteiglesias2 income_dptos_M24 ./geojson/pobreza_M24_DPTO.geojson\n",
    "tilesets upload-source matuteiglesias2 income_fracs_M24 ./geojson/pobreza_M24_FRAC.geojson\n",
    "\n",
    "tilesets create matuteiglesias2.income_M24202209 --recipe ./geojson/pobreza_M24-recipe.json --name \"Ingresos y Pobreza - Mayores de 24\"\n",
    "tilesets publish matuteiglesias2.income_M24202209\n"
   ]
  },
  {
   "cell_type": "code",
   "execution_count": null,
   "metadata": {},
   "outputs": [],
   "source": [
    "tilesets delete-source -f matuteiglesias2 income_provs_M14\n",
    "tilesets delete-source -f matuteiglesias2 income_dptos_M14\n",
    "tilesets delete-source -f matuteiglesias2 income_fracs_M14\n",
    "\n",
    "tilesets delete -f matuteiglesias2.income_M14\n",
    "\n",
    "## REPEAT FOR Menores de 14\n",
    "tilesets upload-source matuteiglesias2 income_provs_M14 ./geojson/pobreza_M14_PROV.geojson\n",
    "tilesets upload-source matuteiglesias2 income_dptos_M14 ./geojson/pobreza_M14_DPTO.geojson\n",
    "tilesets upload-source matuteiglesias2 income_fracs_M14 ./geojson/pobreza_M14_FRAC.geojson\n",
    "\n",
    "tilesets create matuteiglesias2.income_M14202209 --recipe ./geojson/pobreza_M14-recipe.json --name \"Ingresos y Pobreza - Menores de 14\"\n",
    "tilesets publish matuteiglesias2.income_M14202209\n"
   ]
  },
  {
   "cell_type": "code",
   "execution_count": null,
   "metadata": {},
   "outputs": [],
   "source": [
    "tilesets delete-source -f matuteiglesias2 income_provs_M6\n",
    "tilesets delete-source -f matuteiglesias2 income_dptos_M6\n",
    "tilesets delete-source -f matuteiglesias2 income_fracs_M6\n",
    "\n",
    "tilesets delete -f matuteiglesias2.income_M6\n",
    "\n",
    "## REPEAT FOR Menores de 6\n",
    "tilesets upload-source matuteiglesias2 income_provs_M6 ./geojson/pobreza_M6_PROV.geojson\n",
    "tilesets upload-source matuteiglesias2 income_dptos_M6 ./geojson/pobreza_M6_DPTO.geojson\n",
    "tilesets upload-source matuteiglesias2 income_fracs_M6 ./geojson/pobreza_M6_FRAC.geojson\n",
    "\n",
    "tilesets create matuteiglesias2.income_M6202209 --recipe ./geojson/pobreza_M6-recipe.json --name \"Ingresos y Pobreza - Menores de 6\"\n",
    "tilesets publish matuteiglesias2.income_M6202209\n"
   ]
  },
  {
   "cell_type": "code",
   "execution_count": null,
   "metadata": {},
   "outputs": [],
   "source": [
    "\n",
    "# # tilesets upload-source username populated-places-source /path/to/data/populated_places.geojson.ld\n",
    "\n",
    "# tilesets upload-source matuteiglesias2 income_provs ./geojson/pobreza_P_PROV.geojson\n",
    "# tilesets upload-source matuteiglesias2 income_dptos ./geojson/pobreza_P_DPTO.geojson\n",
    "# tilesets upload-source matuteiglesias2 income_fracs ./geojson/pobreza_P_FRAC.geojson\n",
    "\n",
    "\n",
    "# tilesets delete-source matuteiglesias2 s\n"
   ]
  },
  {
   "cell_type": "code",
   "execution_count": null,
   "metadata": {},
   "outputs": [],
   "source": [
    "# gdf = gpd.read_file('./../data/geojson/pobreza_H_PROV.geojson')\n",
    "# gdf"
   ]
  },
  {
   "cell_type": "code",
   "execution_count": null,
   "metadata": {},
   "outputs": [],
   "source": [
    "# export MAPBOX_ACCESS_TOKEN=sk.eyJ1IjoibWF0dXRlaWdsZXNpYXMyIiwiYSI6ImNrb3lvMWZyajAxZncycG8ycnJkaTI1ZjYifQ.LXJGImmBgQtWWrNOC1wTcA\n",
    "\n",
    "# # tilesets upload-source username populated-places-source /path/to/data/populated_places.geojson.ld\n",
    "# cd /media/miglesia/Elements/suite/indice-pobreza-ExactasUBA/data\n",
    "\n",
    "# tilesets upload-source matuteiglesias2 pobreza_v2 ./geojson/pobreza_P_PROV.geojson\n",
    "# tilesets upload-source matuteiglesias2 pobreza_v2 ./geojson/pobreza_P_DPTO.geojson\n",
    "\n",
    "# # tilesets create username.hello-world-tiles --recipe hello-world-recipe.json --name \"hello world\"\n",
    "# tilesets create matuteiglesias2.personas2 --recipe ./geojson/pobreza-recipe.json --name \"Ingresos y Pobreza - Personas2\"\n",
    "# tilesets publish matuteiglesias2.personas2\n"
   ]
  },
  {
   "cell_type": "code",
   "execution_count": null,
   "metadata": {},
   "outputs": [],
   "source": [
    ">>> import seaborn as sns\n",
    ">>> pal = sns.color_palette(\"RdYlGn_r\", 10)\n",
    ">>> print(pal.as_hex())\n"
   ]
  },
  {
   "cell_type": "code",
   "execution_count": null,
   "metadata": {},
   "outputs": [],
   "source": [
    ">>> import seaborn as sns\n",
    ">>> pal = sns.color_palette(\"cool\", 10)\n",
    ">>> print(pal.as_hex())"
   ]
  },
  {
   "cell_type": "code",
   "execution_count": null,
   "metadata": {},
   "outputs": [],
   "source": []
  }
 ],
 "metadata": {
  "kernelspec": {
   "display_name": "Python 3",
   "language": "python",
   "name": "python3"
  },
  "language_info": {
   "codemirror_mode": {
    "name": "ipython",
    "version": 3
   },
   "file_extension": ".py",
   "mimetype": "text/x-python",
   "name": "python",
   "nbconvert_exporter": "python",
   "pygments_lexer": "ipython3",
   "version": "3.8.5"
  }
 },
 "nbformat": 4,
 "nbformat_minor": 4
}
