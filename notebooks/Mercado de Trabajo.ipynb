{
 "cells": [
  {
   "cell_type": "code",
   "execution_count": 1,
   "metadata": {},
   "outputs": [],
   "source": [
    "import pandas as pd"
   ]
  },
  {
   "cell_type": "code",
   "execution_count": 2,
   "metadata": {},
   "outputs": [],
   "source": [
    "import glob\n",
    "frac = 0.01\n",
    "# path ='./data/RFReg_' # use your path\n",
    "path ='./../data/Pobreza/pobreza_' # use your path\n",
    "\n",
    "allFiles = []\n",
    "allFiles += glob.glob(path+str(frac)+'_q*.csv')\n",
    "allFiles = sorted(allFiles)\n",
    "# allFiles[-23:]"
   ]
  },
  {
   "cell_type": "code",
   "execution_count": 3,
   "metadata": {},
   "outputs": [
    {
     "name": "stdout",
     "output_type": "stream",
     "text": [
      "./../data/Pobreza/pobreza_0.01_q2016-05-15.csv\n",
      "./../data/Pobreza/pobreza_0.01_q2016-08-15.csv\n",
      "./../data/Pobreza/pobreza_0.01_q2016-11-15.csv\n",
      "./../data/Pobreza/pobreza_0.01_q2017-02-15.csv\n",
      "./../data/Pobreza/pobreza_0.01_q2017-05-15.csv\n",
      "./../data/Pobreza/pobreza_0.01_q2017-08-15.csv\n",
      "./../data/Pobreza/pobreza_0.01_q2017-11-15.csv\n",
      "./../data/Pobreza/pobreza_0.01_q2018-02-15.csv\n",
      "./../data/Pobreza/pobreza_0.01_q2018-05-15.csv\n",
      "./../data/Pobreza/pobreza_0.01_q2018-08-15.csv\n",
      "./../data/Pobreza/pobreza_0.01_q2018-11-15.csv\n",
      "./../data/Pobreza/pobreza_0.01_q2019-02-15.csv\n",
      "./../data/Pobreza/pobreza_0.01_q2019-05-15.csv\n",
      "./../data/Pobreza/pobreza_0.01_q2019-08-15.csv\n",
      "./../data/Pobreza/pobreza_0.01_q2019-11-15.csv\n",
      "./../data/Pobreza/pobreza_0.01_q2020-02-15.csv\n",
      "./../data/Pobreza/pobreza_0.01_q2020-05-15.csv\n",
      "./../data/Pobreza/pobreza_0.01_q2020-08-15.csv\n",
      "./../data/Pobreza/pobreza_0.01_q2020-11-15.csv\n",
      "./../data/Pobreza/pobreza_0.01_q2021-02-15.csv\n",
      "./../data/Pobreza/pobreza_0.01_q2021-05-15.csv\n",
      "./../data/Pobreza/pobreza_0.01_q2021-08-15.csv\n",
      "./../data/Pobreza/pobreza_0.01_q2021-11-15.csv\n"
     ]
    }
   ],
   "source": [
    "data_list = []\n",
    "\n",
    "for f in allFiles[-23:]:\n",
    "    print(f)\n",
    "    data = pd.read_csv(f, usecols = ['ANO4', 'Q', 'CONDACT', 'CAT_OCUP', 'PP07K', 'AGLOMERADO'])\n",
    "    data['AGLO_si'] = data.AGLOMERADO != 0\n",
    "    \n",
    "    data_list += [data]\n",
    "    \n",
    "data = pd.concat(data_list)"
   ]
  },
  {
   "cell_type": "code",
   "execution_count": 4,
   "metadata": {},
   "outputs": [],
   "source": [
    "df = data.loc[data.AGLOMERADO != 0]\n"
   ]
  },
  {
   "cell_type": "code",
   "execution_count": 5,
   "metadata": {},
   "outputs": [],
   "source": [
    "# x = df.CONDACT.value_counts()\n",
    "# x/x.sum()"
   ]
  },
  {
   "cell_type": "code",
   "execution_count": null,
   "metadata": {},
   "outputs": [],
   "source": []
  },
  {
   "cell_type": "code",
   "execution_count": 6,
   "metadata": {},
   "outputs": [],
   "source": [
    "p0 = df.groupby(['ANO4', 'Q']).size().reset_index(name='Pob Tot')\n",
    "\n",
    "p1 = df.groupby(['ANO4', 'Q']).apply(lambda x: (x['CONDACT'].isin([0, 3])).sum()).reset_index(name='Inactivos')\n",
    "\n",
    "p2 = df.groupby(['ANO4', 'Q']).apply(lambda x: (x['CONDACT'].isin([1, 2])).sum()).reset_index(name='PEA')\n",
    "\n",
    "p3 = df.groupby(['ANO4', 'Q']).apply(lambda x: (x['CONDACT'] == 1).sum()).reset_index(name='Ocupados')\n",
    "\n",
    "p4 = df.groupby(['ANO4', 'Q']).apply(lambda x: (x['CONDACT'] == 2).sum()).reset_index(name='Desocupados')\n",
    "\n",
    "p5 = df.groupby(['ANO4', 'Q']).apply(lambda x: ((x['CONDACT'] == 1) & (x['CAT_OCUP'] == 3)).sum()).reset_index(name='Asalariados')\n",
    "\n",
    "p6 = df.groupby(['ANO4', 'Q']).apply(lambda x: ((x['CONDACT'] == 1) & (x['CAT_OCUP'] != 3)).sum()).reset_index(name='No Asalariados')\n",
    "\n",
    "p7 = df.groupby(['ANO4', 'Q']).apply(lambda x: ((x['CONDACT'] == 1) & \n",
    "                                           (x['CAT_OCUP'] == 3) &\n",
    "                                          (x['PP07K'] != 4)).sum()).reset_index(name='Formales')\n",
    "\n",
    "p8 = df.groupby(['ANO4', 'Q']).apply(lambda x: ((x['CONDACT'] == 1) & \n",
    "                                           (x['CAT_OCUP'] == 3) &\n",
    "                                          (x['PP07K'] == 4)).sum()).reset_index(name='Informales')"
   ]
  },
  {
   "cell_type": "code",
   "execution_count": 7,
   "metadata": {},
   "outputs": [],
   "source": [
    "info = p0.merge(p1).merge(p2).merge(p3).merge(p4).merge(p5).merge(p6).merge(p7).merge(p8)"
   ]
  },
  {
   "cell_type": "code",
   "execution_count": 8,
   "metadata": {},
   "outputs": [],
   "source": [
    "info = info.set_index(['ANO4', 'Q'])\n",
    "info = info/frac"
   ]
  },
  {
   "cell_type": "code",
   "execution_count": 9,
   "metadata": {},
   "outputs": [],
   "source": [
    "info['Tasa Empleo'] = info['Ocupados']/info['Pob Tot']\n",
    "info['Tasa Activ'] = info['PEA']/info['Pob Tot']\n",
    "info['Tasa Desoc'] = info['Desocupados']/info['PEA']"
   ]
  },
  {
   "cell_type": "code",
   "execution_count": 10,
   "metadata": {},
   "outputs": [],
   "source": [
    "import matplotlib.pyplot as plt"
   ]
  },
  {
   "cell_type": "code",
   "execution_count": 17,
   "metadata": {},
   "outputs": [
    {
     "data": {
      "image/png": "[encoded data removed]",
      "text/plain": [
       "<Figure size 432x360 with 1 Axes>"
      ]
     },
     "metadata": {
      "needs_background": "light"
     },
     "output_type": "display_data"
    }
   ],
   "source": [
    "\n",
    "fig, axs = plt.subplots(1, figsize = (6, 5))\n",
    "\n",
    "(100*info[['Tasa Empleo', 'Tasa Activ']]).plot(marker = '.', ax = axs)\n",
    "\n",
    "axs.set_ylim(20, 55)\n",
    "axs.grid(lw = .5, linestyle = '--')\n",
    "plt.xticks(rotation=45, ha='right')\n",
    "plt.tight_layout()\n",
    "plt.savefig('test1.jpg')\n",
    "plt.show()"
   ]
  },
  {
   "cell_type": "code",
   "execution_count": 12,
   "metadata": {},
   "outputs": [
    {
     "data": {
      "text/html": [
       "<div>\n",
       "<style scoped>\n",
       "    .dataframe tbody tr th:only-of-type {\n",
       "        vertical-align: middle;\n",
       "    }\n",
       "\n",
       "    .dataframe tbody tr th {\n",
       "        vertical-align: top;\n",
       "    }\n",
       "\n",
       "    .dataframe thead th {\n",
       "        text-align: right;\n",
       "    }\n",
       "</style>\n",
       "<table border=\"1\" class=\"dataframe\">\n",
       "  <thead>\n",
       "    <tr style=\"text-align: right;\">\n",
       "      <th></th>\n",
       "      <th></th>\n",
       "      <th>Tasa Empleo</th>\n",
       "      <th>Tasa Activ</th>\n",
       "      <th>Tasa Desoc</th>\n",
       "    </tr>\n",
       "    <tr>\n",
       "      <th>ANO4</th>\n",
       "      <th>Q</th>\n",
       "      <th></th>\n",
       "      <th></th>\n",
       "      <th></th>\n",
       "    </tr>\n",
       "  </thead>\n",
       "  <tbody>\n",
       "    <tr>\n",
       "      <th rowspan=\"3\" valign=\"top\">2016</th>\n",
       "      <th>2016-05-15</th>\n",
       "      <td>47.8</td>\n",
       "      <td>52.2</td>\n",
       "      <td>8.4</td>\n",
       "    </tr>\n",
       "    <tr>\n",
       "      <th>2016-08-15</th>\n",
       "      <td>48.1</td>\n",
       "      <td>52.2</td>\n",
       "      <td>7.8</td>\n",
       "    </tr>\n",
       "    <tr>\n",
       "      <th>2016-11-15</th>\n",
       "      <td>48.5</td>\n",
       "      <td>52.2</td>\n",
       "      <td>7.0</td>\n",
       "    </tr>\n",
       "    <tr>\n",
       "      <th rowspan=\"4\" valign=\"top\">2017</th>\n",
       "      <th>2017-02-15</th>\n",
       "      <td>48.0</td>\n",
       "      <td>52.3</td>\n",
       "      <td>8.3</td>\n",
       "    </tr>\n",
       "    <tr>\n",
       "      <th>2017-05-15</th>\n",
       "      <td>48.2</td>\n",
       "      <td>52.3</td>\n",
       "      <td>7.9</td>\n",
       "    </tr>\n",
       "    <tr>\n",
       "      <th>2017-08-15</th>\n",
       "      <td>48.4</td>\n",
       "      <td>52.3</td>\n",
       "      <td>7.6</td>\n",
       "    </tr>\n",
       "    <tr>\n",
       "      <th>2017-11-15</th>\n",
       "      <td>48.8</td>\n",
       "      <td>52.3</td>\n",
       "      <td>6.6</td>\n",
       "    </tr>\n",
       "    <tr>\n",
       "      <th rowspan=\"4\" valign=\"top\">2018</th>\n",
       "      <th>2018-02-15</th>\n",
       "      <td>47.9</td>\n",
       "      <td>52.2</td>\n",
       "      <td>8.2</td>\n",
       "    </tr>\n",
       "    <tr>\n",
       "      <th>2018-05-15</th>\n",
       "      <td>47.7</td>\n",
       "      <td>52.2</td>\n",
       "      <td>8.6</td>\n",
       "    </tr>\n",
       "    <tr>\n",
       "      <th>2018-08-15</th>\n",
       "      <td>48.0</td>\n",
       "      <td>52.2</td>\n",
       "      <td>8.1</td>\n",
       "    </tr>\n",
       "    <tr>\n",
       "      <th>2018-11-15</th>\n",
       "      <td>47.9</td>\n",
       "      <td>52.2</td>\n",
       "      <td>8.2</td>\n",
       "    </tr>\n",
       "    <tr>\n",
       "      <th rowspan=\"4\" valign=\"top\">2019</th>\n",
       "      <th>2019-02-15</th>\n",
       "      <td>47.5</td>\n",
       "      <td>52.2</td>\n",
       "      <td>9.1</td>\n",
       "    </tr>\n",
       "    <tr>\n",
       "      <th>2019-05-15</th>\n",
       "      <td>47.3</td>\n",
       "      <td>52.2</td>\n",
       "      <td>9.4</td>\n",
       "    </tr>\n",
       "    <tr>\n",
       "      <th>2019-08-15</th>\n",
       "      <td>47.7</td>\n",
       "      <td>52.2</td>\n",
       "      <td>8.7</td>\n",
       "    </tr>\n",
       "    <tr>\n",
       "      <th>2019-11-15</th>\n",
       "      <td>48.0</td>\n",
       "      <td>52.2</td>\n",
       "      <td>8.0</td>\n",
       "    </tr>\n",
       "    <tr>\n",
       "      <th rowspan=\"4\" valign=\"top\">2020</th>\n",
       "      <th>2020-02-15</th>\n",
       "      <td>47.3</td>\n",
       "      <td>52.1</td>\n",
       "      <td>9.4</td>\n",
       "    </tr>\n",
       "    <tr>\n",
       "      <th>2020-05-15</th>\n",
       "      <td>46.0</td>\n",
       "      <td>52.1</td>\n",
       "      <td>11.7</td>\n",
       "    </tr>\n",
       "    <tr>\n",
       "      <th>2020-08-15</th>\n",
       "      <td>46.7</td>\n",
       "      <td>52.1</td>\n",
       "      <td>10.4</td>\n",
       "    </tr>\n",
       "    <tr>\n",
       "      <th>2020-11-15</th>\n",
       "      <td>47.0</td>\n",
       "      <td>52.1</td>\n",
       "      <td>9.8</td>\n",
       "    </tr>\n",
       "    <tr>\n",
       "      <th rowspan=\"4\" valign=\"top\">2021</th>\n",
       "      <th>2021-02-15</th>\n",
       "      <td>47.6</td>\n",
       "      <td>52.4</td>\n",
       "      <td>9.1</td>\n",
       "    </tr>\n",
       "    <tr>\n",
       "      <th>2021-05-15</th>\n",
       "      <td>47.9</td>\n",
       "      <td>52.4</td>\n",
       "      <td>8.6</td>\n",
       "    </tr>\n",
       "    <tr>\n",
       "      <th>2021-08-15</th>\n",
       "      <td>48.5</td>\n",
       "      <td>52.4</td>\n",
       "      <td>7.4</td>\n",
       "    </tr>\n",
       "    <tr>\n",
       "      <th>2021-11-15</th>\n",
       "      <td>49.1</td>\n",
       "      <td>52.4</td>\n",
       "      <td>6.4</td>\n",
       "    </tr>\n",
       "  </tbody>\n",
       "</table>\n",
       "</div>"
      ],
      "text/plain": [
       "                 Tasa Empleo  Tasa Activ  Tasa Desoc\n",
       "ANO4 Q                                              \n",
       "2016 2016-05-15         47.8        52.2         8.4\n",
       "     2016-08-15         48.1        52.2         7.8\n",
       "     2016-11-15         48.5        52.2         7.0\n",
       "2017 2017-02-15         48.0        52.3         8.3\n",
       "     2017-05-15         48.2        52.3         7.9\n",
       "     2017-08-15         48.4        52.3         7.6\n",
       "     2017-11-15         48.8        52.3         6.6\n",
       "2018 2018-02-15         47.9        52.2         8.2\n",
       "     2018-05-15         47.7        52.2         8.6\n",
       "     2018-08-15         48.0        52.2         8.1\n",
       "     2018-11-15         47.9        52.2         8.2\n",
       "2019 2019-02-15         47.5        52.2         9.1\n",
       "     2019-05-15         47.3        52.2         9.4\n",
       "     2019-08-15         47.7        52.2         8.7\n",
       "     2019-11-15         48.0        52.2         8.0\n",
       "2020 2020-02-15         47.3        52.1         9.4\n",
       "     2020-05-15         46.0        52.1        11.7\n",
       "     2020-08-15         46.7        52.1        10.4\n",
       "     2020-11-15         47.0        52.1         9.8\n",
       "2021 2021-02-15         47.6        52.4         9.1\n",
       "     2021-05-15         47.9        52.4         8.6\n",
       "     2021-08-15         48.5        52.4         7.4\n",
       "     2021-11-15         49.1        52.4         6.4"
      ]
     },
     "execution_count": 12,
     "metadata": {},
     "output_type": "execute_result"
    }
   ],
   "source": [
    "info[['Tasa Empleo', 'Tasa Activ', 'Tasa Desoc']].round(3)*100\n"
   ]
  },
  {
   "cell_type": "code",
   "execution_count": 18,
   "metadata": {},
   "outputs": [
    {
     "data": {
      "image/png": "[encoded data removed]",
      "text/plain": [
       "<Figure size 432x288 with 1 Axes>"
      ]
     },
     "metadata": {
      "needs_background": "light"
     },
     "output_type": "display_data"
    }
   ],
   "source": [
    "\n",
    "\n",
    "fig, axs = plt.subplots(1, figsize = (6, 4))\n",
    "\n",
    "(100*info[['Tasa Desoc']]).plot(marker = '.', ax = axs)\n",
    "\n",
    "axs.set_ylim(0, 32)\n",
    "axs.grid(lw = .5, linestyle = '--')\n",
    "plt.xticks(rotation=45, ha='right')\n",
    "plt.tight_layout()\n",
    "plt.savefig('test2.jpg')\n",
    "plt.show()"
   ]
  },
  {
   "cell_type": "code",
   "execution_count": null,
   "metadata": {},
   "outputs": [],
   "source": []
  }
 ],
 "metadata": {
  "kernelspec": {
   "display_name": "Python 3",
   "language": "python",
   "name": "python3"
  },
  "language_info": {
   "codemirror_mode": {
    "name": "ipython",
    "version": 3
   },
   "file_extension": ".py",
   "mimetype": "text/x-python",
   "name": "python",
   "nbconvert_exporter": "python",
   "pygments_lexer": "ipython3",
   "version": "3.8.5"
  }
 },
 "nbformat": 4,
 "nbformat_minor": 4
}
