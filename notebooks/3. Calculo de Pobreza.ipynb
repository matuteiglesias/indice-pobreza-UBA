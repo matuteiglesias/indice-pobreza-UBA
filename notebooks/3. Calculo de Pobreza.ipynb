{
 "cells": [
  {
   "cell_type": "code",
   "execution_count": 137,
   "metadata": {},
   "outputs": [],
   "source": [
    "# import time\n",
    "# time.sleep(1800)"
   ]
  },
  {
   "cell_type": "markdown",
   "metadata": {},
   "source": [
    "---\n",
    "\n",
    "### **3. Calculo de Pobreza**\n",
    "  - **3.1. Carga y ajuste de datos:** \n",
    "    - **3.1.1.** Carga de datos monetarios.\n",
    "    - **3.1.2.** Ajuste usando el IPC.\n",
    "    - **3.1.3.** Calculo de la canasta básica.\n",
    "    - **3.1.4.** Calculo de la línea de pobreza.\n",
    "    - **3.1.5.** Calculo de la línea de indigencia.\n",
    "\n"
   ]
  },
  {
   "cell_type": "code",
   "execution_count": 138,
   "metadata": {},
   "outputs": [],
   "source": [
    "# 1. Módulos y Bibliotecas\n",
    "# Importar todos los módulos y bibliotecas necesarios.\n",
    "import pandas as pd\n",
    "import os\n",
    "from funciones import personas_ingresos_por_trimestre, ingresos_a_metricas_pobreza, P0910, geo_hogares, generate_Qs_from_year\n"
   ]
  },
  {
   "cell_type": "code",
   "execution_count": 139,
   "metadata": {},
   "outputs": [],
   "source": [
    "# 2. Configuración de Directorios y Parámetros\n",
    "# Establecer y verificar las rutas de los directorios.\n",
    "# Definir los parámetros necesarios.\n",
    "if not os.path.exists('./../data/Pobreza/'):\n",
    "    os.makedirs('./../data/Pobreza/')\n",
    "\n",
    "# -------------------\n",
    "# Parameters and Configuration\n",
    "# -------------------\n",
    "\n",
    "FRAC = 0.02\n",
    "START_YEAR = 2023\n",
    "END_YEAR = 2024\n",
    "EXPERIMENT_TAG = 'ARG'\n",
    "\n",
    "PATH_POBREZA = './../data/Pobreza/'\n",
    "\n"
   ]
  },
  {
   "cell_type": "code",
   "execution_count": 140,
   "metadata": {},
   "outputs": [
    {
     "name": "stdout",
     "output_type": "stream",
     "text": [
      "              Q             Region     CBA     CBT\n",
      "505  2024-02-15  gran_buenos_aires 1401.77 3355.03\n",
      "506  2024-02-15            noreste 1254.71 2811.27\n",
      "507  2024-02-15           noroeste 1217.88 2705.13\n",
      "508  2024-02-15           pampeana 1389.22 3323.90\n",
      "509  2024-02-15          patagonia 1448.20 3934.47\n"
     ]
    },
    {
     "data": {
      "text/plain": [
       "'dtypes claves_dptos_ref'"
      ]
     },
     "metadata": {},
     "output_type": "display_data"
    },
    {
     "data": {
      "text/plain": [
       "distrito_id    float64\n",
       "seccion_id     float64\n",
       "IN1            float64\n",
       "NAM             object\n",
       "dtype: object"
      ]
     },
     "metadata": {},
     "output_type": "display_data"
    },
    {
     "data": {
      "text/plain": [
       "'radios_circuitos_secciones_ref'"
      ]
     },
     "metadata": {},
     "output_type": "display_data"
    },
    {
     "data": {
      "text/plain": [
       "COD_2010          940140813\n",
       "distrito_id              24\n",
       "seccion_id              134\n",
       "seccion_nombre      Ñorquín\n",
       "circuito          zonaincon\n",
       "dtype: object"
      ]
     },
     "metadata": {},
     "output_type": "display_data"
    }
   ],
   "source": [
    "# 3. Exploración y Preprocesamiento de Datos\n",
    "# Cargar conjuntos de datos.\n",
    "# Explorar datos iniciales.\n",
    "# Preparar datos para síntesis.\n",
    "\n",
    "# Carga de Datos Auxiliares: Datos del adulto equivalente y Canasta básica regional deflactada\n",
    "ad_eq = pd.read_csv('./../data/info/adulto_eq.csv')\n",
    "url_canasta_q_deflac = 'https://raw.githubusercontent.com/matuteiglesias/canastasINDEC/main/data/CB_Reg_defl_Q.csv'\n",
    "CB_ipc = pd.read_csv(url_canasta_q_deflac)\n",
    "print(CB_ipc.tail())\n",
    "\n",
    "# Preparación de la Información Geográfica\n",
    "radio_ref = pd.read_csv('./../data/info/radio_ref.csv', usecols = ['RADIO_REF_ID', 'DPTO', 'FRAC_REF_ID', 'NOMDPTO', 'radio'])\n",
    "dpto_region = pd.read_csv('./../data/info/DPTO_PROV_Region.csv')\n",
    "radio_ref = radio_ref.merge(dpto_region)\n",
    "radio_ref['COD_2010'] = radio_ref['radio'].astype(str).str.zfill(9)\n",
    "radio_ref = radio_ref.drop('radio', axis = 1)\n",
    "radio_ref_cols = radio_ref\n",
    "\n",
    "claves_dptos = pd.read_csv('https://raw.githubusercontent.com/matuteiglesias/elecciones-ARG/main/datos/BD/claves_dptos_ref.csv')\n",
    "claves_dptos_cols = claves_dptos[['distrito_id', 'seccion_id', 'IN1', 'NAM']].drop_duplicates()\n",
    "display('dtypes claves_dptos_ref', claves_dptos_cols.dtypes)\n",
    "\n",
    "radios_circuitos_secciones_ref = pd.read_csv('./../../CNE-INDEC-georef/info/radios_circuitos_secciones_ref.csv')\n",
    "radios_circuitos_secciones_ref = radios_circuitos_secciones_ref[['COD_2010', 'distrito_id', 'seccion_id', 'seccion_nombre', 'circuito']]\n",
    "display('radios_circuitos_secciones_ref', radios_circuitos_secciones_ref.max())\n",
    "\n",
    "DPTO_Region = radio_ref[['DPTO', 'Region']].drop_duplicates()\n"
   ]
  },
  {
   "cell_type": "code",
   "execution_count": 141,
   "metadata": {},
   "outputs": [],
   "source": [
    "# DPTO_Region.head()\n",
    "\n",
    "# DPTO\tRegion\n",
    "# 0\t2001\tgran_buenos_aires\n",
    "# 329\t2002\tgran_buenos_aires\n",
    "# 527\t2003\tgran_buenos_aires\n",
    "# 781\t2004\tgran_buenos_aires\n",
    "# 1033\t2005\tgran_buenos_aires"
   ]
  },
  {
   "cell_type": "markdown",
   "metadata": {},
   "source": [
    "\n",
    "##  **Procesamiento por Año y Trimestre**\n"
   ]
  },
  {
   "cell_type": "markdown",
   "metadata": {},
   "source": [
    "    - Bucle por años\n",
    "        - Carga de la población sintética (muestra del censo) por año\n",
    "        - Cómputo de atributos geográficos\n",
    "        - Procesamiento del nivel educativo\n",
    "        - Bucle por trimestre\n",
    "            - Fusión de la población sintética con datos de ingresos\n",
    "            - Cálculo de métricas de pobreza para hogares"
   ]
  },
  {
   "cell_type": "code",
   "execution_count": 142,
   "metadata": {},
   "outputs": [],
   "source": [
    "## pd format to 2 decimals\n",
    "pd.options.display.float_format = '{:.2f}'.format"
   ]
  },
  {
   "cell_type": "code",
   "execution_count": 143,
   "metadata": {},
   "outputs": [],
   "source": [
    "# experiment_tag = 'ARG'\n",
    "# frac = 0.01\n",
    "# Q = '2016-08-15'"
   ]
  },
  {
   "cell_type": "code",
   "execution_count": 144,
   "metadata": {},
   "outputs": [],
   "source": [
    "# filename = f'/media/matias/Elements/suite/resultados/RFC4_{str(FRAC)}_{Q}_{EXPERIMENT_TAG}.csv'\n",
    "\n",
    "# df = pd.read_csv(filename, nrows = 5)"
   ]
  },
  {
   "cell_type": "code",
   "execution_count": 145,
   "metadata": {},
   "outputs": [
    {
     "name": "stdout",
     "output_type": "stream",
     "text": [
      "Processing data for year 2023...\n"
     ]
    },
    {
     "name": "stdout",
     "output_type": "stream",
     "text": [
      "size/frac = Pob after merging with radio_ref_cols: 13860650.0\n",
      "maxs:  RADIO_REF_ID        52380\n",
      "AGLOMERADO             93\n",
      "HOGAR_REF_ID     12197634\n",
      "FRAC_REF_ID          5426\n",
      "DPTO                94014\n",
      "NOMDPTO           Ñorquín\n",
      "PROV                   94\n",
      "NOMPROV           Tucumán\n",
      "Region          patagonia\n",
      "COD_2010        940140813\n",
      "dtype: object\n"
     ]
    },
    {
     "data": {
      "text/plain": [
       "RADIO_REF_ID      277213\n",
       "AGLOMERADO        277213\n",
       "HOGAR_REF_ID      277213\n",
       "FRAC_REF_ID       277213\n",
       "DPTO              277213\n",
       "NOMDPTO           277213\n",
       "PROV              277213\n",
       "NOMPROV           277213\n",
       "Region            277213\n",
       "COD_2010          277213\n",
       "distrito_id       276197\n",
       "seccion_id        276197\n",
       "seccion_nombre    276197\n",
       "circuito          276197\n",
       "dtype: int64"
      ]
     },
     "metadata": {},
     "output_type": "display_data"
    },
    {
     "name": "stdout",
     "output_type": "stream",
     "text": [
      "size/frac = Pob after merging with radios_circuitos_secciones_ref: 13860650.0\n",
      "size/frac = Pob after merging with IN1: 13911450.0\n",
      "dtypes:  RADIO_REF_ID        int64\n",
      "AGLOMERADO          int64\n",
      "HOGAR_REF_ID        int64\n",
      "FRAC_REF_ID         int64\n",
      "DPTO                int64\n",
      "NOMDPTO            object\n",
      "PROV                int64\n",
      "NOMPROV            object\n",
      "Region             object\n",
      "COD_2010           object\n",
      "distrito_id       float64\n",
      "seccion_id        float64\n",
      "seccion_nombre     object\n",
      "circuito           object\n",
      "IN1               float64\n",
      "NAM                object\n",
      "dtype: object\n",
      "./../data/Pobreza/geo_households_sample0.02_2023_ARG.csv saved for persons\n",
      "size/FRAC = Pob after processing educational level: 46009750.0.\n",
      "Processing data for quarter 2023-02-15...\n",
      "reading regression results at:  /media/matias/Elements/suite/resultados/RFC4_0.02_2023-02-15_ARG.csv\n",
      "size/frac = Poblacion segun muestra pob con estimacion de ingresos: 46009750.0\n",
      "Poblacion y ingresos para 2023-02-15 guardados. Pob aprox: 46009750.0 personas.\n",
      " Mean and stats below.\n"
     ]
    },
    {
     "data": {
      "text/plain": [
       "count   920195.00\n",
       "mean         2.30\n",
       "std          1.82\n",
       "min          0.00\n",
       "25%          0.00\n",
       "50%          3.47\n",
       "75%          3.83\n",
       "max          5.81\n",
       "Name: P47T_persona, dtype: float64"
      ]
     },
     "metadata": {},
     "output_type": "display_data"
    },
    {
     "data": {
      "text/plain": [
       "ID             54961593179.08\n",
       "RADIO_REF_ID         25662.14\n",
       "DPTO                 30276.94\n",
       "AGLOMERADO              15.85\n",
       "HOGAR_REF_ID       6352455.91\n",
       "P02                      1.51\n",
       "P03                     32.32\n",
       "P09                      3.25\n",
       "P10                      0.65\n",
       "ANO4                  2023.00\n",
       "P47T_persona             2.30\n",
       "dtype: float64"
      ]
     },
     "metadata": {},
     "output_type": "display_data"
    },
    {
     "name": "stdout",
     "output_type": "stream",
     "text": [
      "size/frac = Pob, input de ingresos_a_pobreza: 46009750.0\n",
      "Mean of column P47T_persona: 4110.58669035907\n",
      "size/frac = Pob after canasta calculation: 46009750.0\n",
      "size(hogares)/frac = Cantidad de hogares: 13859000.0\n",
      "Mean of column HOGAR_REF_ID: 6168567.476387185\n",
      "Mean of column P47T_hogar: 13646.51605287165\n",
      "Mean of column CBA: 3982.3415199114884\n",
      "Mean of column CBT: 8822.63009828088\n",
      "Mean of column CB_EQUIV: 2.6552508478245187\n",
      "Mean of column Pobreza: 0.28868605238473194\n",
      "Mean of column Indigencia: 0.0717439930730933\n",
      "Mean of column gap_pobreza: 4823.885954590769\n",
      "Mean of column gap_indigencia: 9664.17453296016\n",
      "./../data/Pobreza/household_poverty_sample0.02_q2023-02-15.csv saved for households.\n",
      " Mean and stas below.\n"
     ]
    },
    {
     "data": {
      "text/plain": [
       "HOGAR_REF_ID     6168567.48\n",
       "P47T_hogar         13646.52\n",
       "CBA                 3982.34\n",
       "CBT                 8822.63\n",
       "CB_EQUIV               2.66\n",
       "Pobreza                0.29\n",
       "Indigencia             0.07\n",
       "gap_pobreza         4823.89\n",
       "gap_indigencia      9664.17\n",
       "dtype: float64"
      ]
     },
     "metadata": {},
     "output_type": "display_data"
    },
    {
     "data": {
      "text/html": [
       "<div>\n",
       "<style scoped>\n",
       "    .dataframe tbody tr th:only-of-type {\n",
       "        vertical-align: middle;\n",
       "    }\n",
       "\n",
       "    .dataframe tbody tr th {\n",
       "        vertical-align: top;\n",
       "    }\n",
       "\n",
       "    .dataframe thead th {\n",
       "        text-align: right;\n",
       "    }\n",
       "</style>\n",
       "<table border=\"1\" class=\"dataframe\">\n",
       "  <thead>\n",
       "    <tr style=\"text-align: right;\">\n",
       "      <th></th>\n",
       "      <th>CBA</th>\n",
       "      <th>CBT</th>\n",
       "      <th>CB_EQUIV</th>\n",
       "      <th>P47T_hogar</th>\n",
       "    </tr>\n",
       "  </thead>\n",
       "  <tbody>\n",
       "    <tr>\n",
       "      <th>count</th>\n",
       "      <td>277180.00</td>\n",
       "      <td>277180.00</td>\n",
       "      <td>277180.00</td>\n",
       "      <td>277180.00</td>\n",
       "    </tr>\n",
       "    <tr>\n",
       "      <th>mean</th>\n",
       "      <td>3982.34</td>\n",
       "      <td>8822.63</td>\n",
       "      <td>2.66</td>\n",
       "      <td>13646.52</td>\n",
       "    </tr>\n",
       "    <tr>\n",
       "      <th>std</th>\n",
       "      <td>4744.84</td>\n",
       "      <td>10519.63</td>\n",
       "      <td>3.11</td>\n",
       "      <td>24023.59</td>\n",
       "    </tr>\n",
       "    <tr>\n",
       "      <th>min</th>\n",
       "      <td>847.28</td>\n",
       "      <td>1742.01</td>\n",
       "      <td>0.63</td>\n",
       "      <td>0.00</td>\n",
       "    </tr>\n",
       "    <tr>\n",
       "      <th>25%</th>\n",
       "      <td>2326.47</td>\n",
       "      <td>5109.85</td>\n",
       "      <td>1.50</td>\n",
       "      <td>6759.83</td>\n",
       "    </tr>\n",
       "    <tr>\n",
       "      <th>50%</th>\n",
       "      <td>3649.13</td>\n",
       "      <td>8074.10</td>\n",
       "      <td>2.44</td>\n",
       "      <td>11222.86</td>\n",
       "    </tr>\n",
       "    <tr>\n",
       "      <th>75%</th>\n",
       "      <td>5242.31</td>\n",
       "      <td>11604.57</td>\n",
       "      <td>3.51</td>\n",
       "      <td>17559.02</td>\n",
       "    </tr>\n",
       "    <tr>\n",
       "      <th>max</th>\n",
       "      <td>1944564.81</td>\n",
       "      <td>4302835.71</td>\n",
       "      <td>1263.10</td>\n",
       "      <td>9976244.35</td>\n",
       "    </tr>\n",
       "  </tbody>\n",
       "</table>\n",
       "</div>"
      ],
      "text/plain": [
       "             CBA        CBT  CB_EQUIV  P47T_hogar\n",
       "count  277180.00  277180.00 277180.00   277180.00\n",
       "mean     3982.34    8822.63      2.66    13646.52\n",
       "std      4744.84   10519.63      3.11    24023.59\n",
       "min       847.28    1742.01      0.63        0.00\n",
       "25%      2326.47    5109.85      1.50     6759.83\n",
       "50%      3649.13    8074.10      2.44    11222.86\n",
       "75%      5242.31   11604.57      3.51    17559.02\n",
       "max   1944564.81 4302835.71   1263.10  9976244.35"
      ]
     },
     "metadata": {},
     "output_type": "display_data"
    },
    {
     "name": "stdout",
     "output_type": "stream",
     "text": [
      "Processing data for quarter 2023-05-15...\n",
      "Error: archivo del modelo /media/matias/Elements/suite/resultados/RFC4_0.02_2023-05-15_ARG.csv no existe. Calcular en notebook 02, o ignorar mensaje si el trimestre 2023-05-15 no tuvo EPH publicada por INDEC.values=\n",
      "Skipped processing for quarter 2023-05-15 due to missing or invalid data.\n",
      "Processing data for quarter 2023-08-15...\n",
      "Error: archivo del modelo /media/matias/Elements/suite/resultados/RFC4_0.02_2023-08-15_ARG.csv no existe. Calcular en notebook 02, o ignorar mensaje si el trimestre 2023-08-15 no tuvo EPH publicada por INDEC.values=\n",
      "Skipped processing for quarter 2023-08-15 due to missing or invalid data.\n",
      "Processing data for quarter 2023-11-15...\n",
      "Error: archivo del modelo /media/matias/Elements/suite/resultados/RFC4_0.02_2023-11-15_ARG.csv no existe. Calcular en notebook 02, o ignorar mensaje si el trimestre 2023-11-15 no tuvo EPH publicada por INDEC.values=\n",
      "Skipped processing for quarter 2023-11-15 due to missing or invalid data.\n"
     ]
    }
   ],
   "source": [
    "\n",
    "\n",
    "# Loop through the years\n",
    "for yr in range(START_YEAR, END_YEAR):\n",
    "    yr = str(yr)  # Convert year to string for consistency with quarters\n",
    "    print(f\"Processing data for year {yr}...\")\n",
    "\n",
    "    # Carga de la población sintética (muestra del censo) para el año especificado.\n",
    "    # Nota: La ruta especificada podría estar apuntando a un disco externo.\n",
    "    poblacion_synth_file = f'/media/matias/Elements/suite/poblaciones/table_f{str(FRAC)}_{yr}_{EXPERIMENT_TAG}.csv'\n",
    "\n",
    "    columns_table = ['ID', 'RADIO_REF_ID', 'HOGAR_REF_ID', 'AGLOMERADO']\n",
    "    poblacion_yr = pd.read_csv(poblacion_synth_file, usecols=columns_table)\n",
    "    poblacion_yr['ANO4'] = int(yr)\n",
    "\n",
    "    # Cómputo opcional de atributos geográficos.\n",
    "    # Si el archivo ya existe y `overwrite_geo` está establecido en True, \n",
    "    # se sobrescribirá el archivo existente con nuevos datos.\n",
    "    hogares_geo_file = f'./../data/Pobreza/geo_households_sample{str(FRAC)}_{yr}_{EXPERIMENT_TAG}.csv'\n",
    "\n",
    "    overwrite_geo = True\n",
    "\n",
    "    if not os.path.exists(hogares_geo_file) or overwrite_geo:\n",
    "        muestra_hogares = poblacion_yr[['RADIO_REF_ID', 'AGLOMERADO', 'HOGAR_REF_ID']].drop_duplicates()\n",
    "        hogares_geo = geo_hogares(muestra_hogares, radio_ref_cols, radios_circuitos_secciones_ref, claves_dptos_cols, FRAC)\n",
    "        hogares_geo.to_csv(hogares_geo_file, index=False)\n",
    "        print(f\"{hogares_geo_file} saved for persons\")\n",
    "\n",
    "    # Load synthetic population for the year\n",
    "    # poblacion_synth_file = ...\n",
    "    columns_table = ['ID', 'RADIO_REF_ID', 'AGLOMERADO', 'DPTO', 'HOGAR_REF_ID', 'P02', 'P03', 'P09', 'P10']\n",
    "    poblacion_yr = pd.read_csv(poblacion_synth_file, usecols=columns_table)\n",
    "    poblacion_yr['ANO4'] = int(yr)\n",
    "\n",
    "    # Nivel Educativo\n",
    "    poblacion_yr = P0910(poblacion_yr)\n",
    "    print(f\"size/FRAC = Pob after processing educational level: {len(poblacion_yr)/FRAC}.\")\n",
    "\n",
    "    # Procesamiento de datos para cada trimestre del año en cuestión.\n",
    "    # relevant_quarters = [q for q in quarters if q.startswith(yr)]\n",
    "    relevant_quarters = generate_Qs_from_year(yr)\n",
    "    for Q in relevant_quarters:\n",
    "        print(f\"Processing data for quarter {Q}...\")\n",
    "        \n",
    "        # Merge synthetic population with income data\n",
    "        personas_ingresos_Q_df = personas_ingresos_por_trimestre(poblacion_yr, Q, FRAC, experiment_tag='ARG')\n",
    "\n",
    "        # Check if the result is not None before proceeding\n",
    "        if personas_ingresos_Q_df is not None:\n",
    "            personas_ingresos_Q_file = f'./../data/Pobreza/individual_income_sample{str(FRAC)}_{Q}_{EXPERIMENT_TAG}.csv'\n",
    "            personas_ingresos_Q_df['P47T_persona'] = personas_ingresos_Q_df['P47T_persona'].round(2) # Round income to nearest 10\n",
    "\n",
    "            personas_ingresos_Q_df[['ID', 'HOGAR_REF_ID', 'Q', 'P47T_persona', 'P02', 'P03', 'P0910']].to_csv(personas_ingresos_Q_file, index=False)        ### GUARDA INGRESOS PERSONAS\n",
    "\n",
    "            print(f\"Poblacion y ingresos para {Q} guardados. Pob aprox: {len(personas_ingresos_Q_df)/FRAC} personas.\\n Mean and stats below.\")\n",
    "            display(personas_ingresos_Q_df.P47T_persona.describe())\n",
    "            display(personas_ingresos_Q_df.select_dtypes(exclude=['object']).mean())\n",
    "\n",
    "            # Compute poverty metrics for households\n",
    "            pobreza_hogares_file = f'./../data/Pobreza/household_poverty_sample{str(FRAC)}_q{Q}.csv'\n",
    "            muestra_hogares = ingresos_a_metricas_pobreza(personas_ingresos_Q_df, ad_eq, DPTO_Region, CB_ipc, FRAC)   ### \n",
    "            # def ingresos_a_metricas_pobreza(df_ingresos, ad_eq, DPTO_Region, CB_ipc, frac, columnas_pesos=['P47T_persona']):\n",
    "\n",
    "            for col in ['P47T_hogar', 'CBA', 'CBT', 'CB_EQUIV', 'gap_pobreza', 'gap_indigencia']:\n",
    "                muestra_hogares[col] = muestra_hogares[col].round(2)\n",
    "\n",
    "            muestra_hogares.to_csv(pobreza_hogares_file, index=False)        ### GUARDA POBREZA HOGARES\n",
    "\n",
    "            print(f\"{pobreza_hogares_file} saved for households.\\n Mean and stas below.\")\n",
    "            display(muestra_hogares.select_dtypes(exclude=['object']).mean())\n",
    "            display(muestra_hogares[['CBA', 'CBT', 'CB_EQUIV', 'P47T_hogar']].describe())\n",
    "        else:\n",
    "            print(f\"Skipped processing for quarter {Q} due to missing or invalid data.\")"
   ]
  },
  {
   "cell_type": "code",
   "execution_count": null,
   "metadata": {},
   "outputs": [],
   "source": []
  }
 ],
 "metadata": {
  "kernelspec": {
   "display_name": "base2",
   "language": "python",
   "name": "python3"
  },
  "language_info": {
   "codemirror_mode": {
    "name": "ipython",
    "version": 3
   },
   "file_extension": ".py",
   "mimetype": "text/x-python",
   "name": "python",
   "nbconvert_exporter": "python",
   "pygments_lexer": "ipython3",
   "version": "3.11.3"
  },
  "orig_nbformat": 4
 },
 "nbformat": 4,
 "nbformat_minor": 2
}
