{
 "cells": [
  {
   "cell_type": "code",
   "execution_count": 1,
   "metadata": {},
   "outputs": [
    {
     "data": {
      "text/html": [
       "<style>.container { width:100% !important; }</style>"
      ],
      "text/plain": [
       "<IPython.core.display.HTML object>"
      ]
     },
     "metadata": {},
     "output_type": "display_data"
    }
   ],
   "source": [
    "import pandas as pd\n",
    "import matplotlib.pyplot as plt\n",
    "import seaborn as sns\n",
    "\n",
    "pd.options.display.max_columns = 60\n",
    "pd.options.display.max_rows = 500\n",
    "import warnings\n",
    "warnings.filterwarnings('ignore')\n",
    "\n",
    "import dask.dataframe as dd\n",
    "from dask.diagnostics import ProgressBar\n",
    "\n",
    "import os\n",
    "\n",
    "import numpy as np\n",
    "\n",
    "from IPython.core.display import display, HTML\n",
    "display(HTML(\"<style>.container { width:100% !important; }</style>\"))"
   ]
  },
  {
   "cell_type": "code",
   "execution_count": 2,
   "metadata": {},
   "outputs": [],
   "source": [
    "frac = 0.02"
   ]
  },
  {
   "cell_type": "code",
   "execution_count": 3,
   "metadata": {},
   "outputs": [],
   "source": [
    "# Adulto equivalente. Cuanto cuesta la manutencion de las personas segun sexo y edad.\n",
    "ad_eq = pd.read_csv('./../data/info/adulto_eq.csv')\n",
    "\n",
    "#Importar canasta basica regional deflac\n",
    "CB_ipc = pd.read_csv('./../data/info/CB_Reg_defl.csv')\n",
    "\n",
    "ppp_defl = pd.read_csv('./../data/info/ppp_defl.csv')\n",
    "\n",
    "# Load radio ref. Merge regiones.\n",
    "# Anything that is AGLOMERADO 33 should be region Gran Buenos Aires\n",
    "\n",
    "radio_ref = pd.read_csv('./../data/info/radio_ref.csv').merge(pd.read_csv('./../data/info/prov_regs.csv'), how = 'left')\n",
    "\n",
    "radio_ref = pd.read_csv('./../data/info/radio_ref.csv')#.merge(aglo_labels)\n",
    "dpto_region = pd.read_csv('./../data/info/DPTO_PROV_Region.csv')\n",
    "radio_ref = radio_ref.merge(dpto_region)\n",
    "\n",
    "# DPTO_Region = radio_ref[['DPTO', 'Region']].drop_duplicates()"
   ]
  },
  {
   "cell_type": "code",
   "execution_count": 4,
   "metadata": {},
   "outputs": [],
   "source": [
    "dpto_region = pd.read_csv('./../data/info/DPTO_PROV_Region.csv')\n",
    "DPTO_Region = radio_ref[['DPTO', 'Region']].drop_duplicates()"
   ]
  },
  {
   "cell_type": "markdown",
   "metadata": {},
   "source": [
    "## 2. Resultados series de tiempo (se computa para todos y cada trimestre)"
   ]
  },
  {
   "cell_type": "code",
   "execution_count": 6,
   "metadata": {},
   "outputs": [
    {
     "data": {
      "text/plain": [
       "['./../data/yr_samples/RFReg_0.02_2015-02-15_ARG.csv',\n",
       " './../data/yr_samples/RFReg_0.02_2015-05-15_ARG.csv',\n",
       " './../data/yr_samples/RFReg_0.02_2016-05-15_ARG.csv',\n",
       " './../data/yr_samples/RFReg_0.02_2016-08-15_ARG.csv',\n",
       " './../data/yr_samples/RFReg_0.02_2016-11-15_ARG.csv',\n",
       " './../data/yr_samples/RFReg_0.02_2017-02-15_ARG.csv',\n",
       " './../data/yr_samples/RFReg_0.02_2017-05-15_ARG.csv',\n",
       " './../data/yr_samples/RFReg_0.02_2017-08-15_ARG.csv',\n",
       " './../data/yr_samples/RFReg_0.02_2017-11-15_ARG.csv',\n",
       " './../data/yr_samples/RFReg_0.02_2018-02-15_ARG.csv',\n",
       " './../data/yr_samples/RFReg_0.02_2018-05-15_ARG.csv',\n",
       " './../data/yr_samples/RFReg_0.02_2018-08-15_ARG.csv',\n",
       " './../data/yr_samples/RFReg_0.02_2018-11-15_ARG.csv',\n",
       " './../data/yr_samples/RFReg_0.02_2019-02-15_ARG.csv',\n",
       " './../data/yr_samples/RFReg_0.02_2019-05-15_ARG.csv',\n",
       " './../data/yr_samples/RFReg_0.02_2019-08-15_ARG.csv',\n",
       " './../data/yr_samples/RFReg_0.02_2019-11-15_ARG.csv',\n",
       " './../data/yr_samples/RFReg_0.02_2020-02-15_ARG.csv',\n",
       " './../data/yr_samples/RFReg_0.02_2020-05-15_ARG.csv',\n",
       " './../data/yr_samples/RFReg_0.02_2020-08-15_ARG.csv',\n",
       " './../data/yr_samples/RFReg_0.02_2020-11-15_ARG.csv']"
      ]
     },
     "execution_count": 6,
     "metadata": {},
     "output_type": "execute_result"
    }
   ],
   "source": [
    "import glob\n",
    "# path ='./data/RFReg_' # use your path\n",
    "# path ='./../data/yr_samples/RFReg_' # use your path\n",
    "# path ='./../../encuestador-de-hogares/data/yr_samples/RFReg_' # use your path\n",
    "path ='./../../indice-pobreza-ExactasUBA/data/yr_samples/RFReg_' # use your path\n",
    "path ='./../data/yr_samples/RFReg_'\n",
    "\n",
    "\n",
    "allFiles = []\n",
    "for year in [str(s) for s in range(2003, 2021)]: ## Importante poner el anio de comienzo de la serie\n",
    "    # Estos archivos se computan en la notebook tipo 04c - Predict using trained models- Empleo Trimestral.ipynb\n",
    "    allFiles += glob.glob(path +str(frac)+'_'+ year +'*.csv')\n",
    "sorted(allFiles)"
   ]
  },
  {
   "cell_type": "code",
   "execution_count": 7,
   "metadata": {
    "scrolled": false
   },
   "outputs": [
    {
     "name": "stdout",
     "output_type": "stream",
     "text": [
      "2015-02-15\n",
      "Poblacion: 42482000.0\n"
     ]
    },
    {
     "data": {
      "text/plain": [
       "Pobreza         0.360288\n",
       "Indigencia      0.100055\n",
       "Pobreza_5usd    0.104780\n",
       "dtype: float64"
      ]
     },
     "metadata": {},
     "output_type": "display_data"
    },
    {
     "name": "stdout",
     "output_type": "stream",
     "text": [
      "./../data/Pobreza/pobreza_0.02_q2015-02-15.csv saved\n",
      "2015-05-15\n",
      "Poblacion: 42482000.0\n"
     ]
    },
    {
     "data": {
      "text/plain": [
       "Pobreza         0.385101\n",
       "Indigencia      0.108043\n",
       "Pobreza_5usd    0.109362\n",
       "dtype: float64"
      ]
     },
     "metadata": {},
     "output_type": "display_data"
    },
    {
     "name": "stdout",
     "output_type": "stream",
     "text": [
      "./../data/Pobreza/pobreza_0.02_q2015-05-15.csv saved\n",
      "2016-05-15\n",
      "Poblacion: 42945000.0\n"
     ]
    },
    {
     "data": {
      "text/plain": [
       "Pobreza         0.423758\n",
       "Indigencia      0.120622\n",
       "Pobreza_5usd    0.125795\n",
       "dtype: float64"
      ]
     },
     "metadata": {},
     "output_type": "display_data"
    },
    {
     "name": "stdout",
     "output_type": "stream",
     "text": [
      "./../data/Pobreza/pobreza_0.02_q2016-05-15.csv saved\n",
      "2016-08-15\n",
      "Poblacion: 42945000.0\n"
     ]
    },
    {
     "data": {
      "text/plain": [
       "Pobreza         0.383270\n",
       "Indigencia      0.120042\n",
       "Pobreza_5usd    0.116770\n",
       "dtype: float64"
      ]
     },
     "metadata": {},
     "output_type": "display_data"
    },
    {
     "name": "stdout",
     "output_type": "stream",
     "text": [
      "./../data/Pobreza/pobreza_0.02_q2016-08-15.csv saved\n",
      "2016-11-15\n",
      "Poblacion: 42945000.0\n"
     ]
    },
    {
     "data": {
      "text/plain": [
       "Pobreza         0.391186\n",
       "Indigencia      0.116338\n",
       "Pobreza_5usd    0.111232\n",
       "dtype: float64"
      ]
     },
     "metadata": {},
     "output_type": "display_data"
    },
    {
     "name": "stdout",
     "output_type": "stream",
     "text": [
      "./../data/Pobreza/pobreza_0.02_q2016-11-15.csv saved\n",
      "2017-02-15\n",
      "Poblacion: 43387350.0\n"
     ]
    },
    {
     "data": {
      "text/plain": [
       "Pobreza         0.344847\n",
       "Indigencia      0.102691\n",
       "Pobreza_5usd    0.095084\n",
       "dtype: float64"
      ]
     },
     "metadata": {},
     "output_type": "display_data"
    },
    {
     "name": "stdout",
     "output_type": "stream",
     "text": [
      "./../data/Pobreza/pobreza_0.02_q2017-02-15.csv saved\n",
      "2017-05-15\n",
      "Poblacion: 43387350.0\n"
     ]
    },
    {
     "data": {
      "text/plain": [
       "Pobreza         0.391815\n",
       "Indigencia      0.109823\n",
       "Pobreza_5usd    0.098859\n",
       "dtype: float64"
      ]
     },
     "metadata": {},
     "output_type": "display_data"
    },
    {
     "name": "stdout",
     "output_type": "stream",
     "text": [
      "./../data/Pobreza/pobreza_0.02_q2017-05-15.csv saved\n",
      "2017-08-15\n",
      "Poblacion: 43387350.0\n"
     ]
    },
    {
     "data": {
      "text/plain": [
       "Pobreza         0.348750\n",
       "Indigencia      0.105414\n",
       "Pobreza_5usd    0.092016\n",
       "dtype: float64"
      ]
     },
     "metadata": {},
     "output_type": "display_data"
    },
    {
     "name": "stdout",
     "output_type": "stream",
     "text": [
      "./../data/Pobreza/pobreza_0.02_q2017-08-15.csv saved\n",
      "2017-11-15\n",
      "Poblacion: 43387350.0\n"
     ]
    },
    {
     "data": {
      "text/plain": [
       "Pobreza         0.365714\n",
       "Indigencia      0.094197\n",
       "Pobreza_5usd    0.084540\n",
       "dtype: float64"
      ]
     },
     "metadata": {},
     "output_type": "display_data"
    },
    {
     "name": "stdout",
     "output_type": "stream",
     "text": [
      "./../data/Pobreza/pobreza_0.02_q2017-11-15.csv saved\n",
      "2018-02-15\n",
      "Poblacion: 43721900.0\n"
     ]
    },
    {
     "data": {
      "text/plain": [
       "Pobreza         0.353841\n",
       "Indigencia      0.101779\n",
       "Pobreza_5usd    0.098251\n",
       "dtype: float64"
      ]
     },
     "metadata": {},
     "output_type": "display_data"
    },
    {
     "name": "stdout",
     "output_type": "stream",
     "text": [
      "./../data/Pobreza/pobreza_0.02_q2018-02-15.csv saved\n",
      "2018-05-15\n",
      "Poblacion: 43721900.0\n"
     ]
    },
    {
     "data": {
      "text/plain": [
       "Pobreza         0.411143\n",
       "Indigencia      0.114464\n",
       "Pobreza_5usd    0.111108\n",
       "dtype: float64"
      ]
     },
     "metadata": {},
     "output_type": "display_data"
    },
    {
     "name": "stdout",
     "output_type": "stream",
     "text": [
      "./../data/Pobreza/pobreza_0.02_q2018-05-15.csv saved\n",
      "2018-08-15\n",
      "Poblacion: 43721900.0\n"
     ]
    },
    {
     "data": {
      "text/plain": [
       "Pobreza         0.396952\n",
       "Indigencia      0.118889\n",
       "Pobreza_5usd    0.108899\n",
       "dtype: float64"
      ]
     },
     "metadata": {},
     "output_type": "display_data"
    },
    {
     "name": "stdout",
     "output_type": "stream",
     "text": [
      "./../data/Pobreza/pobreza_0.02_q2018-08-15.csv saved\n",
      "2018-11-15\n",
      "Poblacion: 43721900.0\n"
     ]
    },
    {
     "data": {
      "text/plain": [
       "Pobreza         0.472248\n",
       "Indigencia      0.142787\n",
       "Pobreza_5usd    0.120583\n",
       "dtype: float64"
      ]
     },
     "metadata": {},
     "output_type": "display_data"
    },
    {
     "name": "stdout",
     "output_type": "stream",
     "text": [
      "./../data/Pobreza/pobreza_0.02_q2018-11-15.csv saved\n",
      "2019-02-15\n",
      "Poblacion: 44210000.0\n"
     ]
    },
    {
     "data": {
      "text/plain": [
       "Pobreza         0.444599\n",
       "Indigencia      0.139794\n",
       "Pobreza_5usd    0.121077\n",
       "dtype: float64"
      ]
     },
     "metadata": {},
     "output_type": "display_data"
    },
    {
     "name": "stdout",
     "output_type": "stream",
     "text": [
      "./../data/Pobreza/pobreza_0.02_q2019-02-15.csv saved\n",
      "2019-05-15\n",
      "Poblacion: 44210000.0\n"
     ]
    },
    {
     "data": {
      "text/plain": [
       "Pobreza         0.491641\n",
       "Indigencia      0.151345\n",
       "Pobreza_5usd    0.128339\n",
       "dtype: float64"
      ]
     },
     "metadata": {},
     "output_type": "display_data"
    },
    {
     "name": "stdout",
     "output_type": "stream",
     "text": [
      "./../data/Pobreza/pobreza_0.02_q2019-05-15.csv saved\n",
      "2019-08-15\n",
      "Poblacion: 44210000.0\n"
     ]
    },
    {
     "data": {
      "text/plain": [
       "Pobreza         0.443378\n",
       "Indigencia      0.137973\n",
       "Pobreza_5usd    0.116206\n",
       "dtype: float64"
      ]
     },
     "metadata": {},
     "output_type": "display_data"
    },
    {
     "name": "stdout",
     "output_type": "stream",
     "text": [
      "./../data/Pobreza/pobreza_0.02_q2019-08-15.csv saved\n",
      "2019-11-15\n",
      "Poblacion: 44210000.0\n"
     ]
    },
    {
     "data": {
      "text/plain": [
       "Pobreza         0.490241\n",
       "Indigencia      0.157063\n",
       "Pobreza_5usd    0.126307\n",
       "dtype: float64"
      ]
     },
     "metadata": {},
     "output_type": "display_data"
    },
    {
     "name": "stdout",
     "output_type": "stream",
     "text": [
      "./../data/Pobreza/pobreza_0.02_q2019-11-15.csv saved\n",
      "2020-02-15\n",
      "Poblacion: 44603650.0\n"
     ]
    },
    {
     "data": {
      "text/plain": [
       "Pobreza         0.420320\n",
       "Indigencia      0.133028\n",
       "Pobreza_5usd    0.107283\n",
       "dtype: float64"
      ]
     },
     "metadata": {},
     "output_type": "display_data"
    },
    {
     "name": "stdout",
     "output_type": "stream",
     "text": [
      "./../data/Pobreza/pobreza_0.02_q2020-02-15.csv saved\n",
      "2020-05-15\n",
      "Poblacion: 44603650.0\n"
     ]
    },
    {
     "data": {
      "text/plain": [
       "Pobreza         0.515276\n",
       "Indigencia      0.160468\n",
       "Pobreza_5usd    0.128171\n",
       "dtype: float64"
      ]
     },
     "metadata": {},
     "output_type": "display_data"
    },
    {
     "name": "stdout",
     "output_type": "stream",
     "text": [
      "./../data/Pobreza/pobreza_0.02_q2020-05-15.csv saved\n",
      "2020-08-15\n",
      "Poblacion: 44603650.0\n"
     ]
    },
    {
     "data": {
      "text/plain": [
       "Pobreza         0.446151\n",
       "Indigencia      0.130440\n",
       "Pobreza_5usd    0.103666\n",
       "dtype: float64"
      ]
     },
     "metadata": {},
     "output_type": "display_data"
    },
    {
     "name": "stdout",
     "output_type": "stream",
     "text": [
      "./../data/Pobreza/pobreza_0.02_q2020-08-15.csv saved\n",
      "2020-11-15\n",
      "Poblacion: 44603650.0\n"
     ]
    },
    {
     "data": {
      "text/plain": [
       "Pobreza         0.514965\n",
       "Indigencia      0.159197\n",
       "Pobreza_5usd    0.126533\n",
       "dtype: float64"
      ]
     },
     "metadata": {},
     "output_type": "display_data"
    },
    {
     "name": "stdout",
     "output_type": "stream",
     "text": [
      "./../data/Pobreza/pobreza_0.02_q2020-11-15.csv saved\n"
     ]
    }
   ],
   "source": [
    "for quarter_Xy_file in sorted(allFiles):\n",
    "    if not os.path.exists('./../data/Pobreza/'):\n",
    "        os.makedirs('./../data/Pobreza/')\n",
    "        \n",
    "    q = quarter_Xy_file[-18:-8]\n",
    "    filename = './../data/Pobreza/pobreza_'+'_'.join([str(frac), 'q'+q])+'.csv'\n",
    "    print(q)\n",
    "#     if not os.path.exists('./../data/Pobreza/pobreza_'+'_'.join([str(frac), 'q'+q])+'.csv'):\n",
    "\n",
    "    df = pd.read_csv(quarter_Xy_file, \n",
    "                           usecols = ['PERSONA_REF_ID', 'HOGAR_REF_ID','RADIO_REF_ID', 'CONDACT', 'CAT_INAC', 'CAT_OCUP',\n",
    "                                      'IX_TOT', 'H16', 'H15','P47T', 'P03','P02', 'P09','P10', 'DPTO'])\n",
    "    df['ANO4'] = int(quarter_Xy_file[-18:-14])\n",
    "    df['Q'] = q\n",
    "\n",
    "    columnas_pesos = ['P47T']\n",
    "    df[columnas_pesos] = np.power(10, df[columnas_pesos]) - 1\n",
    "\n",
    "#     ddf = dd.from_pandas(df, npartitions=50)\n",
    "#     with ProgressBar():\n",
    "#         df = ddf.groupby(['PERSONA_REF_ID']).mean().compute()\n",
    "\n",
    "    # Editar columnas\n",
    "    df['P10'] = 2 - df['P10']\n",
    "    df['P09'] = df.P09.replace(5, 4) #Polimodal tomado como secundario \n",
    "\n",
    "#     df = df.astype(int)\n",
    "    df['P0910'] = df.P09.astype(str) + df.P10.astype(str)\n",
    "    df['Grupo_Etario_3'] = pd.cut(df.P03, np.arange(-1, 80, 3))#.round(-1)\n",
    "    df['Grupo_Etario_INDEC'] = pd.cut(df.P03, np.array([0, 13, 29, 64, 110]))#.round(-1)\n",
    "    df['Grupo_Etario_q10'] = pd.cut(df.P03, np.array([-0.001, 5.0,  11.0, 17.0, 23.0, 29.0, 36.0, 44.0, 53.0, 65.0, 110.0]))#.round(-1)\n",
    "\n",
    "\n",
    "    df = df.reset_index()\n",
    "\n",
    "    df_cb = df.merge(ad_eq).merge(DPTO_Region).merge(CB_ipc).merge(ppp_defl[['Q', 'ppp_5usd_ARS_deflac']])\n",
    "\n",
    "    df_cb_hogares = df_cb.groupby(['HOGAR_REF_ID', 'Q'])[['P47T','CBA', 'CBT', 'CB_EQUIV', 'ppp_5usd_ARS_deflac']].sum()\n",
    "    df_cb_hogares['Pobreza'] = df_cb_hogares['P47T'] < df_cb_hogares['CBT']\n",
    "    df_cb_hogares['Indigencia'] = df_cb_hogares['P47T'] < df_cb_hogares['CBA']\n",
    "    df_cb_hogares['Pobreza_5usd'] = df_cb_hogares['P47T'] < df_cb_hogares['ppp_5usd_ARS_deflac']\n",
    "    pobreza_hogares = df_cb_hogares[['P47T','CBA','CBT', 'CB_EQUIV','Pobreza', 'Indigencia', 'Pobreza_5usd']].reset_index()\n",
    "    pobreza_hogares['gap_pobreza'] = pobreza_hogares.P47T - pobreza_hogares.CBT\n",
    "    pobreza_hogares['gap_indigencia'] = pobreza_hogares.P47T - pobreza_hogares.CBA\n",
    "    pobreza_hogares = pobreza_hogares.rename(columns = {'P47T': 'P47T_hogar'})\n",
    "\n",
    "    # df = df.sample(25000)\n",
    "    data = df.merge(pobreza_hogares, on = ['HOGAR_REF_ID', 'Q'])#, how = 'left')\n",
    "\n",
    "    data = data.rename(columns = {'P47T': 'P47T_persona'})\n",
    "\n",
    "    # data = data\n",
    "    data = data.merge(radio_ref[['RADIO_REF_ID', 'IDFRAC', 'PROV', 'NOMPROV', 'AGLOMERADO', 'Region']].drop_duplicates())\n",
    "\n",
    "    print(\"Poblacion: \"+str(len(data)/frac))\n",
    "    display(data[['Pobreza', 'Indigencia', 'Pobreza_5usd']].mean())\n",
    "    data.to_csv(filename, index = False) ## Aca si ya existen no deberian sobreescribirse (o si)\n",
    "    \n",
    "    print(filename+' saved')"
   ]
  },
  {
   "cell_type": "code",
   "execution_count": null,
   "metadata": {},
   "outputs": [],
   "source": [
    "filename"
   ]
  },
  {
   "cell_type": "code",
   "execution_count": null,
   "metadata": {},
   "outputs": [],
   "source": [
    "# ./../data/Pobreza/pobreza_0.02_q2003-08-15.csv"
   ]
  },
  {
   "cell_type": "code",
   "execution_count": null,
   "metadata": {},
   "outputs": [],
   "source": [
    "data.columns"
   ]
  },
  {
   "cell_type": "markdown",
   "metadata": {},
   "source": [
    "# Distribucion del ingreso"
   ]
  },
  {
   "cell_type": "code",
   "execution_count": null,
   "metadata": {},
   "outputs": [],
   "source": [
    "# import numpy as np\n",
    "# fig, ax = plt.subplots(1, figsize = (5, 3))\n",
    "# plt.hist(np.log10(df.loc[df.P47T > 100].P47T).values, 150, normed = 'pdf')#.groupby()\n",
    "# plt.yscale('log')\n",
    "# plt.show()"
   ]
  },
  {
   "cell_type": "markdown",
   "metadata": {},
   "source": []
  },
  {
   "cell_type": "code",
   "execution_count": null,
   "metadata": {},
   "outputs": [],
   "source": [
    "###### # fig, ax = plt.subplots(1, figsize = (10, 5))\n",
    "# fig, ax = plt.subplots(1, figsize = (5, 3))\n",
    "# df_ = df.groupby('HOGAR_REF_ID').sum()#.loc[df.P47T > 100]\n",
    "# agg = df_.groupby(pd.cut(np.log10(df_.P47T), np.arange(2, 6, .05)))['P47T'].agg(['count','sum'])\n",
    "# (agg/agg.sum()).plot(ax = ax)\n",
    "# # ax.set_yscale('log')"
   ]
  }
 ],
 "metadata": {
  "kernelspec": {
   "display_name": "Python 3",
   "language": "python",
   "name": "python3"
  },
  "language_info": {
   "codemirror_mode": {
    "name": "ipython",
    "version": 3
   },
   "file_extension": ".py",
   "mimetype": "text/x-python",
   "name": "python",
   "nbconvert_exporter": "python",
   "pygments_lexer": "ipython3",
   "version": "3.8.5"
  }
 },
 "nbformat": 4,
 "nbformat_minor": 2
}
