{
 "cells": [
  {
   "cell_type": "code",
   "execution_count": 1,
   "metadata": {},
   "outputs": [],
   "source": [
    "import pandas as pd\n",
    "import matplotlib.pyplot as plt\n",
    "import seaborn as sns\n",
    "\n",
    "pd.options.display.max_columns = 60\n",
    "pd.options.display.max_rows = 500\n",
    "import warnings\n",
    "warnings.filterwarnings('ignore')\n",
    "\n",
    "import numpy as np\n",
    "import datetime as dt"
   ]
  },
  {
   "cell_type": "markdown",
   "metadata": {},
   "source": [
    "## Canasta basica regional a precios constantes\n",
    "\n",
    "### Indice de precios"
   ]
  },
  {
   "cell_type": "code",
   "execution_count": 2,
   "metadata": {},
   "outputs": [],
   "source": [
    "## Correr la notebook 00 - deflator index"
   ]
  },
  {
   "cell_type": "code",
   "execution_count": 3,
   "metadata": {},
   "outputs": [],
   "source": [
    "# # col_mon = [u'P21', u'P47T', u'PP08D1', u'TOT_P12', u'T_VI', u'V12_M', u'V2_M', u'V3_M', u'V5_M']\n",
    "\n",
    "# cpi = pd.read_csv('./../data/info/indice_precios_M.csv', index_col=0)\n",
    "# cpi.index = pd.to_datetime(cpi.index)\n",
    "# cpi = cpi.loc['2000':]\n",
    "\n",
    "# cpi.columns = pd.MultiIndex.from_product([['Indice de Precios'], cpi.columns])\n"
   ]
  },
  {
   "cell_type": "markdown",
   "metadata": {},
   "source": [
    "### Valores de las canastas regionales, basica y total"
   ]
  },
  {
   "cell_type": "code",
   "execution_count": 4,
   "metadata": {},
   "outputs": [],
   "source": [
    "timeindex = pd.date_range(start = dt.datetime(2016,4,1), end = dt.datetime(2019,6,30), freq='MS')\n",
    "timeindex = timeindex #- pd.to_timedelta(timeindex.day - 15, unit='d') #- pd.DateOffset(months=1)\n",
    "\n",
    "\n",
    "CBAr = pd.read_csv('./../data/info/CBA_regional.csv')\n",
    "CBAr.index = timeindex\n",
    "CBAr = CBAr.drop(['Ano4', 'Mes', 'TRIMESTRE'], axis = 1)\n",
    "\n",
    "CBTr = pd.read_csv('./../data/info/CBT_regional.csv')\n",
    "CBTr.index = timeindex\n",
    "CBTr = CBTr.drop(['Ano4', 'Mes', 'TRIMESTRE'], axis = 1)\n",
    "\n",
    "#.stack().reset_index()\n",
    "CB = pd.concat([CBAr.stack(), CBTr.stack()], axis = 1)\n",
    "CB.columns = ['CBA', 'CBT']; CB.index.names = ['Mes', 'Region']"
   ]
  },
  {
   "cell_type": "code",
   "execution_count": 5,
   "metadata": {},
   "outputs": [],
   "source": [
    "# # 11747 (oct-nov 2019) se tiene que convertir en \n",
    "# 11747*(2283/1906) #para junio 2019\n",
    "# # 11747*(1.231485) #para 2019Q2"
   ]
  },
  {
   "cell_type": "code",
   "execution_count": 7,
   "metadata": {},
   "outputs": [],
   "source": [
    "cpi_M = pd.read_csv('https://raw.githubusercontent.com/matuteiglesias/IPC-Argentina/main/data/info/indice_precios_M.csv', index_col=0)\n",
    "# cpi_M = pd.read_csv('./../data/info/indice_precios_M.csv', index_col=0)\n",
    "# cpi_M = pd.read_csv('./../../encuestador-de-hogares/data/info/indice_precios_M.csv', index_col=0)\n",
    "cpi_M.index = pd.to_datetime(cpi_M.index)\n",
    "\n",
    "## OPCION INDICE SE FIJA X MES\n",
    "cpi_2016 = cpi_M.loc['2016-01'] ## OJO porque los modelos vienen entrenados con sueldos de esa nominalidad.\n",
    "# O sea, la fecha de escala nominal de aca (canasta) tiene que ser la misma que la de los modelos (EPH training).\n",
    "\n",
    "cpi_M_CB = cpi_M.loc[CB.unstack().index]\n",
    "# cpi_M_CB = cpi_M.loc['2003':]\n",
    "cpi_M_CB.columns = pd.MultiIndex.from_product([['Indice de Precios'], cpi_M_CB.columns])\n",
    "# cpi_M_CB\n",
    "# cpi_M_CB.columns = pd.MultiIndex([('A', 'B')])\n",
    "# cpi_M_CB\n",
    "# display(cpi_M.tail(10))\n",
    "# cpi_mes_actual = cpi_M.iloc[-1][0]"
   ]
  },
  {
   "cell_type": "code",
   "execution_count": 8,
   "metadata": {},
   "outputs": [],
   "source": [
    "# cpi_mes_actual"
   ]
  },
  {
   "cell_type": "code",
   "execution_count": 9,
   "metadata": {},
   "outputs": [
    {
     "data": {
      "text/html": [
       "<div>\n",
       "<style scoped>\n",
       "    .dataframe tbody tr th:only-of-type {\n",
       "        vertical-align: middle;\n",
       "    }\n",
       "\n",
       "    .dataframe tbody tr th {\n",
       "        vertical-align: top;\n",
       "    }\n",
       "\n",
       "    .dataframe thead th {\n",
       "        text-align: right;\n",
       "    }\n",
       "</style>\n",
       "<table border=\"1\" class=\"dataframe\">\n",
       "  <thead>\n",
       "    <tr style=\"text-align: right;\">\n",
       "      <th></th>\n",
       "      <th>log_index</th>\n",
       "      <th>index</th>\n",
       "    </tr>\n",
       "    <tr>\n",
       "      <th>d</th>\n",
       "      <th></th>\n",
       "      <th></th>\n",
       "    </tr>\n",
       "  </thead>\n",
       "  <tbody>\n",
       "    <tr>\n",
       "      <th>2022-05-28</th>\n",
       "      <td>0.965827</td>\n",
       "      <td>911.319722</td>\n",
       "    </tr>\n",
       "    <tr>\n",
       "      <th>2022-05-29</th>\n",
       "      <td>0.966276</td>\n",
       "      <td>912.192978</td>\n",
       "    </tr>\n",
       "    <tr>\n",
       "      <th>2022-05-30</th>\n",
       "      <td>0.966724</td>\n",
       "      <td>913.065713</td>\n",
       "    </tr>\n",
       "    <tr>\n",
       "      <th>2022-05-31</th>\n",
       "      <td>0.967171</td>\n",
       "      <td>913.937926</td>\n",
       "    </tr>\n",
       "    <tr>\n",
       "      <th>2022-06-01</th>\n",
       "      <td>0.967617</td>\n",
       "      <td>914.809617</td>\n",
       "    </tr>\n",
       "  </tbody>\n",
       "</table>\n",
       "</div>"
      ],
      "text/plain": [
       "            log_index       index\n",
       "d                                \n",
       "2022-05-28   0.965827  911.319722\n",
       "2022-05-29   0.966276  912.192978\n",
       "2022-05-30   0.966724  913.065713\n",
       "2022-05-31   0.967171  913.937926\n",
       "2022-06-01   0.967617  914.809617"
      ]
     },
     "metadata": {},
     "output_type": "display_data"
    }
   ],
   "source": [
    "## Fijarse que los archivos actualizados pueden estar en la carpeta del encuestador de hogares.\n",
    "# cpi_d = pd.read_csv('./../data/info/indice_precios_d.csv', index_col=0)\n",
    "cpi_d = pd.read_csv('https://raw.githubusercontent.com/matuteiglesias/IPC-Argentina/main/data/info/indice_precios_d.csv', index_col=0)\n",
    "\n",
    "# cpi_d = pd.read_csv('./../../encuestador-de-hogares/data/info/indice_precios_d.csv', index_col=0)\n",
    "display(cpi_d.tail())\n",
    "\n",
    "## OPCION INDICE SE FIJA X DIA\n",
    "# cpi_2016 = cpi_d.loc['2016-01-01']\n",
    "# cpi_2016"
   ]
  },
  {
   "cell_type": "markdown",
   "metadata": {},
   "source": [
    "### Deflacta Canasta"
   ]
  },
  {
   "cell_type": "code",
   "execution_count": 23,
   "metadata": {},
   "outputs": [
    {
     "data": {
      "image/png": "[encoded data removed]",
      "text/plain": [
       "<Figure size 432x288 with 1 Axes>"
      ]
     },
     "metadata": {
      "needs_background": "light"
     },
     "output_type": "display_data"
    }
   ],
   "source": [
    "CB_i = pd.concat([CB.unstack(), cpi_M_CB], axis = 1)\n",
    "# CB_i\n",
    "# CB_defl = CB_i.iloc[:, :-1].div(CB_i[('Indice de Precios', 'index')], 0)*cpi_2016['index'] # # divided by cpi index, multiplicado por nivel 2016\n",
    "# CB_defl = CB_i.iloc[:, :-1].div(CB_i[('Indice de Precios', 'index')], 0)*cpi_2016['index'].values[0]\n",
    "CB_defl = CB_i.drop('Indice de Precios', axis = 1).div(CB_i[('Indice de Precios', 'index')], 0)*cpi_2016['index'].values[0]\n",
    "CB_defl = CB_defl.reindex(cpi_M.loc['2003':].index)\n",
    "\n",
    "# # # Check how the fillna works...\n",
    "# fig, ax = plt.subplots(1, figsize = (7, 5))\n",
    "# CB_defl.fillna(CB_defl.mean()).plot(legend = False, ax = ax)\n",
    "# # # CB_defl.fillna(CB_defl.quantile(.25)).head(25).plot(legend = False, ax = ax, c = '.5')\n",
    "# # # CB_defl.fillna(CB_defl.quantile(.75)).head(25).plot(legend = False, ax = ax, c = '.5')\n",
    "\n",
    "CB_defl = CB_defl.fillna(CB_defl.mean()).stack()\n",
    "\n",
    "# CB_defl\n",
    "CB_defl_Q = CB_defl.groupby([pd.Grouper(level = 0,freq = 'Q'), pd.Grouper(level = 1)]).mean()\n",
    "CB_defl_Q.index.names = ['Q', 'Region']\n",
    "\n",
    "CB_defl_Q = CB_defl_Q.unstack()\n",
    "CB_defl_Q.index = CB_defl_Q.index - pd.to_timedelta(CB_defl_Q.index.day - 15, unit='d') - pd.DateOffset(months=1)\n",
    "\n",
    "CB_defl_Q.plot(legend = False)\n",
    "\n",
    "CB_defl_Q = CB_defl_Q.stack().reset_index()\n",
    "CB_defl_Q.to_csv('./../data/info/CB_Reg_defl.csv', index = False)\n",
    "# # precios de 2016-1-1"
   ]
  },
  {
   "cell_type": "markdown",
   "metadata": {},
   "source": [
    "### Chequear valores de la canasta en 2010"
   ]
  },
  {
   "cell_type": "code",
   "execution_count": 25,
   "metadata": {},
   "outputs": [],
   "source": [
    "ix = pd.read_csv('./../data/info/indice_precios_M.csv', index_col = 0)\n",
    "ix.index = pd.to_datetime(ix.index)\n",
    "ix_2010 = ix.loc['2010-11-15'].values[0]\n",
    "ix_2016 = ix.loc['2016-01-15'].values[0]\n",
    "ipc_10_16 = (ix_2016/ix_2010)"
   ]
  },
  {
   "cell_type": "code",
   "execution_count": 30,
   "metadata": {},
   "outputs": [
    {
     "data": {
      "text/html": [
       "<div>\n",
       "<style scoped>\n",
       "    .dataframe tbody tr th:only-of-type {\n",
       "        vertical-align: middle;\n",
       "    }\n",
       "\n",
       "    .dataframe tbody tr th {\n",
       "        vertical-align: top;\n",
       "    }\n",
       "\n",
       "    .dataframe thead th {\n",
       "        text-align: right;\n",
       "    }\n",
       "</style>\n",
       "<table border=\"1\" class=\"dataframe\">\n",
       "  <thead>\n",
       "    <tr style=\"text-align: right;\">\n",
       "      <th></th>\n",
       "      <th></th>\n",
       "      <th>CBA</th>\n",
       "      <th>CBT</th>\n",
       "    </tr>\n",
       "    <tr>\n",
       "      <th>Q</th>\n",
       "      <th>Region</th>\n",
       "      <th></th>\n",
       "      <th></th>\n",
       "    </tr>\n",
       "  </thead>\n",
       "  <tbody>\n",
       "    <tr>\n",
       "      <th rowspan=\"6\" valign=\"top\">2010-11-15</th>\n",
       "      <th>Cuyo</th>\n",
       "      <td>328</td>\n",
       "      <td>861</td>\n",
       "    </tr>\n",
       "    <tr>\n",
       "      <th>Gran Buenos Aires</th>\n",
       "      <td>367</td>\n",
       "      <td>905</td>\n",
       "    </tr>\n",
       "    <tr>\n",
       "      <th>Noreste</th>\n",
       "      <td>328</td>\n",
       "      <td>756</td>\n",
       "    </tr>\n",
       "    <tr>\n",
       "      <th>Noroeste</th>\n",
       "      <td>319</td>\n",
       "      <td>730</td>\n",
       "    </tr>\n",
       "    <tr>\n",
       "      <th>Pampeana</th>\n",
       "      <td>365</td>\n",
       "      <td>899</td>\n",
       "    </tr>\n",
       "    <tr>\n",
       "      <th>Patagónica</th>\n",
       "      <td>378</td>\n",
       "      <td>1058</td>\n",
       "    </tr>\n",
       "  </tbody>\n",
       "</table>\n",
       "</div>"
      ],
      "text/plain": [
       "                              CBA   CBT\n",
       "Q          Region                      \n",
       "2010-11-15 Cuyo               328   861\n",
       "           Gran Buenos Aires  367   905\n",
       "           Noreste            328   756\n",
       "           Noroeste           319   730\n",
       "           Pampeana           365   899\n",
       "           Patagónica         378  1058"
      ]
     },
     "execution_count": 30,
     "metadata": {},
     "output_type": "execute_result"
    }
   ],
   "source": [
    "show = CB_defl_Q.loc[CB_defl_Q.Q == '2010-11-15'].set_index(['Q', 'Region'])/ipc_10_16\n",
    "show = show.round().astype(int)\n",
    "show"
   ]
  },
  {
   "cell_type": "code",
   "execution_count": 26,
   "metadata": {},
   "outputs": [],
   "source": [
    "# cpi_Q = pd.read_csv('https://raw.githubusercontent.com/matuteiglesias/IPC-Argentina/main/data/info/indice_precios_Q.csv', index_col=0)\n",
    "\n",
    "# # cpi_d = pd.read_csv('./../../encuestador-de-hogares/data/info/indice_precios_d.csv', index_col=0)\n",
    "# # display(cpi_Q.tail())\n",
    "# cpi_Q/cpi_2016"
   ]
  },
  {
   "cell_type": "markdown",
   "metadata": {},
   "source": [
    "## Deflactar PPP"
   ]
  },
  {
   "cell_type": "code",
   "execution_count": null,
   "metadata": {},
   "outputs": [],
   "source": [
    "usd = pd.read_csv('./../data/info/ARS_USD_Q.csv')\n",
    "ppp = pd.read_csv('./../data/info/ARG_PPP_Q.csv')\n",
    "ppp = ppp.merge(usd)\n",
    "\n",
    "ppp['ppp_5usd'] = 5.5*(ppp.Value/ppp.tipo_cambio_a3500)*365/12\n",
    "ppp['ppp_5usd_ARS'] = 5.5*ppp.Value*365/12\n",
    "\n",
    "ppp = ppp.merge(cpi_Q.reset_index())\n",
    "ppp['index'] = ppp['index']/cpi_2016.values[0]\n",
    "ppp['ppp_5usd_ARS_deflac'] = ppp['ppp_5usd_ARS']/ppp['index']\n",
    "\n",
    "# ppp['Q'] = pd.to_datetime(ppp.Q)\n",
    "ppp.tail()\n",
    "# ppp.set_index('Q').groupby(pd.Grouper(level = 0, freq = 'Y')).mean().round(2)\n",
    "\n",
    "# ppp.set_index('Q').ppp_5usd_ARS.plot(marker = '.')\n",
    "# plt.yscale('log')"
   ]
  },
  {
   "cell_type": "code",
   "execution_count": null,
   "metadata": {},
   "outputs": [],
   "source": [
    "ppp.to_csv('./../data/info/ppp_defl.csv', index = False)\n"
   ]
  },
  {
   "cell_type": "markdown",
   "metadata": {},
   "source": [
    "## Listo"
   ]
  },
  {
   "cell_type": "code",
   "execution_count": null,
   "metadata": {},
   "outputs": [],
   "source": [
    "# # Debug deflacion\n",
    "# frac = 0.02\n",
    "# val_list = []\n",
    "# for q in ['2020-06-30', '2020-03-31']:\n",
    "#     df = pd.read_csv('./../data/yr_samples/RFReg_'+str(frac)+'ARG'+q+'.csv', \n",
    "#                      usecols = ['P47T'], nrows = 50000)\n",
    "#     val_list += [df.median().values[0]]\n",
    "# plt.plot(np.array(val_list))"
   ]
  },
  {
   "cell_type": "code",
   "execution_count": null,
   "metadata": {},
   "outputs": [],
   "source": [
    "CB_defl_Q.tail()"
   ]
  },
  {
   "cell_type": "code",
   "execution_count": null,
   "metadata": {},
   "outputs": [],
   "source": []
  }
 ],
 "metadata": {
  "kernelspec": {
   "display_name": "Python 3",
   "language": "python",
   "name": "python3"
  },
  "language_info": {
   "codemirror_mode": {
    "name": "ipython",
    "version": 3
   },
   "file_extension": ".py",
   "mimetype": "text/x-python",
   "name": "python",
   "nbconvert_exporter": "python",
   "pygments_lexer": "ipython3",
   "version": "3.8.5"
  }
 },
 "nbformat": 4,
 "nbformat_minor": 2
}
