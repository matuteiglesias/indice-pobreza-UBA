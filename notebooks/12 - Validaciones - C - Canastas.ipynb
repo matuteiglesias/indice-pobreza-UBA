{
 "cells": [
  {
   "cell_type": "code",
   "execution_count": 1,
   "metadata": {},
   "outputs": [],
   "source": [
    "import pandas as pd"
   ]
  },
  {
   "cell_type": "code",
   "execution_count": 2,
   "metadata": {},
   "outputs": [],
   "source": [
    "#### USANDO DATA ONLINE (INFRA DATOS, i.e. portal oficial de Datos Argentina)\n",
    "\n",
    "link_CBA = 'https://infra.datos.gob.ar/catalog/sspm/dataset/445/distribution/445.1/download/canasta-basica-alimentaria-regiones-del-pais.csv'\n",
    "CBAr = pd.read_csv(link_CBA)\n",
    "CBAr.index = pd.to_datetime(CBAr.indice_tiempo); CBAr = CBAr.drop('indice_tiempo', axis = 1)\n",
    "\n",
    "link_CBT = 'https://infra.datos.gob.ar/catalog/sspm/dataset/446/distribution/446.1/download/canasta-basica-total-regiones-del-pais.csv'\n",
    "CBTr = pd.read_csv(link_CBT)\n",
    "CBTr.index = pd.to_datetime(CBTr.indice_tiempo); CBTr = CBTr.drop('indice_tiempo', axis = 1)\n",
    "\n",
    "CB = pd.concat([CBAr.stack(), CBTr.stack()], axis = 1)\n",
    "CB.columns = ['CBA', 'CBT']; CB.index.names = ['Mes', 'Region']\n",
    "## Atenti que los nombres de regiones difieren (estan en lowercase y con '_')"
   ]
  },
  {
   "cell_type": "code",
   "execution_count": 3,
   "metadata": {},
   "outputs": [],
   "source": [
    "from datetime import datetime as dt\n",
    "  \n",
    "# Getting current date and time\n",
    "today = dt.today()"
   ]
  },
  {
   "cell_type": "code",
   "execution_count": 4,
   "metadata": {},
   "outputs": [],
   "source": [
    "cpi_M = pd.read_csv('https://raw.githubusercontent.com/matuteiglesias/IPC-Argentina/main/data/info/indice_precios_M.csv', index_col=0)\n",
    "cpi_M.index = pd.to_datetime(cpi_M.index)\n",
    "\n",
    "cpi_Q = pd.read_csv('https://raw.githubusercontent.com/matuteiglesias/IPC-Argentina/main/data/info/indice_precios_Q.csv', index_col=0)\n",
    "cpi_Q.index = pd.to_datetime(cpi_Q.index)\n",
    "\n",
    "## OPCION INDICE SE FIJA X MES\n",
    "cpi_2016 = cpi_M.loc['2016-01']\n",
    "\n",
    "cpi_M_CB = cpi_M.loc[CB.unstack().index]\n",
    "cpi_M_CB.columns = pd.MultiIndex.from_product([['Indice de Precios'], cpi_M_CB.columns])"
   ]
  },
  {
   "cell_type": "code",
   "execution_count": 5,
   "metadata": {},
   "outputs": [],
   "source": [
    "from IPython.display import display, Markdown, Latex"
   ]
  },
  {
   "cell_type": "code",
   "execution_count": 26,
   "metadata": {},
   "outputs": [
    {
     "data": {
      "text/markdown": [
       "### CBA Dec-2021"
      ],
      "text/plain": [
       "<IPython.core.display.Markdown object>"
      ]
     },
     "metadata": {},
     "output_type": "display_data"
    },
    {
     "data": {
      "text/html": [
       "<div>\n",
       "<style scoped>\n",
       "    .dataframe tbody tr th:only-of-type {\n",
       "        vertical-align: middle;\n",
       "    }\n",
       "\n",
       "    .dataframe tbody tr th {\n",
       "        vertical-align: top;\n",
       "    }\n",
       "\n",
       "    .dataframe thead th {\n",
       "        text-align: right;\n",
       "    }\n",
       "</style>\n",
       "<table border=\"1\" class=\"dataframe\">\n",
       "  <thead>\n",
       "    <tr style=\"text-align: right;\">\n",
       "      <th></th>\n",
       "      <th>ARS Dec-2021</th>\n",
       "      <th>ARS May-2022</th>\n",
       "    </tr>\n",
       "  </thead>\n",
       "  <tbody>\n",
       "    <tr>\n",
       "      <th>gran_buenos_aires</th>\n",
       "      <td>10670</td>\n",
       "      <td>13920</td>\n",
       "    </tr>\n",
       "    <tr>\n",
       "      <th>cuyo</th>\n",
       "      <td>9500</td>\n",
       "      <td>12400</td>\n",
       "    </tr>\n",
       "    <tr>\n",
       "      <th>noreste</th>\n",
       "      <td>9650</td>\n",
       "      <td>12590</td>\n",
       "    </tr>\n",
       "    <tr>\n",
       "      <th>noroeste</th>\n",
       "      <td>9260</td>\n",
       "      <td>12090</td>\n",
       "    </tr>\n",
       "    <tr>\n",
       "      <th>pampeana</th>\n",
       "      <td>10570</td>\n",
       "      <td>13800</td>\n",
       "    </tr>\n",
       "    <tr>\n",
       "      <th>patagonia</th>\n",
       "      <td>11040</td>\n",
       "      <td>14410</td>\n",
       "    </tr>\n",
       "  </tbody>\n",
       "</table>\n",
       "</div>"
      ],
      "text/plain": [
       "                   ARS Dec-2021  ARS May-2022\n",
       "gran_buenos_aires         10670         13920\n",
       "cuyo                       9500         12400\n",
       "noreste                    9650         12590\n",
       "noroeste                   9260         12090\n",
       "pampeana                  10570         13800\n",
       "patagonia                 11040         14410"
      ]
     },
     "execution_count": 26,
     "metadata": {},
     "output_type": "execute_result"
    }
   ],
   "source": [
    "\n",
    "df = CBAr\n",
    "display(Markdown('### CBA '+df.index[-1].strftime(\"%b-%Y\")))\n",
    "\n",
    "CBlast = df.iloc[[-1]].T\n",
    "cpi_CBlast = cpi_M.loc[df.index[-1]]\n",
    "\n",
    "tabla = pd.concat([CBlast, CBlast*(cpi_actual/cpi_CBlast)['index']], axis = 1)\n",
    "tabla.columns = ['ARS '+df.index[-1].strftime(\"%b-%Y\"), \n",
    "                 'ARS '+today.strftime(\"%b-%Y\")]\n",
    "\n",
    "tabla.round(-1).astype(int)"
   ]
  },
  {
   "cell_type": "code",
   "execution_count": 27,
   "metadata": {},
   "outputs": [
    {
     "data": {
      "text/markdown": [
       "### CBT Dec-2021"
      ],
      "text/plain": [
       "<IPython.core.display.Markdown object>"
      ]
     },
     "metadata": {},
     "output_type": "display_data"
    },
    {
     "data": {
      "text/html": [
       "<div>\n",
       "<style scoped>\n",
       "    .dataframe tbody tr th:only-of-type {\n",
       "        vertical-align: middle;\n",
       "    }\n",
       "\n",
       "    .dataframe tbody tr th {\n",
       "        vertical-align: top;\n",
       "    }\n",
       "\n",
       "    .dataframe thead th {\n",
       "        text-align: right;\n",
       "    }\n",
       "</style>\n",
       "<table border=\"1\" class=\"dataframe\">\n",
       "  <thead>\n",
       "    <tr style=\"text-align: right;\">\n",
       "      <th></th>\n",
       "      <th>ARS Dec-2021</th>\n",
       "      <th>ARS May-2022</th>\n",
       "    </tr>\n",
       "  </thead>\n",
       "  <tbody>\n",
       "    <tr>\n",
       "      <th>gran_buenos_aires</th>\n",
       "      <td>24640</td>\n",
       "      <td>32160</td>\n",
       "    </tr>\n",
       "    <tr>\n",
       "      <th>cuyo</th>\n",
       "      <td>23380</td>\n",
       "      <td>30510</td>\n",
       "    </tr>\n",
       "    <tr>\n",
       "      <th>noreste</th>\n",
       "      <td>20840</td>\n",
       "      <td>27200</td>\n",
       "    </tr>\n",
       "    <tr>\n",
       "      <th>noroeste</th>\n",
       "      <td>19820</td>\n",
       "      <td>25870</td>\n",
       "    </tr>\n",
       "    <tr>\n",
       "      <th>pampeana</th>\n",
       "      <td>24420</td>\n",
       "      <td>31870</td>\n",
       "    </tr>\n",
       "    <tr>\n",
       "      <th>patagonia</th>\n",
       "      <td>28930</td>\n",
       "      <td>37760</td>\n",
       "    </tr>\n",
       "  </tbody>\n",
       "</table>\n",
       "</div>"
      ],
      "text/plain": [
       "                   ARS Dec-2021  ARS May-2022\n",
       "gran_buenos_aires         24640         32160\n",
       "cuyo                      23380         30510\n",
       "noreste                   20840         27200\n",
       "noroeste                  19820         25870\n",
       "pampeana                  24420         31870\n",
       "patagonia                 28930         37760"
      ]
     },
     "execution_count": 27,
     "metadata": {},
     "output_type": "execute_result"
    }
   ],
   "source": [
    "display(Markdown('### CBT '+df.index[-1].strftime(\"%b-%Y\")))\n",
    "\n",
    "df = CBTr\n",
    "\n",
    "CBlast = df.iloc[[-1]].T\n",
    "cpi_CBlast = cpi_M.loc[df.index[-1]]\n",
    "\n",
    "tabla = pd.concat([CBlast, CBlast*(cpi_actual/cpi_CBlast)['index']], axis = 1)\n",
    "tabla.columns = ['ARS '+df.index[-1].strftime(\"%b-%Y\"), \n",
    "                 'ARS '+today.strftime(\"%b-%Y\")]\n",
    "\n",
    "tabla.round(-1).astype(int)"
   ]
  },
  {
   "cell_type": "code",
   "execution_count": 12,
   "metadata": {},
   "outputs": [],
   "source": [
    "CB_defl_Q = pd.read_csv('./../data/info/CB_Reg_defl.csv')\n",
    "q_ = '2010-11-15'\n",
    "CBAT2010 = CB_defl_Q.loc[CB_defl_Q.Q == q_]#.set_index(['Q', 'Region'])#/ipc_10_16\n",
    "\n",
    "cpi_actual = cpi_M.loc['2022-05']['index'][0]\n",
    "cpi_2010Q4 = cpi_Q.loc['2010-11']['index'][0]\n",
    "cpi_ref = cpi_M.loc['2016-01']['index'][0]"
   ]
  },
  {
   "cell_type": "code",
   "execution_count": 13,
   "metadata": {},
   "outputs": [
    {
     "data": {
      "text/markdown": [
       "### CBA Nov-2010"
      ],
      "text/plain": [
       "<IPython.core.display.Markdown object>"
      ]
     },
     "metadata": {},
     "output_type": "display_data"
    },
    {
     "data": {
      "text/html": [
       "<div>\n",
       "<style scoped>\n",
       "    .dataframe tbody tr th:only-of-type {\n",
       "        vertical-align: middle;\n",
       "    }\n",
       "\n",
       "    .dataframe tbody tr th {\n",
       "        vertical-align: top;\n",
       "    }\n",
       "\n",
       "    .dataframe thead th {\n",
       "        text-align: right;\n",
       "    }\n",
       "</style>\n",
       "<table border=\"1\" class=\"dataframe\">\n",
       "  <thead>\n",
       "    <tr style=\"text-align: right;\">\n",
       "      <th></th>\n",
       "      <th>ARS Nov-2010</th>\n",
       "      <th>ARS May-2022</th>\n",
       "    </tr>\n",
       "    <tr>\n",
       "      <th>Region</th>\n",
       "      <th></th>\n",
       "      <th></th>\n",
       "    </tr>\n",
       "  </thead>\n",
       "  <tbody>\n",
       "    <tr>\n",
       "      <th>cuyo</th>\n",
       "      <td>320</td>\n",
       "      <td>12044</td>\n",
       "    </tr>\n",
       "    <tr>\n",
       "      <th>gran_buenos_aires</th>\n",
       "      <td>359</td>\n",
       "      <td>13527</td>\n",
       "    </tr>\n",
       "    <tr>\n",
       "      <th>noreste</th>\n",
       "      <td>321</td>\n",
       "      <td>12091</td>\n",
       "    </tr>\n",
       "    <tr>\n",
       "      <th>noroeste</th>\n",
       "      <td>312</td>\n",
       "      <td>11751</td>\n",
       "    </tr>\n",
       "    <tr>\n",
       "      <th>pampeana</th>\n",
       "      <td>356</td>\n",
       "      <td>13406</td>\n",
       "    </tr>\n",
       "    <tr>\n",
       "      <th>patagonia</th>\n",
       "      <td>371</td>\n",
       "      <td>13958</td>\n",
       "    </tr>\n",
       "  </tbody>\n",
       "</table>\n",
       "</div>"
      ],
      "text/plain": [
       "                   ARS Nov-2010  ARS May-2022\n",
       "Region                                       \n",
       "cuyo                        320         12044\n",
       "gran_buenos_aires           359         13527\n",
       "noreste                     321         12091\n",
       "noroeste                    312         11751\n",
       "pampeana                    356         13406\n",
       "patagonia                   371         13958"
      ]
     },
     "execution_count": 13,
     "metadata": {},
     "output_type": "execute_result"
    }
   ],
   "source": [
    "display(Markdown('### CBA '+pd.to_datetime(q_).strftime(\"%b-%Y\")))\n",
    "\n",
    "CB2010 = CBAT2010.set_index('Region')[['CBA']]\n",
    "\n",
    "tabla = pd.concat([CB2010*(cpi_2010Q4/cpi_ref), CB2010*(cpi_actual/cpi_ref)], axis = 1)\n",
    "tabla.columns = ['ARS '+pd.to_datetime(q_).strftime(\"%b-%Y\"), \n",
    "                 'ARS '+today.strftime(\"%b-%Y\")]\n",
    "\n",
    "tabla.round().astype(int)"
   ]
  },
  {
   "cell_type": "code",
   "execution_count": 14,
   "metadata": {},
   "outputs": [
    {
     "data": {
      "text/markdown": [
       "### CBT Nov-2010"
      ],
      "text/plain": [
       "<IPython.core.display.Markdown object>"
      ]
     },
     "metadata": {},
     "output_type": "display_data"
    },
    {
     "data": {
      "text/html": [
       "<div>\n",
       "<style scoped>\n",
       "    .dataframe tbody tr th:only-of-type {\n",
       "        vertical-align: middle;\n",
       "    }\n",
       "\n",
       "    .dataframe tbody tr th {\n",
       "        vertical-align: top;\n",
       "    }\n",
       "\n",
       "    .dataframe thead th {\n",
       "        text-align: right;\n",
       "    }\n",
       "</style>\n",
       "<table border=\"1\" class=\"dataframe\">\n",
       "  <thead>\n",
       "    <tr style=\"text-align: right;\">\n",
       "      <th></th>\n",
       "      <th>ARS Nov-2010</th>\n",
       "      <th>ARS May-2022</th>\n",
       "    </tr>\n",
       "    <tr>\n",
       "      <th>Region</th>\n",
       "      <th></th>\n",
       "      <th></th>\n",
       "    </tr>\n",
       "  </thead>\n",
       "  <tbody>\n",
       "    <tr>\n",
       "      <th>cuyo</th>\n",
       "      <td>830</td>\n",
       "      <td>31253</td>\n",
       "    </tr>\n",
       "    <tr>\n",
       "      <th>gran_buenos_aires</th>\n",
       "      <td>876</td>\n",
       "      <td>32970</td>\n",
       "    </tr>\n",
       "    <tr>\n",
       "      <th>noreste</th>\n",
       "      <td>733</td>\n",
       "      <td>27593</td>\n",
       "    </tr>\n",
       "    <tr>\n",
       "      <th>noroeste</th>\n",
       "      <td>706</td>\n",
       "      <td>26582</td>\n",
       "    </tr>\n",
       "    <tr>\n",
       "      <th>pampeana</th>\n",
       "      <td>868</td>\n",
       "      <td>32666</td>\n",
       "    </tr>\n",
       "    <tr>\n",
       "      <th>patagonia</th>\n",
       "      <td>1026</td>\n",
       "      <td>38619</td>\n",
       "    </tr>\n",
       "  </tbody>\n",
       "</table>\n",
       "</div>"
      ],
      "text/plain": [
       "                   ARS Nov-2010  ARS May-2022\n",
       "Region                                       \n",
       "cuyo                        830         31253\n",
       "gran_buenos_aires           876         32970\n",
       "noreste                     733         27593\n",
       "noroeste                    706         26582\n",
       "pampeana                    868         32666\n",
       "patagonia                  1026         38619"
      ]
     },
     "execution_count": 14,
     "metadata": {},
     "output_type": "execute_result"
    }
   ],
   "source": [
    "display(Markdown('### CBT '+pd.to_datetime(q_).strftime(\"%b-%Y\")))\n",
    "\n",
    "CB2010 = CBAT2010.set_index('Region')[['CBT']]\n",
    "\n",
    "tabla = pd.concat([CB2010*(cpi_2010Q4/cpi_ref), CB2010*(cpi_actual/cpi_ref)], axis = 1)\n",
    "tabla.columns = ['ARS '+pd.to_datetime(q_).strftime(\"%b-%Y\"), \n",
    "                 'ARS '+today.strftime(\"%b-%Y\")]\n",
    "\n",
    "tabla.round().astype(int)"
   ]
  },
  {
   "cell_type": "code",
   "execution_count": null,
   "metadata": {},
   "outputs": [],
   "source": []
  },
  {
   "cell_type": "code",
   "execution_count": null,
   "metadata": {},
   "outputs": [],
   "source": []
  },
  {
   "cell_type": "code",
   "execution_count": null,
   "metadata": {},
   "outputs": [],
   "source": []
  }
 ],
 "metadata": {
  "kernelspec": {
   "display_name": "Python 3",
   "language": "python",
   "name": "python3"
  },
  "language_info": {
   "codemirror_mode": {
    "name": "ipython",
    "version": 3
   },
   "file_extension": ".py",
   "mimetype": "text/x-python",
   "name": "python",
   "nbconvert_exporter": "python",
   "pygments_lexer": "ipython3",
   "version": "3.8.5"
  }
 },
 "nbformat": 4,
 "nbformat_minor": 4
}
