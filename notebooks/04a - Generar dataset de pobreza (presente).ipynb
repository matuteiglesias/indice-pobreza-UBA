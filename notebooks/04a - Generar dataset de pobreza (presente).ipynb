{
 "cells": [
  {
   "cell_type": "code",
   "execution_count": 2,
   "metadata": {},
   "outputs": [
    {
     "data": {
      "text/html": [
       "<style>.container { width:100% !important; }</style>"
      ],
      "text/plain": [
       "<IPython.core.display.HTML object>"
      ]
     },
     "metadata": {},
     "output_type": "display_data"
    }
   ],
   "source": [
    "import pandas as pd\n",
    "import matplotlib.pyplot as plt\n",
    "import seaborn as sns\n",
    "\n",
    "pd.options.display.max_columns = 60\n",
    "pd.options.display.max_rows = 500\n",
    "import warnings\n",
    "warnings.filterwarnings('ignore')\n",
    "\n",
    "import dask.dataframe as dd\n",
    "from dask.diagnostics import ProgressBar\n",
    "\n",
    "import os\n",
    "\n",
    "import numpy as np\n",
    "\n",
    "from IPython.core.display import display, HTML\n",
    "display(HTML(\"<style>.container { width:100% !important; }</style>\"))"
   ]
  },
  {
   "cell_type": "code",
   "execution_count": 3,
   "metadata": {},
   "outputs": [],
   "source": [
    "frac = 0.02"
   ]
  },
  {
   "cell_type": "code",
   "execution_count": 5,
   "metadata": {},
   "outputs": [],
   "source": [
    "# Adulto equivalente. Cuanto cuesta la manutencion de las personas segun sexo y edad.\n",
    "ad_eq = pd.read_csv('./../data/info/adulto_eq.csv')\n",
    "\n",
    "#Importar canasta basica regional deflac\n",
    "CB_ipc = pd.read_csv('./../data/info/CB_Reg_defl.csv')\n",
    "\n",
    "ppp_defl = pd.read_csv('./../data/info/ppp_defl.csv')\n",
    "\n",
    "# Load radio ref. Merge regiones.\n",
    "# Anything that is AGLOMERADO 33 should be region Gran Buenos Aires\n",
    "\n",
    "radio_ref = pd.read_csv('./../data/info/radio_ref.csv').merge(pd.read_csv('./../data/info/prov_regs.csv'), how = 'left')\n",
    "\n",
    "radio_ref = pd.read_csv('./../data/info/radio_ref.csv')#.merge(aglo_labels)\n",
    "dpto_region = pd.read_csv('./../data/info/DPTO_PROV_Region.csv')\n",
    "radio_ref = radio_ref.merge(dpto_region)\n",
    "\n",
    "# DPTO_Region = radio_ref[['DPTO', 'Region']].drop_duplicates()"
   ]
  },
  {
   "cell_type": "code",
   "execution_count": 6,
   "metadata": {},
   "outputs": [],
   "source": [
    "dpto_region = pd.read_csv('./../data/info/DPTO_PROV_Region.csv')\n",
    "DPTO_Region = radio_ref[['DPTO', 'Region']].drop_duplicates()"
   ]
  },
  {
   "cell_type": "markdown",
   "metadata": {},
   "source": [
    "## 1.  Resultados estaticos (se toma 1 año)"
   ]
  },
  {
   "cell_type": "code",
   "execution_count": 5,
   "metadata": {},
   "outputs": [],
   "source": [
    "import glob\n",
    "# path ='./data/RFReg_' # use your path\n",
    "# path ='./../../encuestador-de-hogares/data/yr_samples/RFReg_' # use your path\n",
    "path ='./../data/yr_samples/RFReg_'\n",
    "\n",
    "allFiles = []\n",
    "for year in [str(s) for s in range(2019, 2021)]:\n",
    "    allFiles += glob.glob(path +str(frac)+ '*'+str(year)+'*_ARG.csv')\n",
    "    # Estos son los archivos que se usan para tener una figura estatica, corte donde no importa evol. temporal.\n",
    "\n",
    "allFiles = sorted(allFiles)[-8:] # ultimo anio\n"
   ]
  },
  {
   "cell_type": "code",
   "execution_count": 6,
   "metadata": {},
   "outputs": [
    {
     "data": {
      "text/plain": [
       "'2019-2020'"
      ]
     },
     "execution_count": 6,
     "metadata": {},
     "output_type": "execute_result"
    }
   ],
   "source": [
    "# years = np.unique([int(f[-14:-10]) for f in  allFiles])\n",
    "years = np.unique([int(f[-18:-14]) for f in  allFiles[-4:]]) # ultimo anio \n",
    "years = np.unique([int(f[-18:-14]) for f in  allFiles[-8:]]) # ultimos 2 anios\n",
    "# f[-18:-14] # Depende de la convencion para nombrar el archivo\n",
    "\n",
    "if len(years) == 1:\n",
    "    yr_label = str(years[0])\n",
    "else:\n",
    "    yr_label = '-'.join([str(years.min()), str(years.max())])\n",
    "    \n",
    "yr_label"
   ]
  },
  {
   "cell_type": "code",
   "execution_count": 7,
   "metadata": {},
   "outputs": [
    {
     "name": "stdout",
     "output_type": "stream",
     "text": [
      "2019-02-15\n",
      "2019-05-15\n",
      "2019-08-15\n",
      "2019-11-15\n",
      "2020-02-15\n",
      "2020-05-15\n",
      "2020-08-15\n",
      "2020-11-15\n"
     ]
    }
   ],
   "source": [
    "\n",
    "df_parts = []\n",
    "for quarter_Xy_file in sorted(allFiles)[-8:]:# ultimo anio\n",
    "    df_Q = pd.read_csv(quarter_Xy_file, \n",
    "                           usecols = ['PERSONA_REF_ID', 'HOGAR_REF_ID','RADIO_REF_ID', 'CONDACT', 'CAT_INAC', 'CAT_OCUP',\n",
    "                                      'IX_TOT', 'H16', 'H15','P47T', 'P03','P02', 'P09','P10', 'DPTO'])\n",
    "    df_Q['ANO4'] = int(quarter_Xy_file[-18:-14])\n",
    "    q = quarter_Xy_file[-18:-8]; print(q)\n",
    "    df_Q['Q'] = q\n",
    "    df_parts += [df_Q]\n",
    "\n",
    "df = pd.concat(df_parts)\n",
    "del df_Q\n"
   ]
  },
  {
   "cell_type": "code",
   "execution_count": 8,
   "metadata": {},
   "outputs": [
    {
     "data": {
      "text/plain": [
       "[('df', 1442333692),\n",
       " ('radio_ref', 17219219),\n",
       " ('dpto_region', 120394),\n",
       " ('CB_ipc', 70830),\n",
       " ('DPTO_Region', 44574),\n",
       " ('ppp_defl', 8769),\n",
       " ('ad_eq', 5472)]"
      ]
     },
     "execution_count": 8,
     "metadata": {},
     "output_type": "execute_result"
    }
   ],
   "source": [
    "import sys\n",
    "\n",
    "# These are the usual ipython objects, including this one you are creating\n",
    "ipython_vars = ['In', 'Out', 'exit', 'quit', 'get_ipython', 'ipython_vars']\n",
    "\n",
    "# # Get a sorted list of the objects and their sizes\n",
    "sorted([(x, sys.getsizeof(globals().get(x))) for x in dir() if not x.startswith('_') and x not in sys.modules and x not in ipython_vars], key=lambda x: x[1], reverse=True)[:7]"
   ]
  },
  {
   "cell_type": "code",
   "execution_count": 9,
   "metadata": {},
   "outputs": [],
   "source": [
    "\n",
    "columnas_pesos = ['P47T']\n",
    "df[columnas_pesos] = np.power(10, df[columnas_pesos]) - 1\n",
    "\n",
    "# # df.PERSONA_REF_ID.nunique()\n",
    "# 1756665 - 891932 - 884035 = -19302\n",
    "\n",
    "# use means:\n",
    "# ddf = dd.from_pandas(df, npartitions=50);\n",
    "# with ProgressBar():\n",
    "#     df = ddf.groupby(['PERSONA_REF_ID','Q']).mean().compute() \n",
    "## Hay una pequena cantidad de duplicados, gente que fue sampleada mas de una vez, y a las que el modelo les dio el mismo resultado en repetidas veces.\n",
    "# El unico problemita que dan es que los hogares donde estan se agruparian en uno solo. \n",
    "# Quizas se corrige sacando el sampleo con replacement.\n",
    "# Por ahora ignoro el detalle\n",
    "\n",
    "# Editar columnas\n",
    "df['P10'] = 2 - df['P10']\n",
    "df['P09'] = df.P09.replace(5, 4) #Polimodal tomado como secundario \n",
    "\n",
    "# df = df.astype(int)\n",
    "df['P0910'] = df.P09.astype(str) + df.P10.astype(str)\n",
    "df['Grupo_Etario_3'] = pd.cut(df.P03, np.arange(-1, 80, 3))#.round(-1)\n",
    "df['Grupo_Etario_INDEC'] = pd.cut(df.P03, np.array([0, 14, 29, 64, 110]))#.round(-1)\n",
    "df['Grupo_Etario_q10'] = pd.cut(df.P03, np.array([-0.001, 5.0,  11.0, 17.0, 23.0, 29.0, 36.0, 44.0, 53.0, 65.0, 110.0]))#.round(-1)\n",
    "\n",
    "df = df.reset_index()\n"
   ]
  },
  {
   "cell_type": "code",
   "execution_count": null,
   "metadata": {},
   "outputs": [],
   "source": []
  },
  {
   "cell_type": "code",
   "execution_count": 10,
   "metadata": {},
   "outputs": [
    {
     "data": {
      "text/plain": [
       "[('df', 1882851924),\n",
       " ('radio_ref', 17219219),\n",
       " ('dpto_region', 120394),\n",
       " ('CB_ipc', 70830),\n",
       " ('DPTO_Region', 44574),\n",
       " ('ppp_defl', 8769),\n",
       " ('ad_eq', 5472)]"
      ]
     },
     "execution_count": 10,
     "metadata": {},
     "output_type": "execute_result"
    }
   ],
   "source": [
    "# # Get a sorted list of the objects and their sizes\n",
    "sorted([(x, sys.getsizeof(globals().get(x))) for x in dir() if not x.startswith('_') and x not in sys.modules and x not in ipython_vars], key=lambda x: x[1], reverse=True)[:7]\n"
   ]
  },
  {
   "cell_type": "code",
   "execution_count": null,
   "metadata": {},
   "outputs": [],
   "source": []
  },
  {
   "cell_type": "code",
   "execution_count": 11,
   "metadata": {},
   "outputs": [
    {
     "data": {
      "text/plain": [
       "Q\n",
       "2019-02-15    884200\n",
       "2019-05-15    884200\n",
       "2019-08-15    884200\n",
       "2019-11-15    884200\n",
       "2020-02-15    892073\n",
       "2020-05-15    892073\n",
       "2020-08-15    892073\n",
       "2020-11-15    892073\n",
       "dtype: int64"
      ]
     },
     "execution_count": 11,
     "metadata": {},
     "output_type": "execute_result"
    }
   ],
   "source": [
    "df.groupby('Q').size()"
   ]
  },
  {
   "cell_type": "code",
   "execution_count": 12,
   "metadata": {},
   "outputs": [
    {
     "data": {
      "text/plain": [
       "(7105092, 22)"
      ]
     },
     "execution_count": 12,
     "metadata": {},
     "output_type": "execute_result"
    }
   ],
   "source": [
    "df.shape"
   ]
  },
  {
   "cell_type": "markdown",
   "metadata": {},
   "source": [
    "### Canasta y Pobreza"
   ]
  },
  {
   "cell_type": "code",
   "execution_count": 14,
   "metadata": {},
   "outputs": [],
   "source": [
    "df_cb = df.merge(ad_eq).merge(DPTO_Region).merge(CB_ipc).merge(ppp_defl[['Q', 'ppp_5usd_ARS_deflac']])\n",
    "\n",
    "df_cb_hogares = df_cb.groupby(['HOGAR_REF_ID', 'Q'])[['P47T','CBA', 'CBT', 'CB_EQUIV', 'ppp_5usd_ARS_deflac']].sum()\n",
    "del df_cb # Ahorrar memoria\n",
    "\n",
    "df_cb_hogares['Pobreza'] = df_cb_hogares['P47T'] < df_cb_hogares['CBT']\n",
    "df_cb_hogares['Indigencia'] = df_cb_hogares['P47T'] < df_cb_hogares['CBA']\n",
    "df_cb_hogares['Pobreza_5usd'] = df_cb_hogares['P47T'] < df_cb_hogares['ppp_5usd_ARS_deflac']\n",
    "pobreza_hogares = df_cb_hogares[['P47T','CBA','CBT', 'CB_EQUIV','Pobreza', 'Indigencia', 'Pobreza_5usd']].reset_index()\n",
    "pobreza_hogares['gap_pobreza'] = pobreza_hogares.P47T - pobreza_hogares.CBT\n",
    "pobreza_hogares['gap_indigencia'] = pobreza_hogares.P47T - pobreza_hogares.CBA\n",
    "pobreza_hogares = pobreza_hogares.rename(columns = {'P47T': 'P47T_hogar'})\n",
    "\n",
    "# df = df.sample(25000)\n",
    "data = df.merge(pobreza_hogares, on = ['HOGAR_REF_ID', 'Q'])#, how = 'left')\n",
    "del df; del pobreza_hogares # Ahorrar memoria\n",
    "\n",
    "data = data.rename(columns = {'P47T': 'P47T_persona'})\n",
    "\n",
    "# data = data\n",
    "data = data.merge(radio_ref[['RADIO_REF_ID', 'IDFRAC', 'PROV', 'NOMPROV', 'AGLOMERADO']].drop_duplicates())\n",
    "\n",
    "if not os.path.exists('./../data/Pobreza/'):\n",
    "    os.makedirs('./../data/Pobreza/')\n",
    "filename = './../data/Pobreza/pobreza_'+'_'.join([str(frac), yr_label])+'.csv'\n",
    "data.to_csv(filename, index = False)\n"
   ]
  },
  {
   "cell_type": "code",
   "execution_count": 15,
   "metadata": {},
   "outputs": [
    {
     "data": {
      "text/plain": [
       "Pobreza         0.470378\n",
       "Indigencia      0.145807\n",
       "Pobreza_5usd    0.119322\n",
       "dtype: float64"
      ]
     },
     "execution_count": 15,
     "metadata": {},
     "output_type": "execute_result"
    }
   ],
   "source": [
    "data[['Pobreza', 'Indigencia', 'Pobreza_5usd']].mean()"
   ]
  },
  {
   "cell_type": "code",
   "execution_count": 16,
   "metadata": {},
   "outputs": [
    {
     "data": {
      "text/plain": [
       "'./../data/Pobreza/pobreza_0.02_2019-2020.csv'"
      ]
     },
     "execution_count": 16,
     "metadata": {},
     "output_type": "execute_result"
    }
   ],
   "source": [
    "filename"
   ]
  },
  {
   "cell_type": "code",
   "execution_count": 17,
   "metadata": {},
   "outputs": [
    {
     "data": {
      "text/plain": [
       "(7105092, 35)"
      ]
     },
     "execution_count": 17,
     "metadata": {},
     "output_type": "execute_result"
    }
   ],
   "source": [
    "data.shape"
   ]
  },
  {
   "cell_type": "code",
   "execution_count": 18,
   "metadata": {},
   "outputs": [
    {
     "data": {
      "text/plain": [
       "[('data', 3026304664),\n",
       " ('df_cb_hogares', 107438303),\n",
       " ('radio_ref', 17444317),\n",
       " ('dpto_region', 120394),\n",
       " ('CB_ipc', 70830),\n",
       " ('DPTO_Region', 44574),\n",
       " ('ppp_defl', 8769)]"
      ]
     },
     "execution_count": 18,
     "metadata": {},
     "output_type": "execute_result"
    }
   ],
   "source": [
    "# # Get a sorted list of the objects and their sizes\n",
    "sorted([(x, sys.getsizeof(globals().get(x))) for x in dir() if not x.startswith('_') and x not in sys.modules and x not in ipython_vars], key=lambda x: x[1], reverse=True)[:7]\n"
   ]
  },
  {
   "cell_type": "markdown",
   "metadata": {},
   "source": [
    "## 2. Resultados series de tiempo (se computa para todos y cada trimestre)"
   ]
  },
  {
   "cell_type": "code",
   "execution_count": 7,
   "metadata": {},
   "outputs": [
    {
     "data": {
      "text/plain": [
       "['./../data/yr_samples/RFReg_0.02_2019-02-15_ARG.csv',\n",
       " './../data/yr_samples/RFReg_0.02_2019-05-15_ARG.csv',\n",
       " './../data/yr_samples/RFReg_0.02_2019-08-15_ARG.csv',\n",
       " './../data/yr_samples/RFReg_0.02_2019-11-15_ARG.csv',\n",
       " './../data/yr_samples/RFReg_0.02_2020-02-15_ARG.csv',\n",
       " './../data/yr_samples/RFReg_0.02_2020-05-15_ARG.csv',\n",
       " './../data/yr_samples/RFReg_0.02_2020-08-15_ARG.csv']"
      ]
     },
     "execution_count": 7,
     "metadata": {},
     "output_type": "execute_result"
    }
   ],
   "source": [
    "import glob\n",
    "# path ='./data/RFReg_' # use your path\n",
    "# path ='./../data/yr_samples/RFReg_' # use your path\n",
    "# path ='./../../encuestador-de-hogares/data/yr_samples/RFReg_' # use your path\n",
    "path ='./../../indice-pobreza-ExactasUBA/data/yr_samples/RFReg_' # use your path\n",
    "path ='./../data/yr_samples/RFReg_'\n",
    "\n",
    "\n",
    "allFiles = []\n",
    "for year in [str(s) for s in range(2003, 2021)]: ## Importante poner el anio de comienzo de la serie\n",
    "    # Estos archivos se computan en la notebook tipo 04c - Predict using trained models- Empleo Trimestral.ipynb\n",
    "    allFiles += glob.glob(path +str(frac)+'_'+ year +'*.csv')\n",
    "sorted(allFiles)"
   ]
  },
  {
   "cell_type": "code",
   "execution_count": 7,
   "metadata": {
    "scrolled": false
   },
   "outputs": [
    {
     "name": "stdout",
     "output_type": "stream",
     "text": [
      "2003-08-15\n",
      "Poblacion: 37170700.0\n"
     ]
    },
    {
     "data": {
      "text/plain": [
       "Pobreza         0.630951\n",
       "Indigencia      0.317861\n",
       "Pobreza_5usd    0.373507\n",
       "dtype: float64"
      ]
     },
     "metadata": {},
     "output_type": "display_data"
    },
    {
     "name": "stdout",
     "output_type": "stream",
     "text": [
      "2003-11-15\n",
      "Poblacion: 37170700.0\n"
     ]
    },
    {
     "data": {
      "text/plain": [
       "Pobreza         0.649220\n",
       "Indigencia      0.320541\n",
       "Pobreza_5usd    0.382808\n",
       "dtype: float64"
      ]
     },
     "metadata": {},
     "output_type": "display_data"
    },
    {
     "name": "stdout",
     "output_type": "stream",
     "text": [
      "2004-02-15\n",
      "Poblacion: 37486000.0\n"
     ]
    },
    {
     "data": {
      "text/plain": [
       "Pobreza         0.627458\n",
       "Indigencia      0.293195\n",
       "Pobreza_5usd    0.366616\n",
       "dtype: float64"
      ]
     },
     "metadata": {},
     "output_type": "display_data"
    },
    {
     "name": "stdout",
     "output_type": "stream",
     "text": [
      "2004-05-15\n",
      "Poblacion: 37486000.0\n"
     ]
    },
    {
     "data": {
      "text/plain": [
       "Pobreza         0.650984\n",
       "Indigencia      0.314951\n",
       "Pobreza_5usd    0.397878\n",
       "dtype: float64"
      ]
     },
     "metadata": {},
     "output_type": "display_data"
    },
    {
     "name": "stdout",
     "output_type": "stream",
     "text": [
      "2004-08-15\n",
      "Poblacion: 37486000.0\n"
     ]
    },
    {
     "data": {
      "text/plain": [
       "Pobreza         0.600243\n",
       "Indigencia      0.289073\n",
       "Pobreza_5usd    0.360880\n",
       "dtype: float64"
      ]
     },
     "metadata": {},
     "output_type": "display_data"
    },
    {
     "name": "stdout",
     "output_type": "stream",
     "text": [
      "2004-11-15\n",
      "Poblacion: 37486000.0\n"
     ]
    },
    {
     "data": {
      "text/plain": [
       "Pobreza         0.632930\n",
       "Indigencia      0.290440\n",
       "Pobreza_5usd    0.376901\n",
       "dtype: float64"
      ]
     },
     "metadata": {},
     "output_type": "display_data"
    },
    {
     "name": "stdout",
     "output_type": "stream",
     "text": [
      "2005-02-15\n",
      "Poblacion: 37889050.0\n"
     ]
    },
    {
     "data": {
      "text/plain": [
       "Pobreza         0.581351\n",
       "Indigencia      0.251216\n",
       "Pobreza_5usd    0.326378\n",
       "dtype: float64"
      ]
     },
     "metadata": {},
     "output_type": "display_data"
    },
    {
     "name": "stdout",
     "output_type": "stream",
     "text": [
      "2005-05-15\n",
      "Poblacion: 37889050.0\n"
     ]
    },
    {
     "data": {
      "text/plain": [
       "Pobreza         0.615885\n",
       "Indigencia      0.278165\n",
       "Pobreza_5usd    0.347495\n",
       "dtype: float64"
      ]
     },
     "metadata": {},
     "output_type": "display_data"
    },
    {
     "name": "stdout",
     "output_type": "stream",
     "text": [
      "2005-08-15\n",
      "Poblacion: 37889050.0\n"
     ]
    },
    {
     "data": {
      "text/plain": [
       "Pobreza         0.560704\n",
       "Indigencia      0.251829\n",
       "Pobreza_5usd    0.314679\n",
       "dtype: float64"
      ]
     },
     "metadata": {},
     "output_type": "display_data"
    },
    {
     "name": "stdout",
     "output_type": "stream",
     "text": [
      "2005-11-15\n",
      "Poblacion: 37889050.0\n"
     ]
    },
    {
     "data": {
      "text/plain": [
       "Pobreza         0.573934\n",
       "Indigencia      0.242540\n",
       "Pobreza_5usd    0.305617\n",
       "dtype: float64"
      ]
     },
     "metadata": {},
     "output_type": "display_data"
    },
    {
     "name": "stdout",
     "output_type": "stream",
     "text": [
      "2006-02-15\n",
      "Poblacion: 38372600.0\n"
     ]
    },
    {
     "data": {
      "text/plain": [
       "Pobreza         0.514480\n",
       "Indigencia      0.208681\n",
       "Pobreza_5usd    0.261799\n",
       "dtype: float64"
      ]
     },
     "metadata": {},
     "output_type": "display_data"
    },
    {
     "name": "stdout",
     "output_type": "stream",
     "text": [
      "2006-05-15\n",
      "Poblacion: 38372600.0\n"
     ]
    },
    {
     "data": {
      "text/plain": [
       "Pobreza         0.540942\n",
       "Indigencia      0.209945\n",
       "Pobreza_5usd    0.279422\n",
       "dtype: float64"
      ]
     },
     "metadata": {},
     "output_type": "display_data"
    },
    {
     "name": "stdout",
     "output_type": "stream",
     "text": [
      "2006-08-15\n",
      "Poblacion: 38372600.0\n"
     ]
    },
    {
     "data": {
      "text/plain": [
       "Pobreza         0.481789\n",
       "Indigencia      0.195522\n",
       "Pobreza_5usd    0.255251\n",
       "dtype: float64"
      ]
     },
     "metadata": {},
     "output_type": "display_data"
    },
    {
     "name": "stdout",
     "output_type": "stream",
     "text": [
      "2006-11-15\n",
      "Poblacion: 38372600.0\n"
     ]
    },
    {
     "data": {
      "text/plain": [
       "Pobreza         0.511268\n",
       "Indigencia      0.199842\n",
       "Pobreza_5usd    0.259421\n",
       "dtype: float64"
      ]
     },
     "metadata": {},
     "output_type": "display_data"
    },
    {
     "name": "stdout",
     "output_type": "stream",
     "text": [
      "2007-02-15\n",
      "Poblacion: 38767500.0\n"
     ]
    },
    {
     "data": {
      "text/plain": [
       "Pobreza         0.436532\n",
       "Indigencia      0.167924\n",
       "Pobreza_5usd    0.218196\n",
       "dtype: float64"
      ]
     },
     "metadata": {},
     "output_type": "display_data"
    },
    {
     "name": "stdout",
     "output_type": "stream",
     "text": [
      "2007-05-15\n",
      "Poblacion: 38767500.0\n"
     ]
    },
    {
     "data": {
      "text/plain": [
       "Pobreza         0.486085\n",
       "Indigencia      0.176614\n",
       "Pobreza_5usd    0.226487\n",
       "dtype: float64"
      ]
     },
     "metadata": {},
     "output_type": "display_data"
    },
    {
     "name": "stdout",
     "output_type": "stream",
     "text": [
      "2007-11-15\n",
      "Poblacion: 38767500.0\n"
     ]
    },
    {
     "data": {
      "text/plain": [
       "Pobreza         0.483854\n",
       "Indigencia      0.171557\n",
       "Pobreza_5usd    0.214035\n",
       "dtype: float64"
      ]
     },
     "metadata": {},
     "output_type": "display_data"
    },
    {
     "name": "stdout",
     "output_type": "stream",
     "text": [
      "2008-02-15\n",
      "Poblacion: 39189600.0\n"
     ]
    },
    {
     "data": {
      "text/plain": [
       "Pobreza         0.434249\n",
       "Indigencia      0.151903\n",
       "Pobreza_5usd    0.192903\n",
       "dtype: float64"
      ]
     },
     "metadata": {},
     "output_type": "display_data"
    },
    {
     "name": "stdout",
     "output_type": "stream",
     "text": [
      "2008-05-15\n",
      "Poblacion: 39189600.0\n"
     ]
    },
    {
     "data": {
      "text/plain": [
       "Pobreza         0.457826\n",
       "Indigencia      0.151936\n",
       "Pobreza_5usd    0.192986\n",
       "dtype: float64"
      ]
     },
     "metadata": {},
     "output_type": "display_data"
    },
    {
     "name": "stdout",
     "output_type": "stream",
     "text": [
      "2008-08-15\n",
      "Poblacion: 39189600.0\n"
     ]
    },
    {
     "data": {
      "text/plain": [
       "Pobreza         0.434728\n",
       "Indigencia      0.155590\n",
       "Pobreza_5usd    0.186802\n",
       "dtype: float64"
      ]
     },
     "metadata": {},
     "output_type": "display_data"
    },
    {
     "name": "stdout",
     "output_type": "stream",
     "text": [
      "2008-11-15\n",
      "Poblacion: 39189600.0\n"
     ]
    },
    {
     "data": {
      "text/plain": [
       "Pobreza         0.456764\n",
       "Indigencia      0.155361\n",
       "Pobreza_5usd    0.185827\n",
       "dtype: float64"
      ]
     },
     "metadata": {},
     "output_type": "display_data"
    },
    {
     "name": "stdout",
     "output_type": "stream",
     "text": [
      "2009-02-15\n",
      "Poblacion: 39669400.0\n"
     ]
    },
    {
     "data": {
      "text/plain": [
       "Pobreza         0.424554\n",
       "Indigencia      0.151916\n",
       "Pobreza_5usd    0.178490\n",
       "dtype: float64"
      ]
     },
     "metadata": {},
     "output_type": "display_data"
    },
    {
     "name": "stdout",
     "output_type": "stream",
     "text": [
      "2009-05-15\n",
      "Poblacion: 39669400.0\n"
     ]
    },
    {
     "data": {
      "text/plain": [
       "Pobreza         0.460298\n",
       "Indigencia      0.162377\n",
       "Pobreza_5usd    0.197385\n",
       "dtype: float64"
      ]
     },
     "metadata": {},
     "output_type": "display_data"
    },
    {
     "name": "stdout",
     "output_type": "stream",
     "text": [
      "2009-08-15\n",
      "Poblacion: 39669400.0\n"
     ]
    },
    {
     "data": {
      "text/plain": [
       "Pobreza         0.422008\n",
       "Indigencia      0.146396\n",
       "Pobreza_5usd    0.175518\n",
       "dtype: float64"
      ]
     },
     "metadata": {},
     "output_type": "display_data"
    },
    {
     "name": "stdout",
     "output_type": "stream",
     "text": [
      "2009-11-15\n",
      "Poblacion: 39669400.0\n"
     ]
    },
    {
     "data": {
      "text/plain": [
       "Pobreza         0.458484\n",
       "Indigencia      0.160805\n",
       "Pobreza_5usd    0.192190\n",
       "dtype: float64"
      ]
     },
     "metadata": {},
     "output_type": "display_data"
    },
    {
     "name": "stdout",
     "output_type": "stream",
     "text": [
      "2010-02-15\n",
      "Poblacion: 40104950.0\n"
     ]
    },
    {
     "data": {
      "text/plain": [
       "Pobreza         0.412854\n",
       "Indigencia      0.133601\n",
       "Pobreza_5usd    0.161047\n",
       "dtype: float64"
      ]
     },
     "metadata": {},
     "output_type": "display_data"
    },
    {
     "name": "stdout",
     "output_type": "stream",
     "text": [
      "2010-05-15\n",
      "Poblacion: 40104950.0\n"
     ]
    },
    {
     "data": {
      "text/plain": [
       "Pobreza         0.453788\n",
       "Indigencia      0.149056\n",
       "Pobreza_5usd    0.172869\n",
       "dtype: float64"
      ]
     },
     "metadata": {},
     "output_type": "display_data"
    },
    {
     "name": "stdout",
     "output_type": "stream",
     "text": [
      "2010-08-15\n",
      "Poblacion: 40104950.0\n"
     ]
    },
    {
     "data": {
      "text/plain": [
       "Pobreza         0.418426\n",
       "Indigencia      0.137590\n",
       "Pobreza_5usd    0.156731\n",
       "dtype: float64"
      ]
     },
     "metadata": {},
     "output_type": "display_data"
    },
    {
     "name": "stdout",
     "output_type": "stream",
     "text": [
      "2010-11-15\n",
      "Poblacion: 40104950.0\n"
     ]
    },
    {
     "data": {
      "text/plain": [
       "Pobreza         0.439757\n",
       "Indigencia      0.137102\n",
       "Pobreza_5usd    0.162830\n",
       "dtype: float64"
      ]
     },
     "metadata": {},
     "output_type": "display_data"
    },
    {
     "name": "stdout",
     "output_type": "stream",
     "text": [
      "2011-02-15\n",
      "Poblacion: 40508000.0\n"
     ]
    },
    {
     "data": {
      "text/plain": [
       "Pobreza         0.390327\n",
       "Indigencia      0.122093\n",
       "Pobreza_5usd    0.140432\n",
       "dtype: float64"
      ]
     },
     "metadata": {},
     "output_type": "display_data"
    },
    {
     "name": "stdout",
     "output_type": "stream",
     "text": [
      "2011-05-15\n",
      "Poblacion: 40508000.0\n"
     ]
    },
    {
     "data": {
      "text/plain": [
       "Pobreza         0.433397\n",
       "Indigencia      0.129456\n",
       "Pobreza_5usd    0.145239\n",
       "dtype: float64"
      ]
     },
     "metadata": {},
     "output_type": "display_data"
    },
    {
     "name": "stdout",
     "output_type": "stream",
     "text": [
      "2011-08-15\n",
      "Poblacion: 40508000.0\n"
     ]
    },
    {
     "data": {
      "text/plain": [
       "Pobreza         0.388271\n",
       "Indigencia      0.120630\n",
       "Pobreza_5usd    0.133366\n",
       "dtype: float64"
      ]
     },
     "metadata": {},
     "output_type": "display_data"
    },
    {
     "name": "stdout",
     "output_type": "stream",
     "text": [
      "2011-11-15\n",
      "Poblacion: 40508000.0\n"
     ]
    },
    {
     "data": {
      "text/plain": [
       "Pobreza         0.406384\n",
       "Indigencia      0.114253\n",
       "Pobreza_5usd    0.126431\n",
       "dtype: float64"
      ]
     },
     "metadata": {},
     "output_type": "display_data"
    },
    {
     "name": "stdout",
     "output_type": "stream",
     "text": [
      "2012-02-15\n",
      "Poblacion: 41034650.0\n"
     ]
    },
    {
     "data": {
      "text/plain": [
       "Pobreza         0.372319\n",
       "Indigencia      0.112253\n",
       "Pobreza_5usd    0.123035\n",
       "dtype: float64"
      ]
     },
     "metadata": {},
     "output_type": "display_data"
    },
    {
     "name": "stdout",
     "output_type": "stream",
     "text": [
      "2012-05-15\n",
      "Poblacion: 41034650.0\n"
     ]
    },
    {
     "data": {
      "text/plain": [
       "Pobreza         0.414420\n",
       "Indigencia      0.121410\n",
       "Pobreza_5usd    0.126492\n",
       "dtype: float64"
      ]
     },
     "metadata": {},
     "output_type": "display_data"
    },
    {
     "name": "stdout",
     "output_type": "stream",
     "text": [
      "2012-08-15\n",
      "Poblacion: 41034650.0\n"
     ]
    },
    {
     "data": {
      "text/plain": [
       "Pobreza         0.386919\n",
       "Indigencia      0.123319\n",
       "Pobreza_5usd    0.121357\n",
       "dtype: float64"
      ]
     },
     "metadata": {},
     "output_type": "display_data"
    },
    {
     "name": "stdout",
     "output_type": "stream",
     "text": [
      "2012-11-15\n",
      "Poblacion: 41034650.0\n"
     ]
    },
    {
     "data": {
      "text/plain": [
       "Pobreza         0.404465\n",
       "Indigencia      0.122163\n",
       "Pobreza_5usd    0.119715\n",
       "dtype: float64"
      ]
     },
     "metadata": {},
     "output_type": "display_data"
    },
    {
     "name": "stdout",
     "output_type": "stream",
     "text": [
      "2013-02-15\n",
      "Poblacion: 41449350.0\n"
     ]
    },
    {
     "data": {
      "text/plain": [
       "Pobreza         0.376897\n",
       "Indigencia      0.112892\n",
       "Pobreza_5usd    0.117387\n",
       "dtype: float64"
      ]
     },
     "metadata": {},
     "output_type": "display_data"
    },
    {
     "name": "stdout",
     "output_type": "stream",
     "text": [
      "2013-05-15\n",
      "Poblacion: 41449350.0\n"
     ]
    },
    {
     "data": {
      "text/plain": [
       "Pobreza         0.390957\n",
       "Indigencia      0.110762\n",
       "Pobreza_5usd    0.118071\n",
       "dtype: float64"
      ]
     },
     "metadata": {},
     "output_type": "display_data"
    },
    {
     "name": "stdout",
     "output_type": "stream",
     "text": [
      "2013-08-15\n",
      "Poblacion: 41449350.0\n"
     ]
    },
    {
     "data": {
      "text/plain": [
       "Pobreza         0.355524\n",
       "Indigencia      0.101612\n",
       "Pobreza_5usd    0.109558\n",
       "dtype: float64"
      ]
     },
     "metadata": {},
     "output_type": "display_data"
    },
    {
     "name": "stdout",
     "output_type": "stream",
     "text": [
      "2013-11-15\n",
      "Poblacion: 41449350.0\n"
     ]
    },
    {
     "data": {
      "text/plain": [
       "Pobreza         0.371251\n",
       "Indigencia      0.104281\n",
       "Pobreza_5usd    0.114535\n",
       "dtype: float64"
      ]
     },
     "metadata": {},
     "output_type": "display_data"
    },
    {
     "name": "stdout",
     "output_type": "stream",
     "text": [
      "2014-02-15\n",
      "Poblacion: 41926950.0\n"
     ]
    },
    {
     "data": {
      "text/plain": [
       "Pobreza         0.386702\n",
       "Indigencia      0.111638\n",
       "Pobreza_5usd    0.115147\n",
       "dtype: float64"
      ]
     },
     "metadata": {},
     "output_type": "display_data"
    },
    {
     "name": "stdout",
     "output_type": "stream",
     "text": [
      "2014-05-15\n",
      "Poblacion: 41926950.0\n"
     ]
    },
    {
     "data": {
      "text/plain": [
       "Pobreza         0.419451\n",
       "Indigencia      0.124409\n",
       "Pobreza_5usd    0.129096\n",
       "dtype: float64"
      ]
     },
     "metadata": {},
     "output_type": "display_data"
    },
    {
     "name": "stdout",
     "output_type": "stream",
     "text": [
      "2014-08-15\n",
      "Poblacion: 41926950.0\n"
     ]
    },
    {
     "data": {
      "text/plain": [
       "Pobreza         0.387089\n",
       "Indigencia      0.115382\n",
       "Pobreza_5usd    0.120780\n",
       "dtype: float64"
      ]
     },
     "metadata": {},
     "output_type": "display_data"
    },
    {
     "name": "stdout",
     "output_type": "stream",
     "text": [
      "2014-11-15\n",
      "Poblacion: 41926950.0\n"
     ]
    },
    {
     "data": {
      "text/plain": [
       "Pobreza         0.400540\n",
       "Indigencia      0.112975\n",
       "Pobreza_5usd    0.110328\n",
       "dtype: float64"
      ]
     },
     "metadata": {},
     "output_type": "display_data"
    },
    {
     "name": "stdout",
     "output_type": "stream",
     "text": [
      "2015-02-15\n",
      "Poblacion: 42482000.0\n"
     ]
    },
    {
     "data": {
      "text/plain": [
       "Pobreza         0.358605\n",
       "Indigencia      0.099673\n",
       "Pobreza_5usd    0.103755\n",
       "dtype: float64"
      ]
     },
     "metadata": {},
     "output_type": "display_data"
    },
    {
     "name": "stdout",
     "output_type": "stream",
     "text": [
      "2015-05-15\n",
      "Poblacion: 42482000.0\n"
     ]
    },
    {
     "data": {
      "text/plain": [
       "Pobreza         0.384695\n",
       "Indigencia      0.108298\n",
       "Pobreza_5usd    0.109644\n",
       "dtype: float64"
      ]
     },
     "metadata": {},
     "output_type": "display_data"
    },
    {
     "name": "stdout",
     "output_type": "stream",
     "text": [
      "2016-05-15\n",
      "Poblacion: 42945000.0\n"
     ]
    },
    {
     "data": {
      "text/plain": [
       "Pobreza         0.421313\n",
       "Indigencia      0.121486\n",
       "Pobreza_5usd    0.126345\n",
       "dtype: float64"
      ]
     },
     "metadata": {},
     "output_type": "display_data"
    },
    {
     "name": "stdout",
     "output_type": "stream",
     "text": [
      "2016-08-15\n",
      "Poblacion: 42945000.0\n"
     ]
    },
    {
     "data": {
      "text/plain": [
       "Pobreza         0.380739\n",
       "Indigencia      0.118936\n",
       "Pobreza_5usd    0.115917\n",
       "dtype: float64"
      ]
     },
     "metadata": {},
     "output_type": "display_data"
    },
    {
     "name": "stdout",
     "output_type": "stream",
     "text": [
      "2016-11-15\n",
      "Poblacion: 42945000.0\n"
     ]
    },
    {
     "data": {
      "text/plain": [
       "Pobreza         0.388874\n",
       "Indigencia      0.116763\n",
       "Pobreza_5usd    0.111543\n",
       "dtype: float64"
      ]
     },
     "metadata": {},
     "output_type": "display_data"
    },
    {
     "name": "stdout",
     "output_type": "stream",
     "text": [
      "2017-02-15\n",
      "Poblacion: 43387350.0\n"
     ]
    },
    {
     "data": {
      "text/plain": [
       "Pobreza         0.344553\n",
       "Indigencia      0.102501\n",
       "Pobreza_5usd    0.095379\n",
       "dtype: float64"
      ]
     },
     "metadata": {},
     "output_type": "display_data"
    },
    {
     "name": "stdout",
     "output_type": "stream",
     "text": [
      "2017-05-15\n",
      "Poblacion: 43387350.0\n"
     ]
    },
    {
     "data": {
      "text/plain": [
       "Pobreza         0.391083\n",
       "Indigencia      0.110083\n",
       "Pobreza_5usd    0.099496\n",
       "dtype: float64"
      ]
     },
     "metadata": {},
     "output_type": "display_data"
    },
    {
     "name": "stdout",
     "output_type": "stream",
     "text": [
      "2017-08-15\n",
      "Poblacion: 43387350.0\n"
     ]
    },
    {
     "data": {
      "text/plain": [
       "Pobreza         0.348293\n",
       "Indigencia      0.105203\n",
       "Pobreza_5usd    0.092267\n",
       "dtype: float64"
      ]
     },
     "metadata": {},
     "output_type": "display_data"
    },
    {
     "name": "stdout",
     "output_type": "stream",
     "text": [
      "2018-02-15\n",
      "Poblacion: 43721900.0\n"
     ]
    },
    {
     "data": {
      "text/plain": [
       "Pobreza         0.354472\n",
       "Indigencia      0.104499\n",
       "Pobreza_5usd    0.100500\n",
       "dtype: float64"
      ]
     },
     "metadata": {},
     "output_type": "display_data"
    },
    {
     "name": "stdout",
     "output_type": "stream",
     "text": [
      "2018-05-15\n",
      "Poblacion: 43721900.0\n"
     ]
    },
    {
     "data": {
      "text/plain": [
       "Pobreza         0.410667\n",
       "Indigencia      0.114177\n",
       "Pobreza_5usd    0.110071\n",
       "dtype: float64"
      ]
     },
     "metadata": {},
     "output_type": "display_data"
    },
    {
     "name": "stdout",
     "output_type": "stream",
     "text": [
      "2018-08-15\n",
      "Poblacion: 43721900.0\n"
     ]
    },
    {
     "data": {
      "text/plain": [
       "Pobreza         0.396838\n",
       "Indigencia      0.118843\n",
       "Pobreza_5usd    0.109016\n",
       "dtype: float64"
      ]
     },
     "metadata": {},
     "output_type": "display_data"
    },
    {
     "name": "stdout",
     "output_type": "stream",
     "text": [
      "2018-11-15\n",
      "Poblacion: 43721900.0\n"
     ]
    },
    {
     "data": {
      "text/plain": [
       "Pobreza         0.471953\n",
       "Indigencia      0.141449\n",
       "Pobreza_5usd    0.119638\n",
       "dtype: float64"
      ]
     },
     "metadata": {},
     "output_type": "display_data"
    },
    {
     "name": "stdout",
     "output_type": "stream",
     "text": [
      "2019-02-15\n",
      "Poblacion: 44210000.0\n"
     ]
    },
    {
     "data": {
      "text/plain": [
       "Pobreza         0.442360\n",
       "Indigencia      0.139966\n",
       "Pobreza_5usd    0.121033\n",
       "dtype: float64"
      ]
     },
     "metadata": {},
     "output_type": "display_data"
    },
    {
     "name": "stdout",
     "output_type": "stream",
     "text": [
      "2019-05-15\n",
      "Poblacion: 44210000.0\n"
     ]
    },
    {
     "data": {
      "text/plain": [
       "Pobreza         0.490390\n",
       "Indigencia      0.148482\n",
       "Pobreza_5usd    0.125763\n",
       "dtype: float64"
      ]
     },
     "metadata": {},
     "output_type": "display_data"
    },
    {
     "name": "stdout",
     "output_type": "stream",
     "text": [
      "2019-08-15\n",
      "Poblacion: 44210000.0\n"
     ]
    },
    {
     "data": {
      "text/plain": [
       "Pobreza         0.443378\n",
       "Indigencia      0.137973\n",
       "Pobreza_5usd    0.116206\n",
       "dtype: float64"
      ]
     },
     "metadata": {},
     "output_type": "display_data"
    },
    {
     "name": "stdout",
     "output_type": "stream",
     "text": [
      "2019-11-15\n",
      "Poblacion: 44210000.0\n"
     ]
    },
    {
     "data": {
      "text/plain": [
       "Pobreza         0.490241\n",
       "Indigencia      0.157063\n",
       "Pobreza_5usd    0.126307\n",
       "dtype: float64"
      ]
     },
     "metadata": {},
     "output_type": "display_data"
    },
    {
     "name": "stdout",
     "output_type": "stream",
     "text": [
      "2020-02-15\n",
      "Poblacion: 44603650.0\n"
     ]
    },
    {
     "data": {
      "text/plain": [
       "Pobreza         0.420320\n",
       "Indigencia      0.133028\n",
       "Pobreza_5usd    0.107283\n",
       "dtype: float64"
      ]
     },
     "metadata": {},
     "output_type": "display_data"
    },
    {
     "name": "stdout",
     "output_type": "stream",
     "text": [
      "2020-05-15\n",
      "Poblacion: 44603650.0\n"
     ]
    },
    {
     "data": {
      "text/plain": [
       "Pobreza         0.515276\n",
       "Indigencia      0.160468\n",
       "Pobreza_5usd    0.128171\n",
       "dtype: float64"
      ]
     },
     "metadata": {},
     "output_type": "display_data"
    },
    {
     "name": "stdout",
     "output_type": "stream",
     "text": [
      "2020-08-15\n",
      "Poblacion: 44603650.0\n"
     ]
    },
    {
     "data": {
      "text/plain": [
       "Pobreza         0.446151\n",
       "Indigencia      0.130440\n",
       "Pobreza_5usd    0.103666\n",
       "dtype: float64"
      ]
     },
     "metadata": {},
     "output_type": "display_data"
    },
    {
     "name": "stdout",
     "output_type": "stream",
     "text": [
      "2020-11-15\n",
      "Poblacion: 44603650.0\n"
     ]
    },
    {
     "data": {
      "text/plain": [
       "Pobreza         0.514771\n",
       "Indigencia      0.159037\n",
       "Pobreza_5usd    0.126255\n",
       "dtype: float64"
      ]
     },
     "metadata": {},
     "output_type": "display_data"
    }
   ],
   "source": [
    "for quarter_Xy_file in sorted(allFiles):\n",
    "    if not os.path.exists('./../data/Pobreza/'):\n",
    "        os.makedirs('./../data/Pobreza/')\n",
    "        \n",
    "    q = quarter_Xy_file[-18:-8]\n",
    "    filename = './../data/Pobreza/pobreza_'+'_'.join([str(frac), 'q'+q])+'.csv'\n",
    "    print(q)\n",
    "#     if not os.path.exists('./../data/Pobreza/pobreza_'+'_'.join([str(frac), 'q'+q])+'.csv'):\n",
    "\n",
    "    df = pd.read_csv(quarter_Xy_file, \n",
    "                           usecols = ['PERSONA_REF_ID', 'HOGAR_REF_ID','RADIO_REF_ID', 'CONDACT', 'CAT_INAC', 'CAT_OCUP',\n",
    "                                      'IX_TOT', 'H16', 'H15','P47T', 'P03','P02', 'P09','P10', 'DPTO'])\n",
    "    df['ANO4'] = int(quarter_Xy_file[-18:-14])\n",
    "    df['Q'] = q\n",
    "\n",
    "    columnas_pesos = ['P47T']\n",
    "    df[columnas_pesos] = np.power(10, df[columnas_pesos]) - 1\n",
    "\n",
    "#     ddf = dd.from_pandas(df, npartitions=50)\n",
    "#     with ProgressBar():\n",
    "#         df = ddf.groupby(['PERSONA_REF_ID']).mean().compute()\n",
    "\n",
    "    # Editar columnas\n",
    "    df['P10'] = 2 - df['P10']\n",
    "    df['P09'] = df.P09.replace(5, 4) #Polimodal tomado como secundario \n",
    "\n",
    "#     df = df.astype(int)\n",
    "    df['P0910'] = df.P09.astype(str) + df.P10.astype(str)\n",
    "    df['Grupo_Etario_3'] = pd.cut(df.P03, np.arange(-1, 80, 3))#.round(-1)\n",
    "    df['Grupo_Etario_INDEC'] = pd.cut(df.P03, np.array([0, 13, 29, 64, 110]))#.round(-1)\n",
    "    df['Grupo_Etario_q10'] = pd.cut(df.P03, np.array([-0.001, 5.0,  11.0, 17.0, 23.0, 29.0, 36.0, 44.0, 53.0, 65.0, 110.0]))#.round(-1)\n",
    "\n",
    "\n",
    "    df = df.reset_index()\n",
    "\n",
    "    df_cb = df.merge(ad_eq).merge(DPTO_Region).merge(CB_ipc).merge(ppp_defl[['Q', 'ppp_5usd_ARS_deflac']])\n",
    "\n",
    "    df_cb_hogares = df_cb.groupby(['HOGAR_REF_ID', 'Q'])[['P47T','CBA', 'CBT', 'CB_EQUIV', 'ppp_5usd_ARS_deflac']].sum()\n",
    "    df_cb_hogares['Pobreza'] = df_cb_hogares['P47T'] < df_cb_hogares['CBT']\n",
    "    df_cb_hogares['Indigencia'] = df_cb_hogares['P47T'] < df_cb_hogares['CBA']\n",
    "    df_cb_hogares['Pobreza_5usd'] = df_cb_hogares['P47T'] < df_cb_hogares['ppp_5usd_ARS_deflac']\n",
    "    pobreza_hogares = df_cb_hogares[['P47T','CBA','CBT', 'CB_EQUIV','Pobreza', 'Indigencia', 'Pobreza_5usd']].reset_index()\n",
    "    pobreza_hogares['gap_pobreza'] = pobreza_hogares.P47T - pobreza_hogares.CBT\n",
    "    pobreza_hogares['gap_indigencia'] = pobreza_hogares.P47T - pobreza_hogares.CBA\n",
    "    pobreza_hogares = pobreza_hogares.rename(columns = {'P47T': 'P47T_hogar'})\n",
    "\n",
    "    # df = df.sample(25000)\n",
    "    data = df.merge(pobreza_hogares, on = ['HOGAR_REF_ID', 'Q'])#, how = 'left')\n",
    "\n",
    "    data = data.rename(columns = {'P47T': 'P47T_persona'})\n",
    "\n",
    "    # data = data\n",
    "    data = data.merge(radio_ref[['RADIO_REF_ID', 'IDFRAC', 'PROV', 'NOMPROV', 'AGLOMERADO', 'Region']].drop_duplicates())\n",
    "\n",
    "    print(\"Poblacion: \"+str(len(data)/frac))\n",
    "    display(data[['Pobreza', 'Indigencia', 'Pobreza_5usd']].mean())\n",
    "    data.to_csv(filename, index = False) ## Aca si ya existen no deberian sobreescribirse (o si)\n",
    "    \n",
    "    print(filename+' saved')"
   ]
  },
  {
   "cell_type": "code",
   "execution_count": null,
   "metadata": {},
   "outputs": [],
   "source": [
    "filename"
   ]
  },
  {
   "cell_type": "code",
   "execution_count": null,
   "metadata": {},
   "outputs": [],
   "source": [
    "# ./../data/Pobreza/pobreza_0.02_q2003-08-15.csv"
   ]
  },
  {
   "cell_type": "code",
   "execution_count": 21,
   "metadata": {},
   "outputs": [
    {
     "data": {
      "text/plain": [
       "Index(['index', 'RADIO_REF_ID', 'DPTO', 'HOGAR_REF_ID', 'H15', 'H16', 'IX_TOT',\n",
       "       'PERSONA_REF_ID', 'P02', 'P03', 'P09', 'P10', 'CONDACT', 'CAT_OCUP',\n",
       "       'CAT_INAC', 'P47T_persona', 'ANO4', 'Q', 'P0910', 'Grupo_Etario_3',\n",
       "       'Grupo_Etario_INDEC', 'Grupo_Etario_q10', 'P47T_hogar', 'CBA', 'CBT',\n",
       "       'CB_EQUIV', 'Pobreza', 'Indigencia', 'Pobreza_5usd', 'gap_pobreza',\n",
       "       'gap_indigencia', 'IDFRAC', 'PROV', 'NOMPROV', 'AGLOMERADO'],\n",
       "      dtype='object')"
      ]
     },
     "execution_count": 21,
     "metadata": {},
     "output_type": "execute_result"
    }
   ],
   "source": [
    "data.columns"
   ]
  },
  {
   "cell_type": "markdown",
   "metadata": {},
   "source": [
    "# Distribucion del ingreso"
   ]
  },
  {
   "cell_type": "code",
   "execution_count": 22,
   "metadata": {},
   "outputs": [],
   "source": [
    "# import numpy as np\n",
    "# fig, ax = plt.subplots(1, figsize = (5, 3))\n",
    "# plt.hist(np.log10(df.loc[df.P47T > 100].P47T).values, 150, normed = 'pdf')#.groupby()\n",
    "# plt.yscale('log')\n",
    "# plt.show()"
   ]
  },
  {
   "cell_type": "markdown",
   "metadata": {},
   "source": []
  },
  {
   "cell_type": "code",
   "execution_count": 23,
   "metadata": {},
   "outputs": [],
   "source": [
    "###### # fig, ax = plt.subplots(1, figsize = (10, 5))\n",
    "# fig, ax = plt.subplots(1, figsize = (5, 3))\n",
    "# df_ = df.groupby('HOGAR_REF_ID').sum()#.loc[df.P47T > 100]\n",
    "# agg = df_.groupby(pd.cut(np.log10(df_.P47T), np.arange(2, 6, .05)))['P47T'].agg(['count','sum'])\n",
    "# (agg/agg.sum()).plot(ax = ax)\n",
    "# # ax.set_yscale('log')"
   ]
  }
 ],
 "metadata": {
  "kernelspec": {
   "display_name": "Python 3",
   "language": "python",
   "name": "python3"
  },
  "language_info": {
   "codemirror_mode": {
    "name": "ipython",
    "version": 3
   },
   "file_extension": ".py",
   "mimetype": "text/x-python",
   "name": "python",
   "nbconvert_exporter": "python",
   "pygments_lexer": "ipython3",
   "version": "3.8.5"
  }
 },
 "nbformat": 4,
 "nbformat_minor": 2
}
