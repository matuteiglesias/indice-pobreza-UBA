{
 "cells": [
  {
   "cell_type": "code",
   "execution_count": 1,
   "metadata": {},
   "outputs": [
    {
     "data": {
      "text/html": [
       "<style>.container { width:100% !important; }</style>"
      ],
      "text/plain": [
       "<IPython.core.display.HTML object>"
      ]
     },
     "metadata": {},
     "output_type": "display_data"
    }
   ],
   "source": [
    "import pandas as pd\n",
    "import matplotlib.pyplot as plt\n",
    "import seaborn as sns\n",
    "\n",
    "pd.options.display.max_columns = 60\n",
    "pd.options.display.max_rows = 500\n",
    "import warnings\n",
    "warnings.filterwarnings('ignore')\n",
    "\n",
    "import dask.dataframe as dd\n",
    "from dask.diagnostics import ProgressBar\n",
    "\n",
    "import os\n",
    "\n",
    "import numpy as np\n",
    "\n",
    "from IPython.core.display import display, HTML\n",
    "display(HTML(\"<style>.container { width:100% !important; }</style>\"))"
   ]
  },
  {
   "cell_type": "code",
   "execution_count": 2,
   "metadata": {},
   "outputs": [],
   "source": [
    "frac = 0.01"
   ]
  },
  {
   "cell_type": "code",
   "execution_count": 3,
   "metadata": {},
   "outputs": [],
   "source": [
    "# Adulto equivalente. Cuanto cuesta la manutencion de las personas segun sexo y edad.\n",
    "ad_eq = pd.read_csv('./../data/info/adulto_eq.csv')\n",
    "\n",
    "#Importar canasta basica regional deflac\n",
    "CB_ipc = pd.read_csv('./../data/info/CB_Reg_defl.csv')\n",
    "\n",
    "ppp_defl = pd.read_csv('./../data/info/ppp_defl.csv')\n",
    "\n",
    "# Load radio ref. Merge regiones.\n",
    "# Anything that is AGLOMERADO 33 should be region Gran Buenos Aires\n",
    "\n",
    "# radio_ref = pd.read_csv('./../data/info/radio_ref.csv').merge(pd.read_csv('./../data/info/prov_regs.csv'), how = 'left')\n",
    "\n",
    "radio_ref = pd.read_csv('./../data/info/radio_ref.csv')#.merge(aglo_labels)\n",
    "dpto_region = pd.read_csv('./../data/info/DPTO_PROV_Region.csv')\n",
    "## Fix temporario, migracion a nombres de region oficiales\n",
    "dpto_region['Region'] = dpto_region['Region'].map({'Gran Buenos Aires':'gran_buenos_aires', \n",
    "                                                   'Pampeana':'pampeana', 'Noroeste':'noroeste', \n",
    "                                                   'Noreste':'noreste','Patagónica': 'patagonia', 'Cuyo': 'cuyo'})\n",
    "\n",
    "radio_ref = radio_ref.merge(dpto_region)\n",
    "\n",
    "# DPTO_Region = radio_ref[['DPTO', 'Region']].drop_duplicates()"
   ]
  },
  {
   "cell_type": "code",
   "execution_count": 4,
   "metadata": {},
   "outputs": [],
   "source": [
    "# dpto_region = pd.read_csv('./../data/info/DPTO_PROV_Region.csv')\n",
    "DPTO_Region = radio_ref[['DPTO', 'Region']].drop_duplicates()\n",
    "\n"
   ]
  },
  {
   "cell_type": "markdown",
   "metadata": {},
   "source": [
    "## 2. Resultados series de tiempo (se computa para todos y cada trimestre)"
   ]
  },
  {
   "cell_type": "code",
   "execution_count": 5,
   "metadata": {},
   "outputs": [
    {
     "data": {
      "text/plain": [
       "['/media/miglesia/Elements/suite/yr_samples/RFReg_0.01_2010-02-15_ARG.csv',\n",
       " '/media/miglesia/Elements/suite/yr_samples/RFReg_0.01_2010-05-15_ARG.csv',\n",
       " '/media/miglesia/Elements/suite/yr_samples/RFReg_0.01_2010-08-15_ARG.csv',\n",
       " '/media/miglesia/Elements/suite/yr_samples/RFReg_0.01_2010-11-15_ARG.csv',\n",
       " '/media/miglesia/Elements/suite/yr_samples/RFReg_0.01_2011-02-15_ARG.csv',\n",
       " '/media/miglesia/Elements/suite/yr_samples/RFReg_0.01_2011-05-15_ARG.csv',\n",
       " '/media/miglesia/Elements/suite/yr_samples/RFReg_0.01_2011-08-15_ARG.csv',\n",
       " '/media/miglesia/Elements/suite/yr_samples/RFReg_0.01_2011-11-15_ARG.csv',\n",
       " '/media/miglesia/Elements/suite/yr_samples/RFReg_0.01_2012-02-15_ARG.csv',\n",
       " '/media/miglesia/Elements/suite/yr_samples/RFReg_0.01_2012-05-15_ARG.csv',\n",
       " '/media/miglesia/Elements/suite/yr_samples/RFReg_0.01_2012-08-15_ARG.csv',\n",
       " '/media/miglesia/Elements/suite/yr_samples/RFReg_0.01_2012-11-15_ARG.csv',\n",
       " '/media/miglesia/Elements/suite/yr_samples/RFReg_0.01_2013-02-15_ARG.csv',\n",
       " '/media/miglesia/Elements/suite/yr_samples/RFReg_0.01_2013-05-15_ARG.csv',\n",
       " '/media/miglesia/Elements/suite/yr_samples/RFReg_0.01_2013-08-15_ARG.csv',\n",
       " '/media/miglesia/Elements/suite/yr_samples/RFReg_0.01_2013-11-15_ARG.csv',\n",
       " '/media/miglesia/Elements/suite/yr_samples/RFReg_0.01_2014-02-15_ARG.csv',\n",
       " '/media/miglesia/Elements/suite/yr_samples/RFReg_0.01_2014-05-15_ARG.csv',\n",
       " '/media/miglesia/Elements/suite/yr_samples/RFReg_0.01_2014-08-15_ARG.csv',\n",
       " '/media/miglesia/Elements/suite/yr_samples/RFReg_0.01_2014-11-15_ARG.csv',\n",
       " '/media/miglesia/Elements/suite/yr_samples/RFReg_0.01_2015-02-15_ARG.csv',\n",
       " '/media/miglesia/Elements/suite/yr_samples/RFReg_0.01_2015-05-15_ARG.csv',\n",
       " '/media/miglesia/Elements/suite/yr_samples/RFReg_0.01_2016-05-15_ARG.csv',\n",
       " '/media/miglesia/Elements/suite/yr_samples/RFReg_0.01_2016-08-15_ARG.csv',\n",
       " '/media/miglesia/Elements/suite/yr_samples/RFReg_0.01_2016-11-15_ARG.csv',\n",
       " '/media/miglesia/Elements/suite/yr_samples/RFReg_0.01_2017-02-15_ARG.csv',\n",
       " '/media/miglesia/Elements/suite/yr_samples/RFReg_0.01_2017-05-15_ARG.csv',\n",
       " '/media/miglesia/Elements/suite/yr_samples/RFReg_0.01_2017-08-15_ARG.csv',\n",
       " '/media/miglesia/Elements/suite/yr_samples/RFReg_0.01_2017-11-15_ARG.csv',\n",
       " '/media/miglesia/Elements/suite/yr_samples/RFReg_0.01_2018-02-15_ARG.csv',\n",
       " '/media/miglesia/Elements/suite/yr_samples/RFReg_0.01_2018-05-15_ARG.csv',\n",
       " '/media/miglesia/Elements/suite/yr_samples/RFReg_0.01_2018-08-15_ARG.csv',\n",
       " '/media/miglesia/Elements/suite/yr_samples/RFReg_0.01_2018-11-15_ARG.csv',\n",
       " '/media/miglesia/Elements/suite/yr_samples/RFReg_0.01_2019-02-15_ARG.csv',\n",
       " '/media/miglesia/Elements/suite/yr_samples/RFReg_0.01_2019-05-15_ARG.csv',\n",
       " '/media/miglesia/Elements/suite/yr_samples/RFReg_0.01_2019-08-15_ARG.csv',\n",
       " '/media/miglesia/Elements/suite/yr_samples/RFReg_0.01_2019-11-15_ARG.csv',\n",
       " '/media/miglesia/Elements/suite/yr_samples/RFReg_0.01_2020-02-15_ARG.csv',\n",
       " '/media/miglesia/Elements/suite/yr_samples/RFReg_0.01_2020-05-15_ARG.csv',\n",
       " '/media/miglesia/Elements/suite/yr_samples/RFReg_0.01_2020-08-15_ARG.csv',\n",
       " '/media/miglesia/Elements/suite/yr_samples/RFReg_0.01_2020-11-15_ARG.csv',\n",
       " '/media/miglesia/Elements/suite/yr_samples/RFReg_0.01_2021-02-15_ARG.csv',\n",
       " '/media/miglesia/Elements/suite/yr_samples/RFReg_0.01_2021-05-15_ARG.csv',\n",
       " '/media/miglesia/Elements/suite/yr_samples/RFReg_0.01_2021-08-15_ARG.csv',\n",
       " '/media/miglesia/Elements/suite/yr_samples/RFReg_0.01_2021-11-15_ARG.csv']"
      ]
     },
     "execution_count": 5,
     "metadata": {},
     "output_type": "execute_result"
    }
   ],
   "source": [
    "import glob\n",
    "# path ='./data/RFReg_' # use your path\n",
    "# path ='./../data/yr_samples/RFReg_' # use your path\n",
    "# path ='./../../encuestador-de-hogares/data/yr_samples/RFReg_' # use your path\n",
    "path ='./../../indice-pobreza-ExactasUBA/data/yr_samples/RFReg_' # use your path\n",
    "path ='./../data/yr_samples/RFReg_'\n",
    "path ='/media/miglesia/Elements/suite/yr_samples/RFReg_'\n",
    "\n",
    "\n",
    "allFiles = []\n",
    "for year in [str(s) for s in range(2010, 2022)]: ## Importante poner el anio de comienzo de la serie\n",
    "    # Estos archivos se computan en la notebook tipo 02c - Predict using trained models- Empleo Trimestral.ipynb\n",
    "    allFiles += glob.glob(path +str(frac)+'_'+ year +'*.csv')\n",
    "sorted(allFiles)"
   ]
  },
  {
   "cell_type": "code",
   "execution_count": 6,
   "metadata": {
    "scrolled": false
   },
   "outputs": [
    {
     "name": "stdout",
     "output_type": "stream",
     "text": [
      "2010-02-15\n",
      "Poblacion: 40005400.0\n"
     ]
    },
    {
     "data": {
      "text/plain": [
       "Pobreza         0.430699\n",
       "Indigencia      0.158946\n",
       "Pobreza_5usd    0.191952\n",
       "dtype: float64"
      ]
     },
     "metadata": {},
     "output_type": "display_data"
    },
    {
     "name": "stdout",
     "output_type": "stream",
     "text": [
      "./../data/Pobreza/pobreza_0.01_q2010-02-15.csv saved\n",
      "2010-05-15\n",
      "Poblacion: 40005400.0\n"
     ]
    },
    {
     "data": {
      "text/plain": [
       "Pobreza         0.449479\n",
       "Indigencia      0.153714\n",
       "Pobreza_5usd    0.182650\n",
       "dtype: float64"
      ]
     },
     "metadata": {},
     "output_type": "display_data"
    },
    {
     "name": "stdout",
     "output_type": "stream",
     "text": [
      "./../data/Pobreza/pobreza_0.01_q2010-05-15.csv saved\n",
      "2010-08-15\n",
      "Poblacion: 40005400.0\n"
     ]
    },
    {
     "data": {
      "text/plain": [
       "Pobreza         0.423873\n",
       "Indigencia      0.150930\n",
       "Pobreza_5usd    0.172777\n",
       "dtype: float64"
      ]
     },
     "metadata": {},
     "output_type": "display_data"
    },
    {
     "name": "stdout",
     "output_type": "stream",
     "text": [
      "./../data/Pobreza/pobreza_0.01_q2010-08-15.csv saved\n",
      "2010-11-15\n",
      "Poblacion: 40005400.0\n"
     ]
    },
    {
     "data": {
      "text/plain": [
       "Pobreza         0.446317\n",
       "Indigencia      0.144788\n",
       "Pobreza_5usd    0.169705\n",
       "dtype: float64"
      ]
     },
     "metadata": {},
     "output_type": "display_data"
    },
    {
     "name": "stdout",
     "output_type": "stream",
     "text": [
      "./../data/Pobreza/pobreza_0.01_q2010-11-15.csv saved\n",
      "2011-02-15\n",
      "Poblacion: 40641900.0\n"
     ]
    },
    {
     "data": {
      "text/plain": [
       "Pobreza         0.400840\n",
       "Indigencia      0.134492\n",
       "Pobreza_5usd    0.154796\n",
       "dtype: float64"
      ]
     },
     "metadata": {},
     "output_type": "display_data"
    },
    {
     "name": "stdout",
     "output_type": "stream",
     "text": [
      "./../data/Pobreza/pobreza_0.01_q2011-02-15.csv saved\n",
      "2011-05-15\n",
      "Poblacion: 40641900.0\n"
     ]
    },
    {
     "data": {
      "text/plain": [
       "Pobreza         0.440356\n",
       "Indigencia      0.150898\n",
       "Pobreza_5usd    0.173444\n",
       "dtype: float64"
      ]
     },
     "metadata": {},
     "output_type": "display_data"
    },
    {
     "name": "stdout",
     "output_type": "stream",
     "text": [
      "./../data/Pobreza/pobreza_0.01_q2011-05-15.csv saved\n",
      "2011-08-15\n",
      "Poblacion: 40641900.0\n"
     ]
    },
    {
     "data": {
      "text/plain": [
       "Pobreza         0.406037\n",
       "Indigencia      0.138000\n",
       "Pobreza_5usd    0.154173\n",
       "dtype: float64"
      ]
     },
     "metadata": {},
     "output_type": "display_data"
    },
    {
     "name": "stdout",
     "output_type": "stream",
     "text": [
      "./../data/Pobreza/pobreza_0.01_q2011-08-15.csv saved\n",
      "2011-11-15\n",
      "Poblacion: 40641900.0\n"
     ]
    },
    {
     "data": {
      "text/plain": [
       "Pobreza         0.429352\n",
       "Indigencia      0.139501\n",
       "Pobreza_5usd    0.157515\n",
       "dtype: float64"
      ]
     },
     "metadata": {},
     "output_type": "display_data"
    },
    {
     "name": "stdout",
     "output_type": "stream",
     "text": [
      "./../data/Pobreza/pobreza_0.01_q2011-11-15.csv saved\n",
      "2012-02-15\n",
      "Poblacion: 41008300.0\n"
     ]
    },
    {
     "data": {
      "text/plain": [
       "Pobreza         0.394342\n",
       "Indigencia      0.132061\n",
       "Pobreza_5usd    0.143588\n",
       "dtype: float64"
      ]
     },
     "metadata": {},
     "output_type": "display_data"
    },
    {
     "name": "stdout",
     "output_type": "stream",
     "text": [
      "./../data/Pobreza/pobreza_0.01_q2012-02-15.csv saved\n",
      "2012-05-15\n",
      "Poblacion: 41008300.0\n"
     ]
    },
    {
     "data": {
      "text/plain": [
       "Pobreza         0.420244\n",
       "Indigencia      0.133749\n",
       "Pobreza_5usd    0.140576\n",
       "dtype: float64"
      ]
     },
     "metadata": {},
     "output_type": "display_data"
    },
    {
     "name": "stdout",
     "output_type": "stream",
     "text": [
      "./../data/Pobreza/pobreza_0.01_q2012-05-15.csv saved\n",
      "2012-08-15\n",
      "Poblacion: 41008300.0\n"
     ]
    },
    {
     "data": {
      "text/plain": [
       "Pobreza         0.416689\n",
       "Indigencia      0.147929\n",
       "Pobreza_5usd    0.152198\n",
       "dtype: float64"
      ]
     },
     "metadata": {},
     "output_type": "display_data"
    },
    {
     "name": "stdout",
     "output_type": "stream",
     "text": [
      "./../data/Pobreza/pobreza_0.01_q2012-08-15.csv saved\n",
      "2012-11-15\n",
      "Poblacion: 41008300.0\n"
     ]
    },
    {
     "data": {
      "text/plain": [
       "Pobreza         0.423736\n",
       "Indigencia      0.135360\n",
       "Pobreza_5usd    0.136755\n",
       "dtype: float64"
      ]
     },
     "metadata": {},
     "output_type": "display_data"
    },
    {
     "name": "stdout",
     "output_type": "stream",
     "text": [
      "./../data/Pobreza/pobreza_0.01_q2012-11-15.csv saved\n",
      "2013-02-15\n",
      "Poblacion: 41451100.0\n"
     ]
    },
    {
     "data": {
      "text/plain": [
       "Pobreza         0.410245\n",
       "Indigencia      0.141106\n",
       "Pobreza_5usd    0.144935\n",
       "dtype: float64"
      ]
     },
     "metadata": {},
     "output_type": "display_data"
    },
    {
     "name": "stdout",
     "output_type": "stream",
     "text": [
      "./../data/Pobreza/pobreza_0.01_q2013-02-15.csv saved\n",
      "2013-05-15\n",
      "Poblacion: 41451100.0\n"
     ]
    },
    {
     "data": {
      "text/plain": [
       "Pobreza         0.422314\n",
       "Indigencia      0.134132\n",
       "Pobreza_5usd    0.143371\n",
       "dtype: float64"
      ]
     },
     "metadata": {},
     "output_type": "display_data"
    },
    {
     "name": "stdout",
     "output_type": "stream",
     "text": [
      "./../data/Pobreza/pobreza_0.01_q2013-05-15.csv saved\n",
      "2013-08-15\n",
      "Poblacion: 41451100.0\n"
     ]
    },
    {
     "data": {
      "text/plain": [
       "Pobreza         0.404165\n",
       "Indigencia      0.122971\n",
       "Pobreza_5usd    0.133268\n",
       "dtype: float64"
      ]
     },
     "metadata": {},
     "output_type": "display_data"
    },
    {
     "name": "stdout",
     "output_type": "stream",
     "text": [
      "./../data/Pobreza/pobreza_0.01_q2013-08-15.csv saved\n",
      "2013-11-15\n",
      "Poblacion: 41451100.0\n"
     ]
    },
    {
     "data": {
      "text/plain": [
       "Pobreza         0.424360\n",
       "Indigencia      0.131389\n",
       "Pobreza_5usd    0.145842\n",
       "dtype: float64"
      ]
     },
     "metadata": {},
     "output_type": "display_data"
    },
    {
     "name": "stdout",
     "output_type": "stream",
     "text": [
      "./../data/Pobreza/pobreza_0.01_q2013-11-15.csv saved\n",
      "2014-02-15\n",
      "Poblacion: 42006400.0\n"
     ]
    },
    {
     "data": {
      "text/plain": [
       "Pobreza         0.427459\n",
       "Indigencia      0.141064\n",
       "Pobreza_5usd    0.148525\n",
       "dtype: float64"
      ]
     },
     "metadata": {},
     "output_type": "display_data"
    },
    {
     "name": "stdout",
     "output_type": "stream",
     "text": [
      "./../data/Pobreza/pobreza_0.01_q2014-02-15.csv saved\n",
      "2014-05-15\n",
      "Poblacion: 42006400.0\n"
     ]
    },
    {
     "data": {
      "text/plain": [
       "Pobreza         0.466119\n",
       "Indigencia      0.164025\n",
       "Pobreza_5usd    0.170824\n",
       "dtype: float64"
      ]
     },
     "metadata": {},
     "output_type": "display_data"
    },
    {
     "name": "stdout",
     "output_type": "stream",
     "text": [
      "./../data/Pobreza/pobreza_0.01_q2014-05-15.csv saved\n",
      "2014-08-15\n",
      "Poblacion: 42006400.0\n"
     ]
    },
    {
     "data": {
      "text/plain": [
       "Pobreza         0.436919\n",
       "Indigencia      0.152439\n",
       "Pobreza_5usd    0.159904\n",
       "dtype: float64"
      ]
     },
     "metadata": {},
     "output_type": "display_data"
    },
    {
     "name": "stdout",
     "output_type": "stream",
     "text": [
      "./../data/Pobreza/pobreza_0.01_q2014-08-15.csv saved\n",
      "2014-11-15\n",
      "Poblacion: 42006400.0\n"
     ]
    },
    {
     "data": {
      "text/plain": [
       "Pobreza         0.446539\n",
       "Indigencia      0.144797\n",
       "Pobreza_5usd    0.142404\n",
       "dtype: float64"
      ]
     },
     "metadata": {},
     "output_type": "display_data"
    },
    {
     "name": "stdout",
     "output_type": "stream",
     "text": [
      "./../data/Pobreza/pobreza_0.01_q2014-11-15.csv saved\n",
      "2015-02-15\n",
      "Poblacion: 42493900.0\n"
     ]
    },
    {
     "data": {
      "text/plain": [
       "Pobreza         0.403319\n",
       "Indigencia      0.127851\n",
       "Pobreza_5usd    0.134438\n",
       "dtype: float64"
      ]
     },
     "metadata": {},
     "output_type": "display_data"
    },
    {
     "name": "stdout",
     "output_type": "stream",
     "text": [
      "./../data/Pobreza/pobreza_0.01_q2015-02-15.csv saved\n",
      "2015-05-15\n",
      "Poblacion: 42493900.0\n"
     ]
    },
    {
     "data": {
      "text/plain": [
       "Pobreza         0.416766\n",
       "Indigencia      0.128393\n",
       "Pobreza_5usd    0.132132\n",
       "dtype: float64"
      ]
     },
     "metadata": {},
     "output_type": "display_data"
    },
    {
     "name": "stdout",
     "output_type": "stream",
     "text": [
      "./../data/Pobreza/pobreza_0.01_q2015-05-15.csv saved\n",
      "2016-05-15\n",
      "Poblacion: 42759700.0\n"
     ]
    },
    {
     "data": {
      "text/plain": [
       "Pobreza         0.451664\n",
       "Indigencia      0.143507\n",
       "Pobreza_5usd    0.152889\n",
       "dtype: float64"
      ]
     },
     "metadata": {},
     "output_type": "display_data"
    },
    {
     "name": "stdout",
     "output_type": "stream",
     "text": [
      "./../data/Pobreza/pobreza_0.01_q2016-05-15.csv saved\n",
      "2016-08-15\n",
      "Poblacion: 42759700.0\n"
     ]
    },
    {
     "data": {
      "text/plain": [
       "Pobreza         0.436860\n",
       "Indigencia      0.148652\n",
       "Pobreza_5usd    0.150698\n",
       "dtype: float64"
      ]
     },
     "metadata": {},
     "output_type": "display_data"
    },
    {
     "name": "stdout",
     "output_type": "stream",
     "text": [
      "./../data/Pobreza/pobreza_0.01_q2016-08-15.csv saved\n",
      "2016-11-15\n",
      "Poblacion: 42759700.0\n"
     ]
    },
    {
     "data": {
      "text/plain": [
       "Pobreza         0.445211\n",
       "Indigencia      0.154372\n",
       "Pobreza_5usd    0.152155\n",
       "dtype: float64"
      ]
     },
     "metadata": {},
     "output_type": "display_data"
    },
    {
     "name": "stdout",
     "output_type": "stream",
     "text": [
      "./../data/Pobreza/pobreza_0.01_q2016-11-15.csv saved\n",
      "2017-02-15\n",
      "Poblacion: 43357200.0\n"
     ]
    },
    {
     "data": {
      "text/plain": [
       "Pobreza         0.409597\n",
       "Indigencia      0.132262\n",
       "Pobreza_5usd    0.128931\n",
       "dtype: float64"
      ]
     },
     "metadata": {},
     "output_type": "display_data"
    },
    {
     "name": "stdout",
     "output_type": "stream",
     "text": [
      "./../data/Pobreza/pobreza_0.01_q2017-02-15.csv saved\n",
      "2017-05-15\n",
      "Poblacion: 43357200.0\n"
     ]
    },
    {
     "data": {
      "text/plain": [
       "Pobreza         0.437812\n",
       "Indigencia      0.139197\n",
       "Pobreza_5usd    0.128959\n",
       "dtype: float64"
      ]
     },
     "metadata": {},
     "output_type": "display_data"
    },
    {
     "name": "stdout",
     "output_type": "stream",
     "text": [
      "./../data/Pobreza/pobreza_0.01_q2017-05-15.csv saved\n",
      "2017-08-15\n",
      "Poblacion: 43357200.0\n"
     ]
    },
    {
     "data": {
      "text/plain": [
       "Pobreza         0.408477\n",
       "Indigencia      0.129118\n",
       "Pobreza_5usd    0.118158\n",
       "dtype: float64"
      ]
     },
     "metadata": {},
     "output_type": "display_data"
    },
    {
     "name": "stdout",
     "output_type": "stream",
     "text": [
      "./../data/Pobreza/pobreza_0.01_q2017-08-15.csv saved\n",
      "2017-11-15\n",
      "Poblacion: 43357200.0\n"
     ]
    },
    {
     "data": {
      "text/plain": [
       "Pobreza         0.421542\n",
       "Indigencia      0.127891\n",
       "Pobreza_5usd    0.120178\n",
       "dtype: float64"
      ]
     },
     "metadata": {},
     "output_type": "display_data"
    },
    {
     "name": "stdout",
     "output_type": "stream",
     "text": [
      "./../data/Pobreza/pobreza_0.01_q2017-11-15.csv saved\n",
      "2018-02-15\n",
      "Poblacion: 43775900.0\n"
     ]
    },
    {
     "data": {
      "text/plain": [
       "Pobreza         0.413908\n",
       "Indigencia      0.132255\n",
       "Pobreza_5usd    0.130853\n",
       "dtype: float64"
      ]
     },
     "metadata": {},
     "output_type": "display_data"
    },
    {
     "name": "stdout",
     "output_type": "stream",
     "text": [
      "./../data/Pobreza/pobreza_0.01_q2018-02-15.csv saved\n",
      "2018-05-15\n",
      "Poblacion: 43775900.0\n"
     ]
    },
    {
     "data": {
      "text/plain": [
       "Pobreza         0.456731\n",
       "Indigencia      0.138770\n",
       "Pobreza_5usd    0.141201\n",
       "dtype: float64"
      ]
     },
     "metadata": {},
     "output_type": "display_data"
    },
    {
     "name": "stdout",
     "output_type": "stream",
     "text": [
      "./../data/Pobreza/pobreza_0.01_q2018-05-15.csv saved\n",
      "2018-08-15\n",
      "Poblacion: 43775900.0\n"
     ]
    },
    {
     "data": {
      "text/plain": [
       "Pobreza         0.449572\n",
       "Indigencia      0.141128\n",
       "Pobreza_5usd    0.137302\n",
       "dtype: float64"
      ]
     },
     "metadata": {},
     "output_type": "display_data"
    },
    {
     "name": "stdout",
     "output_type": "stream",
     "text": [
      "./../data/Pobreza/pobreza_0.01_q2018-08-15.csv saved\n",
      "2018-11-15\n",
      "Poblacion: 43775900.0\n"
     ]
    },
    {
     "data": {
      "text/plain": [
       "Pobreza         0.515457\n",
       "Indigencia      0.174388\n",
       "Pobreza_5usd    0.153792\n",
       "dtype: float64"
      ]
     },
     "metadata": {},
     "output_type": "display_data"
    },
    {
     "name": "stdout",
     "output_type": "stream",
     "text": [
      "./../data/Pobreza/pobreza_0.01_q2018-11-15.csv saved\n",
      "2019-02-15\n",
      "Poblacion: 44203400.0\n"
     ]
    },
    {
     "data": {
      "text/plain": [
       "Pobreza         0.501570\n",
       "Indigencia      0.179545\n",
       "Pobreza_5usd    0.160599\n",
       "dtype: float64"
      ]
     },
     "metadata": {},
     "output_type": "display_data"
    },
    {
     "name": "stdout",
     "output_type": "stream",
     "text": [
      "./../data/Pobreza/pobreza_0.01_q2019-02-15.csv saved\n",
      "2019-05-15\n",
      "Poblacion: 44203400.0\n"
     ]
    },
    {
     "data": {
      "text/plain": [
       "Pobreza         0.535291\n",
       "Indigencia      0.179219\n",
       "Pobreza_5usd    0.162033\n",
       "dtype: float64"
      ]
     },
     "metadata": {},
     "output_type": "display_data"
    },
    {
     "name": "stdout",
     "output_type": "stream",
     "text": [
      "./../data/Pobreza/pobreza_0.01_q2019-05-15.csv saved\n",
      "2019-08-15\n",
      "Poblacion: 44203400.0\n"
     ]
    },
    {
     "data": {
      "text/plain": [
       "Pobreza         0.503231\n",
       "Indigencia      0.178547\n",
       "Pobreza_5usd    0.156633\n",
       "dtype: float64"
      ]
     },
     "metadata": {},
     "output_type": "display_data"
    },
    {
     "name": "stdout",
     "output_type": "stream",
     "text": [
      "./../data/Pobreza/pobreza_0.01_q2019-08-15.csv saved\n",
      "2019-11-15\n",
      "Poblacion: 44203400.0\n"
     ]
    },
    {
     "data": {
      "text/plain": [
       "Pobreza         0.552023\n",
       "Indigencia      0.193904\n",
       "Pobreza_5usd    0.163714\n",
       "dtype: float64"
      ]
     },
     "metadata": {},
     "output_type": "display_data"
    },
    {
     "name": "stdout",
     "output_type": "stream",
     "text": [
      "./../data/Pobreza/pobreza_0.01_q2019-11-15.csv saved\n",
      "2020-02-15\n",
      "Poblacion: 44820900.0\n"
     ]
    },
    {
     "data": {
      "text/plain": [
       "Pobreza         0.494216\n",
       "Indigencia      0.180269\n",
       "Pobreza_5usd    0.143605\n",
       "dtype: float64"
      ]
     },
     "metadata": {},
     "output_type": "display_data"
    },
    {
     "name": "stdout",
     "output_type": "stream",
     "text": [
      "./../data/Pobreza/pobreza_0.01_q2020-02-15.csv saved\n",
      "2020-05-15\n",
      "Poblacion: 44820900.0\n"
     ]
    },
    {
     "data": {
      "text/plain": [
       "Pobreza         0.545663\n",
       "Indigencia      0.183417\n",
       "Pobreza_5usd    0.143538\n",
       "dtype: float64"
      ]
     },
     "metadata": {},
     "output_type": "display_data"
    },
    {
     "name": "stdout",
     "output_type": "stream",
     "text": [
      "./../data/Pobreza/pobreza_0.01_q2020-05-15.csv saved\n",
      "2020-08-15\n",
      "Poblacion: 44820900.0\n"
     ]
    },
    {
     "data": {
      "text/plain": [
       "Pobreza         0.512060\n",
       "Indigencia      0.175340\n",
       "Pobreza_5usd    0.143911\n",
       "dtype: float64"
      ]
     },
     "metadata": {},
     "output_type": "display_data"
    },
    {
     "name": "stdout",
     "output_type": "stream",
     "text": [
      "./../data/Pobreza/pobreza_0.01_q2020-08-15.csv saved\n",
      "2020-11-15\n",
      "Poblacion: 44820900.0\n"
     ]
    },
    {
     "data": {
      "text/plain": [
       "Pobreza         0.561368\n",
       "Indigencia      0.188930\n",
       "Pobreza_5usd    0.136929\n",
       "dtype: float64"
      ]
     },
     "metadata": {},
     "output_type": "display_data"
    },
    {
     "name": "stdout",
     "output_type": "stream",
     "text": [
      "./../data/Pobreza/pobreza_0.01_q2020-11-15.csv saved\n",
      "2021-02-15\n",
      "Poblacion: 44923900.0\n"
     ]
    },
    {
     "data": {
      "text/plain": [
       "Pobreza         0.554079\n",
       "Indigencia      0.215776\n",
       "Pobreza_5usd    0.147712\n",
       "dtype: float64"
      ]
     },
     "metadata": {},
     "output_type": "display_data"
    },
    {
     "name": "stdout",
     "output_type": "stream",
     "text": [
      "./../data/Pobreza/pobreza_0.01_q2021-02-15.csv saved\n",
      "2021-05-15\n",
      "Poblacion: 44923900.0\n"
     ]
    },
    {
     "data": {
      "text/plain": [
       "Pobreza         0.596678\n",
       "Indigencia      0.223794\n",
       "Pobreza_5usd    0.141290\n",
       "dtype: float64"
      ]
     },
     "metadata": {},
     "output_type": "display_data"
    },
    {
     "name": "stdout",
     "output_type": "stream",
     "text": [
      "./../data/Pobreza/pobreza_0.01_q2021-05-15.csv saved\n",
      "2021-08-15\n",
      "Poblacion: 44923900.0\n"
     ]
    },
    {
     "data": {
      "text/plain": [
       "Pobreza         0.534829\n",
       "Indigencia      0.193977\n",
       "Pobreza_5usd    0.112379\n",
       "dtype: float64"
      ]
     },
     "metadata": {},
     "output_type": "display_data"
    },
    {
     "name": "stdout",
     "output_type": "stream",
     "text": [
      "./../data/Pobreza/pobreza_0.01_q2021-08-15.csv saved\n",
      "2021-11-15\n",
      "Poblacion: 44923900.0\n"
     ]
    },
    {
     "data": {
      "text/plain": [
       "Pobreza         0.512854\n",
       "Indigencia      0.175303\n",
       "Pobreza_5usd    0.099390\n",
       "dtype: float64"
      ]
     },
     "metadata": {},
     "output_type": "display_data"
    },
    {
     "name": "stdout",
     "output_type": "stream",
     "text": [
      "./../data/Pobreza/pobreza_0.01_q2021-11-15.csv saved\n"
     ]
    }
   ],
   "source": [
    "for quarter_Xy_file in sorted(allFiles):\n",
    "    if not os.path.exists('./../data/Pobreza/'):\n",
    "        os.makedirs('./../data/Pobreza/')\n",
    "        \n",
    "    q = quarter_Xy_file[-18:-8]\n",
    "    filename = './../data/Pobreza/pobreza_'+'_'.join([str(frac), 'q'+q])+'.csv'\n",
    "    print(q)\n",
    "#     if not os.path.exists('./../data/Pobreza/pobreza_'+'_'.join([str(frac), 'q'+q])+'.csv'):\n",
    "\n",
    "    df = pd.read_csv(quarter_Xy_file, \n",
    "                           usecols = ['PERSONA_REF_ID', 'HOGAR_REF_ID','RADIO_REF_ID', 'CONDACT', 'CAT_INAC', 'CAT_OCUP',\n",
    "                                      'INGRESO', 'INGRESO_NLB', 'INGRESO_JUB', 'INGRESO_SBS', 'PP07K',\n",
    "                                      'IX_TOT', 'H16', 'H15','P47T', 'P03','P02', 'P09','P10', 'DPTO', 'URP'])\n",
    "    df['ANO4'] = int(quarter_Xy_file[-18:-14])\n",
    "    df['Q'] = q\n",
    "\n",
    "    columnas_pesos = ['P47T']\n",
    "    df[columnas_pesos] = np.power(10, df[columnas_pesos]) - 1\n",
    "\n",
    "#     ddf = dd.from_pandas(df, npartitions=50)\n",
    "#     with ProgressBar():\n",
    "#         df = ddf.groupby(['PERSONA_REF_ID']).mean().compute()\n",
    "\n",
    "    # Editar columnas\n",
    "    df['P10'] = 2 - df['P10']\n",
    "    df['P09'] = df.P09.replace(5, 4) #Polimodal tomado como secundario \n",
    "\n",
    "#     df = df.astype(int)\n",
    "    df['P0910'] = df.P09.astype(str) + df.P10.astype(str)\n",
    "    df['Grupo_Etario_3'] = pd.cut(df.P03, np.arange(-1, 80, 3)).astype(str)#.round(-1)\n",
    "    df['Grupo_Etario_INDEC'] = pd.cut(df.P03, np.array([0, 13, 29, 64, 110])).astype(str)#.round(-1)\n",
    "    df['Grupo_Etario_q10'] = pd.cut(df.P03, np.array([-0.001, 5.0,  11.0, 17.0, 23.0, 29.0, 36.0, 44.0, 53.0, 65.0, 110.0])).astype(str)#.round(-1)\n",
    "# df = pd.read_csv('file.csv', dtype={'Col' : 'category'}) # Despues podemos necesitar...\n",
    "\n",
    "    df = df.reset_index()\n",
    "\n",
    "    df_cb = df.merge(ad_eq).merge(DPTO_Region).merge(CB_ipc).merge(ppp_defl[['Q', 'ppp_5usd_ARS_deflac']])\n",
    "\n",
    "    df_cb_hogares = df_cb.groupby(['HOGAR_REF_ID', 'Q'])[['P47T','CBA', 'CBT', 'CB_EQUIV', 'ppp_5usd_ARS_deflac']].sum()\n",
    "    df_cb_hogares['Pobreza'] = df_cb_hogares['P47T'] < df_cb_hogares['CBT']\n",
    "    df_cb_hogares['Indigencia'] = df_cb_hogares['P47T'] < df_cb_hogares['CBA']\n",
    "    df_cb_hogares['Pobreza_5usd'] = df_cb_hogares['P47T'] < df_cb_hogares['ppp_5usd_ARS_deflac']\n",
    "    pobreza_hogares = df_cb_hogares[['P47T','CBA','CBT', 'CB_EQUIV','Pobreza', 'Indigencia', 'Pobreza_5usd']].reset_index()\n",
    "    pobreza_hogares['gap_pobreza'] = pobreza_hogares.P47T - pobreza_hogares.CBT\n",
    "    pobreza_hogares['gap_indigencia'] = pobreza_hogares.P47T - pobreza_hogares.CBA\n",
    "    pobreza_hogares = pobreza_hogares.rename(columns = {'P47T': 'P47T_hogar'})\n",
    "\n",
    "    # df = df.sample(25000)\n",
    "    data = df.merge(pobreza_hogares, on = ['HOGAR_REF_ID', 'Q'])#, how = 'left')\n",
    "\n",
    "    data = data.rename(columns = {'P47T': 'P47T_persona'})\n",
    "\n",
    "    # data = data\n",
    "    data = data.merge(radio_ref[['RADIO_REF_ID', 'IDFRAC', 'PROV', 'NOMPROV', 'AGLOMERADO', 'Region']].drop_duplicates())\n",
    "\n",
    "    print(\"Poblacion: \"+str(len(data)/frac))\n",
    "    display(data[['Pobreza', 'Indigencia', 'Pobreza_5usd']].mean())\n",
    "    data.to_csv(filename, index = False) ## Aca si ya existen no deberian sobreescribirse (o si)\n",
    "    \n",
    "    print(filename+' saved')"
   ]
  },
  {
   "cell_type": "code",
   "execution_count": 7,
   "metadata": {},
   "outputs": [
    {
     "data": {
      "text/plain": [
       "Index(['RADIO_REF_ID', 'FRAC_REF_ID', 'IDRADIO', 'DPTO_REF_ID', 'IDFRAC',\n",
       "       'PROV_REF_ID', 'IDDPTO', 'DPTO', 'NOMDPTO', 'CPV2010_REF_ID', 'IDPROV',\n",
       "       'PROV', 'NOMPROV', 'radio', 'AGLOMERADO', 'Region'],\n",
       "      dtype='object')"
      ]
     },
     "execution_count": 7,
     "metadata": {},
     "output_type": "execute_result"
    }
   ],
   "source": [
    "radio_ref.columns"
   ]
  },
  {
   "cell_type": "code",
   "execution_count": 8,
   "metadata": {},
   "outputs": [],
   "source": [
    "# df = pd.read_csv(quarter_Xy_file)\n",
    "# df[['PP07G1','PP07G_59','PP07I','PP07J','PP07K']].value_counts().cumsum()\n",
    "\n",
    "# PP07G1  PP07G_59  PP07I  PP07J  PP07K\n",
    "# 0       0         0      0      0        228552  No aplica porque no trabaja\n",
    "# 1       0         0      1      1        342662  Vacaciones pagas, trabaja de dia. Recibo con sello\n",
    "# 2       5         2      1      4        389235  No tiene Vacaciones pagas, Ningun beneficio, No aporta, trabaja de dia, no le entregan nada (recibo) cuando cobra."
   ]
  },
  {
   "cell_type": "code",
   "execution_count": 9,
   "metadata": {},
   "outputs": [],
   "source": [
    "# df.PP07K"
   ]
  },
  {
   "cell_type": "markdown",
   "metadata": {},
   "source": [
    "# Distribucion del ingreso"
   ]
  },
  {
   "cell_type": "code",
   "execution_count": 10,
   "metadata": {},
   "outputs": [],
   "source": [
    "# import numpy as np\n",
    "# fig, ax = plt.subplots(1, figsize = (5, 3))\n",
    "# plt.hist(np.log10(df.loc[df.P47T > 100].P47T).values, 150, normed = 'pdf')#.groupby()\n",
    "# plt.yscale('log')\n",
    "# plt.show()"
   ]
  },
  {
   "cell_type": "markdown",
   "metadata": {},
   "source": []
  },
  {
   "cell_type": "code",
   "execution_count": 11,
   "metadata": {},
   "outputs": [],
   "source": [
    "###### # fig, ax = plt.subplots(1, figsize = (10, 5))\n",
    "# fig, ax = plt.subplots(1, figsize = (5, 3))\n",
    "# df_ = df.groupby('HOGAR_REF_ID').sum()#.loc[df.P47T > 100]\n",
    "# agg = df_.groupby(pd.cut(np.log10(df_.P47T), np.arange(2, 6, .05)))['P47T'].agg(['count','sum'])\n",
    "# (agg/agg.sum()).plot(ax = ax)\n",
    "# # ax.set_yscale('log')"
   ]
  }
 ],
 "metadata": {
  "kernelspec": {
   "display_name": "Python 3",
   "language": "python",
   "name": "python3"
  },
  "language_info": {
   "codemirror_mode": {
    "name": "ipython",
    "version": 3
   },
   "file_extension": ".py",
   "mimetype": "text/x-python",
   "name": "python",
   "nbconvert_exporter": "python",
   "pygments_lexer": "ipython3",
   "version": "3.8.5"
  }
 },
 "nbformat": 4,
 "nbformat_minor": 2
}
