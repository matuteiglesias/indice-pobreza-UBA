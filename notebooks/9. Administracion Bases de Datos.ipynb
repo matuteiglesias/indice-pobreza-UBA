{
 "cells": [
  {
   "cell_type": "code",
   "execution_count": null,
   "metadata": {},
   "outputs": [],
   "source": []
  },
  {
   "cell_type": "markdown",
   "metadata": {},
   "source": []
  },
  {
   "cell_type": "markdown",
   "metadata": {},
   "source": [
    "Certainly, we can generate a list of filenames for each dataset family based on the conventions and details you've provided. Below, I will create separate lists for each family of datasets, iterating over the necessary parameters like years, fractions, and base strings.\n",
    "\n",
    "### 1. Datasets Procesados - Estadísticas Descriptivas\n",
    "\n",
    "Stored in 'results_path'.\n",
    "\n",
    "Format: `result_[base_str]_Q-[grouper]_[FRAC].csv`\n",
    "\n",
    "For example: `result_H_Q-Total_pais_0.005.csv`\n",
    "\n",
    "### 2. Base de Datos: Pobreza para Hogares por Año y Trimestre\n",
    "\n",
    "- Personas Ingresos Format: `personas_ingresos_f[FRAC]_[Q]_[EXPERIMENT_TAG].csv`\n",
    "- Pobreza Hogares Format: `pobreza_hogares_f[FRAC]_q[Q].csv`\n",
    "- Hogares Geo Format: `hogares_geo_f[FRAC]_[YEAR]_[EXPERIMENT_TAG].csv`\n",
    "\n",
    "### 3. Pobreza en Argentina - Datos GeoJSON por Niveles Geográficos\n",
    "\n",
    "Format: `[METHOD]_[GEO_LEVEL].geojson`\n",
    "\n",
    "Where:\n",
    "- `[METHOD]` includes H, M14, M24, P\n",
    "- `[GEO_LEVEL]` includes DPTO, IDFRAC, PROV\n",
    "\n",
    "Let's proceed to generate the file names lists.\n",
    "\n",
    "Here are the generated lists of filenames based on the conventions you provided:"
   ]
  },
  {
   "cell_type": "code",
   "execution_count": null,
   "metadata": {},
   "outputs": [],
   "source": []
  },
  {
   "cell_type": "code",
   "execution_count": 21,
   "metadata": {},
   "outputs": [
    {
     "name": "stdout",
     "output_type": "stream",
     "text": [
      "stats_H_Q-Total_sample0.02.csv\n",
      "individual_income_sample0.02_2003-02-15_ARG.csv\n",
      "household_poverty_sample0.02_q2003-02-15.csv\n",
      "geo_households_sample0.02_2003_ARG.csv\n",
      "pobreza_H_DPTO_sample0.02.geojson\n"
     ]
    }
   ],
   "source": [
    "import pandas as pd\n",
    "\n",
    "# 1. Datasets Procesados - Estadísticas Descriptivas\n",
    "results_base_strs = ['H', 'M14', 'M24', 'P']\n",
    "groupersP = [ # ['Q', 'distrito_id',\t'seccion_id', 'seccion_nombre', 'circuito'], \n",
    "    ['Q','Total'], ['Q','AGLOSI'], ['Q','AGLOMERADO'], ['Q','Region'], ['Q','PROV'], ['Q','DPTO'], ['Q','P0910'], \n",
    "             ['Q','Region', 'AGLOSI'], ['Q', 'PROV', 'AGLOSI']]\n",
    "\n",
    "groupersH = [['Q','Total'], ['Q','AGLOSI'], ['Q','AGLOMERADO'], ['Q','Region'], ['Q','PROV'], ['Q','DPTO'],\n",
    "            #  ]#,\n",
    "             ['Q','Region', 'AGLOSI'], ['Q', 'PROV', 'AGLOSI']]\n",
    "\n",
    "groupers = groupersP + groupersH\n",
    "results_groupers = set(tuple(item) for item in groupers)\n",
    "results_groupers = [list(item) for item in results_groupers]\n",
    "\n",
    "\n",
    "results_fracs = [0.02]\n",
    "results_filenames = [\n",
    "    f\"stats_{base_str}_{'-'.join(grouper)}_sample{frac}.csv\"\n",
    "    for base_str in results_base_strs \n",
    "    for grouper in results_groupers \n",
    "    for frac in results_fracs\n",
    "]\n",
    "\n",
    "# 2. Base de Datos: Pobreza para Hogares por Año y Trimestre\n",
    "pobreza_fracs = [0.02]\n",
    "pobreza_years = range(2003, 2023)  # Assuming data from 2018 to 2022\n",
    "pobreza_quarters = [f\"{year}-{d}\" for year in pobreza_years for d in ['02-15', '05-15', '08-15', '11-15']]\n",
    "pobreza_experiment_tags = ['ARG']\n",
    "\n",
    "personas_ingresos_filenames = [\n",
    "    f\"individual_income_sample{frac}_{quarter}_{tag}.csv\"\n",
    "    for frac in pobreza_fracs\n",
    "    for quarter in pobreza_quarters\n",
    "    for tag in pobreza_experiment_tags\n",
    "]\n",
    "\n",
    "pobreza_hogares_filenames = [\n",
    "    f\"household_poverty_sample{frac}_q{quarter}.csv\"\n",
    "    for frac in pobreza_fracs\n",
    "    for quarter in pobreza_quarters\n",
    "]\n",
    "\n",
    "hogares_geo_filenames = [\n",
    "    f\"geo_households_sample{frac}_{year}_{tag}.csv\"\n",
    "    for frac in pobreza_fracs\n",
    "    for year in pobreza_years\n",
    "    for tag in pobreza_experiment_tags\n",
    "]\n",
    "\n",
    "# 3. Pobreza en Argentina - Datos GeoJSON por Niveles Geográficos\n",
    "methods = ['H', 'M14', 'M24', 'P']\n",
    "geo_levels = ['DPTO', 'IDFRAC', 'PROV']\n",
    "geojson_filenames = [f\"pobreza_{method}_{geo_level}_sample{frac}.geojson\" for method in methods for geo_level in geo_levels for frac in pobreza_fracs]\n",
    "\n",
    "\n",
    "\n",
    "\n",
    "# Paths for each family of datasets\n",
    "results_path = './../data/results/'\n",
    "pobreza_path = './../data/Pobreza/'\n",
    "geojson_path = './../data/geojson/'\n",
    "\n",
    "# Update file paths\n",
    "results_filenames = [f\"{filename}\" for filename in results_filenames]\n",
    "personas_ingresos_filenames = [f\"{filename}\" for filename in personas_ingresos_filenames]\n",
    "pobreza_hogares_filenames = [f\"{filename}\" for filename in pobreza_hogares_filenames]\n",
    "hogares_geo_filenames = [f\"{filename}\" for filename in hogares_geo_filenames]\n",
    "geojson_filenames = [f\"{filename}\" for filename in geojson_filenames]\n",
    "\n",
    "# Display the first filename from each list to check the update\n",
    "for file_list in [results_filenames, personas_ingresos_filenames, pobreza_hogares_filenames, hogares_geo_filenames, geojson_filenames]:\n",
    "    print(file_list[0])\n",
    "\n",
    "\n",
    "\n",
    "# # Display the generated filenames\n",
    "# results_filenames, personas_ingresos_filenames, pobreza_hogares_filenames, hogares_geo_filenames, geojson_filenames\n"
   ]
  },
  {
   "cell_type": "code",
   "execution_count": 3,
   "metadata": {},
   "outputs": [],
   "source": [
    "results_df = pd.DataFrame({\n",
    "    'base_str': [base_str for base_str in results_base_strs for _ in results_groupers for _ in results_fracs],\n",
    "    'grouper': [grouper for _ in results_base_strs for grouper in results_groupers for _ in results_fracs],\n",
    "    'frac': [frac for _ in results_base_strs for _ in results_groupers for frac in results_fracs],\n",
    "    'filename': results_filenames,\n",
    "    'full_path': [f\"{results_path}{filename}\" for filename in results_filenames]\n",
    "})\n"
   ]
  },
  {
   "cell_type": "code",
   "execution_count": 4,
   "metadata": {},
   "outputs": [],
   "source": [
    "results_df['grouper'] = results_df['grouper'].astype(str)"
   ]
  },
  {
   "cell_type": "code",
   "execution_count": 5,
   "metadata": {},
   "outputs": [
    {
     "data": {
      "text/html": [
       "<div>\n",
       "<style scoped>\n",
       "    .dataframe tbody tr th:only-of-type {\n",
       "        vertical-align: middle;\n",
       "    }\n",
       "\n",
       "    .dataframe tbody tr th {\n",
       "        vertical-align: top;\n",
       "    }\n",
       "\n",
       "    .dataframe thead th {\n",
       "        text-align: right;\n",
       "    }\n",
       "</style>\n",
       "<table border=\"1\" class=\"dataframe\">\n",
       "  <thead>\n",
       "    <tr style=\"text-align: right;\">\n",
       "      <th>base_str</th>\n",
       "      <th>H</th>\n",
       "      <th>M14</th>\n",
       "      <th>M24</th>\n",
       "      <th>P</th>\n",
       "    </tr>\n",
       "    <tr>\n",
       "      <th>grouper</th>\n",
       "      <th></th>\n",
       "      <th></th>\n",
       "      <th></th>\n",
       "      <th></th>\n",
       "    </tr>\n",
       "  </thead>\n",
       "  <tbody>\n",
       "    <tr>\n",
       "      <th>['Q', 'AGLOMERADO']</th>\n",
       "      <td>stats_H_Q-AGLOMERADO_sample0.02.csv</td>\n",
       "      <td>stats_M14_Q-AGLOMERADO_sample0.02.csv</td>\n",
       "      <td>stats_M24_Q-AGLOMERADO_sample0.02.csv</td>\n",
       "      <td>stats_P_Q-AGLOMERADO_sample0.02.csv</td>\n",
       "    </tr>\n",
       "    <tr>\n",
       "      <th>['Q', 'AGLOSI']</th>\n",
       "      <td>stats_H_Q-AGLOSI_sample0.02.csv</td>\n",
       "      <td>stats_M14_Q-AGLOSI_sample0.02.csv</td>\n",
       "      <td>stats_M24_Q-AGLOSI_sample0.02.csv</td>\n",
       "      <td>stats_P_Q-AGLOSI_sample0.02.csv</td>\n",
       "    </tr>\n",
       "    <tr>\n",
       "      <th>['Q', 'DPTO']</th>\n",
       "      <td>stats_H_Q-DPTO_sample0.02.csv</td>\n",
       "      <td>stats_M14_Q-DPTO_sample0.02.csv</td>\n",
       "      <td>stats_M24_Q-DPTO_sample0.02.csv</td>\n",
       "      <td>stats_P_Q-DPTO_sample0.02.csv</td>\n",
       "    </tr>\n",
       "    <tr>\n",
       "      <th>['Q', 'P0910']</th>\n",
       "      <td>stats_H_Q-P0910_sample0.02.csv</td>\n",
       "      <td>stats_M14_Q-P0910_sample0.02.csv</td>\n",
       "      <td>stats_M24_Q-P0910_sample0.02.csv</td>\n",
       "      <td>stats_P_Q-P0910_sample0.02.csv</td>\n",
       "    </tr>\n",
       "    <tr>\n",
       "      <th>['Q', 'PROV', 'AGLOSI']</th>\n",
       "      <td>stats_H_Q-PROV-AGLOSI_sample0.02.csv</td>\n",
       "      <td>stats_M14_Q-PROV-AGLOSI_sample0.02.csv</td>\n",
       "      <td>stats_M24_Q-PROV-AGLOSI_sample0.02.csv</td>\n",
       "      <td>stats_P_Q-PROV-AGLOSI_sample0.02.csv</td>\n",
       "    </tr>\n",
       "    <tr>\n",
       "      <th>['Q', 'PROV']</th>\n",
       "      <td>stats_H_Q-PROV_sample0.02.csv</td>\n",
       "      <td>stats_M14_Q-PROV_sample0.02.csv</td>\n",
       "      <td>stats_M24_Q-PROV_sample0.02.csv</td>\n",
       "      <td>stats_P_Q-PROV_sample0.02.csv</td>\n",
       "    </tr>\n",
       "    <tr>\n",
       "      <th>['Q', 'Region', 'AGLOSI']</th>\n",
       "      <td>stats_H_Q-Region-AGLOSI_sample0.02.csv</td>\n",
       "      <td>stats_M14_Q-Region-AGLOSI_sample0.02.csv</td>\n",
       "      <td>stats_M24_Q-Region-AGLOSI_sample0.02.csv</td>\n",
       "      <td>stats_P_Q-Region-AGLOSI_sample0.02.csv</td>\n",
       "    </tr>\n",
       "    <tr>\n",
       "      <th>['Q', 'Region']</th>\n",
       "      <td>stats_H_Q-Region_sample0.02.csv</td>\n",
       "      <td>stats_M14_Q-Region_sample0.02.csv</td>\n",
       "      <td>stats_M24_Q-Region_sample0.02.csv</td>\n",
       "      <td>stats_P_Q-Region_sample0.02.csv</td>\n",
       "    </tr>\n",
       "    <tr>\n",
       "      <th>['Q', 'Total']</th>\n",
       "      <td>stats_H_Q-Total_sample0.02.csv</td>\n",
       "      <td>stats_M14_Q-Total_sample0.02.csv</td>\n",
       "      <td>stats_M24_Q-Total_sample0.02.csv</td>\n",
       "      <td>stats_P_Q-Total_sample0.02.csv</td>\n",
       "    </tr>\n",
       "  </tbody>\n",
       "</table>\n",
       "</div>"
      ],
      "text/plain": [
       "base_str                                                        H  \\\n",
       "grouper                                                             \n",
       "['Q', 'AGLOMERADO']           stats_H_Q-AGLOMERADO_sample0.02.csv   \n",
       "['Q', 'AGLOSI']                   stats_H_Q-AGLOSI_sample0.02.csv   \n",
       "['Q', 'DPTO']                       stats_H_Q-DPTO_sample0.02.csv   \n",
       "['Q', 'P0910']                     stats_H_Q-P0910_sample0.02.csv   \n",
       "['Q', 'PROV', 'AGLOSI']      stats_H_Q-PROV-AGLOSI_sample0.02.csv   \n",
       "['Q', 'PROV']                       stats_H_Q-PROV_sample0.02.csv   \n",
       "['Q', 'Region', 'AGLOSI']  stats_H_Q-Region-AGLOSI_sample0.02.csv   \n",
       "['Q', 'Region']                   stats_H_Q-Region_sample0.02.csv   \n",
       "['Q', 'Total']                     stats_H_Q-Total_sample0.02.csv   \n",
       "\n",
       "base_str                                                        M14  \\\n",
       "grouper                                                               \n",
       "['Q', 'AGLOMERADO']           stats_M14_Q-AGLOMERADO_sample0.02.csv   \n",
       "['Q', 'AGLOSI']                   stats_M14_Q-AGLOSI_sample0.02.csv   \n",
       "['Q', 'DPTO']                       stats_M14_Q-DPTO_sample0.02.csv   \n",
       "['Q', 'P0910']                     stats_M14_Q-P0910_sample0.02.csv   \n",
       "['Q', 'PROV', 'AGLOSI']      stats_M14_Q-PROV-AGLOSI_sample0.02.csv   \n",
       "['Q', 'PROV']                       stats_M14_Q-PROV_sample0.02.csv   \n",
       "['Q', 'Region', 'AGLOSI']  stats_M14_Q-Region-AGLOSI_sample0.02.csv   \n",
       "['Q', 'Region']                   stats_M14_Q-Region_sample0.02.csv   \n",
       "['Q', 'Total']                     stats_M14_Q-Total_sample0.02.csv   \n",
       "\n",
       "base_str                                                        M24  \\\n",
       "grouper                                                               \n",
       "['Q', 'AGLOMERADO']           stats_M24_Q-AGLOMERADO_sample0.02.csv   \n",
       "['Q', 'AGLOSI']                   stats_M24_Q-AGLOSI_sample0.02.csv   \n",
       "['Q', 'DPTO']                       stats_M24_Q-DPTO_sample0.02.csv   \n",
       "['Q', 'P0910']                     stats_M24_Q-P0910_sample0.02.csv   \n",
       "['Q', 'PROV', 'AGLOSI']      stats_M24_Q-PROV-AGLOSI_sample0.02.csv   \n",
       "['Q', 'PROV']                       stats_M24_Q-PROV_sample0.02.csv   \n",
       "['Q', 'Region', 'AGLOSI']  stats_M24_Q-Region-AGLOSI_sample0.02.csv   \n",
       "['Q', 'Region']                   stats_M24_Q-Region_sample0.02.csv   \n",
       "['Q', 'Total']                     stats_M24_Q-Total_sample0.02.csv   \n",
       "\n",
       "base_str                                                        P  \n",
       "grouper                                                            \n",
       "['Q', 'AGLOMERADO']           stats_P_Q-AGLOMERADO_sample0.02.csv  \n",
       "['Q', 'AGLOSI']                   stats_P_Q-AGLOSI_sample0.02.csv  \n",
       "['Q', 'DPTO']                       stats_P_Q-DPTO_sample0.02.csv  \n",
       "['Q', 'P0910']                     stats_P_Q-P0910_sample0.02.csv  \n",
       "['Q', 'PROV', 'AGLOSI']      stats_P_Q-PROV-AGLOSI_sample0.02.csv  \n",
       "['Q', 'PROV']                       stats_P_Q-PROV_sample0.02.csv  \n",
       "['Q', 'Region', 'AGLOSI']  stats_P_Q-Region-AGLOSI_sample0.02.csv  \n",
       "['Q', 'Region']                   stats_P_Q-Region_sample0.02.csv  \n",
       "['Q', 'Total']                     stats_P_Q-Total_sample0.02.csv  "
      ]
     },
     "execution_count": 5,
     "metadata": {},
     "output_type": "execute_result"
    }
   ],
   "source": [
    "results_df.loc[results_df.frac == 0.02].set_index(['grouper', 'base_str'])['filename'].unstack()"
   ]
  },
  {
   "cell_type": "code",
   "execution_count": 26,
   "metadata": {},
   "outputs": [],
   "source": [
    "personas_ingresos_df = pd.DataFrame({\n",
    "    'frac': [frac for frac in pobreza_fracs for _ in pobreza_quarters for _ in pobreza_experiment_tags],\n",
    "    'quarter': [quarter for _ in pobreza_fracs for quarter in pobreza_quarters for _ in pobreza_experiment_tags],\n",
    "    'experiment_tag': [tag for _ in pobreza_fracs for _ in pobreza_quarters for tag in pobreza_experiment_tags],\n",
    "    'filename': personas_ingresos_filenames,\n",
    "    'full_path': [f\"{pobreza_path}{filename}\" for filename in personas_ingresos_filenames]\n",
    "})\n"
   ]
  },
  {
   "cell_type": "code",
   "execution_count": 27,
   "metadata": {},
   "outputs": [
    {
     "data": {
      "text/html": [
       "<div>\n",
       "<style scoped>\n",
       "    .dataframe tbody tr th:only-of-type {\n",
       "        vertical-align: middle;\n",
       "    }\n",
       "\n",
       "    .dataframe tbody tr th {\n",
       "        vertical-align: top;\n",
       "    }\n",
       "\n",
       "    .dataframe thead th {\n",
       "        text-align: right;\n",
       "    }\n",
       "</style>\n",
       "<table border=\"1\" class=\"dataframe\">\n",
       "  <thead>\n",
       "    <tr style=\"text-align: right;\">\n",
       "      <th>frac</th>\n",
       "      <th>0.02</th>\n",
       "    </tr>\n",
       "    <tr>\n",
       "      <th>quarter</th>\n",
       "      <th></th>\n",
       "    </tr>\n",
       "  </thead>\n",
       "  <tbody>\n",
       "    <tr>\n",
       "      <th>2003-02-15</th>\n",
       "      <td>individual_income_sample0.02_2003-02-15_ARG.csv</td>\n",
       "    </tr>\n",
       "    <tr>\n",
       "      <th>2003-05-15</th>\n",
       "      <td>individual_income_sample0.02_2003-05-15_ARG.csv</td>\n",
       "    </tr>\n",
       "    <tr>\n",
       "      <th>2003-08-15</th>\n",
       "      <td>individual_income_sample0.02_2003-08-15_ARG.csv</td>\n",
       "    </tr>\n",
       "    <tr>\n",
       "      <th>2003-11-15</th>\n",
       "      <td>individual_income_sample0.02_2003-11-15_ARG.csv</td>\n",
       "    </tr>\n",
       "    <tr>\n",
       "      <th>2004-02-15</th>\n",
       "      <td>individual_income_sample0.02_2004-02-15_ARG.csv</td>\n",
       "    </tr>\n",
       "    <tr>\n",
       "      <th>...</th>\n",
       "      <td>...</td>\n",
       "    </tr>\n",
       "    <tr>\n",
       "      <th>2021-11-15</th>\n",
       "      <td>individual_income_sample0.02_2021-11-15_ARG.csv</td>\n",
       "    </tr>\n",
       "    <tr>\n",
       "      <th>2022-02-15</th>\n",
       "      <td>individual_income_sample0.02_2022-02-15_ARG.csv</td>\n",
       "    </tr>\n",
       "    <tr>\n",
       "      <th>2022-05-15</th>\n",
       "      <td>individual_income_sample0.02_2022-05-15_ARG.csv</td>\n",
       "    </tr>\n",
       "    <tr>\n",
       "      <th>2022-08-15</th>\n",
       "      <td>individual_income_sample0.02_2022-08-15_ARG.csv</td>\n",
       "    </tr>\n",
       "    <tr>\n",
       "      <th>2022-11-15</th>\n",
       "      <td>individual_income_sample0.02_2022-11-15_ARG.csv</td>\n",
       "    </tr>\n",
       "  </tbody>\n",
       "</table>\n",
       "<p>80 rows × 1 columns</p>\n",
       "</div>"
      ],
      "text/plain": [
       "frac                                                   0.02\n",
       "quarter                                                    \n",
       "2003-02-15  individual_income_sample0.02_2003-02-15_ARG.csv\n",
       "2003-05-15  individual_income_sample0.02_2003-05-15_ARG.csv\n",
       "2003-08-15  individual_income_sample0.02_2003-08-15_ARG.csv\n",
       "2003-11-15  individual_income_sample0.02_2003-11-15_ARG.csv\n",
       "2004-02-15  individual_income_sample0.02_2004-02-15_ARG.csv\n",
       "...                                                     ...\n",
       "2021-11-15  individual_income_sample0.02_2021-11-15_ARG.csv\n",
       "2022-02-15  individual_income_sample0.02_2022-02-15_ARG.csv\n",
       "2022-05-15  individual_income_sample0.02_2022-05-15_ARG.csv\n",
       "2022-08-15  individual_income_sample0.02_2022-08-15_ARG.csv\n",
       "2022-11-15  individual_income_sample0.02_2022-11-15_ARG.csv\n",
       "\n",
       "[80 rows x 1 columns]"
      ]
     },
     "execution_count": 27,
     "metadata": {},
     "output_type": "execute_result"
    }
   ],
   "source": [
    "personas_ingresos_df.set_index(['quarter', 'frac'])['filename'].unstack()[[0.02]]"
   ]
  },
  {
   "cell_type": "code",
   "execution_count": 28,
   "metadata": {},
   "outputs": [],
   "source": [
    "pobreza_hogares_df = pd.DataFrame({\n",
    "    'frac': [frac for frac in pobreza_fracs for _ in pobreza_quarters],\n",
    "    'quarter': [quarter for _ in pobreza_fracs for quarter in pobreza_quarters],\n",
    "    'filename': pobreza_hogares_filenames,\n",
    "    'full_path': [f\"{pobreza_path}{filename}\" for filename in pobreza_hogares_filenames]\n",
    "})\n"
   ]
  },
  {
   "cell_type": "code",
   "execution_count": 29,
   "metadata": {},
   "outputs": [
    {
     "data": {
      "text/html": [
       "<div>\n",
       "<style scoped>\n",
       "    .dataframe tbody tr th:only-of-type {\n",
       "        vertical-align: middle;\n",
       "    }\n",
       "\n",
       "    .dataframe tbody tr th {\n",
       "        vertical-align: top;\n",
       "    }\n",
       "\n",
       "    .dataframe thead th {\n",
       "        text-align: right;\n",
       "    }\n",
       "</style>\n",
       "<table border=\"1\" class=\"dataframe\">\n",
       "  <thead>\n",
       "    <tr style=\"text-align: right;\">\n",
       "      <th>frac</th>\n",
       "      <th>0.02</th>\n",
       "    </tr>\n",
       "    <tr>\n",
       "      <th>quarter</th>\n",
       "      <th></th>\n",
       "    </tr>\n",
       "  </thead>\n",
       "  <tbody>\n",
       "    <tr>\n",
       "      <th>2003-02-15</th>\n",
       "      <td>household_poverty_sample0.02_q2003-02-15.csv</td>\n",
       "    </tr>\n",
       "    <tr>\n",
       "      <th>2003-05-15</th>\n",
       "      <td>household_poverty_sample0.02_q2003-05-15.csv</td>\n",
       "    </tr>\n",
       "    <tr>\n",
       "      <th>2003-08-15</th>\n",
       "      <td>household_poverty_sample0.02_q2003-08-15.csv</td>\n",
       "    </tr>\n",
       "    <tr>\n",
       "      <th>2003-11-15</th>\n",
       "      <td>household_poverty_sample0.02_q2003-11-15.csv</td>\n",
       "    </tr>\n",
       "    <tr>\n",
       "      <th>2004-02-15</th>\n",
       "      <td>household_poverty_sample0.02_q2004-02-15.csv</td>\n",
       "    </tr>\n",
       "    <tr>\n",
       "      <th>...</th>\n",
       "      <td>...</td>\n",
       "    </tr>\n",
       "    <tr>\n",
       "      <th>2021-11-15</th>\n",
       "      <td>household_poverty_sample0.02_q2021-11-15.csv</td>\n",
       "    </tr>\n",
       "    <tr>\n",
       "      <th>2022-02-15</th>\n",
       "      <td>household_poverty_sample0.02_q2022-02-15.csv</td>\n",
       "    </tr>\n",
       "    <tr>\n",
       "      <th>2022-05-15</th>\n",
       "      <td>household_poverty_sample0.02_q2022-05-15.csv</td>\n",
       "    </tr>\n",
       "    <tr>\n",
       "      <th>2022-08-15</th>\n",
       "      <td>household_poverty_sample0.02_q2022-08-15.csv</td>\n",
       "    </tr>\n",
       "    <tr>\n",
       "      <th>2022-11-15</th>\n",
       "      <td>household_poverty_sample0.02_q2022-11-15.csv</td>\n",
       "    </tr>\n",
       "  </tbody>\n",
       "</table>\n",
       "<p>80 rows × 1 columns</p>\n",
       "</div>"
      ],
      "text/plain": [
       "frac                                                0.02\n",
       "quarter                                                 \n",
       "2003-02-15  household_poverty_sample0.02_q2003-02-15.csv\n",
       "2003-05-15  household_poverty_sample0.02_q2003-05-15.csv\n",
       "2003-08-15  household_poverty_sample0.02_q2003-08-15.csv\n",
       "2003-11-15  household_poverty_sample0.02_q2003-11-15.csv\n",
       "2004-02-15  household_poverty_sample0.02_q2004-02-15.csv\n",
       "...                                                  ...\n",
       "2021-11-15  household_poverty_sample0.02_q2021-11-15.csv\n",
       "2022-02-15  household_poverty_sample0.02_q2022-02-15.csv\n",
       "2022-05-15  household_poverty_sample0.02_q2022-05-15.csv\n",
       "2022-08-15  household_poverty_sample0.02_q2022-08-15.csv\n",
       "2022-11-15  household_poverty_sample0.02_q2022-11-15.csv\n",
       "\n",
       "[80 rows x 1 columns]"
      ]
     },
     "execution_count": 29,
     "metadata": {},
     "output_type": "execute_result"
    }
   ],
   "source": [
    "pobreza_hogares_df.set_index(['quarter', 'frac'])['filename'].unstack()[[0.02]]"
   ]
  },
  {
   "cell_type": "code",
   "execution_count": 22,
   "metadata": {},
   "outputs": [
    {
     "data": {
      "text/html": [
       "<div>\n",
       "<style scoped>\n",
       "    .dataframe tbody tr th:only-of-type {\n",
       "        vertical-align: middle;\n",
       "    }\n",
       "\n",
       "    .dataframe tbody tr th {\n",
       "        vertical-align: top;\n",
       "    }\n",
       "\n",
       "    .dataframe thead th {\n",
       "        text-align: right;\n",
       "    }\n",
       "</style>\n",
       "<table border=\"1\" class=\"dataframe\">\n",
       "  <thead>\n",
       "    <tr style=\"text-align: right;\">\n",
       "      <th>frac</th>\n",
       "      <th>0.02</th>\n",
       "    </tr>\n",
       "    <tr>\n",
       "      <th>year</th>\n",
       "      <th></th>\n",
       "    </tr>\n",
       "  </thead>\n",
       "  <tbody>\n",
       "    <tr>\n",
       "      <th>2003</th>\n",
       "      <td>geo_households_sample0.02_2003_ARG.csv</td>\n",
       "    </tr>\n",
       "    <tr>\n",
       "      <th>2004</th>\n",
       "      <td>geo_households_sample0.02_2004_ARG.csv</td>\n",
       "    </tr>\n",
       "    <tr>\n",
       "      <th>2005</th>\n",
       "      <td>geo_households_sample0.02_2005_ARG.csv</td>\n",
       "    </tr>\n",
       "    <tr>\n",
       "      <th>2006</th>\n",
       "      <td>geo_households_sample0.02_2006_ARG.csv</td>\n",
       "    </tr>\n",
       "    <tr>\n",
       "      <th>2007</th>\n",
       "      <td>geo_households_sample0.02_2007_ARG.csv</td>\n",
       "    </tr>\n",
       "    <tr>\n",
       "      <th>2008</th>\n",
       "      <td>geo_households_sample0.02_2008_ARG.csv</td>\n",
       "    </tr>\n",
       "    <tr>\n",
       "      <th>2009</th>\n",
       "      <td>geo_households_sample0.02_2009_ARG.csv</td>\n",
       "    </tr>\n",
       "    <tr>\n",
       "      <th>2010</th>\n",
       "      <td>geo_households_sample0.02_2010_ARG.csv</td>\n",
       "    </tr>\n",
       "    <tr>\n",
       "      <th>2011</th>\n",
       "      <td>geo_households_sample0.02_2011_ARG.csv</td>\n",
       "    </tr>\n",
       "    <tr>\n",
       "      <th>2012</th>\n",
       "      <td>geo_households_sample0.02_2012_ARG.csv</td>\n",
       "    </tr>\n",
       "    <tr>\n",
       "      <th>2013</th>\n",
       "      <td>geo_households_sample0.02_2013_ARG.csv</td>\n",
       "    </tr>\n",
       "    <tr>\n",
       "      <th>2014</th>\n",
       "      <td>geo_households_sample0.02_2014_ARG.csv</td>\n",
       "    </tr>\n",
       "    <tr>\n",
       "      <th>2015</th>\n",
       "      <td>geo_households_sample0.02_2015_ARG.csv</td>\n",
       "    </tr>\n",
       "    <tr>\n",
       "      <th>2016</th>\n",
       "      <td>geo_households_sample0.02_2016_ARG.csv</td>\n",
       "    </tr>\n",
       "    <tr>\n",
       "      <th>2017</th>\n",
       "      <td>geo_households_sample0.02_2017_ARG.csv</td>\n",
       "    </tr>\n",
       "    <tr>\n",
       "      <th>2018</th>\n",
       "      <td>geo_households_sample0.02_2018_ARG.csv</td>\n",
       "    </tr>\n",
       "    <tr>\n",
       "      <th>2019</th>\n",
       "      <td>geo_households_sample0.02_2019_ARG.csv</td>\n",
       "    </tr>\n",
       "    <tr>\n",
       "      <th>2020</th>\n",
       "      <td>geo_households_sample0.02_2020_ARG.csv</td>\n",
       "    </tr>\n",
       "    <tr>\n",
       "      <th>2021</th>\n",
       "      <td>geo_households_sample0.02_2021_ARG.csv</td>\n",
       "    </tr>\n",
       "    <tr>\n",
       "      <th>2022</th>\n",
       "      <td>geo_households_sample0.02_2022_ARG.csv</td>\n",
       "    </tr>\n",
       "  </tbody>\n",
       "</table>\n",
       "</div>"
      ],
      "text/plain": [
       "frac                                    0.02\n",
       "year                                        \n",
       "2003  geo_households_sample0.02_2003_ARG.csv\n",
       "2004  geo_households_sample0.02_2004_ARG.csv\n",
       "2005  geo_households_sample0.02_2005_ARG.csv\n",
       "2006  geo_households_sample0.02_2006_ARG.csv\n",
       "2007  geo_households_sample0.02_2007_ARG.csv\n",
       "2008  geo_households_sample0.02_2008_ARG.csv\n",
       "2009  geo_households_sample0.02_2009_ARG.csv\n",
       "2010  geo_households_sample0.02_2010_ARG.csv\n",
       "2011  geo_households_sample0.02_2011_ARG.csv\n",
       "2012  geo_households_sample0.02_2012_ARG.csv\n",
       "2013  geo_households_sample0.02_2013_ARG.csv\n",
       "2014  geo_households_sample0.02_2014_ARG.csv\n",
       "2015  geo_households_sample0.02_2015_ARG.csv\n",
       "2016  geo_households_sample0.02_2016_ARG.csv\n",
       "2017  geo_households_sample0.02_2017_ARG.csv\n",
       "2018  geo_households_sample0.02_2018_ARG.csv\n",
       "2019  geo_households_sample0.02_2019_ARG.csv\n",
       "2020  geo_households_sample0.02_2020_ARG.csv\n",
       "2021  geo_households_sample0.02_2021_ARG.csv\n",
       "2022  geo_households_sample0.02_2022_ARG.csv"
      ]
     },
     "execution_count": 22,
     "metadata": {},
     "output_type": "execute_result"
    }
   ],
   "source": [
    "hogares_geo_df = pd.DataFrame({\n",
    "    'frac': [frac for frac in pobreza_fracs for _ in pobreza_years for _ in pobreza_experiment_tags],\n",
    "    'year': [year for _ in pobreza_fracs for year in pobreza_years for _ in pobreza_experiment_tags],\n",
    "    'experiment_tag': [tag for _ in pobreza_fracs for _ in pobreza_years for tag in pobreza_experiment_tags],\n",
    "    'filename': hogares_geo_filenames,\n",
    "    'full_path': [f\"{pobreza_path}{filename}\" for filename in hogares_geo_filenames]\n",
    "})\n",
    "\n",
    "hogares_geo_df.set_index(['year', 'frac'])['filename'].unstack()[[0.02]]"
   ]
  },
  {
   "cell_type": "code",
   "execution_count": null,
   "metadata": {},
   "outputs": [],
   "source": []
  },
  {
   "cell_type": "code",
   "execution_count": 11,
   "metadata": {},
   "outputs": [],
   "source": [
    "geojson_df = pd.DataFrame({\n",
    "    'method': [method for method in methods for _ in geo_levels for _ in pobreza_fracs],\n",
    "    'geo_level': [geo_level for _ in methods for geo_level in geo_levels for _ in pobreza_fracs],\n",
    "    'frac': [frac for _ in methods for _ in geo_levels for frac in pobreza_fracs],\n",
    "    'filename': geojson_filenames,\n",
    "    'full_path': [f\"{geojson_path}{filename}\" for filename in geojson_filenames]\n",
    "})\n"
   ]
  },
  {
   "cell_type": "code",
   "execution_count": 12,
   "metadata": {},
   "outputs": [
    {
     "data": {
      "text/html": [
       "<div>\n",
       "<style scoped>\n",
       "    .dataframe tbody tr th:only-of-type {\n",
       "        vertical-align: middle;\n",
       "    }\n",
       "\n",
       "    .dataframe tbody tr th {\n",
       "        vertical-align: top;\n",
       "    }\n",
       "\n",
       "    .dataframe thead th {\n",
       "        text-align: right;\n",
       "    }\n",
       "</style>\n",
       "<table border=\"1\" class=\"dataframe\">\n",
       "  <thead>\n",
       "    <tr style=\"text-align: right;\">\n",
       "      <th>geo_level</th>\n",
       "      <th>DPTO</th>\n",
       "      <th>IDFRAC</th>\n",
       "      <th>PROV</th>\n",
       "    </tr>\n",
       "    <tr>\n",
       "      <th>method</th>\n",
       "      <th></th>\n",
       "      <th></th>\n",
       "      <th></th>\n",
       "    </tr>\n",
       "  </thead>\n",
       "  <tbody>\n",
       "    <tr>\n",
       "      <th>H</th>\n",
       "      <td>pobreza_H_DPTO_sample0.02.geojson</td>\n",
       "      <td>pobreza_H_IDFRAC_sample0.02.geojson</td>\n",
       "      <td>pobreza_H_PROV_sample0.02.geojson</td>\n",
       "    </tr>\n",
       "    <tr>\n",
       "      <th>M14</th>\n",
       "      <td>pobreza_M14_DPTO_sample0.02.geojson</td>\n",
       "      <td>pobreza_M14_IDFRAC_sample0.02.geojson</td>\n",
       "      <td>pobreza_M14_PROV_sample0.02.geojson</td>\n",
       "    </tr>\n",
       "    <tr>\n",
       "      <th>M24</th>\n",
       "      <td>pobreza_M24_DPTO_sample0.02.geojson</td>\n",
       "      <td>pobreza_M24_IDFRAC_sample0.02.geojson</td>\n",
       "      <td>pobreza_M24_PROV_sample0.02.geojson</td>\n",
       "    </tr>\n",
       "    <tr>\n",
       "      <th>P</th>\n",
       "      <td>pobreza_P_DPTO_sample0.02.geojson</td>\n",
       "      <td>pobreza_P_IDFRAC_sample0.02.geojson</td>\n",
       "      <td>pobreza_P_PROV_sample0.02.geojson</td>\n",
       "    </tr>\n",
       "  </tbody>\n",
       "</table>\n",
       "</div>"
      ],
      "text/plain": [
       "geo_level                                 DPTO  \\\n",
       "method                                           \n",
       "H            pobreza_H_DPTO_sample0.02.geojson   \n",
       "M14        pobreza_M14_DPTO_sample0.02.geojson   \n",
       "M24        pobreza_M24_DPTO_sample0.02.geojson   \n",
       "P            pobreza_P_DPTO_sample0.02.geojson   \n",
       "\n",
       "geo_level                                 IDFRAC  \\\n",
       "method                                             \n",
       "H            pobreza_H_IDFRAC_sample0.02.geojson   \n",
       "M14        pobreza_M14_IDFRAC_sample0.02.geojson   \n",
       "M24        pobreza_M24_IDFRAC_sample0.02.geojson   \n",
       "P            pobreza_P_IDFRAC_sample0.02.geojson   \n",
       "\n",
       "geo_level                                 PROV  \n",
       "method                                          \n",
       "H            pobreza_H_PROV_sample0.02.geojson  \n",
       "M14        pobreza_M14_PROV_sample0.02.geojson  \n",
       "M24        pobreza_M24_PROV_sample0.02.geojson  \n",
       "P            pobreza_P_PROV_sample0.02.geojson  "
      ]
     },
     "execution_count": 12,
     "metadata": {},
     "output_type": "execute_result"
    }
   ],
   "source": [
    "geojson_df.loc[geojson_df.frac == 0.02].set_index(['method', 'geo_level'])['filename'].unstack()"
   ]
  },
  {
   "cell_type": "code",
   "execution_count": 13,
   "metadata": {},
   "outputs": [],
   "source": [
    "# pd.read_csv('./../data/Pobreza/hogares_geo_f0.005_2015_ARG.csv')\n",
    "# pd.read_csv('./../data/Pobreza/pobreza_hogares_f0.005_2015.csv')\n",
    "# pd.read_csv('./../data/results/result_H_Q-AGLOMERADO_0.005.csv')\n",
    "# pd.read_csv('./../data/Pobreza/personas_ingresos_f0.005_2018.csv')\n",
    "# pd.read_csv('./../data/geojson/pobreza_H_PROV.geojson')"
   ]
  },
  {
   "cell_type": "code",
   "execution_count": null,
   "metadata": {},
   "outputs": [],
   "source": []
  },
  {
   "cell_type": "code",
   "execution_count": null,
   "metadata": {},
   "outputs": [],
   "source": []
  },
  {
   "cell_type": "markdown",
   "metadata": {},
   "source": [
    "## Google Cloud"
   ]
  },
  {
   "cell_type": "markdown",
   "metadata": {},
   "source": []
  },
  {
   "cell_type": "code",
   "execution_count": 14,
   "metadata": {},
   "outputs": [],
   "source": [
    "# from google.cloud import storage\n",
    "# import pandas as pd\n",
    "# import io\n",
    "\n",
    "# # Initialize a client\n",
    "# client = storage.Client()\n",
    "\n",
    "# # The ID of your GCS bucket\n",
    "# bucket_name = 'your-bucket-name'\n",
    "\n",
    "# # The path to your file to upload\n",
    "# destination_blob_name = 'your-file-name.csv'\n",
    "\n",
    "# # Your pandas DataFrame\n",
    "# df = pd.DataFrame({'col1': [1, 2], 'col2': [3, 4]})\n",
    "\n",
    "# # Convert DataFrame to CSV\n",
    "# csv_data = df.to_csv(index=False)\n",
    "\n",
    "# # Upload the DataFrame\n",
    "# bucket = client.bucket(bucket_name)\n",
    "# blob = bucket.blob(destination_blob_name)\n",
    "# blob.upload_from_string(csv_data, content_type='text/csv')\n",
    "# print(f\"File {destination_blob_name} uploaded to {bucket_name}.\")"
   ]
  },
  {
   "cell_type": "code",
   "execution_count": 23,
   "metadata": {},
   "outputs": [
    {
     "data": {
      "text/html": [
       "<div>\n",
       "<style scoped>\n",
       "    .dataframe tbody tr th:only-of-type {\n",
       "        vertical-align: middle;\n",
       "    }\n",
       "\n",
       "    .dataframe tbody tr th {\n",
       "        vertical-align: top;\n",
       "    }\n",
       "\n",
       "    .dataframe thead th {\n",
       "        text-align: right;\n",
       "    }\n",
       "</style>\n",
       "<table border=\"1\" class=\"dataframe\">\n",
       "  <thead>\n",
       "    <tr style=\"text-align: right;\">\n",
       "      <th>frac</th>\n",
       "      <th>0.02</th>\n",
       "    </tr>\n",
       "    <tr>\n",
       "      <th>year</th>\n",
       "      <th></th>\n",
       "    </tr>\n",
       "  </thead>\n",
       "  <tbody>\n",
       "    <tr>\n",
       "      <th>2003</th>\n",
       "      <td>geo_households_sample0.02_2003_ARG.csv</td>\n",
       "    </tr>\n",
       "    <tr>\n",
       "      <th>2004</th>\n",
       "      <td>geo_households_sample0.02_2004_ARG.csv</td>\n",
       "    </tr>\n",
       "    <tr>\n",
       "      <th>2005</th>\n",
       "      <td>geo_households_sample0.02_2005_ARG.csv</td>\n",
       "    </tr>\n",
       "    <tr>\n",
       "      <th>2006</th>\n",
       "      <td>geo_households_sample0.02_2006_ARG.csv</td>\n",
       "    </tr>\n",
       "    <tr>\n",
       "      <th>2007</th>\n",
       "      <td>geo_households_sample0.02_2007_ARG.csv</td>\n",
       "    </tr>\n",
       "  </tbody>\n",
       "</table>\n",
       "</div>"
      ],
      "text/plain": [
       "frac                                    0.02\n",
       "year                                        \n",
       "2003  geo_households_sample0.02_2003_ARG.csv\n",
       "2004  geo_households_sample0.02_2004_ARG.csv\n",
       "2005  geo_households_sample0.02_2005_ARG.csv\n",
       "2006  geo_households_sample0.02_2006_ARG.csv\n",
       "2007  geo_households_sample0.02_2007_ARG.csv"
      ]
     },
     "execution_count": 23,
     "metadata": {},
     "output_type": "execute_result"
    }
   ],
   "source": [
    "import pandas as pd\n",
    "\n",
    "hogares_geo_df = pd.DataFrame({\n",
    "    'frac': [frac for frac in pobreza_fracs for _ in pobreza_years for _ in pobreza_experiment_tags],\n",
    "    'year': [year for _ in pobreza_fracs for year in pobreza_years for _ in pobreza_experiment_tags],\n",
    "    'experiment_tag': [tag for _ in pobreza_fracs for _ in pobreza_years for tag in pobreza_experiment_tags],\n",
    "    'filename': hogares_geo_filenames,\n",
    "    'full_path': [f\"{pobreza_path}{filename}\" for filename in hogares_geo_filenames]\n",
    "})\n",
    "\n",
    "hogares_geo_df = hogares_geo_df.set_index(['year', 'frac'])['filename'].unstack()[[0.02]]\n",
    "hogares_geo_df.head()"
   ]
  },
  {
   "cell_type": "code",
   "execution_count": 25,
   "metadata": {},
   "outputs": [
    {
     "name": "stderr",
     "output_type": "stream",
     "text": [
      "WARNING: Your active project does not match the quota project in your local Application Default Credentials file. This might result in unexpected quota issues.\n",
      "\n",
      "To update your Application Default Credentials quota project, use the `gcloud auth application-default set-quota-project` command.\n",
      "WARNING: You do not appear to have access to project [argentinian-poverty-atlas] or it does not exist.\n",
      "Updated property [core/project].\n"
     ]
    },
    {
     "name": "stdout",
     "output_type": "stream",
     "text": [
      "Uploading geo_households_sample0.02_2003_ARG.csv to Google Cloud Storage.\n"
     ]
    },
    {
     "name": "stderr",
     "output_type": "stream",
     "text": [
      "Copying file://./../data/Pobreza/geo_households_sample0.02_2003_ARG.csv [Content-Type=text/csv]...\n",
      "- [1 files][ 25.5 MiB/ 25.5 MiB]                                                \n",
      "Operation completed over 1 objects/25.5 MiB.                                     \n"
     ]
    },
    {
     "name": "stdout",
     "output_type": "stream",
     "text": [
      "Uploading geo_households_sample0.02_2004_ARG.csv to Google Cloud Storage.\n"
     ]
    },
    {
     "name": "stderr",
     "output_type": "stream",
     "text": [
      "Copying file://./../data/Pobreza/geo_households_sample0.02_2004_ARG.csv [Content-Type=text/csv]...\n",
      "- [1 files][ 25.8 MiB/ 25.8 MiB]                                                \n",
      "Operation completed over 1 objects/25.8 MiB.                                     \n"
     ]
    },
    {
     "name": "stdout",
     "output_type": "stream",
     "text": [
      "Uploading geo_households_sample0.02_2005_ARG.csv to Google Cloud Storage.\n"
     ]
    },
    {
     "name": "stderr",
     "output_type": "stream",
     "text": [
      "Copying file://./../data/Pobreza/geo_households_sample0.02_2005_ARG.csv [Content-Type=text/csv]...\n",
      "- [1 files][ 26.1 MiB/ 26.1 MiB]                                                \n",
      "Operation completed over 1 objects/26.1 MiB.                                     \n"
     ]
    },
    {
     "name": "stdout",
     "output_type": "stream",
     "text": [
      "Uploading geo_households_sample0.02_2006_ARG.csv to Google Cloud Storage.\n"
     ]
    },
    {
     "name": "stderr",
     "output_type": "stream",
     "text": [
      "Copying file://./../data/Pobreza/geo_households_sample0.02_2006_ARG.csv [Content-Type=text/csv]...\n",
      "- [1 files][ 26.4 MiB/ 26.4 MiB]                                                \n",
      "Operation completed over 1 objects/26.4 MiB.                                     \n"
     ]
    },
    {
     "name": "stdout",
     "output_type": "stream",
     "text": [
      "Uploading geo_households_sample0.02_2007_ARG.csv to Google Cloud Storage.\n"
     ]
    },
    {
     "name": "stderr",
     "output_type": "stream",
     "text": [
      "Copying file://./../data/Pobreza/geo_households_sample0.02_2007_ARG.csv [Content-Type=text/csv]...\n",
      "- [1 files][ 26.8 MiB/ 26.8 MiB]                                                \n",
      "Operation completed over 1 objects/26.8 MiB.                                     \n"
     ]
    },
    {
     "name": "stdout",
     "output_type": "stream",
     "text": [
      "Uploading geo_households_sample0.02_2008_ARG.csv to Google Cloud Storage.\n"
     ]
    },
    {
     "name": "stderr",
     "output_type": "stream",
     "text": [
      "Copying file://./../data/Pobreza/geo_households_sample0.02_2008_ARG.csv [Content-Type=text/csv]...\n",
      "\\ [1 files][ 27.1 MiB/ 27.1 MiB]                                                \n",
      "Operation completed over 1 objects/27.1 MiB.                                     \n"
     ]
    },
    {
     "name": "stdout",
     "output_type": "stream",
     "text": [
      "Uploading geo_households_sample0.02_2009_ARG.csv to Google Cloud Storage.\n"
     ]
    },
    {
     "name": "stderr",
     "output_type": "stream",
     "text": [
      "Copying file://./../data/Pobreza/geo_households_sample0.02_2009_ARG.csv [Content-Type=text/csv]...\n",
      "- [1 files][ 27.4 MiB/ 27.4 MiB]                                                \n",
      "Operation completed over 1 objects/27.4 MiB.                                     \n"
     ]
    },
    {
     "name": "stdout",
     "output_type": "stream",
     "text": [
      "Uploading geo_households_sample0.02_2010_ARG.csv to Google Cloud Storage.\n"
     ]
    },
    {
     "name": "stderr",
     "output_type": "stream",
     "text": [
      "Copying file://./../data/Pobreza/geo_households_sample0.02_2010_ARG.csv [Content-Type=text/csv]...\n",
      "\\ [1 files][ 27.8 MiB/ 27.8 MiB]                                                \n",
      "Operation completed over 1 objects/27.8 MiB.                                     \n"
     ]
    },
    {
     "name": "stdout",
     "output_type": "stream",
     "text": [
      "Uploading geo_households_sample0.02_2011_ARG.csv to Google Cloud Storage.\n"
     ]
    },
    {
     "name": "stderr",
     "output_type": "stream",
     "text": [
      "Copying file://./../data/Pobreza/geo_households_sample0.02_2011_ARG.csv [Content-Type=text/csv]...\n",
      "- [1 files][ 28.1 MiB/ 28.1 MiB]                                                \n",
      "Operation completed over 1 objects/28.1 MiB.                                     \n"
     ]
    },
    {
     "name": "stdout",
     "output_type": "stream",
     "text": [
      "Uploading geo_households_sample0.02_2012_ARG.csv to Google Cloud Storage.\n"
     ]
    },
    {
     "name": "stderr",
     "output_type": "stream",
     "text": [
      "Copying file://./../data/Pobreza/geo_households_sample0.02_2012_ARG.csv [Content-Type=text/csv]...\n",
      "- [1 files][ 28.4 MiB/ 28.4 MiB]                                                \n",
      "Operation completed over 1 objects/28.4 MiB.                                     \n"
     ]
    },
    {
     "name": "stdout",
     "output_type": "stream",
     "text": [
      "Uploading geo_households_sample0.02_2013_ARG.csv to Google Cloud Storage.\n"
     ]
    },
    {
     "name": "stderr",
     "output_type": "stream",
     "text": [
      "Copying file://./../data/Pobreza/geo_households_sample0.02_2013_ARG.csv [Content-Type=text/csv]...\n",
      "- [1 files][ 28.7 MiB/ 28.7 MiB]                                                \n",
      "Operation completed over 1 objects/28.7 MiB.                                     \n"
     ]
    },
    {
     "name": "stdout",
     "output_type": "stream",
     "text": [
      "Uploading geo_households_sample0.02_2014_ARG.csv to Google Cloud Storage.\n"
     ]
    },
    {
     "name": "stderr",
     "output_type": "stream",
     "text": [
      "Copying file://./../data/Pobreza/geo_households_sample0.02_2014_ARG.csv [Content-Type=text/csv]...\n",
      "- [1 files][ 29.0 MiB/ 29.0 MiB]                                                \n",
      "Operation completed over 1 objects/29.0 MiB.                                     \n"
     ]
    },
    {
     "name": "stdout",
     "output_type": "stream",
     "text": [
      "Uploading geo_households_sample0.02_2015_ARG.csv to Google Cloud Storage.\n"
     ]
    },
    {
     "name": "stderr",
     "output_type": "stream",
     "text": [
      "Copying file://./../data/Pobreza/geo_households_sample0.02_2015_ARG.csv [Content-Type=text/csv]...\n",
      "- [1 files][ 29.2 MiB/ 29.2 MiB]                                                \n",
      "Operation completed over 1 objects/29.2 MiB.                                     \n"
     ]
    },
    {
     "name": "stdout",
     "output_type": "stream",
     "text": [
      "Uploading geo_households_sample0.02_2016_ARG.csv to Google Cloud Storage.\n"
     ]
    },
    {
     "name": "stderr",
     "output_type": "stream",
     "text": [
      "Copying file://./../data/Pobreza/geo_households_sample0.02_2016_ARG.csv [Content-Type=text/csv]...\n",
      "- [1 files][ 29.6 MiB/ 29.6 MiB]                                                \n",
      "Operation completed over 1 objects/29.6 MiB.                                     \n"
     ]
    },
    {
     "name": "stdout",
     "output_type": "stream",
     "text": [
      "Uploading geo_households_sample0.02_2017_ARG.csv to Google Cloud Storage.\n"
     ]
    },
    {
     "name": "stderr",
     "output_type": "stream",
     "text": [
      "Copying file://./../data/Pobreza/geo_households_sample0.02_2017_ARG.csv [Content-Type=text/csv]...\n",
      "\\ [1 files][ 29.8 MiB/ 29.8 MiB]                                                \n",
      "Operation completed over 1 objects/29.8 MiB.                                     \n"
     ]
    },
    {
     "name": "stdout",
     "output_type": "stream",
     "text": [
      "File geo_households_sample0.02_2018_ARG.csv already exists in the bucket. Skipping upload.\n",
      "File geo_households_sample0.02_2019_ARG.csv already exists in the bucket. Skipping upload.\n",
      "File geo_households_sample0.02_2020_ARG.csv already exists in the bucket. Skipping upload.\n",
      "File geo_households_sample0.02_2021_ARG.csv already exists in the bucket. Skipping upload.\n",
      "File geo_households_sample0.02_2022_ARG.csv already exists in the bucket. Skipping upload.\n"
     ]
    }
   ],
   "source": [
    "import os\n",
    "import subprocess\n",
    "\n",
    "path = pobreza_path\n",
    "filenames = hogares_geo_filenames\n",
    "\n",
    "# Subir archivos a Google Cloud\n",
    "os.system(\"gcloud config set project argentinian-poverty-atlas\")\n",
    "BUCKET_NAME = \"argentinian-poverty-atlas-downloads\"\n",
    "\n",
    "\n",
    "# Loop through the filenames to upload\n",
    "for filename in filenames:\n",
    "    local_path = f\"{path}{filename}\"\n",
    "    cloud_path = f\"gs://{BUCKET_NAME}/{filename}\"\n",
    "    \n",
    "    # Check if the file already exists in the cloud\n",
    "    result = subprocess.run(['gsutil', '-q', 'stat', cloud_path], stdout=subprocess.PIPE, stderr=subprocess.PIPE)\n",
    "    if result.returncode == 0:\n",
    "        print(f\"File {filename} already exists in the bucket. Skipping upload.\")\n",
    "    else:\n",
    "        print(f\"Uploading {filename} to Google Cloud Storage.\")\n",
    "        os.system(f\"gsutil cp {local_path} {cloud_path}\")\n"
   ]
  },
  {
   "cell_type": "code",
   "execution_count": 35,
   "metadata": {},
   "outputs": [
    {
     "name": "stderr",
     "output_type": "stream",
     "text": [
      "WARNING: Your active project does not match the quota project in your local Application Default Credentials file. This might result in unexpected quota issues.\n",
      "\n",
      "To update your Application Default Credentials quota project, use the `gcloud auth application-default set-quota-project` command.\n",
      "WARNING: You do not appear to have access to project [argentinian-poverty-atlas] or it does not exist.\n",
      "Updated property [core/project].\n"
     ]
    },
    {
     "name": "stdout",
     "output_type": "stream",
     "text": [
      "Uploading individual_income_sample0.02_2003-02-15_ARG.csv to Google Cloud Storage.\n"
     ]
    },
    {
     "name": "stderr",
     "output_type": "stream",
     "text": [
      "CommandException: No URLs matched: ./../data/Pobreza/individual_income_sample0.02_2003-02-15_ARG.csv\n"
     ]
    },
    {
     "name": "stdout",
     "output_type": "stream",
     "text": [
      "Uploading individual_income_sample0.02_2003-05-15_ARG.csv to Google Cloud Storage.\n"
     ]
    },
    {
     "name": "stderr",
     "output_type": "stream",
     "text": [
      "CommandException: No URLs matched: ./../data/Pobreza/individual_income_sample0.02_2003-05-15_ARG.csv\n"
     ]
    },
    {
     "name": "stdout",
     "output_type": "stream",
     "text": [
      "File individual_income_sample0.02_2003-08-15_ARG.csv already exists in the bucket. Skipping upload.\n",
      "Uploading individual_income_sample0.02_2003-11-15_ARG.csv to Google Cloud Storage.\n"
     ]
    },
    {
     "name": "stderr",
     "output_type": "stream",
     "text": [
      "Copying file://./../data/Pobreza/individual_income_sample0.02_2003-11-15_ARG.csv [Content-Type=text/csv]...\n",
      "- [1 files][ 30.4 MiB/ 30.4 MiB]                                                \n",
      "Operation completed over 1 objects/30.4 MiB.                                     \n"
     ]
    },
    {
     "name": "stdout",
     "output_type": "stream",
     "text": [
      "Uploading individual_income_sample0.02_2004-02-15_ARG.csv to Google Cloud Storage.\n"
     ]
    },
    {
     "name": "stderr",
     "output_type": "stream",
     "text": [
      "Copying file://./../data/Pobreza/individual_income_sample0.02_2004-02-15_ARG.csv [Content-Type=text/csv]...\n",
      "\\ [1 files][ 30.8 MiB/ 30.8 MiB]                                                \n",
      "Operation completed over 1 objects/30.8 MiB.                                     \n"
     ]
    },
    {
     "name": "stdout",
     "output_type": "stream",
     "text": [
      "Uploading individual_income_sample0.02_2004-05-15_ARG.csv to Google Cloud Storage.\n"
     ]
    },
    {
     "name": "stderr",
     "output_type": "stream",
     "text": [
      "Copying file://./../data/Pobreza/individual_income_sample0.02_2004-05-15_ARG.csv [Content-Type=text/csv]...\n",
      "| [1 files][ 30.7 MiB/ 30.7 MiB]                                                \n",
      "Operation completed over 1 objects/30.7 MiB.                                     \n"
     ]
    },
    {
     "name": "stdout",
     "output_type": "stream",
     "text": [
      "Uploading individual_income_sample0.02_2004-08-15_ARG.csv to Google Cloud Storage.\n"
     ]
    },
    {
     "name": "stderr",
     "output_type": "stream",
     "text": [
      "Copying file://./../data/Pobreza/individual_income_sample0.02_2004-08-15_ARG.csv [Content-Type=text/csv]...\n",
      "- [1 files][ 30.7 MiB/ 30.7 MiB]                                                \n",
      "Operation completed over 1 objects/30.7 MiB.                                     \n"
     ]
    },
    {
     "name": "stdout",
     "output_type": "stream",
     "text": [
      "Uploading individual_income_sample0.02_2004-11-15_ARG.csv to Google Cloud Storage.\n"
     ]
    },
    {
     "name": "stderr",
     "output_type": "stream",
     "text": [
      "Copying file://./../data/Pobreza/individual_income_sample0.02_2004-11-15_ARG.csv [Content-Type=text/csv]...\n",
      "\\ [1 files][ 30.8 MiB/ 30.8 MiB]                                                \n",
      "Operation completed over 1 objects/30.8 MiB.                                     \n"
     ]
    },
    {
     "name": "stdout",
     "output_type": "stream",
     "text": [
      "Uploading individual_income_sample0.02_2005-02-15_ARG.csv to Google Cloud Storage.\n"
     ]
    },
    {
     "name": "stderr",
     "output_type": "stream",
     "text": [
      "Copying file://./../data/Pobreza/individual_income_sample0.02_2005-02-15_ARG.csv [Content-Type=text/csv]...\n",
      "| [1 files][ 31.1 MiB/ 31.1 MiB]                                                \n",
      "Operation completed over 1 objects/31.1 MiB.                                     \n"
     ]
    },
    {
     "name": "stdout",
     "output_type": "stream",
     "text": [
      "Uploading individual_income_sample0.02_2005-05-15_ARG.csv to Google Cloud Storage.\n"
     ]
    },
    {
     "name": "stderr",
     "output_type": "stream",
     "text": [
      "Copying file://./../data/Pobreza/individual_income_sample0.02_2005-05-15_ARG.csv [Content-Type=text/csv]...\n",
      "- [1 files][ 31.1 MiB/ 31.1 MiB]                                                \n",
      "Operation completed over 1 objects/31.1 MiB.                                     \n"
     ]
    },
    {
     "name": "stdout",
     "output_type": "stream",
     "text": [
      "Uploading individual_income_sample0.02_2005-08-15_ARG.csv to Google Cloud Storage.\n"
     ]
    },
    {
     "name": "stderr",
     "output_type": "stream",
     "text": [
      "Copying file://./../data/Pobreza/individual_income_sample0.02_2005-08-15_ARG.csv [Content-Type=text/csv]...\n",
      "- [1 files][ 31.2 MiB/ 31.2 MiB]                                                \n",
      "Operation completed over 1 objects/31.2 MiB.                                     \n"
     ]
    },
    {
     "name": "stdout",
     "output_type": "stream",
     "text": [
      "Uploading individual_income_sample0.02_2005-11-15_ARG.csv to Google Cloud Storage.\n"
     ]
    },
    {
     "name": "stderr",
     "output_type": "stream",
     "text": [
      "Copying file://./../data/Pobreza/individual_income_sample0.02_2005-11-15_ARG.csv [Content-Type=text/csv]...\n",
      "\\ [1 files][ 31.1 MiB/ 31.1 MiB]                                                \n",
      "Operation completed over 1 objects/31.1 MiB.                                     \n"
     ]
    },
    {
     "name": "stdout",
     "output_type": "stream",
     "text": [
      "Uploading individual_income_sample0.02_2006-02-15_ARG.csv to Google Cloud Storage.\n"
     ]
    },
    {
     "name": "stderr",
     "output_type": "stream",
     "text": [
      "Copying file://./../data/Pobreza/individual_income_sample0.02_2006-02-15_ARG.csv [Content-Type=text/csv]...\n",
      "\\ [1 files][ 31.7 MiB/ 31.7 MiB]                                                \n",
      "Operation completed over 1 objects/31.7 MiB.                                     \n"
     ]
    },
    {
     "name": "stdout",
     "output_type": "stream",
     "text": [
      "Uploading individual_income_sample0.02_2006-05-15_ARG.csv to Google Cloud Storage.\n"
     ]
    },
    {
     "name": "stderr",
     "output_type": "stream",
     "text": [
      "Copying file://./../data/Pobreza/individual_income_sample0.02_2006-05-15_ARG.csv [Content-Type=text/csv]...\n",
      "- [1 files][ 31.7 MiB/ 31.7 MiB]                                                \n",
      "Operation completed over 1 objects/31.7 MiB.                                     \n"
     ]
    },
    {
     "name": "stdout",
     "output_type": "stream",
     "text": [
      "Uploading individual_income_sample0.02_2006-08-15_ARG.csv to Google Cloud Storage.\n"
     ]
    },
    {
     "name": "stderr",
     "output_type": "stream",
     "text": [
      "Copying file://./../data/Pobreza/individual_income_sample0.02_2006-08-15_ARG.csv [Content-Type=text/csv]...\n",
      "- [1 files][ 31.7 MiB/ 31.7 MiB]                                                \n",
      "Operation completed over 1 objects/31.7 MiB.                                     \n"
     ]
    },
    {
     "name": "stdout",
     "output_type": "stream",
     "text": [
      "Uploading individual_income_sample0.02_2006-11-15_ARG.csv to Google Cloud Storage.\n"
     ]
    },
    {
     "name": "stderr",
     "output_type": "stream",
     "text": [
      "Copying file://./../data/Pobreza/individual_income_sample0.02_2006-11-15_ARG.csv [Content-Type=text/csv]...\n",
      "\\ [1 files][ 31.7 MiB/ 31.7 MiB]                                                \n",
      "Operation completed over 1 objects/31.7 MiB.                                     \n"
     ]
    },
    {
     "name": "stdout",
     "output_type": "stream",
     "text": [
      "Uploading individual_income_sample0.02_2007-02-15_ARG.csv to Google Cloud Storage.\n"
     ]
    },
    {
     "name": "stderr",
     "output_type": "stream",
     "text": [
      "Copying file://./../data/Pobreza/individual_income_sample0.02_2007-02-15_ARG.csv [Content-Type=text/csv]...\n",
      "- [1 files][ 31.9 MiB/ 31.9 MiB]                                                \n",
      "Operation completed over 1 objects/31.9 MiB.                                     \n"
     ]
    },
    {
     "name": "stdout",
     "output_type": "stream",
     "text": [
      "Uploading individual_income_sample0.02_2007-05-15_ARG.csv to Google Cloud Storage.\n"
     ]
    },
    {
     "name": "stderr",
     "output_type": "stream",
     "text": [
      "Copying file://./../data/Pobreza/individual_income_sample0.02_2007-05-15_ARG.csv [Content-Type=text/csv]...\n",
      "\\ [1 files][ 31.9 MiB/ 31.9 MiB]                                                \n",
      "Operation completed over 1 objects/31.9 MiB.                                     \n"
     ]
    },
    {
     "name": "stdout",
     "output_type": "stream",
     "text": [
      "Uploading individual_income_sample0.02_2007-08-15_ARG.csv to Google Cloud Storage.\n"
     ]
    },
    {
     "name": "stderr",
     "output_type": "stream",
     "text": [
      "CommandException: No URLs matched: ./../data/Pobreza/individual_income_sample0.02_2007-08-15_ARG.csv\n"
     ]
    },
    {
     "name": "stdout",
     "output_type": "stream",
     "text": [
      "Uploading individual_income_sample0.02_2007-11-15_ARG.csv to Google Cloud Storage.\n"
     ]
    },
    {
     "name": "stderr",
     "output_type": "stream",
     "text": [
      "Copying file://./../data/Pobreza/individual_income_sample0.02_2007-11-15_ARG.csv [Content-Type=text/csv]...\n",
      "- [1 files][ 31.9 MiB/ 31.9 MiB]                                                \n",
      "Operation completed over 1 objects/31.9 MiB.                                     \n"
     ]
    },
    {
     "name": "stdout",
     "output_type": "stream",
     "text": [
      "Uploading individual_income_sample0.02_2008-02-15_ARG.csv to Google Cloud Storage.\n"
     ]
    },
    {
     "name": "stderr",
     "output_type": "stream",
     "text": [
      "Copying file://./../data/Pobreza/individual_income_sample0.02_2008-02-15_ARG.csv [Content-Type=text/csv]...\n",
      "- [1 files][ 32.4 MiB/ 32.4 MiB]                                                \n",
      "Operation completed over 1 objects/32.4 MiB.                                     \n"
     ]
    },
    {
     "name": "stdout",
     "output_type": "stream",
     "text": [
      "Uploading individual_income_sample0.02_2008-05-15_ARG.csv to Google Cloud Storage.\n"
     ]
    },
    {
     "name": "stderr",
     "output_type": "stream",
     "text": [
      "Copying file://./../data/Pobreza/individual_income_sample0.02_2008-05-15_ARG.csv [Content-Type=text/csv]...\n",
      "- [1 files][ 32.4 MiB/ 32.4 MiB]                                                \n",
      "Operation completed over 1 objects/32.4 MiB.                                     \n"
     ]
    },
    {
     "name": "stdout",
     "output_type": "stream",
     "text": [
      "Uploading individual_income_sample0.02_2008-08-15_ARG.csv to Google Cloud Storage.\n"
     ]
    },
    {
     "name": "stderr",
     "output_type": "stream",
     "text": [
      "Copying file://./../data/Pobreza/individual_income_sample0.02_2008-08-15_ARG.csv [Content-Type=text/csv]...\n",
      "- [1 files][ 32.4 MiB/ 32.4 MiB]                                                \n",
      "Operation completed over 1 objects/32.4 MiB.                                     \n"
     ]
    },
    {
     "name": "stdout",
     "output_type": "stream",
     "text": [
      "Uploading individual_income_sample0.02_2008-11-15_ARG.csv to Google Cloud Storage.\n"
     ]
    },
    {
     "name": "stderr",
     "output_type": "stream",
     "text": [
      "Copying file://./../data/Pobreza/individual_income_sample0.02_2008-11-15_ARG.csv [Content-Type=text/csv]...\n",
      "\\ [1 files][ 32.4 MiB/ 32.4 MiB]                                                \n",
      "Operation completed over 1 objects/32.4 MiB.                                     \n"
     ]
    },
    {
     "name": "stdout",
     "output_type": "stream",
     "text": [
      "Uploading individual_income_sample0.02_2009-02-15_ARG.csv to Google Cloud Storage.\n"
     ]
    },
    {
     "name": "stderr",
     "output_type": "stream",
     "text": [
      "Copying file://./../data/Pobreza/individual_income_sample0.02_2009-02-15_ARG.csv [Content-Type=text/csv]...\n",
      "- [1 files][ 32.9 MiB/ 32.9 MiB]                                                \n",
      "Operation completed over 1 objects/32.9 MiB.                                     \n"
     ]
    },
    {
     "name": "stdout",
     "output_type": "stream",
     "text": [
      "Uploading individual_income_sample0.02_2009-05-15_ARG.csv to Google Cloud Storage.\n"
     ]
    },
    {
     "name": "stderr",
     "output_type": "stream",
     "text": [
      "Copying file://./../data/Pobreza/individual_income_sample0.02_2009-05-15_ARG.csv [Content-Type=text/csv]...\n",
      "- [1 files][ 32.9 MiB/ 32.9 MiB]                                                \n",
      "Operation completed over 1 objects/32.9 MiB.                                     \n"
     ]
    },
    {
     "name": "stdout",
     "output_type": "stream",
     "text": [
      "Uploading individual_income_sample0.02_2009-08-15_ARG.csv to Google Cloud Storage.\n"
     ]
    },
    {
     "name": "stderr",
     "output_type": "stream",
     "text": [
      "Copying file://./../data/Pobreza/individual_income_sample0.02_2009-08-15_ARG.csv [Content-Type=text/csv]...\n",
      "\\ [1 files][ 32.9 MiB/ 32.9 MiB]                                                \n",
      "Operation completed over 1 objects/32.9 MiB.                                     \n"
     ]
    },
    {
     "name": "stdout",
     "output_type": "stream",
     "text": [
      "Uploading individual_income_sample0.02_2009-11-15_ARG.csv to Google Cloud Storage.\n"
     ]
    },
    {
     "name": "stderr",
     "output_type": "stream",
     "text": [
      "Copying file://./../data/Pobreza/individual_income_sample0.02_2009-11-15_ARG.csv [Content-Type=text/csv]...\n",
      "- [1 files][ 32.9 MiB/ 32.9 MiB]                                                \n",
      "Operation completed over 1 objects/32.9 MiB.                                     \n"
     ]
    },
    {
     "name": "stdout",
     "output_type": "stream",
     "text": [
      "Uploading individual_income_sample0.02_2010-02-15_ARG.csv to Google Cloud Storage.\n"
     ]
    },
    {
     "name": "stderr",
     "output_type": "stream",
     "text": [
      "Copying file://./../data/Pobreza/individual_income_sample0.02_2010-02-15_ARG.csv [Content-Type=text/csv]...\n",
      "- [1 files][ 33.3 MiB/ 33.3 MiB]                                                \n",
      "Operation completed over 1 objects/33.3 MiB.                                     \n"
     ]
    },
    {
     "name": "stdout",
     "output_type": "stream",
     "text": [
      "Uploading individual_income_sample0.02_2010-05-15_ARG.csv to Google Cloud Storage.\n"
     ]
    },
    {
     "name": "stderr",
     "output_type": "stream",
     "text": [
      "Copying file://./../data/Pobreza/individual_income_sample0.02_2010-05-15_ARG.csv [Content-Type=text/csv]...\n",
      "- [1 files][ 33.3 MiB/ 33.3 MiB]                                                \n",
      "Operation completed over 1 objects/33.3 MiB.                                     \n"
     ]
    },
    {
     "name": "stdout",
     "output_type": "stream",
     "text": [
      "Uploading individual_income_sample0.02_2010-08-15_ARG.csv to Google Cloud Storage.\n"
     ]
    },
    {
     "name": "stderr",
     "output_type": "stream",
     "text": [
      "Copying file://./../data/Pobreza/individual_income_sample0.02_2010-08-15_ARG.csv [Content-Type=text/csv]...\n",
      "- [1 files][ 33.3 MiB/ 33.3 MiB]                                                \n",
      "Operation completed over 1 objects/33.3 MiB.                                     \n"
     ]
    },
    {
     "name": "stdout",
     "output_type": "stream",
     "text": [
      "Uploading individual_income_sample0.02_2010-11-15_ARG.csv to Google Cloud Storage.\n"
     ]
    },
    {
     "name": "stderr",
     "output_type": "stream",
     "text": [
      "Copying file://./../data/Pobreza/individual_income_sample0.02_2010-11-15_ARG.csv [Content-Type=text/csv]...\n",
      "- [1 files][ 33.3 MiB/ 33.3 MiB]                                                \n",
      "Operation completed over 1 objects/33.3 MiB.                                     \n"
     ]
    },
    {
     "name": "stdout",
     "output_type": "stream",
     "text": [
      "Uploading individual_income_sample0.02_2011-02-15_ARG.csv to Google Cloud Storage.\n"
     ]
    },
    {
     "name": "stderr",
     "output_type": "stream",
     "text": [
      "Copying file://./../data/Pobreza/individual_income_sample0.02_2011-02-15_ARG.csv [Content-Type=text/csv]...\n",
      "- [1 files][ 33.7 MiB/ 33.7 MiB]                                                \n",
      "Operation completed over 1 objects/33.7 MiB.                                     \n"
     ]
    },
    {
     "name": "stdout",
     "output_type": "stream",
     "text": [
      "Uploading individual_income_sample0.02_2011-05-15_ARG.csv to Google Cloud Storage.\n"
     ]
    },
    {
     "name": "stderr",
     "output_type": "stream",
     "text": [
      "Copying file://./../data/Pobreza/individual_income_sample0.02_2011-05-15_ARG.csv [Content-Type=text/csv]...\n",
      "| [1 files][ 33.7 MiB/ 33.7 MiB]                                                \n",
      "Operation completed over 1 objects/33.7 MiB.                                     \n"
     ]
    },
    {
     "name": "stdout",
     "output_type": "stream",
     "text": [
      "Uploading individual_income_sample0.02_2011-08-15_ARG.csv to Google Cloud Storage.\n"
     ]
    },
    {
     "name": "stderr",
     "output_type": "stream",
     "text": [
      "Copying file://./../data/Pobreza/individual_income_sample0.02_2011-08-15_ARG.csv [Content-Type=text/csv]...\n",
      "- [1 files][ 33.7 MiB/ 33.7 MiB]                                                \n",
      "Operation completed over 1 objects/33.7 MiB.                                     \n"
     ]
    },
    {
     "name": "stdout",
     "output_type": "stream",
     "text": [
      "Uploading individual_income_sample0.02_2011-11-15_ARG.csv to Google Cloud Storage.\n"
     ]
    },
    {
     "name": "stderr",
     "output_type": "stream",
     "text": [
      "Copying file://./../data/Pobreza/individual_income_sample0.02_2011-11-15_ARG.csv [Content-Type=text/csv]...\n",
      "\\ [1 files][ 33.7 MiB/ 33.7 MiB]                                                \n",
      "Operation completed over 1 objects/33.7 MiB.                                     \n"
     ]
    },
    {
     "name": "stdout",
     "output_type": "stream",
     "text": [
      "Uploading individual_income_sample0.02_2012-02-15_ARG.csv to Google Cloud Storage.\n"
     ]
    },
    {
     "name": "stderr",
     "output_type": "stream",
     "text": [
      "Copying file://./../data/Pobreza/individual_income_sample0.02_2012-02-15_ARG.csv [Content-Type=text/csv]...\n",
      "- [1 files][ 34.0 MiB/ 34.0 MiB]                                                \n",
      "Operation completed over 1 objects/34.0 MiB.                                     \n"
     ]
    },
    {
     "name": "stdout",
     "output_type": "stream",
     "text": [
      "Uploading individual_income_sample0.02_2012-05-15_ARG.csv to Google Cloud Storage.\n"
     ]
    },
    {
     "name": "stderr",
     "output_type": "stream",
     "text": [
      "Copying file://./../data/Pobreza/individual_income_sample0.02_2012-05-15_ARG.csv [Content-Type=text/csv]...\n",
      "\\ [1 files][ 34.1 MiB/ 34.1 MiB]                                                \n",
      "Operation completed over 1 objects/34.1 MiB.                                     \n"
     ]
    },
    {
     "name": "stdout",
     "output_type": "stream",
     "text": [
      "Uploading individual_income_sample0.02_2012-08-15_ARG.csv to Google Cloud Storage.\n"
     ]
    },
    {
     "name": "stderr",
     "output_type": "stream",
     "text": [
      "Copying file://./../data/Pobreza/individual_income_sample0.02_2012-08-15_ARG.csv [Content-Type=text/csv]...\n",
      "\\ [1 files][ 34.0 MiB/ 34.0 MiB]                                                \n",
      "Operation completed over 1 objects/34.0 MiB.                                     \n"
     ]
    },
    {
     "name": "stdout",
     "output_type": "stream",
     "text": [
      "Uploading individual_income_sample0.02_2012-11-15_ARG.csv to Google Cloud Storage.\n"
     ]
    },
    {
     "name": "stderr",
     "output_type": "stream",
     "text": [
      "Copying file://./../data/Pobreza/individual_income_sample0.02_2012-11-15_ARG.csv [Content-Type=text/csv]...\n",
      "\\ [1 files][ 34.0 MiB/ 34.0 MiB]                                                \n",
      "Operation completed over 1 objects/34.0 MiB.                                     \n"
     ]
    },
    {
     "name": "stdout",
     "output_type": "stream",
     "text": [
      "Uploading individual_income_sample0.02_2013-02-15_ARG.csv to Google Cloud Storage.\n"
     ]
    },
    {
     "name": "stderr",
     "output_type": "stream",
     "text": [
      "Copying file://./../data/Pobreza/individual_income_sample0.02_2013-02-15_ARG.csv [Content-Type=text/csv]...\n",
      "\\ [1 files][ 34.5 MiB/ 34.5 MiB]                                                \n",
      "Operation completed over 1 objects/34.5 MiB.                                     \n"
     ]
    },
    {
     "name": "stdout",
     "output_type": "stream",
     "text": [
      "Uploading individual_income_sample0.02_2013-05-15_ARG.csv to Google Cloud Storage.\n"
     ]
    },
    {
     "name": "stderr",
     "output_type": "stream",
     "text": [
      "Copying file://./../data/Pobreza/individual_income_sample0.02_2013-05-15_ARG.csv [Content-Type=text/csv]...\n",
      "| [1 files][ 34.4 MiB/ 34.4 MiB]                                                \n",
      "Operation completed over 1 objects/34.4 MiB.                                     \n"
     ]
    },
    {
     "name": "stdout",
     "output_type": "stream",
     "text": [
      "Uploading individual_income_sample0.02_2013-08-15_ARG.csv to Google Cloud Storage.\n"
     ]
    },
    {
     "name": "stderr",
     "output_type": "stream",
     "text": [
      "Copying file://./../data/Pobreza/individual_income_sample0.02_2013-08-15_ARG.csv [Content-Type=text/csv]...\n",
      "\\ [1 files][ 34.4 MiB/ 34.4 MiB]                                                \n",
      "Operation completed over 1 objects/34.4 MiB.                                     \n"
     ]
    },
    {
     "name": "stdout",
     "output_type": "stream",
     "text": [
      "Uploading individual_income_sample0.02_2013-11-15_ARG.csv to Google Cloud Storage.\n"
     ]
    },
    {
     "name": "stderr",
     "output_type": "stream",
     "text": [
      "Copying file://./../data/Pobreza/individual_income_sample0.02_2013-11-15_ARG.csv [Content-Type=text/csv]...\n",
      "/ [1 files][ 34.5 MiB/ 34.5 MiB]                                                \n",
      "Operation completed over 1 objects/34.5 MiB.                                     \n"
     ]
    },
    {
     "name": "stdout",
     "output_type": "stream",
     "text": [
      "Uploading individual_income_sample0.02_2014-02-15_ARG.csv to Google Cloud Storage.\n"
     ]
    },
    {
     "name": "stderr",
     "output_type": "stream",
     "text": [
      "Copying file://./../data/Pobreza/individual_income_sample0.02_2014-02-15_ARG.csv [Content-Type=text/csv]...\n",
      "\\ [1 files][ 34.8 MiB/ 34.8 MiB]                                                \n",
      "Operation completed over 1 objects/34.8 MiB.                                     \n"
     ]
    },
    {
     "name": "stdout",
     "output_type": "stream",
     "text": [
      "Uploading individual_income_sample0.02_2014-05-15_ARG.csv to Google Cloud Storage.\n"
     ]
    },
    {
     "name": "stderr",
     "output_type": "stream",
     "text": [
      "Copying file://./../data/Pobreza/individual_income_sample0.02_2014-05-15_ARG.csv [Content-Type=text/csv]...\n",
      "\\ [1 files][ 34.8 MiB/ 34.8 MiB]                                                \n",
      "Operation completed over 1 objects/34.8 MiB.                                     \n"
     ]
    },
    {
     "name": "stdout",
     "output_type": "stream",
     "text": [
      "Uploading individual_income_sample0.02_2014-08-15_ARG.csv to Google Cloud Storage.\n"
     ]
    },
    {
     "name": "stderr",
     "output_type": "stream",
     "text": [
      "Copying file://./../data/Pobreza/individual_income_sample0.02_2014-08-15_ARG.csv [Content-Type=text/csv]...\n",
      "/ [1 files][ 34.8 MiB/ 34.8 MiB]                                                \n",
      "Operation completed over 1 objects/34.8 MiB.                                     \n"
     ]
    },
    {
     "name": "stdout",
     "output_type": "stream",
     "text": [
      "Uploading individual_income_sample0.02_2014-11-15_ARG.csv to Google Cloud Storage.\n"
     ]
    },
    {
     "name": "stderr",
     "output_type": "stream",
     "text": [
      "Copying file://./../data/Pobreza/individual_income_sample0.02_2014-11-15_ARG.csv [Content-Type=text/csv]...\n",
      "\\ [1 files][ 34.8 MiB/ 34.8 MiB]                                                \n",
      "Operation completed over 1 objects/34.8 MiB.                                     \n"
     ]
    },
    {
     "name": "stdout",
     "output_type": "stream",
     "text": [
      "Uploading individual_income_sample0.02_2015-02-15_ARG.csv to Google Cloud Storage.\n"
     ]
    },
    {
     "name": "stderr",
     "output_type": "stream",
     "text": [
      "Copying file://./../data/Pobreza/individual_income_sample0.02_2015-02-15_ARG.csv [Content-Type=text/csv]...\n",
      "\\ [1 files][ 35.3 MiB/ 35.3 MiB]                                                \n",
      "Operation completed over 1 objects/35.3 MiB.                                     \n"
     ]
    },
    {
     "name": "stdout",
     "output_type": "stream",
     "text": [
      "Uploading individual_income_sample0.02_2015-05-15_ARG.csv to Google Cloud Storage.\n"
     ]
    },
    {
     "name": "stderr",
     "output_type": "stream",
     "text": [
      "Copying file://./../data/Pobreza/individual_income_sample0.02_2015-05-15_ARG.csv [Content-Type=text/csv]...\n",
      "\\ [1 files][ 35.3 MiB/ 35.3 MiB]                                                \n",
      "Operation completed over 1 objects/35.3 MiB.                                     \n"
     ]
    },
    {
     "name": "stdout",
     "output_type": "stream",
     "text": [
      "Uploading individual_income_sample0.02_2015-08-15_ARG.csv to Google Cloud Storage.\n"
     ]
    },
    {
     "name": "stderr",
     "output_type": "stream",
     "text": [
      "CommandException: No URLs matched: ./../data/Pobreza/individual_income_sample0.02_2015-08-15_ARG.csv\n"
     ]
    },
    {
     "name": "stdout",
     "output_type": "stream",
     "text": [
      "Uploading individual_income_sample0.02_2015-11-15_ARG.csv to Google Cloud Storage.\n"
     ]
    },
    {
     "name": "stderr",
     "output_type": "stream",
     "text": [
      "CommandException: No URLs matched: ./../data/Pobreza/individual_income_sample0.02_2015-11-15_ARG.csv\n"
     ]
    },
    {
     "name": "stdout",
     "output_type": "stream",
     "text": [
      "Uploading individual_income_sample0.02_2016-02-15_ARG.csv to Google Cloud Storage.\n"
     ]
    },
    {
     "name": "stderr",
     "output_type": "stream",
     "text": [
      "CommandException: No URLs matched: ./../data/Pobreza/individual_income_sample0.02_2016-02-15_ARG.csv\n"
     ]
    },
    {
     "name": "stdout",
     "output_type": "stream",
     "text": [
      "Uploading individual_income_sample0.02_2016-05-15_ARG.csv to Google Cloud Storage.\n"
     ]
    },
    {
     "name": "stderr",
     "output_type": "stream",
     "text": [
      "Copying file://./../data/Pobreza/individual_income_sample0.02_2016-05-15_ARG.csv [Content-Type=text/csv]...\n",
      "\\ [1 files][ 35.6 MiB/ 35.6 MiB]                                                \n",
      "Operation completed over 1 objects/35.6 MiB.                                     \n"
     ]
    },
    {
     "name": "stdout",
     "output_type": "stream",
     "text": [
      "Uploading individual_income_sample0.02_2016-08-15_ARG.csv to Google Cloud Storage.\n"
     ]
    },
    {
     "name": "stderr",
     "output_type": "stream",
     "text": [
      "Copying file://./../data/Pobreza/individual_income_sample0.02_2016-08-15_ARG.csv [Content-Type=text/csv]...\n",
      "\\ [1 files][ 35.6 MiB/ 35.6 MiB]                                                \n",
      "Operation completed over 1 objects/35.6 MiB.                                     \n"
     ]
    },
    {
     "name": "stdout",
     "output_type": "stream",
     "text": [
      "Uploading individual_income_sample0.02_2016-11-15_ARG.csv to Google Cloud Storage.\n"
     ]
    },
    {
     "name": "stderr",
     "output_type": "stream",
     "text": [
      "Copying file://./../data/Pobreza/individual_income_sample0.02_2016-11-15_ARG.csv [Content-Type=text/csv]...\n",
      "\\ [1 files][ 35.6 MiB/ 35.6 MiB]                                                \n",
      "Operation completed over 1 objects/35.6 MiB.                                     \n"
     ]
    },
    {
     "name": "stdout",
     "output_type": "stream",
     "text": [
      "Uploading individual_income_sample0.02_2017-02-15_ARG.csv to Google Cloud Storage.\n"
     ]
    },
    {
     "name": "stderr",
     "output_type": "stream",
     "text": [
      "Copying file://./../data/Pobreza/individual_income_sample0.02_2017-02-15_ARG.csv [Content-Type=text/csv]...\n",
      "\\ [1 files][ 35.9 MiB/ 35.9 MiB]                                                \n",
      "Operation completed over 1 objects/35.9 MiB.                                     \n"
     ]
    },
    {
     "name": "stdout",
     "output_type": "stream",
     "text": [
      "Uploading individual_income_sample0.02_2017-05-15_ARG.csv to Google Cloud Storage.\n"
     ]
    },
    {
     "name": "stderr",
     "output_type": "stream",
     "text": [
      "Copying file://./../data/Pobreza/individual_income_sample0.02_2017-05-15_ARG.csv [Content-Type=text/csv]...\n",
      "| [1 files][ 36.0 MiB/ 36.0 MiB]                                                \n",
      "Operation completed over 1 objects/36.0 MiB.                                     \n"
     ]
    },
    {
     "name": "stdout",
     "output_type": "stream",
     "text": [
      "Uploading individual_income_sample0.02_2017-08-15_ARG.csv to Google Cloud Storage.\n"
     ]
    },
    {
     "name": "stderr",
     "output_type": "stream",
     "text": [
      "Copying file://./../data/Pobreza/individual_income_sample0.02_2017-08-15_ARG.csv [Content-Type=text/csv]...\n",
      "\\ [1 files][ 35.8 MiB/ 35.8 MiB]                                                \n",
      "Operation completed over 1 objects/35.8 MiB.                                     \n"
     ]
    },
    {
     "name": "stdout",
     "output_type": "stream",
     "text": [
      "Uploading individual_income_sample0.02_2017-11-15_ARG.csv to Google Cloud Storage.\n"
     ]
    },
    {
     "name": "stderr",
     "output_type": "stream",
     "text": [
      "Copying file://./../data/Pobreza/individual_income_sample0.02_2017-11-15_ARG.csv [Content-Type=text/csv]...\n",
      "| [1 files][ 35.8 MiB/ 35.8 MiB]                                                \n",
      "Operation completed over 1 objects/35.8 MiB.                                     \n"
     ]
    },
    {
     "name": "stdout",
     "output_type": "stream",
     "text": [
      "Uploading individual_income_sample0.02_2018-02-15_ARG.csv to Google Cloud Storage.\n"
     ]
    },
    {
     "name": "stderr",
     "output_type": "stream",
     "text": [
      "Copying file://./../data/Pobreza/individual_income_sample0.02_2018-02-15_ARG.csv [Content-Type=text/csv]...\n",
      "\\ [1 files][ 36.6 MiB/ 36.6 MiB]                                                \n",
      "Operation completed over 1 objects/36.6 MiB.                                     \n"
     ]
    },
    {
     "name": "stdout",
     "output_type": "stream",
     "text": [
      "Uploading individual_income_sample0.02_2018-05-15_ARG.csv to Google Cloud Storage.\n"
     ]
    },
    {
     "name": "stderr",
     "output_type": "stream",
     "text": [
      "Copying file://./../data/Pobreza/individual_income_sample0.02_2018-05-15_ARG.csv [Content-Type=text/csv]...\n",
      "\\ [1 files][ 36.6 MiB/ 36.6 MiB]                                                \n",
      "Operation completed over 1 objects/36.6 MiB.                                     \n"
     ]
    },
    {
     "name": "stdout",
     "output_type": "stream",
     "text": [
      "Uploading individual_income_sample0.02_2018-08-15_ARG.csv to Google Cloud Storage.\n"
     ]
    },
    {
     "name": "stderr",
     "output_type": "stream",
     "text": [
      "Copying file://./../data/Pobreza/individual_income_sample0.02_2018-08-15_ARG.csv [Content-Type=text/csv]...\n",
      "\\ [1 files][ 36.6 MiB/ 36.6 MiB]                                                \n",
      "Operation completed over 1 objects/36.6 MiB.                                     \n"
     ]
    },
    {
     "name": "stdout",
     "output_type": "stream",
     "text": [
      "Uploading individual_income_sample0.02_2018-11-15_ARG.csv to Google Cloud Storage.\n"
     ]
    },
    {
     "name": "stderr",
     "output_type": "stream",
     "text": [
      "Copying file://./../data/Pobreza/individual_income_sample0.02_2018-11-15_ARG.csv [Content-Type=text/csv]...\n",
      "\\ [1 files][ 36.6 MiB/ 36.6 MiB]                                                \n",
      "Operation completed over 1 objects/36.6 MiB.                                     \n"
     ]
    },
    {
     "name": "stdout",
     "output_type": "stream",
     "text": [
      "Uploading individual_income_sample0.02_2019-02-15_ARG.csv to Google Cloud Storage.\n"
     ]
    },
    {
     "name": "stderr",
     "output_type": "stream",
     "text": [
      "Copying file://./../data/Pobreza/individual_income_sample0.02_2019-02-15_ARG.csv [Content-Type=text/csv]...\n",
      "\\ [1 files][ 36.6 MiB/ 36.6 MiB]                                                \n",
      "Operation completed over 1 objects/36.6 MiB.                                     \n"
     ]
    },
    {
     "name": "stdout",
     "output_type": "stream",
     "text": [
      "Uploading individual_income_sample0.02_2019-05-15_ARG.csv to Google Cloud Storage.\n"
     ]
    },
    {
     "name": "stderr",
     "output_type": "stream",
     "text": [
      "Copying file://./../data/Pobreza/individual_income_sample0.02_2019-05-15_ARG.csv [Content-Type=text/csv]...\n",
      "\\ [1 files][ 36.6 MiB/ 36.6 MiB]                                                \n",
      "Operation completed over 1 objects/36.6 MiB.                                     \n"
     ]
    },
    {
     "name": "stdout",
     "output_type": "stream",
     "text": [
      "Uploading individual_income_sample0.02_2019-08-15_ARG.csv to Google Cloud Storage.\n"
     ]
    },
    {
     "name": "stderr",
     "output_type": "stream",
     "text": [
      "Copying file://./../data/Pobreza/individual_income_sample0.02_2019-08-15_ARG.csv [Content-Type=text/csv]...\n",
      "\\ [1 files][ 36.5 MiB/ 36.5 MiB]                                                \n",
      "Operation completed over 1 objects/36.5 MiB.                                     \n"
     ]
    },
    {
     "name": "stdout",
     "output_type": "stream",
     "text": [
      "Uploading individual_income_sample0.02_2019-11-15_ARG.csv to Google Cloud Storage.\n"
     ]
    },
    {
     "name": "stderr",
     "output_type": "stream",
     "text": [
      "Copying file://./../data/Pobreza/individual_income_sample0.02_2019-11-15_ARG.csv [Content-Type=text/csv]...\n",
      "\\ [1 files][ 36.6 MiB/ 36.6 MiB]                                                \n",
      "Operation completed over 1 objects/36.6 MiB.                                     \n"
     ]
    },
    {
     "name": "stdout",
     "output_type": "stream",
     "text": [
      "Uploading individual_income_sample0.02_2020-02-15_ARG.csv to Google Cloud Storage.\n"
     ]
    },
    {
     "name": "stderr",
     "output_type": "stream",
     "text": [
      "Copying file://./../data/Pobreza/individual_income_sample0.02_2020-02-15_ARG.csv [Content-Type=text/csv]...\n",
      "\\ [1 files][ 37.1 MiB/ 37.1 MiB]                                                \n",
      "Operation completed over 1 objects/37.1 MiB.                                     \n"
     ]
    },
    {
     "name": "stdout",
     "output_type": "stream",
     "text": [
      "Uploading individual_income_sample0.02_2020-05-15_ARG.csv to Google Cloud Storage.\n"
     ]
    },
    {
     "name": "stderr",
     "output_type": "stream",
     "text": [
      "Copying file://./../data/Pobreza/individual_income_sample0.02_2020-05-15_ARG.csv [Content-Type=text/csv]...\n",
      "\\ [1 files][ 37.1 MiB/ 37.1 MiB]                                                \n",
      "Operation completed over 1 objects/37.1 MiB.                                     \n"
     ]
    },
    {
     "name": "stdout",
     "output_type": "stream",
     "text": [
      "Uploading individual_income_sample0.02_2020-08-15_ARG.csv to Google Cloud Storage.\n"
     ]
    },
    {
     "name": "stderr",
     "output_type": "stream",
     "text": [
      "Copying file://./../data/Pobreza/individual_income_sample0.02_2020-08-15_ARG.csv [Content-Type=text/csv]...\n",
      "/ [1 files][ 37.1 MiB/ 37.1 MiB]                                                \n",
      "Operation completed over 1 objects/37.1 MiB.                                     \n"
     ]
    },
    {
     "name": "stdout",
     "output_type": "stream",
     "text": [
      "Uploading individual_income_sample0.02_2020-11-15_ARG.csv to Google Cloud Storage.\n"
     ]
    },
    {
     "name": "stderr",
     "output_type": "stream",
     "text": [
      "Copying file://./../data/Pobreza/individual_income_sample0.02_2020-11-15_ARG.csv [Content-Type=text/csv]...\n",
      "- [1 files][ 37.1 MiB/ 37.1 MiB]                                                \n",
      "Operation completed over 1 objects/37.1 MiB.                                     \n"
     ]
    },
    {
     "name": "stdout",
     "output_type": "stream",
     "text": [
      "Uploading individual_income_sample0.02_2021-02-15_ARG.csv to Google Cloud Storage.\n"
     ]
    },
    {
     "name": "stderr",
     "output_type": "stream",
     "text": [
      "Copying file://./../data/Pobreza/individual_income_sample0.02_2021-02-15_ARG.csv [Content-Type=text/csv]...\n",
      "\\ [1 files][ 37.3 MiB/ 37.3 MiB]                                                \n",
      "Operation completed over 1 objects/37.3 MiB.                                     \n"
     ]
    },
    {
     "name": "stdout",
     "output_type": "stream",
     "text": [
      "Uploading individual_income_sample0.02_2021-05-15_ARG.csv to Google Cloud Storage.\n"
     ]
    },
    {
     "name": "stderr",
     "output_type": "stream",
     "text": [
      "Copying file://./../data/Pobreza/individual_income_sample0.02_2021-05-15_ARG.csv [Content-Type=text/csv]...\n",
      "\\ [1 files][ 37.3 MiB/ 37.3 MiB]                                                \n",
      "Operation completed over 1 objects/37.3 MiB.                                     \n"
     ]
    },
    {
     "name": "stdout",
     "output_type": "stream",
     "text": [
      "Uploading individual_income_sample0.02_2021-08-15_ARG.csv to Google Cloud Storage.\n"
     ]
    },
    {
     "name": "stderr",
     "output_type": "stream",
     "text": [
      "Copying file://./../data/Pobreza/individual_income_sample0.02_2021-08-15_ARG.csv [Content-Type=text/csv]...\n",
      "/ [1 files][ 37.4 MiB/ 37.4 MiB]                                                \n",
      "Operation completed over 1 objects/37.4 MiB.                                     \n"
     ]
    },
    {
     "name": "stdout",
     "output_type": "stream",
     "text": [
      "Uploading individual_income_sample0.02_2021-11-15_ARG.csv to Google Cloud Storage.\n"
     ]
    },
    {
     "name": "stderr",
     "output_type": "stream",
     "text": [
      "Copying file://./../data/Pobreza/individual_income_sample0.02_2021-11-15_ARG.csv [Content-Type=text/csv]...\n",
      "| [1 files][ 37.4 MiB/ 37.4 MiB]                                                \n",
      "Operation completed over 1 objects/37.4 MiB.                                     \n"
     ]
    },
    {
     "name": "stdout",
     "output_type": "stream",
     "text": [
      "Uploading individual_income_sample0.02_2022-02-15_ARG.csv to Google Cloud Storage.\n"
     ]
    },
    {
     "name": "stderr",
     "output_type": "stream",
     "text": [
      "Copying file://./../data/Pobreza/individual_income_sample0.02_2022-02-15_ARG.csv [Content-Type=text/csv]...\n",
      "| [1 files][ 37.8 MiB/ 37.8 MiB]                                                \n",
      "Operation completed over 1 objects/37.8 MiB.                                     \n"
     ]
    },
    {
     "name": "stdout",
     "output_type": "stream",
     "text": [
      "Uploading individual_income_sample0.02_2022-05-15_ARG.csv to Google Cloud Storage.\n"
     ]
    },
    {
     "name": "stderr",
     "output_type": "stream",
     "text": [
      "Copying file://./../data/Pobreza/individual_income_sample0.02_2022-05-15_ARG.csv [Content-Type=text/csv]...\n",
      "\\ [1 files][ 37.8 MiB/ 37.8 MiB]                                                \n",
      "Operation completed over 1 objects/37.8 MiB.                                     \n"
     ]
    },
    {
     "name": "stdout",
     "output_type": "stream",
     "text": [
      "Uploading individual_income_sample0.02_2022-08-15_ARG.csv to Google Cloud Storage.\n"
     ]
    },
    {
     "name": "stderr",
     "output_type": "stream",
     "text": [
      "Copying file://./../data/Pobreza/individual_income_sample0.02_2022-08-15_ARG.csv [Content-Type=text/csv]...\n",
      "\\ [1 files][ 37.8 MiB/ 37.8 MiB]                                                \n",
      "Operation completed over 1 objects/37.8 MiB.                                     \n"
     ]
    },
    {
     "name": "stdout",
     "output_type": "stream",
     "text": [
      "Uploading individual_income_sample0.02_2022-11-15_ARG.csv to Google Cloud Storage.\n"
     ]
    },
    {
     "name": "stderr",
     "output_type": "stream",
     "text": [
      "Copying file://./../data/Pobreza/individual_income_sample0.02_2022-11-15_ARG.csv [Content-Type=text/csv]...\n",
      "\\ [1 files][ 37.8 MiB/ 37.8 MiB]                                                \n",
      "Operation completed over 1 objects/37.8 MiB.                                     \n"
     ]
    }
   ],
   "source": [
    "filenames = personas_ingresos_filenames\n",
    "\n",
    "# Subir archivos a Google Cloud\n",
    "os.system(\"gcloud config set project argentinian-poverty-atlas\")\n",
    "BUCKET_NAME = \"argentinian-poverty-atlas-downloads\"\n",
    "\n",
    "\n",
    "# Loop through the filenames to upload\n",
    "for filename in filenames:\n",
    "    local_path = f\"{path}{filename}\"\n",
    "    cloud_path = f\"gs://{BUCKET_NAME}/{filename}\"\n",
    "    \n",
    "    # Check if the file already exists in the cloud\n",
    "    result = subprocess.run(['gsutil', '-q', 'stat', cloud_path], stdout=subprocess.PIPE, stderr=subprocess.PIPE)\n",
    "    if result.returncode == 0:\n",
    "        print(f\"File {filename} already exists in the bucket. Skipping upload.\")\n",
    "    else:\n",
    "        print(f\"Uploading {filename} to Google Cloud Storage.\")\n",
    "        os.system(f\"gsutil cp {local_path} {cloud_path}\")"
   ]
  },
  {
   "cell_type": "code",
   "execution_count": 36,
   "metadata": {},
   "outputs": [
    {
     "name": "stderr",
     "output_type": "stream",
     "text": [
      "WARNING: Your active project does not match the quota project in your local Application Default Credentials file. This might result in unexpected quota issues.\n",
      "\n",
      "To update your Application Default Credentials quota project, use the `gcloud auth application-default set-quota-project` command.\n",
      "WARNING: You do not appear to have access to project [argentinian-poverty-atlas] or it does not exist.\n",
      "Updated property [core/project].\n"
     ]
    },
    {
     "name": "stdout",
     "output_type": "stream",
     "text": [
      "Uploading household_poverty_sample0.02_q2003-02-15.csv to Google Cloud Storage.\n"
     ]
    },
    {
     "name": "stderr",
     "output_type": "stream",
     "text": [
      "CommandException: No URLs matched: ./../data/Pobreza/household_poverty_sample0.02_q2003-02-15.csv\n"
     ]
    },
    {
     "name": "stdout",
     "output_type": "stream",
     "text": [
      "Uploading household_poverty_sample0.02_q2003-05-15.csv to Google Cloud Storage.\n"
     ]
    },
    {
     "name": "stderr",
     "output_type": "stream",
     "text": [
      "CommandException: No URLs matched: ./../data/Pobreza/household_poverty_sample0.02_q2003-05-15.csv\n"
     ]
    },
    {
     "name": "stdout",
     "output_type": "stream",
     "text": [
      "File household_poverty_sample0.02_q2003-08-15.csv already exists in the bucket. Skipping upload.\n",
      "Uploading household_poverty_sample0.02_q2003-11-15.csv to Google Cloud Storage.\n"
     ]
    },
    {
     "name": "stderr",
     "output_type": "stream",
     "text": [
      "Copying file://./../data/Pobreza/household_poverty_sample0.02_q2003-11-15.csv [Content-Type=text/csv]...\n",
      "- [1 files][ 16.6 MiB/ 16.6 MiB]                                                \n",
      "Operation completed over 1 objects/16.6 MiB.                                     \n"
     ]
    },
    {
     "name": "stdout",
     "output_type": "stream",
     "text": [
      "Uploading household_poverty_sample0.02_q2004-02-15.csv to Google Cloud Storage.\n"
     ]
    },
    {
     "name": "stderr",
     "output_type": "stream",
     "text": [
      "Copying file://./../data/Pobreza/household_poverty_sample0.02_q2004-02-15.csv [Content-Type=text/csv]...\n",
      "- [1 files][ 16.8 MiB/ 16.8 MiB]                                                \n",
      "Operation completed over 1 objects/16.8 MiB.                                     \n"
     ]
    },
    {
     "name": "stdout",
     "output_type": "stream",
     "text": [
      "Uploading household_poverty_sample0.02_q2004-05-15.csv to Google Cloud Storage.\n"
     ]
    },
    {
     "name": "stderr",
     "output_type": "stream",
     "text": [
      "Copying file://./../data/Pobreza/household_poverty_sample0.02_q2004-05-15.csv [Content-Type=text/csv]...\n",
      "- [1 files][ 16.8 MiB/ 16.8 MiB]                                                \n",
      "Operation completed over 1 objects/16.8 MiB.                                     \n"
     ]
    },
    {
     "name": "stdout",
     "output_type": "stream",
     "text": [
      "Uploading household_poverty_sample0.02_q2004-08-15.csv to Google Cloud Storage.\n"
     ]
    },
    {
     "name": "stderr",
     "output_type": "stream",
     "text": [
      "Copying file://./../data/Pobreza/household_poverty_sample0.02_q2004-08-15.csv [Content-Type=text/csv]...\n",
      "\\ [1 files][ 16.8 MiB/ 16.8 MiB]                                                \n",
      "Operation completed over 1 objects/16.8 MiB.                                     \n"
     ]
    },
    {
     "name": "stdout",
     "output_type": "stream",
     "text": [
      "Uploading household_poverty_sample0.02_q2004-11-15.csv to Google Cloud Storage.\n"
     ]
    },
    {
     "name": "stderr",
     "output_type": "stream",
     "text": [
      "Copying file://./../data/Pobreza/household_poverty_sample0.02_q2004-11-15.csv [Content-Type=text/csv]...\n",
      "- [1 files][ 16.8 MiB/ 16.8 MiB]                                                \n",
      "Operation completed over 1 objects/16.8 MiB.                                     \n"
     ]
    },
    {
     "name": "stdout",
     "output_type": "stream",
     "text": [
      "Uploading household_poverty_sample0.02_q2005-02-15.csv to Google Cloud Storage.\n"
     ]
    },
    {
     "name": "stderr",
     "output_type": "stream",
     "text": [
      "Copying file://./../data/Pobreza/household_poverty_sample0.02_q2005-02-15.csv [Content-Type=text/csv]...\n",
      "- [1 files][ 17.1 MiB/ 17.1 MiB]                                                \n",
      "Operation completed over 1 objects/17.1 MiB.                                     \n"
     ]
    },
    {
     "name": "stdout",
     "output_type": "stream",
     "text": [
      "Uploading household_poverty_sample0.02_q2005-05-15.csv to Google Cloud Storage.\n"
     ]
    },
    {
     "name": "stderr",
     "output_type": "stream",
     "text": [
      "Copying file://./../data/Pobreza/household_poverty_sample0.02_q2005-05-15.csv [Content-Type=text/csv]...\n",
      "- [1 files][ 17.0 MiB/ 17.0 MiB]                                                \n",
      "Operation completed over 1 objects/17.0 MiB.                                     \n"
     ]
    },
    {
     "name": "stdout",
     "output_type": "stream",
     "text": [
      "Uploading household_poverty_sample0.02_q2005-08-15.csv to Google Cloud Storage.\n"
     ]
    },
    {
     "name": "stderr",
     "output_type": "stream",
     "text": [
      "Copying file://./../data/Pobreza/household_poverty_sample0.02_q2005-08-15.csv [Content-Type=text/csv]...\n",
      "\\ [1 files][ 17.1 MiB/ 17.1 MiB]                                                \n",
      "Operation completed over 1 objects/17.1 MiB.                                     \n"
     ]
    },
    {
     "name": "stdout",
     "output_type": "stream",
     "text": [
      "Uploading household_poverty_sample0.02_q2005-11-15.csv to Google Cloud Storage.\n"
     ]
    },
    {
     "name": "stderr",
     "output_type": "stream",
     "text": [
      "Copying file://./../data/Pobreza/household_poverty_sample0.02_q2005-11-15.csv [Content-Type=text/csv]...\n",
      "- [1 files][ 17.1 MiB/ 17.1 MiB]                                                \n",
      "Operation completed over 1 objects/17.1 MiB.                                     \n"
     ]
    },
    {
     "name": "stdout",
     "output_type": "stream",
     "text": [
      "Uploading household_poverty_sample0.02_q2006-02-15.csv to Google Cloud Storage.\n"
     ]
    },
    {
     "name": "stderr",
     "output_type": "stream",
     "text": [
      "Copying file://./../data/Pobreza/household_poverty_sample0.02_q2006-02-15.csv [Content-Type=text/csv]...\n",
      "- [1 files][ 17.4 MiB/ 17.4 MiB]                                                \n",
      "Operation completed over 1 objects/17.4 MiB.                                     \n"
     ]
    },
    {
     "name": "stdout",
     "output_type": "stream",
     "text": [
      "Uploading household_poverty_sample0.02_q2006-05-15.csv to Google Cloud Storage.\n"
     ]
    },
    {
     "name": "stderr",
     "output_type": "stream",
     "text": [
      "Copying file://./../data/Pobreza/household_poverty_sample0.02_q2006-05-15.csv [Content-Type=text/csv]...\n",
      "- [1 files][ 17.4 MiB/ 17.4 MiB]                                                \n",
      "Operation completed over 1 objects/17.4 MiB.                                     \n"
     ]
    },
    {
     "name": "stdout",
     "output_type": "stream",
     "text": [
      "Uploading household_poverty_sample0.02_q2006-08-15.csv to Google Cloud Storage.\n"
     ]
    },
    {
     "name": "stderr",
     "output_type": "stream",
     "text": [
      "Copying file://./../data/Pobreza/household_poverty_sample0.02_q2006-08-15.csv [Content-Type=text/csv]...\n",
      "- [1 files][ 17.4 MiB/ 17.4 MiB]                                                \n",
      "Operation completed over 1 objects/17.4 MiB.                                     \n"
     ]
    },
    {
     "name": "stdout",
     "output_type": "stream",
     "text": [
      "Uploading household_poverty_sample0.02_q2006-11-15.csv to Google Cloud Storage.\n"
     ]
    },
    {
     "name": "stderr",
     "output_type": "stream",
     "text": [
      "Copying file://./../data/Pobreza/household_poverty_sample0.02_q2006-11-15.csv [Content-Type=text/csv]...\n",
      "- [1 files][ 17.4 MiB/ 17.4 MiB]                                                \n",
      "Operation completed over 1 objects/17.4 MiB.                                     \n"
     ]
    },
    {
     "name": "stdout",
     "output_type": "stream",
     "text": [
      "Uploading household_poverty_sample0.02_q2007-02-15.csv to Google Cloud Storage.\n"
     ]
    },
    {
     "name": "stderr",
     "output_type": "stream",
     "text": [
      "Copying file://./../data/Pobreza/household_poverty_sample0.02_q2007-02-15.csv [Content-Type=text/csv]...\n",
      "- [1 files][ 17.6 MiB/ 17.6 MiB]                                                \n",
      "Operation completed over 1 objects/17.6 MiB.                                     \n"
     ]
    },
    {
     "name": "stdout",
     "output_type": "stream",
     "text": [
      "Uploading household_poverty_sample0.02_q2007-05-15.csv to Google Cloud Storage.\n"
     ]
    },
    {
     "name": "stderr",
     "output_type": "stream",
     "text": [
      "Copying file://./../data/Pobreza/household_poverty_sample0.02_q2007-05-15.csv [Content-Type=text/csv]...\n",
      "- [1 files][ 17.6 MiB/ 17.6 MiB]                                                \n",
      "Operation completed over 1 objects/17.6 MiB.                                     \n"
     ]
    },
    {
     "name": "stdout",
     "output_type": "stream",
     "text": [
      "Uploading household_poverty_sample0.02_q2007-08-15.csv to Google Cloud Storage.\n"
     ]
    },
    {
     "name": "stderr",
     "output_type": "stream",
     "text": [
      "CommandException: No URLs matched: ./../data/Pobreza/household_poverty_sample0.02_q2007-08-15.csv\n"
     ]
    },
    {
     "name": "stdout",
     "output_type": "stream",
     "text": [
      "Uploading household_poverty_sample0.02_q2007-11-15.csv to Google Cloud Storage.\n"
     ]
    },
    {
     "name": "stderr",
     "output_type": "stream",
     "text": [
      "Copying file://./../data/Pobreza/household_poverty_sample0.02_q2007-11-15.csv [Content-Type=text/csv]...\n",
      "- [1 files][ 17.6 MiB/ 17.6 MiB]                                                \n",
      "Operation completed over 1 objects/17.6 MiB.                                     \n"
     ]
    },
    {
     "name": "stdout",
     "output_type": "stream",
     "text": [
      "Uploading household_poverty_sample0.02_q2008-02-15.csv to Google Cloud Storage.\n"
     ]
    },
    {
     "name": "stderr",
     "output_type": "stream",
     "text": [
      "Copying file://./../data/Pobreza/household_poverty_sample0.02_q2008-02-15.csv [Content-Type=text/csv]...\n",
      "- [1 files][ 17.9 MiB/ 17.9 MiB]                                                \n",
      "Operation completed over 1 objects/17.9 MiB.                                     \n"
     ]
    },
    {
     "name": "stdout",
     "output_type": "stream",
     "text": [
      "Uploading household_poverty_sample0.02_q2008-05-15.csv to Google Cloud Storage.\n"
     ]
    },
    {
     "name": "stderr",
     "output_type": "stream",
     "text": [
      "Copying file://./../data/Pobreza/household_poverty_sample0.02_q2008-05-15.csv [Content-Type=text/csv]...\n",
      "- [1 files][ 17.8 MiB/ 17.8 MiB]                                                \n",
      "Operation completed over 1 objects/17.8 MiB.                                     \n"
     ]
    },
    {
     "name": "stdout",
     "output_type": "stream",
     "text": [
      "Uploading household_poverty_sample0.02_q2008-08-15.csv to Google Cloud Storage.\n"
     ]
    },
    {
     "name": "stderr",
     "output_type": "stream",
     "text": [
      "Copying file://./../data/Pobreza/household_poverty_sample0.02_q2008-08-15.csv [Content-Type=text/csv]...\n",
      "- [1 files][ 17.9 MiB/ 17.9 MiB]                                                \n",
      "Operation completed over 1 objects/17.9 MiB.                                     \n"
     ]
    },
    {
     "name": "stdout",
     "output_type": "stream",
     "text": [
      "Uploading household_poverty_sample0.02_q2008-11-15.csv to Google Cloud Storage.\n"
     ]
    },
    {
     "name": "stderr",
     "output_type": "stream",
     "text": [
      "Copying file://./../data/Pobreza/household_poverty_sample0.02_q2008-11-15.csv [Content-Type=text/csv]...\n",
      "- [1 files][ 17.9 MiB/ 17.9 MiB]                                                \n",
      "Operation completed over 1 objects/17.9 MiB.                                     \n"
     ]
    },
    {
     "name": "stdout",
     "output_type": "stream",
     "text": [
      "Uploading household_poverty_sample0.02_q2009-02-15.csv to Google Cloud Storage.\n"
     ]
    },
    {
     "name": "stderr",
     "output_type": "stream",
     "text": [
      "Copying file://./../data/Pobreza/household_poverty_sample0.02_q2009-02-15.csv [Content-Type=text/csv]...\n",
      "- [1 files][ 18.1 MiB/ 18.1 MiB]                                                \n",
      "Operation completed over 1 objects/18.1 MiB.                                     \n"
     ]
    },
    {
     "name": "stdout",
     "output_type": "stream",
     "text": [
      "Uploading household_poverty_sample0.02_q2009-05-15.csv to Google Cloud Storage.\n"
     ]
    },
    {
     "name": "stderr",
     "output_type": "stream",
     "text": [
      "Copying file://./../data/Pobreza/household_poverty_sample0.02_q2009-05-15.csv [Content-Type=text/csv]...\n",
      "- [1 files][ 18.1 MiB/ 18.1 MiB]                                                \n",
      "Operation completed over 1 objects/18.1 MiB.                                     \n"
     ]
    },
    {
     "name": "stdout",
     "output_type": "stream",
     "text": [
      "Uploading household_poverty_sample0.02_q2009-08-15.csv to Google Cloud Storage.\n"
     ]
    },
    {
     "name": "stderr",
     "output_type": "stream",
     "text": [
      "Copying file://./../data/Pobreza/household_poverty_sample0.02_q2009-08-15.csv [Content-Type=text/csv]...\n",
      "- [1 files][ 18.1 MiB/ 18.1 MiB]                                                \n",
      "Operation completed over 1 objects/18.1 MiB.                                     \n"
     ]
    },
    {
     "name": "stdout",
     "output_type": "stream",
     "text": [
      "Uploading household_poverty_sample0.02_q2009-11-15.csv to Google Cloud Storage.\n"
     ]
    },
    {
     "name": "stderr",
     "output_type": "stream",
     "text": [
      "Copying file://./../data/Pobreza/household_poverty_sample0.02_q2009-11-15.csv [Content-Type=text/csv]...\n",
      "- [1 files][ 18.1 MiB/ 18.1 MiB]                                                \n",
      "Operation completed over 1 objects/18.1 MiB.                                     \n"
     ]
    },
    {
     "name": "stdout",
     "output_type": "stream",
     "text": [
      "Uploading household_poverty_sample0.02_q2010-02-15.csv to Google Cloud Storage.\n"
     ]
    },
    {
     "name": "stderr",
     "output_type": "stream",
     "text": [
      "Copying file://./../data/Pobreza/household_poverty_sample0.02_q2010-02-15.csv [Content-Type=text/csv]...\n",
      "- [1 files][ 18.3 MiB/ 18.3 MiB]                                                \n",
      "Operation completed over 1 objects/18.3 MiB.                                     \n"
     ]
    },
    {
     "name": "stdout",
     "output_type": "stream",
     "text": [
      "Uploading household_poverty_sample0.02_q2010-05-15.csv to Google Cloud Storage.\n"
     ]
    },
    {
     "name": "stderr",
     "output_type": "stream",
     "text": [
      "Copying file://./../data/Pobreza/household_poverty_sample0.02_q2010-05-15.csv [Content-Type=text/csv]...\n",
      "- [1 files][ 18.3 MiB/ 18.3 MiB]                                                \n",
      "Operation completed over 1 objects/18.3 MiB.                                     \n"
     ]
    },
    {
     "name": "stdout",
     "output_type": "stream",
     "text": [
      "Uploading household_poverty_sample0.02_q2010-08-15.csv to Google Cloud Storage.\n"
     ]
    },
    {
     "name": "stderr",
     "output_type": "stream",
     "text": [
      "Copying file://./../data/Pobreza/household_poverty_sample0.02_q2010-08-15.csv [Content-Type=text/csv]...\n",
      "- [1 files][ 18.3 MiB/ 18.3 MiB]                                                \n",
      "Operation completed over 1 objects/18.3 MiB.                                     \n"
     ]
    },
    {
     "name": "stdout",
     "output_type": "stream",
     "text": [
      "Uploading household_poverty_sample0.02_q2010-11-15.csv to Google Cloud Storage.\n"
     ]
    },
    {
     "name": "stderr",
     "output_type": "stream",
     "text": [
      "Copying file://./../data/Pobreza/household_poverty_sample0.02_q2010-11-15.csv [Content-Type=text/csv]...\n",
      "- [1 files][ 18.3 MiB/ 18.3 MiB]                                                \n",
      "Operation completed over 1 objects/18.3 MiB.                                     \n"
     ]
    },
    {
     "name": "stdout",
     "output_type": "stream",
     "text": [
      "Uploading household_poverty_sample0.02_q2011-02-15.csv to Google Cloud Storage.\n"
     ]
    },
    {
     "name": "stderr",
     "output_type": "stream",
     "text": [
      "Copying file://./../data/Pobreza/household_poverty_sample0.02_q2011-02-15.csv [Content-Type=text/csv]...\n",
      "- [1 files][ 18.6 MiB/ 18.6 MiB]                                                \n",
      "Operation completed over 1 objects/18.6 MiB.                                     \n"
     ]
    },
    {
     "name": "stdout",
     "output_type": "stream",
     "text": [
      "Uploading household_poverty_sample0.02_q2011-05-15.csv to Google Cloud Storage.\n"
     ]
    },
    {
     "name": "stderr",
     "output_type": "stream",
     "text": [
      "Copying file://./../data/Pobreza/household_poverty_sample0.02_q2011-05-15.csv [Content-Type=text/csv]...\n",
      "\\ [1 files][ 18.5 MiB/ 18.5 MiB]                                                \n",
      "Operation completed over 1 objects/18.5 MiB.                                     \n"
     ]
    },
    {
     "name": "stdout",
     "output_type": "stream",
     "text": [
      "Uploading household_poverty_sample0.02_q2011-08-15.csv to Google Cloud Storage.\n"
     ]
    },
    {
     "name": "stderr",
     "output_type": "stream",
     "text": [
      "Copying file://./../data/Pobreza/household_poverty_sample0.02_q2011-08-15.csv [Content-Type=text/csv]...\n",
      "\\ [1 files][ 18.6 MiB/ 18.6 MiB]                                                \n",
      "Operation completed over 1 objects/18.6 MiB.                                     \n"
     ]
    },
    {
     "name": "stdout",
     "output_type": "stream",
     "text": [
      "Uploading household_poverty_sample0.02_q2011-11-15.csv to Google Cloud Storage.\n"
     ]
    },
    {
     "name": "stderr",
     "output_type": "stream",
     "text": [
      "Copying file://./../data/Pobreza/household_poverty_sample0.02_q2011-11-15.csv [Content-Type=text/csv]...\n",
      "- [1 files][ 18.6 MiB/ 18.6 MiB]                                                \n",
      "Operation completed over 1 objects/18.6 MiB.                                     \n"
     ]
    },
    {
     "name": "stdout",
     "output_type": "stream",
     "text": [
      "Uploading household_poverty_sample0.02_q2012-02-15.csv to Google Cloud Storage.\n"
     ]
    },
    {
     "name": "stderr",
     "output_type": "stream",
     "text": [
      "Copying file://./../data/Pobreza/household_poverty_sample0.02_q2012-02-15.csv [Content-Type=text/csv]...\n",
      "- [1 files][ 18.8 MiB/ 18.8 MiB]                                                \n",
      "Operation completed over 1 objects/18.8 MiB.                                     \n"
     ]
    },
    {
     "name": "stdout",
     "output_type": "stream",
     "text": [
      "Uploading household_poverty_sample0.02_q2012-05-15.csv to Google Cloud Storage.\n"
     ]
    },
    {
     "name": "stderr",
     "output_type": "stream",
     "text": [
      "Copying file://./../data/Pobreza/household_poverty_sample0.02_q2012-05-15.csv [Content-Type=text/csv]...\n",
      "- [1 files][ 18.7 MiB/ 18.7 MiB]                                                \n",
      "Operation completed over 1 objects/18.7 MiB.                                     \n"
     ]
    },
    {
     "name": "stdout",
     "output_type": "stream",
     "text": [
      "Uploading household_poverty_sample0.02_q2012-08-15.csv to Google Cloud Storage.\n"
     ]
    },
    {
     "name": "stderr",
     "output_type": "stream",
     "text": [
      "Copying file://./../data/Pobreza/household_poverty_sample0.02_q2012-08-15.csv [Content-Type=text/csv]...\n",
      "\\ [1 files][ 18.8 MiB/ 18.8 MiB]                                                \n",
      "Operation completed over 1 objects/18.8 MiB.                                     \n"
     ]
    },
    {
     "name": "stdout",
     "output_type": "stream",
     "text": [
      "Uploading household_poverty_sample0.02_q2012-11-15.csv to Google Cloud Storage.\n"
     ]
    },
    {
     "name": "stderr",
     "output_type": "stream",
     "text": [
      "Copying file://./../data/Pobreza/household_poverty_sample0.02_q2012-11-15.csv [Content-Type=text/csv]...\n",
      "- [1 files][ 18.7 MiB/ 18.7 MiB]                                                \n",
      "Operation completed over 1 objects/18.7 MiB.                                     \n"
     ]
    },
    {
     "name": "stdout",
     "output_type": "stream",
     "text": [
      "Uploading household_poverty_sample0.02_q2013-02-15.csv to Google Cloud Storage.\n"
     ]
    },
    {
     "name": "stderr",
     "output_type": "stream",
     "text": [
      "Copying file://./../data/Pobreza/household_poverty_sample0.02_q2013-02-15.csv [Content-Type=text/csv]...\n",
      "- [1 files][ 19.0 MiB/ 19.0 MiB]                                                \n",
      "Operation completed over 1 objects/19.0 MiB.                                     \n"
     ]
    },
    {
     "name": "stdout",
     "output_type": "stream",
     "text": [
      "Uploading household_poverty_sample0.02_q2013-05-15.csv to Google Cloud Storage.\n"
     ]
    },
    {
     "name": "stderr",
     "output_type": "stream",
     "text": [
      "Copying file://./../data/Pobreza/household_poverty_sample0.02_q2013-05-15.csv [Content-Type=text/csv]...\n",
      "- [1 files][ 18.9 MiB/ 18.9 MiB]                                                \n",
      "Operation completed over 1 objects/18.9 MiB.                                     \n"
     ]
    },
    {
     "name": "stdout",
     "output_type": "stream",
     "text": [
      "Uploading household_poverty_sample0.02_q2013-08-15.csv to Google Cloud Storage.\n"
     ]
    },
    {
     "name": "stderr",
     "output_type": "stream",
     "text": [
      "Copying file://./../data/Pobreza/household_poverty_sample0.02_q2013-08-15.csv [Content-Type=text/csv]...\n",
      "\\ [1 files][ 19.0 MiB/ 19.0 MiB]                                                \n",
      "Operation completed over 1 objects/19.0 MiB.                                     \n"
     ]
    },
    {
     "name": "stdout",
     "output_type": "stream",
     "text": [
      "Uploading household_poverty_sample0.02_q2013-11-15.csv to Google Cloud Storage.\n"
     ]
    },
    {
     "name": "stderr",
     "output_type": "stream",
     "text": [
      "Copying file://./../data/Pobreza/household_poverty_sample0.02_q2013-11-15.csv [Content-Type=text/csv]...\n",
      "- [1 files][ 19.0 MiB/ 19.0 MiB]                                                \n",
      "Operation completed over 1 objects/19.0 MiB.                                     \n"
     ]
    },
    {
     "name": "stdout",
     "output_type": "stream",
     "text": [
      "Uploading household_poverty_sample0.02_q2014-02-15.csv to Google Cloud Storage.\n"
     ]
    },
    {
     "name": "stderr",
     "output_type": "stream",
     "text": [
      "Copying file://./../data/Pobreza/household_poverty_sample0.02_q2014-02-15.csv [Content-Type=text/csv]...\n",
      "- [1 files][ 19.2 MiB/ 19.2 MiB]                                                \n",
      "Operation completed over 1 objects/19.2 MiB.                                     \n"
     ]
    },
    {
     "name": "stdout",
     "output_type": "stream",
     "text": [
      "Uploading household_poverty_sample0.02_q2014-05-15.csv to Google Cloud Storage.\n"
     ]
    },
    {
     "name": "stderr",
     "output_type": "stream",
     "text": [
      "Copying file://./../data/Pobreza/household_poverty_sample0.02_q2014-05-15.csv [Content-Type=text/csv]...\n",
      "- [1 files][ 19.1 MiB/ 19.1 MiB]                                                \n",
      "Operation completed over 1 objects/19.1 MiB.                                     \n"
     ]
    },
    {
     "name": "stdout",
     "output_type": "stream",
     "text": [
      "Uploading household_poverty_sample0.02_q2014-08-15.csv to Google Cloud Storage.\n"
     ]
    },
    {
     "name": "stderr",
     "output_type": "stream",
     "text": [
      "Copying file://./../data/Pobreza/household_poverty_sample0.02_q2014-08-15.csv [Content-Type=text/csv]...\n",
      "- [1 files][ 19.1 MiB/ 19.1 MiB]                                                \n",
      "Operation completed over 1 objects/19.1 MiB.                                     \n"
     ]
    },
    {
     "name": "stdout",
     "output_type": "stream",
     "text": [
      "Uploading household_poverty_sample0.02_q2014-11-15.csv to Google Cloud Storage.\n"
     ]
    },
    {
     "name": "stderr",
     "output_type": "stream",
     "text": [
      "Copying file://./../data/Pobreza/household_poverty_sample0.02_q2014-11-15.csv [Content-Type=text/csv]...\n",
      "- [1 files][ 19.1 MiB/ 19.1 MiB]                                                \n",
      "Operation completed over 1 objects/19.1 MiB.                                     \n"
     ]
    },
    {
     "name": "stdout",
     "output_type": "stream",
     "text": [
      "Uploading household_poverty_sample0.02_q2015-02-15.csv to Google Cloud Storage.\n"
     ]
    },
    {
     "name": "stderr",
     "output_type": "stream",
     "text": [
      "Copying file://./../data/Pobreza/household_poverty_sample0.02_q2015-02-15.csv [Content-Type=text/csv]...\n",
      "- [1 files][ 19.4 MiB/ 19.4 MiB]                                                \n",
      "Operation completed over 1 objects/19.4 MiB.                                     \n"
     ]
    },
    {
     "name": "stdout",
     "output_type": "stream",
     "text": [
      "Uploading household_poverty_sample0.02_q2015-05-15.csv to Google Cloud Storage.\n"
     ]
    },
    {
     "name": "stderr",
     "output_type": "stream",
     "text": [
      "Copying file://./../data/Pobreza/household_poverty_sample0.02_q2015-05-15.csv [Content-Type=text/csv]...\n",
      "/ [1 files][ 19.3 MiB/ 19.3 MiB]                                                \n",
      "Operation completed over 1 objects/19.3 MiB.                                     \n"
     ]
    },
    {
     "name": "stdout",
     "output_type": "stream",
     "text": [
      "Uploading household_poverty_sample0.02_q2015-08-15.csv to Google Cloud Storage.\n"
     ]
    },
    {
     "name": "stderr",
     "output_type": "stream",
     "text": [
      "CommandException: No URLs matched: ./../data/Pobreza/household_poverty_sample0.02_q2015-08-15.csv\n"
     ]
    },
    {
     "name": "stdout",
     "output_type": "stream",
     "text": [
      "Uploading household_poverty_sample0.02_q2015-11-15.csv to Google Cloud Storage.\n"
     ]
    },
    {
     "name": "stderr",
     "output_type": "stream",
     "text": [
      "CommandException: No URLs matched: ./../data/Pobreza/household_poverty_sample0.02_q2015-11-15.csv\n"
     ]
    },
    {
     "name": "stdout",
     "output_type": "stream",
     "text": [
      "Uploading household_poverty_sample0.02_q2016-02-15.csv to Google Cloud Storage.\n"
     ]
    },
    {
     "name": "stderr",
     "output_type": "stream",
     "text": [
      "CommandException: No URLs matched: ./../data/Pobreza/household_poverty_sample0.02_q2016-02-15.csv\n"
     ]
    },
    {
     "name": "stdout",
     "output_type": "stream",
     "text": [
      "Uploading household_poverty_sample0.02_q2016-05-15.csv to Google Cloud Storage.\n"
     ]
    },
    {
     "name": "stderr",
     "output_type": "stream",
     "text": [
      "Copying file://./../data/Pobreza/household_poverty_sample0.02_q2016-05-15.csv [Content-Type=text/csv]...\n",
      "- [1 files][ 19.5 MiB/ 19.5 MiB]                                                \n",
      "Operation completed over 1 objects/19.5 MiB.                                     \n"
     ]
    },
    {
     "name": "stdout",
     "output_type": "stream",
     "text": [
      "Uploading household_poverty_sample0.02_q2016-08-15.csv to Google Cloud Storage.\n"
     ]
    },
    {
     "name": "stderr",
     "output_type": "stream",
     "text": [
      "Copying file://./../data/Pobreza/household_poverty_sample0.02_q2016-08-15.csv [Content-Type=text/csv]...\n",
      "- [1 files][ 19.5 MiB/ 19.5 MiB]                                                \n",
      "Operation completed over 1 objects/19.5 MiB.                                     \n"
     ]
    },
    {
     "name": "stdout",
     "output_type": "stream",
     "text": [
      "Uploading household_poverty_sample0.02_q2016-11-15.csv to Google Cloud Storage.\n"
     ]
    },
    {
     "name": "stderr",
     "output_type": "stream",
     "text": [
      "Copying file://./../data/Pobreza/household_poverty_sample0.02_q2016-11-15.csv [Content-Type=text/csv]...\n",
      "- [1 files][ 19.5 MiB/ 19.5 MiB]                                                \n",
      "Operation completed over 1 objects/19.5 MiB.                                     \n"
     ]
    },
    {
     "name": "stdout",
     "output_type": "stream",
     "text": [
      "Uploading household_poverty_sample0.02_q2017-02-15.csv to Google Cloud Storage.\n"
     ]
    },
    {
     "name": "stderr",
     "output_type": "stream",
     "text": [
      "Copying file://./../data/Pobreza/household_poverty_sample0.02_q2017-02-15.csv [Content-Type=text/csv]...\n",
      "- [1 files][ 19.7 MiB/ 19.7 MiB]                                                \n",
      "Operation completed over 1 objects/19.7 MiB.                                     \n"
     ]
    },
    {
     "name": "stdout",
     "output_type": "stream",
     "text": [
      "Uploading household_poverty_sample0.02_q2017-05-15.csv to Google Cloud Storage.\n"
     ]
    },
    {
     "name": "stderr",
     "output_type": "stream",
     "text": [
      "Copying file://./../data/Pobreza/household_poverty_sample0.02_q2017-05-15.csv [Content-Type=text/csv]...\n",
      "- [1 files][ 19.7 MiB/ 19.7 MiB]                                                \n",
      "Operation completed over 1 objects/19.7 MiB.                                     \n"
     ]
    },
    {
     "name": "stdout",
     "output_type": "stream",
     "text": [
      "Uploading household_poverty_sample0.02_q2017-08-15.csv to Google Cloud Storage.\n"
     ]
    },
    {
     "name": "stderr",
     "output_type": "stream",
     "text": [
      "Copying file://./../data/Pobreza/household_poverty_sample0.02_q2017-08-15.csv [Content-Type=text/csv]...\n",
      "\\ [1 files][ 19.7 MiB/ 19.7 MiB]                                                \n",
      "Operation completed over 1 objects/19.7 MiB.                                     \n"
     ]
    },
    {
     "name": "stdout",
     "output_type": "stream",
     "text": [
      "Uploading household_poverty_sample0.02_q2017-11-15.csv to Google Cloud Storage.\n"
     ]
    },
    {
     "name": "stderr",
     "output_type": "stream",
     "text": [
      "Copying file://./../data/Pobreza/household_poverty_sample0.02_q2017-11-15.csv [Content-Type=text/csv]...\n",
      "| [1 files][ 19.7 MiB/ 19.7 MiB]                                                \n",
      "Operation completed over 1 objects/19.7 MiB.                                     \n"
     ]
    },
    {
     "name": "stdout",
     "output_type": "stream",
     "text": [
      "Uploading household_poverty_sample0.02_q2018-02-15.csv to Google Cloud Storage.\n"
     ]
    },
    {
     "name": "stderr",
     "output_type": "stream",
     "text": [
      "Copying file://./../data/Pobreza/household_poverty_sample0.02_q2018-02-15.csv [Content-Type=text/csv]...\n",
      "- [1 files][ 19.9 MiB/ 19.9 MiB]                                                \n",
      "Operation completed over 1 objects/19.9 MiB.                                     \n"
     ]
    },
    {
     "name": "stdout",
     "output_type": "stream",
     "text": [
      "Uploading household_poverty_sample0.02_q2018-05-15.csv to Google Cloud Storage.\n"
     ]
    },
    {
     "name": "stderr",
     "output_type": "stream",
     "text": [
      "Copying file://./../data/Pobreza/household_poverty_sample0.02_q2018-05-15.csv [Content-Type=text/csv]...\n",
      "\\ [1 files][ 19.9 MiB/ 19.9 MiB]                                                \n",
      "Operation completed over 1 objects/19.9 MiB.                                     \n"
     ]
    },
    {
     "name": "stdout",
     "output_type": "stream",
     "text": [
      "Uploading household_poverty_sample0.02_q2018-08-15.csv to Google Cloud Storage.\n"
     ]
    },
    {
     "name": "stderr",
     "output_type": "stream",
     "text": [
      "Copying file://./../data/Pobreza/household_poverty_sample0.02_q2018-08-15.csv [Content-Type=text/csv]...\n",
      "- [1 files][ 19.9 MiB/ 19.9 MiB]                                                \n",
      "Operation completed over 1 objects/19.9 MiB.                                     \n"
     ]
    },
    {
     "name": "stdout",
     "output_type": "stream",
     "text": [
      "Uploading household_poverty_sample0.02_q2018-11-15.csv to Google Cloud Storage.\n"
     ]
    },
    {
     "name": "stderr",
     "output_type": "stream",
     "text": [
      "Copying file://./../data/Pobreza/household_poverty_sample0.02_q2018-11-15.csv [Content-Type=text/csv]...\n",
      "- [1 files][ 19.8 MiB/ 19.8 MiB]                                                \n",
      "Operation completed over 1 objects/19.8 MiB.                                     \n"
     ]
    },
    {
     "name": "stdout",
     "output_type": "stream",
     "text": [
      "Uploading household_poverty_sample0.02_q2019-02-15.csv to Google Cloud Storage.\n"
     ]
    },
    {
     "name": "stderr",
     "output_type": "stream",
     "text": [
      "Copying file://./../data/Pobreza/household_poverty_sample0.02_q2019-02-15.csv [Content-Type=text/csv]...\n",
      "- [1 files][ 20.1 MiB/ 20.1 MiB]                                                \n",
      "Operation completed over 1 objects/20.1 MiB.                                     \n"
     ]
    },
    {
     "name": "stdout",
     "output_type": "stream",
     "text": [
      "Uploading household_poverty_sample0.02_q2019-05-15.csv to Google Cloud Storage.\n"
     ]
    },
    {
     "name": "stderr",
     "output_type": "stream",
     "text": [
      "Copying file://./../data/Pobreza/household_poverty_sample0.02_q2019-05-15.csv [Content-Type=text/csv]...\n",
      "\\ [1 files][ 20.0 MiB/ 20.0 MiB]                                                \n",
      "Operation completed over 1 objects/20.0 MiB.                                     \n"
     ]
    },
    {
     "name": "stdout",
     "output_type": "stream",
     "text": [
      "Uploading household_poverty_sample0.02_q2019-08-15.csv to Google Cloud Storage.\n"
     ]
    },
    {
     "name": "stderr",
     "output_type": "stream",
     "text": [
      "Copying file://./../data/Pobreza/household_poverty_sample0.02_q2019-08-15.csv [Content-Type=text/csv]...\n",
      "- [1 files][ 20.0 MiB/ 20.0 MiB]                                                \n",
      "Operation completed over 1 objects/20.0 MiB.                                     \n"
     ]
    },
    {
     "name": "stdout",
     "output_type": "stream",
     "text": [
      "Uploading household_poverty_sample0.02_q2019-11-15.csv to Google Cloud Storage.\n"
     ]
    },
    {
     "name": "stderr",
     "output_type": "stream",
     "text": [
      "Copying file://./../data/Pobreza/household_poverty_sample0.02_q2019-11-15.csv [Content-Type=text/csv]...\n",
      "\\ [1 files][ 20.0 MiB/ 20.0 MiB]                                                \n",
      "Operation completed over 1 objects/20.0 MiB.                                     \n"
     ]
    },
    {
     "name": "stdout",
     "output_type": "stream",
     "text": [
      "Uploading household_poverty_sample0.02_q2020-02-15.csv to Google Cloud Storage.\n"
     ]
    },
    {
     "name": "stderr",
     "output_type": "stream",
     "text": [
      "Copying file://./../data/Pobreza/household_poverty_sample0.02_q2020-02-15.csv [Content-Type=text/csv]...\n",
      "- [1 files][ 20.3 MiB/ 20.3 MiB]                                                \n",
      "Operation completed over 1 objects/20.3 MiB.                                     \n"
     ]
    },
    {
     "name": "stdout",
     "output_type": "stream",
     "text": [
      "Uploading household_poverty_sample0.02_q2020-05-15.csv to Google Cloud Storage.\n"
     ]
    },
    {
     "name": "stderr",
     "output_type": "stream",
     "text": [
      "Copying file://./../data/Pobreza/household_poverty_sample0.02_q2020-05-15.csv [Content-Type=text/csv]...\n",
      "- [1 files][ 20.2 MiB/ 20.2 MiB]                                                \n",
      "Operation completed over 1 objects/20.2 MiB.                                     \n"
     ]
    },
    {
     "name": "stdout",
     "output_type": "stream",
     "text": [
      "Uploading household_poverty_sample0.02_q2020-08-15.csv to Google Cloud Storage.\n"
     ]
    },
    {
     "name": "stderr",
     "output_type": "stream",
     "text": [
      "Copying file://./../data/Pobreza/household_poverty_sample0.02_q2020-08-15.csv [Content-Type=text/csv]...\n",
      "- [1 files][ 20.2 MiB/ 20.2 MiB]                                                \n",
      "Operation completed over 1 objects/20.2 MiB.                                     \n"
     ]
    },
    {
     "name": "stdout",
     "output_type": "stream",
     "text": [
      "Uploading household_poverty_sample0.02_q2020-11-15.csv to Google Cloud Storage.\n"
     ]
    },
    {
     "name": "stderr",
     "output_type": "stream",
     "text": [
      "Copying file://./../data/Pobreza/household_poverty_sample0.02_q2020-11-15.csv [Content-Type=text/csv]...\n",
      "- [1 files][ 20.2 MiB/ 20.2 MiB]                                                \n",
      "Operation completed over 1 objects/20.2 MiB.                                     \n"
     ]
    },
    {
     "name": "stdout",
     "output_type": "stream",
     "text": [
      "Uploading household_poverty_sample0.02_q2021-02-15.csv to Google Cloud Storage.\n"
     ]
    },
    {
     "name": "stderr",
     "output_type": "stream",
     "text": [
      "Copying file://./../data/Pobreza/household_poverty_sample0.02_q2021-02-15.csv [Content-Type=text/csv]...\n",
      "- [1 files][ 20.4 MiB/ 20.4 MiB]                                                \n",
      "Operation completed over 1 objects/20.4 MiB.                                     \n"
     ]
    },
    {
     "name": "stdout",
     "output_type": "stream",
     "text": [
      "Uploading household_poverty_sample0.02_q2021-05-15.csv to Google Cloud Storage.\n"
     ]
    },
    {
     "name": "stderr",
     "output_type": "stream",
     "text": [
      "Copying file://./../data/Pobreza/household_poverty_sample0.02_q2021-05-15.csv [Content-Type=text/csv]...\n",
      "- [1 files][ 20.3 MiB/ 20.3 MiB]                                                \n",
      "Operation completed over 1 objects/20.3 MiB.                                     \n"
     ]
    },
    {
     "name": "stdout",
     "output_type": "stream",
     "text": [
      "Uploading household_poverty_sample0.02_q2021-08-15.csv to Google Cloud Storage.\n"
     ]
    },
    {
     "name": "stderr",
     "output_type": "stream",
     "text": [
      "Copying file://./../data/Pobreza/household_poverty_sample0.02_q2021-08-15.csv [Content-Type=text/csv]...\n",
      "- [1 files][ 20.4 MiB/ 20.4 MiB]                                                \n",
      "Operation completed over 1 objects/20.4 MiB.                                     \n"
     ]
    },
    {
     "name": "stdout",
     "output_type": "stream",
     "text": [
      "Uploading household_poverty_sample0.02_q2021-11-15.csv to Google Cloud Storage.\n"
     ]
    },
    {
     "name": "stderr",
     "output_type": "stream",
     "text": [
      "Copying file://./../data/Pobreza/household_poverty_sample0.02_q2021-11-15.csv [Content-Type=text/csv]...\n",
      "| [1 files][ 20.3 MiB/ 20.3 MiB]                                                \n",
      "Operation completed over 1 objects/20.3 MiB.                                     \n"
     ]
    },
    {
     "name": "stdout",
     "output_type": "stream",
     "text": [
      "Uploading household_poverty_sample0.02_q2022-02-15.csv to Google Cloud Storage.\n"
     ]
    },
    {
     "name": "stderr",
     "output_type": "stream",
     "text": [
      "Copying file://./../data/Pobreza/household_poverty_sample0.02_q2022-02-15.csv [Content-Type=text/csv]...\n",
      "- [1 files][ 20.6 MiB/ 20.6 MiB]                                                \n",
      "Operation completed over 1 objects/20.6 MiB.                                     \n"
     ]
    },
    {
     "name": "stdout",
     "output_type": "stream",
     "text": [
      "Uploading household_poverty_sample0.02_q2022-05-15.csv to Google Cloud Storage.\n"
     ]
    },
    {
     "name": "stderr",
     "output_type": "stream",
     "text": [
      "Copying file://./../data/Pobreza/household_poverty_sample0.02_q2022-05-15.csv [Content-Type=text/csv]...\n",
      "- [1 files][ 20.5 MiB/ 20.5 MiB]                                                \n",
      "Operation completed over 1 objects/20.5 MiB.                                     \n"
     ]
    },
    {
     "name": "stdout",
     "output_type": "stream",
     "text": [
      "Uploading household_poverty_sample0.02_q2022-08-15.csv to Google Cloud Storage.\n"
     ]
    },
    {
     "name": "stderr",
     "output_type": "stream",
     "text": [
      "Copying file://./../data/Pobreza/household_poverty_sample0.02_q2022-08-15.csv [Content-Type=text/csv]...\n",
      "- [1 files][ 20.6 MiB/ 20.6 MiB]                                                \n",
      "Operation completed over 1 objects/20.6 MiB.                                     \n"
     ]
    },
    {
     "name": "stdout",
     "output_type": "stream",
     "text": [
      "Uploading household_poverty_sample0.02_q2022-11-15.csv to Google Cloud Storage.\n"
     ]
    },
    {
     "name": "stderr",
     "output_type": "stream",
     "text": [
      "Copying file://./../data/Pobreza/household_poverty_sample0.02_q2022-11-15.csv [Content-Type=text/csv]...\n",
      "| [1 files][ 20.5 MiB/ 20.5 MiB]                                                \n",
      "Operation completed over 1 objects/20.5 MiB.                                     \n"
     ]
    }
   ],
   "source": [
    "filenames = pobreza_hogares_filenames\n",
    "\n",
    "# Subir archivos a Google Cloud\n",
    "os.system(\"gcloud config set project argentinian-poverty-atlas\")\n",
    "BUCKET_NAME = \"argentinian-poverty-atlas-downloads\"\n",
    "\n",
    "\n",
    "# Loop through the filenames to upload\n",
    "for filename in filenames:\n",
    "    local_path = f\"{path}{filename}\"\n",
    "    cloud_path = f\"gs://{BUCKET_NAME}/{filename}\"\n",
    "    \n",
    "    # Check if the file already exists in the cloud\n",
    "    result = subprocess.run(['gsutil', '-q', 'stat', cloud_path], stdout=subprocess.PIPE, stderr=subprocess.PIPE)\n",
    "    if result.returncode == 0:\n",
    "        print(f\"File {filename} already exists in the bucket. Skipping upload.\")\n",
    "    else:\n",
    "        print(f\"Uploading {filename} to Google Cloud Storage.\")\n",
    "        os.system(f\"gsutil cp {local_path} {cloud_path}\")"
   ]
  },
  {
   "cell_type": "code",
   "execution_count": 34,
   "metadata": {},
   "outputs": [
    {
     "name": "stderr",
     "output_type": "stream",
     "text": [
      "WARNING: Your active project does not match the quota project in your local Application Default Credentials file. This might result in unexpected quota issues.\n",
      "\n",
      "To update your Application Default Credentials quota project, use the `gcloud auth application-default set-quota-project` command.\n",
      "WARNING: You do not appear to have access to project [argentinian-poverty-atlas] or it does not exist.\n",
      "Updated property [core/project].\n"
     ]
    },
    {
     "name": "stdout",
     "output_type": "stream",
     "text": [
      "File stats_P_Q-DPTO_sample0.02.csv already exists in the bucket. Skipping upload.\n",
      "File stats_Hp_Q-AGLOMERADO_sample0.02.csv already exists in the bucket. Skipping upload.\n",
      "File stats_Hi_Q-Total_sample0.02.csv already exists in the bucket. Skipping upload.\n",
      "File stats_Hp_Q-AGLOSI_sample0.02.csv already exists in the bucket. Skipping upload.\n",
      "File stats_P_Q-AGLOSI_sample0.02.csv already exists in the bucket. Skipping upload.\n",
      "File stats_PAGLO_Q-AGLOSI_sample0.02.csv already exists in the bucket. Skipping upload.\n",
      "File stats_Hi_Q-PROV-AGLOSI_sample0.02.csv already exists in the bucket. Skipping upload.\n",
      "File stats_Hp_Q-PROV-AGLOSI_sample0.02.csv already exists in the bucket. Skipping upload.\n",
      "File stats_M24_Q-AGLOSI_sample0.02.csv already exists in the bucket. Skipping upload.\n",
      "File stats_Hi_Q-PROV_sample0.02.csv already exists in the bucket. Skipping upload.\n",
      "File stats_H_Q-AGLOMERADO_sample0.02.csv already exists in the bucket. Skipping upload.\n",
      "File stats_Hp_Q-PROV_sample0.02.csv already exists in the bucket. Skipping upload.\n",
      "File stats_Hi_Q-AGLOSI_sample0.02.csv already exists in the bucket. Skipping upload.\n",
      "File stats_P_Q-PROV_sample0.02.csv already exists in the bucket. Skipping upload.\n",
      "File stats_P_Q-Region-AGLOSI_sample0.02.csv already exists in the bucket. Skipping upload.\n",
      "File stats_Hi_Q-AGLOMERADO_sample0.02.csv already exists in the bucket. Skipping upload.\n",
      "File stats_M24_Q-DPTO_sample0.02.csv already exists in the bucket. Skipping upload.\n",
      "File stats_Hi_Q-Region_sample0.02.csv already exists in the bucket. Skipping upload.\n",
      "File stats_H_Q-Region-AGLOSI_sample0.02.csv already exists in the bucket. Skipping upload.\n",
      "File stats_P_Q-PROV-AGLOSI_sample0.02.csv already exists in the bucket. Skipping upload.\n",
      "File stats_P_Q-Total_sample0.02.csv already exists in the bucket. Skipping upload.\n",
      "File stats_PAGLO_Q-Region-AGLOSI_sample0.02.csv already exists in the bucket. Skipping upload.\n",
      "File stats_M24_Q-P0910_sample0.02.csv already exists in the bucket. Skipping upload.\n",
      "File stats_M24_Q-Total_sample0.02.csv already exists in the bucket. Skipping upload.\n",
      "File stats_Hp_Q-Region-AGLOSI_sample0.02.csv already exists in the bucket. Skipping upload.\n",
      "File stats_Hp_Q-Total_sample0.02.csv already exists in the bucket. Skipping upload.\n",
      "File stats_H_Q-Region_sample0.02.csv already exists in the bucket. Skipping upload.\n",
      "File stats_PAGLO_Q-P0910_sample0.02.csv already exists in the bucket. Skipping upload.\n",
      "File stats_PAGLO_Q-PROV_sample0.02.csv already exists in the bucket. Skipping upload.\n",
      "File stats_H_Q-PROV-AGLOSI_sample0.02.csv already exists in the bucket. Skipping upload.\n",
      "File stats_PAGLO_Q-Region_sample0.02.csv already exists in the bucket. Skipping upload.\n",
      "File stats_H_Q-DPTO_sample0.02.csv already exists in the bucket. Skipping upload.\n",
      "File stats_PAGLO_Q-PROV-AGLOSI_sample0.02.csv already exists in the bucket. Skipping upload.\n",
      "File stats_M24_Q-PROV_sample0.02.csv already exists in the bucket. Skipping upload.\n",
      "File stats_P_Q-Region_sample0.02.csv already exists in the bucket. Skipping upload.\n",
      "File stats_M24_Q-AGLOMERADO_sample0.02.csv already exists in the bucket. Skipping upload.\n",
      "File stats_Hi_Q-Region-AGLOSI_sample0.02.csv already exists in the bucket. Skipping upload.\n",
      "File stats_M24_Q-PROV-AGLOSI_sample0.02.csv already exists in the bucket. Skipping upload.\n",
      "File stats_Hp_Q-DPTO_sample0.02.csv already exists in the bucket. Skipping upload.\n",
      "File stats_H_Q-PROV_sample0.02.csv already exists in the bucket. Skipping upload.\n",
      "File stats_M24_Q-Region_sample0.02.csv already exists in the bucket. Skipping upload.\n",
      "File stats_M24_Q-Region-AGLOSI_sample0.02.csv already exists in the bucket. Skipping upload.\n",
      "File stats_Hi_Q-DPTO_sample0.02.csv already exists in the bucket. Skipping upload.\n",
      "File stats_PAGLO_Q-Total_sample0.02.csv already exists in the bucket. Skipping upload.\n",
      "File stats_P_Q-P0910_sample0.02.csv already exists in the bucket. Skipping upload.\n",
      "File stats_Hp_Q-Region_sample0.02.csv already exists in the bucket. Skipping upload.\n",
      "File stats_PAGLO_Q-AGLOMERADO_sample0.02.csv already exists in the bucket. Skipping upload.\n",
      "File stats_PAGLO_Q-DPTO_sample0.02.csv already exists in the bucket. Skipping upload.\n",
      "File stats_H_Q-Total_sample0.02.csv already exists in the bucket. Skipping upload.\n",
      "File stats_H_Q-AGLOSI_sample0.02.csv already exists in the bucket. Skipping upload.\n",
      "File stats_P_Q-AGLOMERADO_sample0.02.csv already exists in the bucket. Skipping upload.\n"
     ]
    }
   ],
   "source": [
    "import os\n",
    "import subprocess\n",
    "import glob\n",
    "\n",
    "# Set the path to the results directory\n",
    "results_path = './../data/results/'\n",
    "\n",
    "# List all files in the results directory that match the pattern\n",
    "filenames = glob.glob(f\"{results_path}/stats_*sample0.02.csv\")\n",
    "\n",
    "# Set the Google Cloud project and bucket name\n",
    "os.system(\"gcloud config set project argentinian-poverty-atlas\")\n",
    "BUCKET_NAME = \"argentinian-poverty-atlas-downloads\"\n",
    "\n",
    "# Loop through the filenames to upload\n",
    "for local_path in filenames:\n",
    "    filename = os.path.basename(local_path)\n",
    "    cloud_path = f\"gs://{BUCKET_NAME}/{filename}\"\n",
    "    \n",
    "    # Check if the file already exists in the cloud\n",
    "    result = subprocess.run(['gsutil', '-q', 'stat', cloud_path], stdout=subprocess.PIPE, stderr=subprocess.PIPE)\n",
    "    if result.returncode == 0:\n",
    "        print(f\"File {filename} already exists in the bucket. Skipping upload.\")\n",
    "    else:\n",
    "        print(f\"Uploading {filename} to Google Cloud Storage.\")\n",
    "        os.system(f\"gsutil cp '{local_path}' '{cloud_path}'\")\n"
   ]
  },
  {
   "cell_type": "code",
   "execution_count": null,
   "metadata": {},
   "outputs": [],
   "source": []
  },
  {
   "cell_type": "code",
   "execution_count": null,
   "metadata": {},
   "outputs": [],
   "source": []
  },
  {
   "cell_type": "code",
   "execution_count": 17,
   "metadata": {},
   "outputs": [
    {
     "ename": "NameError",
     "evalue": "name 'xx' is not defined",
     "output_type": "error",
     "traceback": [
      "\u001b[0;31m---------------------------------------------------------------------------\u001b[0m",
      "\u001b[0;31mNameError\u001b[0m                                 Traceback (most recent call last)",
      "\u001b[1;32m/home/matias/repos/indice-pobreza-UBA/notebooks/9. Administracion Bases de Datos.ipynb Cell 26\u001b[0m line \u001b[0;36m1\n\u001b[0;32m----> <a href='vscode-notebook-cell:/home/matias/repos/indice-pobreza-UBA/notebooks/9.%20Administracion%20Bases%20de%20Datos.ipynb#X41sZmlsZQ%3D%3D?line=0'>1</a>\u001b[0m xx\n",
      "\u001b[0;31mNameError\u001b[0m: name 'xx' is not defined"
     ]
    }
   ],
   "source": [
    "xx"
   ]
  },
  {
   "cell_type": "code",
   "execution_count": null,
   "metadata": {},
   "outputs": [],
   "source": [
    "df = hogares_geo_df\n",
    "\n",
    "# Generar tabla en HTML\n",
    "html_table = df.to_html()\n",
    "with open(\"tabla_results.html\", \"w\") as f:\n",
    "    f.write(html_table)"
   ]
  },
  {
   "cell_type": "code",
   "execution_count": null,
   "metadata": {},
   "outputs": [
    {
     "data": {
      "text/plain": [
       "'gs://argentinian-poverty-atlas-downloads//geo_households_sample0.02_2019_ARG.csv'"
      ]
     },
     "execution_count": 52,
     "metadata": {},
     "output_type": "execute_result"
    }
   ],
   "source": [
    "cloud_path"
   ]
  },
  {
   "cell_type": "code",
   "execution_count": null,
   "metadata": {},
   "outputs": [],
   "source": [
    "pd.read_csv('./../data/Pobreza/geo_households_sample0.02_2016_ARG.csv')"
   ]
  }
 ],
 "metadata": {
  "kernelspec": {
   "display_name": "base2",
   "language": "python",
   "name": "python3"
  },
  "language_info": {
   "codemirror_mode": {
    "name": "ipython",
    "version": 3
   },
   "file_extension": ".py",
   "mimetype": "text/x-python",
   "name": "python",
   "nbconvert_exporter": "python",
   "pygments_lexer": "ipython3",
   "version": "3.11.3"
  }
 },
 "nbformat": 4,
 "nbformat_minor": 2
}
